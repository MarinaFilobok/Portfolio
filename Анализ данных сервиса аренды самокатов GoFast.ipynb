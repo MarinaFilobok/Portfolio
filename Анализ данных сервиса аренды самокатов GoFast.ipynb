{
 "cells": [
  {
   "cell_type": "markdown",
   "id": "156659d3",
   "metadata": {},
   "source": [
    "# Анализ данных сервиса аренды самокатов GoFast."
   ]
  },
  {
   "cell_type": "markdown",
   "id": "f813c3fb",
   "metadata": {},
   "source": [
    "В вашем распоряжении данные сервиса аренды самокатов GoFast. Нам предоставленны данные о пользователях сервиса аренды самокатов из нескольких городов, а также информация об их поездках. Кроме того, у нас есть файл рассказывающий о двух видах использования сервиса: с подпиской и без. Подписка стоит 199 рублей в месяц, за это пользователь получает бесплатный старт и 6 рублей за минуту поездки. Без подписки пользователю придется заплатить за старт поездки 50 рублей и 8 рубдей за каждую потраченную на поездку минуту. \n",
    "\n",
    "Цель нашего проекта проанализировать данные о пользователях сервиса аренды самокатов и о их поездках для того чтобы выявить есть ли влияние подписки на длительность поездки. Более того, в нашем проекте будут проверены гипотезы, которые помогут улучшить сервис аренды самокатов. (Пользователи с подпиской больше времени на поездки; Расстояние, которое проезжают пользователи с подпиской за одну поездку, не превышает \n",
    "3130 метров; Помесячная выручка от пользователей с подпиской по месяцам выше, чем выручка от пользователей без подписки.)\n",
    "\n",
    "Наша работа будет состоять из 7 шагов:\n",
    "1. Загрузка данных\n",
    "2. Предобработка данных\n",
    "3. Исследовательский анализ данных\n",
    "4. Объединение данных\n",
    "5. Подсчёт выручки\n",
    "6. Проверка гипотез\n",
    "7. Вывод\n",
    "\n",
    "В итоге работы мы получим информацию о том, влияет ли подписка на длину поездки или нет. Также мы подтвердим или опровергнем наши гипотезы. "
   ]
  },
  {
   "cell_type": "code",
   "execution_count": 1,
   "id": "477802b8",
   "metadata": {},
   "outputs": [],
   "source": [
    "#Импортируем все необходимые библиотеки и откроем файл.\n",
    "import warnings\n",
    "warnings.filterwarnings('ignore')\n",
    "from scipy import stats as st\n",
    "import datetime\n",
    "import pandas as pd\n",
    "import matplotlib.pyplot as plt\n",
    "import numpy as np"
   ]
  },
  {
   "cell_type": "markdown",
   "id": "f646f100",
   "metadata": {},
   "source": [
    "#### Шаг 1. Загрузка данных"
   ]
  },
  {
   "cell_type": "code",
   "execution_count": 2,
   "id": "4eb18abe",
   "metadata": {},
   "outputs": [
    {
     "ename": "FileNotFoundError",
     "evalue": "[Errno 2] No such file or directory: '/datasets/users_go.csv'",
     "output_type": "error",
     "traceback": [
      "\u001b[0;31m---------------------------------------------------------------------------\u001b[0m",
      "\u001b[0;31mFileNotFoundError\u001b[0m                         Traceback (most recent call last)",
      "Cell \u001b[0;32mIn[2], line 3\u001b[0m\n\u001b[1;32m      2\u001b[0m \u001b[38;5;28;01mtry\u001b[39;00m:\n\u001b[0;32m----> 3\u001b[0m     users \u001b[38;5;241m=\u001b[39m \u001b[43mpd\u001b[49m\u001b[38;5;241;43m.\u001b[39;49m\u001b[43mread_csv\u001b[49m\u001b[43m(\u001b[49m\u001b[38;5;124;43m'\u001b[39;49m\u001b[38;5;124;43musers_go.csv\u001b[39;49m\u001b[38;5;124;43m'\u001b[39;49m\u001b[43m,\u001b[49m\u001b[43m \u001b[49m\u001b[43msep\u001b[49m\u001b[38;5;241;43m=\u001b[39;49m\u001b[38;5;124;43m'\u001b[39;49m\u001b[38;5;124;43m,\u001b[39;49m\u001b[38;5;124;43m'\u001b[39;49m\u001b[43m)\u001b[49m\n\u001b[1;32m      4\u001b[0m     rides \u001b[38;5;241m=\u001b[39m pd\u001b[38;5;241m.\u001b[39mread_csv(\u001b[38;5;124m'\u001b[39m\u001b[38;5;124mrides_go.csv\u001b[39m\u001b[38;5;124m'\u001b[39m, sep\u001b[38;5;241m=\u001b[39m\u001b[38;5;124m'\u001b[39m\u001b[38;5;124m,\u001b[39m\u001b[38;5;124m'\u001b[39m)\n",
      "File \u001b[0;32m~/anaconda3/lib/python3.10/site-packages/pandas/util/_decorators.py:211\u001b[0m, in \u001b[0;36mdeprecate_kwarg.<locals>._deprecate_kwarg.<locals>.wrapper\u001b[0;34m(*args, **kwargs)\u001b[0m\n\u001b[1;32m    210\u001b[0m         kwargs[new_arg_name] \u001b[38;5;241m=\u001b[39m new_arg_value\n\u001b[0;32m--> 211\u001b[0m \u001b[38;5;28;01mreturn\u001b[39;00m \u001b[43mfunc\u001b[49m\u001b[43m(\u001b[49m\u001b[38;5;241;43m*\u001b[39;49m\u001b[43margs\u001b[49m\u001b[43m,\u001b[49m\u001b[43m \u001b[49m\u001b[38;5;241;43m*\u001b[39;49m\u001b[38;5;241;43m*\u001b[39;49m\u001b[43mkwargs\u001b[49m\u001b[43m)\u001b[49m\n",
      "File \u001b[0;32m~/anaconda3/lib/python3.10/site-packages/pandas/util/_decorators.py:331\u001b[0m, in \u001b[0;36mdeprecate_nonkeyword_arguments.<locals>.decorate.<locals>.wrapper\u001b[0;34m(*args, **kwargs)\u001b[0m\n\u001b[1;32m    326\u001b[0m     warnings\u001b[38;5;241m.\u001b[39mwarn(\n\u001b[1;32m    327\u001b[0m         msg\u001b[38;5;241m.\u001b[39mformat(arguments\u001b[38;5;241m=\u001b[39m_format_argument_list(allow_args)),\n\u001b[1;32m    328\u001b[0m         \u001b[38;5;167;01mFutureWarning\u001b[39;00m,\n\u001b[1;32m    329\u001b[0m         stacklevel\u001b[38;5;241m=\u001b[39mfind_stack_level(),\n\u001b[1;32m    330\u001b[0m     )\n\u001b[0;32m--> 331\u001b[0m \u001b[38;5;28;01mreturn\u001b[39;00m \u001b[43mfunc\u001b[49m\u001b[43m(\u001b[49m\u001b[38;5;241;43m*\u001b[39;49m\u001b[43margs\u001b[49m\u001b[43m,\u001b[49m\u001b[43m \u001b[49m\u001b[38;5;241;43m*\u001b[39;49m\u001b[38;5;241;43m*\u001b[39;49m\u001b[43mkwargs\u001b[49m\u001b[43m)\u001b[49m\n",
      "File \u001b[0;32m~/anaconda3/lib/python3.10/site-packages/pandas/io/parsers/readers.py:950\u001b[0m, in \u001b[0;36mread_csv\u001b[0;34m(filepath_or_buffer, sep, delimiter, header, names, index_col, usecols, squeeze, prefix, mangle_dupe_cols, dtype, engine, converters, true_values, false_values, skipinitialspace, skiprows, skipfooter, nrows, na_values, keep_default_na, na_filter, verbose, skip_blank_lines, parse_dates, infer_datetime_format, keep_date_col, date_parser, dayfirst, cache_dates, iterator, chunksize, compression, thousands, decimal, lineterminator, quotechar, quoting, doublequote, escapechar, comment, encoding, encoding_errors, dialect, error_bad_lines, warn_bad_lines, on_bad_lines, delim_whitespace, low_memory, memory_map, float_precision, storage_options)\u001b[0m\n\u001b[1;32m    948\u001b[0m kwds\u001b[38;5;241m.\u001b[39mupdate(kwds_defaults)\n\u001b[0;32m--> 950\u001b[0m \u001b[38;5;28;01mreturn\u001b[39;00m \u001b[43m_read\u001b[49m\u001b[43m(\u001b[49m\u001b[43mfilepath_or_buffer\u001b[49m\u001b[43m,\u001b[49m\u001b[43m \u001b[49m\u001b[43mkwds\u001b[49m\u001b[43m)\u001b[49m\n",
      "File \u001b[0;32m~/anaconda3/lib/python3.10/site-packages/pandas/io/parsers/readers.py:605\u001b[0m, in \u001b[0;36m_read\u001b[0;34m(filepath_or_buffer, kwds)\u001b[0m\n\u001b[1;32m    604\u001b[0m \u001b[38;5;66;03m# Create the parser.\u001b[39;00m\n\u001b[0;32m--> 605\u001b[0m parser \u001b[38;5;241m=\u001b[39m \u001b[43mTextFileReader\u001b[49m\u001b[43m(\u001b[49m\u001b[43mfilepath_or_buffer\u001b[49m\u001b[43m,\u001b[49m\u001b[43m \u001b[49m\u001b[38;5;241;43m*\u001b[39;49m\u001b[38;5;241;43m*\u001b[39;49m\u001b[43mkwds\u001b[49m\u001b[43m)\u001b[49m\n\u001b[1;32m    607\u001b[0m \u001b[38;5;28;01mif\u001b[39;00m chunksize \u001b[38;5;129;01mor\u001b[39;00m iterator:\n",
      "File \u001b[0;32m~/anaconda3/lib/python3.10/site-packages/pandas/io/parsers/readers.py:1442\u001b[0m, in \u001b[0;36mTextFileReader.__init__\u001b[0;34m(self, f, engine, **kwds)\u001b[0m\n\u001b[1;32m   1441\u001b[0m \u001b[38;5;28mself\u001b[39m\u001b[38;5;241m.\u001b[39mhandles: IOHandles \u001b[38;5;241m|\u001b[39m \u001b[38;5;28;01mNone\u001b[39;00m \u001b[38;5;241m=\u001b[39m \u001b[38;5;28;01mNone\u001b[39;00m\n\u001b[0;32m-> 1442\u001b[0m \u001b[38;5;28mself\u001b[39m\u001b[38;5;241m.\u001b[39m_engine \u001b[38;5;241m=\u001b[39m \u001b[38;5;28;43mself\u001b[39;49m\u001b[38;5;241;43m.\u001b[39;49m\u001b[43m_make_engine\u001b[49m\u001b[43m(\u001b[49m\u001b[43mf\u001b[49m\u001b[43m,\u001b[49m\u001b[43m \u001b[49m\u001b[38;5;28;43mself\u001b[39;49m\u001b[38;5;241;43m.\u001b[39;49m\u001b[43mengine\u001b[49m\u001b[43m)\u001b[49m\n",
      "File \u001b[0;32m~/anaconda3/lib/python3.10/site-packages/pandas/io/parsers/readers.py:1735\u001b[0m, in \u001b[0;36mTextFileReader._make_engine\u001b[0;34m(self, f, engine)\u001b[0m\n\u001b[1;32m   1734\u001b[0m         mode \u001b[38;5;241m+\u001b[39m\u001b[38;5;241m=\u001b[39m \u001b[38;5;124m\"\u001b[39m\u001b[38;5;124mb\u001b[39m\u001b[38;5;124m\"\u001b[39m\n\u001b[0;32m-> 1735\u001b[0m \u001b[38;5;28mself\u001b[39m\u001b[38;5;241m.\u001b[39mhandles \u001b[38;5;241m=\u001b[39m \u001b[43mget_handle\u001b[49m\u001b[43m(\u001b[49m\n\u001b[1;32m   1736\u001b[0m \u001b[43m    \u001b[49m\u001b[43mf\u001b[49m\u001b[43m,\u001b[49m\n\u001b[1;32m   1737\u001b[0m \u001b[43m    \u001b[49m\u001b[43mmode\u001b[49m\u001b[43m,\u001b[49m\n\u001b[1;32m   1738\u001b[0m \u001b[43m    \u001b[49m\u001b[43mencoding\u001b[49m\u001b[38;5;241;43m=\u001b[39;49m\u001b[38;5;28;43mself\u001b[39;49m\u001b[38;5;241;43m.\u001b[39;49m\u001b[43moptions\u001b[49m\u001b[38;5;241;43m.\u001b[39;49m\u001b[43mget\u001b[49m\u001b[43m(\u001b[49m\u001b[38;5;124;43m\"\u001b[39;49m\u001b[38;5;124;43mencoding\u001b[39;49m\u001b[38;5;124;43m\"\u001b[39;49m\u001b[43m,\u001b[49m\u001b[43m \u001b[49m\u001b[38;5;28;43;01mNone\u001b[39;49;00m\u001b[43m)\u001b[49m\u001b[43m,\u001b[49m\n\u001b[1;32m   1739\u001b[0m \u001b[43m    \u001b[49m\u001b[43mcompression\u001b[49m\u001b[38;5;241;43m=\u001b[39;49m\u001b[38;5;28;43mself\u001b[39;49m\u001b[38;5;241;43m.\u001b[39;49m\u001b[43moptions\u001b[49m\u001b[38;5;241;43m.\u001b[39;49m\u001b[43mget\u001b[49m\u001b[43m(\u001b[49m\u001b[38;5;124;43m\"\u001b[39;49m\u001b[38;5;124;43mcompression\u001b[39;49m\u001b[38;5;124;43m\"\u001b[39;49m\u001b[43m,\u001b[49m\u001b[43m \u001b[49m\u001b[38;5;28;43;01mNone\u001b[39;49;00m\u001b[43m)\u001b[49m\u001b[43m,\u001b[49m\n\u001b[1;32m   1740\u001b[0m \u001b[43m    \u001b[49m\u001b[43mmemory_map\u001b[49m\u001b[38;5;241;43m=\u001b[39;49m\u001b[38;5;28;43mself\u001b[39;49m\u001b[38;5;241;43m.\u001b[39;49m\u001b[43moptions\u001b[49m\u001b[38;5;241;43m.\u001b[39;49m\u001b[43mget\u001b[49m\u001b[43m(\u001b[49m\u001b[38;5;124;43m\"\u001b[39;49m\u001b[38;5;124;43mmemory_map\u001b[39;49m\u001b[38;5;124;43m\"\u001b[39;49m\u001b[43m,\u001b[49m\u001b[43m \u001b[49m\u001b[38;5;28;43;01mFalse\u001b[39;49;00m\u001b[43m)\u001b[49m\u001b[43m,\u001b[49m\n\u001b[1;32m   1741\u001b[0m \u001b[43m    \u001b[49m\u001b[43mis_text\u001b[49m\u001b[38;5;241;43m=\u001b[39;49m\u001b[43mis_text\u001b[49m\u001b[43m,\u001b[49m\n\u001b[1;32m   1742\u001b[0m \u001b[43m    \u001b[49m\u001b[43merrors\u001b[49m\u001b[38;5;241;43m=\u001b[39;49m\u001b[38;5;28;43mself\u001b[39;49m\u001b[38;5;241;43m.\u001b[39;49m\u001b[43moptions\u001b[49m\u001b[38;5;241;43m.\u001b[39;49m\u001b[43mget\u001b[49m\u001b[43m(\u001b[49m\u001b[38;5;124;43m\"\u001b[39;49m\u001b[38;5;124;43mencoding_errors\u001b[39;49m\u001b[38;5;124;43m\"\u001b[39;49m\u001b[43m,\u001b[49m\u001b[43m \u001b[49m\u001b[38;5;124;43m\"\u001b[39;49m\u001b[38;5;124;43mstrict\u001b[39;49m\u001b[38;5;124;43m\"\u001b[39;49m\u001b[43m)\u001b[49m\u001b[43m,\u001b[49m\n\u001b[1;32m   1743\u001b[0m \u001b[43m    \u001b[49m\u001b[43mstorage_options\u001b[49m\u001b[38;5;241;43m=\u001b[39;49m\u001b[38;5;28;43mself\u001b[39;49m\u001b[38;5;241;43m.\u001b[39;49m\u001b[43moptions\u001b[49m\u001b[38;5;241;43m.\u001b[39;49m\u001b[43mget\u001b[49m\u001b[43m(\u001b[49m\u001b[38;5;124;43m\"\u001b[39;49m\u001b[38;5;124;43mstorage_options\u001b[39;49m\u001b[38;5;124;43m\"\u001b[39;49m\u001b[43m,\u001b[49m\u001b[43m \u001b[49m\u001b[38;5;28;43;01mNone\u001b[39;49;00m\u001b[43m)\u001b[49m\u001b[43m,\u001b[49m\n\u001b[1;32m   1744\u001b[0m \u001b[43m\u001b[49m\u001b[43m)\u001b[49m\n\u001b[1;32m   1745\u001b[0m \u001b[38;5;28;01massert\u001b[39;00m \u001b[38;5;28mself\u001b[39m\u001b[38;5;241m.\u001b[39mhandles \u001b[38;5;129;01mis\u001b[39;00m \u001b[38;5;129;01mnot\u001b[39;00m \u001b[38;5;28;01mNone\u001b[39;00m\n",
      "File \u001b[0;32m~/anaconda3/lib/python3.10/site-packages/pandas/io/common.py:856\u001b[0m, in \u001b[0;36mget_handle\u001b[0;34m(path_or_buf, mode, encoding, compression, memory_map, is_text, errors, storage_options)\u001b[0m\n\u001b[1;32m    854\u001b[0m \u001b[38;5;28;01mif\u001b[39;00m ioargs\u001b[38;5;241m.\u001b[39mencoding \u001b[38;5;129;01mand\u001b[39;00m \u001b[38;5;124m\"\u001b[39m\u001b[38;5;124mb\u001b[39m\u001b[38;5;124m\"\u001b[39m \u001b[38;5;129;01mnot\u001b[39;00m \u001b[38;5;129;01min\u001b[39;00m ioargs\u001b[38;5;241m.\u001b[39mmode:\n\u001b[1;32m    855\u001b[0m     \u001b[38;5;66;03m# Encoding\u001b[39;00m\n\u001b[0;32m--> 856\u001b[0m     handle \u001b[38;5;241m=\u001b[39m \u001b[38;5;28;43mopen\u001b[39;49m\u001b[43m(\u001b[49m\n\u001b[1;32m    857\u001b[0m \u001b[43m        \u001b[49m\u001b[43mhandle\u001b[49m\u001b[43m,\u001b[49m\n\u001b[1;32m    858\u001b[0m \u001b[43m        \u001b[49m\u001b[43mioargs\u001b[49m\u001b[38;5;241;43m.\u001b[39;49m\u001b[43mmode\u001b[49m\u001b[43m,\u001b[49m\n\u001b[1;32m    859\u001b[0m \u001b[43m        \u001b[49m\u001b[43mencoding\u001b[49m\u001b[38;5;241;43m=\u001b[39;49m\u001b[43mioargs\u001b[49m\u001b[38;5;241;43m.\u001b[39;49m\u001b[43mencoding\u001b[49m\u001b[43m,\u001b[49m\n\u001b[1;32m    860\u001b[0m \u001b[43m        \u001b[49m\u001b[43merrors\u001b[49m\u001b[38;5;241;43m=\u001b[39;49m\u001b[43merrors\u001b[49m\u001b[43m,\u001b[49m\n\u001b[1;32m    861\u001b[0m \u001b[43m        \u001b[49m\u001b[43mnewline\u001b[49m\u001b[38;5;241;43m=\u001b[39;49m\u001b[38;5;124;43m\"\u001b[39;49m\u001b[38;5;124;43m\"\u001b[39;49m\u001b[43m,\u001b[49m\n\u001b[1;32m    862\u001b[0m \u001b[43m    \u001b[49m\u001b[43m)\u001b[49m\n\u001b[1;32m    863\u001b[0m \u001b[38;5;28;01melse\u001b[39;00m:\n\u001b[1;32m    864\u001b[0m     \u001b[38;5;66;03m# Binary mode\u001b[39;00m\n",
      "\u001b[0;31mFileNotFoundError\u001b[0m: [Errno 2] No such file or directory: 'users_go.csv'",
      "\nDuring handling of the above exception, another exception occurred:\n",
      "\u001b[0;31mFileNotFoundError\u001b[0m                         Traceback (most recent call last)",
      "Cell \u001b[0;32mIn[2], line 7\u001b[0m\n\u001b[1;32m      5\u001b[0m     subscriptions \u001b[38;5;241m=\u001b[39m pd\u001b[38;5;241m.\u001b[39mread_csv(\u001b[38;5;124m'\u001b[39m\u001b[38;5;124msubscriptions_go.csv\u001b[39m\u001b[38;5;124m'\u001b[39m, sep\u001b[38;5;241m=\u001b[39m\u001b[38;5;124m'\u001b[39m\u001b[38;5;124m,\u001b[39m\u001b[38;5;124m'\u001b[39m)\n\u001b[1;32m      6\u001b[0m \u001b[38;5;28;01mexcept\u001b[39;00m:\n\u001b[0;32m----> 7\u001b[0m     users \u001b[38;5;241m=\u001b[39m \u001b[43mpd\u001b[49m\u001b[38;5;241;43m.\u001b[39;49m\u001b[43mread_csv\u001b[49m\u001b[43m(\u001b[49m\u001b[38;5;124;43m'\u001b[39;49m\u001b[38;5;124;43m/datasets/users_go.csv\u001b[39;49m\u001b[38;5;124;43m'\u001b[39;49m\u001b[43m,\u001b[49m\u001b[43m \u001b[49m\u001b[43msep\u001b[49m\u001b[38;5;241;43m=\u001b[39;49m\u001b[38;5;124;43m'\u001b[39;49m\u001b[38;5;124;43m,\u001b[39;49m\u001b[38;5;124;43m'\u001b[39;49m\u001b[43m)\u001b[49m\n\u001b[1;32m      8\u001b[0m     rides \u001b[38;5;241m=\u001b[39m pd\u001b[38;5;241m.\u001b[39mread_csv(\u001b[38;5;124m'\u001b[39m\u001b[38;5;124m/datasets/rides_go.csv\u001b[39m\u001b[38;5;124m'\u001b[39m, sep\u001b[38;5;241m=\u001b[39m\u001b[38;5;124m'\u001b[39m\u001b[38;5;124m,\u001b[39m\u001b[38;5;124m'\u001b[39m)\n\u001b[1;32m      9\u001b[0m     subscriptions \u001b[38;5;241m=\u001b[39m pd\u001b[38;5;241m.\u001b[39mread_csv(\u001b[38;5;124m'\u001b[39m\u001b[38;5;124m/datasets/subscriptions_go.csv\u001b[39m\u001b[38;5;124m'\u001b[39m, sep\u001b[38;5;241m=\u001b[39m\u001b[38;5;124m'\u001b[39m\u001b[38;5;124m,\u001b[39m\u001b[38;5;124m'\u001b[39m)\n",
      "File \u001b[0;32m~/anaconda3/lib/python3.10/site-packages/pandas/util/_decorators.py:211\u001b[0m, in \u001b[0;36mdeprecate_kwarg.<locals>._deprecate_kwarg.<locals>.wrapper\u001b[0;34m(*args, **kwargs)\u001b[0m\n\u001b[1;32m    209\u001b[0m     \u001b[38;5;28;01melse\u001b[39;00m:\n\u001b[1;32m    210\u001b[0m         kwargs[new_arg_name] \u001b[38;5;241m=\u001b[39m new_arg_value\n\u001b[0;32m--> 211\u001b[0m \u001b[38;5;28;01mreturn\u001b[39;00m \u001b[43mfunc\u001b[49m\u001b[43m(\u001b[49m\u001b[38;5;241;43m*\u001b[39;49m\u001b[43margs\u001b[49m\u001b[43m,\u001b[49m\u001b[43m \u001b[49m\u001b[38;5;241;43m*\u001b[39;49m\u001b[38;5;241;43m*\u001b[39;49m\u001b[43mkwargs\u001b[49m\u001b[43m)\u001b[49m\n",
      "File \u001b[0;32m~/anaconda3/lib/python3.10/site-packages/pandas/util/_decorators.py:331\u001b[0m, in \u001b[0;36mdeprecate_nonkeyword_arguments.<locals>.decorate.<locals>.wrapper\u001b[0;34m(*args, **kwargs)\u001b[0m\n\u001b[1;32m    325\u001b[0m \u001b[38;5;28;01mif\u001b[39;00m \u001b[38;5;28mlen\u001b[39m(args) \u001b[38;5;241m>\u001b[39m num_allow_args:\n\u001b[1;32m    326\u001b[0m     warnings\u001b[38;5;241m.\u001b[39mwarn(\n\u001b[1;32m    327\u001b[0m         msg\u001b[38;5;241m.\u001b[39mformat(arguments\u001b[38;5;241m=\u001b[39m_format_argument_list(allow_args)),\n\u001b[1;32m    328\u001b[0m         \u001b[38;5;167;01mFutureWarning\u001b[39;00m,\n\u001b[1;32m    329\u001b[0m         stacklevel\u001b[38;5;241m=\u001b[39mfind_stack_level(),\n\u001b[1;32m    330\u001b[0m     )\n\u001b[0;32m--> 331\u001b[0m \u001b[38;5;28;01mreturn\u001b[39;00m \u001b[43mfunc\u001b[49m\u001b[43m(\u001b[49m\u001b[38;5;241;43m*\u001b[39;49m\u001b[43margs\u001b[49m\u001b[43m,\u001b[49m\u001b[43m \u001b[49m\u001b[38;5;241;43m*\u001b[39;49m\u001b[38;5;241;43m*\u001b[39;49m\u001b[43mkwargs\u001b[49m\u001b[43m)\u001b[49m\n",
      "File \u001b[0;32m~/anaconda3/lib/python3.10/site-packages/pandas/io/parsers/readers.py:950\u001b[0m, in \u001b[0;36mread_csv\u001b[0;34m(filepath_or_buffer, sep, delimiter, header, names, index_col, usecols, squeeze, prefix, mangle_dupe_cols, dtype, engine, converters, true_values, false_values, skipinitialspace, skiprows, skipfooter, nrows, na_values, keep_default_na, na_filter, verbose, skip_blank_lines, parse_dates, infer_datetime_format, keep_date_col, date_parser, dayfirst, cache_dates, iterator, chunksize, compression, thousands, decimal, lineterminator, quotechar, quoting, doublequote, escapechar, comment, encoding, encoding_errors, dialect, error_bad_lines, warn_bad_lines, on_bad_lines, delim_whitespace, low_memory, memory_map, float_precision, storage_options)\u001b[0m\n\u001b[1;32m    935\u001b[0m kwds_defaults \u001b[38;5;241m=\u001b[39m _refine_defaults_read(\n\u001b[1;32m    936\u001b[0m     dialect,\n\u001b[1;32m    937\u001b[0m     delimiter,\n\u001b[0;32m   (...)\u001b[0m\n\u001b[1;32m    946\u001b[0m     defaults\u001b[38;5;241m=\u001b[39m{\u001b[38;5;124m\"\u001b[39m\u001b[38;5;124mdelimiter\u001b[39m\u001b[38;5;124m\"\u001b[39m: \u001b[38;5;124m\"\u001b[39m\u001b[38;5;124m,\u001b[39m\u001b[38;5;124m\"\u001b[39m},\n\u001b[1;32m    947\u001b[0m )\n\u001b[1;32m    948\u001b[0m kwds\u001b[38;5;241m.\u001b[39mupdate(kwds_defaults)\n\u001b[0;32m--> 950\u001b[0m \u001b[38;5;28;01mreturn\u001b[39;00m \u001b[43m_read\u001b[49m\u001b[43m(\u001b[49m\u001b[43mfilepath_or_buffer\u001b[49m\u001b[43m,\u001b[49m\u001b[43m \u001b[49m\u001b[43mkwds\u001b[49m\u001b[43m)\u001b[49m\n",
      "File \u001b[0;32m~/anaconda3/lib/python3.10/site-packages/pandas/io/parsers/readers.py:605\u001b[0m, in \u001b[0;36m_read\u001b[0;34m(filepath_or_buffer, kwds)\u001b[0m\n\u001b[1;32m    602\u001b[0m _validate_names(kwds\u001b[38;5;241m.\u001b[39mget(\u001b[38;5;124m\"\u001b[39m\u001b[38;5;124mnames\u001b[39m\u001b[38;5;124m\"\u001b[39m, \u001b[38;5;28;01mNone\u001b[39;00m))\n\u001b[1;32m    604\u001b[0m \u001b[38;5;66;03m# Create the parser.\u001b[39;00m\n\u001b[0;32m--> 605\u001b[0m parser \u001b[38;5;241m=\u001b[39m \u001b[43mTextFileReader\u001b[49m\u001b[43m(\u001b[49m\u001b[43mfilepath_or_buffer\u001b[49m\u001b[43m,\u001b[49m\u001b[43m \u001b[49m\u001b[38;5;241;43m*\u001b[39;49m\u001b[38;5;241;43m*\u001b[39;49m\u001b[43mkwds\u001b[49m\u001b[43m)\u001b[49m\n\u001b[1;32m    607\u001b[0m \u001b[38;5;28;01mif\u001b[39;00m chunksize \u001b[38;5;129;01mor\u001b[39;00m iterator:\n\u001b[1;32m    608\u001b[0m     \u001b[38;5;28;01mreturn\u001b[39;00m parser\n",
      "File \u001b[0;32m~/anaconda3/lib/python3.10/site-packages/pandas/io/parsers/readers.py:1442\u001b[0m, in \u001b[0;36mTextFileReader.__init__\u001b[0;34m(self, f, engine, **kwds)\u001b[0m\n\u001b[1;32m   1439\u001b[0m     \u001b[38;5;28mself\u001b[39m\u001b[38;5;241m.\u001b[39moptions[\u001b[38;5;124m\"\u001b[39m\u001b[38;5;124mhas_index_names\u001b[39m\u001b[38;5;124m\"\u001b[39m] \u001b[38;5;241m=\u001b[39m kwds[\u001b[38;5;124m\"\u001b[39m\u001b[38;5;124mhas_index_names\u001b[39m\u001b[38;5;124m\"\u001b[39m]\n\u001b[1;32m   1441\u001b[0m \u001b[38;5;28mself\u001b[39m\u001b[38;5;241m.\u001b[39mhandles: IOHandles \u001b[38;5;241m|\u001b[39m \u001b[38;5;28;01mNone\u001b[39;00m \u001b[38;5;241m=\u001b[39m \u001b[38;5;28;01mNone\u001b[39;00m\n\u001b[0;32m-> 1442\u001b[0m \u001b[38;5;28mself\u001b[39m\u001b[38;5;241m.\u001b[39m_engine \u001b[38;5;241m=\u001b[39m \u001b[38;5;28;43mself\u001b[39;49m\u001b[38;5;241;43m.\u001b[39;49m\u001b[43m_make_engine\u001b[49m\u001b[43m(\u001b[49m\u001b[43mf\u001b[49m\u001b[43m,\u001b[49m\u001b[43m \u001b[49m\u001b[38;5;28;43mself\u001b[39;49m\u001b[38;5;241;43m.\u001b[39;49m\u001b[43mengine\u001b[49m\u001b[43m)\u001b[49m\n",
      "File \u001b[0;32m~/anaconda3/lib/python3.10/site-packages/pandas/io/parsers/readers.py:1735\u001b[0m, in \u001b[0;36mTextFileReader._make_engine\u001b[0;34m(self, f, engine)\u001b[0m\n\u001b[1;32m   1733\u001b[0m     \u001b[38;5;28;01mif\u001b[39;00m \u001b[38;5;124m\"\u001b[39m\u001b[38;5;124mb\u001b[39m\u001b[38;5;124m\"\u001b[39m \u001b[38;5;129;01mnot\u001b[39;00m \u001b[38;5;129;01min\u001b[39;00m mode:\n\u001b[1;32m   1734\u001b[0m         mode \u001b[38;5;241m+\u001b[39m\u001b[38;5;241m=\u001b[39m \u001b[38;5;124m\"\u001b[39m\u001b[38;5;124mb\u001b[39m\u001b[38;5;124m\"\u001b[39m\n\u001b[0;32m-> 1735\u001b[0m \u001b[38;5;28mself\u001b[39m\u001b[38;5;241m.\u001b[39mhandles \u001b[38;5;241m=\u001b[39m \u001b[43mget_handle\u001b[49m\u001b[43m(\u001b[49m\n\u001b[1;32m   1736\u001b[0m \u001b[43m    \u001b[49m\u001b[43mf\u001b[49m\u001b[43m,\u001b[49m\n\u001b[1;32m   1737\u001b[0m \u001b[43m    \u001b[49m\u001b[43mmode\u001b[49m\u001b[43m,\u001b[49m\n\u001b[1;32m   1738\u001b[0m \u001b[43m    \u001b[49m\u001b[43mencoding\u001b[49m\u001b[38;5;241;43m=\u001b[39;49m\u001b[38;5;28;43mself\u001b[39;49m\u001b[38;5;241;43m.\u001b[39;49m\u001b[43moptions\u001b[49m\u001b[38;5;241;43m.\u001b[39;49m\u001b[43mget\u001b[49m\u001b[43m(\u001b[49m\u001b[38;5;124;43m\"\u001b[39;49m\u001b[38;5;124;43mencoding\u001b[39;49m\u001b[38;5;124;43m\"\u001b[39;49m\u001b[43m,\u001b[49m\u001b[43m \u001b[49m\u001b[38;5;28;43;01mNone\u001b[39;49;00m\u001b[43m)\u001b[49m\u001b[43m,\u001b[49m\n\u001b[1;32m   1739\u001b[0m \u001b[43m    \u001b[49m\u001b[43mcompression\u001b[49m\u001b[38;5;241;43m=\u001b[39;49m\u001b[38;5;28;43mself\u001b[39;49m\u001b[38;5;241;43m.\u001b[39;49m\u001b[43moptions\u001b[49m\u001b[38;5;241;43m.\u001b[39;49m\u001b[43mget\u001b[49m\u001b[43m(\u001b[49m\u001b[38;5;124;43m\"\u001b[39;49m\u001b[38;5;124;43mcompression\u001b[39;49m\u001b[38;5;124;43m\"\u001b[39;49m\u001b[43m,\u001b[49m\u001b[43m \u001b[49m\u001b[38;5;28;43;01mNone\u001b[39;49;00m\u001b[43m)\u001b[49m\u001b[43m,\u001b[49m\n\u001b[1;32m   1740\u001b[0m \u001b[43m    \u001b[49m\u001b[43mmemory_map\u001b[49m\u001b[38;5;241;43m=\u001b[39;49m\u001b[38;5;28;43mself\u001b[39;49m\u001b[38;5;241;43m.\u001b[39;49m\u001b[43moptions\u001b[49m\u001b[38;5;241;43m.\u001b[39;49m\u001b[43mget\u001b[49m\u001b[43m(\u001b[49m\u001b[38;5;124;43m\"\u001b[39;49m\u001b[38;5;124;43mmemory_map\u001b[39;49m\u001b[38;5;124;43m\"\u001b[39;49m\u001b[43m,\u001b[49m\u001b[43m \u001b[49m\u001b[38;5;28;43;01mFalse\u001b[39;49;00m\u001b[43m)\u001b[49m\u001b[43m,\u001b[49m\n\u001b[1;32m   1741\u001b[0m \u001b[43m    \u001b[49m\u001b[43mis_text\u001b[49m\u001b[38;5;241;43m=\u001b[39;49m\u001b[43mis_text\u001b[49m\u001b[43m,\u001b[49m\n\u001b[1;32m   1742\u001b[0m \u001b[43m    \u001b[49m\u001b[43merrors\u001b[49m\u001b[38;5;241;43m=\u001b[39;49m\u001b[38;5;28;43mself\u001b[39;49m\u001b[38;5;241;43m.\u001b[39;49m\u001b[43moptions\u001b[49m\u001b[38;5;241;43m.\u001b[39;49m\u001b[43mget\u001b[49m\u001b[43m(\u001b[49m\u001b[38;5;124;43m\"\u001b[39;49m\u001b[38;5;124;43mencoding_errors\u001b[39;49m\u001b[38;5;124;43m\"\u001b[39;49m\u001b[43m,\u001b[49m\u001b[43m \u001b[49m\u001b[38;5;124;43m\"\u001b[39;49m\u001b[38;5;124;43mstrict\u001b[39;49m\u001b[38;5;124;43m\"\u001b[39;49m\u001b[43m)\u001b[49m\u001b[43m,\u001b[49m\n\u001b[1;32m   1743\u001b[0m \u001b[43m    \u001b[49m\u001b[43mstorage_options\u001b[49m\u001b[38;5;241;43m=\u001b[39;49m\u001b[38;5;28;43mself\u001b[39;49m\u001b[38;5;241;43m.\u001b[39;49m\u001b[43moptions\u001b[49m\u001b[38;5;241;43m.\u001b[39;49m\u001b[43mget\u001b[49m\u001b[43m(\u001b[49m\u001b[38;5;124;43m\"\u001b[39;49m\u001b[38;5;124;43mstorage_options\u001b[39;49m\u001b[38;5;124;43m\"\u001b[39;49m\u001b[43m,\u001b[49m\u001b[43m \u001b[49m\u001b[38;5;28;43;01mNone\u001b[39;49;00m\u001b[43m)\u001b[49m\u001b[43m,\u001b[49m\n\u001b[1;32m   1744\u001b[0m \u001b[43m\u001b[49m\u001b[43m)\u001b[49m\n\u001b[1;32m   1745\u001b[0m \u001b[38;5;28;01massert\u001b[39;00m \u001b[38;5;28mself\u001b[39m\u001b[38;5;241m.\u001b[39mhandles \u001b[38;5;129;01mis\u001b[39;00m \u001b[38;5;129;01mnot\u001b[39;00m \u001b[38;5;28;01mNone\u001b[39;00m\n\u001b[1;32m   1746\u001b[0m f \u001b[38;5;241m=\u001b[39m \u001b[38;5;28mself\u001b[39m\u001b[38;5;241m.\u001b[39mhandles\u001b[38;5;241m.\u001b[39mhandle\n",
      "File \u001b[0;32m~/anaconda3/lib/python3.10/site-packages/pandas/io/common.py:856\u001b[0m, in \u001b[0;36mget_handle\u001b[0;34m(path_or_buf, mode, encoding, compression, memory_map, is_text, errors, storage_options)\u001b[0m\n\u001b[1;32m    851\u001b[0m \u001b[38;5;28;01melif\u001b[39;00m \u001b[38;5;28misinstance\u001b[39m(handle, \u001b[38;5;28mstr\u001b[39m):\n\u001b[1;32m    852\u001b[0m     \u001b[38;5;66;03m# Check whether the filename is to be opened in binary mode.\u001b[39;00m\n\u001b[1;32m    853\u001b[0m     \u001b[38;5;66;03m# Binary mode does not support 'encoding' and 'newline'.\u001b[39;00m\n\u001b[1;32m    854\u001b[0m     \u001b[38;5;28;01mif\u001b[39;00m ioargs\u001b[38;5;241m.\u001b[39mencoding \u001b[38;5;129;01mand\u001b[39;00m \u001b[38;5;124m\"\u001b[39m\u001b[38;5;124mb\u001b[39m\u001b[38;5;124m\"\u001b[39m \u001b[38;5;129;01mnot\u001b[39;00m \u001b[38;5;129;01min\u001b[39;00m ioargs\u001b[38;5;241m.\u001b[39mmode:\n\u001b[1;32m    855\u001b[0m         \u001b[38;5;66;03m# Encoding\u001b[39;00m\n\u001b[0;32m--> 856\u001b[0m         handle \u001b[38;5;241m=\u001b[39m \u001b[38;5;28;43mopen\u001b[39;49m\u001b[43m(\u001b[49m\n\u001b[1;32m    857\u001b[0m \u001b[43m            \u001b[49m\u001b[43mhandle\u001b[49m\u001b[43m,\u001b[49m\n\u001b[1;32m    858\u001b[0m \u001b[43m            \u001b[49m\u001b[43mioargs\u001b[49m\u001b[38;5;241;43m.\u001b[39;49m\u001b[43mmode\u001b[49m\u001b[43m,\u001b[49m\n\u001b[1;32m    859\u001b[0m \u001b[43m            \u001b[49m\u001b[43mencoding\u001b[49m\u001b[38;5;241;43m=\u001b[39;49m\u001b[43mioargs\u001b[49m\u001b[38;5;241;43m.\u001b[39;49m\u001b[43mencoding\u001b[49m\u001b[43m,\u001b[49m\n\u001b[1;32m    860\u001b[0m \u001b[43m            \u001b[49m\u001b[43merrors\u001b[49m\u001b[38;5;241;43m=\u001b[39;49m\u001b[43merrors\u001b[49m\u001b[43m,\u001b[49m\n\u001b[1;32m    861\u001b[0m \u001b[43m            \u001b[49m\u001b[43mnewline\u001b[49m\u001b[38;5;241;43m=\u001b[39;49m\u001b[38;5;124;43m\"\u001b[39;49m\u001b[38;5;124;43m\"\u001b[39;49m\u001b[43m,\u001b[49m\n\u001b[1;32m    862\u001b[0m \u001b[43m        \u001b[49m\u001b[43m)\u001b[49m\n\u001b[1;32m    863\u001b[0m     \u001b[38;5;28;01melse\u001b[39;00m:\n\u001b[1;32m    864\u001b[0m         \u001b[38;5;66;03m# Binary mode\u001b[39;00m\n\u001b[1;32m    865\u001b[0m         handle \u001b[38;5;241m=\u001b[39m \u001b[38;5;28mopen\u001b[39m(handle, ioargs\u001b[38;5;241m.\u001b[39mmode)\n",
      "\u001b[0;31mFileNotFoundError\u001b[0m: [Errno 2] No such file or directory: '/datasets/users_go.csv'"
     ]
    }
   ],
   "source": [
    "#Просмотрим все датасеты, которые у нас есть.\n",
    "try:\n",
    "    users = pd.read_csv('users_go.csv', sep=',')\n",
    "    rides = pd.read_csv('rides_go.csv', sep=',')\n",
    "    subscriptions = pd.read_csv('subscriptions_go.csv', sep=',')\n",
    "except:\n",
    "    users = pd.read_csv('/datasets/users_go.csv', sep=',')\n",
    "    rides = pd.read_csv('/datasets/rides_go.csv', sep=',')\n",
    "    subscriptions = pd.read_csv('/datasets/subscriptions_go.csv', sep=',')"
   ]
  },
  {
   "cell_type": "code",
   "execution_count": null,
   "id": "186d55f6",
   "metadata": {},
   "outputs": [],
   "source": [
    "users.head(10)"
   ]
  },
  {
   "cell_type": "code",
   "execution_count": null,
   "id": "f6bceec9",
   "metadata": {},
   "outputs": [],
   "source": [
    "users.info()"
   ]
  },
  {
   "cell_type": "markdown",
   "id": "d3225b4c",
   "metadata": {},
   "source": [
    "В файле users мы можем посмотреть количество пользователей, которые берут в прокат самокаты. В нём также находится информация об уникальном ID пользователя, его имени, возраста, городе и типе подписке. \n",
    "\n",
    "В таблице 1565 строк с данными о пользователях приложения. Столбцы названы корректно, тип данных также соответствующий. "
   ]
  },
  {
   "cell_type": "code",
   "execution_count": null,
   "id": "0f575375",
   "metadata": {
    "scrolled": true
   },
   "outputs": [],
   "source": [
    "rides.head(10)"
   ]
  },
  {
   "cell_type": "code",
   "execution_count": null,
   "id": "c8671414",
   "metadata": {},
   "outputs": [],
   "source": [
    "rides.info()"
   ]
  },
  {
   "cell_type": "markdown",
   "id": "c45df0c0",
   "metadata": {},
   "source": [
    "В файле rides мы можем посмотреть количество пользователей, которые берут в прокат самокаты. По этому файлу мы можем посмотреть какое количество времени и сколько километров длилась каждая поездка пользователя, а также дату поездки. Для того чтобы понять к какому пользователю относится так или иная поездка, там нужно обратить внимение на ID пользователя. \n",
    "\n",
    "В таблице 18068 строк с данными о каждой из поездок пользователей. Столбцы названы корректно. Данные в столбце distance и duration позже приведем к целочисленным для коректных расчетов. Также данные в столбце date преобразуем к формату даты pandas.\n"
   ]
  },
  {
   "cell_type": "code",
   "execution_count": null,
   "id": "d906b473",
   "metadata": {},
   "outputs": [],
   "source": [
    "subscriptions.head(10)"
   ]
  },
  {
   "cell_type": "code",
   "execution_count": null,
   "id": "5c5573e0",
   "metadata": {},
   "outputs": [],
   "source": [
    "subscriptions.info()"
   ]
  },
  {
   "cell_type": "markdown",
   "id": "3d299c2a",
   "metadata": {},
   "source": [
    "В файле subscriptions мы можем посмотреть как подписка влияет на стоимость аренды самоката, в этом файле указано два типа подписки, стоимость одной минуты поездки по каждой подписке, стоимость начала поездки и стоимость ежемесячного платежа для каждой из подписок. \n",
    "\n",
    "В таблице 2 строки с данными о видах подписки. Столбцы названы корректно, тип данных также соответствующий. "
   ]
  },
  {
   "cell_type": "markdown",
   "id": "e25417e6",
   "metadata": {},
   "source": [
    "#### Шаг 2. Предобработка данных"
   ]
  },
  {
   "cell_type": "code",
   "execution_count": null,
   "id": "385714ac",
   "metadata": {},
   "outputs": [],
   "source": [
    "#Приведем столбец date к типу даты pandas\n",
    "rides['date'] = pd.to_datetime(rides['date'], format='%Y-%m-%d')"
   ]
  },
  {
   "cell_type": "code",
   "execution_count": null,
   "id": "f43b4247",
   "metadata": {},
   "outputs": [],
   "source": [
    "#Добавим столбец в котором указан месяц публикации объявления.\n",
    "rides['month'] = rides['date'].dt.month"
   ]
  },
  {
   "cell_type": "code",
   "execution_count": null,
   "id": "03ad3899",
   "metadata": {},
   "outputs": [],
   "source": [
    "rides['date'].describe()"
   ]
  },
  {
   "cell_type": "markdown",
   "id": "5957b397",
   "metadata": {},
   "source": [
    "Судя по данной информации, нам предоставили данные за полный 2021 год. "
   ]
  },
  {
   "cell_type": "code",
   "execution_count": null,
   "id": "1ac325b7",
   "metadata": {},
   "outputs": [],
   "source": [
    "#Проверим дайл users на наличие пропусков \n",
    "users.isna().sum()"
   ]
  },
  {
   "cell_type": "code",
   "execution_count": null,
   "id": "6e022991",
   "metadata": {},
   "outputs": [],
   "source": [
    "#Проверим дайл rides на наличие пропусков \n",
    "rides.isna().sum()"
   ]
  },
  {
   "cell_type": "code",
   "execution_count": null,
   "id": "f8fcdbdc",
   "metadata": {},
   "outputs": [],
   "source": [
    "#Проверим дайл subscriptions на наличие пропусков \n",
    "subscriptions.isna().sum()"
   ]
  },
  {
   "cell_type": "code",
   "execution_count": null,
   "id": "b425d5c3",
   "metadata": {},
   "outputs": [],
   "source": [
    "#Проверим дайл users на наличие дубликатов \n",
    "users.duplicated().sum()"
   ]
  },
  {
   "cell_type": "code",
   "execution_count": null,
   "id": "822923e6",
   "metadata": {},
   "outputs": [],
   "source": [
    "#Проверим дайл rides на наличие дубликатов \n",
    "rides.duplicated().sum()"
   ]
  },
  {
   "cell_type": "code",
   "execution_count": null,
   "id": "caf21d65",
   "metadata": {},
   "outputs": [],
   "source": [
    "#Проверим дайл subscriptions на наличие дубликатов \n",
    "subscriptions.duplicated().sum()"
   ]
  },
  {
   "cell_type": "markdown",
   "id": "277566e8",
   "metadata": {},
   "source": [
    "Проверка данных на дубликаты показала, что в файле users 31 дубликат. Рассмотрим их более детально. "
   ]
  },
  {
   "cell_type": "code",
   "execution_count": null,
   "id": "a29d4b99",
   "metadata": {},
   "outputs": [],
   "source": [
    "users.value_counts().head(31)"
   ]
  },
  {
   "cell_type": "code",
   "execution_count": null,
   "id": "6474fca8",
   "metadata": {},
   "outputs": [],
   "source": [
    "#Удалим дубликаты методом drop_duplicates и сделаем проверку. \n",
    "users = users.drop_duplicates()\n",
    "users.duplicated().sum()"
   ]
  },
  {
   "cell_type": "markdown",
   "id": "b60b3fb4",
   "metadata": {},
   "source": [
    "В результате проделанной предобработки данных, мы удалили 31 дубликат в файле users, привели столбец date в файле rides к типу даты pandas, также узнали за какой период нам предоставленны данные (за полный 2021 год)."
   ]
  },
  {
   "cell_type": "markdown",
   "id": "25cc3620",
   "metadata": {},
   "source": [
    "#### Шаг 3. Исследовательский анализ данных"
   ]
  },
  {
   "cell_type": "code",
   "execution_count": null,
   "id": "d551fe50",
   "metadata": {},
   "outputs": [],
   "source": [
    "#Посмотрим какие города наиболее часто встречаются среди пользователей. \n",
    "users['city'].value_counts()"
   ]
  },
  {
   "cell_type": "code",
   "execution_count": null,
   "id": "b91b5546",
   "metadata": {
    "scrolled": true
   },
   "outputs": [],
   "source": [
    "#Построим график, который поможет нам правильно визуализировать данные. \n",
    "users['city'].hist(bins=15, figsize=(12,5)) \n",
    "plt.title(\"Города, встречающиеся наиболее часто среди пользователей\")\n",
    "plt.xlabel(\"Города\")\n",
    "plt.ylabel(\"Количество пользователей\")\n",
    "plt.show()"
   ]
  },
  {
   "cell_type": "markdown",
   "id": "befd8d17",
   "metadata": {},
   "source": [
    "Наиболее популярные города для аренды самоката - Пятигорск, Екатеринбург и Ростов-на-Дону. Возможно в этих городах у сервиса аренды самокатов GoFast больше всего самокатов, поэтому и поездок там больше. "
   ]
  },
  {
   "cell_type": "code",
   "execution_count": null,
   "id": "ba6e584a",
   "metadata": {},
   "outputs": [],
   "source": [
    "#Проанализируем соотношение пользователей с подпиской и без подписки.\n",
    "have_subscription = (users['subscription_type'] == 'ultra').sum()/users['subscription_type'].count()\n",
    "not_have_subscription = (users['subscription_type'] == 'free').sum()/users['subscription_type'].count()\n",
    "print('Доля людей с подпиской:', have_subscription)\n",
    "print('Доля людей без подписки:', not_have_subscription)"
   ]
  },
  {
   "cell_type": "code",
   "execution_count": null,
   "id": "9ca782e6",
   "metadata": {},
   "outputs": [],
   "source": [
    "vals = [have_subscription, not_have_subscription]\n",
    "labels = [\"Доля людей с подпиской\", \"Доля людей без подписки\"]\n",
    "fig, ax = plt.subplots()\n",
    "ax.pie(vals, labels=labels, autopct='%1.1f%%')\n",
    "plt.title(\"Соотношение пользователей с подпиской и без подписки\")\n",
    "plt.show()"
   ]
  },
  {
   "cell_type": "markdown",
   "id": "0bdf4f0c",
   "metadata": {},
   "source": [
    "Пользователей, которые использует приложение без подписки больше на 9%, чем тех, кто использует с пропиской. "
   ]
  },
  {
   "cell_type": "code",
   "execution_count": null,
   "id": "d1bb9771",
   "metadata": {},
   "outputs": [],
   "source": [
    "#Изучим возраст пользователей.\n",
    "users['age'].value_counts()"
   ]
  },
  {
   "cell_type": "code",
   "execution_count": null,
   "id": "b3ce7257",
   "metadata": {},
   "outputs": [],
   "source": [
    "#Построим график, который поможет нам правильно визуализировать данные. \n",
    "users['age'].hist(bins=30, figsize=(12,5))\n",
    "plt.title(\"Возраст, встречающиеся наиболее часто среди пользователей\")\n",
    "plt.xlabel(\"Возраст\")\n",
    "plt.ylabel(\"Количество пользователей\")\n",
    "plt.show()"
   ]
  },
  {
   "cell_type": "markdown",
   "id": "8e9872ee",
   "metadata": {},
   "source": [
    "Наиболее распространённый возраст пользователей приложения составляет 25 лет. Большенство пользователей находяться в возрасте от 21 до 29 лет. Самому младшему пользователю 12 лет, а старшему 43 года. "
   ]
  },
  {
   "cell_type": "code",
   "execution_count": null,
   "id": "5b0ef0d4",
   "metadata": {},
   "outputs": [],
   "source": [
    "# Проанализируем расстояние, которое пользователь преодолел за одну поездку\n",
    "rides['distance'].hist(bins=100, figsize=(12,5), range=(0,7000)) \n",
    "plt.title(\"Длина поездки, которая чаще всего встречалась среди пользователей\")\n",
    "plt.xlabel(\"Расстояние, которое пользователь проехал за поездку\")\n",
    "plt.ylabel(\"Частота поездок\")\n",
    "plt.show()"
   ]
  },
  {
   "cell_type": "markdown",
   "id": "aaee5a8d",
   "metadata": {},
   "source": [
    "На графике видно два пиковых значения: на растоянии в 700 метров и 3000 метров. Возможно это связанно с оплатой поездки. В некоторых сервисах аренды самоката пользователь платит за старт поездки и за первые 5 минут поездки. Возможно для того чтобы не платить поминутные поездки люди берут самокат на 5 минут и как раз этого хватает чтобы проехать небольшое растояние до 1 км. тогда это объясняет пиковое значение в 700 метров. Второй пик можно объяснить тем, что люди чаще всего берут самокат на среднее растояние, а на более длинную поездку предпочитают иные виды транспорта (такси, автобус или метро). "
   ]
  },
  {
   "cell_type": "code",
   "execution_count": null,
   "id": "0a303df9",
   "metadata": {},
   "outputs": [],
   "source": [
    "rides['distance'].describe()"
   ]
  },
  {
   "cell_type": "markdown",
   "id": "d2d8e406",
   "metadata": {},
   "source": [
    "В среднем пользователи проезжают три километра за одну поездку. Минимальное растояние поездки составляет менее метра, возможно это связанно с тем, что люди нечеянно начинаю поездку и сразу ее заканчивают. Максимальное растояние поездки составляет 7,2 км. "
   ]
  },
  {
   "cell_type": "code",
   "execution_count": null,
   "id": "fe9cf027",
   "metadata": {},
   "outputs": [],
   "source": [
    "#Посмотрим продолжительность поездок.\n",
    "rides['duration'].hist(bins=100, figsize=(12,5), range=(0,45)) \n",
    "plt.title(\"Время поездки, которое чаще всего встречалось среди пользователей\")\n",
    "plt.xlabel(\"Время за которое пользователь проехал за поездку\")\n",
    "plt.ylabel(\"Частота поездок\")\n",
    "plt.show()"
   ]
  },
  {
   "cell_type": "markdown",
   "id": "16396e5f",
   "metadata": {},
   "source": [
    "На графике есть необычный пик около 0.5 минут. Скорее всего это аномалия и нам следует расмотреть такие поездки более детально."
   ]
  },
  {
   "cell_type": "code",
   "execution_count": null,
   "id": "10b43359",
   "metadata": {},
   "outputs": [],
   "source": [
    "rides[rides['duration'] < 1 ]"
   ]
  },
  {
   "cell_type": "code",
   "execution_count": null,
   "id": "7256991a",
   "metadata": {},
   "outputs": [],
   "source": [
    "rides[rides['duration'] < 1].describe()"
   ]
  },
  {
   "cell_type": "markdown",
   "id": "99ec8700",
   "metadata": {},
   "source": [
    "Расстояние которое люди приодолели за пол минуты согласно данным равно около 5100 метров. Скорее всего это техническая ошибка. Нам следует удалить данные аномалии для более граммотного анализа и чистой статистики. Кроме того следует передать данную информацию коллегам, которые занимаются техническими ошибками, для того чтобы устанить данные аномалии в дальнейшей статистики. "
   ]
  },
  {
   "cell_type": "code",
   "execution_count": null,
   "id": "fbbd8880",
   "metadata": {},
   "outputs": [],
   "source": [
    "rides = rides[rides.duration > 1] "
   ]
  },
  {
   "cell_type": "code",
   "execution_count": null,
   "id": "d4ae37a0",
   "metadata": {},
   "outputs": [],
   "source": [
    "rides['duration'].hist(bins=100, figsize=(12,5), range=(0,45)) \n",
    "plt.title(\"Время поездки, которое чаще всего встречалось среди пользователей\")\n",
    "plt.xlabel(\"Время за которое пользователь проехал за поездку\")\n",
    "plt.ylabel(\"Частота поездок\")\n",
    "plt.show()"
   ]
  },
  {
   "cell_type": "code",
   "execution_count": null,
   "id": "c8372b48",
   "metadata": {},
   "outputs": [],
   "source": [
    "rides['duration'].describe()"
   ]
  },
  {
   "cell_type": "markdown",
   "id": "12783aa2",
   "metadata": {},
   "source": [
    "Среднее время поездки составляет 17,8 минут. Самая короткая поездка длилась пол минуты. Самая долгая поездка была 40 минутная. "
   ]
  },
  {
   "cell_type": "markdown",
   "id": "bb76c18a",
   "metadata": {},
   "source": [
    "После удаления аномалий изменилось время самой короткой поездки, она длилась 2 минуты. Самая долгая поездка была 40 минутная. Среднее время поездки составляет 17,8 минут."
   ]
  },
  {
   "cell_type": "markdown",
   "id": "e542aafd",
   "metadata": {},
   "source": [
    "Усредненный портрет пользователя и его поездки:\n",
    "1. Скорее всего пользователь из Пятигорска, Екатеренбурга или Ростова-на-Дону\n",
    "2. Есть больше вероятности, что пользователь без подписки. \n",
    "3. Средний возраст пользователя 25 лет. \n",
    "4. Растояние и время средней поездки составляет 3 км и 17,8 минут. "
   ]
  },
  {
   "cell_type": "markdown",
   "id": "c1e608ca",
   "metadata": {},
   "source": [
    "#### Шаг 4. Объединение данных"
   ]
  },
  {
   "cell_type": "code",
   "execution_count": null,
   "id": "fc5ca897",
   "metadata": {},
   "outputs": [],
   "source": [
    "#Объединим данные о пользователях, поездках и подписках в один датафрейм. \n",
    "data = users.merge(rides, on='user_id')\n",
    "data = data.merge(subscriptions, on='subscription_type')\n",
    "data.head(10)"
   ]
  },
  {
   "cell_type": "code",
   "execution_count": null,
   "id": "5eba8003",
   "metadata": {},
   "outputs": [],
   "source": [
    "#Сравним количество строк до объединения и после \n",
    "entries = len(rides) - len(data)\n",
    "entries"
   ]
  },
  {
   "cell_type": "markdown",
   "id": "3aa42fe7",
   "metadata": {},
   "source": [
    "Количество строк полученной таблицы совпадает с количеством строк таблиц до объединения. После объединения данных мы ничего не потеряли. "
   ]
  },
  {
   "cell_type": "code",
   "execution_count": null,
   "id": "994bb4aa",
   "metadata": {},
   "outputs": [],
   "source": [
    "#Создадим датафрейм с данными о пользователях без подписки.\n",
    "data_without_subscription = data.query(\"subscription_type.isin(['free'])\")\n",
    "data_without_subscription.head(10)"
   ]
  },
  {
   "cell_type": "code",
   "execution_count": null,
   "id": "4a0b9550",
   "metadata": {
    "scrolled": true
   },
   "outputs": [],
   "source": [
    "#Создадим датафрейм с данными о пользователях с подпиской.\n",
    "data_with_subscription = data.query(\"subscription_type.isin(['ultra'])\")\n",
    "data_with_subscription.head(10)"
   ]
  },
  {
   "cell_type": "code",
   "execution_count": null,
   "id": "4d4b7eb1",
   "metadata": {},
   "outputs": [],
   "source": [
    "#Построим график с двумя гистограмамми по длительности поездки у пользователей с подпиской и без. \n",
    "plt.hist(data_without_subscription['duration'], bins=100 , alpha = 0.5, label='Без подписки')\n",
    "plt.hist(data_with_subscription['duration'], bins=100, alpha = 0.5, label='С подпиской')\n",
    "plt.legend(loc='upper left')\n",
    "plt.title(\"Длительности поездки у пользователей с подпиской и без\")\n",
    "plt.xlabel(\"Время за которое пользователь проехал за поездку\")\n",
    "plt.ylabel(\"Частота поездок\")\n",
    "\n",
    "plt.show()"
   ]
  },
  {
   "cell_type": "markdown",
   "id": "e3460d3c",
   "metadata": {},
   "source": [
    "Судя по графику пользователи с подпиской и без подписки тратят примерно одинаковое время на поездку. У людей с подпиской есть тенденция тратить на поездку от 5 минут. Люди не имеющие подписку бывают ошибочно берут самокат, поэтому у них есть небольшая доля заказов, которые длятся менее 5 минут. "
   ]
  },
  {
   "cell_type": "code",
   "execution_count": null,
   "id": "561b58b4",
   "metadata": {},
   "outputs": [],
   "source": [
    "#Построим график с двумя гистограмамми по продолжительности поездки в метрах у пользователей с подпиской и без. \n",
    "plt.hist(data_without_subscription['distance'], bins=100 , alpha = 0.5, label='Без подписки')\n",
    "plt.hist(data_with_subscription['distance'], bins=100, alpha = 0.5, label='С подпиской')\n",
    "plt.legend(loc='upper left')\n",
    "plt.title(\"Продолжительность поездки в метрах у пользователей с подпиской и без\")\n",
    "plt.xlabel(\"Расстояние, которое пользователь проехал за поездку\")\n",
    "plt.ylabel(\"Частота поездок\")\n",
    "\n",
    "plt.show()"
   ]
  },
  {
   "cell_type": "markdown",
   "id": "21e31157",
   "metadata": {},
   "source": [
    "Как мы видим по графику в основном люди с подпиской проезжают за поездку от 2 до 5 км. У людей без подписки разброс данных возрастает от 1 до 6 км. "
   ]
  },
  {
   "cell_type": "markdown",
   "id": "72fa5314",
   "metadata": {},
   "source": [
    "Насколько видно из графиков подписка не увеличивает среднее время и растояние поездки. "
   ]
  },
  {
   "cell_type": "markdown",
   "id": "b40f4044",
   "metadata": {},
   "source": [
    "#### Шаг 5. Подсчёт выручки"
   ]
  },
  {
   "cell_type": "code",
   "execution_count": null,
   "id": "55bae058",
   "metadata": {},
   "outputs": [],
   "source": [
    "#Округлим продолжительность и длинну каждой поездки.\n",
    "data['duration'] = np.ceil(data['duration'])\n",
    "data['distance'] = np.ceil(data['distance'])"
   ]
  },
  {
   "cell_type": "code",
   "execution_count": null,
   "id": "98c8356e",
   "metadata": {},
   "outputs": [],
   "source": [
    "#Посчитаем суммарное расстояние, количество поездок и суммарное время для каждого пользователя за каждый месяц.\n",
    "total_data = pd.pivot_table(data,\n",
    "                           index=['month', 'user_id'],\n",
    "                           values=['distance', 'duration', 'name', 'subscription_type', 'minute_price', 'start_ride_price', 'subscription_fee'],\n",
    "                           aggfunc = {'distance': sum,\n",
    "                                     'duration': sum,\n",
    "                                     'name': len,\n",
    "                                     'subscription_type': min,\n",
    "                                     'minute_price': min,\n",
    "                                     'start_ride_price': min,\n",
    "                                     'subscription_fee': min,})\n",
    "total_data.rename(columns = {'name' : 'total_rides'}, inplace = True)\n",
    "total_data.sort_values(by='month')"
   ]
  },
  {
   "cell_type": "markdown",
   "id": "89faab84",
   "metadata": {},
   "source": [
    "Теперь мы можем посмотреть какое количество поездок совершил пользователь в разбивке по месяцам. "
   ]
  },
  {
   "cell_type": "code",
   "execution_count": null,
   "id": "59640e02",
   "metadata": {},
   "outputs": [],
   "source": [
    "#Заменим данные в столбце duration на целочисленные.\n",
    "total_data['duration'] = total_data['duration'].astype('int')\n",
    "#Добавим столбец с помесячной выручкой, которую принёс каждый пользователь\n",
    "total_data['total_price'] = (total_data['total_rides'] * total_data['start_ride_price']) + (total_data['duration'] * total_data['minute_price']) + total_data['subscription_fee']\n",
    "\n",
    "total_data"
   ]
  },
  {
   "cell_type": "code",
   "execution_count": null,
   "id": "967a51e9",
   "metadata": {},
   "outputs": [],
   "source": [
    "total_data['total_price'].describe()"
   ]
  },
  {
   "cell_type": "markdown",
   "id": "fa28fa62",
   "metadata": {},
   "source": [
    "В среднем пользователи тратят около 340 рублей в месяц. Наибольшая сумма потраченная в сервисе аренды за месяц составляет 1444 рубля. "
   ]
  },
  {
   "cell_type": "markdown",
   "id": "a51c5072",
   "metadata": {},
   "source": [
    "#### Шаг 6. Проверка гипотез"
   ]
  },
  {
   "cell_type": "markdown",
   "id": "f29749ca",
   "metadata": {},
   "source": [
    "##### Гипотеза №1\n",
    "Тратят ли пользователи с подпиской больше времени на поездки?\n",
    "\n",
    "Нулевая гипотеза: Средняя длительность поездки пользователей с подпиской не отличается от средней длительности поездки пользователей без подписки.\n",
    "\n",
    "Альтернативная гипотеза: Средняя длительность поездки пользователей с подпиской больше средней длительности поездки пользователей без подписки."
   ]
  },
  {
   "cell_type": "code",
   "execution_count": null,
   "id": "1431b983",
   "metadata": {},
   "outputs": [],
   "source": [
    "duration_ultra_mean = data_with_subscription['duration'].mean()\n",
    "duration_free_mean = data_without_subscription['duration'].mean()\n",
    "print('Среднее время у Пользователей с подпиской: ', duration_ultra_mean)\n",
    "print('Среднее время у Пользователей без подписки: ', duration_free_mean)\n",
    "    \n",
    "alpha = 0.05\n",
    "\n",
    "result = st.ttest_ind(data_without_subscription['duration'], data_with_subscription['duration'], alternative='less')\n",
    "\n",
    "print('p-значение =', result.pvalue)\n",
    "if result.pvalue < alpha:\n",
    "    print ('Отвергаем нулевую гипотеву')\n",
    "else:\n",
    "    print ('Не получилось отвергнуть нулевую гипотезу')"
   ]
  },
  {
   "cell_type": "markdown",
   "id": "7bda0ffa",
   "metadata": {},
   "source": [
    "Подписка увеличивает среднее время на поездку. Кроме того, это подтверждает и средние значения продолжительности поездок для каждой категории пользователей. "
   ]
  },
  {
   "cell_type": "markdown",
   "id": "41e5921d",
   "metadata": {},
   "source": [
    "##### Гипотеза №2\n",
    "Расстояние одной поездки в 3130 метров — оптимальное с точки зрения износа самоката. Можно ли сказать, что расстояние, которое проезжают пользователи с подпиской за одну поездку, не превышает 3130 метров. \n",
    "\n",
    "Гипотеза 0: Среднее растояние, которое проезжают пользователи с подпиской равно 3130 метров.\n",
    "\n",
    "Гипотеза 1: Среднее растояние пользователей с подпиской больше 3130 метров."
   ]
  },
  {
   "cell_type": "code",
   "execution_count": null,
   "id": "469ef0b9",
   "metadata": {},
   "outputs": [],
   "source": [
    "alpha = 0.05\n",
    "\n",
    "good_distance = 3130\n",
    "result = st.ttest_1samp(data_with_subscription['distance'], good_distance, alternative='greater')\n",
    "\n",
    "print('p-значение =', result.pvalue)\n",
    "if result.pvalue < alpha:\n",
    "    print ('Отвергаем нулевую гипотеву')\n",
    "else:\n",
    "    print ('Не получилось отвергнуть нулевую гипотезу')"
   ]
  },
  {
   "cell_type": "markdown",
   "id": "efb271e0",
   "metadata": {},
   "source": [
    "Среднее растояние пользователей с подпиской не превышает 3130 метров."
   ]
  },
  {
   "cell_type": "markdown",
   "id": "cf4bebfc",
   "metadata": {},
   "source": [
    "##### Гипотеза №3\n",
    "Помесячная выручка от пользователей с подпиской по месяцам выше, чем выручка от пользователей без подписки.\n",
    "\n",
    "Гипотеза 0: Средняя помесячная выручка от пользователей с подпиской не отличается от средней помесячной выручки пользователей без подписки.\n",
    "\n",
    "Гипотеза 1: Средняя помесячная выручка от пользователей с подпиской выше, чем средняя помесячная выручка пользователей без подписки. "
   ]
  },
  {
   "cell_type": "code",
   "execution_count": null,
   "id": "243ab587",
   "metadata": {},
   "outputs": [],
   "source": [
    "#Разделим таблицу total_data на пользователей с подпиской и без.\n",
    "data_with_subscription_full = total_data[total_data['subscription_type'] == 'ultra']\n",
    "data_without_subscription_full = total_data[total_data['subscription_type'] == 'free']\n",
    "\n",
    "#Посчитаем среднне значения выручки для пользователей с подпиской и без.\n",
    "print('Средняя сумма пользователей с подпиской:', data_with_subscription_full['total_price'].mean().round())\n",
    "print('Средняя сумма пользователей без подписки:', data_without_subscription_full ['total_price'].mean().round())\n",
    "\n",
    "alpha = 0.05\n",
    "\n",
    "result = st.ttest_ind(data_with_subscription_full['total_price'], data_without_subscription_full['total_price'], alternative='greater')\n",
    "\n",
    "print('p-значение =', result.pvalue)\n",
    "if result.pvalue < alpha:\n",
    "    print ('Отвергаем нулевую гипотеву')\n",
    "else:\n",
    "    print ('Не получилось отвергнуть нулевую гипотезу')"
   ]
  },
  {
   "cell_type": "markdown",
   "id": "d387f015",
   "metadata": {},
   "source": [
    "Помесячная выручка от пользователей с подпиской выше, чем помесячная выручка от пользователей без подписки."
   ]
  },
  {
   "cell_type": "markdown",
   "id": "6362ea6e",
   "metadata": {},
   "source": [
    "##### Гипотеза № 4\n",
    "Представьте такую ситуацию: техническая команда сервиса обновила сервера, с которыми взаимодействует мобильное приложение. Она надеется, что из-за этого количество обращений в техподдержку значимо снизилось. Некоторый файл содержит для каждого пользователя данные о количестве обращений до обновления и после него. Какой тест вам понадобился бы для проверки этой гипотезы?"
   ]
  },
  {
   "cell_type": "markdown",
   "id": "d3373e81",
   "metadata": {},
   "source": [
    "Для проверки данной гипотизы мы используем t-тест. \n",
    "Для этого нам нужно применить метод scipy.stats.ttest_rel()\n",
    "\n",
    "Гипотеза 0: Количество обращений в техподдержку после сервисного обслуживания не изменилось. \n",
    "\n",
    "Гипотеза 1: Количество обращений в техподдержку уменьшилось после сервисного обслуживания, чем до. "
   ]
  },
  {
   "cell_type": "markdown",
   "id": "b1f50a4c",
   "metadata": {},
   "source": [
    "Выборки являются зависимыми, поэтому применим метод scipy.stats.ttest_rel()."
   ]
  },
  {
   "cell_type": "markdown",
   "id": "3f18f378",
   "metadata": {},
   "source": [
    "#### Шаг 7. Распределения"
   ]
  },
  {
   "cell_type": "markdown",
   "id": "6f443999",
   "metadata": {},
   "source": [
    "#### Вывод"
   ]
  },
  {
   "cell_type": "markdown",
   "id": "83972880",
   "metadata": {},
   "source": [
    "Во время работы над проектом, мы проанализировали и предобработали все имеющиеся у нас данные. Удалили явные дубликаты в файле users.\n",
    "\n",
    "В ходе анализа данных, мы пришли к выводу, что самые поплуярные города для аренды самокатов - это Пятигорск, Екатеренбург и Ростов-на-Дону. Чуть меньше половины всех пользователей используют подписку на сервис. Средний возраст пользователя - 25 лет. Растояние и время средней поездки составляет 3 км и 17,8 минут. \n",
    "\n",
    "Далее мы соединили все файлы с данными и построили графики для того чтобы сравнить вреям и растояние которое люди тратят на поездку с подпиской и без. Судя по графикам, мы пришли к выводу, что подписка не увеличивает среднее время и растояние поездки.\n",
    "Также мы расчитали, что в среднем пользователи тратят около 340 рублей в месяц. Наибольшая сумма потраченная в сервисе аренды за месяц составляет 1444 рубля.\n",
    "\n",
    "В ходе работы также были проверены 3 гипотезы, такие выводы мы получили:\n",
    "\n",
    "1. Подписка увеличивает среднее время на поездку.\n",
    "\n",
    "2. Среднее растояние пользователей с подпиской не превышает 3130 метров.\n",
    "\n",
    "3. Помесячная выручка от пользователей с подпиской выше, чем помесячная выручка от пользователей без подписки.\n"
   ]
  }
 ],
 "metadata": {
  "ExecuteTimeLog": [
   {
    "duration": 926,
    "start_time": "2023-07-05T12:06:51.241Z"
   },
   {
    "duration": 149,
    "start_time": "2023-07-05T12:09:37.246Z"
   },
   {
    "duration": 32,
    "start_time": "2023-07-05T12:10:18.662Z"
   },
   {
    "duration": 49,
    "start_time": "2023-07-05T12:10:39.844Z"
   },
   {
    "duration": 3,
    "start_time": "2023-07-05T12:12:00.855Z"
   },
   {
    "duration": 55,
    "start_time": "2023-07-05T12:12:02.751Z"
   },
   {
    "duration": 144,
    "start_time": "2023-07-05T12:12:43.435Z"
   },
   {
    "duration": 73,
    "start_time": "2023-07-05T12:12:49.042Z"
   },
   {
    "duration": 288,
    "start_time": "2023-07-05T12:13:02.295Z"
   },
   {
    "duration": 15,
    "start_time": "2023-07-05T12:14:06.788Z"
   },
   {
    "duration": 13,
    "start_time": "2023-07-05T12:14:17.441Z"
   },
   {
    "duration": 7,
    "start_time": "2023-07-05T12:14:23.763Z"
   },
   {
    "duration": 9,
    "start_time": "2023-07-05T12:17:44.093Z"
   },
   {
    "duration": 10,
    "start_time": "2023-07-05T12:17:46.914Z"
   },
   {
    "duration": 8,
    "start_time": "2023-07-05T12:17:51.855Z"
   },
   {
    "duration": 11,
    "start_time": "2023-07-05T13:00:42.645Z"
   },
   {
    "duration": 32,
    "start_time": "2023-07-05T13:00:54.433Z"
   },
   {
    "duration": 10,
    "start_time": "2023-07-05T13:01:25.325Z"
   },
   {
    "duration": 5,
    "start_time": "2023-07-05T13:02:31.931Z"
   },
   {
    "duration": 13,
    "start_time": "2023-07-05T13:02:38.311Z"
   },
   {
    "duration": 11,
    "start_time": "2023-07-05T13:03:15.752Z"
   },
   {
    "duration": 11,
    "start_time": "2023-07-05T13:03:16.153Z"
   },
   {
    "duration": 652,
    "start_time": "2023-07-05T13:03:34.692Z"
   },
   {
    "duration": 82,
    "start_time": "2023-07-05T13:03:35.345Z"
   },
   {
    "duration": 11,
    "start_time": "2023-07-05T13:03:35.429Z"
   },
   {
    "duration": 8,
    "start_time": "2023-07-05T13:03:35.441Z"
   },
   {
    "duration": 9,
    "start_time": "2023-07-05T13:03:35.450Z"
   },
   {
    "duration": 12,
    "start_time": "2023-07-05T13:03:35.460Z"
   },
   {
    "duration": 7,
    "start_time": "2023-07-05T13:03:35.475Z"
   },
   {
    "duration": 13,
    "start_time": "2023-07-05T13:03:35.484Z"
   },
   {
    "duration": 7,
    "start_time": "2023-07-05T13:04:21.996Z"
   },
   {
    "duration": 6,
    "start_time": "2023-07-05T13:05:19.311Z"
   },
   {
    "duration": 6,
    "start_time": "2023-07-05T13:05:21.262Z"
   },
   {
    "duration": 6,
    "start_time": "2023-07-05T13:05:45.808Z"
   },
   {
    "duration": 11,
    "start_time": "2023-07-05T13:05:56.414Z"
   },
   {
    "duration": 5,
    "start_time": "2023-07-05T13:06:01.733Z"
   },
   {
    "duration": 9,
    "start_time": "2023-07-05T13:07:27.205Z"
   },
   {
    "duration": 9,
    "start_time": "2023-07-05T13:07:27.962Z"
   },
   {
    "duration": 6,
    "start_time": "2023-07-05T13:07:30.035Z"
   },
   {
    "duration": 7,
    "start_time": "2023-07-05T13:08:00.264Z"
   },
   {
    "duration": 8,
    "start_time": "2023-07-05T13:08:00.483Z"
   },
   {
    "duration": 8,
    "start_time": "2023-07-05T13:08:00.983Z"
   },
   {
    "duration": 588,
    "start_time": "2023-07-05T13:09:18.697Z"
   },
   {
    "duration": 79,
    "start_time": "2023-07-05T13:09:19.286Z"
   },
   {
    "duration": 11,
    "start_time": "2023-07-05T13:09:19.367Z"
   },
   {
    "duration": 14,
    "start_time": "2023-07-05T13:09:19.379Z"
   },
   {
    "duration": 30,
    "start_time": "2023-07-05T13:09:19.395Z"
   },
   {
    "duration": 10,
    "start_time": "2023-07-05T13:09:19.427Z"
   },
   {
    "duration": 5,
    "start_time": "2023-07-05T13:09:19.438Z"
   },
   {
    "duration": 5,
    "start_time": "2023-07-05T13:09:19.445Z"
   },
   {
    "duration": 7,
    "start_time": "2023-07-05T13:09:19.451Z"
   },
   {
    "duration": 8,
    "start_time": "2023-07-05T13:09:19.460Z"
   },
   {
    "duration": 7,
    "start_time": "2023-07-05T13:09:19.470Z"
   },
   {
    "duration": 8,
    "start_time": "2023-07-05T13:09:19.478Z"
   },
   {
    "duration": 4,
    "start_time": "2023-07-05T13:09:19.488Z"
   },
   {
    "duration": 7,
    "start_time": "2023-07-05T13:15:14.704Z"
   },
   {
    "duration": 83,
    "start_time": "2023-07-05T13:15:32.545Z"
   },
   {
    "duration": 6,
    "start_time": "2023-07-05T13:15:37.818Z"
   },
   {
    "duration": 11,
    "start_time": "2023-07-05T13:21:10.983Z"
   },
   {
    "duration": 11,
    "start_time": "2023-07-05T13:21:25.357Z"
   },
   {
    "duration": 10,
    "start_time": "2023-07-05T13:21:43.947Z"
   },
   {
    "duration": 9,
    "start_time": "2023-07-05T13:21:49.801Z"
   },
   {
    "duration": 10,
    "start_time": "2023-07-05T13:21:56.109Z"
   },
   {
    "duration": 6,
    "start_time": "2023-07-05T13:23:41.321Z"
   },
   {
    "duration": 10,
    "start_time": "2023-07-05T13:23:51.447Z"
   },
   {
    "duration": 6,
    "start_time": "2023-07-05T13:24:17.845Z"
   },
   {
    "duration": 693,
    "start_time": "2023-07-05T13:24:41.346Z"
   },
   {
    "duration": 318,
    "start_time": "2023-07-05T13:24:42.041Z"
   },
   {
    "duration": 17,
    "start_time": "2023-07-05T13:24:42.360Z"
   },
   {
    "duration": 10,
    "start_time": "2023-07-05T13:24:42.380Z"
   },
   {
    "duration": 8,
    "start_time": "2023-07-05T13:24:42.392Z"
   },
   {
    "duration": 7,
    "start_time": "2023-07-05T13:24:42.401Z"
   },
   {
    "duration": 5,
    "start_time": "2023-07-05T13:24:42.409Z"
   },
   {
    "duration": 5,
    "start_time": "2023-07-05T13:24:42.415Z"
   },
   {
    "duration": 6,
    "start_time": "2023-07-05T13:24:42.421Z"
   },
   {
    "duration": 5,
    "start_time": "2023-07-05T13:24:42.428Z"
   },
   {
    "duration": 10,
    "start_time": "2023-07-05T13:24:42.469Z"
   },
   {
    "duration": 8,
    "start_time": "2023-07-05T13:24:42.482Z"
   },
   {
    "duration": 5,
    "start_time": "2023-07-05T13:24:42.492Z"
   },
   {
    "duration": 8,
    "start_time": "2023-07-05T13:24:42.498Z"
   },
   {
    "duration": 4,
    "start_time": "2023-07-05T13:24:42.508Z"
   },
   {
    "duration": 9,
    "start_time": "2023-07-05T13:25:09.477Z"
   },
   {
    "duration": 7,
    "start_time": "2023-07-05T13:25:20.915Z"
   },
   {
    "duration": 49,
    "start_time": "2023-07-08T10:55:27.920Z"
   },
   {
    "duration": 803,
    "start_time": "2023-07-08T10:55:37.157Z"
   },
   {
    "duration": 223,
    "start_time": "2023-07-08T10:55:37.963Z"
   },
   {
    "duration": 13,
    "start_time": "2023-07-08T10:55:38.187Z"
   },
   {
    "duration": 9,
    "start_time": "2023-07-08T10:55:38.201Z"
   },
   {
    "duration": 14,
    "start_time": "2023-07-08T10:55:38.212Z"
   },
   {
    "duration": 9,
    "start_time": "2023-07-08T10:55:38.228Z"
   },
   {
    "duration": 5,
    "start_time": "2023-07-08T10:55:38.239Z"
   },
   {
    "duration": 5,
    "start_time": "2023-07-08T10:55:38.245Z"
   },
   {
    "duration": 17,
    "start_time": "2023-07-08T10:55:38.251Z"
   },
   {
    "duration": 5,
    "start_time": "2023-07-08T10:55:38.269Z"
   },
   {
    "duration": 13,
    "start_time": "2023-07-08T10:55:38.275Z"
   },
   {
    "duration": 10,
    "start_time": "2023-07-08T10:55:38.289Z"
   },
   {
    "duration": 6,
    "start_time": "2023-07-08T10:55:38.300Z"
   },
   {
    "duration": 30,
    "start_time": "2023-07-08T10:55:38.308Z"
   },
   {
    "duration": 18,
    "start_time": "2023-07-08T10:55:38.340Z"
   },
   {
    "duration": 24,
    "start_time": "2023-07-08T10:55:38.360Z"
   },
   {
    "duration": 4,
    "start_time": "2023-07-08T10:55:58.686Z"
   },
   {
    "duration": 76,
    "start_time": "2023-07-08T10:56:10.022Z"
   },
   {
    "duration": 5,
    "start_time": "2023-07-08T10:56:15.668Z"
   },
   {
    "duration": 5,
    "start_time": "2023-07-08T10:56:22.176Z"
   },
   {
    "duration": 5,
    "start_time": "2023-07-08T10:57:41.013Z"
   },
   {
    "duration": 9,
    "start_time": "2023-07-08T11:03:52.884Z"
   },
   {
    "duration": 8,
    "start_time": "2023-07-08T11:03:57.736Z"
   },
   {
    "duration": 27,
    "start_time": "2023-07-08T11:04:03.062Z"
   },
   {
    "duration": 90,
    "start_time": "2023-07-08T11:05:18.707Z"
   },
   {
    "duration": 108,
    "start_time": "2023-07-08T11:05:29.122Z"
   },
   {
    "duration": 116,
    "start_time": "2023-07-08T11:05:38.634Z"
   },
   {
    "duration": 119,
    "start_time": "2023-07-08T11:05:48.422Z"
   },
   {
    "duration": 179,
    "start_time": "2023-07-08T11:05:53.599Z"
   },
   {
    "duration": 131,
    "start_time": "2023-07-08T11:06:00.271Z"
   },
   {
    "duration": 231,
    "start_time": "2023-07-08T11:07:29.305Z"
   },
   {
    "duration": 138,
    "start_time": "2023-07-08T11:07:39.224Z"
   },
   {
    "duration": 192,
    "start_time": "2023-07-08T11:07:43.954Z"
   },
   {
    "duration": 132,
    "start_time": "2023-07-08T11:07:49.735Z"
   },
   {
    "duration": 141,
    "start_time": "2023-07-08T11:07:55.616Z"
   },
   {
    "duration": 134,
    "start_time": "2023-07-08T11:08:00.528Z"
   },
   {
    "duration": 10,
    "start_time": "2023-07-08T11:09:20.165Z"
   },
   {
    "duration": 8,
    "start_time": "2023-07-08T11:09:44.201Z"
   },
   {
    "duration": 127,
    "start_time": "2023-07-08T11:10:01.320Z"
   },
   {
    "duration": 8,
    "start_time": "2023-07-08T11:12:32.204Z"
   },
   {
    "duration": 5,
    "start_time": "2023-07-08T11:12:44.196Z"
   },
   {
    "duration": 5,
    "start_time": "2023-07-08T11:12:59.975Z"
   },
   {
    "duration": 5,
    "start_time": "2023-07-08T11:13:14.678Z"
   },
   {
    "duration": 4,
    "start_time": "2023-07-08T11:13:21.146Z"
   },
   {
    "duration": 9,
    "start_time": "2023-07-08T11:13:46.126Z"
   },
   {
    "duration": 5,
    "start_time": "2023-07-08T11:14:19.328Z"
   },
   {
    "duration": 4,
    "start_time": "2023-07-08T11:14:23.864Z"
   },
   {
    "duration": 4,
    "start_time": "2023-07-08T11:15:10.954Z"
   },
   {
    "duration": 11,
    "start_time": "2023-07-08T11:15:37.715Z"
   },
   {
    "duration": 8,
    "start_time": "2023-07-08T11:16:06.097Z"
   },
   {
    "duration": 9,
    "start_time": "2023-07-08T11:16:21.683Z"
   },
   {
    "duration": 14,
    "start_time": "2023-07-08T11:17:25.175Z"
   },
   {
    "duration": 5,
    "start_time": "2023-07-08T11:17:33.737Z"
   },
   {
    "duration": 5,
    "start_time": "2023-07-08T11:17:44.332Z"
   },
   {
    "duration": 5,
    "start_time": "2023-07-08T11:17:56.265Z"
   },
   {
    "duration": 5,
    "start_time": "2023-07-08T11:18:02.845Z"
   },
   {
    "duration": 5,
    "start_time": "2023-07-08T11:18:16.502Z"
   },
   {
    "duration": 10,
    "start_time": "2023-07-08T11:18:46.874Z"
   },
   {
    "duration": 6,
    "start_time": "2023-07-08T11:19:05.694Z"
   },
   {
    "duration": 7,
    "start_time": "2023-07-08T11:19:19.482Z"
   },
   {
    "duration": 5,
    "start_time": "2023-07-08T11:19:33.045Z"
   },
   {
    "duration": 5,
    "start_time": "2023-07-08T11:19:45.784Z"
   },
   {
    "duration": 740,
    "start_time": "2023-07-08T12:43:06.397Z"
   },
   {
    "duration": 465,
    "start_time": "2023-07-08T12:43:07.140Z"
   },
   {
    "duration": 12,
    "start_time": "2023-07-08T12:43:07.607Z"
   },
   {
    "duration": 15,
    "start_time": "2023-07-08T12:43:07.621Z"
   },
   {
    "duration": 14,
    "start_time": "2023-07-08T12:43:07.639Z"
   },
   {
    "duration": 23,
    "start_time": "2023-07-08T12:43:07.655Z"
   },
   {
    "duration": 20,
    "start_time": "2023-07-08T12:43:07.680Z"
   },
   {
    "duration": 4,
    "start_time": "2023-07-08T12:43:07.702Z"
   },
   {
    "duration": 18,
    "start_time": "2023-07-08T12:43:07.708Z"
   },
   {
    "duration": 11,
    "start_time": "2023-07-08T12:43:07.727Z"
   },
   {
    "duration": 6,
    "start_time": "2023-07-08T12:43:07.740Z"
   },
   {
    "duration": 12,
    "start_time": "2023-07-08T12:43:07.748Z"
   },
   {
    "duration": 23,
    "start_time": "2023-07-08T12:43:07.762Z"
   },
   {
    "duration": 7,
    "start_time": "2023-07-08T12:43:07.788Z"
   },
   {
    "duration": 16,
    "start_time": "2023-07-08T12:43:07.797Z"
   },
   {
    "duration": 8,
    "start_time": "2023-07-08T12:43:07.815Z"
   },
   {
    "duration": 5,
    "start_time": "2023-07-08T12:43:07.832Z"
   },
   {
    "duration": 159,
    "start_time": "2023-07-08T12:43:07.839Z"
   },
   {
    "duration": 6,
    "start_time": "2023-07-08T12:43:08.000Z"
   },
   {
    "duration": 6,
    "start_time": "2023-07-08T12:43:08.007Z"
   },
   {
    "duration": 17,
    "start_time": "2023-07-08T12:43:08.015Z"
   },
   {
    "duration": 8,
    "start_time": "2023-07-08T12:43:08.034Z"
   },
   {
    "duration": 6,
    "start_time": "2023-07-08T12:43:48.859Z"
   },
   {
    "duration": 6,
    "start_time": "2023-07-08T12:43:59.452Z"
   },
   {
    "duration": 6,
    "start_time": "2023-07-08T12:46:15.196Z"
   },
   {
    "duration": 7,
    "start_time": "2023-07-08T12:46:51.916Z"
   },
   {
    "duration": 244,
    "start_time": "2023-07-08T12:47:40.830Z"
   },
   {
    "duration": 283,
    "start_time": "2023-07-08T12:48:11.707Z"
   },
   {
    "duration": 127,
    "start_time": "2023-07-08T12:48:50.908Z"
   },
   {
    "duration": 191,
    "start_time": "2023-07-08T12:49:02.502Z"
   },
   {
    "duration": 161,
    "start_time": "2023-07-08T12:49:07.798Z"
   },
   {
    "duration": 231,
    "start_time": "2023-07-08T12:56:09.813Z"
   },
   {
    "duration": 233,
    "start_time": "2023-07-08T12:57:58.636Z"
   },
   {
    "duration": 9,
    "start_time": "2023-07-08T12:58:59.304Z"
   },
   {
    "duration": 11,
    "start_time": "2023-07-08T12:59:58.990Z"
   },
   {
    "duration": 10,
    "start_time": "2023-07-08T13:11:08.181Z"
   },
   {
    "duration": 608,
    "start_time": "2023-07-08T13:15:10.085Z"
   },
   {
    "duration": 157,
    "start_time": "2023-07-08T13:15:10.695Z"
   },
   {
    "duration": 16,
    "start_time": "2023-07-08T13:15:10.854Z"
   },
   {
    "duration": 11,
    "start_time": "2023-07-08T13:15:10.872Z"
   },
   {
    "duration": 10,
    "start_time": "2023-07-08T13:15:10.886Z"
   },
   {
    "duration": 13,
    "start_time": "2023-07-08T13:15:10.898Z"
   },
   {
    "duration": 13,
    "start_time": "2023-07-08T13:15:10.913Z"
   },
   {
    "duration": 4,
    "start_time": "2023-07-08T13:15:10.932Z"
   },
   {
    "duration": 17,
    "start_time": "2023-07-08T13:15:10.938Z"
   },
   {
    "duration": 14,
    "start_time": "2023-07-08T13:15:10.957Z"
   },
   {
    "duration": 9,
    "start_time": "2023-07-08T13:15:10.972Z"
   },
   {
    "duration": 12,
    "start_time": "2023-07-08T13:15:10.984Z"
   },
   {
    "duration": 18,
    "start_time": "2023-07-08T13:15:10.998Z"
   },
   {
    "duration": 5,
    "start_time": "2023-07-08T13:15:11.031Z"
   },
   {
    "duration": 12,
    "start_time": "2023-07-08T13:15:11.038Z"
   },
   {
    "duration": 8,
    "start_time": "2023-07-08T13:15:11.051Z"
   },
   {
    "duration": 6,
    "start_time": "2023-07-08T13:15:11.061Z"
   },
   {
    "duration": 167,
    "start_time": "2023-07-08T13:15:11.069Z"
   },
   {
    "duration": 6,
    "start_time": "2023-07-08T13:15:11.237Z"
   },
   {
    "duration": 9,
    "start_time": "2023-07-08T13:15:11.245Z"
   },
   {
    "duration": 172,
    "start_time": "2023-07-08T13:15:11.256Z"
   },
   {
    "duration": 254,
    "start_time": "2023-07-08T13:15:11.430Z"
   },
   {
    "duration": 11,
    "start_time": "2023-07-08T13:15:11.686Z"
   },
   {
    "duration": 315,
    "start_time": "2023-07-08T13:15:11.699Z"
   },
   {
    "duration": 17,
    "start_time": "2023-07-08T13:15:12.015Z"
   },
   {
    "duration": 83,
    "start_time": "2023-07-08T13:19:20.377Z"
   },
   {
    "duration": 34,
    "start_time": "2023-07-08T13:19:33.716Z"
   },
   {
    "duration": 11,
    "start_time": "2023-07-08T13:20:51.409Z"
   },
   {
    "duration": 14,
    "start_time": "2023-07-08T13:21:23.609Z"
   },
   {
    "duration": 34,
    "start_time": "2023-07-08T13:21:32.042Z"
   },
   {
    "duration": 27,
    "start_time": "2023-07-08T13:35:47.417Z"
   },
   {
    "duration": 15,
    "start_time": "2023-07-08T13:36:01.829Z"
   },
   {
    "duration": 23,
    "start_time": "2023-07-08T13:36:45.946Z"
   },
   {
    "duration": 24,
    "start_time": "2023-07-08T13:37:04.172Z"
   },
   {
    "duration": 8,
    "start_time": "2023-07-08T13:45:16.826Z"
   },
   {
    "duration": 21,
    "start_time": "2023-07-08T13:45:23.729Z"
   },
   {
    "duration": 21,
    "start_time": "2023-07-08T13:45:38.524Z"
   },
   {
    "duration": 23,
    "start_time": "2023-07-08T13:46:00.638Z"
   },
   {
    "duration": 19,
    "start_time": "2023-07-08T13:46:13.980Z"
   },
   {
    "duration": 16,
    "start_time": "2023-07-08T13:46:27.438Z"
   },
   {
    "duration": 16,
    "start_time": "2023-07-08T13:46:35.259Z"
   },
   {
    "duration": 16,
    "start_time": "2023-07-08T13:46:37.666Z"
   },
   {
    "duration": 237,
    "start_time": "2023-07-08T13:52:53.600Z"
   },
   {
    "duration": 282,
    "start_time": "2023-07-08T14:18:16.968Z"
   },
   {
    "duration": 291,
    "start_time": "2023-07-08T14:18:56.769Z"
   },
   {
    "duration": 265,
    "start_time": "2023-07-08T14:19:03.354Z"
   },
   {
    "duration": 377,
    "start_time": "2023-07-08T14:19:29.472Z"
   },
   {
    "duration": 253,
    "start_time": "2023-07-08T14:19:31.635Z"
   },
   {
    "duration": 664,
    "start_time": "2023-07-08T14:20:48.254Z"
   },
   {
    "duration": 370,
    "start_time": "2023-07-08T14:20:48.920Z"
   },
   {
    "duration": 12,
    "start_time": "2023-07-08T14:20:49.292Z"
   },
   {
    "duration": 11,
    "start_time": "2023-07-08T14:20:49.306Z"
   },
   {
    "duration": 22,
    "start_time": "2023-07-08T14:20:49.319Z"
   },
   {
    "duration": 23,
    "start_time": "2023-07-08T14:20:49.343Z"
   },
   {
    "duration": 7,
    "start_time": "2023-07-08T14:20:49.369Z"
   },
   {
    "duration": 10,
    "start_time": "2023-07-08T14:20:49.378Z"
   },
   {
    "duration": 8,
    "start_time": "2023-07-08T14:20:49.390Z"
   },
   {
    "duration": 6,
    "start_time": "2023-07-08T14:20:49.401Z"
   },
   {
    "duration": 28,
    "start_time": "2023-07-08T14:20:49.409Z"
   },
   {
    "duration": 13,
    "start_time": "2023-07-08T14:20:49.438Z"
   },
   {
    "duration": 25,
    "start_time": "2023-07-08T14:20:49.452Z"
   },
   {
    "duration": 26,
    "start_time": "2023-07-08T14:20:49.479Z"
   },
   {
    "duration": 27,
    "start_time": "2023-07-08T14:20:49.507Z"
   },
   {
    "duration": 28,
    "start_time": "2023-07-08T14:20:49.540Z"
   },
   {
    "duration": 175,
    "start_time": "2023-07-08T14:20:49.570Z"
   },
   {
    "duration": 9,
    "start_time": "2023-07-08T14:20:49.747Z"
   },
   {
    "duration": 12,
    "start_time": "2023-07-08T14:20:49.757Z"
   },
   {
    "duration": 189,
    "start_time": "2023-07-08T14:20:49.770Z"
   },
   {
    "duration": 304,
    "start_time": "2023-07-08T14:20:49.961Z"
   },
   {
    "duration": 8,
    "start_time": "2023-07-08T14:20:50.267Z"
   },
   {
    "duration": 319,
    "start_time": "2023-07-08T14:20:50.277Z"
   },
   {
    "duration": 8,
    "start_time": "2023-07-08T14:20:50.598Z"
   },
   {
    "duration": 50,
    "start_time": "2023-07-08T14:20:50.608Z"
   },
   {
    "duration": 20,
    "start_time": "2023-07-08T14:20:50.659Z"
   },
   {
    "duration": 27,
    "start_time": "2023-07-08T14:20:50.681Z"
   },
   {
    "duration": 250,
    "start_time": "2023-07-08T14:20:50.732Z"
   },
   {
    "duration": 271,
    "start_time": "2023-07-08T14:20:50.984Z"
   },
   {
    "duration": 255,
    "start_time": "2023-07-08T14:20:51.259Z"
   },
   {
    "duration": 261,
    "start_time": "2023-07-08T14:20:51.516Z"
   },
   {
    "duration": 316,
    "start_time": "2023-07-08T14:20:51.779Z"
   },
   {
    "duration": 443,
    "start_time": "2023-07-08T14:22:17.265Z"
   },
   {
    "duration": 505,
    "start_time": "2023-07-08T14:22:44.231Z"
   },
   {
    "duration": 311,
    "start_time": "2023-07-08T14:23:07.158Z"
   },
   {
    "duration": 501,
    "start_time": "2023-07-08T14:23:23.458Z"
   },
   {
    "duration": 388,
    "start_time": "2023-07-08T14:23:35.411Z"
   },
   {
    "duration": 369,
    "start_time": "2023-07-08T14:23:40.728Z"
   },
   {
    "duration": 374,
    "start_time": "2023-07-08T14:24:02.511Z"
   },
   {
    "duration": 539,
    "start_time": "2023-07-08T14:24:09.121Z"
   },
   {
    "duration": 438,
    "start_time": "2023-07-08T14:24:18.712Z"
   },
   {
    "duration": 391,
    "start_time": "2023-07-08T14:24:44.471Z"
   },
   {
    "duration": 460,
    "start_time": "2023-07-08T14:24:54.358Z"
   },
   {
    "duration": 517,
    "start_time": "2023-07-08T14:25:13.559Z"
   },
   {
    "duration": 473,
    "start_time": "2023-07-08T14:27:01.273Z"
   },
   {
    "duration": 464,
    "start_time": "2023-07-08T14:27:27.611Z"
   },
   {
    "duration": 723,
    "start_time": "2023-07-08T14:37:59.158Z"
   },
   {
    "duration": 119,
    "start_time": "2023-07-08T14:37:59.883Z"
   },
   {
    "duration": 13,
    "start_time": "2023-07-08T14:38:00.004Z"
   },
   {
    "duration": 126,
    "start_time": "2023-07-08T14:38:00.019Z"
   },
   {
    "duration": 128,
    "start_time": "2023-07-08T14:38:00.148Z"
   },
   {
    "duration": 43,
    "start_time": "2023-07-08T14:38:00.277Z"
   },
   {
    "duration": 48,
    "start_time": "2023-07-08T14:38:00.322Z"
   },
   {
    "duration": 103,
    "start_time": "2023-07-08T14:38:00.372Z"
   },
   {
    "duration": 43,
    "start_time": "2023-07-08T14:38:00.477Z"
   },
   {
    "duration": 46,
    "start_time": "2023-07-08T14:38:00.522Z"
   },
   {
    "duration": 40,
    "start_time": "2023-07-08T14:38:00.570Z"
   },
   {
    "duration": 63,
    "start_time": "2023-07-08T14:38:00.611Z"
   },
   {
    "duration": 36,
    "start_time": "2023-07-08T14:38:00.675Z"
   },
   {
    "duration": 48,
    "start_time": "2023-07-08T14:38:00.713Z"
   },
   {
    "duration": 39,
    "start_time": "2023-07-08T14:38:00.762Z"
   },
   {
    "duration": 38,
    "start_time": "2023-07-08T14:38:00.803Z"
   },
   {
    "duration": 235,
    "start_time": "2023-07-08T14:38:00.843Z"
   },
   {
    "duration": 5,
    "start_time": "2023-07-08T14:38:01.079Z"
   },
   {
    "duration": 77,
    "start_time": "2023-07-08T14:38:01.086Z"
   },
   {
    "duration": 199,
    "start_time": "2023-07-08T14:38:01.164Z"
   },
   {
    "duration": 271,
    "start_time": "2023-07-08T14:38:01.364Z"
   },
   {
    "duration": 22,
    "start_time": "2023-07-08T14:38:01.636Z"
   },
   {
    "duration": 350,
    "start_time": "2023-07-08T14:38:01.660Z"
   },
   {
    "duration": 8,
    "start_time": "2023-07-08T14:38:02.011Z"
   },
   {
    "duration": 73,
    "start_time": "2023-07-08T14:38:02.020Z"
   },
   {
    "duration": 55,
    "start_time": "2023-07-08T14:38:02.094Z"
   },
   {
    "duration": 48,
    "start_time": "2023-07-08T14:38:02.151Z"
   },
   {
    "duration": 399,
    "start_time": "2023-07-08T14:38:02.200Z"
   },
   {
    "duration": 396,
    "start_time": "2023-07-08T14:38:02.601Z"
   },
   {
    "duration": 5,
    "start_time": "2023-07-08T14:41:10.924Z"
   },
   {
    "duration": 19,
    "start_time": "2023-07-08T14:41:17.045Z"
   },
   {
    "duration": 25,
    "start_time": "2023-07-08T14:41:42.145Z"
   },
   {
    "duration": 5,
    "start_time": "2023-07-08T14:42:50.144Z"
   },
   {
    "duration": 821,
    "start_time": "2023-07-09T06:33:13.227Z"
   },
   {
    "duration": 225,
    "start_time": "2023-07-09T06:33:14.050Z"
   },
   {
    "duration": 13,
    "start_time": "2023-07-09T06:33:14.276Z"
   },
   {
    "duration": 9,
    "start_time": "2023-07-09T06:33:14.291Z"
   },
   {
    "duration": 7,
    "start_time": "2023-07-09T06:33:14.302Z"
   },
   {
    "duration": 9,
    "start_time": "2023-07-09T06:33:14.311Z"
   },
   {
    "duration": 18,
    "start_time": "2023-07-09T06:33:14.321Z"
   },
   {
    "duration": 6,
    "start_time": "2023-07-09T06:33:14.342Z"
   },
   {
    "duration": 7,
    "start_time": "2023-07-09T06:33:14.350Z"
   },
   {
    "duration": 5,
    "start_time": "2023-07-09T06:33:14.358Z"
   },
   {
    "duration": 7,
    "start_time": "2023-07-09T06:33:14.364Z"
   },
   {
    "duration": 8,
    "start_time": "2023-07-09T06:33:14.372Z"
   },
   {
    "duration": 4,
    "start_time": "2023-07-09T06:33:14.381Z"
   },
   {
    "duration": 10,
    "start_time": "2023-07-09T06:33:14.387Z"
   },
   {
    "duration": 8,
    "start_time": "2023-07-09T06:33:14.399Z"
   },
   {
    "duration": 10,
    "start_time": "2023-07-09T06:33:14.435Z"
   },
   {
    "duration": 144,
    "start_time": "2023-07-09T06:33:14.446Z"
   },
   {
    "duration": 5,
    "start_time": "2023-07-09T06:33:14.592Z"
   },
   {
    "duration": 14,
    "start_time": "2023-07-09T06:33:14.598Z"
   },
   {
    "duration": 199,
    "start_time": "2023-07-09T06:33:14.614Z"
   },
   {
    "duration": 263,
    "start_time": "2023-07-09T06:33:14.815Z"
   },
   {
    "duration": 8,
    "start_time": "2023-07-09T06:33:15.080Z"
   },
   {
    "duration": 301,
    "start_time": "2023-07-09T06:33:15.089Z"
   },
   {
    "duration": 9,
    "start_time": "2023-07-09T06:33:15.391Z"
   },
   {
    "duration": 44,
    "start_time": "2023-07-09T06:33:15.401Z"
   },
   {
    "duration": 26,
    "start_time": "2023-07-09T06:33:15.448Z"
   },
   {
    "duration": 18,
    "start_time": "2023-07-09T06:33:15.476Z"
   },
   {
    "duration": 415,
    "start_time": "2023-07-09T06:33:15.496Z"
   },
   {
    "duration": 372,
    "start_time": "2023-07-09T06:33:15.912Z"
   },
   {
    "duration": 4,
    "start_time": "2023-07-09T06:33:16.286Z"
   },
   {
    "duration": 87,
    "start_time": "2023-07-09T06:35:24.492Z"
   },
   {
    "duration": 891,
    "start_time": "2023-07-09T06:47:30.656Z"
   },
   {
    "duration": 877,
    "start_time": "2023-07-09T06:48:33.622Z"
   },
   {
    "duration": 988,
    "start_time": "2023-07-09T06:49:16.172Z"
   },
   {
    "duration": 858,
    "start_time": "2023-07-09T06:49:25.392Z"
   },
   {
    "duration": 16,
    "start_time": "2023-07-09T06:54:18.190Z"
   },
   {
    "duration": 764,
    "start_time": "2023-07-09T06:55:14.563Z"
   },
   {
    "duration": 225,
    "start_time": "2023-07-09T06:55:15.330Z"
   },
   {
    "duration": 14,
    "start_time": "2023-07-09T06:55:15.558Z"
   },
   {
    "duration": 16,
    "start_time": "2023-07-09T06:55:15.574Z"
   },
   {
    "duration": 9,
    "start_time": "2023-07-09T06:55:15.592Z"
   },
   {
    "duration": 11,
    "start_time": "2023-07-09T06:55:15.603Z"
   },
   {
    "duration": 5,
    "start_time": "2023-07-09T06:55:15.615Z"
   },
   {
    "duration": 11,
    "start_time": "2023-07-09T06:55:15.621Z"
   },
   {
    "duration": 29,
    "start_time": "2023-07-09T06:55:15.633Z"
   },
   {
    "duration": 6,
    "start_time": "2023-07-09T06:55:15.666Z"
   },
   {
    "duration": 8,
    "start_time": "2023-07-09T06:55:15.674Z"
   },
   {
    "duration": 16,
    "start_time": "2023-07-09T06:55:15.684Z"
   },
   {
    "duration": 5,
    "start_time": "2023-07-09T06:55:15.702Z"
   },
   {
    "duration": 19,
    "start_time": "2023-07-09T06:55:15.708Z"
   },
   {
    "duration": 28,
    "start_time": "2023-07-09T06:55:15.729Z"
   },
   {
    "duration": 6,
    "start_time": "2023-07-09T06:55:15.759Z"
   },
   {
    "duration": 183,
    "start_time": "2023-07-09T06:55:15.766Z"
   },
   {
    "duration": 6,
    "start_time": "2023-07-09T06:55:15.951Z"
   },
   {
    "duration": 12,
    "start_time": "2023-07-09T06:55:15.958Z"
   },
   {
    "duration": 189,
    "start_time": "2023-07-09T06:55:15.971Z"
   },
   {
    "duration": 272,
    "start_time": "2023-07-09T06:55:16.161Z"
   },
   {
    "duration": 10,
    "start_time": "2023-07-09T06:55:16.444Z"
   },
   {
    "duration": 331,
    "start_time": "2023-07-09T06:55:16.456Z"
   },
   {
    "duration": 10,
    "start_time": "2023-07-09T06:55:16.788Z"
   },
   {
    "duration": 34,
    "start_time": "2023-07-09T06:55:16.799Z"
   },
   {
    "duration": 30,
    "start_time": "2023-07-09T06:55:16.835Z"
   },
   {
    "duration": 15,
    "start_time": "2023-07-09T06:55:16.868Z"
   },
   {
    "duration": 418,
    "start_time": "2023-07-09T06:55:16.886Z"
   },
   {
    "duration": 411,
    "start_time": "2023-07-09T06:55:17.306Z"
   },
   {
    "duration": 5,
    "start_time": "2023-07-09T06:55:17.718Z"
   },
   {
    "duration": 1062,
    "start_time": "2023-07-09T06:55:17.724Z"
   },
   {
    "duration": 4,
    "start_time": "2023-07-09T06:55:18.788Z"
   },
   {
    "duration": 6,
    "start_time": "2023-07-09T11:59:26.925Z"
   },
   {
    "duration": 19,
    "start_time": "2023-07-09T11:59:33.812Z"
   },
   {
    "duration": 260,
    "start_time": "2023-07-09T12:01:25.630Z"
   },
   {
    "duration": 68,
    "start_time": "2023-07-09T12:02:08.504Z"
   },
   {
    "duration": 7,
    "start_time": "2023-07-09T12:02:17.768Z"
   },
   {
    "duration": 66,
    "start_time": "2023-07-09T12:35:34.778Z"
   },
   {
    "duration": 9,
    "start_time": "2023-07-09T12:37:32.695Z"
   },
   {
    "duration": 479,
    "start_time": "2023-07-09T12:39:26.074Z"
   },
   {
    "duration": 1036,
    "start_time": "2023-07-09T12:39:31.109Z"
   },
   {
    "duration": 134,
    "start_time": "2023-07-09T12:39:32.146Z"
   },
   {
    "duration": 13,
    "start_time": "2023-07-09T12:39:32.281Z"
   },
   {
    "duration": 24,
    "start_time": "2023-07-09T12:39:32.296Z"
   },
   {
    "duration": 44,
    "start_time": "2023-07-09T12:39:32.323Z"
   },
   {
    "duration": 33,
    "start_time": "2023-07-09T12:39:32.368Z"
   },
   {
    "duration": 30,
    "start_time": "2023-07-09T12:39:32.403Z"
   },
   {
    "duration": 42,
    "start_time": "2023-07-09T12:39:32.435Z"
   },
   {
    "duration": 17,
    "start_time": "2023-07-09T12:39:32.479Z"
   },
   {
    "duration": 24,
    "start_time": "2023-07-09T12:39:32.498Z"
   },
   {
    "duration": 20,
    "start_time": "2023-07-09T12:39:32.523Z"
   },
   {
    "duration": 31,
    "start_time": "2023-07-09T12:39:32.545Z"
   },
   {
    "duration": 5,
    "start_time": "2023-07-09T12:39:32.578Z"
   },
   {
    "duration": 24,
    "start_time": "2023-07-09T12:39:32.585Z"
   },
   {
    "duration": 9,
    "start_time": "2023-07-09T12:39:32.610Z"
   },
   {
    "duration": 7,
    "start_time": "2023-07-09T12:39:32.620Z"
   },
   {
    "duration": 158,
    "start_time": "2023-07-09T12:39:32.629Z"
   },
   {
    "duration": 5,
    "start_time": "2023-07-09T12:39:32.788Z"
   },
   {
    "duration": 21,
    "start_time": "2023-07-09T12:39:32.795Z"
   },
   {
    "duration": 164,
    "start_time": "2023-07-09T12:39:32.817Z"
   },
   {
    "duration": 244,
    "start_time": "2023-07-09T12:39:32.982Z"
   },
   {
    "duration": 9,
    "start_time": "2023-07-09T12:39:33.228Z"
   },
   {
    "duration": 242,
    "start_time": "2023-07-09T12:39:33.238Z"
   },
   {
    "duration": 9,
    "start_time": "2023-07-09T12:39:33.481Z"
   },
   {
    "duration": 24,
    "start_time": "2023-07-09T12:39:33.491Z"
   },
   {
    "duration": 19,
    "start_time": "2023-07-09T12:39:33.517Z"
   },
   {
    "duration": 43,
    "start_time": "2023-07-09T12:39:33.537Z"
   },
   {
    "duration": 365,
    "start_time": "2023-07-09T12:39:33.582Z"
   },
   {
    "duration": 491,
    "start_time": "2023-07-09T12:39:33.949Z"
   },
   {
    "duration": 4,
    "start_time": "2023-07-09T12:39:34.441Z"
   },
   {
    "duration": 826,
    "start_time": "2023-07-09T12:39:34.447Z"
   },
   {
    "duration": 1786,
    "start_time": "2023-07-09T12:39:35.275Z"
   },
   {
    "duration": 0,
    "start_time": "2023-07-09T12:39:37.064Z"
   },
   {
    "duration": 0,
    "start_time": "2023-07-09T12:39:37.065Z"
   },
   {
    "duration": 0,
    "start_time": "2023-07-09T12:39:37.066Z"
   },
   {
    "duration": 0,
    "start_time": "2023-07-09T12:39:37.068Z"
   },
   {
    "duration": 1012,
    "start_time": "2023-07-09T12:39:49.914Z"
   },
   {
    "duration": 139,
    "start_time": "2023-07-09T12:39:50.928Z"
   },
   {
    "duration": 14,
    "start_time": "2023-07-09T12:39:51.068Z"
   },
   {
    "duration": 18,
    "start_time": "2023-07-09T12:39:51.084Z"
   },
   {
    "duration": 34,
    "start_time": "2023-07-09T12:39:51.104Z"
   },
   {
    "duration": 23,
    "start_time": "2023-07-09T12:39:51.140Z"
   },
   {
    "duration": 14,
    "start_time": "2023-07-09T12:39:51.165Z"
   },
   {
    "duration": 13,
    "start_time": "2023-07-09T12:39:51.181Z"
   },
   {
    "duration": 24,
    "start_time": "2023-07-09T12:39:51.196Z"
   },
   {
    "duration": 20,
    "start_time": "2023-07-09T12:39:51.224Z"
   },
   {
    "duration": 9,
    "start_time": "2023-07-09T12:39:51.246Z"
   },
   {
    "duration": 36,
    "start_time": "2023-07-09T12:39:51.256Z"
   },
   {
    "duration": 33,
    "start_time": "2023-07-09T12:39:51.294Z"
   },
   {
    "duration": 22,
    "start_time": "2023-07-09T12:39:51.329Z"
   },
   {
    "duration": 7,
    "start_time": "2023-07-09T12:39:51.353Z"
   },
   {
    "duration": 16,
    "start_time": "2023-07-09T12:39:51.362Z"
   },
   {
    "duration": 177,
    "start_time": "2023-07-09T12:39:51.379Z"
   },
   {
    "duration": 10,
    "start_time": "2023-07-09T12:39:51.557Z"
   },
   {
    "duration": 23,
    "start_time": "2023-07-09T12:39:51.568Z"
   },
   {
    "duration": 169,
    "start_time": "2023-07-09T12:39:51.592Z"
   },
   {
    "duration": 262,
    "start_time": "2023-07-09T12:39:51.762Z"
   },
   {
    "duration": 8,
    "start_time": "2023-07-09T12:39:52.026Z"
   },
   {
    "duration": 286,
    "start_time": "2023-07-09T12:39:52.036Z"
   },
   {
    "duration": 8,
    "start_time": "2023-07-09T12:39:52.324Z"
   },
   {
    "duration": 57,
    "start_time": "2023-07-09T12:39:52.333Z"
   },
   {
    "duration": 22,
    "start_time": "2023-07-09T12:39:52.391Z"
   },
   {
    "duration": 15,
    "start_time": "2023-07-09T12:39:52.415Z"
   },
   {
    "duration": 371,
    "start_time": "2023-07-09T12:39:52.434Z"
   },
   {
    "duration": 462,
    "start_time": "2023-07-09T12:39:52.807Z"
   },
   {
    "duration": 5,
    "start_time": "2023-07-09T12:39:53.271Z"
   },
   {
    "duration": 877,
    "start_time": "2023-07-09T12:39:53.277Z"
   },
   {
    "duration": 1099,
    "start_time": "2023-07-09T12:39:54.156Z"
   },
   {
    "duration": 0,
    "start_time": "2023-07-09T12:39:55.257Z"
   },
   {
    "duration": 0,
    "start_time": "2023-07-09T12:39:55.258Z"
   },
   {
    "duration": 0,
    "start_time": "2023-07-09T12:39:55.259Z"
   },
   {
    "duration": 0,
    "start_time": "2023-07-09T12:39:55.260Z"
   },
   {
    "duration": 835,
    "start_time": "2023-07-09T12:40:49.241Z"
   },
   {
    "duration": 20,
    "start_time": "2023-07-09T12:40:53.544Z"
   },
   {
    "duration": 8,
    "start_time": "2023-07-09T12:40:55.282Z"
   },
   {
    "duration": 5,
    "start_time": "2023-07-09T12:40:57.791Z"
   },
   {
    "duration": 5,
    "start_time": "2023-07-09T12:41:46.846Z"
   },
   {
    "duration": 5,
    "start_time": "2023-07-09T12:43:29.170Z"
   },
   {
    "duration": 1554,
    "start_time": "2023-07-09T14:45:02.098Z"
   },
   {
    "duration": 247,
    "start_time": "2023-07-09T14:45:03.655Z"
   },
   {
    "duration": 22,
    "start_time": "2023-07-09T14:45:03.904Z"
   },
   {
    "duration": 14,
    "start_time": "2023-07-09T14:45:03.929Z"
   },
   {
    "duration": 18,
    "start_time": "2023-07-09T14:45:03.945Z"
   },
   {
    "duration": 17,
    "start_time": "2023-07-09T14:45:03.965Z"
   },
   {
    "duration": 11,
    "start_time": "2023-07-09T14:45:03.984Z"
   },
   {
    "duration": 27,
    "start_time": "2023-07-09T14:45:03.998Z"
   },
   {
    "duration": 18,
    "start_time": "2023-07-09T14:45:04.027Z"
   },
   {
    "duration": 7,
    "start_time": "2023-07-09T14:45:04.049Z"
   },
   {
    "duration": 37,
    "start_time": "2023-07-09T14:45:04.058Z"
   },
   {
    "duration": 11,
    "start_time": "2023-07-09T14:45:04.099Z"
   },
   {
    "duration": 10,
    "start_time": "2023-07-09T14:45:04.114Z"
   },
   {
    "duration": 17,
    "start_time": "2023-07-09T14:45:04.126Z"
   },
   {
    "duration": 36,
    "start_time": "2023-07-09T14:45:04.148Z"
   },
   {
    "duration": 11,
    "start_time": "2023-07-09T14:45:04.189Z"
   },
   {
    "duration": 235,
    "start_time": "2023-07-09T14:45:04.209Z"
   },
   {
    "duration": 12,
    "start_time": "2023-07-09T14:45:04.452Z"
   },
   {
    "duration": 19,
    "start_time": "2023-07-09T14:45:04.472Z"
   },
   {
    "duration": 232,
    "start_time": "2023-07-09T14:45:04.494Z"
   },
   {
    "duration": 396,
    "start_time": "2023-07-09T14:45:04.728Z"
   },
   {
    "duration": 13,
    "start_time": "2023-07-09T14:45:05.126Z"
   },
   {
    "duration": 444,
    "start_time": "2023-07-09T14:45:05.141Z"
   },
   {
    "duration": 11,
    "start_time": "2023-07-09T14:45:05.590Z"
   },
   {
    "duration": 44,
    "start_time": "2023-07-09T14:45:05.603Z"
   },
   {
    "duration": 36,
    "start_time": "2023-07-09T14:45:05.650Z"
   },
   {
    "duration": 26,
    "start_time": "2023-07-09T14:45:05.688Z"
   },
   {
    "duration": 575,
    "start_time": "2023-07-09T14:45:05.719Z"
   },
   {
    "duration": 638,
    "start_time": "2023-07-09T14:45:06.302Z"
   },
   {
    "duration": 9,
    "start_time": "2023-07-09T14:45:06.943Z"
   },
   {
    "duration": 1320,
    "start_time": "2023-07-09T14:45:06.954Z"
   },
   {
    "duration": 31,
    "start_time": "2023-07-09T14:45:08.276Z"
   },
   {
    "duration": 20,
    "start_time": "2023-07-09T14:45:08.310Z"
   },
   {
    "duration": 12,
    "start_time": "2023-07-09T14:45:08.333Z"
   },
   {
    "duration": 32,
    "start_time": "2023-07-09T14:45:08.349Z"
   },
   {
    "duration": 26,
    "start_time": "2023-07-09T14:45:08.384Z"
   },
   {
    "duration": 1347,
    "start_time": "2023-07-09T16:32:34.531Z"
   },
   {
    "duration": 297,
    "start_time": "2023-07-09T16:32:35.881Z"
   },
   {
    "duration": 14,
    "start_time": "2023-07-09T16:32:36.180Z"
   },
   {
    "duration": 40,
    "start_time": "2023-07-09T16:32:36.196Z"
   },
   {
    "duration": 26,
    "start_time": "2023-07-09T16:32:36.238Z"
   },
   {
    "duration": 11,
    "start_time": "2023-07-09T16:32:36.266Z"
   },
   {
    "duration": 5,
    "start_time": "2023-07-09T16:32:36.279Z"
   },
   {
    "duration": 17,
    "start_time": "2023-07-09T16:32:36.285Z"
   },
   {
    "duration": 22,
    "start_time": "2023-07-09T16:32:36.304Z"
   },
   {
    "duration": 11,
    "start_time": "2023-07-09T16:32:36.328Z"
   },
   {
    "duration": 16,
    "start_time": "2023-07-09T16:32:36.340Z"
   },
   {
    "duration": 11,
    "start_time": "2023-07-09T16:32:36.357Z"
   },
   {
    "duration": 13,
    "start_time": "2023-07-09T16:32:36.371Z"
   },
   {
    "duration": 12,
    "start_time": "2023-07-09T16:32:36.385Z"
   },
   {
    "duration": 10,
    "start_time": "2023-07-09T16:32:36.399Z"
   },
   {
    "duration": 6,
    "start_time": "2023-07-09T16:32:36.410Z"
   },
   {
    "duration": 212,
    "start_time": "2023-07-09T16:32:36.418Z"
   },
   {
    "duration": 9,
    "start_time": "2023-07-09T16:32:36.632Z"
   },
   {
    "duration": 23,
    "start_time": "2023-07-09T16:32:36.643Z"
   },
   {
    "duration": 194,
    "start_time": "2023-07-09T16:32:36.668Z"
   },
   {
    "duration": 297,
    "start_time": "2023-07-09T16:32:36.864Z"
   },
   {
    "duration": 10,
    "start_time": "2023-07-09T16:32:37.163Z"
   },
   {
    "duration": 341,
    "start_time": "2023-07-09T16:32:37.174Z"
   },
   {
    "duration": 8,
    "start_time": "2023-07-09T16:32:37.517Z"
   },
   {
    "duration": 50,
    "start_time": "2023-07-09T16:32:37.527Z"
   },
   {
    "duration": 23,
    "start_time": "2023-07-09T16:32:37.579Z"
   },
   {
    "duration": 19,
    "start_time": "2023-07-09T16:32:37.603Z"
   },
   {
    "duration": 455,
    "start_time": "2023-07-09T16:32:37.625Z"
   },
   {
    "duration": 536,
    "start_time": "2023-07-09T16:32:38.082Z"
   },
   {
    "duration": 5,
    "start_time": "2023-07-09T16:32:38.619Z"
   },
   {
    "duration": 1005,
    "start_time": "2023-07-09T16:32:38.626Z"
   },
   {
    "duration": 40,
    "start_time": "2023-07-09T16:32:39.633Z"
   },
   {
    "duration": 11,
    "start_time": "2023-07-09T16:32:39.676Z"
   },
   {
    "duration": 9,
    "start_time": "2023-07-09T16:32:39.688Z"
   },
   {
    "duration": 7,
    "start_time": "2023-07-09T16:32:39.699Z"
   },
   {
    "duration": 11,
    "start_time": "2023-07-09T16:32:39.708Z"
   },
   {
    "duration": 1155,
    "start_time": "2023-07-09T17:04:05.605Z"
   },
   {
    "duration": 455,
    "start_time": "2023-07-09T17:04:06.762Z"
   },
   {
    "duration": 0,
    "start_time": "2023-07-09T17:04:07.220Z"
   },
   {
    "duration": 0,
    "start_time": "2023-07-09T17:04:07.221Z"
   },
   {
    "duration": 0,
    "start_time": "2023-07-09T17:04:07.222Z"
   },
   {
    "duration": 0,
    "start_time": "2023-07-09T17:04:07.224Z"
   },
   {
    "duration": 0,
    "start_time": "2023-07-09T17:04:07.224Z"
   },
   {
    "duration": 0,
    "start_time": "2023-07-09T17:04:07.225Z"
   },
   {
    "duration": 0,
    "start_time": "2023-07-09T17:04:07.226Z"
   },
   {
    "duration": 0,
    "start_time": "2023-07-09T17:04:07.227Z"
   },
   {
    "duration": 0,
    "start_time": "2023-07-09T17:04:07.228Z"
   },
   {
    "duration": 1,
    "start_time": "2023-07-09T17:04:07.229Z"
   },
   {
    "duration": 0,
    "start_time": "2023-07-09T17:04:07.231Z"
   },
   {
    "duration": 0,
    "start_time": "2023-07-09T17:04:07.232Z"
   },
   {
    "duration": 0,
    "start_time": "2023-07-09T17:04:07.233Z"
   },
   {
    "duration": 0,
    "start_time": "2023-07-09T17:04:07.234Z"
   },
   {
    "duration": 0,
    "start_time": "2023-07-09T17:04:07.236Z"
   },
   {
    "duration": 0,
    "start_time": "2023-07-09T17:04:07.237Z"
   },
   {
    "duration": 0,
    "start_time": "2023-07-09T17:04:07.237Z"
   },
   {
    "duration": 0,
    "start_time": "2023-07-09T17:04:07.239Z"
   },
   {
    "duration": 0,
    "start_time": "2023-07-09T17:04:07.241Z"
   },
   {
    "duration": 0,
    "start_time": "2023-07-09T17:04:07.242Z"
   },
   {
    "duration": 0,
    "start_time": "2023-07-09T17:04:07.244Z"
   },
   {
    "duration": 0,
    "start_time": "2023-07-09T17:04:07.245Z"
   },
   {
    "duration": 0,
    "start_time": "2023-07-09T17:04:07.247Z"
   },
   {
    "duration": 1,
    "start_time": "2023-07-09T17:04:07.248Z"
   },
   {
    "duration": 0,
    "start_time": "2023-07-09T17:04:07.250Z"
   },
   {
    "duration": 0,
    "start_time": "2023-07-09T17:04:07.252Z"
   },
   {
    "duration": 0,
    "start_time": "2023-07-09T17:04:07.253Z"
   },
   {
    "duration": 0,
    "start_time": "2023-07-09T17:04:07.254Z"
   },
   {
    "duration": 0,
    "start_time": "2023-07-09T17:04:07.313Z"
   },
   {
    "duration": 0,
    "start_time": "2023-07-09T17:04:07.314Z"
   },
   {
    "duration": 0,
    "start_time": "2023-07-09T17:04:07.315Z"
   },
   {
    "duration": 0,
    "start_time": "2023-07-09T17:04:07.316Z"
   },
   {
    "duration": 0,
    "start_time": "2023-07-09T17:04:07.317Z"
   },
   {
    "duration": 0,
    "start_time": "2023-07-09T17:04:07.318Z"
   },
   {
    "duration": 139,
    "start_time": "2023-07-09T17:05:09.718Z"
   },
   {
    "duration": 170,
    "start_time": "2023-07-09T17:05:26.143Z"
   },
   {
    "duration": 1158,
    "start_time": "2023-07-09T17:05:34.919Z"
   },
   {
    "duration": 186,
    "start_time": "2023-07-09T17:05:36.079Z"
   },
   {
    "duration": 14,
    "start_time": "2023-07-09T17:05:36.267Z"
   },
   {
    "duration": 12,
    "start_time": "2023-07-09T17:05:36.284Z"
   },
   {
    "duration": 25,
    "start_time": "2023-07-09T17:05:36.298Z"
   },
   {
    "duration": 12,
    "start_time": "2023-07-09T17:05:36.325Z"
   },
   {
    "duration": 6,
    "start_time": "2023-07-09T17:05:36.338Z"
   },
   {
    "duration": 8,
    "start_time": "2023-07-09T17:05:36.346Z"
   },
   {
    "duration": 10,
    "start_time": "2023-07-09T17:05:36.356Z"
   },
   {
    "duration": 6,
    "start_time": "2023-07-09T17:05:36.368Z"
   },
   {
    "duration": 10,
    "start_time": "2023-07-09T17:05:36.413Z"
   },
   {
    "duration": 37,
    "start_time": "2023-07-09T17:05:36.425Z"
   },
   {
    "duration": 46,
    "start_time": "2023-07-09T17:05:36.464Z"
   },
   {
    "duration": 15,
    "start_time": "2023-07-09T17:05:36.511Z"
   },
   {
    "duration": 10,
    "start_time": "2023-07-09T17:05:36.527Z"
   },
   {
    "duration": 15,
    "start_time": "2023-07-09T17:05:36.539Z"
   },
   {
    "duration": 183,
    "start_time": "2023-07-09T17:05:36.557Z"
   },
   {
    "duration": 7,
    "start_time": "2023-07-09T17:05:36.742Z"
   },
   {
    "duration": 8,
    "start_time": "2023-07-09T17:05:36.751Z"
   },
   {
    "duration": 200,
    "start_time": "2023-07-09T17:05:36.760Z"
   },
   {
    "duration": 282,
    "start_time": "2023-07-09T17:05:36.963Z"
   },
   {
    "duration": 13,
    "start_time": "2023-07-09T17:05:37.247Z"
   },
   {
    "duration": 350,
    "start_time": "2023-07-09T17:05:37.262Z"
   },
   {
    "duration": 13,
    "start_time": "2023-07-09T17:05:37.614Z"
   },
   {
    "duration": 40,
    "start_time": "2023-07-09T17:05:37.629Z"
   },
   {
    "duration": 60,
    "start_time": "2023-07-09T17:05:37.671Z"
   },
   {
    "duration": 21,
    "start_time": "2023-07-09T17:05:37.733Z"
   },
   {
    "duration": 445,
    "start_time": "2023-07-09T17:05:37.759Z"
   },
   {
    "duration": 515,
    "start_time": "2023-07-09T17:05:38.214Z"
   },
   {
    "duration": 5,
    "start_time": "2023-07-09T17:05:38.731Z"
   },
   {
    "duration": 1044,
    "start_time": "2023-07-09T17:05:38.738Z"
   },
   {
    "duration": 40,
    "start_time": "2023-07-09T17:05:39.784Z"
   },
   {
    "duration": 11,
    "start_time": "2023-07-09T17:05:39.826Z"
   },
   {
    "duration": 6,
    "start_time": "2023-07-09T17:05:39.840Z"
   },
   {
    "duration": 6,
    "start_time": "2023-07-09T17:05:39.849Z"
   },
   {
    "duration": 18,
    "start_time": "2023-07-09T17:05:39.857Z"
   },
   {
    "duration": 25,
    "start_time": "2023-07-09T17:09:37.619Z"
   },
   {
    "duration": 8,
    "start_time": "2023-07-09T17:10:58.111Z"
   },
   {
    "duration": 1108,
    "start_time": "2023-07-09T17:19:09.663Z"
   },
   {
    "duration": 176,
    "start_time": "2023-07-09T17:19:10.773Z"
   },
   {
    "duration": 13,
    "start_time": "2023-07-09T17:19:10.951Z"
   },
   {
    "duration": 10,
    "start_time": "2023-07-09T17:19:10.967Z"
   },
   {
    "duration": 10,
    "start_time": "2023-07-09T17:19:10.979Z"
   },
   {
    "duration": 25,
    "start_time": "2023-07-09T17:19:10.991Z"
   },
   {
    "duration": 5,
    "start_time": "2023-07-09T17:19:11.018Z"
   },
   {
    "duration": 15,
    "start_time": "2023-07-09T17:19:11.025Z"
   },
   {
    "duration": 7,
    "start_time": "2023-07-09T17:19:11.042Z"
   },
   {
    "duration": 5,
    "start_time": "2023-07-09T17:19:11.052Z"
   },
   {
    "duration": 16,
    "start_time": "2023-07-09T17:19:11.059Z"
   },
   {
    "duration": 15,
    "start_time": "2023-07-09T17:19:11.077Z"
   },
   {
    "duration": 8,
    "start_time": "2023-07-09T17:19:11.093Z"
   },
   {
    "duration": 23,
    "start_time": "2023-07-09T17:19:11.102Z"
   },
   {
    "duration": 7,
    "start_time": "2023-07-09T17:19:11.127Z"
   },
   {
    "duration": 5,
    "start_time": "2023-07-09T17:19:11.135Z"
   },
   {
    "duration": 174,
    "start_time": "2023-07-09T17:19:11.142Z"
   },
   {
    "duration": 6,
    "start_time": "2023-07-09T17:19:11.317Z"
   },
   {
    "duration": 22,
    "start_time": "2023-07-09T17:19:11.325Z"
   },
   {
    "duration": 189,
    "start_time": "2023-07-09T17:19:11.349Z"
   },
   {
    "duration": 275,
    "start_time": "2023-07-09T17:19:11.540Z"
   },
   {
    "duration": 10,
    "start_time": "2023-07-09T17:19:11.816Z"
   },
   {
    "duration": 270,
    "start_time": "2023-07-09T17:19:11.827Z"
   },
   {
    "duration": 16,
    "start_time": "2023-07-09T17:19:12.099Z"
   },
   {
    "duration": 28,
    "start_time": "2023-07-09T17:19:12.117Z"
   },
   {
    "duration": 21,
    "start_time": "2023-07-09T17:19:12.148Z"
   },
   {
    "duration": 44,
    "start_time": "2023-07-09T17:19:12.171Z"
   },
   {
    "duration": 405,
    "start_time": "2023-07-09T17:19:12.218Z"
   },
   {
    "duration": 492,
    "start_time": "2023-07-09T17:19:12.625Z"
   },
   {
    "duration": 5,
    "start_time": "2023-07-09T17:19:13.119Z"
   },
   {
    "duration": 949,
    "start_time": "2023-07-09T17:19:13.126Z"
   },
   {
    "duration": 19,
    "start_time": "2023-07-09T17:19:14.077Z"
   },
   {
    "duration": 21,
    "start_time": "2023-07-09T17:19:14.098Z"
   },
   {
    "duration": 6,
    "start_time": "2023-07-09T17:19:14.121Z"
   },
   {
    "duration": 6,
    "start_time": "2023-07-09T17:19:14.129Z"
   },
   {
    "duration": 11,
    "start_time": "2023-07-09T17:19:14.136Z"
   },
   {
    "duration": 102,
    "start_time": "2023-07-10T07:17:14.224Z"
   },
   {
    "duration": 38,
    "start_time": "2023-07-10T07:20:42.394Z"
   },
   {
    "duration": 1169,
    "start_time": "2023-07-10T07:20:50.406Z"
   },
   {
    "duration": 282,
    "start_time": "2023-07-10T07:20:51.577Z"
   },
   {
    "duration": 13,
    "start_time": "2023-07-10T07:20:51.861Z"
   },
   {
    "duration": 8,
    "start_time": "2023-07-10T07:20:51.876Z"
   },
   {
    "duration": 11,
    "start_time": "2023-07-10T07:20:51.886Z"
   },
   {
    "duration": 9,
    "start_time": "2023-07-10T07:20:51.898Z"
   },
   {
    "duration": 9,
    "start_time": "2023-07-10T07:20:51.909Z"
   },
   {
    "duration": 5,
    "start_time": "2023-07-10T07:20:51.920Z"
   },
   {
    "duration": 7,
    "start_time": "2023-07-10T07:20:51.927Z"
   },
   {
    "duration": 9,
    "start_time": "2023-07-10T07:20:51.936Z"
   },
   {
    "duration": 32,
    "start_time": "2023-07-10T07:20:51.947Z"
   },
   {
    "duration": 10,
    "start_time": "2023-07-10T07:20:51.981Z"
   },
   {
    "duration": 11,
    "start_time": "2023-07-10T07:20:51.992Z"
   },
   {
    "duration": 5,
    "start_time": "2023-07-10T07:20:52.004Z"
   },
   {
    "duration": 12,
    "start_time": "2023-07-10T07:20:52.011Z"
   },
   {
    "duration": 11,
    "start_time": "2023-07-10T07:20:52.025Z"
   },
   {
    "duration": 8,
    "start_time": "2023-07-10T07:20:52.037Z"
   },
   {
    "duration": 156,
    "start_time": "2023-07-10T07:20:52.047Z"
   },
   {
    "duration": 6,
    "start_time": "2023-07-10T07:20:52.204Z"
   },
   {
    "duration": 7,
    "start_time": "2023-07-10T07:20:52.212Z"
   },
   {
    "duration": 157,
    "start_time": "2023-07-10T07:20:52.220Z"
   },
   {
    "duration": 233,
    "start_time": "2023-07-10T07:20:52.378Z"
   },
   {
    "duration": 8,
    "start_time": "2023-07-10T07:20:52.612Z"
   },
   {
    "duration": 225,
    "start_time": "2023-07-10T07:20:52.621Z"
   },
   {
    "duration": 8,
    "start_time": "2023-07-10T07:20:52.848Z"
   },
   {
    "duration": 32,
    "start_time": "2023-07-10T07:20:52.857Z"
   },
   {
    "duration": 17,
    "start_time": "2023-07-10T07:20:52.890Z"
   },
   {
    "duration": 38,
    "start_time": "2023-07-10T07:20:52.910Z"
   },
   {
    "duration": 325,
    "start_time": "2023-07-10T07:20:52.950Z"
   },
   {
    "duration": 401,
    "start_time": "2023-07-10T07:20:53.277Z"
   },
   {
    "duration": 4,
    "start_time": "2023-07-10T07:20:53.679Z"
   },
   {
    "duration": 810,
    "start_time": "2023-07-10T07:20:53.685Z"
   },
   {
    "duration": 17,
    "start_time": "2023-07-10T07:20:54.497Z"
   },
   {
    "duration": 8,
    "start_time": "2023-07-10T07:20:54.515Z"
   },
   {
    "duration": 16,
    "start_time": "2023-07-10T07:20:54.525Z"
   },
   {
    "duration": 14,
    "start_time": "2023-07-10T07:20:54.543Z"
   },
   {
    "duration": 19,
    "start_time": "2023-07-10T07:20:54.559Z"
   },
   {
    "duration": 9,
    "start_time": "2023-07-10T07:21:14.704Z"
   },
   {
    "duration": 6,
    "start_time": "2023-07-10T07:21:27.398Z"
   },
   {
    "duration": 11,
    "start_time": "2023-07-10T07:21:35.832Z"
   },
   {
    "duration": 10,
    "start_time": "2023-07-10T07:21:41.735Z"
   },
   {
    "duration": 10,
    "start_time": "2023-07-10T07:21:45.903Z"
   },
   {
    "duration": 1338,
    "start_time": "2023-07-10T17:28:03.791Z"
   },
   {
    "duration": 350,
    "start_time": "2023-07-10T17:28:05.132Z"
   },
   {
    "duration": 17,
    "start_time": "2023-07-10T17:28:05.483Z"
   },
   {
    "duration": 19,
    "start_time": "2023-07-10T17:28:05.502Z"
   },
   {
    "duration": 23,
    "start_time": "2023-07-10T17:28:05.524Z"
   },
   {
    "duration": 21,
    "start_time": "2023-07-10T17:28:05.549Z"
   },
   {
    "duration": 17,
    "start_time": "2023-07-10T17:28:05.573Z"
   },
   {
    "duration": 19,
    "start_time": "2023-07-10T17:28:05.592Z"
   },
   {
    "duration": 22,
    "start_time": "2023-07-10T17:28:05.613Z"
   },
   {
    "duration": 13,
    "start_time": "2023-07-10T17:28:05.637Z"
   },
   {
    "duration": 25,
    "start_time": "2023-07-10T17:28:05.652Z"
   },
   {
    "duration": 23,
    "start_time": "2023-07-10T17:28:05.680Z"
   },
   {
    "duration": 11,
    "start_time": "2023-07-10T17:28:05.705Z"
   },
   {
    "duration": 10,
    "start_time": "2023-07-10T17:28:05.720Z"
   },
   {
    "duration": 10,
    "start_time": "2023-07-10T17:28:05.732Z"
   },
   {
    "duration": 16,
    "start_time": "2023-07-10T17:28:05.745Z"
   },
   {
    "duration": 36,
    "start_time": "2023-07-10T17:28:05.766Z"
   },
   {
    "duration": 26,
    "start_time": "2023-07-10T17:28:05.805Z"
   },
   {
    "duration": 11,
    "start_time": "2023-07-10T17:28:05.834Z"
   },
   {
    "duration": 183,
    "start_time": "2023-07-10T17:28:05.847Z"
   },
   {
    "duration": 6,
    "start_time": "2023-07-10T17:28:06.032Z"
   },
   {
    "duration": 20,
    "start_time": "2023-07-10T17:28:06.040Z"
   },
   {
    "duration": 234,
    "start_time": "2023-07-10T17:28:06.061Z"
   },
   {
    "duration": 298,
    "start_time": "2023-07-10T17:28:06.298Z"
   },
   {
    "duration": 11,
    "start_time": "2023-07-10T17:28:06.600Z"
   },
   {
    "duration": 325,
    "start_time": "2023-07-10T17:28:06.613Z"
   },
   {
    "duration": 16,
    "start_time": "2023-07-10T17:28:06.940Z"
   },
   {
    "duration": 29,
    "start_time": "2023-07-10T17:28:06.958Z"
   },
   {
    "duration": 23,
    "start_time": "2023-07-10T17:28:06.989Z"
   },
   {
    "duration": 50,
    "start_time": "2023-07-10T17:28:07.013Z"
   },
   {
    "duration": 455,
    "start_time": "2023-07-10T17:28:07.065Z"
   },
   {
    "duration": 537,
    "start_time": "2023-07-10T17:28:07.522Z"
   },
   {
    "duration": 6,
    "start_time": "2023-07-10T17:28:08.061Z"
   },
   {
    "duration": 1261,
    "start_time": "2023-07-10T17:28:08.069Z"
   },
   {
    "duration": 33,
    "start_time": "2023-07-10T17:28:09.332Z"
   },
   {
    "duration": 11,
    "start_time": "2023-07-10T17:28:09.366Z"
   },
   {
    "duration": 15,
    "start_time": "2023-07-10T17:28:09.379Z"
   },
   {
    "duration": 14,
    "start_time": "2023-07-10T17:28:09.396Z"
   },
   {
    "duration": 16,
    "start_time": "2023-07-10T17:28:09.412Z"
   },
   {
    "duration": 105,
    "start_time": "2023-07-10T19:32:24.711Z"
   },
   {
    "duration": 11,
    "start_time": "2023-07-10T19:33:53.952Z"
   },
   {
    "duration": 6,
    "start_time": "2023-07-10T19:34:17.189Z"
   },
   {
    "duration": 10,
    "start_time": "2023-07-10T19:34:20.410Z"
   },
   {
    "duration": 131,
    "start_time": "2023-07-10T19:35:48.477Z"
   },
   {
    "duration": 8,
    "start_time": "2023-07-10T19:36:00.792Z"
   },
   {
    "duration": 1178,
    "start_time": "2023-07-11T08:12:01.472Z"
   },
   {
    "duration": 510,
    "start_time": "2023-07-11T08:12:02.652Z"
   },
   {
    "duration": 14,
    "start_time": "2023-07-11T08:12:03.164Z"
   },
   {
    "duration": 29,
    "start_time": "2023-07-11T08:12:03.181Z"
   },
   {
    "duration": 22,
    "start_time": "2023-07-11T08:12:03.213Z"
   },
   {
    "duration": 15,
    "start_time": "2023-07-11T08:12:03.237Z"
   },
   {
    "duration": 19,
    "start_time": "2023-07-11T08:12:03.254Z"
   },
   {
    "duration": 25,
    "start_time": "2023-07-11T08:12:03.276Z"
   },
   {
    "duration": 20,
    "start_time": "2023-07-11T08:12:03.303Z"
   },
   {
    "duration": 7,
    "start_time": "2023-07-11T08:12:03.328Z"
   },
   {
    "duration": 25,
    "start_time": "2023-07-11T08:12:03.338Z"
   },
   {
    "duration": 28,
    "start_time": "2023-07-11T08:12:03.365Z"
   },
   {
    "duration": 18,
    "start_time": "2023-07-11T08:12:03.394Z"
   },
   {
    "duration": 13,
    "start_time": "2023-07-11T08:12:03.414Z"
   },
   {
    "duration": 13,
    "start_time": "2023-07-11T08:12:03.428Z"
   },
   {
    "duration": 19,
    "start_time": "2023-07-11T08:12:03.443Z"
   },
   {
    "duration": 5,
    "start_time": "2023-07-11T08:12:03.464Z"
   },
   {
    "duration": 18,
    "start_time": "2023-07-11T08:12:03.471Z"
   },
   {
    "duration": 8,
    "start_time": "2023-07-11T08:12:03.491Z"
   },
   {
    "duration": 7,
    "start_time": "2023-07-11T08:12:03.502Z"
   },
   {
    "duration": 201,
    "start_time": "2023-07-11T08:12:03.511Z"
   },
   {
    "duration": 7,
    "start_time": "2023-07-11T08:12:03.715Z"
   },
   {
    "duration": 20,
    "start_time": "2023-07-11T08:12:03.724Z"
   },
   {
    "duration": 233,
    "start_time": "2023-07-11T08:12:03.746Z"
   },
   {
    "duration": 292,
    "start_time": "2023-07-11T08:12:03.981Z"
   },
   {
    "duration": 12,
    "start_time": "2023-07-11T08:12:04.275Z"
   },
   {
    "duration": 336,
    "start_time": "2023-07-11T08:12:04.290Z"
   },
   {
    "duration": 10,
    "start_time": "2023-07-11T08:12:04.630Z"
   },
   {
    "duration": 48,
    "start_time": "2023-07-11T08:12:04.653Z"
   },
   {
    "duration": 20,
    "start_time": "2023-07-11T08:12:04.703Z"
   },
   {
    "duration": 26,
    "start_time": "2023-07-11T08:12:04.726Z"
   },
   {
    "duration": 415,
    "start_time": "2023-07-11T08:12:04.753Z"
   },
   {
    "duration": 595,
    "start_time": "2023-07-11T08:12:05.171Z"
   },
   {
    "duration": 4,
    "start_time": "2023-07-11T08:12:05.769Z"
   },
   {
    "duration": 953,
    "start_time": "2023-07-11T08:12:05.775Z"
   },
   {
    "duration": 34,
    "start_time": "2023-07-11T08:12:06.731Z"
   },
   {
    "duration": 10,
    "start_time": "2023-07-11T08:12:06.767Z"
   },
   {
    "duration": 23,
    "start_time": "2023-07-11T08:12:06.779Z"
   },
   {
    "duration": 38,
    "start_time": "2023-07-11T08:12:06.805Z"
   },
   {
    "duration": 27,
    "start_time": "2023-07-11T08:12:06.845Z"
   },
   {
    "duration": 154,
    "start_time": "2023-07-11T08:32:28.690Z"
   },
   {
    "duration": 160,
    "start_time": "2023-07-11T08:33:54.779Z"
   },
   {
    "duration": 167,
    "start_time": "2023-07-11T08:35:01.109Z"
   },
   {
    "duration": 104,
    "start_time": "2023-07-11T08:35:34.807Z"
   },
   {
    "duration": 26,
    "start_time": "2023-07-11T08:35:53.843Z"
   },
   {
    "duration": 21,
    "start_time": "2023-07-11T08:37:18.844Z"
   },
   {
    "duration": 177,
    "start_time": "2023-07-11T08:37:25.148Z"
   },
   {
    "duration": 158,
    "start_time": "2023-07-11T08:38:20.086Z"
   },
   {
    "duration": 188,
    "start_time": "2023-07-11T08:40:06.987Z"
   },
   {
    "duration": 119,
    "start_time": "2023-07-11T08:48:26.363Z"
   },
   {
    "duration": 157,
    "start_time": "2023-07-11T08:48:41.270Z"
   },
   {
    "duration": 123,
    "start_time": "2023-07-11T08:48:48.000Z"
   },
   {
    "duration": 220,
    "start_time": "2023-07-11T08:48:54.372Z"
   },
   {
    "duration": 106,
    "start_time": "2023-07-11T08:49:02.410Z"
   },
   {
    "duration": 101,
    "start_time": "2023-07-11T08:49:10.817Z"
   },
   {
    "duration": 96,
    "start_time": "2023-07-11T08:49:48.506Z"
   },
   {
    "duration": 91,
    "start_time": "2023-07-11T08:50:08.534Z"
   },
   {
    "duration": 96,
    "start_time": "2023-07-11T08:50:51.607Z"
   },
   {
    "duration": 278,
    "start_time": "2023-07-11T08:52:45.272Z"
   },
   {
    "duration": 360,
    "start_time": "2023-07-11T08:55:30.424Z"
   },
   {
    "duration": 330,
    "start_time": "2023-07-11T08:56:19.720Z"
   },
   {
    "duration": 14,
    "start_time": "2023-07-11T08:58:09.041Z"
   },
   {
    "duration": 4,
    "start_time": "2023-07-11T08:58:15.813Z"
   },
   {
    "duration": 4,
    "start_time": "2023-07-11T08:58:24.903Z"
   },
   {
    "duration": 4,
    "start_time": "2023-07-11T08:59:08.270Z"
   },
   {
    "duration": 4,
    "start_time": "2023-07-11T08:59:14.025Z"
   },
   {
    "duration": 557,
    "start_time": "2023-07-11T09:01:23.505Z"
   },
   {
    "duration": 469,
    "start_time": "2023-07-11T09:01:57.534Z"
   },
   {
    "duration": 1275,
    "start_time": "2023-07-11T09:02:47.750Z"
   },
   {
    "duration": 408,
    "start_time": "2023-07-11T09:02:49.027Z"
   },
   {
    "duration": 14,
    "start_time": "2023-07-11T09:02:49.437Z"
   },
   {
    "duration": 40,
    "start_time": "2023-07-11T09:02:49.457Z"
   },
   {
    "duration": 18,
    "start_time": "2023-07-11T09:02:49.499Z"
   },
   {
    "duration": 19,
    "start_time": "2023-07-11T09:02:49.519Z"
   },
   {
    "duration": 7,
    "start_time": "2023-07-11T09:02:49.540Z"
   },
   {
    "duration": 35,
    "start_time": "2023-07-11T09:02:49.548Z"
   },
   {
    "duration": 17,
    "start_time": "2023-07-11T09:02:49.585Z"
   },
   {
    "duration": 23,
    "start_time": "2023-07-11T09:02:49.604Z"
   },
   {
    "duration": 11,
    "start_time": "2023-07-11T09:02:49.629Z"
   },
   {
    "duration": 7,
    "start_time": "2023-07-11T09:02:49.641Z"
   },
   {
    "duration": 50,
    "start_time": "2023-07-11T09:02:49.649Z"
   },
   {
    "duration": 12,
    "start_time": "2023-07-11T09:02:49.701Z"
   },
   {
    "duration": 24,
    "start_time": "2023-07-11T09:02:49.714Z"
   },
   {
    "duration": 15,
    "start_time": "2023-07-11T09:02:49.740Z"
   },
   {
    "duration": 44,
    "start_time": "2023-07-11T09:02:49.756Z"
   },
   {
    "duration": 18,
    "start_time": "2023-07-11T09:02:49.802Z"
   },
   {
    "duration": 14,
    "start_time": "2023-07-11T09:02:49.822Z"
   },
   {
    "duration": 49,
    "start_time": "2023-07-11T09:02:49.837Z"
   },
   {
    "duration": 208,
    "start_time": "2023-07-11T09:02:49.887Z"
   },
   {
    "duration": 6,
    "start_time": "2023-07-11T09:02:50.097Z"
   },
   {
    "duration": 106,
    "start_time": "2023-07-11T09:02:50.104Z"
   },
   {
    "duration": 5,
    "start_time": "2023-07-11T09:02:50.212Z"
   },
   {
    "duration": 239,
    "start_time": "2023-07-11T09:02:50.219Z"
   },
   {
    "duration": 341,
    "start_time": "2023-07-11T09:02:50.460Z"
   },
   {
    "duration": 9,
    "start_time": "2023-07-11T09:02:50.802Z"
   },
   {
    "duration": 347,
    "start_time": "2023-07-11T09:02:50.814Z"
   },
   {
    "duration": 14,
    "start_time": "2023-07-11T09:02:51.163Z"
   },
   {
    "duration": 120,
    "start_time": "2023-07-11T09:02:51.178Z"
   },
   {
    "duration": 29,
    "start_time": "2023-07-11T09:02:51.299Z"
   },
   {
    "duration": 89,
    "start_time": "2023-07-11T09:02:51.329Z"
   },
   {
    "duration": 18,
    "start_time": "2023-07-11T09:02:51.420Z"
   },
   {
    "duration": 463,
    "start_time": "2023-07-11T09:02:51.440Z"
   },
   {
    "duration": 584,
    "start_time": "2023-07-11T09:02:51.905Z"
   },
   {
    "duration": 5,
    "start_time": "2023-07-11T09:02:52.491Z"
   },
   {
    "duration": 1089,
    "start_time": "2023-07-11T09:02:52.497Z"
   },
   {
    "duration": 21,
    "start_time": "2023-07-11T09:02:53.588Z"
   },
   {
    "duration": 10,
    "start_time": "2023-07-11T09:02:53.611Z"
   },
   {
    "duration": 7,
    "start_time": "2023-07-11T09:02:53.623Z"
   },
   {
    "duration": 28,
    "start_time": "2023-07-11T09:02:53.632Z"
   },
   {
    "duration": 13,
    "start_time": "2023-07-11T09:02:53.664Z"
   },
   {
    "duration": 269,
    "start_time": "2023-07-11T09:34:41.347Z"
   },
   {
    "duration": 278,
    "start_time": "2023-07-11T09:34:55.562Z"
   },
   {
    "duration": 264,
    "start_time": "2023-07-11T09:35:15.698Z"
   },
   {
    "duration": 299,
    "start_time": "2023-07-11T09:35:28.034Z"
   },
   {
    "duration": 380,
    "start_time": "2023-07-11T09:35:44.458Z"
   },
   {
    "duration": 286,
    "start_time": "2023-07-11T09:35:54.649Z"
   },
   {
    "duration": 278,
    "start_time": "2023-07-11T09:36:17.848Z"
   },
   {
    "duration": 276,
    "start_time": "2023-07-11T09:36:29.107Z"
   },
   {
    "duration": 20,
    "start_time": "2023-07-11T09:47:13.506Z"
   },
   {
    "duration": 12,
    "start_time": "2023-07-11T09:47:50.107Z"
   },
   {
    "duration": 27,
    "start_time": "2023-07-11T09:48:10.466Z"
   },
   {
    "duration": 19,
    "start_time": "2023-07-11T09:48:46.375Z"
   },
   {
    "duration": 24,
    "start_time": "2023-07-11T09:50:40.701Z"
   },
   {
    "duration": 5,
    "start_time": "2023-07-11T09:52:39.120Z"
   },
   {
    "duration": 327,
    "start_time": "2023-07-11T09:52:52.875Z"
   },
   {
    "duration": 452,
    "start_time": "2023-07-11T09:57:34.892Z"
   },
   {
    "duration": 85,
    "start_time": "2023-07-11T09:57:59.671Z"
   },
   {
    "duration": 12,
    "start_time": "2023-07-11T09:58:05.472Z"
   },
   {
    "duration": 953,
    "start_time": "2023-07-11T09:58:12.090Z"
   },
   {
    "duration": 15,
    "start_time": "2023-07-11T09:58:22.910Z"
   },
   {
    "duration": 20,
    "start_time": "2023-07-11T09:58:27.023Z"
   },
   {
    "duration": 1414,
    "start_time": "2023-07-11T09:58:49.098Z"
   },
   {
    "duration": 329,
    "start_time": "2023-07-11T09:58:50.515Z"
   },
   {
    "duration": 28,
    "start_time": "2023-07-11T09:58:50.847Z"
   },
   {
    "duration": 31,
    "start_time": "2023-07-11T09:58:50.877Z"
   },
   {
    "duration": 15,
    "start_time": "2023-07-11T09:58:50.911Z"
   },
   {
    "duration": 31,
    "start_time": "2023-07-11T09:58:50.928Z"
   },
   {
    "duration": 33,
    "start_time": "2023-07-11T09:58:50.960Z"
   },
   {
    "duration": 23,
    "start_time": "2023-07-11T09:58:50.996Z"
   },
   {
    "duration": 17,
    "start_time": "2023-07-11T09:58:51.021Z"
   },
   {
    "duration": 38,
    "start_time": "2023-07-11T09:58:51.040Z"
   },
   {
    "duration": 31,
    "start_time": "2023-07-11T09:58:51.080Z"
   },
   {
    "duration": 21,
    "start_time": "2023-07-11T09:58:51.113Z"
   },
   {
    "duration": 41,
    "start_time": "2023-07-11T09:58:51.136Z"
   },
   {
    "duration": 28,
    "start_time": "2023-07-11T09:58:51.181Z"
   },
   {
    "duration": 26,
    "start_time": "2023-07-11T09:58:51.211Z"
   },
   {
    "duration": 38,
    "start_time": "2023-07-11T09:58:51.239Z"
   },
   {
    "duration": 20,
    "start_time": "2023-07-11T09:58:51.280Z"
   },
   {
    "duration": 27,
    "start_time": "2023-07-11T09:58:51.303Z"
   },
   {
    "duration": 17,
    "start_time": "2023-07-11T09:58:51.332Z"
   },
   {
    "duration": 55,
    "start_time": "2023-07-11T09:58:51.351Z"
   },
   {
    "duration": 218,
    "start_time": "2023-07-11T09:58:51.408Z"
   },
   {
    "duration": 7,
    "start_time": "2023-07-11T09:58:51.628Z"
   },
   {
    "duration": 128,
    "start_time": "2023-07-11T09:58:51.637Z"
   },
   {
    "duration": 11,
    "start_time": "2023-07-11T09:58:51.770Z"
   },
   {
    "duration": 296,
    "start_time": "2023-07-11T09:58:51.782Z"
   },
   {
    "duration": 312,
    "start_time": "2023-07-11T09:58:52.080Z"
   },
   {
    "duration": 13,
    "start_time": "2023-07-11T09:58:52.394Z"
   },
   {
    "duration": 326,
    "start_time": "2023-07-11T09:58:52.409Z"
   },
   {
    "duration": 37,
    "start_time": "2023-07-11T09:58:52.737Z"
   },
   {
    "duration": 42,
    "start_time": "2023-07-11T09:58:52.779Z"
   },
   {
    "duration": 375,
    "start_time": "2023-07-11T09:58:52.824Z"
   },
   {
    "duration": 12,
    "start_time": "2023-07-11T09:58:53.202Z"
   },
   {
    "duration": 49,
    "start_time": "2023-07-11T09:58:53.216Z"
   },
   {
    "duration": 12,
    "start_time": "2023-07-11T09:58:53.267Z"
   },
   {
    "duration": 29,
    "start_time": "2023-07-11T09:58:53.282Z"
   },
   {
    "duration": 45,
    "start_time": "2023-07-11T09:58:53.314Z"
   },
   {
    "duration": 584,
    "start_time": "2023-07-11T09:58:53.361Z"
   },
   {
    "duration": 467,
    "start_time": "2023-07-11T09:58:53.947Z"
   },
   {
    "duration": 6,
    "start_time": "2023-07-11T09:58:54.416Z"
   },
   {
    "duration": 1104,
    "start_time": "2023-07-11T09:58:54.423Z"
   },
   {
    "duration": 39,
    "start_time": "2023-07-11T09:58:55.534Z"
   },
   {
    "duration": 11,
    "start_time": "2023-07-11T09:58:55.575Z"
   },
   {
    "duration": 8,
    "start_time": "2023-07-11T09:58:55.588Z"
   },
   {
    "duration": 8,
    "start_time": "2023-07-11T09:58:55.599Z"
   },
   {
    "duration": 49,
    "start_time": "2023-07-11T09:58:55.609Z"
   },
   {
    "duration": 321,
    "start_time": "2023-07-11T09:59:07.675Z"
   },
   {
    "duration": 436,
    "start_time": "2023-07-11T09:59:20.669Z"
   },
   {
    "duration": 108,
    "start_time": "2023-07-11T10:01:33.200Z"
   },
   {
    "duration": 305,
    "start_time": "2023-07-11T10:01:38.998Z"
   },
   {
    "duration": 5,
    "start_time": "2023-07-11T10:03:28.106Z"
   },
   {
    "duration": 390,
    "start_time": "2023-07-11T10:03:28.706Z"
   },
   {
    "duration": 5,
    "start_time": "2023-07-11T10:06:06.106Z"
   },
   {
    "duration": 407,
    "start_time": "2023-07-11T10:06:06.799Z"
   },
   {
    "duration": 1352,
    "start_time": "2023-07-11T10:06:17.740Z"
   },
   {
    "duration": 278,
    "start_time": "2023-07-11T10:06:19.094Z"
   },
   {
    "duration": 22,
    "start_time": "2023-07-11T10:06:19.378Z"
   },
   {
    "duration": 19,
    "start_time": "2023-07-11T10:06:19.401Z"
   },
   {
    "duration": 11,
    "start_time": "2023-07-11T10:06:19.423Z"
   },
   {
    "duration": 25,
    "start_time": "2023-07-11T10:06:19.436Z"
   },
   {
    "duration": 14,
    "start_time": "2023-07-11T10:06:19.473Z"
   },
   {
    "duration": 31,
    "start_time": "2023-07-11T10:06:19.489Z"
   },
   {
    "duration": 23,
    "start_time": "2023-07-11T10:06:19.522Z"
   },
   {
    "duration": 10,
    "start_time": "2023-07-11T10:06:19.547Z"
   },
   {
    "duration": 31,
    "start_time": "2023-07-11T10:06:19.564Z"
   },
   {
    "duration": 9,
    "start_time": "2023-07-11T10:06:19.597Z"
   },
   {
    "duration": 24,
    "start_time": "2023-07-11T10:06:19.608Z"
   },
   {
    "duration": 16,
    "start_time": "2023-07-11T10:06:19.635Z"
   },
   {
    "duration": 25,
    "start_time": "2023-07-11T10:06:19.660Z"
   },
   {
    "duration": 20,
    "start_time": "2023-07-11T10:06:19.690Z"
   },
   {
    "duration": 12,
    "start_time": "2023-07-11T10:06:19.712Z"
   },
   {
    "duration": 24,
    "start_time": "2023-07-11T10:06:19.726Z"
   },
   {
    "duration": 30,
    "start_time": "2023-07-11T10:06:19.757Z"
   },
   {
    "duration": 9,
    "start_time": "2023-07-11T10:06:19.790Z"
   },
   {
    "duration": 207,
    "start_time": "2023-07-11T10:06:19.801Z"
   },
   {
    "duration": 9,
    "start_time": "2023-07-11T10:06:20.011Z"
   },
   {
    "duration": 121,
    "start_time": "2023-07-11T10:06:20.022Z"
   },
   {
    "duration": 24,
    "start_time": "2023-07-11T10:06:20.145Z"
   },
   {
    "duration": 227,
    "start_time": "2023-07-11T10:06:20.174Z"
   },
   {
    "duration": 411,
    "start_time": "2023-07-11T10:06:20.406Z"
   },
   {
    "duration": 12,
    "start_time": "2023-07-11T10:06:20.820Z"
   },
   {
    "duration": 363,
    "start_time": "2023-07-11T10:06:20.834Z"
   },
   {
    "duration": 20,
    "start_time": "2023-07-11T10:06:21.200Z"
   },
   {
    "duration": 59,
    "start_time": "2023-07-11T10:06:21.222Z"
   },
   {
    "duration": 10,
    "start_time": "2023-07-11T10:06:21.283Z"
   },
   {
    "duration": 348,
    "start_time": "2023-07-11T10:06:21.296Z"
   },
   {
    "duration": 22,
    "start_time": "2023-07-11T10:06:21.646Z"
   },
   {
    "duration": 50,
    "start_time": "2023-07-11T10:06:21.671Z"
   },
   {
    "duration": 5,
    "start_time": "2023-07-11T10:06:21.723Z"
   },
   {
    "duration": 40,
    "start_time": "2023-07-11T10:06:21.729Z"
   },
   {
    "duration": 21,
    "start_time": "2023-07-11T10:06:21.770Z"
   },
   {
    "duration": 705,
    "start_time": "2023-07-11T10:06:21.793Z"
   },
   {
    "duration": 497,
    "start_time": "2023-07-11T10:06:22.501Z"
   },
   {
    "duration": 6,
    "start_time": "2023-07-11T10:06:23.001Z"
   },
   {
    "duration": 1055,
    "start_time": "2023-07-11T10:06:23.012Z"
   },
   {
    "duration": 23,
    "start_time": "2023-07-11T10:06:24.071Z"
   },
   {
    "duration": 9,
    "start_time": "2023-07-11T10:06:24.096Z"
   },
   {
    "duration": 59,
    "start_time": "2023-07-11T10:06:24.107Z"
   },
   {
    "duration": 16,
    "start_time": "2023-07-11T10:06:24.168Z"
   },
   {
    "duration": 16,
    "start_time": "2023-07-11T10:06:24.186Z"
   },
   {
    "duration": 14,
    "start_time": "2023-07-11T10:28:30.995Z"
   },
   {
    "duration": 7,
    "start_time": "2023-07-11T10:31:53.299Z"
   },
   {
    "duration": 95,
    "start_time": "2023-07-11T10:36:01.138Z"
   },
   {
    "duration": 28,
    "start_time": "2023-07-11T10:43:29.274Z"
   },
   {
    "duration": 11,
    "start_time": "2023-07-11T10:43:36.207Z"
   },
   {
    "duration": 7,
    "start_time": "2023-07-11T10:47:09.935Z"
   },
   {
    "duration": 2397,
    "start_time": "2023-07-11T10:47:20.733Z"
   },
   {
    "duration": 748,
    "start_time": "2023-07-11T10:47:23.132Z"
   },
   {
    "duration": 24,
    "start_time": "2023-07-11T10:47:23.886Z"
   },
   {
    "duration": 26,
    "start_time": "2023-07-11T10:47:23.911Z"
   },
   {
    "duration": 82,
    "start_time": "2023-07-11T10:47:23.940Z"
   },
   {
    "duration": 20,
    "start_time": "2023-07-11T10:47:24.024Z"
   },
   {
    "duration": 22,
    "start_time": "2023-07-11T10:47:24.045Z"
   },
   {
    "duration": 59,
    "start_time": "2023-07-11T10:47:24.069Z"
   },
   {
    "duration": 31,
    "start_time": "2023-07-11T10:47:24.130Z"
   },
   {
    "duration": 64,
    "start_time": "2023-07-11T10:47:24.163Z"
   },
   {
    "duration": 16,
    "start_time": "2023-07-11T10:47:24.229Z"
   },
   {
    "duration": 14,
    "start_time": "2023-07-11T10:47:24.246Z"
   },
   {
    "duration": 62,
    "start_time": "2023-07-11T10:47:24.262Z"
   },
   {
    "duration": 16,
    "start_time": "2023-07-11T10:47:24.328Z"
   },
   {
    "duration": 72,
    "start_time": "2023-07-11T10:47:24.345Z"
   },
   {
    "duration": 23,
    "start_time": "2023-07-11T10:47:24.418Z"
   },
   {
    "duration": 4,
    "start_time": "2023-07-11T10:47:24.443Z"
   },
   {
    "duration": 99,
    "start_time": "2023-07-11T10:47:24.449Z"
   },
   {
    "duration": 12,
    "start_time": "2023-07-11T10:47:24.561Z"
   },
   {
    "duration": 49,
    "start_time": "2023-07-11T10:47:24.575Z"
   },
   {
    "duration": 241,
    "start_time": "2023-07-11T10:47:24.626Z"
   },
   {
    "duration": 8,
    "start_time": "2023-07-11T10:47:24.868Z"
   },
   {
    "duration": 164,
    "start_time": "2023-07-11T10:47:24.878Z"
   },
   {
    "duration": 6,
    "start_time": "2023-07-11T10:47:25.044Z"
   },
   {
    "duration": 346,
    "start_time": "2023-07-11T10:47:25.051Z"
   },
   {
    "duration": 408,
    "start_time": "2023-07-11T10:47:25.399Z"
   },
   {
    "duration": 11,
    "start_time": "2023-07-11T10:47:25.811Z"
   },
   {
    "duration": 321,
    "start_time": "2023-07-11T10:47:25.823Z"
   },
   {
    "duration": 36,
    "start_time": "2023-07-11T10:47:26.151Z"
   },
   {
    "duration": 40,
    "start_time": "2023-07-11T10:47:26.193Z"
   },
   {
    "duration": 4,
    "start_time": "2023-07-11T10:47:26.235Z"
   },
   {
    "duration": 383,
    "start_time": "2023-07-11T10:47:26.240Z"
   },
   {
    "duration": 10,
    "start_time": "2023-07-11T10:47:26.625Z"
   },
   {
    "duration": 41,
    "start_time": "2023-07-11T10:47:26.637Z"
   },
   {
    "duration": 56,
    "start_time": "2023-07-11T10:47:26.681Z"
   },
   {
    "duration": 59,
    "start_time": "2023-07-11T10:47:26.739Z"
   },
   {
    "duration": 48,
    "start_time": "2023-07-11T10:47:26.800Z"
   },
   {
    "duration": 676,
    "start_time": "2023-07-11T10:47:26.850Z"
   },
   {
    "duration": 517,
    "start_time": "2023-07-11T10:47:27.528Z"
   },
   {
    "duration": 16,
    "start_time": "2023-07-11T10:47:28.048Z"
   },
   {
    "duration": 1360,
    "start_time": "2023-07-11T10:47:28.069Z"
   },
   {
    "duration": 19,
    "start_time": "2023-07-11T10:47:29.431Z"
   },
   {
    "duration": 40,
    "start_time": "2023-07-11T10:47:29.462Z"
   },
   {
    "duration": 34,
    "start_time": "2023-07-11T10:47:29.508Z"
   },
   {
    "duration": 56,
    "start_time": "2023-07-11T10:47:29.544Z"
   },
   {
    "duration": 30,
    "start_time": "2023-07-11T10:47:29.605Z"
   },
   {
    "duration": 20,
    "start_time": "2023-07-11T10:48:39.842Z"
   },
   {
    "duration": 12,
    "start_time": "2023-07-11T11:09:07.227Z"
   },
   {
    "duration": 13,
    "start_time": "2023-07-11T11:13:50.002Z"
   },
   {
    "duration": 1214,
    "start_time": "2023-07-11T11:35:36.496Z"
   },
   {
    "duration": 373,
    "start_time": "2023-07-11T11:35:37.712Z"
   },
   {
    "duration": 22,
    "start_time": "2023-07-11T11:35:38.088Z"
   },
   {
    "duration": 17,
    "start_time": "2023-07-11T11:35:38.112Z"
   },
   {
    "duration": 15,
    "start_time": "2023-07-11T11:35:38.133Z"
   },
   {
    "duration": 48,
    "start_time": "2023-07-11T11:35:38.150Z"
   },
   {
    "duration": 43,
    "start_time": "2023-07-11T11:35:38.201Z"
   },
   {
    "duration": 72,
    "start_time": "2023-07-11T11:35:38.249Z"
   },
   {
    "duration": 28,
    "start_time": "2023-07-11T11:35:38.323Z"
   },
   {
    "duration": 78,
    "start_time": "2023-07-11T11:35:38.354Z"
   },
   {
    "duration": 71,
    "start_time": "2023-07-11T11:35:38.434Z"
   },
   {
    "duration": 8,
    "start_time": "2023-07-11T11:35:38.508Z"
   },
   {
    "duration": 83,
    "start_time": "2023-07-11T11:35:38.519Z"
   },
   {
    "duration": 49,
    "start_time": "2023-07-11T11:35:38.607Z"
   },
   {
    "duration": 48,
    "start_time": "2023-07-11T11:35:38.666Z"
   },
   {
    "duration": 44,
    "start_time": "2023-07-11T11:35:38.716Z"
   },
   {
    "duration": 70,
    "start_time": "2023-07-11T11:35:38.765Z"
   },
   {
    "duration": 57,
    "start_time": "2023-07-11T11:35:38.838Z"
   },
   {
    "duration": 10,
    "start_time": "2023-07-11T11:35:38.897Z"
   },
   {
    "duration": 19,
    "start_time": "2023-07-11T11:35:38.909Z"
   },
   {
    "duration": 282,
    "start_time": "2023-07-11T11:35:38.930Z"
   },
   {
    "duration": 8,
    "start_time": "2023-07-11T11:35:39.214Z"
   },
   {
    "duration": 125,
    "start_time": "2023-07-11T11:35:39.224Z"
   },
   {
    "duration": 12,
    "start_time": "2023-07-11T11:35:39.352Z"
   },
   {
    "duration": 328,
    "start_time": "2023-07-11T11:35:39.366Z"
   },
   {
    "duration": 444,
    "start_time": "2023-07-11T11:35:39.697Z"
   },
   {
    "duration": 19,
    "start_time": "2023-07-11T11:35:40.144Z"
   },
   {
    "duration": 414,
    "start_time": "2023-07-11T11:35:40.165Z"
   },
   {
    "duration": 15,
    "start_time": "2023-07-11T11:35:40.584Z"
   },
   {
    "duration": 33,
    "start_time": "2023-07-11T11:35:40.601Z"
   },
   {
    "duration": 19,
    "start_time": "2023-07-11T11:35:40.636Z"
   },
   {
    "duration": 322,
    "start_time": "2023-07-11T11:35:40.657Z"
   },
   {
    "duration": 12,
    "start_time": "2023-07-11T11:35:40.981Z"
   },
   {
    "duration": 42,
    "start_time": "2023-07-11T11:35:40.996Z"
   },
   {
    "duration": 8,
    "start_time": "2023-07-11T11:35:41.053Z"
   },
   {
    "duration": 54,
    "start_time": "2023-07-11T11:35:41.063Z"
   },
   {
    "duration": 54,
    "start_time": "2023-07-11T11:35:41.119Z"
   },
   {
    "duration": 702,
    "start_time": "2023-07-11T11:35:41.182Z"
   },
   {
    "duration": 512,
    "start_time": "2023-07-11T11:35:41.888Z"
   },
   {
    "duration": 5,
    "start_time": "2023-07-11T11:35:42.402Z"
   },
   {
    "duration": 1428,
    "start_time": "2023-07-11T11:35:42.413Z"
   },
   {
    "duration": 43,
    "start_time": "2023-07-11T11:35:43.843Z"
   },
   {
    "duration": 12,
    "start_time": "2023-07-11T11:35:43.888Z"
   },
   {
    "duration": 9,
    "start_time": "2023-07-11T11:35:43.902Z"
   },
   {
    "duration": 15,
    "start_time": "2023-07-11T11:35:43.913Z"
   },
   {
    "duration": 34,
    "start_time": "2023-07-11T11:35:43.957Z"
   },
   {
    "duration": 1031,
    "start_time": "2023-07-11T14:02:12.309Z"
   },
   {
    "duration": 169,
    "start_time": "2023-07-11T14:02:13.342Z"
   },
   {
    "duration": 14,
    "start_time": "2023-07-11T14:02:13.512Z"
   },
   {
    "duration": 11,
    "start_time": "2023-07-11T14:02:13.529Z"
   },
   {
    "duration": 11,
    "start_time": "2023-07-11T14:02:13.542Z"
   },
   {
    "duration": 12,
    "start_time": "2023-07-11T14:02:13.554Z"
   },
   {
    "duration": 7,
    "start_time": "2023-07-11T14:02:13.568Z"
   },
   {
    "duration": 11,
    "start_time": "2023-07-11T14:02:13.576Z"
   },
   {
    "duration": 8,
    "start_time": "2023-07-11T14:02:13.588Z"
   },
   {
    "duration": 4,
    "start_time": "2023-07-11T14:02:13.599Z"
   },
   {
    "duration": 14,
    "start_time": "2023-07-11T14:02:13.605Z"
   },
   {
    "duration": 5,
    "start_time": "2023-07-11T14:02:13.620Z"
   },
   {
    "duration": 34,
    "start_time": "2023-07-11T14:02:13.626Z"
   },
   {
    "duration": 6,
    "start_time": "2023-07-11T14:02:13.661Z"
   },
   {
    "duration": 10,
    "start_time": "2023-07-11T14:02:13.668Z"
   },
   {
    "duration": 9,
    "start_time": "2023-07-11T14:02:13.679Z"
   },
   {
    "duration": 5,
    "start_time": "2023-07-11T14:02:13.689Z"
   },
   {
    "duration": 18,
    "start_time": "2023-07-11T14:02:13.695Z"
   },
   {
    "duration": 40,
    "start_time": "2023-07-11T14:02:13.715Z"
   },
   {
    "duration": 5,
    "start_time": "2023-07-11T14:02:13.757Z"
   },
   {
    "duration": 196,
    "start_time": "2023-07-11T14:02:13.764Z"
   },
   {
    "duration": 6,
    "start_time": "2023-07-11T14:02:13.962Z"
   },
   {
    "duration": 106,
    "start_time": "2023-07-11T14:02:13.971Z"
   },
   {
    "duration": 6,
    "start_time": "2023-07-11T14:02:14.079Z"
   },
   {
    "duration": 226,
    "start_time": "2023-07-11T14:02:14.087Z"
   },
   {
    "duration": 319,
    "start_time": "2023-07-11T14:02:14.315Z"
   },
   {
    "duration": 8,
    "start_time": "2023-07-11T14:02:14.636Z"
   },
   {
    "duration": 284,
    "start_time": "2023-07-11T14:02:14.656Z"
   },
   {
    "duration": 23,
    "start_time": "2023-07-11T14:02:14.943Z"
   },
   {
    "duration": 21,
    "start_time": "2023-07-11T14:02:14.967Z"
   },
   {
    "duration": 4,
    "start_time": "2023-07-11T14:02:14.990Z"
   },
   {
    "duration": 306,
    "start_time": "2023-07-11T14:02:14.996Z"
   },
   {
    "duration": 8,
    "start_time": "2023-07-11T14:02:15.304Z"
   },
   {
    "duration": 41,
    "start_time": "2023-07-11T14:02:15.314Z"
   },
   {
    "duration": 3,
    "start_time": "2023-07-11T14:02:15.357Z"
   },
   {
    "duration": 21,
    "start_time": "2023-07-11T14:02:15.362Z"
   },
   {
    "duration": 18,
    "start_time": "2023-07-11T14:02:15.385Z"
   },
   {
    "duration": 534,
    "start_time": "2023-07-11T14:02:15.404Z"
   },
   {
    "duration": 448,
    "start_time": "2023-07-11T14:02:15.940Z"
   },
   {
    "duration": 13,
    "start_time": "2023-07-11T14:02:16.391Z"
   },
   {
    "duration": 1146,
    "start_time": "2023-07-11T14:02:16.406Z"
   },
   {
    "duration": 29,
    "start_time": "2023-07-11T14:02:17.554Z"
   },
   {
    "duration": 16,
    "start_time": "2023-07-11T14:02:17.586Z"
   },
   {
    "duration": 10,
    "start_time": "2023-07-11T14:02:17.604Z"
   },
   {
    "duration": 24,
    "start_time": "2023-07-11T14:02:17.615Z"
   },
   {
    "duration": 32,
    "start_time": "2023-07-11T14:02:17.640Z"
   },
   {
    "duration": 1152,
    "start_time": "2023-07-11T14:50:47.584Z"
   },
   {
    "duration": 172,
    "start_time": "2023-07-11T14:50:48.738Z"
   },
   {
    "duration": 12,
    "start_time": "2023-07-11T14:50:48.912Z"
   },
   {
    "duration": 14,
    "start_time": "2023-07-11T14:50:48.926Z"
   },
   {
    "duration": 11,
    "start_time": "2023-07-11T14:50:48.942Z"
   },
   {
    "duration": 11,
    "start_time": "2023-07-11T14:50:48.954Z"
   },
   {
    "duration": 11,
    "start_time": "2023-07-11T14:50:48.967Z"
   },
   {
    "duration": 10,
    "start_time": "2023-07-11T14:50:48.980Z"
   },
   {
    "duration": 13,
    "start_time": "2023-07-11T14:50:48.992Z"
   },
   {
    "duration": 5,
    "start_time": "2023-07-11T14:50:49.007Z"
   },
   {
    "duration": 40,
    "start_time": "2023-07-11T14:50:49.014Z"
   },
   {
    "duration": 8,
    "start_time": "2023-07-11T14:50:49.056Z"
   },
   {
    "duration": 11,
    "start_time": "2023-07-11T14:50:49.066Z"
   },
   {
    "duration": 6,
    "start_time": "2023-07-11T14:50:49.080Z"
   },
   {
    "duration": 10,
    "start_time": "2023-07-11T14:50:49.088Z"
   },
   {
    "duration": 10,
    "start_time": "2023-07-11T14:50:49.099Z"
   },
   {
    "duration": 5,
    "start_time": "2023-07-11T14:50:49.111Z"
   },
   {
    "duration": 43,
    "start_time": "2023-07-11T14:50:49.118Z"
   },
   {
    "duration": 9,
    "start_time": "2023-07-11T14:50:49.163Z"
   },
   {
    "duration": 5,
    "start_time": "2023-07-11T14:50:49.174Z"
   },
   {
    "duration": 210,
    "start_time": "2023-07-11T14:50:49.180Z"
   },
   {
    "duration": 6,
    "start_time": "2023-07-11T14:50:49.392Z"
   },
   {
    "duration": 102,
    "start_time": "2023-07-11T14:50:49.400Z"
   },
   {
    "duration": 5,
    "start_time": "2023-07-11T14:50:49.505Z"
   },
   {
    "duration": 213,
    "start_time": "2023-07-11T14:50:49.512Z"
   },
   {
    "duration": 313,
    "start_time": "2023-07-11T14:50:49.727Z"
   },
   {
    "duration": 19,
    "start_time": "2023-07-11T14:50:50.042Z"
   },
   {
    "duration": 280,
    "start_time": "2023-07-11T14:50:50.063Z"
   },
   {
    "duration": 14,
    "start_time": "2023-07-11T14:50:50.345Z"
   },
   {
    "duration": 27,
    "start_time": "2023-07-11T14:50:50.361Z"
   },
   {
    "duration": 6,
    "start_time": "2023-07-11T14:50:50.390Z"
   },
   {
    "duration": 307,
    "start_time": "2023-07-11T14:50:50.397Z"
   },
   {
    "duration": 9,
    "start_time": "2023-07-11T14:50:50.706Z"
   },
   {
    "duration": 48,
    "start_time": "2023-07-11T14:50:50.717Z"
   },
   {
    "duration": 4,
    "start_time": "2023-07-11T14:50:50.766Z"
   },
   {
    "duration": 28,
    "start_time": "2023-07-11T14:50:50.772Z"
   },
   {
    "duration": 21,
    "start_time": "2023-07-11T14:50:50.802Z"
   },
   {
    "duration": 537,
    "start_time": "2023-07-11T14:50:50.825Z"
   },
   {
    "duration": 435,
    "start_time": "2023-07-11T14:50:51.364Z"
   },
   {
    "duration": 4,
    "start_time": "2023-07-11T14:50:51.801Z"
   },
   {
    "duration": 969,
    "start_time": "2023-07-11T14:50:51.809Z"
   },
   {
    "duration": 20,
    "start_time": "2023-07-11T14:50:52.780Z"
   },
   {
    "duration": 8,
    "start_time": "2023-07-11T14:50:52.802Z"
   },
   {
    "duration": 7,
    "start_time": "2023-07-11T14:50:52.812Z"
   },
   {
    "duration": 34,
    "start_time": "2023-07-11T14:50:52.821Z"
   },
   {
    "duration": 12,
    "start_time": "2023-07-11T14:50:52.857Z"
   }
  ],
  "kernelspec": {
   "display_name": "Python 3 (ipykernel)",
   "language": "python",
   "name": "python3"
  },
  "language_info": {
   "codemirror_mode": {
    "name": "ipython",
    "version": 3
   },
   "file_extension": ".py",
   "mimetype": "text/x-python",
   "name": "python",
   "nbconvert_exporter": "python",
   "pygments_lexer": "ipython3",
   "version": "3.10.9"
  },
  "toc": {
   "base_numbering": 1,
   "nav_menu": {},
   "number_sections": true,
   "sideBar": true,
   "skip_h1_title": true,
   "title_cell": "Table of Contents",
   "title_sidebar": "Contents",
   "toc_cell": false,
   "toc_position": {},
   "toc_section_display": true,
   "toc_window_display": false
  }
 },
 "nbformat": 4,
 "nbformat_minor": 5
}
