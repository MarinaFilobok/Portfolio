{
 "cells": [
  {
   "cell_type": "markdown",
   "id": "2da0260a",
   "metadata": {},
   "source": [
    "# Анализ сервиса вопросов и ответов по программированию"
   ]
  },
  {
   "cell_type": "markdown",
   "id": "7f88ac28",
   "metadata": {},
   "source": [
    "Цель проекта - использовать навыки SQL для подсчета и визуализации ключевых метрик сервис-системы вопросов и ответов о программировании.\n",
    "\n",
    "В проекте будет осуществляться работа с базой данных StackOverflow — сервиса вопросов и ответов о программировании. StackOverflow похож на социальную сеть — пользователи сервиса задают вопросы, отвечают на посты, оставляют комментарии и ставят оценки другим ответам. Мы будем работать с версией базы, где хранятся данные о постах за 2008 год. \n",
    "\n",
    "Проект был сделан в онлайн-тренажёре SQL, поэтому при переносе данных в Jupiter подключиться к БД и выполнять запросы активным кодом в этом учебном проекте нет возможности."
   ]
  },
  {
   "cell_type": "markdown",
   "id": "f34f483c",
   "metadata": {},
   "source": [
    "## Описание таблиц, содержащихся в базе данных\n",
    "\n",
    "***stackoverflow.badges***\n",
    "\n",
    "Хранит информацию о значках, которые присуждаются за разные достижения:\n",
    "\n",
    "- id - идентификатор значка, первичный ключ таблицы;\n",
    "- name - пазвание значка;\n",
    "- user_id - идентификатор пользователя, которому присвоили значок, внешний ключ, отсылающий к таблице users;\n",
    "- creation_date - дата присвоения значка.\n",
    "\n",
    "***stackoverflow.post_types***\n",
    "\n",
    "Содержит информацию о типе постов. Их может быть два: question — пост с вопросом, и answer — пост с ответом.\n",
    "\n",
    "- id - идентификатор поста, первичный ключ таблицы;\n",
    "- type - тип поста.\n",
    "\n",
    "***posts***\n",
    "\n",
    "Содержит информацию о постах:\n",
    "\n",
    "- id - идентификатор поста, первичный ключ таблицы;\n",
    "- title - заголовок поста;\n",
    "- creation_date - дата создания поста;\n",
    "- favorites_count - число, которое показывает, сколько раз пост добавили в «Закладки»;\n",
    "- last_activity_date - дата последнего действия в посте, например комментария;\n",
    "- last_edit_date - дата последнего изменения поста;\n",
    "- user_id - идентификатор пользователя, который создал пост, внешний ключ к таблице users;\n",
    "- parent_id - если пост написали в ответ на другую публикацию, в это поле попадёт идентификатор поста с вопросом;\n",
    "- post_type_id - идентификатор типа поста, внешний ключ к таблице post_types;\n",
    "- score - количество очков, которое набрал пост;\n",
    "- views_count - количество просмотров.\n",
    "\n",
    "***users***\n",
    "\n",
    "Содержит информацию о пользователях:\n",
    "\n",
    "- id - идентификатор пользователя, первичный ключ таблицы;\n",
    "- creation_date - дата регистрации пользователя;\n",
    "- display_name - имя пользователя;\n",
    "- last_accsess_date - дата последнего входа;\n",
    "- location - местоположение;\n",
    "- reputation - очки репутации, которые получают за хорошие вопросы и полезные ответы;\n",
    "- views - число просмотров профиля пользователя.\n",
    "\n",
    "***vote_types***\n",
    "\n",
    "Содержит информацию о типах голосов. Голос — это метка, которую пользователи ставят посту. Типов голосов бывает несколько:\n",
    "\n",
    "- UpMod — такую отметку получают посты с вопросами или ответами, которые пользователи посчитали уместными и полезными.\n",
    "- DownMod — такую отметку получают посты, которые показались пользователям наименее полезными.\n",
    "- Close — такую метку ставят опытные пользователи сервиса, если заданный вопрос нужно доработать или он вообще не подходит для платформы.\n",
    "- Offensive — такую метку могут поставить, если пользователь ответил на вопрос в грубой и оскорбительной манере, например, указав на неопытность автора поста.\n",
    "- Spam — такую метку ставят в случае, если пост пользователя выглядит откровенной рекламой.\n",
    "\n",
    "Описание таблицы:\n",
    "\n",
    "- id - идентификатор типа голоса, первичный ключ;\n",
    "- name - название метки.\n",
    "\n",
    "***votes***\n",
    "\n",
    "Содержит информацию о голосах за посты:\n",
    "\n",
    "- id - идентификатор голоса, первичный ключ;\n",
    "- post_id - идентификатор поста, внешний ключ к таблице posts;\n",
    "- user_id - идентификатор пользователя, который поставил посту голос, внешний ключ к таблице users;\n",
    "- bounty_amount - сумма вознаграждения, которое назначают, чтобы привлечь внимание к посту;\n",
    "- vote_type_id - идентификатор типа голоса, внешний ключ к таблице vote_types;\n",
    "- creation_date - дата назначения голоса."
   ]
  },
  {
   "cell_type": "markdown",
   "id": "4359e7ec",
   "metadata": {},
   "source": [
    "1. Найдите количество вопросов, которые набрали больше 300 очков или как минимум 100 раз были добавлены в «Закладки»."
   ]
  },
  {
   "cell_type": "code",
   "execution_count": null,
   "id": "09c829d8",
   "metadata": {},
   "outputs": [],
   "source": [
    "SELECT COUNT(p.title)\n",
    "FROM stackoverflow.posts p\n",
    "WHERE p.score > 300 OR\n",
    "p.favorites_count >= 100;"
   ]
  },
  {
   "cell_type": "markdown",
   "id": "9b633cc4",
   "metadata": {},
   "source": [
    "2.\n",
    "Сколько в среднем в день задавали вопросов с 1 по 18 ноября 2008 включительно? Результат округлите до целого числа."
   ]
  },
  {
   "cell_type": "code",
   "execution_count": null,
   "id": "0a2e83eb",
   "metadata": {},
   "outputs": [],
   "source": [
    "WITH pp AS (SELECT COUNT(p.title),\n",
    "CAST(DATE_TRUNC('day', p.creation_date) AS date)\n",
    "FROM stackoverflow.posts p\n",
    "WHERE CAST(DATE_TRUNC('day', p.creation_date) AS date) BETWEEN '2008-11-01' AND '2008-11-18'\n",
    "GROUP BY CAST(DATE_TRUNC('day', p.creation_date) AS date))\n",
    "SELECT ROUND(AVG(count))\n",
    "FROM pp"
   ]
  },
  {
   "cell_type": "markdown",
   "id": "bf87dbe0",
   "metadata": {},
   "source": [
    "3.\n",
    "Сколько пользователей получили значки сразу в день регистрации? Выведите количество уникальных пользователей."
   ]
  },
  {
   "cell_type": "code",
   "execution_count": null,
   "id": "b8a9b1ab",
   "metadata": {},
   "outputs": [],
   "source": [
    "SELECT COUNT(DISTINCT u.id)\n",
    "FROM stackoverflow.users u\n",
    "JOIN stackoverflow.badges b ON u.id=b.user_id\n",
    "WHERE CAST(DATE_TRUNC('day', u.creation_date) AS date) = CAST(DATE_TRUNC('day', b.creation_date) AS date)"
   ]
  },
  {
   "cell_type": "markdown",
   "id": "ab515d39",
   "metadata": {},
   "source": [
    "4.\n",
    "Сколько уникальных постов пользователя с именем Joel Coehoorn получили хотя бы один голос?"
   ]
  },
  {
   "cell_type": "code",
   "execution_count": null,
   "id": "236167e3",
   "metadata": {},
   "outputs": [],
   "source": [
    "SELECT COUNT(DISTINCT(p.id))\n",
    "FROM stackoverflow.users u\n",
    "INNER JOIN stackoverflow.posts p ON u.id=p.user_id\n",
    "INNER JOIN stackoverflow.votes v ON v.post_id=p.id\n",
    "WHERE display_name = 'Joel Coehoorn'"
   ]
  },
  {
   "cell_type": "markdown",
   "id": "3291b45d",
   "metadata": {},
   "source": [
    "5.\n",
    "Выгрузите все поля таблицы vote_types. Добавьте к таблице поле rank, в которое войдут номера записей в обратном порядке. Таблица должна быть отсортирована по полю id."
   ]
  },
  {
   "cell_type": "code",
   "execution_count": null,
   "id": "e4a2db4e",
   "metadata": {},
   "outputs": [],
   "source": [
    "SELECT *,\n",
    "RANK() OVER (ORDER BY id DESC) AS rank\n",
    "FROM stackoverflow.vote_types v\n",
    "GROUP BY v.name, v.id\n",
    "ORDER BY v.id"
   ]
  },
  {
   "cell_type": "markdown",
   "id": "95a75330",
   "metadata": {},
   "source": [
    "6.\n",
    "Отберите 10 пользователей, которые поставили больше всего голосов типа Close. Отобразите таблицу из двух полей: идентификатором пользователя и количеством голосов. Отсортируйте данные сначала по убыванию количества голосов, потом по убыванию значения идентификатора пользователя."
   ]
  },
  {
   "cell_type": "code",
   "execution_count": null,
   "id": "baa9828b",
   "metadata": {},
   "outputs": [],
   "source": [
    "SELECT u.id,\n",
    "COUNT(v.id) AS votes\n",
    "FROM stackoverflow.users u\n",
    "INNER JOIN stackoverflow.votes v ON u.id=v.user_id\n",
    "INNER JOIN stackoverflow.vote_types vt ON vt.id=v.vote_type_id\n",
    "GROUP BY u.id, vt.name\n",
    "HAVING vt.name LIKE 'Close'\n",
    "ORDER BY votes DESC,\n",
    "u.id DESC\n",
    "LIMIT 10"
   ]
  },
  {
   "cell_type": "markdown",
   "id": "0f4fc68d",
   "metadata": {},
   "source": [
    "7.\n",
    "Отберите 10 пользователей по количеству значков, полученных в период с 15 ноября по 15 декабря 2008 года включительно.\n",
    "\n",
    "Отобразите несколько полей:\n",
    "- идентификатор пользователя;\n",
    "- число значков;\n",
    "- место в рейтинге — чем больше значков, тем выше рейтинг.\n",
    "\n",
    "Пользователям, которые набрали одинаковое количество значков, присвойте одно и то же место в рейтинге.\n",
    "\n",
    "Отсортируйте записи по количеству значков по убыванию, а затем по возрастанию значения идентификатора пользователя."
   ]
  },
  {
   "cell_type": "code",
   "execution_count": null,
   "id": "17986956",
   "metadata": {},
   "outputs": [],
   "source": [
    "SELECT u.id AS ids,\n",
    "COUNT(b.id) AS badges,\n",
    "DENSE_RANK() OVER (ORDER BY COUNT(b.id) DESC)\n",
    "FROM stackoverflow.users u\n",
    "INNER JOIN stackoverflow.badges b ON u.id=b.user_id\n",
    "WHERE CAST(DATE_TRUNC('day', b.creation_date) AS date) BETWEEN '2008-11-15' AND '2008-12-15'\n",
    "GROUP BY ids\n",
    "ORDER BY badges DESC,\n",
    "ids\n",
    "LIMIT 10"
   ]
  },
  {
   "cell_type": "markdown",
   "id": "59804ec7",
   "metadata": {},
   "source": [
    "8.\n",
    "Сколько в среднем очков получает пост каждого пользователя?\n",
    "\n",
    "Сформируйте таблицу из следующих полей:\n",
    "- заголовок поста;\n",
    "- идентификатор пользователя;\n",
    "- число очков поста;\n",
    "- среднее число очков пользователя за пост, округлённое до целого числа.\n",
    "\n",
    "Не учитывайте посты без заголовка, а также те, что набрали ноль очков."
   ]
  },
  {
   "cell_type": "code",
   "execution_count": null,
   "id": "87cf0e5c",
   "metadata": {},
   "outputs": [],
   "source": [
    "SELECT p.title,\n",
    "u.id,\n",
    "p.score,\n",
    "ROUND(AVG(p.score) OVER (PARTITION BY p.user_id))\n",
    "FROM stackoverflow.posts p\n",
    "INNER JOIN stackoverflow.users u ON u.id=p.user_id\n",
    "WHERE p.score <> 0 AND p.title IS NOT NULL"
   ]
  },
  {
   "cell_type": "markdown",
   "id": "dc5f49cf",
   "metadata": {},
   "source": [
    "9.\n",
    "Отобразите заголовки постов, которые были написаны пользователями, получившими более 1000 значков. Посты без заголовков не должны попасть в список."
   ]
  },
  {
   "cell_type": "code",
   "execution_count": null,
   "id": "116c7102",
   "metadata": {},
   "outputs": [],
   "source": [
    "SELECT p.title\n",
    "FROM stackoverflow.posts p\n",
    "INNER JOIN stackoverflow.users u ON p.user_id=u.id\n",
    "INNER JOIN stackoverflow.badges b ON b.user_id=u.id\n",
    "WHERE p.title IS NOT NULL\n",
    "GROUP BY p.title\n",
    "HAVING COUNT(b.id) > 1000"
   ]
  },
  {
   "cell_type": "markdown",
   "id": "04d3f605",
   "metadata": {},
   "source": [
    "10.\n",
    "Напишите запрос, который выгрузит данные о пользователях из Канады (англ. Canada). Разделите пользователей на три группы в зависимости от количества просмотров их профилей:\n",
    "- пользователям с числом просмотров больше либо равным 350 присвойте группу 1;\n",
    "- пользователям с числом просмотров меньше 350, но больше либо равно 100 — группу 2;\n",
    "- пользователям с числом просмотров меньше 100 — группу 3.\n",
    "\n",
    "Отобразите в итоговой таблице идентификатор пользователя, количество просмотров профиля и группу. Пользователи с нулевым количеством просмотров не должны войти в итоговую таблицу."
   ]
  },
  {
   "cell_type": "code",
   "execution_count": null,
   "id": "52cd3363",
   "metadata": {},
   "outputs": [],
   "source": [
    "SELECT u.id,\n",
    "u.views,\n",
    "CASE \n",
    "WHEN u.views < 100 THEN 3\n",
    "WHEN u.views >= 100 AND u.views < 350 THEN 2\n",
    "WHEN u.views >= 350 THEN 1\n",
    "END\n",
    "FROM stackoverflow.users u\n",
    "WHERE u.location LIKE '%Canada%'\n",
    "AND u.views > 0"
   ]
  },
  {
   "cell_type": "markdown",
   "id": "933bb151",
   "metadata": {},
   "source": [
    "11.\n",
    "Дополните предыдущий запрос. Отобразите лидеров каждой группы — пользователей, которые набрали максимальное число просмотров в своей группе. Выведите поля с идентификатором пользователя, группой и количеством просмотров. Отсортируйте таблицу по убыванию просмотров, а затем по возрастанию значения идентификатора."
   ]
  },
  {
   "cell_type": "code",
   "execution_count": null,
   "id": "e938570d",
   "metadata": {},
   "outputs": [],
   "source": [
    "WITH case_v AS (SELECT id,\n",
    "views,\n",
    "CASE \n",
    "WHEN views < 100 THEN 3\n",
    "WHEN views >= 100 AND views < 350 THEN 2\n",
    "WHEN views >= 350 THEN 1\n",
    "END cat\n",
    "FROM stackoverflow.users \n",
    "WHERE location LIKE '%Canada%'\n",
    "AND views > 0)\n",
    "SELECT views AS max,\n",
    "id,\n",
    "cat\n",
    "FROM case_v\n",
    "WHERE views IN (99, 349, 21991)\n",
    "ORDER BY views DESC,\n",
    "id"
   ]
  },
  {
   "cell_type": "markdown",
   "id": "1470f244",
   "metadata": {},
   "source": [
    "12.\n",
    "Посчитайте ежедневный прирост новых пользователей в ноябре 2008 года. Сформируйте таблицу с полями:\n",
    "- номер дня;\n",
    "- число пользователей, зарегистрированных в этот день;\n",
    "- сумму пользователей с накоплением."
   ]
  },
  {
   "cell_type": "code",
   "execution_count": null,
   "id": "88c9b821",
   "metadata": {},
   "outputs": [],
   "source": [
    "WITH\n",
    "t1 AS\n",
    "(SELECT CAST(DATE_TRUNC('day', creation_date) AS date) AS dt, COUNT(id) AS val\n",
    "FROM stackoverflow.users\n",
    "GROUP BY CAST(DATE_TRUNC('day', creation_date) AS date)\n",
    "ORDER BY CAST(DATE_TRUNC('day', creation_date) AS date))\n",
    "\n",
    "SELECT RANK() OVER(ORDER BY dt) ,val,\n",
    "SUM(val) OVER (ORDER BY dt) AS cum\n",
    "FROM t1 \n",
    "WHERE CAST(DATE_TRUNC('day', dt) AS date) BETWEEN '2008-11-01' AND '2008-11-30'"
   ]
  },
  {
   "cell_type": "markdown",
   "id": "8ed04809",
   "metadata": {},
   "source": [
    "13.\n",
    "Для каждого пользователя, который написал хотя бы один пост, найдите интервал между регистрацией и временем создания первого поста. Отобразите:\n",
    "- идентификатор пользователя;\n",
    "- разницу во времени между регистрацией и первым постом."
   ]
  },
  {
   "cell_type": "code",
   "execution_count": null,
   "id": "281c0e99",
   "metadata": {},
   "outputs": [],
   "source": [
    "WITH p AS \n",
    "(SELECT user_id, creation_date,\n",
    "RANK() OVER (PARTITION BY user_id ORDER BY creation_date)  AS first_pub\n",
    "FROM stackoverflow.posts \n",
    "\n",
    "ORDER BY user_id)\n",
    "\n",
    "SELECT user_id, p.creation_date - u.creation_date FROM p\n",
    "JOIN stackoverflow.users u ON p.user_id = u.id\n",
    "WHERE first_pub = 1 "
   ]
  },
  {
   "cell_type": "markdown",
   "id": "b5e3f509",
   "metadata": {},
   "source": [
    "14.\n",
    "Выведите общую сумму просмотров у постов, опубликованных в каждый месяц 2008 года. Если данных за какой-либо месяц в базе нет, такой месяц можно пропустить. Результат отсортируйте по убыванию общего количества просмотров."
   ]
  },
  {
   "cell_type": "code",
   "execution_count": null,
   "id": "811f1037",
   "metadata": {},
   "outputs": [],
   "source": [
    "SELECT CAST(DATE_TRUNC('month', creation_date) AS date) AS month,\n",
    "SUM(views_count)\n",
    "FROM stackoverflow.posts\n",
    "WHERE CAST(DATE_TRUNC('day', creation_date) AS date) BETWEEN '2008-01-01' AND '2008-12-31'\n",
    "GROUP BY CAST(DATE_TRUNC('month', creation_date) AS date)\n",
    "ORDER BY sum DESC"
   ]
  },
  {
   "cell_type": "markdown",
   "id": "77aa58e0",
   "metadata": {},
   "source": [
    "15.\n",
    "Выведите имена самых активных пользователей, которые в первый месяц после регистрации (включая день регистрации) дали больше 100 ответов. Вопросы, которые задавали пользователи, не учитывайте. Для каждого имени пользователя выведите количество уникальных значений user_id. Отсортируйте результат по полю с именами в лексикографическом порядке."
   ]
  },
  {
   "cell_type": "code",
   "execution_count": null,
   "id": "3423b870",
   "metadata": {},
   "outputs": [],
   "source": [
    "SELECT u.display_name,\n",
    "COUNT(DISTINCT(p.user_id))\n",
    "FROM stackoverflow.users u\n",
    "JOIN stackoverflow.posts p ON u.id=p.user_id\n",
    "JOIN stackoverflow.post_types pt ON pt.id=p.post_type_id\n",
    "WHERE (DATE_TRUNC('day', p.creation_date) <= DATE_TRUNC('day', u.creation_date) + INTERVAL '1 month') AND (p.post_type_id=2)\n",
    "GROUP BY display_name\n",
    "HAVING COUNT(p.id) > 100"
   ]
  },
  {
   "cell_type": "markdown",
   "id": "eabc9902",
   "metadata": {},
   "source": [
    "16.\n",
    "Выведите количество постов за 2008 год по месяцам. Отберите посты от пользователей, которые зарегистрировались в сентябре 2008 года и сделали хотя бы один пост в декабре того же года. Отсортируйте таблицу по значению месяца по убыванию."
   ]
  },
  {
   "cell_type": "code",
   "execution_count": null,
   "id": "cf45945d",
   "metadata": {},
   "outputs": [],
   "source": [
    "WITH\n",
    "t1 AS \n",
    "(SELECT u.id\n",
    "FROM stackoverflow.users AS u JOIN stackoverflow.posts AS p ON u.id=p.user_id\n",
    "WHERE (u.creation_date::date BETWEEN '2008-09-01' AND '2008-09-30')\n",
    "AND ((p.creation_date::date BETWEEN '2008-12-01' AND '2008-12-31'))\n",
    "GROUP BY u.id)\n",
    "\n",
    "SELECT CAST(DATE_TRUNC('month', p.creation_date) AS date) AS month, COUNT(p.id) AS cnt\n",
    "FROM stackoverflow.users AS u JOIN stackoverflow.posts AS p ON u.id=p.user_id\n",
    "WHERE (p.creation_date::date BETWEEN '2008-01-01' AND '2008-12-31')\n",
    "AND p.user_id IN (SELECT * FROM t1)\n",
    "GROUP BY CAST(DATE_TRUNC('month', p.creation_date) AS date)\n",
    "ORDER BY CAST(DATE_TRUNC('month', p.creation_date) AS date) DESC"
   ]
  },
  {
   "cell_type": "markdown",
   "id": "38f170a2",
   "metadata": {},
   "source": [
    "17.\n",
    "Используя данные о постах, выведите несколько полей:\n",
    "- идентификатор пользователя, который написал пост;\n",
    "- дата создания поста;\n",
    "- количество просмотров у текущего поста;\n",
    "- сумма просмотров постов автора с накоплением.\n",
    "\n",
    "Данные в таблице должны быть отсортированы по возрастанию идентификаторов пользователей, а данные об одном и том же пользователе — по возрастанию даты создания поста."
   ]
  },
  {
   "cell_type": "code",
   "execution_count": null,
   "id": "67227445",
   "metadata": {},
   "outputs": [],
   "source": [
    "SELECT p.user_id,\n",
    "p.creation_date,\n",
    "p.views_count,\n",
    "SUM(p.views_count) OVER (PARTITION BY p.user_id ORDER BY p.creation_date)\n",
    "FROM stackoverflow.users u\n",
    "JOIN stackoverflow.posts AS p ON u.id=p.user_id\n",
    "ORDER BY p.user_id, p.creation_date"
   ]
  },
  {
   "cell_type": "markdown",
   "id": "f2badf5a",
   "metadata": {},
   "source": [
    "5.\n",
    "Сколько в среднем дней в период с 1 по 7 декабря 2008 года включительно пользователи взаимодействовали с платформой? Для каждого пользователя отберите дни, в которые он или она опубликовали хотя бы один пост. Нужно получить одно целое число — не забудьте округлить результат."
   ]
  },
  {
   "cell_type": "code",
   "execution_count": null,
   "id": "00a986ec",
   "metadata": {},
   "outputs": [],
   "source": [
    "WITH posts AS (SELECT user_id,\n",
    "COUNT(distinct creation_date::date) AS count_p\n",
    "FROM stackoverflow.posts\n",
    "WHERE CAST(DATE_TRUNC('day', creation_date) AS date) BETWEEN '2008-12-01' AND '2008-12-07'\n",
    "GROUP BY user_id\n",
    "HAVING COUNT(id)>=1)\n",
    "SELECT ROUND(AVG(count_p))\n",
    "FROM posts"
   ]
  },
  {
   "cell_type": "markdown",
   "id": "d4c59bfe",
   "metadata": {},
   "source": [
    "6.\n",
    "На сколько процентов менялось количество постов ежемесячно с 1 сентября по 31 декабря 2008 года? Отобразите таблицу со следующими полями:\n",
    "- Номер месяца.\n",
    "- Количество постов за месяц.\n",
    "- Процент, который показывает, насколько изменилось количество постов в текущем месяце по сравнению с предыдущим.\n",
    "\n",
    "Если постов стало меньше, значение процента должно быть отрицательным, если больше — положительным. Округлите значение процента до двух знаков после запятой.\n",
    "\n",
    "Напомним, что при делении одного целого числа на другое в PostgreSQL в результате получится целое число, округлённое до ближайшего целого вниз. Чтобы этого избежать, переведите делимое в тип numeric."
   ]
  },
  {
   "cell_type": "code",
   "execution_count": null,
   "id": "d8e0eb19",
   "metadata": {},
   "outputs": [],
   "source": [
    "with a AS (SELECT EXTRACT(month from creation_date) AS num, COUNT(id) AS cnt\n",
    "           FROM stackoverflow.posts\n",
    "           WHERE  creation_date::date BETWEEN '2008-09-01' AND '2008-12-31'\n",
    "          GROUP BY 1)\n",
    "\n",
    "          SELECT num, cnt, ROUND(((cnt::numeric/LAG(cnt) OVER (ORDER BY num))-1)*100,2)\n",
    "          FROM a"
   ]
  },
  {
   "cell_type": "markdown",
   "id": "1f17d5fe",
   "metadata": {},
   "source": [
    "7.\n",
    "Найдите пользователя, который опубликовал больше всего постов за всё время с момента регистрации. Выведите данные его активности за октябрь 2008 года в таком виде:\n",
    "- номер недели;\n",
    "- дата и время последнего поста, опубликованного на этой неделе."
   ]
  },
  {
   "cell_type": "code",
   "execution_count": null,
   "id": "acb22b76",
   "metadata": {},
   "outputs": [],
   "source": [
    "SELECT\n",
    "DISTINCT(EXTRACT(week FROM creation_date::date)),\n",
    "MAX(creation_date) OVER (ORDER BY EXTRACT(week FROM creation_date::date))\n",
    "FROM stackoverflow.posts\n",
    "WHERE user_id = 22656\n",
    "AND creation_date::date BETWEEN '2008-10-01' AND '2008-10-31'"
   ]
  }
 ],
 "metadata": {
  "kernelspec": {
   "display_name": "Python 3 (ipykernel)",
   "language": "python",
   "name": "python3"
  },
  "language_info": {
   "codemirror_mode": {
    "name": "ipython",
    "version": 3
   },
   "file_extension": ".py",
   "mimetype": "text/x-python",
   "name": "python",
   "nbconvert_exporter": "python",
   "pygments_lexer": "ipython3",
   "version": "3.10.9"
  }
 },
 "nbformat": 4,
 "nbformat_minor": 5
}
