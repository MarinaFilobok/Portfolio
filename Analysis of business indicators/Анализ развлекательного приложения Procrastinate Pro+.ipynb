{
 "cells": [
  {
   "cell_type": "markdown",
   "metadata": {},
   "source": [
    "# Анализ развлекательного приложения Procrastinate Pro+.\n"
   ]
  },
  {
   "cell_type": "markdown",
   "metadata": {},
   "source": [
    "В нашем распоряжении данные о пользователях приложения , привлечённых с 1 мая по 27 октября 2019 года:\n",
    "- лог сервера с данными об их посещениях,\n",
    "- выгрузка их покупок за этот период,\n",
    "- рекламные расходы.\n",
    "\n",
    "Цель проекта - проанализировать рекламные компании, понять почему они не успешны и помочь компании выйти в плюс. \n",
    "\n",
    "Наша работа будет состоять из 6 шагов:\n",
    "\n",
    "1. Загрузка данных\n",
    "2. Предобработка данных\n",
    "3. Исследовательский анализ данных\n",
    "4. Оценка маркетинговых показателей\n",
    "5. Анализ окупаемости рекламы\n",
    "6. Общий вывод\n",
    "\n",
    "В итоге работы мы получим информацию о том, откуда приходят пользователи и какими устройствами они пользуются, сколько стоит привлечение пользователей из различных рекламных каналов, сколько денег приносит каждый клиент, когда расходы на привлечение клиента окупаются,\n",
    "какие факторы мешают привлечению клиентов. Также мы сформулируем рекомендации для отдела маркетинга для дальнейшей работы и выхода компании в плюс."
   ]
  },
  {
   "cell_type": "markdown",
   "metadata": {
    "id": "r-BO88CnWVwe"
   },
   "source": [
    "### Загрузим данные и подготовим их к анализу"
   ]
  },
  {
   "cell_type": "code",
   "execution_count": 1,
   "metadata": {
    "id": "_vsKinGUWVwk"
   },
   "outputs": [],
   "source": [
    "#Импортируем все необходимые библиотеки.\n",
    "import warnings\n",
    "warnings.filterwarnings('ignore')\n",
    "from datetime import datetime, timedelta\n",
    "import pandas as pd\n",
    "import matplotlib.pyplot as plt\n",
    "import numpy as np\n",
    "import seaborn as sns"
   ]
  },
  {
   "cell_type": "code",
   "execution_count": 2,
   "metadata": {},
   "outputs": [
    {
     "ename": "FileNotFoundError",
     "evalue": "[Errno 2] No such file or directory: '/datasets/visits_info_short.csv'",
     "output_type": "error",
     "traceback": [
      "\u001b[0;31m---------------------------------------------------------------------------\u001b[0m",
      "\u001b[0;31mFileNotFoundError\u001b[0m                         Traceback (most recent call last)",
      "Cell \u001b[0;32mIn[2], line 3\u001b[0m\n\u001b[1;32m      2\u001b[0m \u001b[38;5;28;01mtry\u001b[39;00m:\n\u001b[0;32m----> 3\u001b[0m     visits \u001b[38;5;241m=\u001b[39m \u001b[43mpd\u001b[49m\u001b[38;5;241;43m.\u001b[39;49m\u001b[43mread_csv\u001b[49m\u001b[43m(\u001b[49m\u001b[38;5;124;43m'\u001b[39;49m\u001b[38;5;124;43mvisits_info_short.csv\u001b[39;49m\u001b[38;5;124;43m'\u001b[39;49m\u001b[43m)\u001b[49m\n\u001b[1;32m      4\u001b[0m \u001b[38;5;28;01mexcept\u001b[39;00m:\n",
      "File \u001b[0;32m~/anaconda3/lib/python3.10/site-packages/pandas/util/_decorators.py:211\u001b[0m, in \u001b[0;36mdeprecate_kwarg.<locals>._deprecate_kwarg.<locals>.wrapper\u001b[0;34m(*args, **kwargs)\u001b[0m\n\u001b[1;32m    210\u001b[0m         kwargs[new_arg_name] \u001b[38;5;241m=\u001b[39m new_arg_value\n\u001b[0;32m--> 211\u001b[0m \u001b[38;5;28;01mreturn\u001b[39;00m \u001b[43mfunc\u001b[49m\u001b[43m(\u001b[49m\u001b[38;5;241;43m*\u001b[39;49m\u001b[43margs\u001b[49m\u001b[43m,\u001b[49m\u001b[43m \u001b[49m\u001b[38;5;241;43m*\u001b[39;49m\u001b[38;5;241;43m*\u001b[39;49m\u001b[43mkwargs\u001b[49m\u001b[43m)\u001b[49m\n",
      "File \u001b[0;32m~/anaconda3/lib/python3.10/site-packages/pandas/util/_decorators.py:331\u001b[0m, in \u001b[0;36mdeprecate_nonkeyword_arguments.<locals>.decorate.<locals>.wrapper\u001b[0;34m(*args, **kwargs)\u001b[0m\n\u001b[1;32m    326\u001b[0m     warnings\u001b[38;5;241m.\u001b[39mwarn(\n\u001b[1;32m    327\u001b[0m         msg\u001b[38;5;241m.\u001b[39mformat(arguments\u001b[38;5;241m=\u001b[39m_format_argument_list(allow_args)),\n\u001b[1;32m    328\u001b[0m         \u001b[38;5;167;01mFutureWarning\u001b[39;00m,\n\u001b[1;32m    329\u001b[0m         stacklevel\u001b[38;5;241m=\u001b[39mfind_stack_level(),\n\u001b[1;32m    330\u001b[0m     )\n\u001b[0;32m--> 331\u001b[0m \u001b[38;5;28;01mreturn\u001b[39;00m \u001b[43mfunc\u001b[49m\u001b[43m(\u001b[49m\u001b[38;5;241;43m*\u001b[39;49m\u001b[43margs\u001b[49m\u001b[43m,\u001b[49m\u001b[43m \u001b[49m\u001b[38;5;241;43m*\u001b[39;49m\u001b[38;5;241;43m*\u001b[39;49m\u001b[43mkwargs\u001b[49m\u001b[43m)\u001b[49m\n",
      "File \u001b[0;32m~/anaconda3/lib/python3.10/site-packages/pandas/io/parsers/readers.py:950\u001b[0m, in \u001b[0;36mread_csv\u001b[0;34m(filepath_or_buffer, sep, delimiter, header, names, index_col, usecols, squeeze, prefix, mangle_dupe_cols, dtype, engine, converters, true_values, false_values, skipinitialspace, skiprows, skipfooter, nrows, na_values, keep_default_na, na_filter, verbose, skip_blank_lines, parse_dates, infer_datetime_format, keep_date_col, date_parser, dayfirst, cache_dates, iterator, chunksize, compression, thousands, decimal, lineterminator, quotechar, quoting, doublequote, escapechar, comment, encoding, encoding_errors, dialect, error_bad_lines, warn_bad_lines, on_bad_lines, delim_whitespace, low_memory, memory_map, float_precision, storage_options)\u001b[0m\n\u001b[1;32m    948\u001b[0m kwds\u001b[38;5;241m.\u001b[39mupdate(kwds_defaults)\n\u001b[0;32m--> 950\u001b[0m \u001b[38;5;28;01mreturn\u001b[39;00m \u001b[43m_read\u001b[49m\u001b[43m(\u001b[49m\u001b[43mfilepath_or_buffer\u001b[49m\u001b[43m,\u001b[49m\u001b[43m \u001b[49m\u001b[43mkwds\u001b[49m\u001b[43m)\u001b[49m\n",
      "File \u001b[0;32m~/anaconda3/lib/python3.10/site-packages/pandas/io/parsers/readers.py:605\u001b[0m, in \u001b[0;36m_read\u001b[0;34m(filepath_or_buffer, kwds)\u001b[0m\n\u001b[1;32m    604\u001b[0m \u001b[38;5;66;03m# Create the parser.\u001b[39;00m\n\u001b[0;32m--> 605\u001b[0m parser \u001b[38;5;241m=\u001b[39m \u001b[43mTextFileReader\u001b[49m\u001b[43m(\u001b[49m\u001b[43mfilepath_or_buffer\u001b[49m\u001b[43m,\u001b[49m\u001b[43m \u001b[49m\u001b[38;5;241;43m*\u001b[39;49m\u001b[38;5;241;43m*\u001b[39;49m\u001b[43mkwds\u001b[49m\u001b[43m)\u001b[49m\n\u001b[1;32m    607\u001b[0m \u001b[38;5;28;01mif\u001b[39;00m chunksize \u001b[38;5;129;01mor\u001b[39;00m iterator:\n",
      "File \u001b[0;32m~/anaconda3/lib/python3.10/site-packages/pandas/io/parsers/readers.py:1442\u001b[0m, in \u001b[0;36mTextFileReader.__init__\u001b[0;34m(self, f, engine, **kwds)\u001b[0m\n\u001b[1;32m   1441\u001b[0m \u001b[38;5;28mself\u001b[39m\u001b[38;5;241m.\u001b[39mhandles: IOHandles \u001b[38;5;241m|\u001b[39m \u001b[38;5;28;01mNone\u001b[39;00m \u001b[38;5;241m=\u001b[39m \u001b[38;5;28;01mNone\u001b[39;00m\n\u001b[0;32m-> 1442\u001b[0m \u001b[38;5;28mself\u001b[39m\u001b[38;5;241m.\u001b[39m_engine \u001b[38;5;241m=\u001b[39m \u001b[38;5;28;43mself\u001b[39;49m\u001b[38;5;241;43m.\u001b[39;49m\u001b[43m_make_engine\u001b[49m\u001b[43m(\u001b[49m\u001b[43mf\u001b[49m\u001b[43m,\u001b[49m\u001b[43m \u001b[49m\u001b[38;5;28;43mself\u001b[39;49m\u001b[38;5;241;43m.\u001b[39;49m\u001b[43mengine\u001b[49m\u001b[43m)\u001b[49m\n",
      "File \u001b[0;32m~/anaconda3/lib/python3.10/site-packages/pandas/io/parsers/readers.py:1735\u001b[0m, in \u001b[0;36mTextFileReader._make_engine\u001b[0;34m(self, f, engine)\u001b[0m\n\u001b[1;32m   1734\u001b[0m         mode \u001b[38;5;241m+\u001b[39m\u001b[38;5;241m=\u001b[39m \u001b[38;5;124m\"\u001b[39m\u001b[38;5;124mb\u001b[39m\u001b[38;5;124m\"\u001b[39m\n\u001b[0;32m-> 1735\u001b[0m \u001b[38;5;28mself\u001b[39m\u001b[38;5;241m.\u001b[39mhandles \u001b[38;5;241m=\u001b[39m \u001b[43mget_handle\u001b[49m\u001b[43m(\u001b[49m\n\u001b[1;32m   1736\u001b[0m \u001b[43m    \u001b[49m\u001b[43mf\u001b[49m\u001b[43m,\u001b[49m\n\u001b[1;32m   1737\u001b[0m \u001b[43m    \u001b[49m\u001b[43mmode\u001b[49m\u001b[43m,\u001b[49m\n\u001b[1;32m   1738\u001b[0m \u001b[43m    \u001b[49m\u001b[43mencoding\u001b[49m\u001b[38;5;241;43m=\u001b[39;49m\u001b[38;5;28;43mself\u001b[39;49m\u001b[38;5;241;43m.\u001b[39;49m\u001b[43moptions\u001b[49m\u001b[38;5;241;43m.\u001b[39;49m\u001b[43mget\u001b[49m\u001b[43m(\u001b[49m\u001b[38;5;124;43m\"\u001b[39;49m\u001b[38;5;124;43mencoding\u001b[39;49m\u001b[38;5;124;43m\"\u001b[39;49m\u001b[43m,\u001b[49m\u001b[43m \u001b[49m\u001b[38;5;28;43;01mNone\u001b[39;49;00m\u001b[43m)\u001b[49m\u001b[43m,\u001b[49m\n\u001b[1;32m   1739\u001b[0m \u001b[43m    \u001b[49m\u001b[43mcompression\u001b[49m\u001b[38;5;241;43m=\u001b[39;49m\u001b[38;5;28;43mself\u001b[39;49m\u001b[38;5;241;43m.\u001b[39;49m\u001b[43moptions\u001b[49m\u001b[38;5;241;43m.\u001b[39;49m\u001b[43mget\u001b[49m\u001b[43m(\u001b[49m\u001b[38;5;124;43m\"\u001b[39;49m\u001b[38;5;124;43mcompression\u001b[39;49m\u001b[38;5;124;43m\"\u001b[39;49m\u001b[43m,\u001b[49m\u001b[43m \u001b[49m\u001b[38;5;28;43;01mNone\u001b[39;49;00m\u001b[43m)\u001b[49m\u001b[43m,\u001b[49m\n\u001b[1;32m   1740\u001b[0m \u001b[43m    \u001b[49m\u001b[43mmemory_map\u001b[49m\u001b[38;5;241;43m=\u001b[39;49m\u001b[38;5;28;43mself\u001b[39;49m\u001b[38;5;241;43m.\u001b[39;49m\u001b[43moptions\u001b[49m\u001b[38;5;241;43m.\u001b[39;49m\u001b[43mget\u001b[49m\u001b[43m(\u001b[49m\u001b[38;5;124;43m\"\u001b[39;49m\u001b[38;5;124;43mmemory_map\u001b[39;49m\u001b[38;5;124;43m\"\u001b[39;49m\u001b[43m,\u001b[49m\u001b[43m \u001b[49m\u001b[38;5;28;43;01mFalse\u001b[39;49;00m\u001b[43m)\u001b[49m\u001b[43m,\u001b[49m\n\u001b[1;32m   1741\u001b[0m \u001b[43m    \u001b[49m\u001b[43mis_text\u001b[49m\u001b[38;5;241;43m=\u001b[39;49m\u001b[43mis_text\u001b[49m\u001b[43m,\u001b[49m\n\u001b[1;32m   1742\u001b[0m \u001b[43m    \u001b[49m\u001b[43merrors\u001b[49m\u001b[38;5;241;43m=\u001b[39;49m\u001b[38;5;28;43mself\u001b[39;49m\u001b[38;5;241;43m.\u001b[39;49m\u001b[43moptions\u001b[49m\u001b[38;5;241;43m.\u001b[39;49m\u001b[43mget\u001b[49m\u001b[43m(\u001b[49m\u001b[38;5;124;43m\"\u001b[39;49m\u001b[38;5;124;43mencoding_errors\u001b[39;49m\u001b[38;5;124;43m\"\u001b[39;49m\u001b[43m,\u001b[49m\u001b[43m \u001b[49m\u001b[38;5;124;43m\"\u001b[39;49m\u001b[38;5;124;43mstrict\u001b[39;49m\u001b[38;5;124;43m\"\u001b[39;49m\u001b[43m)\u001b[49m\u001b[43m,\u001b[49m\n\u001b[1;32m   1743\u001b[0m \u001b[43m    \u001b[49m\u001b[43mstorage_options\u001b[49m\u001b[38;5;241;43m=\u001b[39;49m\u001b[38;5;28;43mself\u001b[39;49m\u001b[38;5;241;43m.\u001b[39;49m\u001b[43moptions\u001b[49m\u001b[38;5;241;43m.\u001b[39;49m\u001b[43mget\u001b[49m\u001b[43m(\u001b[49m\u001b[38;5;124;43m\"\u001b[39;49m\u001b[38;5;124;43mstorage_options\u001b[39;49m\u001b[38;5;124;43m\"\u001b[39;49m\u001b[43m,\u001b[49m\u001b[43m \u001b[49m\u001b[38;5;28;43;01mNone\u001b[39;49;00m\u001b[43m)\u001b[49m\u001b[43m,\u001b[49m\n\u001b[1;32m   1744\u001b[0m \u001b[43m\u001b[49m\u001b[43m)\u001b[49m\n\u001b[1;32m   1745\u001b[0m \u001b[38;5;28;01massert\u001b[39;00m \u001b[38;5;28mself\u001b[39m\u001b[38;5;241m.\u001b[39mhandles \u001b[38;5;129;01mis\u001b[39;00m \u001b[38;5;129;01mnot\u001b[39;00m \u001b[38;5;28;01mNone\u001b[39;00m\n",
      "File \u001b[0;32m~/anaconda3/lib/python3.10/site-packages/pandas/io/common.py:856\u001b[0m, in \u001b[0;36mget_handle\u001b[0;34m(path_or_buf, mode, encoding, compression, memory_map, is_text, errors, storage_options)\u001b[0m\n\u001b[1;32m    854\u001b[0m \u001b[38;5;28;01mif\u001b[39;00m ioargs\u001b[38;5;241m.\u001b[39mencoding \u001b[38;5;129;01mand\u001b[39;00m \u001b[38;5;124m\"\u001b[39m\u001b[38;5;124mb\u001b[39m\u001b[38;5;124m\"\u001b[39m \u001b[38;5;129;01mnot\u001b[39;00m \u001b[38;5;129;01min\u001b[39;00m ioargs\u001b[38;5;241m.\u001b[39mmode:\n\u001b[1;32m    855\u001b[0m     \u001b[38;5;66;03m# Encoding\u001b[39;00m\n\u001b[0;32m--> 856\u001b[0m     handle \u001b[38;5;241m=\u001b[39m \u001b[38;5;28;43mopen\u001b[39;49m\u001b[43m(\u001b[49m\n\u001b[1;32m    857\u001b[0m \u001b[43m        \u001b[49m\u001b[43mhandle\u001b[49m\u001b[43m,\u001b[49m\n\u001b[1;32m    858\u001b[0m \u001b[43m        \u001b[49m\u001b[43mioargs\u001b[49m\u001b[38;5;241;43m.\u001b[39;49m\u001b[43mmode\u001b[49m\u001b[43m,\u001b[49m\n\u001b[1;32m    859\u001b[0m \u001b[43m        \u001b[49m\u001b[43mencoding\u001b[49m\u001b[38;5;241;43m=\u001b[39;49m\u001b[43mioargs\u001b[49m\u001b[38;5;241;43m.\u001b[39;49m\u001b[43mencoding\u001b[49m\u001b[43m,\u001b[49m\n\u001b[1;32m    860\u001b[0m \u001b[43m        \u001b[49m\u001b[43merrors\u001b[49m\u001b[38;5;241;43m=\u001b[39;49m\u001b[43merrors\u001b[49m\u001b[43m,\u001b[49m\n\u001b[1;32m    861\u001b[0m \u001b[43m        \u001b[49m\u001b[43mnewline\u001b[49m\u001b[38;5;241;43m=\u001b[39;49m\u001b[38;5;124;43m\"\u001b[39;49m\u001b[38;5;124;43m\"\u001b[39;49m\u001b[43m,\u001b[49m\n\u001b[1;32m    862\u001b[0m \u001b[43m    \u001b[49m\u001b[43m)\u001b[49m\n\u001b[1;32m    863\u001b[0m \u001b[38;5;28;01melse\u001b[39;00m:\n\u001b[1;32m    864\u001b[0m     \u001b[38;5;66;03m# Binary mode\u001b[39;00m\n",
      "\u001b[0;31mFileNotFoundError\u001b[0m: [Errno 2] No such file or directory: 'visits_info_short.csv'",
      "\nDuring handling of the above exception, another exception occurred:\n",
      "\u001b[0;31mFileNotFoundError\u001b[0m                         Traceback (most recent call last)",
      "Cell \u001b[0;32mIn[2], line 5\u001b[0m\n\u001b[1;32m      3\u001b[0m     visits \u001b[38;5;241m=\u001b[39m pd\u001b[38;5;241m.\u001b[39mread_csv(\u001b[38;5;124m'\u001b[39m\u001b[38;5;124mvisits_info_short.csv\u001b[39m\u001b[38;5;124m'\u001b[39m)\n\u001b[1;32m      4\u001b[0m \u001b[38;5;28;01mexcept\u001b[39;00m:\n\u001b[0;32m----> 5\u001b[0m     visits \u001b[38;5;241m=\u001b[39m \u001b[43mpd\u001b[49m\u001b[38;5;241;43m.\u001b[39;49m\u001b[43mread_csv\u001b[49m\u001b[43m(\u001b[49m\u001b[38;5;124;43m'\u001b[39;49m\u001b[38;5;124;43m/datasets/visits_info_short.csv\u001b[39;49m\u001b[38;5;124;43m'\u001b[39;49m\u001b[43m)\u001b[49m\n\u001b[1;32m      7\u001b[0m visits\u001b[38;5;241m.\u001b[39mhead(\u001b[38;5;241m5\u001b[39m)\n",
      "File \u001b[0;32m~/anaconda3/lib/python3.10/site-packages/pandas/util/_decorators.py:211\u001b[0m, in \u001b[0;36mdeprecate_kwarg.<locals>._deprecate_kwarg.<locals>.wrapper\u001b[0;34m(*args, **kwargs)\u001b[0m\n\u001b[1;32m    209\u001b[0m     \u001b[38;5;28;01melse\u001b[39;00m:\n\u001b[1;32m    210\u001b[0m         kwargs[new_arg_name] \u001b[38;5;241m=\u001b[39m new_arg_value\n\u001b[0;32m--> 211\u001b[0m \u001b[38;5;28;01mreturn\u001b[39;00m \u001b[43mfunc\u001b[49m\u001b[43m(\u001b[49m\u001b[38;5;241;43m*\u001b[39;49m\u001b[43margs\u001b[49m\u001b[43m,\u001b[49m\u001b[43m \u001b[49m\u001b[38;5;241;43m*\u001b[39;49m\u001b[38;5;241;43m*\u001b[39;49m\u001b[43mkwargs\u001b[49m\u001b[43m)\u001b[49m\n",
      "File \u001b[0;32m~/anaconda3/lib/python3.10/site-packages/pandas/util/_decorators.py:331\u001b[0m, in \u001b[0;36mdeprecate_nonkeyword_arguments.<locals>.decorate.<locals>.wrapper\u001b[0;34m(*args, **kwargs)\u001b[0m\n\u001b[1;32m    325\u001b[0m \u001b[38;5;28;01mif\u001b[39;00m \u001b[38;5;28mlen\u001b[39m(args) \u001b[38;5;241m>\u001b[39m num_allow_args:\n\u001b[1;32m    326\u001b[0m     warnings\u001b[38;5;241m.\u001b[39mwarn(\n\u001b[1;32m    327\u001b[0m         msg\u001b[38;5;241m.\u001b[39mformat(arguments\u001b[38;5;241m=\u001b[39m_format_argument_list(allow_args)),\n\u001b[1;32m    328\u001b[0m         \u001b[38;5;167;01mFutureWarning\u001b[39;00m,\n\u001b[1;32m    329\u001b[0m         stacklevel\u001b[38;5;241m=\u001b[39mfind_stack_level(),\n\u001b[1;32m    330\u001b[0m     )\n\u001b[0;32m--> 331\u001b[0m \u001b[38;5;28;01mreturn\u001b[39;00m \u001b[43mfunc\u001b[49m\u001b[43m(\u001b[49m\u001b[38;5;241;43m*\u001b[39;49m\u001b[43margs\u001b[49m\u001b[43m,\u001b[49m\u001b[43m \u001b[49m\u001b[38;5;241;43m*\u001b[39;49m\u001b[38;5;241;43m*\u001b[39;49m\u001b[43mkwargs\u001b[49m\u001b[43m)\u001b[49m\n",
      "File \u001b[0;32m~/anaconda3/lib/python3.10/site-packages/pandas/io/parsers/readers.py:950\u001b[0m, in \u001b[0;36mread_csv\u001b[0;34m(filepath_or_buffer, sep, delimiter, header, names, index_col, usecols, squeeze, prefix, mangle_dupe_cols, dtype, engine, converters, true_values, false_values, skipinitialspace, skiprows, skipfooter, nrows, na_values, keep_default_na, na_filter, verbose, skip_blank_lines, parse_dates, infer_datetime_format, keep_date_col, date_parser, dayfirst, cache_dates, iterator, chunksize, compression, thousands, decimal, lineterminator, quotechar, quoting, doublequote, escapechar, comment, encoding, encoding_errors, dialect, error_bad_lines, warn_bad_lines, on_bad_lines, delim_whitespace, low_memory, memory_map, float_precision, storage_options)\u001b[0m\n\u001b[1;32m    935\u001b[0m kwds_defaults \u001b[38;5;241m=\u001b[39m _refine_defaults_read(\n\u001b[1;32m    936\u001b[0m     dialect,\n\u001b[1;32m    937\u001b[0m     delimiter,\n\u001b[0;32m   (...)\u001b[0m\n\u001b[1;32m    946\u001b[0m     defaults\u001b[38;5;241m=\u001b[39m{\u001b[38;5;124m\"\u001b[39m\u001b[38;5;124mdelimiter\u001b[39m\u001b[38;5;124m\"\u001b[39m: \u001b[38;5;124m\"\u001b[39m\u001b[38;5;124m,\u001b[39m\u001b[38;5;124m\"\u001b[39m},\n\u001b[1;32m    947\u001b[0m )\n\u001b[1;32m    948\u001b[0m kwds\u001b[38;5;241m.\u001b[39mupdate(kwds_defaults)\n\u001b[0;32m--> 950\u001b[0m \u001b[38;5;28;01mreturn\u001b[39;00m \u001b[43m_read\u001b[49m\u001b[43m(\u001b[49m\u001b[43mfilepath_or_buffer\u001b[49m\u001b[43m,\u001b[49m\u001b[43m \u001b[49m\u001b[43mkwds\u001b[49m\u001b[43m)\u001b[49m\n",
      "File \u001b[0;32m~/anaconda3/lib/python3.10/site-packages/pandas/io/parsers/readers.py:605\u001b[0m, in \u001b[0;36m_read\u001b[0;34m(filepath_or_buffer, kwds)\u001b[0m\n\u001b[1;32m    602\u001b[0m _validate_names(kwds\u001b[38;5;241m.\u001b[39mget(\u001b[38;5;124m\"\u001b[39m\u001b[38;5;124mnames\u001b[39m\u001b[38;5;124m\"\u001b[39m, \u001b[38;5;28;01mNone\u001b[39;00m))\n\u001b[1;32m    604\u001b[0m \u001b[38;5;66;03m# Create the parser.\u001b[39;00m\n\u001b[0;32m--> 605\u001b[0m parser \u001b[38;5;241m=\u001b[39m \u001b[43mTextFileReader\u001b[49m\u001b[43m(\u001b[49m\u001b[43mfilepath_or_buffer\u001b[49m\u001b[43m,\u001b[49m\u001b[43m \u001b[49m\u001b[38;5;241;43m*\u001b[39;49m\u001b[38;5;241;43m*\u001b[39;49m\u001b[43mkwds\u001b[49m\u001b[43m)\u001b[49m\n\u001b[1;32m    607\u001b[0m \u001b[38;5;28;01mif\u001b[39;00m chunksize \u001b[38;5;129;01mor\u001b[39;00m iterator:\n\u001b[1;32m    608\u001b[0m     \u001b[38;5;28;01mreturn\u001b[39;00m parser\n",
      "File \u001b[0;32m~/anaconda3/lib/python3.10/site-packages/pandas/io/parsers/readers.py:1442\u001b[0m, in \u001b[0;36mTextFileReader.__init__\u001b[0;34m(self, f, engine, **kwds)\u001b[0m\n\u001b[1;32m   1439\u001b[0m     \u001b[38;5;28mself\u001b[39m\u001b[38;5;241m.\u001b[39moptions[\u001b[38;5;124m\"\u001b[39m\u001b[38;5;124mhas_index_names\u001b[39m\u001b[38;5;124m\"\u001b[39m] \u001b[38;5;241m=\u001b[39m kwds[\u001b[38;5;124m\"\u001b[39m\u001b[38;5;124mhas_index_names\u001b[39m\u001b[38;5;124m\"\u001b[39m]\n\u001b[1;32m   1441\u001b[0m \u001b[38;5;28mself\u001b[39m\u001b[38;5;241m.\u001b[39mhandles: IOHandles \u001b[38;5;241m|\u001b[39m \u001b[38;5;28;01mNone\u001b[39;00m \u001b[38;5;241m=\u001b[39m \u001b[38;5;28;01mNone\u001b[39;00m\n\u001b[0;32m-> 1442\u001b[0m \u001b[38;5;28mself\u001b[39m\u001b[38;5;241m.\u001b[39m_engine \u001b[38;5;241m=\u001b[39m \u001b[38;5;28;43mself\u001b[39;49m\u001b[38;5;241;43m.\u001b[39;49m\u001b[43m_make_engine\u001b[49m\u001b[43m(\u001b[49m\u001b[43mf\u001b[49m\u001b[43m,\u001b[49m\u001b[43m \u001b[49m\u001b[38;5;28;43mself\u001b[39;49m\u001b[38;5;241;43m.\u001b[39;49m\u001b[43mengine\u001b[49m\u001b[43m)\u001b[49m\n",
      "File \u001b[0;32m~/anaconda3/lib/python3.10/site-packages/pandas/io/parsers/readers.py:1735\u001b[0m, in \u001b[0;36mTextFileReader._make_engine\u001b[0;34m(self, f, engine)\u001b[0m\n\u001b[1;32m   1733\u001b[0m     \u001b[38;5;28;01mif\u001b[39;00m \u001b[38;5;124m\"\u001b[39m\u001b[38;5;124mb\u001b[39m\u001b[38;5;124m\"\u001b[39m \u001b[38;5;129;01mnot\u001b[39;00m \u001b[38;5;129;01min\u001b[39;00m mode:\n\u001b[1;32m   1734\u001b[0m         mode \u001b[38;5;241m+\u001b[39m\u001b[38;5;241m=\u001b[39m \u001b[38;5;124m\"\u001b[39m\u001b[38;5;124mb\u001b[39m\u001b[38;5;124m\"\u001b[39m\n\u001b[0;32m-> 1735\u001b[0m \u001b[38;5;28mself\u001b[39m\u001b[38;5;241m.\u001b[39mhandles \u001b[38;5;241m=\u001b[39m \u001b[43mget_handle\u001b[49m\u001b[43m(\u001b[49m\n\u001b[1;32m   1736\u001b[0m \u001b[43m    \u001b[49m\u001b[43mf\u001b[49m\u001b[43m,\u001b[49m\n\u001b[1;32m   1737\u001b[0m \u001b[43m    \u001b[49m\u001b[43mmode\u001b[49m\u001b[43m,\u001b[49m\n\u001b[1;32m   1738\u001b[0m \u001b[43m    \u001b[49m\u001b[43mencoding\u001b[49m\u001b[38;5;241;43m=\u001b[39;49m\u001b[38;5;28;43mself\u001b[39;49m\u001b[38;5;241;43m.\u001b[39;49m\u001b[43moptions\u001b[49m\u001b[38;5;241;43m.\u001b[39;49m\u001b[43mget\u001b[49m\u001b[43m(\u001b[49m\u001b[38;5;124;43m\"\u001b[39;49m\u001b[38;5;124;43mencoding\u001b[39;49m\u001b[38;5;124;43m\"\u001b[39;49m\u001b[43m,\u001b[49m\u001b[43m \u001b[49m\u001b[38;5;28;43;01mNone\u001b[39;49;00m\u001b[43m)\u001b[49m\u001b[43m,\u001b[49m\n\u001b[1;32m   1739\u001b[0m \u001b[43m    \u001b[49m\u001b[43mcompression\u001b[49m\u001b[38;5;241;43m=\u001b[39;49m\u001b[38;5;28;43mself\u001b[39;49m\u001b[38;5;241;43m.\u001b[39;49m\u001b[43moptions\u001b[49m\u001b[38;5;241;43m.\u001b[39;49m\u001b[43mget\u001b[49m\u001b[43m(\u001b[49m\u001b[38;5;124;43m\"\u001b[39;49m\u001b[38;5;124;43mcompression\u001b[39;49m\u001b[38;5;124;43m\"\u001b[39;49m\u001b[43m,\u001b[49m\u001b[43m \u001b[49m\u001b[38;5;28;43;01mNone\u001b[39;49;00m\u001b[43m)\u001b[49m\u001b[43m,\u001b[49m\n\u001b[1;32m   1740\u001b[0m \u001b[43m    \u001b[49m\u001b[43mmemory_map\u001b[49m\u001b[38;5;241;43m=\u001b[39;49m\u001b[38;5;28;43mself\u001b[39;49m\u001b[38;5;241;43m.\u001b[39;49m\u001b[43moptions\u001b[49m\u001b[38;5;241;43m.\u001b[39;49m\u001b[43mget\u001b[49m\u001b[43m(\u001b[49m\u001b[38;5;124;43m\"\u001b[39;49m\u001b[38;5;124;43mmemory_map\u001b[39;49m\u001b[38;5;124;43m\"\u001b[39;49m\u001b[43m,\u001b[49m\u001b[43m \u001b[49m\u001b[38;5;28;43;01mFalse\u001b[39;49;00m\u001b[43m)\u001b[49m\u001b[43m,\u001b[49m\n\u001b[1;32m   1741\u001b[0m \u001b[43m    \u001b[49m\u001b[43mis_text\u001b[49m\u001b[38;5;241;43m=\u001b[39;49m\u001b[43mis_text\u001b[49m\u001b[43m,\u001b[49m\n\u001b[1;32m   1742\u001b[0m \u001b[43m    \u001b[49m\u001b[43merrors\u001b[49m\u001b[38;5;241;43m=\u001b[39;49m\u001b[38;5;28;43mself\u001b[39;49m\u001b[38;5;241;43m.\u001b[39;49m\u001b[43moptions\u001b[49m\u001b[38;5;241;43m.\u001b[39;49m\u001b[43mget\u001b[49m\u001b[43m(\u001b[49m\u001b[38;5;124;43m\"\u001b[39;49m\u001b[38;5;124;43mencoding_errors\u001b[39;49m\u001b[38;5;124;43m\"\u001b[39;49m\u001b[43m,\u001b[49m\u001b[43m \u001b[49m\u001b[38;5;124;43m\"\u001b[39;49m\u001b[38;5;124;43mstrict\u001b[39;49m\u001b[38;5;124;43m\"\u001b[39;49m\u001b[43m)\u001b[49m\u001b[43m,\u001b[49m\n\u001b[1;32m   1743\u001b[0m \u001b[43m    \u001b[49m\u001b[43mstorage_options\u001b[49m\u001b[38;5;241;43m=\u001b[39;49m\u001b[38;5;28;43mself\u001b[39;49m\u001b[38;5;241;43m.\u001b[39;49m\u001b[43moptions\u001b[49m\u001b[38;5;241;43m.\u001b[39;49m\u001b[43mget\u001b[49m\u001b[43m(\u001b[49m\u001b[38;5;124;43m\"\u001b[39;49m\u001b[38;5;124;43mstorage_options\u001b[39;49m\u001b[38;5;124;43m\"\u001b[39;49m\u001b[43m,\u001b[49m\u001b[43m \u001b[49m\u001b[38;5;28;43;01mNone\u001b[39;49;00m\u001b[43m)\u001b[49m\u001b[43m,\u001b[49m\n\u001b[1;32m   1744\u001b[0m \u001b[43m\u001b[49m\u001b[43m)\u001b[49m\n\u001b[1;32m   1745\u001b[0m \u001b[38;5;28;01massert\u001b[39;00m \u001b[38;5;28mself\u001b[39m\u001b[38;5;241m.\u001b[39mhandles \u001b[38;5;129;01mis\u001b[39;00m \u001b[38;5;129;01mnot\u001b[39;00m \u001b[38;5;28;01mNone\u001b[39;00m\n\u001b[1;32m   1746\u001b[0m f \u001b[38;5;241m=\u001b[39m \u001b[38;5;28mself\u001b[39m\u001b[38;5;241m.\u001b[39mhandles\u001b[38;5;241m.\u001b[39mhandle\n",
      "File \u001b[0;32m~/anaconda3/lib/python3.10/site-packages/pandas/io/common.py:856\u001b[0m, in \u001b[0;36mget_handle\u001b[0;34m(path_or_buf, mode, encoding, compression, memory_map, is_text, errors, storage_options)\u001b[0m\n\u001b[1;32m    851\u001b[0m \u001b[38;5;28;01melif\u001b[39;00m \u001b[38;5;28misinstance\u001b[39m(handle, \u001b[38;5;28mstr\u001b[39m):\n\u001b[1;32m    852\u001b[0m     \u001b[38;5;66;03m# Check whether the filename is to be opened in binary mode.\u001b[39;00m\n\u001b[1;32m    853\u001b[0m     \u001b[38;5;66;03m# Binary mode does not support 'encoding' and 'newline'.\u001b[39;00m\n\u001b[1;32m    854\u001b[0m     \u001b[38;5;28;01mif\u001b[39;00m ioargs\u001b[38;5;241m.\u001b[39mencoding \u001b[38;5;129;01mand\u001b[39;00m \u001b[38;5;124m\"\u001b[39m\u001b[38;5;124mb\u001b[39m\u001b[38;5;124m\"\u001b[39m \u001b[38;5;129;01mnot\u001b[39;00m \u001b[38;5;129;01min\u001b[39;00m ioargs\u001b[38;5;241m.\u001b[39mmode:\n\u001b[1;32m    855\u001b[0m         \u001b[38;5;66;03m# Encoding\u001b[39;00m\n\u001b[0;32m--> 856\u001b[0m         handle \u001b[38;5;241m=\u001b[39m \u001b[38;5;28;43mopen\u001b[39;49m\u001b[43m(\u001b[49m\n\u001b[1;32m    857\u001b[0m \u001b[43m            \u001b[49m\u001b[43mhandle\u001b[49m\u001b[43m,\u001b[49m\n\u001b[1;32m    858\u001b[0m \u001b[43m            \u001b[49m\u001b[43mioargs\u001b[49m\u001b[38;5;241;43m.\u001b[39;49m\u001b[43mmode\u001b[49m\u001b[43m,\u001b[49m\n\u001b[1;32m    859\u001b[0m \u001b[43m            \u001b[49m\u001b[43mencoding\u001b[49m\u001b[38;5;241;43m=\u001b[39;49m\u001b[43mioargs\u001b[49m\u001b[38;5;241;43m.\u001b[39;49m\u001b[43mencoding\u001b[49m\u001b[43m,\u001b[49m\n\u001b[1;32m    860\u001b[0m \u001b[43m            \u001b[49m\u001b[43merrors\u001b[49m\u001b[38;5;241;43m=\u001b[39;49m\u001b[43merrors\u001b[49m\u001b[43m,\u001b[49m\n\u001b[1;32m    861\u001b[0m \u001b[43m            \u001b[49m\u001b[43mnewline\u001b[49m\u001b[38;5;241;43m=\u001b[39;49m\u001b[38;5;124;43m\"\u001b[39;49m\u001b[38;5;124;43m\"\u001b[39;49m\u001b[43m,\u001b[49m\n\u001b[1;32m    862\u001b[0m \u001b[43m        \u001b[49m\u001b[43m)\u001b[49m\n\u001b[1;32m    863\u001b[0m     \u001b[38;5;28;01melse\u001b[39;00m:\n\u001b[1;32m    864\u001b[0m         \u001b[38;5;66;03m# Binary mode\u001b[39;00m\n\u001b[1;32m    865\u001b[0m         handle \u001b[38;5;241m=\u001b[39m \u001b[38;5;28mopen\u001b[39m(handle, ioargs\u001b[38;5;241m.\u001b[39mmode)\n",
      "\u001b[0;31mFileNotFoundError\u001b[0m: [Errno 2] No such file or directory: '/datasets/visits_info_short.csv'"
     ]
    }
   ],
   "source": [
    "#Откроем файл visits.\n",
    "try:\n",
    "    visits = pd.read_csv('visits_info_short.csv')\n",
    "except:\n",
    "    visits = pd.read_csv('/datasets/visits_info_short.csv')\n",
    "    \n",
    "visits.head(5)"
   ]
  },
  {
   "cell_type": "code",
   "execution_count": null,
   "metadata": {},
   "outputs": [],
   "source": [
    "visits.info()"
   ]
  },
  {
   "cell_type": "code",
   "execution_count": null,
   "metadata": {},
   "outputs": [],
   "source": [
    "#Проверим на наличие пропусков\n",
    "visits.isna().sum()"
   ]
  },
  {
   "cell_type": "code",
   "execution_count": null,
   "metadata": {},
   "outputs": [],
   "source": [
    "#Проверим на наличие дубликатов\n",
    "visits.duplicated().sum()"
   ]
  },
  {
   "cell_type": "markdown",
   "metadata": {},
   "source": [
    "В файле visits хранится информация о посещениях сайта. Под каким ID зашел пользователь, с какого региона и девайса. По какому каналу пришел и когда началась и закончилась сессия клиента. В файле 309901 строка, пропусков и явных дубликатов нет. Нам средует привести данные в столбце Session Start и Session End к типу даты pandas. Также приведем названия столбцов к нижнему регистру и заменим пробелы на нижнее подчеркивание. "
   ]
  },
  {
   "cell_type": "code",
   "execution_count": null,
   "metadata": {},
   "outputs": [],
   "source": [
    "#Изменим название столбцов \n",
    "visits.columns = visits.columns.str.lower()\n",
    "visits.columns = ['user_id', 'region', 'device', 'channel', 'session_start', 'session_end']\n",
    "visits.head(5)"
   ]
  },
  {
   "cell_type": "code",
   "execution_count": null,
   "metadata": {},
   "outputs": [],
   "source": [
    "#Приведем столбец session_start и session_end к типу даты pandas\n",
    "visits['session_start'] = pd.to_datetime(visits['session_start'])\n",
    "visits['session_end'] = pd.to_datetime(visits['session_end'])\n",
    "visits.info()"
   ]
  },
  {
   "cell_type": "code",
   "execution_count": null,
   "metadata": {},
   "outputs": [],
   "source": [
    "#Откроем файл orders.\n",
    "try:\n",
    "    orders = pd.read_csv('orders_info_short.csv')\n",
    "except:\n",
    "    orders = pd.read_csv('/datasets/orders_info_short.csv')\n",
    "    \n",
    "orders.head(5)"
   ]
  },
  {
   "cell_type": "code",
   "execution_count": null,
   "metadata": {},
   "outputs": [],
   "source": [
    "orders.info()"
   ]
  },
  {
   "cell_type": "code",
   "execution_count": null,
   "metadata": {},
   "outputs": [],
   "source": [
    "#Проверим на наличие пропусков\n",
    "orders.isna().sum()"
   ]
  },
  {
   "cell_type": "code",
   "execution_count": null,
   "metadata": {},
   "outputs": [],
   "source": [
    "#Проверим на наличие дубликатов\n",
    "orders.duplicated().sum()"
   ]
  },
  {
   "cell_type": "markdown",
   "metadata": {},
   "source": [
    "В файле visits хранится информация о заказах. Под каким ID пользователь что-то купил, когда была совершена покупка и в какую цену был товар или услуга. В файле 40212 строки, пропусков и явных дубликатов нет. Нам средует привести данные в столбце event_dt к типу даты pandas. Также приведем названия столбцов к нижнему регистру и заменим пробелы на нижнее подчеркивание. "
   ]
  },
  {
   "cell_type": "code",
   "execution_count": null,
   "metadata": {},
   "outputs": [],
   "source": [
    "#Изменим название столбцов \n",
    "orders.columns = orders.columns.str.lower()\n",
    "orders.columns = ['user_id', 'event_dt', 'revenue']\n",
    "orders.head(5)"
   ]
  },
  {
   "cell_type": "code",
   "execution_count": null,
   "metadata": {},
   "outputs": [],
   "source": [
    "#Приведем столбец event_dt к типу даты pandas\n",
    "orders['event_dt'] = pd.to_datetime(orders['event_dt'])\n",
    "orders.info()"
   ]
  },
  {
   "cell_type": "code",
   "execution_count": null,
   "metadata": {},
   "outputs": [],
   "source": [
    "#Откроем файл costs.\n",
    "try:\n",
    "    costs = pd.read_csv('costs_info_short.csv')\n",
    "except:\n",
    "    costs = pd.read_csv('/datasets/costs_info_short.csv')\n",
    "    \n",
    "costs.head(5)"
   ]
  },
  {
   "cell_type": "code",
   "execution_count": null,
   "metadata": {},
   "outputs": [],
   "source": [
    "costs.info()"
   ]
  },
  {
   "cell_type": "code",
   "execution_count": null,
   "metadata": {},
   "outputs": [],
   "source": [
    "#Проверим на наличие пропусков\n",
    "costs.isna().sum()"
   ]
  },
  {
   "cell_type": "code",
   "execution_count": null,
   "metadata": {},
   "outputs": [],
   "source": [
    "#Проверим на наличие дубликатов\n",
    "costs.duplicated().sum()"
   ]
  },
  {
   "cell_type": "markdown",
   "metadata": {},
   "source": [
    "В файле costs хранится информация о о расходах на рекламу. Дата проведения рекламной кампании, идентификатор рекламного источника, расходы на эту кампанию. В файле 1800 строк, пропусков и явных дубликатов нет. Нам средует привести данные в столбце dt к типу даты pandas. Также приведем названия столбцов к нижнему регистру."
   ]
  },
  {
   "cell_type": "code",
   "execution_count": null,
   "metadata": {},
   "outputs": [],
   "source": [
    "#Изменим название столбцов \n",
    "costs.columns = costs.columns.str.lower()\n",
    "costs.head(5)"
   ]
  },
  {
   "cell_type": "code",
   "execution_count": null,
   "metadata": {},
   "outputs": [],
   "source": [
    "#Приведем столбец event_dt к типу даты pandas\n",
    "costs['dt'] = pd.to_datetime(costs['dt'])\n",
    "costs.info()"
   ]
  },
  {
   "cell_type": "code",
   "execution_count": null,
   "metadata": {},
   "outputs": [],
   "source": [
    "# добавим столбец month и week\n",
    "costs['week'] = costs['dt'].dt.isocalendar().week\n",
    "costs['month'] = costs['dt'].dt.month\n",
    "costs"
   ]
  },
  {
   "cell_type": "code",
   "execution_count": null,
   "metadata": {},
   "outputs": [],
   "source": [
    "costs['dt'] = pd.to_datetime(costs['dt']).dt.date"
   ]
  },
  {
   "cell_type": "markdown",
   "metadata": {},
   "source": [
    "В ходе предобработки мы привели к нижнему регистру названия столбцов. Также изменили тип данных в столбце event_dt, dt, session_start, session_end на тип даты pandas. Явных дубликатов или пропусков в данных не обнаружено. "
   ]
  },
  {
   "cell_type": "markdown",
   "metadata": {},
   "source": [
    "## Зададим функции для расчёта и анализа LTV, ROI, удержания и конверсии.\n",
    "\n",
    "Это функции для вычисления значений метрик:\n",
    "\n",
    "- get_profiles() — для создания профилей пользователей,\n",
    "- get_retention() — для подсчёта Retention Rate,\n",
    "- get_conversion() — для подсчёта конверсии,\n",
    "- get_ltv() — для подсчёта LTV.\n",
    "\n",
    "А также функции для построения графиков:\n",
    "\n",
    "- filter_data() — для сглаживания данных,\n",
    "- plot_retention() — для построения графика Retention Rate,\n",
    "- plot_conversion() — для построения графика конверсии,\n",
    "- plot_ltv_roi — для визуализации LTV и ROI."
   ]
  },
  {
   "cell_type": "code",
   "execution_count": null,
   "metadata": {},
   "outputs": [],
   "source": [
    "# функция для создания пользовательских профилей\n",
    "\n",
    "def get_profiles(sessions, orders, costs):\n",
    "\n",
    "    # находим параметры первых посещений\n",
    "    profiles = (\n",
    "        sessions.sort_values(by=['user_id', 'session_start'])\n",
    "        .groupby('user_id')\n",
    "        .agg(\n",
    "            {\n",
    "                'session_start': 'first',\n",
    "                'channel': 'first',\n",
    "                'device': 'first',\n",
    "                'region': 'first',\n",
    "            }\n",
    "        )\n",
    "        .rename(columns={'session_start': 'first_ts'})\n",
    "        .reset_index()\n",
    "    )\n",
    "\n",
    "    # для когортного анализа определяем дату первого посещения\n",
    "    # и первый день месяца, в который это посещение произошло\n",
    "    profiles['dt'] = profiles['first_ts'].dt.date\n",
    "    profiles['month'] = profiles['first_ts'].astype('datetime64[M]')\n",
    "\n",
    "    # добавляем признак платящих пользователей\n",
    "    profiles['payer'] = profiles['user_id'].isin(orders['user_id'].unique())\n",
    "\n",
    "    # считаем количество уникальных пользователей\n",
    "    # с одинаковыми источником и датой привлечения\n",
    "    new_users = (\n",
    "        profiles.groupby(['dt', 'channel'])\n",
    "        .agg({'user_id': 'nunique'})\n",
    "        .rename(columns={'user_id': 'unique_users'})\n",
    "        .reset_index()\n",
    "    )\n",
    "\n",
    "    # объединяем траты на рекламу и число привлечённых пользователей\n",
    "    costs = costs.merge(new_users, on=['dt', 'channel'], how='left')\n",
    "\n",
    "    # делим рекламные расходы на число привлечённых пользователей\n",
    "    costs['acquisition_cost'] = costs['costs'] / costs['unique_users']\n",
    "    \n",
    "    # добавляем стоимость привлечения в профили\n",
    "    profiles = profiles.merge(\n",
    "        costs[['dt', 'channel', 'acquisition_cost']],\n",
    "        on=['dt', 'channel'],\n",
    "        how='left',\n",
    "    )\n",
    "\n",
    "    # стоимость привлечения органических пользователей равна нулю\n",
    "    profiles['acquisition_cost'] = profiles['acquisition_cost'].fillna(0)\n",
    "\n",
    "    return profiles\n"
   ]
  },
  {
   "cell_type": "code",
   "execution_count": null,
   "metadata": {},
   "outputs": [],
   "source": [
    "# функция для расчёта удержания или Retention Rate\n",
    "\n",
    "def get_retention(\n",
    "    profiles,\n",
    "    sessions,\n",
    "    observation_date,\n",
    "    horizon_days,\n",
    "    dimensions=[],\n",
    "    ignore_horizon=False,\n",
    "):\n",
    "\n",
    "    # добавляем столбец payer в передаваемый dimensions список\n",
    "    dimensions = ['payer'] + dimensions\n",
    "\n",
    "    # исключаем пользователей, не «доживших» до горизонта анализа\n",
    "    last_suitable_acquisition_date = observation_date\n",
    "    if not ignore_horizon:\n",
    "        last_suitable_acquisition_date = observation_date - timedelta(\n",
    "            days=horizon_days - 1\n",
    "        )\n",
    "    result_raw = profiles.query('dt <= @last_suitable_acquisition_date')\n",
    "\n",
    "    # собираем «сырые» данные для расчёта удержания\n",
    "    result_raw = result_raw.merge(\n",
    "        sessions[['user_id', 'session_start']], on='user_id', how='left'\n",
    "    )\n",
    "    result_raw['lifetime'] = (\n",
    "        result_raw['session_start'] - result_raw['first_ts']\n",
    "    ).dt.days\n",
    "\n",
    "    # функция для группировки таблицы по желаемым признакам\n",
    "    def group_by_dimensions(df, dims, horizon_days):\n",
    "        result = df.pivot_table(\n",
    "            index=dims, columns='lifetime', values='user_id', aggfunc='nunique'\n",
    "        )\n",
    "        cohort_sizes = (\n",
    "            df.groupby(dims)\n",
    "            .agg({'user_id': 'nunique'})\n",
    "            .rename(columns={'user_id': 'cohort_size'})\n",
    "        )\n",
    "        result = cohort_sizes.merge(result, on=dims, how='left').fillna(0)\n",
    "        result = result.div(result['cohort_size'], axis=0)\n",
    "        result = result[['cohort_size'] + list(range(horizon_days))]\n",
    "        result['cohort_size'] = cohort_sizes\n",
    "        return result\n",
    "\n",
    "    # получаем таблицу удержания\n",
    "    result_grouped = group_by_dimensions(result_raw, dimensions, horizon_days)\n",
    "\n",
    "    # получаем таблицу динамики удержания\n",
    "    result_in_time = group_by_dimensions(\n",
    "        result_raw, dimensions + ['dt'], horizon_days\n",
    "    )\n",
    "\n",
    "    # возвращаем обе таблицы и сырые данные\n",
    "    return result_raw, result_grouped, result_in_time"
   ]
  },
  {
   "cell_type": "code",
   "execution_count": null,
   "metadata": {},
   "outputs": [],
   "source": [
    "# функция для визуализации удержания\n",
    "\n",
    "def plot_retention(retention, retention_history, horizon, window=7):\n",
    "\n",
    "    # задаём размер сетки для графиков\n",
    "    plt.figure(figsize=(15, 10))\n",
    "\n",
    "    # исключаем размеры когорт и удержание первого дня\n",
    "    retention = retention.drop(columns=['cohort_size', 0])\n",
    "    # в таблице динамики оставляем только нужный лайфтайм\n",
    "    retention_history = retention_history.drop(columns=['cohort_size'])[\n",
    "        [horizon - 1]\n",
    "    ]\n",
    "\n",
    "    # если в индексах таблицы удержания только payer,\n",
    "    # добавляем второй признак — cohort\n",
    "    if retention.index.nlevels == 1:\n",
    "        retention['cohort'] = 'All users'\n",
    "        retention = retention.reset_index().set_index(['cohort', 'payer'])\n",
    "\n",
    "    # в таблице графиков — два столбца и две строки, четыре ячейки\n",
    "    # в первой строим кривые удержания платящих пользователей\n",
    "    ax1 = plt.subplot(2, 2, 1)\n",
    "    retention.query('payer == True').droplevel('payer').T.plot(\n",
    "        grid=True, ax=ax1\n",
    "    )\n",
    "    plt.legend()\n",
    "    plt.xlabel('Лайфтайм')\n",
    "    plt.title('Удержание платящих пользователей')\n",
    "\n",
    "    # во второй ячейке строим кривые удержания неплатящих\n",
    "    # вертикальная ось — от графика из первой ячейки\n",
    "    ax2 = plt.subplot(2, 2, 2, sharey=ax1)\n",
    "    retention.query('payer == False').droplevel('payer').T.plot(\n",
    "        grid=True, ax=ax2\n",
    "    )\n",
    "    plt.legend()\n",
    "    plt.xlabel('Лайфтайм')\n",
    "    plt.title('Удержание неплатящих пользователей')\n",
    "\n",
    "    # в третьей ячейке — динамика удержания платящих\n",
    "    ax3 = plt.subplot(2, 2, 3)\n",
    "    # получаем названия столбцов для сводной таблицы\n",
    "    columns = [\n",
    "        name\n",
    "        for name in retention_history.index.names\n",
    "        if name not in ['dt', 'payer']\n",
    "    ]\n",
    "    # фильтруем данные и строим график\n",
    "    filtered_data = retention_history.query('payer == True').pivot_table(\n",
    "        index='dt', columns=columns, values=horizon - 1, aggfunc='mean'\n",
    "    )\n",
    "    filter_data(filtered_data, window).plot(grid=True, ax=ax3)\n",
    "    plt.xlabel('Дата привлечения')\n",
    "    plt.title(\n",
    "        'Динамика удержания платящих пользователей на {}-й день'.format(\n",
    "            horizon\n",
    "        )\n",
    "    )\n",
    "\n",
    "    # в чётвертой ячейке — динамика удержания неплатящих\n",
    "    ax4 = plt.subplot(2, 2, 4, sharey=ax3)\n",
    "    # фильтруем данные и строим график\n",
    "    filtered_data = retention_history.query('payer == False').pivot_table(\n",
    "        index='dt', columns=columns, values=horizon - 1, aggfunc='mean'\n",
    "    )\n",
    "    filter_data(filtered_data, window).plot(grid=True, ax=ax4)\n",
    "    plt.xlabel('Дата привлечения')\n",
    "    plt.title(\n",
    "        'Динамика удержания неплатящих пользователей на {}-й день'.format(\n",
    "            horizon\n",
    "        )\n",
    "    )\n",
    "    \n",
    "    plt.tight_layout()\n",
    "    plt.show()"
   ]
  },
  {
   "cell_type": "code",
   "execution_count": null,
   "metadata": {},
   "outputs": [],
   "source": [
    "# функция для расчёта конверсии\n",
    "\n",
    "def get_conversion(\n",
    "    profiles,\n",
    "    purchases,\n",
    "    observation_date,\n",
    "    horizon_days,\n",
    "    dimensions=[],\n",
    "    ignore_horizon=False,\n",
    "):\n",
    "\n",
    "    # исключаем пользователей, не «доживших» до горизонта анализа\n",
    "    last_suitable_acquisition_date = observation_date\n",
    "    if not ignore_horizon:\n",
    "        last_suitable_acquisition_date = observation_date - timedelta(\n",
    "            days=horizon_days - 1\n",
    "        )\n",
    "    result_raw = profiles.query('dt <= @last_suitable_acquisition_date')\n",
    "\n",
    "    # определяем дату и время первой покупки для каждого пользователя\n",
    "    first_purchases = (\n",
    "        purchases.sort_values(by=['user_id', 'event_dt'])\n",
    "        .groupby('user_id')\n",
    "        .agg({'event_dt': 'first'})\n",
    "        .reset_index()\n",
    "    )\n",
    "\n",
    "    # добавляем данные о покупках в профили\n",
    "    result_raw = result_raw.merge(\n",
    "        first_purchases[['user_id', 'event_dt']], on='user_id', how='left'\n",
    "    )\n",
    "\n",
    "    # рассчитываем лайфтайм для каждой покупки\n",
    "    result_raw['lifetime'] = (\n",
    "        result_raw['event_dt'] - result_raw['first_ts']\n",
    "    ).dt.days\n",
    "\n",
    "    # группируем по cohort, если в dimensions ничего нет\n",
    "    if len(dimensions) == 0:\n",
    "        result_raw['cohort'] = 'All users' \n",
    "        dimensions = dimensions + ['cohort']\n",
    "\n",
    "    # функция для группировки таблицы по желаемым признакам\n",
    "    def group_by_dimensions(df, dims, horizon_days):\n",
    "        result = df.pivot_table(\n",
    "            index=dims, columns='lifetime', values='user_id', aggfunc='nunique'\n",
    "        )\n",
    "        result = result.fillna(0).cumsum(axis = 1)\n",
    "        cohort_sizes = (\n",
    "            df.groupby(dims)\n",
    "            .agg({'user_id': 'nunique'})\n",
    "            .rename(columns={'user_id': 'cohort_size'})\n",
    "        )\n",
    "        result = cohort_sizes.merge(result, on=dims, how='left').fillna(0)\n",
    "        # делим каждую «ячейку» в строке на размер когорты\n",
    "        # и получаем conversion rate\n",
    "        result = result.div(result['cohort_size'], axis=0)\n",
    "        result = result[['cohort_size'] + list(range(horizon_days))]\n",
    "        result['cohort_size'] = cohort_sizes\n",
    "        return result\n",
    "\n",
    "    # получаем таблицу конверсии\n",
    "    result_grouped = group_by_dimensions(result_raw, dimensions, horizon_days)\n",
    "\n",
    "    # для таблицы динамики конверсии убираем 'cohort' из dimensions\n",
    "    if 'cohort' in dimensions: \n",
    "        dimensions = []\n",
    "\n",
    "    # получаем таблицу динамики конверсии\n",
    "    result_in_time = group_by_dimensions(\n",
    "        result_raw, dimensions + ['dt'], horizon_days\n",
    "    )\n",
    "\n",
    "    # возвращаем обе таблицы и сырые данные\n",
    "    return result_raw, result_grouped, result_in_time"
   ]
  },
  {
   "cell_type": "code",
   "execution_count": null,
   "metadata": {},
   "outputs": [],
   "source": [
    "# функция для визуализации конверси\n",
    "\n",
    "def plot_conversion(conversion, conversion_history, horizon, window=7):\n",
    "\n",
    "    # задаём размер сетки для графиков\n",
    "    plt.figure(figsize=(15, 5))\n",
    "\n",
    "    # исключаем размеры когорт\n",
    "    conversion = conversion.drop(columns=['cohort_size'])\n",
    "    # в таблице динамики оставляем только нужный лайфтайм\n",
    "    conversion_history = conversion_history.drop(columns=['cohort_size'])[\n",
    "        [horizon - 1]\n",
    "    ]\n",
    "\n",
    "    # первый график — кривые конверсии\n",
    "    ax1 = plt.subplot(1, 2, 1)\n",
    "    conversion.T.plot(grid=True, ax=ax1)\n",
    "    plt.legend()\n",
    "    plt.xlabel('Лайфтайм')\n",
    "    plt.title('Конверсия пользователей')\n",
    "\n",
    "    # второй график — динамика конверсии\n",
    "    ax2 = plt.subplot(1, 2, 2, sharey=ax1)\n",
    "    columns = [\t\t\n",
    "        # столбцами сводной таблицы станут все столбцы индекса, кроме даты\n",
    "        name for name in conversion_history.index.names if name not in ['dt']\n",
    "    ]\n",
    "    filtered_data = conversion_history.pivot_table(\n",
    "        index='dt', columns=columns, values=horizon - 1, aggfunc='mean'\n",
    "    )\n",
    "    filter_data(filtered_data, window).plot(grid=True, ax=ax2)\n",
    "    plt.xlabel('Дата привлечения')\n",
    "    plt.title('Динамика конверсии пользователей на {}-й день'.format(horizon))\n",
    "\n",
    "    plt.tight_layout()\n",
    "    plt.show()"
   ]
  },
  {
   "cell_type": "code",
   "execution_count": null,
   "metadata": {},
   "outputs": [],
   "source": [
    "# функция для расчёта LTV и ROI\n",
    "\n",
    "def get_ltv(\n",
    "    profiles,\n",
    "    purchases,\n",
    "    observation_date,\n",
    "    horizon_days,\n",
    "    dimensions=[],\n",
    "    ignore_horizon=False,\n",
    "):\n",
    "\n",
    "    # исключаем пользователей, не «доживших» до горизонта анализа\n",
    "    last_suitable_acquisition_date = observation_date\n",
    "    if not ignore_horizon:\n",
    "        last_suitable_acquisition_date = observation_date - timedelta(\n",
    "            days=horizon_days - 1\n",
    "        )\n",
    "    result_raw = profiles.query('dt <= @last_suitable_acquisition_date')\n",
    "  \n",
    "    # добавляем данные о покупках в профили\n",
    "    result_raw = result_raw.merge(\n",
    "        purchases[['user_id', 'event_dt', 'revenue']], on='user_id', how='left'\n",
    "    )\n",
    "    \n",
    "    # рассчитываем лайфтайм пользователя для каждой покупки\n",
    "    result_raw['lifetime'] = (\n",
    "        result_raw['event_dt'] - result_raw['first_ts']\n",
    "    ).dt.days\n",
    "    \n",
    "    # группируем по cohort, если в dimensions ничего нет\n",
    "    if len(dimensions) == 0:\n",
    "        result_raw['cohort'] = 'All users'\n",
    "        dimensions = dimensions + ['cohort']\n",
    "\n",
    "    # функция группировки по желаемым признакам\n",
    "    def group_by_dimensions(df, dims, horizon_days):\n",
    "        # строим «треугольную» таблицу выручки\n",
    "        result = df.pivot_table(\n",
    "            index=dims, columns='lifetime', values='revenue', aggfunc='sum'\n",
    "        )\n",
    "        # находим сумму выручки с накоплением\n",
    "        result = result.fillna(0).cumsum(axis=1)\n",
    "        # вычисляем размеры когорт\n",
    "        cohort_sizes = (\n",
    "            df.groupby(dims)\n",
    "            .agg({'user_id': 'nunique'})\n",
    "            .rename(columns={'user_id': 'cohort_size'})\n",
    "        )\n",
    "        # объединяем размеры когорт и таблицу выручки\n",
    "        result = cohort_sizes.merge(result, on=dims, how='left').fillna(0)\n",
    "        # считаем LTV: делим каждую «ячейку» в строке на размер когорты\n",
    "        result = result.div(result['cohort_size'], axis=0)\n",
    "        # исключаем все лайфтаймы, превышающие горизонт анализа\n",
    "        result = result[['cohort_size'] + list(range(horizon_days))]\n",
    "        # восстанавливаем размеры когорт\n",
    "        result['cohort_size'] = cohort_sizes\n",
    "\n",
    "        # собираем датафрейм с данными пользователей и значениями CAC, \n",
    "        # добавляя параметры из dimensions\n",
    "        cac = df[['user_id', 'acquisition_cost'] + dims].drop_duplicates()\n",
    "\n",
    "        # считаем средний CAC по параметрам из dimensions\n",
    "        cac = (\n",
    "            cac.groupby(dims)\n",
    "            .agg({'acquisition_cost': 'mean'})\n",
    "            .rename(columns={'acquisition_cost': 'cac'})\n",
    "        )\n",
    "\n",
    "        # считаем ROI: делим LTV на CAC\n",
    "        roi = result.div(cac['cac'], axis=0)\n",
    "\n",
    "        # удаляем строки с бесконечным ROI\n",
    "        roi = roi[~roi['cohort_size'].isin([np.inf])]\n",
    "\n",
    "        # восстанавливаем размеры когорт в таблице ROI\n",
    "        roi['cohort_size'] = cohort_sizes\n",
    "\n",
    "        # добавляем CAC в таблицу ROI\n",
    "        roi['cac'] = cac['cac']\n",
    "\n",
    "        # в финальной таблице оставляем размеры когорт, CAC\n",
    "        # и ROI в лайфтаймы, не превышающие горизонт анализа\n",
    "        roi = roi[['cohort_size', 'cac'] + list(range(horizon_days))]\n",
    "\n",
    "        # возвращаем таблицы LTV и ROI\n",
    "        return result, roi\n",
    "\n",
    "    # получаем таблицы LTV и ROI\n",
    "    result_grouped, roi_grouped = group_by_dimensions(\n",
    "        result_raw, dimensions, horizon_days\n",
    "    )\n",
    "\n",
    "    # для таблиц динамики убираем 'cohort' из dimensions\n",
    "    if 'cohort' in dimensions:\n",
    "        dimensions = []\n",
    "\n",
    "    # получаем таблицы динамики LTV и ROI\n",
    "    result_in_time, roi_in_time = group_by_dimensions(\n",
    "        result_raw, dimensions + ['dt'], horizon_days\n",
    "    )\n",
    "\n",
    "    return (\n",
    "        result_raw,  # сырые данные\n",
    "        result_grouped,  # таблица LTV\n",
    "        result_in_time,  # таблица динамики LTV\n",
    "        roi_grouped,  # таблица ROI\n",
    "        roi_in_time,  # таблица динамики ROI\n",
    "    )"
   ]
  },
  {
   "cell_type": "code",
   "execution_count": null,
   "metadata": {},
   "outputs": [],
   "source": [
    "# функция для сглаживания фрейма\n",
    "\n",
    "def filter_data(df, window):\n",
    "    # для каждого столбца применяем скользящее среднее\n",
    "    for column in df.columns.values:\n",
    "        df[column] = df[column].rolling(window).mean() \n",
    "    return df\n",
    "\n",
    "# функция для визуализации LTV и ROI\n",
    "\n",
    "def plot_ltv_roi(ltv, ltv_history, roi, roi_history, horizon, window=7):\n",
    "\n",
    "    # задаём сетку отрисовки графиков\n",
    "    plt.figure(figsize=(20, 20))\n",
    "\n",
    "    # из таблицы ltv исключаем размеры когорт\n",
    "    ltv = ltv.drop(columns=['cohort_size'])\n",
    "    # в таблице динамики ltv оставляем только нужный лайфтайм\n",
    "    ltv_history = ltv_history.drop(columns=['cohort_size'])[[horizon - 1]]\n",
    "\n",
    "    # стоимость привлечения запишем в отдельный фрейм\n",
    "    cac_history = roi_history[['cac']]\n",
    "\n",
    "    # из таблицы roi исключаем размеры когорт и cac\n",
    "    roi = roi.drop(columns=['cohort_size', 'cac'])\n",
    "    # в таблице динамики roi оставляем только нужный лайфтайм\n",
    "    roi_history = roi_history.drop(columns=['cohort_size', 'cac'])[\n",
    "        [horizon - 1]\n",
    "    ]\n",
    "\n",
    "    # первый график — кривые ltv\n",
    "    ax1 = plt.subplot(3, 2, 1)\n",
    "    ltv.T.plot(grid=True, ax=ax1)\n",
    "    plt.legend()\n",
    "    plt.xlabel('Лайфтайм')\n",
    "    plt.title('LTV')\n",
    "\n",
    "    # второй график — динамика ltv\n",
    "    ax2 = plt.subplot(3, 2, 2, sharey=ax1)\n",
    "    # столбцами сводной таблицы станут все столбцы индекса, кроме даты\n",
    "    columns = [name for name in ltv_history.index.names if name not in ['dt']]\n",
    "    filtered_data = ltv_history.pivot_table(\n",
    "        index='dt', columns=columns, values=horizon - 1, aggfunc='mean'\n",
    "    )\n",
    "    filter_data(filtered_data, window).plot(grid=True, ax=ax2)\n",
    "    plt.xlabel('Дата привлечения')\n",
    "    plt.title('Динамика LTV пользователей на {}-й день'.format(horizon))\n",
    "\n",
    "    # третий график — динамика cac\n",
    "    ax3 = plt.subplot(3, 2, 3, sharey=ax1)\n",
    "    # столбцами сводной таблицы станут все столбцы индекса, кроме даты\n",
    "    columns = [name for name in cac_history.index.names if name not in ['dt']]\n",
    "    filtered_data = cac_history.pivot_table(\n",
    "        index='dt', columns=columns, values='cac', aggfunc='mean'\n",
    "    )\n",
    "    filter_data(filtered_data, window).plot(grid=True, ax=ax3)\n",
    "    plt.xlabel('Дата привлечения')\n",
    "    plt.title('Динамика стоимости привлечения пользователей')\n",
    "    \n",
    "    # четвёртый график — кривые roi\n",
    "    ax4 = plt.subplot(3, 2, 4)\n",
    "    roi.T.plot(grid=True, ax=ax4)\n",
    "    plt.axhline(y=1, color='red', linestyle='--', label='Уровень окупаемости')\n",
    "    plt.legend()\n",
    "    plt.xlabel('Лайфтайм')\n",
    "    plt.title('ROI')\n",
    "\n",
    "    # пятый график — динамика roi\n",
    "    ax5 = plt.subplot(3, 2, 5, sharey=ax4)\n",
    "    # столбцами сводной таблицы станут все столбцы индекса, кроме даты\n",
    "    columns = [name for name in roi_history.index.names if name not in ['dt']]\n",
    "    filtered_data = roi_history.pivot_table(\n",
    "        index='dt', columns=columns, values=horizon - 1, aggfunc='mean'\n",
    "    )\n",
    "    filter_data(filtered_data, window).plot(grid=True, ax=ax5)\n",
    "    plt.axhline(y=1, color='red', linestyle='--', label='Уровень окупаемости')\n",
    "    plt.xlabel('Дата привлечения')\n",
    "    plt.title('Динамика ROI пользователей на {}-й день'.format(horizon))\n",
    "\n",
    "    plt.tight_layout()\n",
    "    plt.show()"
   ]
  },
  {
   "cell_type": "markdown",
   "metadata": {
    "id": "V-KBT-KMWVwl"
   },
   "source": [
    "### Исследовательский анализ данных\n",
    "\n",
    "- Составьте профили пользователей. Определите минимальную и максимальную даты привлечения пользователей.\n",
    "- Выясните, из каких стран пользователи приходят в приложение и на какую страну приходится больше всего платящих пользователей. Постройте таблицу, отражающую количество пользователей и долю платящих из каждой страны.\n",
    "- Узнайте, какими устройствами пользуются клиенты и какие устройства предпочитают платящие пользователи. Постройте таблицу, отражающую количество пользователей и долю платящих для каждого устройства.\n",
    "- Изучите рекламные источники привлечения и определите каналы, из которых пришло больше всего платящих пользователей. Постройте таблицу, отражающую количество пользователей и долю платящих для каждого канала привлечения.\n",
    "\n",
    "После каждого пункта сформулируйте выводы."
   ]
  },
  {
   "cell_type": "code",
   "execution_count": null,
   "metadata": {
    "id": "oOLsbJpNWVwm"
   },
   "outputs": [],
   "source": [
    "# составим профили пользователей\n",
    "profiles = get_profiles(visits, orders, costs)\n",
    "profiles.head(10)"
   ]
  },
  {
   "cell_type": "code",
   "execution_count": null,
   "metadata": {},
   "outputs": [],
   "source": [
    "# определим минимальную и максимальную даты привлечения пользователей\n",
    "\n",
    "observation_date = datetime(2019, 11, 1).date()  # момент анализа\n",
    "analysis_horizon = 14  # горизонт анализа\n",
    "\n",
    "# посчитаем минимальную дату привлечения\n",
    "min_analysis_date = profiles['dt'].min()\n",
    "\n",
    "# посчитаем максимальную дату привлечения\n",
    "max_analysis_date = profiles['dt'].max()\n",
    "\n",
    "print(f'Минимальная дата привлечения пользователей: {min_analysis_date}')\n",
    "print(f'Максимальная дата привлечения пользователей: {max_analysis_date}')"
   ]
  },
  {
   "cell_type": "markdown",
   "metadata": {},
   "source": [
    "Выясним, из каких стран пользователи приходят в приложение и на какую страну приходится больше всего платящих пользователей."
   ]
  },
  {
   "cell_type": "code",
   "execution_count": null,
   "metadata": {},
   "outputs": [],
   "source": [
    "country =  (profiles\n",
    "           .pivot_table(\n",
    "                        index='region',\n",
    "                        columns='payer',\n",
    "                        values='user_id',\n",
    "                        aggfunc='count')\n",
    "           .rename(columns={True: 'payer', False: 'not_payer'})\n",
    "           .sort_values(by='payer', ascending=False)\n",
    "          )"
   ]
  },
  {
   "cell_type": "code",
   "execution_count": null,
   "metadata": {},
   "outputs": [],
   "source": [
    "country['payer_share'] = (country.payer / (country.not_payer + country.payer) * 100).round(2)\n",
    "country"
   ]
  },
  {
   "cell_type": "markdown",
   "metadata": {},
   "source": [
    "Построим  таблицу, отражающую количество пользователей и долю платящих из каждой страны."
   ]
  },
  {
   "cell_type": "code",
   "execution_count": null,
   "metadata": {},
   "outputs": [],
   "source": [
    "fig, ax = plt.subplots(figsize=(18, 3))\n",
    "country[['payer', 'not_payer']].plot(kind='barh', stacked=True, ax=ax, alpha=0.4)\n",
    "\n",
    "ax.legend(bbox_to_anchor=(1.0, 1.0))\n",
    "ax.set_xlabel('Количество пользователей')\n",
    "ax.set_ylabel('Страна')\n",
    "ax.set_title('Привлеченные пользователи по странам',loc='left')\n",
    "plt.show()"
   ]
  },
  {
   "cell_type": "markdown",
   "metadata": {},
   "source": [
    "Судя по графику наибольшее количество пользователей приложения из США. Далее идет Великобритания, Франция и Германия. Наибольший процент платёжеспособных пользователей также в США. Доля людей, которые платят за приложение в США составляет 6,9%. Несмотря на то, что пользователей в Германии меньше всего, процент платящих клиентов там 4,11%, что занимает вторую строчку среди всех стран. "
   ]
  },
  {
   "cell_type": "markdown",
   "metadata": {},
   "source": [
    "Узнаем, какими устройствами пользуются клиенты и какие устройства предпочитают платящие пользователи."
   ]
  },
  {
   "cell_type": "code",
   "execution_count": null,
   "metadata": {},
   "outputs": [],
   "source": [
    "device =  (profiles\n",
    "           .pivot_table(\n",
    "                        index='device',\n",
    "                        columns='payer',\n",
    "                        values='user_id',\n",
    "                        aggfunc='count')\n",
    "           .rename(columns={True: 'payer', False: 'not_payer'})\n",
    "           .sort_values(by='payer', ascending=False)\n",
    "          )"
   ]
  },
  {
   "cell_type": "code",
   "execution_count": null,
   "metadata": {},
   "outputs": [],
   "source": [
    "device['payer_share'] = (device.payer / (device.not_payer + device.payer) * 100).round(2)\n",
    "device"
   ]
  },
  {
   "cell_type": "markdown",
   "metadata": {},
   "source": [
    "Построим таблицу, отражающую количество пользователей и долю платящих для каждого устройства."
   ]
  },
  {
   "cell_type": "code",
   "execution_count": null,
   "metadata": {},
   "outputs": [],
   "source": [
    "fig, ax = plt.subplots(figsize=(18, 3))\n",
    "device[['payer', 'not_payer']].plot(kind='barh', stacked=True, ax=ax, alpha=0.4)\n",
    "\n",
    "ax.legend(bbox_to_anchor=(1.0, 1.0))\n",
    "ax.set_xlabel('Количество пользователей')\n",
    "ax.set_ylabel('Устройство')\n",
    "ax.set_title('Привлеченные пользователи в разрезе устройств',loc='left')\n",
    "plt.show()"
   ]
  },
  {
   "cell_type": "markdown",
   "metadata": {},
   "source": [
    "Большенство клиентов предпочитают использовать iPhone, далее по популярности идут утройства на Android, Mac и PC. Доля платящих клиентов больше у Mac и iPhone, она составляет 6,36% и 6,21% соответственно. "
   ]
  },
  {
   "cell_type": "markdown",
   "metadata": {},
   "source": [
    "Изучим рекламные источники привлечения и определим каналы, из которых пришло больше всего платящих пользователей."
   ]
  },
  {
   "cell_type": "code",
   "execution_count": null,
   "metadata": {},
   "outputs": [],
   "source": [
    "channel =  (profiles\n",
    "           .pivot_table(\n",
    "                        index='channel',\n",
    "                        columns='payer',\n",
    "                        values='user_id',\n",
    "                        aggfunc='count')\n",
    "           .rename(columns={True: 'payer', False: 'not_payer'})\n",
    "           .sort_values(by='payer', ascending=False)\n",
    "          )"
   ]
  },
  {
   "cell_type": "code",
   "execution_count": null,
   "metadata": {},
   "outputs": [],
   "source": [
    "channel['payer_share'] = (channel.payer / (channel.not_payer + channel.payer) * 100).round(2)\n",
    "channel"
   ]
  },
  {
   "cell_type": "markdown",
   "metadata": {},
   "source": [
    "Построим таблицу, отражающую количество пользователей и долю платящих для каждого канала привлечения."
   ]
  },
  {
   "cell_type": "code",
   "execution_count": null,
   "metadata": {},
   "outputs": [],
   "source": [
    "fig, ax = plt.subplots(figsize=(18, 5))\n",
    "channel[['payer', 'not_payer']].plot(kind='barh', stacked=True, ax=ax, alpha=0.4)\n",
    "\n",
    "ax.legend(bbox_to_anchor=(1.0, 1.0))\n",
    "ax.set_xlabel('Количество пользователей')\n",
    "ax.set_ylabel('Каналы привлечения')\n",
    "ax.set_title('Привлеченные пользователи в разрезе каналов',loc='left')\n",
    "plt.show()"
   ]
  },
  {
   "cell_type": "markdown",
   "metadata": {},
   "source": [
    "Большенство клиентов приходит в приложение органически, но доля платящих клиентов там составляет лишь 2%. Самые успешные каналы привлечения пользователей это FaceBoom и TipTop. Доля платящих клиентов, приходящих из этих каналов составляет 12,2% и 9,6% соответственно. "
   ]
  },
  {
   "cell_type": "markdown",
   "metadata": {},
   "source": [
    "<b>Вывод</b>\n",
    "\n",
    "Проведя исследовательский анализ данных мы можем сделать вывод, что приложение популярно в США, клиенты предпочитают использовать iPhone. Наиболее успешными каналами привлечения пользователей можно назвать FaceBoom и TipTop."
   ]
  },
  {
   "cell_type": "markdown",
   "metadata": {
    "id": "80LRB5-eWVwm"
   },
   "source": [
    "### Маркетинг\n",
    "\n",
    "- Посчитайте общую сумму расходов на маркетинг.\n",
    "- Выясните, как траты распределены по рекламным источникам, то есть сколько денег потратили на каждый источник.\n",
    "- Постройте визуализацию динамики изменения расходов во времени (по неделям и месяцам) по каждому источнику. Постарайтесь отразить это на одном графике.\n",
    "- Узнайте, сколько в среднем стоило привлечение одного пользователя (CAC) из каждого источника. Используйте профили пользователей.\n",
    "\n",
    "Напишите промежуточные выводы."
   ]
  },
  {
   "cell_type": "code",
   "execution_count": null,
   "metadata": {
    "id": "DQE9emXqWVwm"
   },
   "outputs": [],
   "source": [
    "total_ad_spend = costs.costs.sum().round()\n",
    "print('Общая сумма расходов на маркетинг:', total_ad_spend)"
   ]
  },
  {
   "cell_type": "code",
   "execution_count": null,
   "metadata": {},
   "outputs": [],
   "source": [
    "# посмотрим, как распределились траты по рекламным источникам\n",
    "costs.pivot_table(index='channel',values='costs',aggfunc='sum').sort_values(by='costs', ascending=False)"
   ]
  },
  {
   "cell_type": "markdown",
   "metadata": {},
   "source": [
    "Больше всего тратили на платформы TipTop и FaceBoom. На TipTop тратили на 70% больше чем на FaceBoom, но FaceBoom принёс больше платёжеспособных клиентов приложению.  "
   ]
  },
  {
   "cell_type": "code",
   "execution_count": null,
   "metadata": {},
   "outputs": [],
   "source": [
    "# построим график еженедельных затрат по каналам\n",
    "\n",
    "fig, ax = plt.subplots(figsize=(16, 6))\n",
    "\n",
    "(costs\n",
    " .pivot_table(\n",
    "    index=costs.week,\n",
    "    values='costs',\n",
    "    aggfunc='sum',\n",
    "    columns='channel'\n",
    ")\n",
    " .plot(ax=ax, stacked=True)\n",
    ")\n",
    "\n",
    "ax.set_title('Затраты на привлечение пользователей в разрезе каналов', loc='left')\n",
    "ax.set_ylabel('Затраты на привлечение в неделю')\n",
    "ax.set_xlabel('неделя')\n",
    "plt.show()"
   ]
  },
  {
   "cell_type": "markdown",
   "metadata": {},
   "source": [
    "Судя по графику мы видим стабильный рост затрат на привлечение пользователей. Также почти по всем каналам привлечения мы можем заметить всплеск затрат на 23, 26 и 39 неделе. Возможно это связанно с какими-то существенными обновлениями приложения.  "
   ]
  },
  {
   "cell_type": "code",
   "execution_count": null,
   "metadata": {},
   "outputs": [],
   "source": [
    "# построим график ежемесячных затрат по каналам\n",
    "\n",
    "fig, ax = plt.subplots(figsize=(16, 6))\n",
    "\n",
    "(costs\n",
    " .pivot_table(\n",
    "    index=costs.month,\n",
    "    values='costs',\n",
    "    aggfunc='sum',\n",
    "    columns='channel'\n",
    ")\n",
    " .plot(ax=ax, stacked=True)\n",
    ")\n",
    "\n",
    "ax.set_title('Затраты на привлечение пользователей в разрезе каналов', loc='left')\n",
    "ax.set_ylabel('Затраты на привлечение в месяц')\n",
    "ax.set_xlabel('месяц')\n",
    "plt.show()"
   ]
  },
  {
   "cell_type": "markdown",
   "metadata": {},
   "source": [
    "Смотря на ежемесячный график затрат на привлечение клиентов мы также наблюдаем стабильный рост, но без резких скачков. "
   ]
  },
  {
   "cell_type": "markdown",
   "metadata": {},
   "source": [
    "Рассчитаем сколько в среднем стоило привлечение одного пользователя из каждого источника(CAC). \n",
    "Мы исключили из этого исследования канал Organic, так как на него компания не тратит деньги.  "
   ]
  },
  {
   "cell_type": "code",
   "execution_count": null,
   "metadata": {},
   "outputs": [],
   "source": [
    "cac_person_mean = (profiles\n",
    "              .query('channel != \"organic\"')[['user_id', 'acquisition_cost']]\n",
    "              .drop_duplicates()\n",
    "              .agg({'acquisition_cost': 'mean'})\n",
    "             )\n",
    "print('Средняя цена привлечения одного пользователя:', cac_person_mean['acquisition_cost'])"
   ]
  },
  {
   "cell_type": "code",
   "execution_count": null,
   "metadata": {},
   "outputs": [],
   "source": [
    "cac_channel = (profiles\n",
    "       .pivot_table(index = 'channel',\n",
    "                    values = 'acquisition_cost',\n",
    "                    aggfunc='mean')\n",
    "       .sort_values(by='acquisition_cost', ascending=False)\n",
    "       .rename(columns={'acquisition_cost': 'cac'})\n",
    "      )\n",
    "cac_channel"
   ]
  },
  {
   "cell_type": "markdown",
   "metadata": {},
   "source": [
    "Дороже всего обходятся пользователи привлченные из TipTop и FaceBoom."
   ]
  },
  {
   "cell_type": "markdown",
   "metadata": {
    "id": "poDjrQVHWVwn"
   },
   "source": [
    "### Оцените окупаемость рекламы\n",
    "\n",
    "Используя графики LTV, ROI и CAC, проанализируйте окупаемость рекламы. Считайте, что на календаре 1 ноября 2019 года, а в бизнес-плане заложено, что пользователи должны окупаться не позднее чем через две недели после привлечения. Необходимость включения в анализ органических пользователей определите самостоятельно.\n",
    "\n",
    "- Проанализируйте окупаемость рекламы c помощью графиков LTV и ROI, а также графики динамики LTV, CAC и ROI.\n",
    "- Проверьте конверсию пользователей и динамику её изменения. То же самое сделайте с удержанием пользователей. Постройте и изучите графики конверсии и удержания.\n",
    "- Проанализируйте окупаемость рекламы с разбивкой по устройствам. Постройте графики LTV и ROI, а также графики динамики LTV, CAC и ROI.\n",
    "- Проанализируйте окупаемость рекламы с разбивкой по странам. Постройте графики LTV и ROI, а также графики динамики LTV, CAC и ROI.\n",
    "- Проанализируйте окупаемость рекламы с разбивкой по рекламным каналам. Постройте графики LTV и ROI, а также графики динамики LTV, CAC и ROI.\n",
    "- Ответьте на такие вопросы:\n",
    "    - Окупается ли реклама, направленная на привлечение пользователей в целом?\n",
    "    - Какие устройства, страны и рекламные каналы могут оказывать негативное влияние на окупаемость рекламы?\n",
    "    - Чем могут быть вызваны проблемы окупаемости?\n",
    "\n",
    "Напишите вывод, опишите возможные причины обнаруженных проблем и промежуточные рекомендации для рекламного отдела."
   ]
  },
  {
   "cell_type": "code",
   "execution_count": null,
   "metadata": {
    "id": "hbNu9EXeWVwo"
   },
   "outputs": [],
   "source": [
    "# так пользователи пришедшие органически в приложение ничего не стоили компании, удалим их из анализа для более честного анализа\n",
    "profiles = profiles.query('channel != \"organic\"')"
   ]
  },
  {
   "cell_type": "code",
   "execution_count": null,
   "metadata": {},
   "outputs": [],
   "source": [
    "# Проанализируем окупаемость рекламы\n",
    "# считаем LTV и ROI\n",
    "ltv_raw, ltv_grouped, ltv_history, roi_grouped, roi_history = get_ltv(\n",
    "    profiles, orders, observation_date, analysis_horizon)\n",
    "\n",
    "# строим графики\n",
    "plot_ltv_roi(ltv_grouped, ltv_history, roi_grouped, roi_history, analysis_horizon)"
   ]
  },
  {
   "cell_type": "markdown",
   "metadata": {},
   "source": [
    "Судя по графикам, можно сделать вывод:\n",
    "- На 14 день LTV равняется 0,9 центам. В среднем данный показатель не сильно меняется на протяжении всего анализируемого времени.  \n",
    "- Стоимость привлечения пользователей растёт с каждым днем, поэтому и застраты на маркетинг вырастают с каждым днём. \n",
    "- Окупаемость рекламных компаний сначала растёт, но так и не переступает порог окупаемости. \n",
    "- С мая по середину июня мы видим, что реклама окупалась за 2 недели, но потом был скачёк вниз и реклама перестала окупаться за этот период. "
   ]
  },
  {
   "cell_type": "code",
   "execution_count": null,
   "metadata": {},
   "outputs": [],
   "source": [
    "# Проанализируем окупаемость рекламы с разбивкой по странам\n",
    "# считаем LTV и ROI\n",
    "ltv_raw, ltv_grouped, ltv_history, roi_grouped, roi_history = get_ltv(\n",
    "    profiles, orders, observation_date, analysis_horizon, dimensions = ['region'])\n",
    "# строим графики\n",
    "plot_ltv_roi(\n",
    "    ltv_grouped, ltv_history, roi_grouped, roi_history, analysis_horizon, window=14)"
   ]
  },
  {
   "cell_type": "markdown",
   "metadata": {},
   "source": [
    "- Судя по графику, самый высокий LTV — у пользователей из США. Затем идут Великобритания и Германия. Пользователи из Франции приносят приложению меньше всего выручки.\n",
    "- Сначала сумма привлечения пользователя в приложение во всём мире была примерно на одном уровне, но с июня пользователи из США стали сильно дороже обходиться платформе, чем пользователи из Европы. \n",
    "- Пользователи пришедшие с рынка США не окупаются вовсе и быстро уходят с платформы. "
   ]
  },
  {
   "cell_type": "code",
   "execution_count": null,
   "metadata": {},
   "outputs": [],
   "source": [
    "# Проанализируем окупаемость рекламы с разбивкой по устройствам\n",
    "# считаем LTV и ROI\n",
    "ltv_raw, ltv_grouped, ltv_history, roi_grouped, roi_history = get_ltv(\n",
    "    profiles, orders, observation_date, analysis_horizon, dimensions = ['device'])\n",
    "# строим графики\n",
    "plot_ltv_roi(\n",
    "    ltv_grouped, ltv_history, roi_grouped, roi_history, analysis_horizon, window=14)"
   ]
  },
  {
   "cell_type": "markdown",
   "metadata": {},
   "source": [
    "- LTV примерно находится на одном уровне у всех пользователей с разными девайсами. \n",
    "- Стоимость привлечения пользователей растёт с каждым днем для каждого пользователя, но больше у пользователей с девайсами от Apple. \n",
    "- Пользователи с iPhone и MAC лучше окупаются, чем остальные.  \n",
    "- Сложнее всего окупаются пользователи которые исаользуют PC. "
   ]
  },
  {
   "cell_type": "code",
   "execution_count": null,
   "metadata": {},
   "outputs": [],
   "source": [
    "# Проанализируем окупаемость рекламы с разбивкой по каналам продаж\n",
    "# считаем LTV и ROI\n",
    "ltv_raw, ltv_grouped, ltv_history, roi_grouped, roi_history = get_ltv(\n",
    "    profiles, orders, observation_date, analysis_horizon, dimensions = ['channel'])\n",
    "# строим графики\n",
    "plot_ltv_roi(\n",
    "    ltv_grouped, ltv_history, roi_grouped, roi_history, analysis_horizon, window=14)"
   ]
  },
  {
   "cell_type": "code",
   "execution_count": null,
   "metadata": {},
   "outputs": [],
   "source": [
    "# На графиках сложно что то разобрать, поэтому построим тепловую карту LTV для наглядности. \n",
    "plt.figure(figsize=(35, 10))\n",
    "\n",
    "sns.heatmap(\n",
    "    ltv_grouped.drop(columns = ['cohort_size']), \n",
    "    annot=True, \n",
    "    fmt='.2%', \n",
    "    ax=plt.subplot(1, 2, 2)\n",
    "            )\n",
    "plt.title('Тепловая карта LTV с разбивкой по каналам привлечения')\n",
    "plt.xlabel('Лайфтайм')\n",
    "plt.ylabel('Каналы привлечения')\n",
    "plt.show()"
   ]
  },
  {
   "cell_type": "markdown",
   "metadata": {},
   "source": [
    "- Компании в которые вливают больше всего средств не окупаются (TipTop, FaceBoom, AdNonSense и lambdaMediaAds)\n",
    "- Затраты на канал TipTop с каждым месяцем увеличиваются вдвое. "
   ]
  },
  {
   "cell_type": "code",
   "execution_count": null,
   "metadata": {
    "scrolled": true
   },
   "outputs": [],
   "source": [
    "# Проверим конверсию пользователей и динамику её изменения\n",
    "conversion_raw, conversion_grouped, conversion_history = get_conversion(\n",
    "    profiles, orders, observation_date, analysis_horizon)\n",
    "\n",
    "plot_conversion(conversion_grouped, conversion_history, analysis_horizon)"
   ]
  },
  {
   "cell_type": "markdown",
   "metadata": {},
   "source": [
    "Конверсия пользователей стабильно растёт на протяжении всего периода анализа. "
   ]
  },
  {
   "cell_type": "code",
   "execution_count": null,
   "metadata": {},
   "outputs": [],
   "source": [
    "# Проверим удержание пользователей и динамику её изменения\n",
    "retention_raw, retention_grouped, retention_history = get_retention(\n",
    "    profiles, visits, observation_date, analysis_horizon)\n",
    "\n",
    "plot_retention(retention_grouped, retention_history, analysis_horizon)"
   ]
  },
  {
   "cell_type": "markdown",
   "metadata": {},
   "source": [
    "- Кривая удержания платящих пользователей выше, чем неплатящих,\n",
    "- Обе кривые постепенно снижаются."
   ]
  },
  {
   "cell_type": "markdown",
   "metadata": {},
   "source": [
    "Рассмотрим также конверсию пользователей и динамику её изменения в разрезе стран и каналов продаж. "
   ]
  },
  {
   "cell_type": "code",
   "execution_count": null,
   "metadata": {},
   "outputs": [],
   "source": [
    "# Проверим конверсию пользователей и динамику её изменения в разрезе стран\n",
    "conversion_raw, conversion_grouped, conversion_history = get_conversion(\n",
    "    profiles, orders, observation_date, analysis_horizon, dimensions = ['region'])\n",
    "\n",
    "plot_conversion(conversion_grouped, conversion_history, analysis_horizon)"
   ]
  },
  {
   "cell_type": "markdown",
   "metadata": {},
   "source": [
    "Судя по графику, конверсия пользователей из США больше в два раза, чем у Европейских пользователей."
   ]
  },
  {
   "cell_type": "code",
   "execution_count": null,
   "metadata": {},
   "outputs": [],
   "source": [
    "# Проверим удержание пользователей и динамику её изменения в разрезе стран\n",
    "retention_raw, retention_grouped, retention_history = get_retention(\n",
    "    profiles, visits, observation_date, analysis_horizon, dimensions = ['region'])\n",
    "\n",
    "plot_retention(retention_grouped, retention_history, analysis_horizon)"
   ]
  },
  {
   "cell_type": "markdown",
   "metadata": {},
   "source": [
    "Однако если посмотреть на график удержания пользоватлей, США на последнем месте. Это значит, что пользователи из США быстро прихлдят в приложение, но так же стремительно с него и уходят. "
   ]
  },
  {
   "cell_type": "code",
   "execution_count": null,
   "metadata": {},
   "outputs": [],
   "source": [
    "# Проверим конверсию пользователей и динамику её изменения в разбивке по каналам привлечения\n",
    "conversion_raw, conversion_grouped, conversion_history = get_conversion(\n",
    "    profiles, orders, observation_date, analysis_horizon, dimensions = ['channel'])\n",
    "\n",
    "plot_conversion(conversion_grouped, conversion_history, analysis_horizon)"
   ]
  },
  {
   "cell_type": "markdown",
   "metadata": {},
   "source": [
    "В среднем конверсия пользователей привлеченных с разных каналов находится в стагнации. Самая сильная конверсия у пользователей из FaceBoom, AdNonSense и lambdaMediaAds. "
   ]
  },
  {
   "cell_type": "code",
   "execution_count": null,
   "metadata": {},
   "outputs": [],
   "source": [
    "# Проверим удержание пользователей и динамику её изменения в разбивке по каналам привлечения\n",
    "retention_raw, retention_grouped, retention_history = get_retention(\n",
    "    profiles, visits, observation_date, analysis_horizon, dimensions = ['channel'])\n",
    "\n",
    "plot_retention(retention_grouped, retention_history, analysis_horizon)"
   ]
  },
  {
   "cell_type": "markdown",
   "metadata": {},
   "source": [
    "Если смотреть на график удержания пользоватлей, FaceBoom и AdNonSense на последнем месте. Это значит, что пользователи из этих каналов быстро прихлдят в приложение, но так же стремительно с него и уходят. Остальные каналы привлечение показывают более лучшие результаты удерживания платящих пользователей, в том сичисле и lambdaMediaAds, которая даёт хорошую конверсию. \n",
    "    \n",
    "Что касается TipTop, данный канал показывает достаточно высокую конверсию и удержание пользователей, но к сожалению он слишком дорогой и совсем не окупается. "
   ]
  },
  {
   "cell_type": "markdown",
   "metadata": {},
   "source": [
    "- Окупается ли реклама, направленная на привлечение пользователей в целом?\n",
    "    - Нет, реклама не окупается. \n",
    "- Какие устройства, страны и рекламные каналы могут оказывать негативное влияние на окупаемость рекламы?\n",
    "    - Наиболее негативно на рекламную компанию влияют пользователи из США, которые обходятся компании сильно дороже европейскийх и быстрее уходят с приложения. Рекламные каналы TipTop и FaceBoom, на которые тратится львиная доля бюджета совсем не окупаются. Устройства в значительной мере не имеюбт значения на успешность рекламной компании, однако стоит одтавать предпочтение устройствам от компании Apple (iPhone, Mac). \n",
    "- Чем могут быть вызваны проблемы окупаемости?\n",
    "    - Возможно главная проблема кроется в неправильно выбранном рынке продаж. Раз пользователи из США так дорого обходяться компании и совсем мало задерживаются, может лучше сделать упор на Европейский рынок?\n",
    "        Следует далее более детально проанализировать рекламные компании исключив США, для подтверждения данной теории. "
   ]
  },
  {
   "cell_type": "markdown",
   "metadata": {},
   "source": [
    "## Вывод"
   ]
  },
  {
   "cell_type": "markdown",
   "metadata": {},
   "source": [
    "В ходе работы были проанализированы данные о пользователей приложения Procrastinate Pro+, привлечённых с 1 мая по 27 октября 2019 года (лог сервера с данными об их посещениях, выгрузка их покупок за этот период, рекламные расходы). \n",
    " \n",
    "Компания несёт убытки, несмотря на огромные вложения в рекламу за последние 7 месяцев.\n",
    "\n",
    "Мы рассмотрели факторы, которые могли на неэффективное привлечение клиентов в приложение и пришли к определенным выводам:\n",
    "- Рекламные каналы TipTop и FaceBoom, на которые тратится львиная доля бюджета совсем не окупаются.\n",
    "- Пользователи из США, на которых было потрачено больше всего буджета, не окупаются за 2 недели и быстро уходят с платформы. \n",
    "- Расходы на рекламный канал TipTop вырос каждый месяц увеличивался на 70%, тем самым ещё больше загонял компанию в убытки. \n",
    "- Стоимость привлечения пользователей растёт с каждым днем, поэтому и застраты на маркетинг вырастают с каждым днём.\n",
    "\n",
    "В качестве рекомендаций для отдела маркетинга можно выделить следующее:\n",
    "- Рассмотреть другие площадки для привлечение клиентов, например WahooNetBanner или RocketSuperAds. Они окупаются за 14ти дневный период, приносят пользователей и не требуют сильных вложений. \n",
    "- Обратить более тщательное внимание на Европейский рынок. Возможно в США сушествует более популярное и конкурентноспособное приложение, которое отвечает всем требованиям пользователй. А в Европе наоборот популярно приложение Procrastinate Pro+ и его там можно развить.   \n",
    "- Сделать упор на развитие площадки для пользователй с iPhone и Mac. \n",
    "- Перестать вливать деньги в TipTop и FaceBoom\n",
    "- Проанализировать другие странах. Возможно следует развивать это приложение не только в 4 странах, но и открыть новые направления. "
   ]
  },
  {
   "cell_type": "markdown",
   "metadata": {},
   "source": [
    "Если рассматривать всё таки рынок США, возможно стоит использовать другие каналы привлечения клиентов, а не только TipTop и FaceBoom.\n",
    "Показатели канала FaceBoom не такие плохие, конверсия пользователей выше чем у других каналов, однако стоит поработать на удержание платящей аудитори. "
   ]
  }
 ],
 "metadata": {
  "ExecuteTimeLog": [
   {
    "duration": 1117,
    "start_time": "2023-08-29T13:43:41.355Z"
   },
   {
    "duration": 1866,
    "start_time": "2023-08-29T13:43:42.474Z"
   },
   {
    "duration": 634,
    "start_time": "2023-08-29T13:44:29.010Z"
   },
   {
    "duration": 148,
    "start_time": "2023-08-29T13:46:31.465Z"
   },
   {
    "duration": 65,
    "start_time": "2023-08-29T13:46:32.344Z"
   },
   {
    "duration": 952,
    "start_time": "2023-08-29T14:32:53.139Z"
   },
   {
    "duration": 62,
    "start_time": "2023-08-29T14:33:41.944Z"
   },
   {
    "duration": 49,
    "start_time": "2023-08-29T14:39:17.860Z"
   },
   {
    "duration": 269,
    "start_time": "2023-08-29T14:39:51.169Z"
   },
   {
    "duration": 4,
    "start_time": "2023-08-29T14:41:34.210Z"
   },
   {
    "duration": 1212,
    "start_time": "2023-08-29T14:41:55.336Z"
   },
   {
    "duration": 953,
    "start_time": "2023-08-29T14:41:56.551Z"
   },
   {
    "duration": 58,
    "start_time": "2023-08-29T14:41:57.506Z"
   },
   {
    "duration": 49,
    "start_time": "2023-08-29T14:41:57.566Z"
   },
   {
    "duration": 288,
    "start_time": "2023-08-29T14:41:57.618Z"
   },
   {
    "duration": 103,
    "start_time": "2023-08-29T14:41:57.907Z"
   },
   {
    "duration": 0,
    "start_time": "2023-08-29T14:41:58.011Z"
   },
   {
    "duration": 0,
    "start_time": "2023-08-29T14:41:58.012Z"
   },
   {
    "duration": 4,
    "start_time": "2023-08-29T14:42:10.124Z"
   },
   {
    "duration": 10,
    "start_time": "2023-08-29T14:42:20.686Z"
   },
   {
    "duration": 11,
    "start_time": "2023-08-29T14:45:42.459Z"
   },
   {
    "duration": 1471,
    "start_time": "2023-08-29T14:45:50.008Z"
   },
   {
    "duration": 137,
    "start_time": "2023-08-29T14:46:12.808Z"
   },
   {
    "duration": 12,
    "start_time": "2023-08-29T14:46:40.151Z"
   },
   {
    "duration": 29,
    "start_time": "2023-08-29T14:46:44.966Z"
   },
   {
    "duration": 58,
    "start_time": "2023-08-29T14:47:00.719Z"
   },
   {
    "duration": 174,
    "start_time": "2023-08-29T14:47:21.752Z"
   },
   {
    "duration": 136,
    "start_time": "2023-08-29T14:47:27.876Z"
   },
   {
    "duration": 13,
    "start_time": "2023-08-29T14:47:28.889Z"
   },
   {
    "duration": 33,
    "start_time": "2023-08-29T14:48:17.027Z"
   },
   {
    "duration": 126,
    "start_time": "2023-08-29T14:48:17.814Z"
   },
   {
    "duration": 12,
    "start_time": "2023-08-29T14:48:43.297Z"
   },
   {
    "duration": 14,
    "start_time": "2023-08-29T14:50:00.785Z"
   },
   {
    "duration": 11,
    "start_time": "2023-08-29T14:50:02.479Z"
   },
   {
    "duration": 20,
    "start_time": "2023-08-29T14:53:27.168Z"
   },
   {
    "duration": 134,
    "start_time": "2023-08-29T14:55:40.143Z"
   },
   {
    "duration": 11,
    "start_time": "2023-08-29T14:55:40.549Z"
   },
   {
    "duration": 6,
    "start_time": "2023-08-29T14:55:41.027Z"
   },
   {
    "duration": 6,
    "start_time": "2023-08-29T14:55:42.477Z"
   },
   {
    "duration": 10,
    "start_time": "2023-08-29T14:59:06.296Z"
   },
   {
    "duration": 20,
    "start_time": "2023-08-29T14:59:15.154Z"
   },
   {
    "duration": 10,
    "start_time": "2023-08-29T15:51:31.589Z"
   },
   {
    "duration": 11,
    "start_time": "2023-08-29T15:51:41.570Z"
   },
   {
    "duration": 9,
    "start_time": "2023-08-29T15:52:58.509Z"
   },
   {
    "duration": 10,
    "start_time": "2023-08-29T15:53:03.071Z"
   },
   {
    "duration": 13,
    "start_time": "2023-08-29T15:59:58.690Z"
   },
   {
    "duration": 103,
    "start_time": "2023-08-29T16:00:30.996Z"
   },
   {
    "duration": 124,
    "start_time": "2023-08-29T16:02:03.276Z"
   },
   {
    "duration": 88,
    "start_time": "2023-08-29T16:02:37.914Z"
   },
   {
    "duration": 123,
    "start_time": "2023-08-29T16:06:27.224Z"
   },
   {
    "duration": 15,
    "start_time": "2023-08-30T17:06:56.959Z"
   },
   {
    "duration": 1474,
    "start_time": "2023-08-30T17:07:21.654Z"
   },
   {
    "duration": 847,
    "start_time": "2023-08-30T17:07:23.132Z"
   },
   {
    "duration": 78,
    "start_time": "2023-08-30T17:07:23.983Z"
   },
   {
    "duration": 76,
    "start_time": "2023-08-30T17:07:24.063Z"
   },
   {
    "duration": 381,
    "start_time": "2023-08-30T17:07:24.142Z"
   },
   {
    "duration": 11,
    "start_time": "2023-08-30T17:07:24.525Z"
   },
   {
    "duration": 208,
    "start_time": "2023-08-30T17:07:24.538Z"
   },
   {
    "duration": 153,
    "start_time": "2023-08-30T17:07:24.748Z"
   },
   {
    "duration": 12,
    "start_time": "2023-08-30T17:07:24.903Z"
   },
   {
    "duration": 46,
    "start_time": "2023-08-30T17:07:24.916Z"
   },
   {
    "duration": 14,
    "start_time": "2023-08-30T17:07:24.964Z"
   },
   {
    "duration": 11,
    "start_time": "2023-08-30T17:07:24.979Z"
   },
   {
    "duration": 34,
    "start_time": "2023-08-30T17:07:24.992Z"
   },
   {
    "duration": 92,
    "start_time": "2023-08-30T17:07:25.029Z"
   },
   {
    "duration": 11,
    "start_time": "2023-08-30T17:07:25.123Z"
   },
   {
    "duration": 21,
    "start_time": "2023-08-30T17:07:25.136Z"
   },
   {
    "duration": 11,
    "start_time": "2023-08-30T17:07:25.159Z"
   },
   {
    "duration": 10,
    "start_time": "2023-08-30T17:07:25.171Z"
   },
   {
    "duration": 22,
    "start_time": "2023-08-30T17:07:25.182Z"
   },
   {
    "duration": 9,
    "start_time": "2023-08-30T17:07:25.206Z"
   },
   {
    "duration": 581,
    "start_time": "2023-08-30T17:07:25.217Z"
   },
   {
    "duration": 13,
    "start_time": "2023-08-30T17:07:37.933Z"
   },
   {
    "duration": 7,
    "start_time": "2023-08-30T17:07:43.592Z"
   },
   {
    "duration": 16,
    "start_time": "2023-08-30T17:07:44.109Z"
   },
   {
    "duration": 5,
    "start_time": "2023-08-30T17:08:19.987Z"
   },
   {
    "duration": 535,
    "start_time": "2023-08-30T17:08:20.459Z"
   },
   {
    "duration": 13,
    "start_time": "2023-08-30T17:08:49.250Z"
   },
   {
    "duration": 480,
    "start_time": "2023-08-30T17:08:50.028Z"
   },
   {
    "duration": 486,
    "start_time": "2023-08-30T17:09:21.328Z"
   },
   {
    "duration": 1273,
    "start_time": "2023-08-30T17:12:22.080Z"
   },
   {
    "duration": 877,
    "start_time": "2023-08-30T17:12:23.355Z"
   },
   {
    "duration": 95,
    "start_time": "2023-08-30T17:12:24.234Z"
   },
   {
    "duration": 80,
    "start_time": "2023-08-30T17:12:24.331Z"
   },
   {
    "duration": 309,
    "start_time": "2023-08-30T17:12:24.413Z"
   },
   {
    "duration": 12,
    "start_time": "2023-08-30T17:12:24.724Z"
   },
   {
    "duration": 188,
    "start_time": "2023-08-30T17:12:24.738Z"
   },
   {
    "duration": 130,
    "start_time": "2023-08-30T17:12:24.928Z"
   },
   {
    "duration": 13,
    "start_time": "2023-08-30T17:12:25.059Z"
   },
   {
    "duration": 49,
    "start_time": "2023-08-30T17:12:25.074Z"
   },
   {
    "duration": 15,
    "start_time": "2023-08-30T17:12:25.125Z"
   },
   {
    "duration": 43,
    "start_time": "2023-08-30T17:12:25.142Z"
   },
   {
    "duration": 33,
    "start_time": "2023-08-30T17:12:25.188Z"
   },
   {
    "duration": 42,
    "start_time": "2023-08-30T17:12:25.224Z"
   },
   {
    "duration": 14,
    "start_time": "2023-08-30T17:12:25.268Z"
   },
   {
    "duration": 216,
    "start_time": "2023-08-30T17:12:25.284Z"
   },
   {
    "duration": 32,
    "start_time": "2023-08-30T17:12:25.502Z"
   },
   {
    "duration": 37,
    "start_time": "2023-08-30T17:12:25.536Z"
   },
   {
    "duration": 23,
    "start_time": "2023-08-30T17:12:25.575Z"
   },
   {
    "duration": 22,
    "start_time": "2023-08-30T17:12:25.600Z"
   },
   {
    "duration": 636,
    "start_time": "2023-08-30T17:12:25.624Z"
   },
   {
    "duration": 16,
    "start_time": "2023-08-30T17:13:49.230Z"
   },
   {
    "duration": 15,
    "start_time": "2023-08-30T17:14:02.261Z"
   },
   {
    "duration": 22,
    "start_time": "2023-08-30T17:14:30.736Z"
   },
   {
    "duration": 58,
    "start_time": "2023-08-30T17:14:58.226Z"
   },
   {
    "duration": 101,
    "start_time": "2023-08-30T17:14:58.924Z"
   },
   {
    "duration": 13,
    "start_time": "2023-08-30T17:14:59.150Z"
   },
   {
    "duration": 8,
    "start_time": "2023-08-30T17:14:59.363Z"
   },
   {
    "duration": 14,
    "start_time": "2023-08-30T17:14:59.564Z"
   },
   {
    "duration": 10,
    "start_time": "2023-08-30T17:14:59.960Z"
   },
   {
    "duration": 20,
    "start_time": "2023-08-30T17:15:00.190Z"
   },
   {
    "duration": 46,
    "start_time": "2023-08-30T17:15:00.388Z"
   },
   {
    "duration": 12,
    "start_time": "2023-08-30T17:15:00.562Z"
   },
   {
    "duration": 1227,
    "start_time": "2023-08-30T17:15:06.944Z"
   },
   {
    "duration": 738,
    "start_time": "2023-08-30T17:15:08.174Z"
   },
   {
    "duration": 68,
    "start_time": "2023-08-30T17:15:08.914Z"
   },
   {
    "duration": 51,
    "start_time": "2023-08-30T17:15:08.985Z"
   },
   {
    "duration": 305,
    "start_time": "2023-08-30T17:15:09.038Z"
   },
   {
    "duration": 16,
    "start_time": "2023-08-30T17:15:09.345Z"
   },
   {
    "duration": 184,
    "start_time": "2023-08-30T17:15:09.362Z"
   },
   {
    "duration": 95,
    "start_time": "2023-08-30T17:15:09.548Z"
   },
   {
    "duration": 12,
    "start_time": "2023-08-30T17:15:09.645Z"
   },
   {
    "duration": 7,
    "start_time": "2023-08-30T17:15:09.660Z"
   },
   {
    "duration": 20,
    "start_time": "2023-08-30T17:15:09.669Z"
   },
   {
    "duration": 9,
    "start_time": "2023-08-30T17:15:09.691Z"
   },
   {
    "duration": 18,
    "start_time": "2023-08-30T17:15:09.701Z"
   },
   {
    "duration": 42,
    "start_time": "2023-08-30T17:15:09.721Z"
   },
   {
    "duration": 10,
    "start_time": "2023-08-30T17:15:09.765Z"
   },
   {
    "duration": 26,
    "start_time": "2023-08-30T17:15:09.777Z"
   },
   {
    "duration": 21,
    "start_time": "2023-08-30T17:15:09.805Z"
   },
   {
    "duration": 20,
    "start_time": "2023-08-30T17:15:09.828Z"
   },
   {
    "duration": 18,
    "start_time": "2023-08-30T17:15:09.850Z"
   },
   {
    "duration": 7,
    "start_time": "2023-08-30T17:15:09.870Z"
   },
   {
    "duration": 536,
    "start_time": "2023-08-30T17:15:09.878Z"
   },
   {
    "duration": 108,
    "start_time": "2023-08-30T17:53:20.133Z"
   },
   {
    "duration": 16,
    "start_time": "2023-08-30T17:56:43.753Z"
   },
   {
    "duration": 1191,
    "start_time": "2023-08-30T18:02:12.708Z"
   },
   {
    "duration": 2432,
    "start_time": "2023-08-30T18:02:13.901Z"
   },
   {
    "duration": 74,
    "start_time": "2023-08-30T18:02:16.335Z"
   },
   {
    "duration": 59,
    "start_time": "2023-08-30T18:02:16.411Z"
   },
   {
    "duration": 295,
    "start_time": "2023-08-30T18:02:16.473Z"
   },
   {
    "duration": 12,
    "start_time": "2023-08-30T18:02:16.770Z"
   },
   {
    "duration": 192,
    "start_time": "2023-08-30T18:02:16.784Z"
   },
   {
    "duration": 78,
    "start_time": "2023-08-30T18:02:16.978Z"
   },
   {
    "duration": 23,
    "start_time": "2023-08-30T18:02:17.058Z"
   },
   {
    "duration": 17,
    "start_time": "2023-08-30T18:02:17.084Z"
   },
   {
    "duration": 20,
    "start_time": "2023-08-30T18:02:17.103Z"
   },
   {
    "duration": 12,
    "start_time": "2023-08-30T18:02:17.126Z"
   },
   {
    "duration": 42,
    "start_time": "2023-08-30T18:02:17.140Z"
   },
   {
    "duration": 30,
    "start_time": "2023-08-30T18:02:17.185Z"
   },
   {
    "duration": 13,
    "start_time": "2023-08-30T18:02:17.216Z"
   },
   {
    "duration": 8,
    "start_time": "2023-08-30T18:02:17.230Z"
   },
   {
    "duration": 31,
    "start_time": "2023-08-30T18:02:17.240Z"
   },
   {
    "duration": 10,
    "start_time": "2023-08-30T18:02:17.273Z"
   },
   {
    "duration": 37,
    "start_time": "2023-08-30T18:02:17.284Z"
   },
   {
    "duration": 18,
    "start_time": "2023-08-30T18:02:17.323Z"
   },
   {
    "duration": 28,
    "start_time": "2023-08-30T18:02:17.343Z"
   },
   {
    "duration": 21,
    "start_time": "2023-08-30T18:02:17.378Z"
   },
   {
    "duration": 32,
    "start_time": "2023-08-30T18:02:17.401Z"
   },
   {
    "duration": 13,
    "start_time": "2023-08-30T18:02:17.435Z"
   },
   {
    "duration": 52,
    "start_time": "2023-08-30T18:02:17.450Z"
   },
   {
    "duration": 33,
    "start_time": "2023-08-30T18:02:17.504Z"
   },
   {
    "duration": 57,
    "start_time": "2023-08-31T09:58:07.617Z"
   },
   {
    "duration": 1657,
    "start_time": "2023-08-31T09:58:13.677Z"
   },
   {
    "duration": 1262,
    "start_time": "2023-08-31T09:58:15.337Z"
   },
   {
    "duration": 115,
    "start_time": "2023-08-31T09:58:16.601Z"
   },
   {
    "duration": 94,
    "start_time": "2023-08-31T09:58:16.718Z"
   },
   {
    "duration": 308,
    "start_time": "2023-08-31T09:58:16.814Z"
   },
   {
    "duration": 11,
    "start_time": "2023-08-31T09:58:17.124Z"
   },
   {
    "duration": 327,
    "start_time": "2023-08-31T09:58:17.137Z"
   },
   {
    "duration": 136,
    "start_time": "2023-08-31T09:58:17.466Z"
   },
   {
    "duration": 19,
    "start_time": "2023-08-31T09:58:17.604Z"
   },
   {
    "duration": 25,
    "start_time": "2023-08-31T09:58:17.627Z"
   },
   {
    "duration": 38,
    "start_time": "2023-08-31T09:58:17.654Z"
   },
   {
    "duration": 13,
    "start_time": "2023-08-31T09:58:17.694Z"
   },
   {
    "duration": 26,
    "start_time": "2023-08-31T09:58:17.709Z"
   },
   {
    "duration": 295,
    "start_time": "2023-08-31T09:58:17.738Z"
   },
   {
    "duration": 16,
    "start_time": "2023-08-31T09:58:18.035Z"
   },
   {
    "duration": 23,
    "start_time": "2023-08-31T09:58:18.053Z"
   },
   {
    "duration": 17,
    "start_time": "2023-08-31T09:58:18.078Z"
   },
   {
    "duration": 21,
    "start_time": "2023-08-31T09:58:18.098Z"
   },
   {
    "duration": 52,
    "start_time": "2023-08-31T09:58:18.121Z"
   },
   {
    "duration": 24,
    "start_time": "2023-08-31T09:58:18.175Z"
   },
   {
    "duration": 31,
    "start_time": "2023-08-31T09:58:18.201Z"
   },
   {
    "duration": 26,
    "start_time": "2023-08-31T09:58:18.234Z"
   },
   {
    "duration": 19,
    "start_time": "2023-08-31T09:58:18.262Z"
   },
   {
    "duration": 25,
    "start_time": "2023-08-31T09:58:18.283Z"
   },
   {
    "duration": 24,
    "start_time": "2023-08-31T09:58:18.311Z"
   },
   {
    "duration": 28,
    "start_time": "2023-08-31T09:58:18.337Z"
   },
   {
    "duration": 573,
    "start_time": "2023-08-31T09:58:18.367Z"
   },
   {
    "duration": 142,
    "start_time": "2023-08-31T10:05:14.217Z"
   },
   {
    "duration": 3,
    "start_time": "2023-08-31T10:06:26.339Z"
   },
   {
    "duration": 1329,
    "start_time": "2023-08-31T10:06:32.176Z"
   },
   {
    "duration": 1066,
    "start_time": "2023-08-31T10:06:33.507Z"
   },
   {
    "duration": 84,
    "start_time": "2023-08-31T10:06:34.578Z"
   },
   {
    "duration": 69,
    "start_time": "2023-08-31T10:06:34.667Z"
   },
   {
    "duration": 286,
    "start_time": "2023-08-31T10:06:34.738Z"
   },
   {
    "duration": 9,
    "start_time": "2023-08-31T10:06:35.026Z"
   },
   {
    "duration": 264,
    "start_time": "2023-08-31T10:06:35.047Z"
   },
   {
    "duration": 144,
    "start_time": "2023-08-31T10:06:35.314Z"
   },
   {
    "duration": 22,
    "start_time": "2023-08-31T10:06:35.460Z"
   },
   {
    "duration": 14,
    "start_time": "2023-08-31T10:06:35.484Z"
   },
   {
    "duration": 25,
    "start_time": "2023-08-31T10:06:35.500Z"
   },
   {
    "duration": 25,
    "start_time": "2023-08-31T10:06:35.527Z"
   },
   {
    "duration": 42,
    "start_time": "2023-08-31T10:06:35.555Z"
   },
   {
    "duration": 90,
    "start_time": "2023-08-31T10:06:35.601Z"
   },
   {
    "duration": 11,
    "start_time": "2023-08-31T10:06:35.694Z"
   },
   {
    "duration": 33,
    "start_time": "2023-08-31T10:06:35.707Z"
   },
   {
    "duration": 14,
    "start_time": "2023-08-31T10:06:35.742Z"
   },
   {
    "duration": 24,
    "start_time": "2023-08-31T10:06:35.758Z"
   },
   {
    "duration": 15,
    "start_time": "2023-08-31T10:06:35.784Z"
   },
   {
    "duration": 6,
    "start_time": "2023-08-31T10:06:35.801Z"
   },
   {
    "duration": 16,
    "start_time": "2023-08-31T10:06:35.809Z"
   },
   {
    "duration": 9,
    "start_time": "2023-08-31T10:06:35.827Z"
   },
   {
    "duration": 30,
    "start_time": "2023-08-31T10:06:35.838Z"
   },
   {
    "duration": 10,
    "start_time": "2023-08-31T10:06:35.870Z"
   },
   {
    "duration": 10,
    "start_time": "2023-08-31T10:06:35.882Z"
   },
   {
    "duration": 23,
    "start_time": "2023-08-31T10:06:35.894Z"
   },
   {
    "duration": 609,
    "start_time": "2023-08-31T10:06:35.919Z"
   },
   {
    "duration": 43,
    "start_time": "2023-08-31T10:06:36.530Z"
   },
   {
    "duration": 264,
    "start_time": "2023-08-31T10:11:53.242Z"
   },
   {
    "duration": 48,
    "start_time": "2023-08-31T10:11:55.871Z"
   },
   {
    "duration": 213,
    "start_time": "2023-08-31T10:11:56.735Z"
   },
   {
    "duration": 10,
    "start_time": "2023-08-31T10:12:34.393Z"
   },
   {
    "duration": 188,
    "start_time": "2023-08-31T10:12:42.240Z"
   },
   {
    "duration": 1314,
    "start_time": "2023-08-31T10:12:59.336Z"
   },
   {
    "duration": 1129,
    "start_time": "2023-08-31T10:13:00.653Z"
   },
   {
    "duration": 80,
    "start_time": "2023-08-31T10:13:01.784Z"
   },
   {
    "duration": 83,
    "start_time": "2023-08-31T10:13:01.867Z"
   },
   {
    "duration": 326,
    "start_time": "2023-08-31T10:13:01.959Z"
   },
   {
    "duration": 10,
    "start_time": "2023-08-31T10:13:02.287Z"
   },
   {
    "duration": 297,
    "start_time": "2023-08-31T10:13:02.299Z"
   },
   {
    "duration": 122,
    "start_time": "2023-08-31T10:13:02.598Z"
   },
   {
    "duration": 15,
    "start_time": "2023-08-31T10:13:02.722Z"
   },
   {
    "duration": 29,
    "start_time": "2023-08-31T10:13:02.739Z"
   },
   {
    "duration": 22,
    "start_time": "2023-08-31T10:13:02.771Z"
   },
   {
    "duration": 9,
    "start_time": "2023-08-31T10:13:02.795Z"
   },
   {
    "duration": 32,
    "start_time": "2023-08-31T10:13:02.806Z"
   },
   {
    "duration": 70,
    "start_time": "2023-08-31T10:13:02.842Z"
   },
   {
    "duration": 11,
    "start_time": "2023-08-31T10:13:02.914Z"
   },
   {
    "duration": 11,
    "start_time": "2023-08-31T10:13:02.926Z"
   },
   {
    "duration": 28,
    "start_time": "2023-08-31T10:13:02.939Z"
   },
   {
    "duration": 19,
    "start_time": "2023-08-31T10:13:02.969Z"
   },
   {
    "duration": 19,
    "start_time": "2023-08-31T10:13:02.989Z"
   },
   {
    "duration": 7,
    "start_time": "2023-08-31T10:13:03.009Z"
   },
   {
    "duration": 10,
    "start_time": "2023-08-31T10:13:03.017Z"
   },
   {
    "duration": 10,
    "start_time": "2023-08-31T10:13:03.029Z"
   },
   {
    "duration": 21,
    "start_time": "2023-08-31T10:13:03.041Z"
   },
   {
    "duration": 75,
    "start_time": "2023-08-31T10:13:03.064Z"
   },
   {
    "duration": 14,
    "start_time": "2023-08-31T10:13:03.141Z"
   },
   {
    "duration": 30,
    "start_time": "2023-08-31T10:13:03.157Z"
   },
   {
    "duration": 574,
    "start_time": "2023-08-31T10:13:03.189Z"
   },
   {
    "duration": 29,
    "start_time": "2023-08-31T10:13:03.765Z"
   },
   {
    "duration": 241,
    "start_time": "2023-08-31T10:13:03.795Z"
   },
   {
    "duration": 10,
    "start_time": "2023-08-31T10:13:04.038Z"
   },
   {
    "duration": 252,
    "start_time": "2023-08-31T10:13:04.050Z"
   },
   {
    "duration": 220,
    "start_time": "2023-08-31T10:13:33.897Z"
   },
   {
    "duration": 189,
    "start_time": "2023-08-31T10:13:52.623Z"
   },
   {
    "duration": 38,
    "start_time": "2023-08-31T10:21:03.191Z"
   },
   {
    "duration": 10,
    "start_time": "2023-08-31T10:21:07.334Z"
   },
   {
    "duration": 198,
    "start_time": "2023-08-31T10:21:22.217Z"
   },
   {
    "duration": 192,
    "start_time": "2023-08-31T10:22:44.791Z"
   },
   {
    "duration": 197,
    "start_time": "2023-08-31T10:23:13.915Z"
   },
   {
    "duration": 342,
    "start_time": "2023-08-31T10:30:20.238Z"
   },
   {
    "duration": 51,
    "start_time": "2023-08-31T10:30:57.419Z"
   },
   {
    "duration": 11,
    "start_time": "2023-08-31T10:31:17.681Z"
   },
   {
    "duration": 297,
    "start_time": "2023-08-31T10:31:40.836Z"
   },
   {
    "duration": 336,
    "start_time": "2023-08-31T11:15:04.378Z"
   },
   {
    "duration": 4,
    "start_time": "2023-08-31T11:15:55.091Z"
   },
   {
    "duration": 218,
    "start_time": "2023-08-31T11:16:02.309Z"
   },
   {
    "duration": 4,
    "start_time": "2023-08-31T11:16:06.770Z"
   },
   {
    "duration": 4,
    "start_time": "2023-08-31T11:16:54.302Z"
   },
   {
    "duration": 15,
    "start_time": "2023-08-31T11:17:54.280Z"
   },
   {
    "duration": 14,
    "start_time": "2023-08-31T11:18:52.599Z"
   },
   {
    "duration": 548,
    "start_time": "2023-08-31T11:41:51.058Z"
   },
   {
    "duration": 161,
    "start_time": "2023-08-31T12:02:11.234Z"
   },
   {
    "duration": 44,
    "start_time": "2023-08-31T12:02:52.560Z"
   },
   {
    "duration": 15,
    "start_time": "2023-08-31T12:13:32.564Z"
   },
   {
    "duration": 1804,
    "start_time": "2023-08-31T12:14:56.772Z"
   },
   {
    "duration": 2425,
    "start_time": "2023-08-31T12:15:07.919Z"
   },
   {
    "duration": 2252,
    "start_time": "2023-08-31T12:15:25.286Z"
   },
   {
    "duration": 2794,
    "start_time": "2023-08-31T12:16:40.717Z"
   },
   {
    "duration": 31,
    "start_time": "2023-08-31T12:17:04.509Z"
   },
   {
    "duration": 1655,
    "start_time": "2023-08-31T12:18:02.689Z"
   },
   {
    "duration": 2582,
    "start_time": "2023-08-31T12:18:17.453Z"
   },
   {
    "duration": 31,
    "start_time": "2023-08-31T12:19:12.473Z"
   },
   {
    "duration": 15,
    "start_time": "2023-08-31T12:19:50.939Z"
   },
   {
    "duration": 19,
    "start_time": "2023-08-31T12:21:11.954Z"
   },
   {
    "duration": 1299,
    "start_time": "2023-08-31T12:42:13.406Z"
   },
   {
    "duration": 1027,
    "start_time": "2023-08-31T12:42:14.707Z"
   },
   {
    "duration": 80,
    "start_time": "2023-08-31T12:42:15.736Z"
   },
   {
    "duration": 76,
    "start_time": "2023-08-31T12:42:15.818Z"
   },
   {
    "duration": 290,
    "start_time": "2023-08-31T12:42:15.896Z"
   },
   {
    "duration": 11,
    "start_time": "2023-08-31T12:42:16.188Z"
   },
   {
    "duration": 210,
    "start_time": "2023-08-31T12:42:16.201Z"
   },
   {
    "duration": 141,
    "start_time": "2023-08-31T12:42:16.413Z"
   },
   {
    "duration": 15,
    "start_time": "2023-08-31T12:42:16.557Z"
   },
   {
    "duration": 16,
    "start_time": "2023-08-31T12:42:16.576Z"
   },
   {
    "duration": 16,
    "start_time": "2023-08-31T12:42:16.594Z"
   },
   {
    "duration": 36,
    "start_time": "2023-08-31T12:42:16.612Z"
   },
   {
    "duration": 21,
    "start_time": "2023-08-31T12:42:16.651Z"
   },
   {
    "duration": 76,
    "start_time": "2023-08-31T12:42:16.674Z"
   },
   {
    "duration": 15,
    "start_time": "2023-08-31T12:42:16.752Z"
   },
   {
    "duration": 12,
    "start_time": "2023-08-31T12:42:16.769Z"
   },
   {
    "duration": 10,
    "start_time": "2023-08-31T12:42:16.783Z"
   },
   {
    "duration": 29,
    "start_time": "2023-08-31T12:42:16.795Z"
   },
   {
    "duration": 35,
    "start_time": "2023-08-31T12:42:16.826Z"
   },
   {
    "duration": 136,
    "start_time": "2023-08-31T12:42:16.862Z"
   },
   {
    "duration": 0,
    "start_time": "2023-08-31T12:42:17.000Z"
   },
   {
    "duration": 0,
    "start_time": "2023-08-31T12:42:17.001Z"
   },
   {
    "duration": 0,
    "start_time": "2023-08-31T12:42:17.002Z"
   },
   {
    "duration": 0,
    "start_time": "2023-08-31T12:42:17.004Z"
   },
   {
    "duration": 0,
    "start_time": "2023-08-31T12:42:17.005Z"
   },
   {
    "duration": 0,
    "start_time": "2023-08-31T12:42:17.006Z"
   },
   {
    "duration": 0,
    "start_time": "2023-08-31T12:42:17.007Z"
   },
   {
    "duration": 0,
    "start_time": "2023-08-31T12:42:17.008Z"
   },
   {
    "duration": 0,
    "start_time": "2023-08-31T12:42:17.009Z"
   },
   {
    "duration": 0,
    "start_time": "2023-08-31T12:42:17.010Z"
   },
   {
    "duration": 0,
    "start_time": "2023-08-31T12:42:17.011Z"
   },
   {
    "duration": 0,
    "start_time": "2023-08-31T12:42:17.012Z"
   },
   {
    "duration": 0,
    "start_time": "2023-08-31T12:42:17.013Z"
   },
   {
    "duration": 0,
    "start_time": "2023-08-31T12:42:17.014Z"
   },
   {
    "duration": 0,
    "start_time": "2023-08-31T12:42:17.016Z"
   },
   {
    "duration": 0,
    "start_time": "2023-08-31T12:42:17.017Z"
   },
   {
    "duration": 0,
    "start_time": "2023-08-31T12:42:17.018Z"
   },
   {
    "duration": 0,
    "start_time": "2023-08-31T12:42:17.018Z"
   },
   {
    "duration": 0,
    "start_time": "2023-08-31T12:42:17.020Z"
   },
   {
    "duration": 0,
    "start_time": "2023-08-31T12:42:17.047Z"
   },
   {
    "duration": 0,
    "start_time": "2023-08-31T12:42:17.051Z"
   },
   {
    "duration": 0,
    "start_time": "2023-08-31T12:42:17.055Z"
   },
   {
    "duration": 1,
    "start_time": "2023-08-31T12:42:17.056Z"
   },
   {
    "duration": 13,
    "start_time": "2023-08-31T12:43:31.601Z"
   },
   {
    "duration": 17,
    "start_time": "2023-08-31T12:43:35.713Z"
   },
   {
    "duration": 1259,
    "start_time": "2023-08-31T12:43:42.634Z"
   },
   {
    "duration": 845,
    "start_time": "2023-08-31T12:43:43.895Z"
   },
   {
    "duration": 89,
    "start_time": "2023-08-31T12:43:44.742Z"
   },
   {
    "duration": 80,
    "start_time": "2023-08-31T12:43:44.833Z"
   },
   {
    "duration": 282,
    "start_time": "2023-08-31T12:43:44.915Z"
   },
   {
    "duration": 11,
    "start_time": "2023-08-31T12:43:45.199Z"
   },
   {
    "duration": 247,
    "start_time": "2023-08-31T12:43:45.212Z"
   },
   {
    "duration": 101,
    "start_time": "2023-08-31T12:43:45.461Z"
   },
   {
    "duration": 18,
    "start_time": "2023-08-31T12:43:45.570Z"
   },
   {
    "duration": 15,
    "start_time": "2023-08-31T12:43:45.590Z"
   },
   {
    "duration": 17,
    "start_time": "2023-08-31T12:43:45.607Z"
   },
   {
    "duration": 36,
    "start_time": "2023-08-31T12:43:45.626Z"
   },
   {
    "duration": 25,
    "start_time": "2023-08-31T12:43:45.665Z"
   },
   {
    "duration": 75,
    "start_time": "2023-08-31T12:43:45.694Z"
   },
   {
    "duration": 13,
    "start_time": "2023-08-31T12:43:45.771Z"
   },
   {
    "duration": 8,
    "start_time": "2023-08-31T12:43:45.786Z"
   },
   {
    "duration": 6,
    "start_time": "2023-08-31T12:43:45.796Z"
   },
   {
    "duration": 18,
    "start_time": "2023-08-31T12:43:45.804Z"
   },
   {
    "duration": 24,
    "start_time": "2023-08-31T12:43:45.824Z"
   },
   {
    "duration": 23,
    "start_time": "2023-08-31T12:43:45.851Z"
   },
   {
    "duration": 7,
    "start_time": "2023-08-31T12:43:45.876Z"
   },
   {
    "duration": 22,
    "start_time": "2023-08-31T12:43:45.885Z"
   },
   {
    "duration": 11,
    "start_time": "2023-08-31T12:43:45.909Z"
   },
   {
    "duration": 29,
    "start_time": "2023-08-31T12:43:45.922Z"
   },
   {
    "duration": 12,
    "start_time": "2023-08-31T12:43:45.953Z"
   },
   {
    "duration": 18,
    "start_time": "2023-08-31T12:43:45.968Z"
   },
   {
    "duration": 14,
    "start_time": "2023-08-31T12:43:45.988Z"
   },
   {
    "duration": 651,
    "start_time": "2023-08-31T12:43:46.003Z"
   },
   {
    "duration": 0,
    "start_time": "2023-08-31T12:43:46.657Z"
   },
   {
    "duration": 0,
    "start_time": "2023-08-31T12:43:46.658Z"
   },
   {
    "duration": 0,
    "start_time": "2023-08-31T12:43:46.660Z"
   },
   {
    "duration": 0,
    "start_time": "2023-08-31T12:43:46.662Z"
   },
   {
    "duration": 0,
    "start_time": "2023-08-31T12:43:46.664Z"
   },
   {
    "duration": 0,
    "start_time": "2023-08-31T12:43:46.666Z"
   },
   {
    "duration": 0,
    "start_time": "2023-08-31T12:43:46.668Z"
   },
   {
    "duration": 0,
    "start_time": "2023-08-31T12:43:46.669Z"
   },
   {
    "duration": 0,
    "start_time": "2023-08-31T12:43:46.671Z"
   },
   {
    "duration": 0,
    "start_time": "2023-08-31T12:43:46.673Z"
   },
   {
    "duration": 0,
    "start_time": "2023-08-31T12:43:46.674Z"
   },
   {
    "duration": 0,
    "start_time": "2023-08-31T12:43:46.676Z"
   },
   {
    "duration": 0,
    "start_time": "2023-08-31T12:43:46.677Z"
   },
   {
    "duration": 0,
    "start_time": "2023-08-31T12:43:46.678Z"
   },
   {
    "duration": 0,
    "start_time": "2023-08-31T12:43:46.680Z"
   },
   {
    "duration": 17,
    "start_time": "2023-08-31T12:44:44.820Z"
   },
   {
    "duration": 12,
    "start_time": "2023-08-31T12:45:20.689Z"
   },
   {
    "duration": 19,
    "start_time": "2023-08-31T12:46:07.564Z"
   },
   {
    "duration": 23,
    "start_time": "2023-08-31T12:47:09.354Z"
   },
   {
    "duration": 16,
    "start_time": "2023-08-31T12:48:02.535Z"
   },
   {
    "duration": 22,
    "start_time": "2023-08-31T12:48:12.270Z"
   },
   {
    "duration": 19,
    "start_time": "2023-08-31T12:49:13.262Z"
   },
   {
    "duration": 6,
    "start_time": "2023-08-31T12:49:18.601Z"
   },
   {
    "duration": 5,
    "start_time": "2023-08-31T12:49:21.690Z"
   },
   {
    "duration": 1377,
    "start_time": "2023-08-31T12:49:25.952Z"
   },
   {
    "duration": 943,
    "start_time": "2023-08-31T12:49:27.331Z"
   },
   {
    "duration": 75,
    "start_time": "2023-08-31T12:49:28.275Z"
   },
   {
    "duration": 76,
    "start_time": "2023-08-31T12:49:28.354Z"
   },
   {
    "duration": 328,
    "start_time": "2023-08-31T12:49:28.446Z"
   },
   {
    "duration": 11,
    "start_time": "2023-08-31T12:49:28.775Z"
   },
   {
    "duration": 321,
    "start_time": "2023-08-31T12:49:28.788Z"
   },
   {
    "duration": 221,
    "start_time": "2023-08-31T12:49:29.111Z"
   },
   {
    "duration": 13,
    "start_time": "2023-08-31T12:49:29.334Z"
   },
   {
    "duration": 9,
    "start_time": "2023-08-31T12:49:29.351Z"
   },
   {
    "duration": 27,
    "start_time": "2023-08-31T12:49:29.362Z"
   },
   {
    "duration": 17,
    "start_time": "2023-08-31T12:49:29.391Z"
   },
   {
    "duration": 26,
    "start_time": "2023-08-31T12:49:29.410Z"
   },
   {
    "duration": 43,
    "start_time": "2023-08-31T12:49:29.438Z"
   },
   {
    "duration": 12,
    "start_time": "2023-08-31T12:49:29.482Z"
   },
   {
    "duration": 23,
    "start_time": "2023-08-31T12:49:29.495Z"
   },
   {
    "duration": 13,
    "start_time": "2023-08-31T12:49:29.519Z"
   },
   {
    "duration": 14,
    "start_time": "2023-08-31T12:49:29.533Z"
   },
   {
    "duration": 25,
    "start_time": "2023-08-31T12:49:29.549Z"
   },
   {
    "duration": 20,
    "start_time": "2023-08-31T12:49:29.577Z"
   },
   {
    "duration": 7,
    "start_time": "2023-08-31T12:49:29.598Z"
   },
   {
    "duration": 16,
    "start_time": "2023-08-31T12:49:29.607Z"
   },
   {
    "duration": 12,
    "start_time": "2023-08-31T12:49:29.625Z"
   },
   {
    "duration": 17,
    "start_time": "2023-08-31T12:49:29.639Z"
   },
   {
    "duration": 18,
    "start_time": "2023-08-31T12:49:29.658Z"
   },
   {
    "duration": 11,
    "start_time": "2023-08-31T12:49:29.677Z"
   },
   {
    "duration": 24,
    "start_time": "2023-08-31T12:49:29.690Z"
   },
   {
    "duration": 18,
    "start_time": "2023-08-31T12:49:29.718Z"
   },
   {
    "duration": 576,
    "start_time": "2023-08-31T12:49:29.738Z"
   },
   {
    "duration": 32,
    "start_time": "2023-08-31T12:49:30.316Z"
   },
   {
    "duration": 140,
    "start_time": "2023-08-31T12:49:30.350Z"
   },
   {
    "duration": 10,
    "start_time": "2023-08-31T12:49:30.492Z"
   },
   {
    "duration": 254,
    "start_time": "2023-08-31T12:49:30.503Z"
   },
   {
    "duration": 34,
    "start_time": "2023-08-31T12:49:30.760Z"
   },
   {
    "duration": 48,
    "start_time": "2023-08-31T12:49:30.796Z"
   },
   {
    "duration": 215,
    "start_time": "2023-08-31T12:49:30.846Z"
   },
   {
    "duration": 31,
    "start_time": "2023-08-31T12:49:31.064Z"
   },
   {
    "duration": 45,
    "start_time": "2023-08-31T12:49:31.097Z"
   },
   {
    "duration": 265,
    "start_time": "2023-08-31T12:49:31.143Z"
   },
   {
    "duration": 5,
    "start_time": "2023-08-31T12:49:31.410Z"
   },
   {
    "duration": 61,
    "start_time": "2023-08-31T12:49:31.417Z"
   },
   {
    "duration": 136,
    "start_time": "2023-08-31T12:49:31.480Z"
   },
   {
    "duration": 0,
    "start_time": "2023-08-31T12:49:31.618Z"
   },
   {
    "duration": 0,
    "start_time": "2023-08-31T12:49:31.619Z"
   },
   {
    "duration": 15,
    "start_time": "2023-08-31T13:02:42.633Z"
   },
   {
    "duration": 40,
    "start_time": "2023-08-31T13:02:51.859Z"
   },
   {
    "duration": 315,
    "start_time": "2023-08-31T13:03:03.368Z"
   },
   {
    "duration": 302,
    "start_time": "2023-08-31T13:03:47.475Z"
   },
   {
    "duration": 33,
    "start_time": "2023-08-31T13:52:52.685Z"
   },
   {
    "duration": 46,
    "start_time": "2023-08-31T13:53:43.066Z"
   },
   {
    "duration": 49,
    "start_time": "2023-08-31T13:53:53.727Z"
   },
   {
    "duration": 43,
    "start_time": "2023-08-31T13:55:04.141Z"
   },
   {
    "duration": 41,
    "start_time": "2023-08-31T13:55:36.018Z"
   },
   {
    "duration": 30,
    "start_time": "2023-08-31T13:55:47.480Z"
   },
   {
    "duration": 35,
    "start_time": "2023-08-31T13:56:02.637Z"
   },
   {
    "duration": 26,
    "start_time": "2023-08-31T13:56:37.499Z"
   },
   {
    "duration": 276,
    "start_time": "2023-08-31T14:05:02.716Z"
   },
   {
    "duration": 1302,
    "start_time": "2023-08-31T14:05:21.297Z"
   },
   {
    "duration": 1037,
    "start_time": "2023-08-31T14:05:22.601Z"
   },
   {
    "duration": 93,
    "start_time": "2023-08-31T14:05:23.641Z"
   },
   {
    "duration": 91,
    "start_time": "2023-08-31T14:05:23.736Z"
   },
   {
    "duration": 330,
    "start_time": "2023-08-31T14:05:23.828Z"
   },
   {
    "duration": 16,
    "start_time": "2023-08-31T14:05:24.160Z"
   },
   {
    "duration": 234,
    "start_time": "2023-08-31T14:05:24.178Z"
   },
   {
    "duration": 134,
    "start_time": "2023-08-31T14:05:24.414Z"
   },
   {
    "duration": 20,
    "start_time": "2023-08-31T14:05:24.550Z"
   },
   {
    "duration": 11,
    "start_time": "2023-08-31T14:05:24.575Z"
   },
   {
    "duration": 14,
    "start_time": "2023-08-31T14:05:24.588Z"
   },
   {
    "duration": 11,
    "start_time": "2023-08-31T14:05:24.604Z"
   },
   {
    "duration": 72,
    "start_time": "2023-08-31T14:05:24.617Z"
   },
   {
    "duration": 70,
    "start_time": "2023-08-31T14:05:24.691Z"
   },
   {
    "duration": 17,
    "start_time": "2023-08-31T14:05:24.766Z"
   },
   {
    "duration": 6,
    "start_time": "2023-08-31T14:05:24.785Z"
   },
   {
    "duration": 19,
    "start_time": "2023-08-31T14:05:24.793Z"
   },
   {
    "duration": 11,
    "start_time": "2023-08-31T14:05:24.814Z"
   },
   {
    "duration": 22,
    "start_time": "2023-08-31T14:05:24.827Z"
   },
   {
    "duration": 37,
    "start_time": "2023-08-31T14:05:24.851Z"
   },
   {
    "duration": 9,
    "start_time": "2023-08-31T14:05:24.890Z"
   },
   {
    "duration": 14,
    "start_time": "2023-08-31T14:05:24.901Z"
   },
   {
    "duration": 18,
    "start_time": "2023-08-31T14:05:24.916Z"
   },
   {
    "duration": 19,
    "start_time": "2023-08-31T14:05:24.936Z"
   },
   {
    "duration": 16,
    "start_time": "2023-08-31T14:05:24.957Z"
   },
   {
    "duration": 27,
    "start_time": "2023-08-31T14:05:24.975Z"
   },
   {
    "duration": 18,
    "start_time": "2023-08-31T14:05:25.004Z"
   },
   {
    "duration": 56,
    "start_time": "2023-08-31T14:05:25.025Z"
   },
   {
    "duration": 691,
    "start_time": "2023-08-31T14:05:25.082Z"
   },
   {
    "duration": 38,
    "start_time": "2023-08-31T14:05:25.780Z"
   },
   {
    "duration": 84,
    "start_time": "2023-08-31T14:05:25.820Z"
   },
   {
    "duration": 11,
    "start_time": "2023-08-31T14:05:25.907Z"
   },
   {
    "duration": 259,
    "start_time": "2023-08-31T14:05:25.919Z"
   },
   {
    "duration": 29,
    "start_time": "2023-08-31T14:05:26.181Z"
   },
   {
    "duration": 31,
    "start_time": "2023-08-31T14:05:26.212Z"
   },
   {
    "duration": 231,
    "start_time": "2023-08-31T14:05:26.245Z"
   },
   {
    "duration": 31,
    "start_time": "2023-08-31T14:05:26.479Z"
   },
   {
    "duration": 45,
    "start_time": "2023-08-31T14:05:26.511Z"
   },
   {
    "duration": 326,
    "start_time": "2023-08-31T14:05:26.559Z"
   },
   {
    "duration": 5,
    "start_time": "2023-08-31T14:05:26.886Z"
   },
   {
    "duration": 90,
    "start_time": "2023-08-31T14:05:26.893Z"
   },
   {
    "duration": 341,
    "start_time": "2023-08-31T14:05:26.985Z"
   },
   {
    "duration": 380,
    "start_time": "2023-08-31T14:05:27.327Z"
   },
   {
    "duration": 49,
    "start_time": "2023-08-31T14:05:27.709Z"
   },
   {
    "duration": 35,
    "start_time": "2023-08-31T14:05:27.766Z"
   },
   {
    "duration": 31,
    "start_time": "2023-08-31T14:08:02.653Z"
   },
   {
    "duration": 1878,
    "start_time": "2023-08-31T14:09:00.269Z"
   },
   {
    "duration": 1652,
    "start_time": "2023-08-31T14:09:16.683Z"
   },
   {
    "duration": 2706,
    "start_time": "2023-08-31T14:22:35.561Z"
   },
   {
    "duration": 2016,
    "start_time": "2023-08-31T14:23:07.754Z"
   },
   {
    "duration": 2165,
    "start_time": "2023-08-31T14:23:29.830Z"
   },
   {
    "duration": 1719,
    "start_time": "2023-08-31T14:33:13.444Z"
   },
   {
    "duration": 1427,
    "start_time": "2023-08-31T14:34:46.714Z"
   },
   {
    "duration": 1190,
    "start_time": "2023-08-31T14:34:48.144Z"
   },
   {
    "duration": 92,
    "start_time": "2023-08-31T14:34:49.336Z"
   },
   {
    "duration": 93,
    "start_time": "2023-08-31T14:34:49.430Z"
   },
   {
    "duration": 346,
    "start_time": "2023-08-31T14:34:49.525Z"
   },
   {
    "duration": 12,
    "start_time": "2023-08-31T14:34:49.873Z"
   },
   {
    "duration": 368,
    "start_time": "2023-08-31T14:34:49.887Z"
   },
   {
    "duration": 138,
    "start_time": "2023-08-31T14:34:50.257Z"
   },
   {
    "duration": 13,
    "start_time": "2023-08-31T14:34:50.399Z"
   },
   {
    "duration": 12,
    "start_time": "2023-08-31T14:34:50.415Z"
   },
   {
    "duration": 36,
    "start_time": "2023-08-31T14:34:50.429Z"
   },
   {
    "duration": 30,
    "start_time": "2023-08-31T14:34:50.467Z"
   },
   {
    "duration": 31,
    "start_time": "2023-08-31T14:34:50.499Z"
   },
   {
    "duration": 100,
    "start_time": "2023-08-31T14:34:50.532Z"
   },
   {
    "duration": 22,
    "start_time": "2023-08-31T14:34:50.634Z"
   },
   {
    "duration": 38,
    "start_time": "2023-08-31T14:34:50.659Z"
   },
   {
    "duration": 31,
    "start_time": "2023-08-31T14:34:50.700Z"
   },
   {
    "duration": 25,
    "start_time": "2023-08-31T14:34:50.733Z"
   },
   {
    "duration": 50,
    "start_time": "2023-08-31T14:34:50.761Z"
   },
   {
    "duration": 84,
    "start_time": "2023-08-31T14:34:50.814Z"
   },
   {
    "duration": 11,
    "start_time": "2023-08-31T14:34:50.900Z"
   },
   {
    "duration": 41,
    "start_time": "2023-08-31T14:34:50.913Z"
   },
   {
    "duration": 72,
    "start_time": "2023-08-31T14:34:50.956Z"
   },
   {
    "duration": 64,
    "start_time": "2023-08-31T14:34:51.030Z"
   },
   {
    "duration": 56,
    "start_time": "2023-08-31T14:34:51.096Z"
   },
   {
    "duration": 43,
    "start_time": "2023-08-31T14:34:51.154Z"
   },
   {
    "duration": 31,
    "start_time": "2023-08-31T14:34:51.199Z"
   },
   {
    "duration": 40,
    "start_time": "2023-08-31T14:34:51.235Z"
   },
   {
    "duration": 622,
    "start_time": "2023-08-31T14:34:51.276Z"
   },
   {
    "duration": 25,
    "start_time": "2023-08-31T14:34:51.900Z"
   },
   {
    "duration": 74,
    "start_time": "2023-08-31T14:34:51.927Z"
   },
   {
    "duration": 9,
    "start_time": "2023-08-31T14:34:52.003Z"
   },
   {
    "duration": 259,
    "start_time": "2023-08-31T14:34:52.014Z"
   },
   {
    "duration": 30,
    "start_time": "2023-08-31T14:34:52.275Z"
   },
   {
    "duration": 21,
    "start_time": "2023-08-31T14:34:52.308Z"
   },
   {
    "duration": 230,
    "start_time": "2023-08-31T14:34:52.331Z"
   },
   {
    "duration": 44,
    "start_time": "2023-08-31T14:34:52.564Z"
   },
   {
    "duration": 12,
    "start_time": "2023-08-31T14:34:52.610Z"
   },
   {
    "duration": 398,
    "start_time": "2023-08-31T14:34:52.624Z"
   },
   {
    "duration": 6,
    "start_time": "2023-08-31T14:34:53.024Z"
   },
   {
    "duration": 32,
    "start_time": "2023-08-31T14:34:53.050Z"
   },
   {
    "duration": 386,
    "start_time": "2023-08-31T14:34:53.090Z"
   },
   {
    "duration": 346,
    "start_time": "2023-08-31T14:34:53.478Z"
   },
   {
    "duration": 56,
    "start_time": "2023-08-31T14:34:53.825Z"
   },
   {
    "duration": 39,
    "start_time": "2023-08-31T14:34:53.883Z"
   },
   {
    "duration": 40,
    "start_time": "2023-08-31T14:34:53.924Z"
   },
   {
    "duration": 2019,
    "start_time": "2023-08-31T14:34:53.967Z"
   },
   {
    "duration": 2228,
    "start_time": "2023-08-31T14:34:55.988Z"
   },
   {
    "duration": 2276,
    "start_time": "2023-08-31T14:34:58.218Z"
   },
   {
    "duration": 2814,
    "start_time": "2023-08-31T14:35:00.497Z"
   },
   {
    "duration": 2687,
    "start_time": "2023-08-31T14:54:13.482Z"
   },
   {
    "duration": 1373,
    "start_time": "2023-08-31T14:58:46.879Z"
   },
   {
    "duration": 1362,
    "start_time": "2023-08-31T14:59:01.486Z"
   },
   {
    "duration": 1530,
    "start_time": "2023-08-31T14:59:15.413Z"
   },
   {
    "duration": 1459,
    "start_time": "2023-08-31T14:59:42.025Z"
   },
   {
    "duration": 1475,
    "start_time": "2023-08-31T15:05:22.502Z"
   },
   {
    "duration": 733,
    "start_time": "2023-08-31T15:11:17.575Z"
   },
   {
    "duration": 1325,
    "start_time": "2023-08-31T15:12:22.358Z"
   },
   {
    "duration": 1314,
    "start_time": "2023-08-31T15:28:11.911Z"
   },
   {
    "duration": 1209,
    "start_time": "2023-08-31T15:28:13.227Z"
   },
   {
    "duration": 109,
    "start_time": "2023-08-31T15:28:14.438Z"
   },
   {
    "duration": 78,
    "start_time": "2023-08-31T15:28:14.549Z"
   },
   {
    "duration": 317,
    "start_time": "2023-08-31T15:28:14.630Z"
   },
   {
    "duration": 17,
    "start_time": "2023-08-31T15:28:14.949Z"
   },
   {
    "duration": 234,
    "start_time": "2023-08-31T15:28:14.968Z"
   },
   {
    "duration": 156,
    "start_time": "2023-08-31T15:28:15.204Z"
   },
   {
    "duration": 16,
    "start_time": "2023-08-31T15:28:15.363Z"
   },
   {
    "duration": 13,
    "start_time": "2023-08-31T15:28:15.381Z"
   },
   {
    "duration": 39,
    "start_time": "2023-08-31T15:28:15.395Z"
   },
   {
    "duration": 26,
    "start_time": "2023-08-31T15:28:15.436Z"
   },
   {
    "duration": 21,
    "start_time": "2023-08-31T15:28:15.467Z"
   },
   {
    "duration": 79,
    "start_time": "2023-08-31T15:28:15.492Z"
   },
   {
    "duration": 11,
    "start_time": "2023-08-31T15:28:15.573Z"
   },
   {
    "duration": 27,
    "start_time": "2023-08-31T15:28:15.586Z"
   },
   {
    "duration": 6,
    "start_time": "2023-08-31T15:28:15.615Z"
   },
   {
    "duration": 9,
    "start_time": "2023-08-31T15:28:15.623Z"
   },
   {
    "duration": 15,
    "start_time": "2023-08-31T15:28:15.633Z"
   },
   {
    "duration": 39,
    "start_time": "2023-08-31T15:28:15.650Z"
   },
   {
    "duration": 8,
    "start_time": "2023-08-31T15:28:15.691Z"
   },
   {
    "duration": 16,
    "start_time": "2023-08-31T15:28:15.701Z"
   },
   {
    "duration": 27,
    "start_time": "2023-08-31T15:28:15.719Z"
   },
   {
    "duration": 35,
    "start_time": "2023-08-31T15:28:15.753Z"
   },
   {
    "duration": 10,
    "start_time": "2023-08-31T15:28:15.791Z"
   },
   {
    "duration": 18,
    "start_time": "2023-08-31T15:28:15.803Z"
   },
   {
    "duration": 27,
    "start_time": "2023-08-31T15:28:15.824Z"
   },
   {
    "duration": 19,
    "start_time": "2023-08-31T15:28:15.854Z"
   },
   {
    "duration": 610,
    "start_time": "2023-08-31T15:28:15.876Z"
   },
   {
    "duration": 23,
    "start_time": "2023-08-31T15:28:16.487Z"
   },
   {
    "duration": 75,
    "start_time": "2023-08-31T15:28:16.512Z"
   },
   {
    "duration": 10,
    "start_time": "2023-08-31T15:28:16.588Z"
   },
   {
    "duration": 223,
    "start_time": "2023-08-31T15:28:16.599Z"
   },
   {
    "duration": 35,
    "start_time": "2023-08-31T15:28:16.824Z"
   },
   {
    "duration": 11,
    "start_time": "2023-08-31T15:28:16.861Z"
   },
   {
    "duration": 201,
    "start_time": "2023-08-31T15:28:16.874Z"
   },
   {
    "duration": 31,
    "start_time": "2023-08-31T15:28:17.076Z"
   },
   {
    "duration": 23,
    "start_time": "2023-08-31T15:28:17.109Z"
   },
   {
    "duration": 290,
    "start_time": "2023-08-31T15:28:17.134Z"
   },
   {
    "duration": 5,
    "start_time": "2023-08-31T15:28:17.426Z"
   },
   {
    "duration": 28,
    "start_time": "2023-08-31T15:28:17.446Z"
   },
   {
    "duration": 349,
    "start_time": "2023-08-31T15:28:17.476Z"
   },
   {
    "duration": 361,
    "start_time": "2023-08-31T15:28:17.826Z"
   },
   {
    "duration": 33,
    "start_time": "2023-08-31T15:28:18.188Z"
   },
   {
    "duration": 44,
    "start_time": "2023-08-31T15:28:18.223Z"
   },
   {
    "duration": 16,
    "start_time": "2023-08-31T15:28:18.269Z"
   },
   {
    "duration": 1924,
    "start_time": "2023-08-31T15:28:18.287Z"
   },
   {
    "duration": 2179,
    "start_time": "2023-08-31T15:28:20.213Z"
   },
   {
    "duration": 2212,
    "start_time": "2023-08-31T15:28:22.394Z"
   },
   {
    "duration": 2679,
    "start_time": "2023-08-31T15:28:24.608Z"
   },
   {
    "duration": 1438,
    "start_time": "2023-08-31T15:28:27.289Z"
   },
   {
    "duration": 860,
    "start_time": "2023-08-31T15:28:28.729Z"
   },
   {
    "duration": 1284,
    "start_time": "2023-08-31T15:28:29.591Z"
   },
   {
    "duration": 1446,
    "start_time": "2023-08-31T18:53:41.412Z"
   },
   {
    "duration": 877,
    "start_time": "2023-08-31T18:53:42.860Z"
   },
   {
    "duration": 72,
    "start_time": "2023-08-31T18:53:43.739Z"
   },
   {
    "duration": 66,
    "start_time": "2023-08-31T18:53:43.813Z"
   },
   {
    "duration": 272,
    "start_time": "2023-08-31T18:53:43.881Z"
   },
   {
    "duration": 10,
    "start_time": "2023-08-31T18:53:44.155Z"
   },
   {
    "duration": 197,
    "start_time": "2023-08-31T18:53:44.167Z"
   },
   {
    "duration": 318,
    "start_time": "2023-08-31T18:53:44.366Z"
   },
   {
    "duration": 13,
    "start_time": "2023-08-31T18:53:44.685Z"
   },
   {
    "duration": 8,
    "start_time": "2023-08-31T18:53:44.701Z"
   },
   {
    "duration": 15,
    "start_time": "2023-08-31T18:53:44.712Z"
   },
   {
    "duration": 10,
    "start_time": "2023-08-31T18:53:44.729Z"
   },
   {
    "duration": 19,
    "start_time": "2023-08-31T18:53:44.741Z"
   },
   {
    "duration": 207,
    "start_time": "2023-08-31T18:53:44.762Z"
   },
   {
    "duration": 11,
    "start_time": "2023-08-31T18:53:44.970Z"
   },
   {
    "duration": 8,
    "start_time": "2023-08-31T18:53:44.983Z"
   },
   {
    "duration": 9,
    "start_time": "2023-08-31T18:53:44.993Z"
   },
   {
    "duration": 9,
    "start_time": "2023-08-31T18:53:45.004Z"
   },
   {
    "duration": 38,
    "start_time": "2023-08-31T18:53:45.016Z"
   },
   {
    "duration": 20,
    "start_time": "2023-08-31T18:53:45.056Z"
   },
   {
    "duration": 13,
    "start_time": "2023-08-31T18:53:45.078Z"
   },
   {
    "duration": 6,
    "start_time": "2023-08-31T18:53:45.093Z"
   },
   {
    "duration": 9,
    "start_time": "2023-08-31T18:53:45.101Z"
   },
   {
    "duration": 9,
    "start_time": "2023-08-31T18:53:45.112Z"
   },
   {
    "duration": 11,
    "start_time": "2023-08-31T18:53:45.123Z"
   },
   {
    "duration": 9,
    "start_time": "2023-08-31T18:53:45.135Z"
   },
   {
    "duration": 15,
    "start_time": "2023-08-31T18:53:45.146Z"
   },
   {
    "duration": 17,
    "start_time": "2023-08-31T18:53:45.167Z"
   },
   {
    "duration": 543,
    "start_time": "2023-08-31T18:53:45.210Z"
   },
   {
    "duration": 22,
    "start_time": "2023-08-31T18:53:45.755Z"
   },
   {
    "duration": 65,
    "start_time": "2023-08-31T18:53:45.779Z"
   },
   {
    "duration": 10,
    "start_time": "2023-08-31T18:53:45.846Z"
   },
   {
    "duration": 212,
    "start_time": "2023-08-31T18:53:45.857Z"
   },
   {
    "duration": 40,
    "start_time": "2023-08-31T18:53:46.071Z"
   },
   {
    "duration": 12,
    "start_time": "2023-08-31T18:53:46.113Z"
   },
   {
    "duration": 189,
    "start_time": "2023-08-31T18:53:46.128Z"
   },
   {
    "duration": 28,
    "start_time": "2023-08-31T18:53:46.319Z"
   },
   {
    "duration": 10,
    "start_time": "2023-08-31T18:53:46.349Z"
   },
   {
    "duration": 274,
    "start_time": "2023-08-31T18:53:46.360Z"
   },
   {
    "duration": 4,
    "start_time": "2023-08-31T18:53:46.635Z"
   },
   {
    "duration": 17,
    "start_time": "2023-08-31T18:53:46.641Z"
   },
   {
    "duration": 331,
    "start_time": "2023-08-31T18:53:46.660Z"
   },
   {
    "duration": 303,
    "start_time": "2023-08-31T18:53:46.993Z"
   },
   {
    "duration": 37,
    "start_time": "2023-08-31T18:53:47.298Z"
   },
   {
    "duration": 26,
    "start_time": "2023-08-31T18:53:47.337Z"
   },
   {
    "duration": 15,
    "start_time": "2023-08-31T18:53:47.365Z"
   },
   {
    "duration": 1772,
    "start_time": "2023-08-31T18:53:47.382Z"
   },
   {
    "duration": 1905,
    "start_time": "2023-08-31T18:53:49.155Z"
   },
   {
    "duration": 2155,
    "start_time": "2023-08-31T18:53:51.062Z"
   },
   {
    "duration": 2463,
    "start_time": "2023-08-31T18:53:53.219Z"
   },
   {
    "duration": 1316,
    "start_time": "2023-08-31T18:53:55.684Z"
   },
   {
    "duration": 741,
    "start_time": "2023-08-31T18:53:57.008Z"
   },
   {
    "duration": 1177,
    "start_time": "2023-08-31T18:53:57.751Z"
   },
   {
    "duration": 49,
    "start_time": "2023-09-01T11:24:46.245Z"
   },
   {
    "duration": 1469,
    "start_time": "2023-09-01T11:24:52.850Z"
   },
   {
    "duration": 1053,
    "start_time": "2023-09-01T11:24:54.321Z"
   },
   {
    "duration": 62,
    "start_time": "2023-09-01T11:24:55.376Z"
   },
   {
    "duration": 62,
    "start_time": "2023-09-01T11:24:55.458Z"
   },
   {
    "duration": 287,
    "start_time": "2023-09-01T11:24:55.521Z"
   },
   {
    "duration": 10,
    "start_time": "2023-09-01T11:24:55.810Z"
   },
   {
    "duration": 188,
    "start_time": "2023-09-01T11:24:55.822Z"
   },
   {
    "duration": 135,
    "start_time": "2023-09-01T11:24:56.012Z"
   },
   {
    "duration": 13,
    "start_time": "2023-09-01T11:24:56.149Z"
   },
   {
    "duration": 40,
    "start_time": "2023-09-01T11:24:56.164Z"
   },
   {
    "duration": 39,
    "start_time": "2023-09-01T11:24:56.206Z"
   },
   {
    "duration": 13,
    "start_time": "2023-09-01T11:24:56.247Z"
   },
   {
    "duration": 55,
    "start_time": "2023-09-01T11:24:56.262Z"
   },
   {
    "duration": 92,
    "start_time": "2023-09-01T11:24:56.319Z"
   },
   {
    "duration": 11,
    "start_time": "2023-09-01T11:24:56.412Z"
   },
   {
    "duration": 47,
    "start_time": "2023-09-01T11:24:56.425Z"
   },
   {
    "duration": 32,
    "start_time": "2023-09-01T11:24:56.474Z"
   },
   {
    "duration": 17,
    "start_time": "2023-09-01T11:24:56.508Z"
   },
   {
    "duration": 20,
    "start_time": "2023-09-01T11:24:56.527Z"
   },
   {
    "duration": 23,
    "start_time": "2023-09-01T11:24:56.549Z"
   },
   {
    "duration": 6,
    "start_time": "2023-09-01T11:24:56.573Z"
   },
   {
    "duration": 10,
    "start_time": "2023-09-01T11:24:56.581Z"
   },
   {
    "duration": 36,
    "start_time": "2023-09-01T11:24:56.593Z"
   },
   {
    "duration": 35,
    "start_time": "2023-09-01T11:24:56.632Z"
   },
   {
    "duration": 33,
    "start_time": "2023-09-01T11:24:56.669Z"
   },
   {
    "duration": 20,
    "start_time": "2023-09-01T11:24:56.705Z"
   },
   {
    "duration": 34,
    "start_time": "2023-09-01T11:24:56.728Z"
   },
   {
    "duration": 20,
    "start_time": "2023-09-01T11:24:56.766Z"
   },
   {
    "duration": 537,
    "start_time": "2023-09-01T11:24:56.788Z"
   },
   {
    "duration": 18,
    "start_time": "2023-09-01T11:24:57.327Z"
   },
   {
    "duration": 39,
    "start_time": "2023-09-01T11:24:57.357Z"
   },
   {
    "duration": 9,
    "start_time": "2023-09-01T11:24:57.398Z"
   },
   {
    "duration": 212,
    "start_time": "2023-09-01T11:24:57.408Z"
   },
   {
    "duration": 36,
    "start_time": "2023-09-01T11:24:57.622Z"
   },
   {
    "duration": 9,
    "start_time": "2023-09-01T11:24:57.662Z"
   },
   {
    "duration": 177,
    "start_time": "2023-09-01T11:24:57.673Z"
   },
   {
    "duration": 37,
    "start_time": "2023-09-01T11:24:57.856Z"
   },
   {
    "duration": 11,
    "start_time": "2023-09-01T11:24:57.895Z"
   },
   {
    "duration": 306,
    "start_time": "2023-09-01T11:24:57.908Z"
   },
   {
    "duration": 6,
    "start_time": "2023-09-01T11:24:58.216Z"
   },
   {
    "duration": 35,
    "start_time": "2023-09-01T11:24:58.223Z"
   },
   {
    "duration": 365,
    "start_time": "2023-09-01T11:24:58.260Z"
   },
   {
    "duration": 331,
    "start_time": "2023-09-01T11:24:58.627Z"
   },
   {
    "duration": 39,
    "start_time": "2023-09-01T11:24:58.960Z"
   },
   {
    "duration": 56,
    "start_time": "2023-09-01T11:24:59.001Z"
   },
   {
    "duration": 24,
    "start_time": "2023-09-01T11:24:59.059Z"
   },
   {
    "duration": 1817,
    "start_time": "2023-09-01T11:24:59.085Z"
   },
   {
    "duration": 1896,
    "start_time": "2023-09-01T11:25:00.903Z"
   },
   {
    "duration": 1967,
    "start_time": "2023-09-01T11:25:02.801Z"
   },
   {
    "duration": 2369,
    "start_time": "2023-09-01T11:25:04.771Z"
   },
   {
    "duration": 1252,
    "start_time": "2023-09-01T11:25:07.142Z"
   },
   {
    "duration": 850,
    "start_time": "2023-09-01T11:25:08.397Z"
   },
   {
    "duration": 1175,
    "start_time": "2023-09-01T11:25:09.256Z"
   },
   {
    "duration": 15,
    "start_time": "2023-09-01T11:25:14.779Z"
   },
   {
    "duration": 14,
    "start_time": "2023-09-01T11:25:18.668Z"
   },
   {
    "duration": 22,
    "start_time": "2023-09-01T11:25:28.523Z"
   },
   {
    "duration": 65,
    "start_time": "2023-09-01T11:26:15.799Z"
   },
   {
    "duration": 4,
    "start_time": "2023-09-01T11:27:36.438Z"
   },
   {
    "duration": 15,
    "start_time": "2023-09-01T11:27:41.717Z"
   },
   {
    "duration": 19,
    "start_time": "2023-09-01T11:27:55.481Z"
   },
   {
    "duration": 19,
    "start_time": "2023-09-01T11:29:55.124Z"
   },
   {
    "duration": 27,
    "start_time": "2023-09-01T11:30:01.544Z"
   },
   {
    "duration": 1197,
    "start_time": "2023-09-01T11:30:08.013Z"
   },
   {
    "duration": 907,
    "start_time": "2023-09-01T11:30:09.212Z"
   },
   {
    "duration": 67,
    "start_time": "2023-09-01T11:30:10.120Z"
   },
   {
    "duration": 67,
    "start_time": "2023-09-01T11:30:10.190Z"
   },
   {
    "duration": 275,
    "start_time": "2023-09-01T11:30:10.268Z"
   },
   {
    "duration": 18,
    "start_time": "2023-09-01T11:30:10.545Z"
   },
   {
    "duration": 194,
    "start_time": "2023-09-01T11:30:10.570Z"
   },
   {
    "duration": 139,
    "start_time": "2023-09-01T11:30:10.770Z"
   },
   {
    "duration": 12,
    "start_time": "2023-09-01T11:30:10.911Z"
   },
   {
    "duration": 16,
    "start_time": "2023-09-01T11:30:10.925Z"
   },
   {
    "duration": 20,
    "start_time": "2023-09-01T11:30:10.943Z"
   },
   {
    "duration": 12,
    "start_time": "2023-09-01T11:30:10.965Z"
   },
   {
    "duration": 18,
    "start_time": "2023-09-01T11:30:10.979Z"
   },
   {
    "duration": 35,
    "start_time": "2023-09-01T11:30:10.999Z"
   },
   {
    "duration": 10,
    "start_time": "2023-09-01T11:30:11.036Z"
   },
   {
    "duration": 23,
    "start_time": "2023-09-01T11:30:11.047Z"
   },
   {
    "duration": 11,
    "start_time": "2023-09-01T11:30:11.077Z"
   },
   {
    "duration": 9,
    "start_time": "2023-09-01T11:30:11.090Z"
   },
   {
    "duration": 12,
    "start_time": "2023-09-01T11:30:11.100Z"
   },
   {
    "duration": 16,
    "start_time": "2023-09-01T11:30:11.114Z"
   },
   {
    "duration": 6,
    "start_time": "2023-09-01T11:30:11.132Z"
   },
   {
    "duration": 6,
    "start_time": "2023-09-01T11:30:11.168Z"
   },
   {
    "duration": 8,
    "start_time": "2023-09-01T11:30:11.176Z"
   },
   {
    "duration": 9,
    "start_time": "2023-09-01T11:30:11.185Z"
   },
   {
    "duration": 9,
    "start_time": "2023-09-01T11:30:11.196Z"
   },
   {
    "duration": 17,
    "start_time": "2023-09-01T11:30:11.207Z"
   },
   {
    "duration": 12,
    "start_time": "2023-09-01T11:30:11.226Z"
   },
   {
    "duration": 21,
    "start_time": "2023-09-01T11:30:11.242Z"
   },
   {
    "duration": 518,
    "start_time": "2023-09-01T11:30:11.265Z"
   },
   {
    "duration": 25,
    "start_time": "2023-09-01T11:30:11.785Z"
   },
   {
    "duration": 69,
    "start_time": "2023-09-01T11:30:11.812Z"
   },
   {
    "duration": 10,
    "start_time": "2023-09-01T11:30:11.883Z"
   },
   {
    "duration": 208,
    "start_time": "2023-09-01T11:30:11.894Z"
   },
   {
    "duration": 36,
    "start_time": "2023-09-01T11:30:12.104Z"
   },
   {
    "duration": 21,
    "start_time": "2023-09-01T11:30:12.143Z"
   },
   {
    "duration": 178,
    "start_time": "2023-09-01T11:30:12.166Z"
   },
   {
    "duration": 37,
    "start_time": "2023-09-01T11:30:12.346Z"
   },
   {
    "duration": 11,
    "start_time": "2023-09-01T11:30:12.384Z"
   },
   {
    "duration": 263,
    "start_time": "2023-09-01T11:30:12.397Z"
   },
   {
    "duration": 7,
    "start_time": "2023-09-01T11:30:12.666Z"
   },
   {
    "duration": 29,
    "start_time": "2023-09-01T11:30:12.675Z"
   },
   {
    "duration": 331,
    "start_time": "2023-09-01T11:30:12.706Z"
   },
   {
    "duration": 308,
    "start_time": "2023-09-01T11:30:13.039Z"
   },
   {
    "duration": 38,
    "start_time": "2023-09-01T11:30:13.359Z"
   },
   {
    "duration": 28,
    "start_time": "2023-09-01T11:30:13.399Z"
   },
   {
    "duration": 43,
    "start_time": "2023-09-01T11:30:13.429Z"
   },
   {
    "duration": 1645,
    "start_time": "2023-09-01T11:30:13.474Z"
   },
   {
    "duration": 1818,
    "start_time": "2023-09-01T11:30:15.120Z"
   },
   {
    "duration": 2088,
    "start_time": "2023-09-01T11:30:16.941Z"
   },
   {
    "duration": 2379,
    "start_time": "2023-09-01T11:30:19.031Z"
   },
   {
    "duration": 1261,
    "start_time": "2023-09-01T11:30:21.412Z"
   },
   {
    "duration": 808,
    "start_time": "2023-09-01T11:30:22.676Z"
   },
   {
    "duration": 1199,
    "start_time": "2023-09-01T11:30:23.486Z"
   },
   {
    "duration": 16,
    "start_time": "2023-09-01T11:36:42.872Z"
   },
   {
    "duration": 111,
    "start_time": "2023-09-01T11:37:45.635Z"
   },
   {
    "duration": 14,
    "start_time": "2023-09-01T11:38:02.767Z"
   },
   {
    "duration": 5,
    "start_time": "2023-09-01T11:40:42.408Z"
   },
   {
    "duration": 1209,
    "start_time": "2023-09-01T11:41:14.885Z"
   },
   {
    "duration": 933,
    "start_time": "2023-09-01T11:41:16.097Z"
   },
   {
    "duration": 70,
    "start_time": "2023-09-01T11:41:17.031Z"
   },
   {
    "duration": 60,
    "start_time": "2023-09-01T11:41:17.103Z"
   },
   {
    "duration": 285,
    "start_time": "2023-09-01T11:41:17.166Z"
   },
   {
    "duration": 14,
    "start_time": "2023-09-01T11:41:17.460Z"
   },
   {
    "duration": 194,
    "start_time": "2023-09-01T11:41:17.476Z"
   },
   {
    "duration": 126,
    "start_time": "2023-09-01T11:41:17.672Z"
   },
   {
    "duration": 12,
    "start_time": "2023-09-01T11:41:17.800Z"
   },
   {
    "duration": 10,
    "start_time": "2023-09-01T11:41:17.813Z"
   },
   {
    "duration": 19,
    "start_time": "2023-09-01T11:41:17.825Z"
   },
   {
    "duration": 32,
    "start_time": "2023-09-01T11:41:17.846Z"
   },
   {
    "duration": 23,
    "start_time": "2023-09-01T11:41:17.880Z"
   },
   {
    "duration": 93,
    "start_time": "2023-09-01T11:41:17.906Z"
   },
   {
    "duration": 12,
    "start_time": "2023-09-01T11:41:18.001Z"
   },
   {
    "duration": 107,
    "start_time": "2023-09-01T11:41:18.014Z"
   },
   {
    "duration": 26,
    "start_time": "2023-09-01T11:41:18.122Z"
   },
   {
    "duration": 25,
    "start_time": "2023-09-01T11:41:18.150Z"
   },
   {
    "duration": 34,
    "start_time": "2023-09-01T11:41:18.177Z"
   },
   {
    "duration": 52,
    "start_time": "2023-09-01T11:41:18.213Z"
   },
   {
    "duration": 8,
    "start_time": "2023-09-01T11:41:18.266Z"
   },
   {
    "duration": 31,
    "start_time": "2023-09-01T11:41:18.276Z"
   },
   {
    "duration": 53,
    "start_time": "2023-09-01T11:41:18.308Z"
   },
   {
    "duration": 56,
    "start_time": "2023-09-01T11:41:18.363Z"
   },
   {
    "duration": 36,
    "start_time": "2023-09-01T11:41:18.422Z"
   },
   {
    "duration": 39,
    "start_time": "2023-09-01T11:41:18.460Z"
   },
   {
    "duration": 68,
    "start_time": "2023-09-01T11:41:18.501Z"
   },
   {
    "duration": 39,
    "start_time": "2023-09-01T11:41:18.570Z"
   },
   {
    "duration": 622,
    "start_time": "2023-09-01T11:41:18.611Z"
   },
   {
    "duration": 5,
    "start_time": "2023-09-01T11:41:19.235Z"
   },
   {
    "duration": 64,
    "start_time": "2023-09-01T11:41:19.241Z"
   },
   {
    "duration": 10,
    "start_time": "2023-09-01T11:41:19.307Z"
   },
   {
    "duration": 193,
    "start_time": "2023-09-01T11:41:19.319Z"
   },
   {
    "duration": 45,
    "start_time": "2023-09-01T11:41:19.514Z"
   },
   {
    "duration": 16,
    "start_time": "2023-09-01T11:41:19.561Z"
   },
   {
    "duration": 190,
    "start_time": "2023-09-01T11:41:19.578Z"
   },
   {
    "duration": 29,
    "start_time": "2023-09-01T11:41:19.771Z"
   },
   {
    "duration": 9,
    "start_time": "2023-09-01T11:41:19.802Z"
   },
   {
    "duration": 254,
    "start_time": "2023-09-01T11:41:19.813Z"
   },
   {
    "duration": 6,
    "start_time": "2023-09-01T11:41:20.069Z"
   },
   {
    "duration": 18,
    "start_time": "2023-09-01T11:41:20.078Z"
   },
   {
    "duration": 315,
    "start_time": "2023-09-01T11:41:20.098Z"
   },
   {
    "duration": 301,
    "start_time": "2023-09-01T11:41:20.414Z"
   },
   {
    "duration": 56,
    "start_time": "2023-09-01T11:41:20.716Z"
   },
   {
    "duration": 28,
    "start_time": "2023-09-01T11:41:20.774Z"
   },
   {
    "duration": 35,
    "start_time": "2023-09-01T11:41:20.804Z"
   },
   {
    "duration": 1682,
    "start_time": "2023-09-01T11:41:20.841Z"
   },
   {
    "duration": 2014,
    "start_time": "2023-09-01T11:41:22.525Z"
   },
   {
    "duration": 2052,
    "start_time": "2023-09-01T11:41:24.541Z"
   },
   {
    "duration": 2549,
    "start_time": "2023-09-01T11:41:26.595Z"
   },
   {
    "duration": 1222,
    "start_time": "2023-09-01T11:41:29.147Z"
   },
   {
    "duration": 826,
    "start_time": "2023-09-01T11:41:30.375Z"
   },
   {
    "duration": 1198,
    "start_time": "2023-09-01T11:41:31.203Z"
   },
   {
    "duration": 825,
    "start_time": "2023-09-01T11:57:34.008Z"
   },
   {
    "duration": 1374,
    "start_time": "2023-09-01T12:00:09.178Z"
   },
   {
    "duration": 1150,
    "start_time": "2023-09-01T12:00:10.554Z"
   },
   {
    "duration": 1812,
    "start_time": "2023-09-01T12:00:11.707Z"
   },
   {
    "duration": 1207,
    "start_time": "2023-09-01T13:09:52.392Z"
   },
   {
    "duration": 978,
    "start_time": "2023-09-01T13:09:53.601Z"
   },
   {
    "duration": 56,
    "start_time": "2023-09-01T13:09:54.581Z"
   },
   {
    "duration": 78,
    "start_time": "2023-09-01T13:09:54.639Z"
   },
   {
    "duration": 290,
    "start_time": "2023-09-01T13:09:54.720Z"
   },
   {
    "duration": 11,
    "start_time": "2023-09-01T13:09:55.011Z"
   },
   {
    "duration": 202,
    "start_time": "2023-09-01T13:09:55.024Z"
   },
   {
    "duration": 134,
    "start_time": "2023-09-01T13:09:55.228Z"
   },
   {
    "duration": 13,
    "start_time": "2023-09-01T13:09:55.364Z"
   },
   {
    "duration": 18,
    "start_time": "2023-09-01T13:09:55.378Z"
   },
   {
    "duration": 43,
    "start_time": "2023-09-01T13:09:55.397Z"
   },
   {
    "duration": 9,
    "start_time": "2023-09-01T13:09:55.442Z"
   },
   {
    "duration": 20,
    "start_time": "2023-09-01T13:09:55.452Z"
   },
   {
    "duration": 98,
    "start_time": "2023-09-01T13:09:55.475Z"
   },
   {
    "duration": 11,
    "start_time": "2023-09-01T13:09:55.575Z"
   },
   {
    "duration": 38,
    "start_time": "2023-09-01T13:09:55.587Z"
   },
   {
    "duration": 32,
    "start_time": "2023-09-01T13:09:55.627Z"
   },
   {
    "duration": 30,
    "start_time": "2023-09-01T13:09:55.660Z"
   },
   {
    "duration": 21,
    "start_time": "2023-09-01T13:09:55.692Z"
   },
   {
    "duration": 26,
    "start_time": "2023-09-01T13:09:55.715Z"
   },
   {
    "duration": 6,
    "start_time": "2023-09-01T13:09:55.743Z"
   },
   {
    "duration": 36,
    "start_time": "2023-09-01T13:09:55.751Z"
   },
   {
    "duration": 40,
    "start_time": "2023-09-01T13:09:55.789Z"
   },
   {
    "duration": 61,
    "start_time": "2023-09-01T13:09:55.831Z"
   },
   {
    "duration": 44,
    "start_time": "2023-09-01T13:09:55.894Z"
   },
   {
    "duration": 33,
    "start_time": "2023-09-01T13:09:55.940Z"
   },
   {
    "duration": 32,
    "start_time": "2023-09-01T13:09:55.976Z"
   },
   {
    "duration": 27,
    "start_time": "2023-09-01T13:09:56.010Z"
   },
   {
    "duration": 532,
    "start_time": "2023-09-01T13:09:56.039Z"
   },
   {
    "duration": 5,
    "start_time": "2023-09-01T13:09:56.573Z"
   },
   {
    "duration": 51,
    "start_time": "2023-09-01T13:09:56.580Z"
   },
   {
    "duration": 9,
    "start_time": "2023-09-01T13:09:56.633Z"
   },
   {
    "duration": 211,
    "start_time": "2023-09-01T13:09:56.643Z"
   },
   {
    "duration": 35,
    "start_time": "2023-09-01T13:09:56.856Z"
   },
   {
    "duration": 9,
    "start_time": "2023-09-01T13:09:56.893Z"
   },
   {
    "duration": 221,
    "start_time": "2023-09-01T13:09:56.904Z"
   },
   {
    "duration": 42,
    "start_time": "2023-09-01T13:09:57.128Z"
   },
   {
    "duration": 10,
    "start_time": "2023-09-01T13:09:57.171Z"
   },
   {
    "duration": 255,
    "start_time": "2023-09-01T13:09:57.183Z"
   },
   {
    "duration": 3,
    "start_time": "2023-09-01T13:09:57.440Z"
   },
   {
    "duration": 15,
    "start_time": "2023-09-01T13:09:57.470Z"
   },
   {
    "duration": 298,
    "start_time": "2023-09-01T13:09:57.487Z"
   },
   {
    "duration": 329,
    "start_time": "2023-09-01T13:09:57.787Z"
   },
   {
    "duration": 44,
    "start_time": "2023-09-01T13:09:58.118Z"
   },
   {
    "duration": 53,
    "start_time": "2023-09-01T13:09:58.163Z"
   },
   {
    "duration": 16,
    "start_time": "2023-09-01T13:09:58.218Z"
   },
   {
    "duration": 1649,
    "start_time": "2023-09-01T13:09:58.236Z"
   },
   {
    "duration": 1914,
    "start_time": "2023-09-01T13:09:59.887Z"
   },
   {
    "duration": 1968,
    "start_time": "2023-09-01T13:10:01.804Z"
   },
   {
    "duration": 2439,
    "start_time": "2023-09-01T13:10:03.774Z"
   },
   {
    "duration": 1256,
    "start_time": "2023-09-01T13:10:06.216Z"
   },
   {
    "duration": 805,
    "start_time": "2023-09-01T13:10:07.474Z"
   },
   {
    "duration": 1198,
    "start_time": "2023-09-01T13:10:08.281Z"
   },
   {
    "duration": 754,
    "start_time": "2023-09-01T13:10:09.480Z"
   },
   {
    "duration": 1338,
    "start_time": "2023-09-01T13:10:10.236Z"
   },
   {
    "duration": 1093,
    "start_time": "2023-09-01T13:10:11.575Z"
   },
   {
    "duration": 1705,
    "start_time": "2023-09-01T13:10:12.670Z"
   },
   {
    "duration": 11,
    "start_time": "2023-09-01T14:08:59.680Z"
   },
   {
    "duration": 5,
    "start_time": "2023-09-01T14:09:06.758Z"
   },
   {
    "duration": 9,
    "start_time": "2023-09-01T14:09:31.739Z"
   },
   {
    "duration": 17,
    "start_time": "2023-09-01T14:10:37.079Z"
   }
  ],
  "colab": {
   "provenance": []
  },
  "kernelspec": {
   "display_name": "Python 3 (ipykernel)",
   "language": "python",
   "name": "python3"
  },
  "language_info": {
   "codemirror_mode": {
    "name": "ipython",
    "version": 3
   },
   "file_extension": ".py",
   "mimetype": "text/x-python",
   "name": "python",
   "nbconvert_exporter": "python",
   "pygments_lexer": "ipython3",
   "version": "3.10.9"
  },
  "toc": {
   "base_numbering": 1,
   "nav_menu": {},
   "number_sections": true,
   "sideBar": true,
   "skip_h1_title": true,
   "title_cell": "Table of Contents",
   "title_sidebar": "Contents",
   "toc_cell": false,
   "toc_position": {},
   "toc_section_display": true,
   "toc_window_display": false
  }
 },
 "nbformat": 4,
 "nbformat_minor": 1
}
