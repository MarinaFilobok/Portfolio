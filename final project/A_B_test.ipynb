{
 "cells": [
  {
   "cell_type": "markdown",
   "id": "10de3046",
   "metadata": {},
   "source": [
    "## Оценка результатов A/B-теста"
   ]
  },
  {
   "cell_type": "markdown",
   "id": "2ddd33d4",
   "metadata": {},
   "source": [
    "__Цель исследования:__\n",
    "\n",
    "Проверка корректности проведения A/B-теста и анализ полученных результатов.\n",
    "\n",
    "__Техническое задание__\n",
    "\n",
    "Название теста: recommender_system_test ;\n",
    "\n",
    "Группы: А (контрольная), B (новая платёжная воронка);\n",
    "\n",
    "Дата запуска: 2020-12-07;\n",
    "\n",
    "Дата остановки набора новых пользователей: 2020-12-21;\n",
    "\n",
    "Дата остановки: 2021-01-04;\n",
    "\n",
    "Ожидаемое количество участников теста: 15% новых пользователей из региона EU;\n",
    "\n",
    "Назначение теста: тестирование изменений, связанных с внедрением улучшенной рекомендательной системы;\n",
    "\n",
    "Ожидаемый эффект: за 14 дней с момента регистрации в системе пользователи покажут улучшение каждой метрики не менее, чем на 5 процентных пунктов:\n",
    "- конверсии в просмотр карточек товаров — событие product_page\n",
    "- просмотры корзины — product_cart\n",
    "- покупки — purchase.\n",
    "\n",
    "__Описание данных__\n",
    "\n",
    "/datasets/ab_project_marketing_events.csv — календарь маркетинговых событий на 2020 год;\n",
    "\n",
    "Структура файла:\n",
    "- name — название маркетингового события;\n",
    "- regions — регионы, в которых будет проводиться рекламная кампания;\n",
    "- start_dt — дата начала кампании;\n",
    "- finish_dt — дата завершения кампании.\n",
    "\n",
    "/datasets/final_ab_new_users.csv — все пользователи, зарегистрировавшиеся в интернет-магазине в период с 7 по 21 декабря 2020 года;\n",
    "\n",
    "Структура файла:\n",
    "- user_id — идентификатор пользователя;\n",
    "- first_date — дата регистрации;\n",
    "- region — регион пользователя;\n",
    "- device — устройство, с которого происходила регистрация.\n",
    "\n",
    "/datasets/final_ab_events.csv — все события новых пользователей в период с 7 декабря 2020 по 4 января 2021 года;\n",
    "\n",
    "Структура файла:\n",
    "- user_id — идентификатор пользователя;\n",
    "- event_dt — дата и время события;\n",
    "- event_name — тип события;\n",
    "- details — дополнительные данные о событии. Например, для покупок, purchase, в этом поле хранится стоимость покупки в долларах.\n",
    "\n",
    "/datasets/final_ab_participants.csv — таблица участников тестов.\n",
    "\n",
    "Структура файла:\n",
    "- user_id — идентификатор пользователя;\n",
    "- ab_test — название теста;\n",
    "- group — группа пользователя.\n",
    "\n",
    "Наша работа будет состоять из 7 шагов:\n",
    "\n",
    "1. Загрузка данных\n",
    "2. Предобработка данных\n",
    "3. Соответствие данный ТЗ\n",
    "4. Продуктовая воронка\n",
    "5. Исследовательский анализ данных\n",
    "6. Оценка A/B-теста\n",
    "7. Общий вывод и рекомендации \n",
    "\n",
    "В итоге работы мы оценим результат A/B-теста и напишем рекомендации к дальнейшей работе. "
   ]
  },
  {
   "cell_type": "markdown",
   "id": "e55e5653",
   "metadata": {},
   "source": [
    "## Загрузка данных и импорт необходимых библиотек."
   ]
  },
  {
   "cell_type": "code",
   "execution_count": 1,
   "id": "e7dd2fae",
   "metadata": {},
   "outputs": [],
   "source": [
    "#Аналитика\n",
    "import pandas as pd\n",
    "import numpy as np \n",
    "import datetime as dt\n",
    "from datetime import datetime, timedelta\n",
    "import math\n",
    "import scipy.stats as stats\n",
    "from scipy import stats as st\n",
    "\n",
    "#Визуализация \n",
    "import seaborn as sns\n",
    "import matplotlib.pyplot as plt\n",
    "from plotly.graph_objs import Scatter, Figure, Layout\n",
    "import plotly\n",
    "import plotly.graph_objs as go\n",
    "import plotly.express as px\n",
    "\n",
    "# для игнорирования предупреждений\n",
    "import warnings\n",
    "warnings.filterwarnings('ignore')\n",
    "\n",
    "# увеличим количество символов, которые можно показывать\n",
    "pd.options.display.max_colwidth = 150\n",
    "# выставляем ограничение на показ знаков после запятой\n",
    "pd.options.display.float_format = '{:,.3f}'.format"
   ]
  },
  {
   "cell_type": "code",
   "execution_count": 2,
   "id": "8ed96835",
   "metadata": {},
   "outputs": [],
   "source": [
    "#Откроем файлы.\n",
    "try:\n",
    "    marketing, users, events, participants  = (\n",
    "        pd.read_csv('/datasets/ab_project_marketing_events.csv'),\n",
    "        pd.read_csv('/datasets/final_ab_new_users.csv'),\n",
    "        pd.read_csv('/datasets/final_ab_events.csv'),\n",
    "        pd.read_csv('/datasets/final_ab_participants.csv'))\n",
    "\n",
    "except:\n",
    "    marketing, users, events, participants = (\n",
    "        pd.read_csv('ab_project_marketing_events.csv'),\n",
    "        pd.read_csv('final_ab_new_users.csv'),\n",
    "        pd.read_csv('final_ab_events.csv'),\n",
    "        pd.read_csv('final_ab_participants.csv'))"
   ]
  },
  {
   "cell_type": "markdown",
   "id": "0635e900",
   "metadata": {},
   "source": [
    "## Предобработка данных."
   ]
  },
  {
   "cell_type": "code",
   "execution_count": 3,
   "id": "c85ca62e",
   "metadata": {},
   "outputs": [
    {
     "data": {
      "text/html": [
       "<div>\n",
       "<style scoped>\n",
       "    .dataframe tbody tr th:only-of-type {\n",
       "        vertical-align: middle;\n",
       "    }\n",
       "\n",
       "    .dataframe tbody tr th {\n",
       "        vertical-align: top;\n",
       "    }\n",
       "\n",
       "    .dataframe thead th {\n",
       "        text-align: right;\n",
       "    }\n",
       "</style>\n",
       "<table border=\"1\" class=\"dataframe\">\n",
       "  <thead>\n",
       "    <tr style=\"text-align: right;\">\n",
       "      <th></th>\n",
       "      <th>name</th>\n",
       "      <th>regions</th>\n",
       "      <th>start_dt</th>\n",
       "      <th>finish_dt</th>\n",
       "    </tr>\n",
       "  </thead>\n",
       "  <tbody>\n",
       "    <tr>\n",
       "      <th>0</th>\n",
       "      <td>Christmas&amp;New Year Promo</td>\n",
       "      <td>EU, N.America</td>\n",
       "      <td>2020-12-25</td>\n",
       "      <td>2021-01-03</td>\n",
       "    </tr>\n",
       "    <tr>\n",
       "      <th>1</th>\n",
       "      <td>St. Valentine's Day Giveaway</td>\n",
       "      <td>EU, CIS, APAC, N.America</td>\n",
       "      <td>2020-02-14</td>\n",
       "      <td>2020-02-16</td>\n",
       "    </tr>\n",
       "    <tr>\n",
       "      <th>2</th>\n",
       "      <td>St. Patric's Day Promo</td>\n",
       "      <td>EU, N.America</td>\n",
       "      <td>2020-03-17</td>\n",
       "      <td>2020-03-19</td>\n",
       "    </tr>\n",
       "    <tr>\n",
       "      <th>3</th>\n",
       "      <td>Easter Promo</td>\n",
       "      <td>EU, CIS, APAC, N.America</td>\n",
       "      <td>2020-04-12</td>\n",
       "      <td>2020-04-19</td>\n",
       "    </tr>\n",
       "    <tr>\n",
       "      <th>4</th>\n",
       "      <td>4th of July Promo</td>\n",
       "      <td>N.America</td>\n",
       "      <td>2020-07-04</td>\n",
       "      <td>2020-07-11</td>\n",
       "    </tr>\n",
       "    <tr>\n",
       "      <th>5</th>\n",
       "      <td>Black Friday Ads Campaign</td>\n",
       "      <td>EU, CIS, APAC, N.America</td>\n",
       "      <td>2020-11-26</td>\n",
       "      <td>2020-12-01</td>\n",
       "    </tr>\n",
       "    <tr>\n",
       "      <th>6</th>\n",
       "      <td>Chinese New Year Promo</td>\n",
       "      <td>APAC</td>\n",
       "      <td>2020-01-25</td>\n",
       "      <td>2020-02-07</td>\n",
       "    </tr>\n",
       "    <tr>\n",
       "      <th>7</th>\n",
       "      <td>Labor day (May 1st) Ads Campaign</td>\n",
       "      <td>EU, CIS, APAC</td>\n",
       "      <td>2020-05-01</td>\n",
       "      <td>2020-05-03</td>\n",
       "    </tr>\n",
       "    <tr>\n",
       "      <th>8</th>\n",
       "      <td>International Women's Day Promo</td>\n",
       "      <td>EU, CIS, APAC</td>\n",
       "      <td>2020-03-08</td>\n",
       "      <td>2020-03-10</td>\n",
       "    </tr>\n",
       "    <tr>\n",
       "      <th>9</th>\n",
       "      <td>Victory Day CIS (May 9th) Event</td>\n",
       "      <td>CIS</td>\n",
       "      <td>2020-05-09</td>\n",
       "      <td>2020-05-11</td>\n",
       "    </tr>\n",
       "    <tr>\n",
       "      <th>10</th>\n",
       "      <td>CIS New Year Gift Lottery</td>\n",
       "      <td>CIS</td>\n",
       "      <td>2020-12-30</td>\n",
       "      <td>2021-01-07</td>\n",
       "    </tr>\n",
       "    <tr>\n",
       "      <th>11</th>\n",
       "      <td>Dragon Boat Festival Giveaway</td>\n",
       "      <td>APAC</td>\n",
       "      <td>2020-06-25</td>\n",
       "      <td>2020-07-01</td>\n",
       "    </tr>\n",
       "    <tr>\n",
       "      <th>12</th>\n",
       "      <td>Single's Day Gift Promo</td>\n",
       "      <td>APAC</td>\n",
       "      <td>2020-11-11</td>\n",
       "      <td>2020-11-12</td>\n",
       "    </tr>\n",
       "    <tr>\n",
       "      <th>13</th>\n",
       "      <td>Chinese Moon Festival</td>\n",
       "      <td>APAC</td>\n",
       "      <td>2020-10-01</td>\n",
       "      <td>2020-10-07</td>\n",
       "    </tr>\n",
       "  </tbody>\n",
       "</table>\n",
       "</div>"
      ],
      "text/plain": [
       "                                name                   regions    start_dt  \\\n",
       "0           Christmas&New Year Promo             EU, N.America  2020-12-25   \n",
       "1       St. Valentine's Day Giveaway  EU, CIS, APAC, N.America  2020-02-14   \n",
       "2             St. Patric's Day Promo             EU, N.America  2020-03-17   \n",
       "3                       Easter Promo  EU, CIS, APAC, N.America  2020-04-12   \n",
       "4                  4th of July Promo                 N.America  2020-07-04   \n",
       "5          Black Friday Ads Campaign  EU, CIS, APAC, N.America  2020-11-26   \n",
       "6             Chinese New Year Promo                      APAC  2020-01-25   \n",
       "7   Labor day (May 1st) Ads Campaign             EU, CIS, APAC  2020-05-01   \n",
       "8    International Women's Day Promo             EU, CIS, APAC  2020-03-08   \n",
       "9    Victory Day CIS (May 9th) Event                       CIS  2020-05-09   \n",
       "10         CIS New Year Gift Lottery                       CIS  2020-12-30   \n",
       "11     Dragon Boat Festival Giveaway                      APAC  2020-06-25   \n",
       "12           Single's Day Gift Promo                      APAC  2020-11-11   \n",
       "13             Chinese Moon Festival                      APAC  2020-10-01   \n",
       "\n",
       "     finish_dt  \n",
       "0   2021-01-03  \n",
       "1   2020-02-16  \n",
       "2   2020-03-19  \n",
       "3   2020-04-19  \n",
       "4   2020-07-11  \n",
       "5   2020-12-01  \n",
       "6   2020-02-07  \n",
       "7   2020-05-03  \n",
       "8   2020-03-10  \n",
       "9   2020-05-11  \n",
       "10  2021-01-07  \n",
       "11  2020-07-01  \n",
       "12  2020-11-12  \n",
       "13  2020-10-07  "
      ]
     },
     "execution_count": 3,
     "metadata": {},
     "output_type": "execute_result"
    }
   ],
   "source": [
    "marketing"
   ]
  },
  {
   "cell_type": "code",
   "execution_count": 4,
   "id": "7b739577",
   "metadata": {},
   "outputs": [
    {
     "data": {
      "text/plain": [
       "0"
      ]
     },
     "metadata": {},
     "output_type": "display_data"
    },
    {
     "data": {
      "text/plain": [
       "name         0\n",
       "regions      0\n",
       "start_dt     0\n",
       "finish_dt    0\n",
       "dtype: int64"
      ]
     },
     "execution_count": 4,
     "metadata": {},
     "output_type": "execute_result"
    }
   ],
   "source": [
    "#Проверим на наличие пропусков и дубликатов \n",
    "display(marketing.duplicated().sum())\n",
    "marketing.isna().sum()"
   ]
  },
  {
   "cell_type": "code",
   "execution_count": 5,
   "id": "2482b91c",
   "metadata": {},
   "outputs": [
    {
     "name": "stdout",
     "output_type": "stream",
     "text": [
      "<class 'pandas.core.frame.DataFrame'>\n",
      "RangeIndex: 14 entries, 0 to 13\n",
      "Data columns (total 4 columns):\n",
      " #   Column     Non-Null Count  Dtype \n",
      "---  ------     --------------  ----- \n",
      " 0   name       14 non-null     object\n",
      " 1   regions    14 non-null     object\n",
      " 2   start_dt   14 non-null     object\n",
      " 3   finish_dt  14 non-null     object\n",
      "dtypes: object(4)\n",
      "memory usage: 576.0+ bytes\n"
     ]
    }
   ],
   "source": [
    "marketing.info()"
   ]
  },
  {
   "cell_type": "code",
   "execution_count": 6,
   "id": "07a1ab40",
   "metadata": {},
   "outputs": [
    {
     "name": "stdout",
     "output_type": "stream",
     "text": [
      "<class 'pandas.core.frame.DataFrame'>\n",
      "RangeIndex: 14 entries, 0 to 13\n",
      "Data columns (total 4 columns):\n",
      " #   Column     Non-Null Count  Dtype         \n",
      "---  ------     --------------  -----         \n",
      " 0   name       14 non-null     object        \n",
      " 1   regions    14 non-null     object        \n",
      " 2   start_dt   14 non-null     datetime64[ns]\n",
      " 3   finish_dt  14 non-null     datetime64[ns]\n",
      "dtypes: datetime64[ns](2), object(2)\n",
      "memory usage: 576.0+ bytes\n"
     ]
    }
   ],
   "source": [
    "#Приведем столбцы start_dt и finish_dt к типу даты pandas в файле marketing\n",
    "marketing['start_dt'] = pd.to_datetime(marketing['start_dt'])\n",
    "marketing['finish_dt'] = pd.to_datetime(marketing['finish_dt'])\n",
    "marketing.info()"
   ]
  },
  {
   "cell_type": "code",
   "execution_count": 7,
   "id": "83e14d79",
   "metadata": {},
   "outputs": [
    {
     "data": {
      "text/html": [
       "<div>\n",
       "<style scoped>\n",
       "    .dataframe tbody tr th:only-of-type {\n",
       "        vertical-align: middle;\n",
       "    }\n",
       "\n",
       "    .dataframe tbody tr th {\n",
       "        vertical-align: top;\n",
       "    }\n",
       "\n",
       "    .dataframe thead th {\n",
       "        text-align: right;\n",
       "    }\n",
       "</style>\n",
       "<table border=\"1\" class=\"dataframe\">\n",
       "  <thead>\n",
       "    <tr style=\"text-align: right;\">\n",
       "      <th></th>\n",
       "      <th>user_id</th>\n",
       "      <th>first_date</th>\n",
       "      <th>region</th>\n",
       "      <th>device</th>\n",
       "    </tr>\n",
       "  </thead>\n",
       "  <tbody>\n",
       "    <tr>\n",
       "      <th>0</th>\n",
       "      <td>D72A72121175D8BE</td>\n",
       "      <td>2020-12-07</td>\n",
       "      <td>EU</td>\n",
       "      <td>PC</td>\n",
       "    </tr>\n",
       "    <tr>\n",
       "      <th>1</th>\n",
       "      <td>F1C668619DFE6E65</td>\n",
       "      <td>2020-12-07</td>\n",
       "      <td>N.America</td>\n",
       "      <td>Android</td>\n",
       "    </tr>\n",
       "    <tr>\n",
       "      <th>2</th>\n",
       "      <td>2E1BF1D4C37EA01F</td>\n",
       "      <td>2020-12-07</td>\n",
       "      <td>EU</td>\n",
       "      <td>PC</td>\n",
       "    </tr>\n",
       "    <tr>\n",
       "      <th>3</th>\n",
       "      <td>50734A22C0C63768</td>\n",
       "      <td>2020-12-07</td>\n",
       "      <td>EU</td>\n",
       "      <td>iPhone</td>\n",
       "    </tr>\n",
       "    <tr>\n",
       "      <th>4</th>\n",
       "      <td>E1BDDCE0DAFA2679</td>\n",
       "      <td>2020-12-07</td>\n",
       "      <td>N.America</td>\n",
       "      <td>iPhone</td>\n",
       "    </tr>\n",
       "    <tr>\n",
       "      <th>...</th>\n",
       "      <td>...</td>\n",
       "      <td>...</td>\n",
       "      <td>...</td>\n",
       "      <td>...</td>\n",
       "    </tr>\n",
       "    <tr>\n",
       "      <th>61728</th>\n",
       "      <td>1DB53B933257165D</td>\n",
       "      <td>2020-12-20</td>\n",
       "      <td>EU</td>\n",
       "      <td>Android</td>\n",
       "    </tr>\n",
       "    <tr>\n",
       "      <th>61729</th>\n",
       "      <td>538643EB4527ED03</td>\n",
       "      <td>2020-12-20</td>\n",
       "      <td>EU</td>\n",
       "      <td>Mac</td>\n",
       "    </tr>\n",
       "    <tr>\n",
       "      <th>61730</th>\n",
       "      <td>7ADEE837D5D8CBBD</td>\n",
       "      <td>2020-12-20</td>\n",
       "      <td>EU</td>\n",
       "      <td>PC</td>\n",
       "    </tr>\n",
       "    <tr>\n",
       "      <th>61731</th>\n",
       "      <td>1C7D23927835213F</td>\n",
       "      <td>2020-12-20</td>\n",
       "      <td>EU</td>\n",
       "      <td>iPhone</td>\n",
       "    </tr>\n",
       "    <tr>\n",
       "      <th>61732</th>\n",
       "      <td>8F04273BB2860229</td>\n",
       "      <td>2020-12-20</td>\n",
       "      <td>EU</td>\n",
       "      <td>Android</td>\n",
       "    </tr>\n",
       "  </tbody>\n",
       "</table>\n",
       "<p>61733 rows × 4 columns</p>\n",
       "</div>"
      ],
      "text/plain": [
       "                user_id  first_date     region   device\n",
       "0      D72A72121175D8BE  2020-12-07         EU       PC\n",
       "1      F1C668619DFE6E65  2020-12-07  N.America  Android\n",
       "2      2E1BF1D4C37EA01F  2020-12-07         EU       PC\n",
       "3      50734A22C0C63768  2020-12-07         EU   iPhone\n",
       "4      E1BDDCE0DAFA2679  2020-12-07  N.America   iPhone\n",
       "...                 ...         ...        ...      ...\n",
       "61728  1DB53B933257165D  2020-12-20         EU  Android\n",
       "61729  538643EB4527ED03  2020-12-20         EU      Mac\n",
       "61730  7ADEE837D5D8CBBD  2020-12-20         EU       PC\n",
       "61731  1C7D23927835213F  2020-12-20         EU   iPhone\n",
       "61732  8F04273BB2860229  2020-12-20         EU  Android\n",
       "\n",
       "[61733 rows x 4 columns]"
      ]
     },
     "execution_count": 7,
     "metadata": {},
     "output_type": "execute_result"
    }
   ],
   "source": [
    "users"
   ]
  },
  {
   "cell_type": "code",
   "execution_count": 8,
   "id": "8e4fe2e8",
   "metadata": {},
   "outputs": [
    {
     "data": {
      "text/plain": [
       "0"
      ]
     },
     "metadata": {},
     "output_type": "display_data"
    },
    {
     "data": {
      "text/plain": [
       "user_id       0\n",
       "first_date    0\n",
       "region        0\n",
       "device        0\n",
       "dtype: int64"
      ]
     },
     "execution_count": 8,
     "metadata": {},
     "output_type": "execute_result"
    }
   ],
   "source": [
    "#Проверим на наличие пропусков и дубликатов \n",
    "display(users.duplicated().sum())\n",
    "users.isna().sum()"
   ]
  },
  {
   "cell_type": "code",
   "execution_count": 9,
   "id": "149f63c7",
   "metadata": {},
   "outputs": [
    {
     "name": "stdout",
     "output_type": "stream",
     "text": [
      "<class 'pandas.core.frame.DataFrame'>\n",
      "RangeIndex: 61733 entries, 0 to 61732\n",
      "Data columns (total 4 columns):\n",
      " #   Column      Non-Null Count  Dtype \n",
      "---  ------      --------------  ----- \n",
      " 0   user_id     61733 non-null  object\n",
      " 1   first_date  61733 non-null  object\n",
      " 2   region      61733 non-null  object\n",
      " 3   device      61733 non-null  object\n",
      "dtypes: object(4)\n",
      "memory usage: 1.9+ MB\n"
     ]
    }
   ],
   "source": [
    "users.info()"
   ]
  },
  {
   "cell_type": "code",
   "execution_count": 10,
   "id": "84902457",
   "metadata": {},
   "outputs": [
    {
     "name": "stdout",
     "output_type": "stream",
     "text": [
      "<class 'pandas.core.frame.DataFrame'>\n",
      "RangeIndex: 61733 entries, 0 to 61732\n",
      "Data columns (total 4 columns):\n",
      " #   Column      Non-Null Count  Dtype         \n",
      "---  ------      --------------  -----         \n",
      " 0   user_id     61733 non-null  object        \n",
      " 1   first_date  61733 non-null  datetime64[ns]\n",
      " 2   region      61733 non-null  object        \n",
      " 3   device      61733 non-null  object        \n",
      "dtypes: datetime64[ns](1), object(3)\n",
      "memory usage: 1.9+ MB\n"
     ]
    }
   ],
   "source": [
    "#Приведем столбец first_date к типу даты pandas в файле users\n",
    "users['first_date'] = pd.to_datetime(users['first_date'])\n",
    "users.info()"
   ]
  },
  {
   "cell_type": "code",
   "execution_count": 11,
   "id": "725d71d7",
   "metadata": {},
   "outputs": [
    {
     "data": {
      "text/plain": [
       "count                   61733\n",
       "unique                     17\n",
       "top       2020-12-21 00:00:00\n",
       "freq                     6290\n",
       "first     2020-12-07 00:00:00\n",
       "last      2020-12-23 00:00:00\n",
       "Name: first_date, dtype: object"
      ]
     },
     "execution_count": 11,
     "metadata": {},
     "output_type": "execute_result"
    }
   ],
   "source": [
    "users['first_date'].describe()"
   ]
  },
  {
   "cell_type": "code",
   "execution_count": 12,
   "id": "bbcecdd4",
   "metadata": {},
   "outputs": [
    {
     "data": {
      "text/plain": [
       "count                   56470\n",
       "unique                     15\n",
       "top       2020-12-21 00:00:00\n",
       "freq                     6290\n",
       "first     2020-12-07 00:00:00\n",
       "last      2020-12-21 00:00:00\n",
       "Name: first_date, dtype: object"
      ]
     },
     "execution_count": 12,
     "metadata": {},
     "output_type": "execute_result"
    }
   ],
   "source": [
    "#Согласно ТЗ у нас должны быть пользователи зарегестрированные с 7 по 21 декабря 2020 года.\n",
    "#Поэтому уберем пользователей, которые зарегестрировались позде 21 декабря.\n",
    "users = users[users['first_date'] <= '2020-12-21']\n",
    "users['first_date'].describe()"
   ]
  },
  {
   "cell_type": "code",
   "execution_count": 13,
   "id": "4654d3e7",
   "metadata": {},
   "outputs": [
    {
     "data": {
      "text/html": [
       "<div>\n",
       "<style scoped>\n",
       "    .dataframe tbody tr th:only-of-type {\n",
       "        vertical-align: middle;\n",
       "    }\n",
       "\n",
       "    .dataframe tbody tr th {\n",
       "        vertical-align: top;\n",
       "    }\n",
       "\n",
       "    .dataframe thead th {\n",
       "        text-align: right;\n",
       "    }\n",
       "</style>\n",
       "<table border=\"1\" class=\"dataframe\">\n",
       "  <thead>\n",
       "    <tr style=\"text-align: right;\">\n",
       "      <th></th>\n",
       "      <th>user_id</th>\n",
       "      <th>event_dt</th>\n",
       "      <th>event_name</th>\n",
       "      <th>details</th>\n",
       "    </tr>\n",
       "  </thead>\n",
       "  <tbody>\n",
       "    <tr>\n",
       "      <th>0</th>\n",
       "      <td>E1BDDCE0DAFA2679</td>\n",
       "      <td>2020-12-07 20:22:03</td>\n",
       "      <td>purchase</td>\n",
       "      <td>99.990</td>\n",
       "    </tr>\n",
       "    <tr>\n",
       "      <th>1</th>\n",
       "      <td>7B6452F081F49504</td>\n",
       "      <td>2020-12-07 09:22:53</td>\n",
       "      <td>purchase</td>\n",
       "      <td>9.990</td>\n",
       "    </tr>\n",
       "    <tr>\n",
       "      <th>2</th>\n",
       "      <td>9CD9F34546DF254C</td>\n",
       "      <td>2020-12-07 12:59:29</td>\n",
       "      <td>purchase</td>\n",
       "      <td>4.990</td>\n",
       "    </tr>\n",
       "    <tr>\n",
       "      <th>3</th>\n",
       "      <td>96F27A054B191457</td>\n",
       "      <td>2020-12-07 04:02:40</td>\n",
       "      <td>purchase</td>\n",
       "      <td>4.990</td>\n",
       "    </tr>\n",
       "    <tr>\n",
       "      <th>4</th>\n",
       "      <td>1FD7660FDF94CA1F</td>\n",
       "      <td>2020-12-07 10:15:09</td>\n",
       "      <td>purchase</td>\n",
       "      <td>4.990</td>\n",
       "    </tr>\n",
       "    <tr>\n",
       "      <th>...</th>\n",
       "      <td>...</td>\n",
       "      <td>...</td>\n",
       "      <td>...</td>\n",
       "      <td>...</td>\n",
       "    </tr>\n",
       "    <tr>\n",
       "      <th>440312</th>\n",
       "      <td>245E85F65C358E08</td>\n",
       "      <td>2020-12-30 19:35:55</td>\n",
       "      <td>login</td>\n",
       "      <td>NaN</td>\n",
       "    </tr>\n",
       "    <tr>\n",
       "      <th>440313</th>\n",
       "      <td>9385A108F5A0A7A7</td>\n",
       "      <td>2020-12-30 10:54:15</td>\n",
       "      <td>login</td>\n",
       "      <td>NaN</td>\n",
       "    </tr>\n",
       "    <tr>\n",
       "      <th>440314</th>\n",
       "      <td>DB650B7559AC6EAC</td>\n",
       "      <td>2020-12-30 10:59:09</td>\n",
       "      <td>login</td>\n",
       "      <td>NaN</td>\n",
       "    </tr>\n",
       "    <tr>\n",
       "      <th>440315</th>\n",
       "      <td>F80C9BDDEA02E53C</td>\n",
       "      <td>2020-12-30 09:53:39</td>\n",
       "      <td>login</td>\n",
       "      <td>NaN</td>\n",
       "    </tr>\n",
       "    <tr>\n",
       "      <th>440316</th>\n",
       "      <td>7AEC61159B672CC5</td>\n",
       "      <td>2020-12-30 11:36:13</td>\n",
       "      <td>login</td>\n",
       "      <td>NaN</td>\n",
       "    </tr>\n",
       "  </tbody>\n",
       "</table>\n",
       "<p>440317 rows × 4 columns</p>\n",
       "</div>"
      ],
      "text/plain": [
       "                 user_id             event_dt event_name  details\n",
       "0       E1BDDCE0DAFA2679  2020-12-07 20:22:03   purchase   99.990\n",
       "1       7B6452F081F49504  2020-12-07 09:22:53   purchase    9.990\n",
       "2       9CD9F34546DF254C  2020-12-07 12:59:29   purchase    4.990\n",
       "3       96F27A054B191457  2020-12-07 04:02:40   purchase    4.990\n",
       "4       1FD7660FDF94CA1F  2020-12-07 10:15:09   purchase    4.990\n",
       "...                  ...                  ...        ...      ...\n",
       "440312  245E85F65C358E08  2020-12-30 19:35:55      login      NaN\n",
       "440313  9385A108F5A0A7A7  2020-12-30 10:54:15      login      NaN\n",
       "440314  DB650B7559AC6EAC  2020-12-30 10:59:09      login      NaN\n",
       "440315  F80C9BDDEA02E53C  2020-12-30 09:53:39      login      NaN\n",
       "440316  7AEC61159B672CC5  2020-12-30 11:36:13      login      NaN\n",
       "\n",
       "[440317 rows x 4 columns]"
      ]
     },
     "execution_count": 13,
     "metadata": {},
     "output_type": "execute_result"
    }
   ],
   "source": [
    "events"
   ]
  },
  {
   "cell_type": "code",
   "execution_count": 14,
   "id": "f2ab7a3f",
   "metadata": {},
   "outputs": [
    {
     "data": {
      "text/plain": [
       "0"
      ]
     },
     "metadata": {},
     "output_type": "display_data"
    },
    {
     "data": {
      "text/plain": [
       "user_id            0\n",
       "event_dt           0\n",
       "event_name         0\n",
       "details       377577\n",
       "dtype: int64"
      ]
     },
     "execution_count": 14,
     "metadata": {},
     "output_type": "execute_result"
    }
   ],
   "source": [
    "#Проверим на наличие пропусков и дубликатов \n",
    "display(events.duplicated().sum())\n",
    "events.isna().sum()"
   ]
  },
  {
   "cell_type": "code",
   "execution_count": 15,
   "id": "c78d0435",
   "metadata": {},
   "outputs": [
    {
     "name": "stdout",
     "output_type": "stream",
     "text": [
      "<class 'pandas.core.frame.DataFrame'>\n",
      "RangeIndex: 440317 entries, 0 to 440316\n",
      "Data columns (total 4 columns):\n",
      " #   Column      Non-Null Count   Dtype  \n",
      "---  ------      --------------   -----  \n",
      " 0   user_id     440317 non-null  object \n",
      " 1   event_dt    440317 non-null  object \n",
      " 2   event_name  440317 non-null  object \n",
      " 3   details     62740 non-null   float64\n",
      "dtypes: float64(1), object(3)\n",
      "memory usage: 13.4+ MB\n"
     ]
    }
   ],
   "source": [
    "events.info()"
   ]
  },
  {
   "cell_type": "code",
   "execution_count": 16,
   "id": "d63cc880",
   "metadata": {},
   "outputs": [
    {
     "name": "stdout",
     "output_type": "stream",
     "text": [
      "<class 'pandas.core.frame.DataFrame'>\n",
      "RangeIndex: 440317 entries, 0 to 440316\n",
      "Data columns (total 4 columns):\n",
      " #   Column      Non-Null Count   Dtype         \n",
      "---  ------      --------------   -----         \n",
      " 0   user_id     440317 non-null  object        \n",
      " 1   event_dt    440317 non-null  datetime64[ns]\n",
      " 2   event_name  440317 non-null  object        \n",
      " 3   details     62740 non-null   float64       \n",
      "dtypes: datetime64[ns](1), float64(1), object(2)\n",
      "memory usage: 13.4+ MB\n"
     ]
    }
   ],
   "source": [
    "#Приведем столбец event_dt к типу даты pandas в файле events\n",
    "events['event_dt'] = pd.to_datetime(events['event_dt'])\n",
    "events.info()"
   ]
  },
  {
   "cell_type": "code",
   "execution_count": 17,
   "id": "b287a10a",
   "metadata": {},
   "outputs": [
    {
     "data": {
      "text/plain": [
       "count                  440317\n",
       "unique                 267268\n",
       "top       2020-12-14 18:54:55\n",
       "freq                       10\n",
       "first     2020-12-07 00:00:33\n",
       "last      2020-12-30 23:36:33\n",
       "Name: event_dt, dtype: object"
      ]
     },
     "execution_count": 17,
     "metadata": {},
     "output_type": "execute_result"
    }
   ],
   "source": [
    "events['event_dt'].describe()"
   ]
  },
  {
   "cell_type": "code",
   "execution_count": 18,
   "id": "2b0ce728",
   "metadata": {},
   "outputs": [
    {
     "data": {
      "text/html": [
       "<div>\n",
       "<style scoped>\n",
       "    .dataframe tbody tr th:only-of-type {\n",
       "        vertical-align: middle;\n",
       "    }\n",
       "\n",
       "    .dataframe tbody tr th {\n",
       "        vertical-align: top;\n",
       "    }\n",
       "\n",
       "    .dataframe thead th {\n",
       "        text-align: right;\n",
       "    }\n",
       "</style>\n",
       "<table border=\"1\" class=\"dataframe\">\n",
       "  <thead>\n",
       "    <tr style=\"text-align: right;\">\n",
       "      <th></th>\n",
       "      <th>user_id</th>\n",
       "      <th>group</th>\n",
       "      <th>ab_test</th>\n",
       "    </tr>\n",
       "  </thead>\n",
       "  <tbody>\n",
       "    <tr>\n",
       "      <th>0</th>\n",
       "      <td>D1ABA3E2887B6A73</td>\n",
       "      <td>A</td>\n",
       "      <td>recommender_system_test</td>\n",
       "    </tr>\n",
       "    <tr>\n",
       "      <th>1</th>\n",
       "      <td>A7A3664BD6242119</td>\n",
       "      <td>A</td>\n",
       "      <td>recommender_system_test</td>\n",
       "    </tr>\n",
       "    <tr>\n",
       "      <th>2</th>\n",
       "      <td>DABC14FDDFADD29E</td>\n",
       "      <td>A</td>\n",
       "      <td>recommender_system_test</td>\n",
       "    </tr>\n",
       "    <tr>\n",
       "      <th>3</th>\n",
       "      <td>04988C5DF189632E</td>\n",
       "      <td>A</td>\n",
       "      <td>recommender_system_test</td>\n",
       "    </tr>\n",
       "    <tr>\n",
       "      <th>4</th>\n",
       "      <td>482F14783456D21B</td>\n",
       "      <td>B</td>\n",
       "      <td>recommender_system_test</td>\n",
       "    </tr>\n",
       "    <tr>\n",
       "      <th>...</th>\n",
       "      <td>...</td>\n",
       "      <td>...</td>\n",
       "      <td>...</td>\n",
       "    </tr>\n",
       "    <tr>\n",
       "      <th>18263</th>\n",
       "      <td>1D302F8688B91781</td>\n",
       "      <td>B</td>\n",
       "      <td>interface_eu_test</td>\n",
       "    </tr>\n",
       "    <tr>\n",
       "      <th>18264</th>\n",
       "      <td>3DE51B726983B657</td>\n",
       "      <td>A</td>\n",
       "      <td>interface_eu_test</td>\n",
       "    </tr>\n",
       "    <tr>\n",
       "      <th>18265</th>\n",
       "      <td>F501F79D332BE86C</td>\n",
       "      <td>A</td>\n",
       "      <td>interface_eu_test</td>\n",
       "    </tr>\n",
       "    <tr>\n",
       "      <th>18266</th>\n",
       "      <td>63FBE257B05F2245</td>\n",
       "      <td>A</td>\n",
       "      <td>interface_eu_test</td>\n",
       "    </tr>\n",
       "    <tr>\n",
       "      <th>18267</th>\n",
       "      <td>79F9ABFB029CF724</td>\n",
       "      <td>B</td>\n",
       "      <td>interface_eu_test</td>\n",
       "    </tr>\n",
       "  </tbody>\n",
       "</table>\n",
       "<p>18268 rows × 3 columns</p>\n",
       "</div>"
      ],
      "text/plain": [
       "                user_id group                  ab_test\n",
       "0      D1ABA3E2887B6A73     A  recommender_system_test\n",
       "1      A7A3664BD6242119     A  recommender_system_test\n",
       "2      DABC14FDDFADD29E     A  recommender_system_test\n",
       "3      04988C5DF189632E     A  recommender_system_test\n",
       "4      482F14783456D21B     B  recommender_system_test\n",
       "...                 ...   ...                      ...\n",
       "18263  1D302F8688B91781     B        interface_eu_test\n",
       "18264  3DE51B726983B657     A        interface_eu_test\n",
       "18265  F501F79D332BE86C     A        interface_eu_test\n",
       "18266  63FBE257B05F2245     A        interface_eu_test\n",
       "18267  79F9ABFB029CF724     B        interface_eu_test\n",
       "\n",
       "[18268 rows x 3 columns]"
      ]
     },
     "execution_count": 18,
     "metadata": {},
     "output_type": "execute_result"
    }
   ],
   "source": [
    "participants"
   ]
  },
  {
   "cell_type": "code",
   "execution_count": 19,
   "id": "6562ec7b",
   "metadata": {},
   "outputs": [
    {
     "data": {
      "text/plain": [
       "0"
      ]
     },
     "metadata": {},
     "output_type": "display_data"
    },
    {
     "data": {
      "text/plain": [
       "user_id    0\n",
       "group      0\n",
       "ab_test    0\n",
       "dtype: int64"
      ]
     },
     "execution_count": 19,
     "metadata": {},
     "output_type": "execute_result"
    }
   ],
   "source": [
    "#Проверим на наличие пропусков и дубликатов \n",
    "display(participants.duplicated().sum())\n",
    "participants.isna().sum()"
   ]
  },
  {
   "cell_type": "code",
   "execution_count": 20,
   "id": "162b0eaa",
   "metadata": {},
   "outputs": [
    {
     "name": "stdout",
     "output_type": "stream",
     "text": [
      "<class 'pandas.core.frame.DataFrame'>\n",
      "RangeIndex: 18268 entries, 0 to 18267\n",
      "Data columns (total 3 columns):\n",
      " #   Column   Non-Null Count  Dtype \n",
      "---  ------   --------------  ----- \n",
      " 0   user_id  18268 non-null  object\n",
      " 1   group    18268 non-null  object\n",
      " 2   ab_test  18268 non-null  object\n",
      "dtypes: object(3)\n",
      "memory usage: 428.3+ KB\n"
     ]
    }
   ],
   "source": [
    "participants.info()"
   ]
  },
  {
   "cell_type": "markdown",
   "id": "3e89d0c4",
   "metadata": {},
   "source": [
    "Дубликатов и в данных нет. Пропуски присутстуют только в данных events, в столбце details. Рассмотрим его более подробно. "
   ]
  },
  {
   "cell_type": "code",
   "execution_count": 21,
   "id": "9d5e9103",
   "metadata": {},
   "outputs": [
    {
     "data": {
      "text/html": [
       "<div>\n",
       "<style scoped>\n",
       "    .dataframe tbody tr th:only-of-type {\n",
       "        vertical-align: middle;\n",
       "    }\n",
       "\n",
       "    .dataframe tbody tr th {\n",
       "        vertical-align: top;\n",
       "    }\n",
       "\n",
       "    .dataframe thead th {\n",
       "        text-align: right;\n",
       "    }\n",
       "</style>\n",
       "<table border=\"1\" class=\"dataframe\">\n",
       "  <thead>\n",
       "    <tr style=\"text-align: right;\">\n",
       "      <th></th>\n",
       "      <th>user_id</th>\n",
       "      <th>event_dt</th>\n",
       "      <th>event_name</th>\n",
       "      <th>details</th>\n",
       "    </tr>\n",
       "  </thead>\n",
       "  <tbody>\n",
       "    <tr>\n",
       "      <th>0</th>\n",
       "      <td>E1BDDCE0DAFA2679</td>\n",
       "      <td>2020-12-07 20:22:03</td>\n",
       "      <td>purchase</td>\n",
       "      <td>99.990</td>\n",
       "    </tr>\n",
       "    <tr>\n",
       "      <th>1</th>\n",
       "      <td>7B6452F081F49504</td>\n",
       "      <td>2020-12-07 09:22:53</td>\n",
       "      <td>purchase</td>\n",
       "      <td>9.990</td>\n",
       "    </tr>\n",
       "    <tr>\n",
       "      <th>2</th>\n",
       "      <td>9CD9F34546DF254C</td>\n",
       "      <td>2020-12-07 12:59:29</td>\n",
       "      <td>purchase</td>\n",
       "      <td>4.990</td>\n",
       "    </tr>\n",
       "    <tr>\n",
       "      <th>3</th>\n",
       "      <td>96F27A054B191457</td>\n",
       "      <td>2020-12-07 04:02:40</td>\n",
       "      <td>purchase</td>\n",
       "      <td>4.990</td>\n",
       "    </tr>\n",
       "    <tr>\n",
       "      <th>4</th>\n",
       "      <td>1FD7660FDF94CA1F</td>\n",
       "      <td>2020-12-07 10:15:09</td>\n",
       "      <td>purchase</td>\n",
       "      <td>4.990</td>\n",
       "    </tr>\n",
       "    <tr>\n",
       "      <th>...</th>\n",
       "      <td>...</td>\n",
       "      <td>...</td>\n",
       "      <td>...</td>\n",
       "      <td>...</td>\n",
       "    </tr>\n",
       "    <tr>\n",
       "      <th>440312</th>\n",
       "      <td>245E85F65C358E08</td>\n",
       "      <td>2020-12-30 19:35:55</td>\n",
       "      <td>login</td>\n",
       "      <td>NaN</td>\n",
       "    </tr>\n",
       "    <tr>\n",
       "      <th>440313</th>\n",
       "      <td>9385A108F5A0A7A7</td>\n",
       "      <td>2020-12-30 10:54:15</td>\n",
       "      <td>login</td>\n",
       "      <td>NaN</td>\n",
       "    </tr>\n",
       "    <tr>\n",
       "      <th>440314</th>\n",
       "      <td>DB650B7559AC6EAC</td>\n",
       "      <td>2020-12-30 10:59:09</td>\n",
       "      <td>login</td>\n",
       "      <td>NaN</td>\n",
       "    </tr>\n",
       "    <tr>\n",
       "      <th>440315</th>\n",
       "      <td>F80C9BDDEA02E53C</td>\n",
       "      <td>2020-12-30 09:53:39</td>\n",
       "      <td>login</td>\n",
       "      <td>NaN</td>\n",
       "    </tr>\n",
       "    <tr>\n",
       "      <th>440316</th>\n",
       "      <td>7AEC61159B672CC5</td>\n",
       "      <td>2020-12-30 11:36:13</td>\n",
       "      <td>login</td>\n",
       "      <td>NaN</td>\n",
       "    </tr>\n",
       "  </tbody>\n",
       "</table>\n",
       "<p>440317 rows × 4 columns</p>\n",
       "</div>"
      ],
      "text/plain": [
       "                 user_id            event_dt event_name  details\n",
       "0       E1BDDCE0DAFA2679 2020-12-07 20:22:03   purchase   99.990\n",
       "1       7B6452F081F49504 2020-12-07 09:22:53   purchase    9.990\n",
       "2       9CD9F34546DF254C 2020-12-07 12:59:29   purchase    4.990\n",
       "3       96F27A054B191457 2020-12-07 04:02:40   purchase    4.990\n",
       "4       1FD7660FDF94CA1F 2020-12-07 10:15:09   purchase    4.990\n",
       "...                  ...                 ...        ...      ...\n",
       "440312  245E85F65C358E08 2020-12-30 19:35:55      login      NaN\n",
       "440313  9385A108F5A0A7A7 2020-12-30 10:54:15      login      NaN\n",
       "440314  DB650B7559AC6EAC 2020-12-30 10:59:09      login      NaN\n",
       "440315  F80C9BDDEA02E53C 2020-12-30 09:53:39      login      NaN\n",
       "440316  7AEC61159B672CC5 2020-12-30 11:36:13      login      NaN\n",
       "\n",
       "[440317 rows x 4 columns]"
      ]
     },
     "execution_count": 21,
     "metadata": {},
     "output_type": "execute_result"
    }
   ],
   "source": [
    "events"
   ]
  },
  {
   "cell_type": "code",
   "execution_count": 22,
   "id": "c4c3feb5",
   "metadata": {},
   "outputs": [
    {
     "data": {
      "text/plain": [
       "array(['purchase', 'product_cart', 'product_page', 'login'], dtype=object)"
      ]
     },
     "execution_count": 22,
     "metadata": {},
     "output_type": "execute_result"
    }
   ],
   "source": [
    "events['event_name'].unique()"
   ]
  },
  {
   "cell_type": "code",
   "execution_count": 23,
   "id": "7d613cf8",
   "metadata": {},
   "outputs": [
    {
     "data": {
      "text/html": [
       "<div>\n",
       "<style scoped>\n",
       "    .dataframe tbody tr th:only-of-type {\n",
       "        vertical-align: middle;\n",
       "    }\n",
       "\n",
       "    .dataframe tbody tr th {\n",
       "        vertical-align: top;\n",
       "    }\n",
       "\n",
       "    .dataframe thead th {\n",
       "        text-align: right;\n",
       "    }\n",
       "</style>\n",
       "<table border=\"1\" class=\"dataframe\">\n",
       "  <thead>\n",
       "    <tr style=\"text-align: right;\">\n",
       "      <th></th>\n",
       "      <th>user_id</th>\n",
       "      <th>event_dt</th>\n",
       "      <th>event_name</th>\n",
       "      <th>details</th>\n",
       "    </tr>\n",
       "  </thead>\n",
       "  <tbody>\n",
       "    <tr>\n",
       "      <th>0</th>\n",
       "      <td>E1BDDCE0DAFA2679</td>\n",
       "      <td>2020-12-07 20:22:03</td>\n",
       "      <td>purchase</td>\n",
       "      <td>99.990</td>\n",
       "    </tr>\n",
       "    <tr>\n",
       "      <th>1</th>\n",
       "      <td>7B6452F081F49504</td>\n",
       "      <td>2020-12-07 09:22:53</td>\n",
       "      <td>purchase</td>\n",
       "      <td>9.990</td>\n",
       "    </tr>\n",
       "    <tr>\n",
       "      <th>2</th>\n",
       "      <td>9CD9F34546DF254C</td>\n",
       "      <td>2020-12-07 12:59:29</td>\n",
       "      <td>purchase</td>\n",
       "      <td>4.990</td>\n",
       "    </tr>\n",
       "    <tr>\n",
       "      <th>3</th>\n",
       "      <td>96F27A054B191457</td>\n",
       "      <td>2020-12-07 04:02:40</td>\n",
       "      <td>purchase</td>\n",
       "      <td>4.990</td>\n",
       "    </tr>\n",
       "    <tr>\n",
       "      <th>4</th>\n",
       "      <td>1FD7660FDF94CA1F</td>\n",
       "      <td>2020-12-07 10:15:09</td>\n",
       "      <td>purchase</td>\n",
       "      <td>4.990</td>\n",
       "    </tr>\n",
       "  </tbody>\n",
       "</table>\n",
       "</div>"
      ],
      "text/plain": [
       "            user_id            event_dt event_name  details\n",
       "0  E1BDDCE0DAFA2679 2020-12-07 20:22:03   purchase   99.990\n",
       "1  7B6452F081F49504 2020-12-07 09:22:53   purchase    9.990\n",
       "2  9CD9F34546DF254C 2020-12-07 12:59:29   purchase    4.990\n",
       "3  96F27A054B191457 2020-12-07 04:02:40   purchase    4.990\n",
       "4  1FD7660FDF94CA1F 2020-12-07 10:15:09   purchase    4.990"
      ]
     },
     "execution_count": 23,
     "metadata": {},
     "output_type": "execute_result"
    }
   ],
   "source": [
    "events[events['event_name'] == 'purchase'].head(5)"
   ]
  },
  {
   "cell_type": "code",
   "execution_count": 24,
   "id": "22210973",
   "metadata": {},
   "outputs": [
    {
     "data": {
      "text/html": [
       "<div>\n",
       "<style scoped>\n",
       "    .dataframe tbody tr th:only-of-type {\n",
       "        vertical-align: middle;\n",
       "    }\n",
       "\n",
       "    .dataframe tbody tr th {\n",
       "        vertical-align: top;\n",
       "    }\n",
       "\n",
       "    .dataframe thead th {\n",
       "        text-align: right;\n",
       "    }\n",
       "</style>\n",
       "<table border=\"1\" class=\"dataframe\">\n",
       "  <thead>\n",
       "    <tr style=\"text-align: right;\">\n",
       "      <th></th>\n",
       "      <th>user_id</th>\n",
       "      <th>event_dt</th>\n",
       "      <th>event_name</th>\n",
       "      <th>details</th>\n",
       "    </tr>\n",
       "  </thead>\n",
       "  <tbody>\n",
       "    <tr>\n",
       "      <th>62740</th>\n",
       "      <td>2E1BF1D4C37EA01F</td>\n",
       "      <td>2020-12-07 09:05:47</td>\n",
       "      <td>product_cart</td>\n",
       "      <td>NaN</td>\n",
       "    </tr>\n",
       "    <tr>\n",
       "      <th>62741</th>\n",
       "      <td>50734A22C0C63768</td>\n",
       "      <td>2020-12-07 13:24:03</td>\n",
       "      <td>product_cart</td>\n",
       "      <td>NaN</td>\n",
       "    </tr>\n",
       "    <tr>\n",
       "      <th>62742</th>\n",
       "      <td>5EB159DA9DC94DBA</td>\n",
       "      <td>2020-12-07 22:54:02</td>\n",
       "      <td>product_cart</td>\n",
       "      <td>NaN</td>\n",
       "    </tr>\n",
       "    <tr>\n",
       "      <th>62743</th>\n",
       "      <td>084A22B980BA8169</td>\n",
       "      <td>2020-12-07 15:25:55</td>\n",
       "      <td>product_cart</td>\n",
       "      <td>NaN</td>\n",
       "    </tr>\n",
       "    <tr>\n",
       "      <th>62744</th>\n",
       "      <td>0FC21E6F8FAA8DEC</td>\n",
       "      <td>2020-12-07 06:56:27</td>\n",
       "      <td>product_cart</td>\n",
       "      <td>NaN</td>\n",
       "    </tr>\n",
       "  </tbody>\n",
       "</table>\n",
       "</div>"
      ],
      "text/plain": [
       "                user_id            event_dt    event_name  details\n",
       "62740  2E1BF1D4C37EA01F 2020-12-07 09:05:47  product_cart      NaN\n",
       "62741  50734A22C0C63768 2020-12-07 13:24:03  product_cart      NaN\n",
       "62742  5EB159DA9DC94DBA 2020-12-07 22:54:02  product_cart      NaN\n",
       "62743  084A22B980BA8169 2020-12-07 15:25:55  product_cart      NaN\n",
       "62744  0FC21E6F8FAA8DEC 2020-12-07 06:56:27  product_cart      NaN"
      ]
     },
     "execution_count": 24,
     "metadata": {},
     "output_type": "execute_result"
    }
   ],
   "source": [
    "events[events['event_name'] == 'product_cart'].head(5)"
   ]
  },
  {
   "cell_type": "code",
   "execution_count": 25,
   "id": "0cd286a9",
   "metadata": {},
   "outputs": [
    {
     "data": {
      "text/html": [
       "<div>\n",
       "<style scoped>\n",
       "    .dataframe tbody tr th:only-of-type {\n",
       "        vertical-align: middle;\n",
       "    }\n",
       "\n",
       "    .dataframe tbody tr th {\n",
       "        vertical-align: top;\n",
       "    }\n",
       "\n",
       "    .dataframe thead th {\n",
       "        text-align: right;\n",
       "    }\n",
       "</style>\n",
       "<table border=\"1\" class=\"dataframe\">\n",
       "  <thead>\n",
       "    <tr style=\"text-align: right;\">\n",
       "      <th></th>\n",
       "      <th>user_id</th>\n",
       "      <th>event_dt</th>\n",
       "      <th>event_name</th>\n",
       "      <th>details</th>\n",
       "    </tr>\n",
       "  </thead>\n",
       "  <tbody>\n",
       "    <tr>\n",
       "      <th>125202</th>\n",
       "      <td>D72A72121175D8BE</td>\n",
       "      <td>2020-12-07 21:52:10</td>\n",
       "      <td>product_page</td>\n",
       "      <td>NaN</td>\n",
       "    </tr>\n",
       "    <tr>\n",
       "      <th>125203</th>\n",
       "      <td>F1C668619DFE6E65</td>\n",
       "      <td>2020-12-07 16:38:09</td>\n",
       "      <td>product_page</td>\n",
       "      <td>NaN</td>\n",
       "    </tr>\n",
       "    <tr>\n",
       "      <th>125204</th>\n",
       "      <td>2E1BF1D4C37EA01F</td>\n",
       "      <td>2020-12-07 09:05:46</td>\n",
       "      <td>product_page</td>\n",
       "      <td>NaN</td>\n",
       "    </tr>\n",
       "    <tr>\n",
       "      <th>125205</th>\n",
       "      <td>50734A22C0C63768</td>\n",
       "      <td>2020-12-07 13:24:02</td>\n",
       "      <td>product_page</td>\n",
       "      <td>NaN</td>\n",
       "    </tr>\n",
       "    <tr>\n",
       "      <th>125206</th>\n",
       "      <td>137119F5A9E69421</td>\n",
       "      <td>2020-12-07 14:13:58</td>\n",
       "      <td>product_page</td>\n",
       "      <td>NaN</td>\n",
       "    </tr>\n",
       "  </tbody>\n",
       "</table>\n",
       "</div>"
      ],
      "text/plain": [
       "                 user_id            event_dt    event_name  details\n",
       "125202  D72A72121175D8BE 2020-12-07 21:52:10  product_page      NaN\n",
       "125203  F1C668619DFE6E65 2020-12-07 16:38:09  product_page      NaN\n",
       "125204  2E1BF1D4C37EA01F 2020-12-07 09:05:46  product_page      NaN\n",
       "125205  50734A22C0C63768 2020-12-07 13:24:02  product_page      NaN\n",
       "125206  137119F5A9E69421 2020-12-07 14:13:58  product_page      NaN"
      ]
     },
     "execution_count": 25,
     "metadata": {},
     "output_type": "execute_result"
    }
   ],
   "source": [
    "events[events['event_name'] == 'product_page'].head(5)"
   ]
  },
  {
   "cell_type": "code",
   "execution_count": 26,
   "id": "89c98eed",
   "metadata": {},
   "outputs": [
    {
     "data": {
      "text/html": [
       "<div>\n",
       "<style scoped>\n",
       "    .dataframe tbody tr th:only-of-type {\n",
       "        vertical-align: middle;\n",
       "    }\n",
       "\n",
       "    .dataframe tbody tr th {\n",
       "        vertical-align: top;\n",
       "    }\n",
       "\n",
       "    .dataframe thead th {\n",
       "        text-align: right;\n",
       "    }\n",
       "</style>\n",
       "<table border=\"1\" class=\"dataframe\">\n",
       "  <thead>\n",
       "    <tr style=\"text-align: right;\">\n",
       "      <th></th>\n",
       "      <th>user_id</th>\n",
       "      <th>event_dt</th>\n",
       "      <th>event_name</th>\n",
       "      <th>details</th>\n",
       "    </tr>\n",
       "  </thead>\n",
       "  <tbody>\n",
       "    <tr>\n",
       "      <th>250765</th>\n",
       "      <td>D72A72121175D8BE</td>\n",
       "      <td>2020-12-07 21:52:07</td>\n",
       "      <td>login</td>\n",
       "      <td>NaN</td>\n",
       "    </tr>\n",
       "    <tr>\n",
       "      <th>250766</th>\n",
       "      <td>F1C668619DFE6E65</td>\n",
       "      <td>2020-12-07 16:38:08</td>\n",
       "      <td>login</td>\n",
       "      <td>NaN</td>\n",
       "    </tr>\n",
       "    <tr>\n",
       "      <th>250767</th>\n",
       "      <td>2E1BF1D4C37EA01F</td>\n",
       "      <td>2020-12-07 09:05:46</td>\n",
       "      <td>login</td>\n",
       "      <td>NaN</td>\n",
       "    </tr>\n",
       "    <tr>\n",
       "      <th>250768</th>\n",
       "      <td>50734A22C0C63768</td>\n",
       "      <td>2020-12-07 13:24:02</td>\n",
       "      <td>login</td>\n",
       "      <td>NaN</td>\n",
       "    </tr>\n",
       "    <tr>\n",
       "      <th>250769</th>\n",
       "      <td>E1BDDCE0DAFA2679</td>\n",
       "      <td>2020-12-07 20:22:03</td>\n",
       "      <td>login</td>\n",
       "      <td>NaN</td>\n",
       "    </tr>\n",
       "  </tbody>\n",
       "</table>\n",
       "</div>"
      ],
      "text/plain": [
       "                 user_id            event_dt event_name  details\n",
       "250765  D72A72121175D8BE 2020-12-07 21:52:07      login      NaN\n",
       "250766  F1C668619DFE6E65 2020-12-07 16:38:08      login      NaN\n",
       "250767  2E1BF1D4C37EA01F 2020-12-07 09:05:46      login      NaN\n",
       "250768  50734A22C0C63768 2020-12-07 13:24:02      login      NaN\n",
       "250769  E1BDDCE0DAFA2679 2020-12-07 20:22:03      login      NaN"
      ]
     },
     "execution_count": 26,
     "metadata": {},
     "output_type": "execute_result"
    }
   ],
   "source": [
    "events[events['event_name'] == 'login'].head(5)"
   ]
  },
  {
   "cell_type": "markdown",
   "id": "03cd5592",
   "metadata": {},
   "source": [
    "Мы видим, что детальная информация присудствует в 62740 случаях, когда происходит оплата. В остальных случаях , детали не указываются. Оставим все как есть. "
   ]
  },
  {
   "cell_type": "code",
   "execution_count": 27,
   "id": "7b4681f4",
   "metadata": {},
   "outputs": [
    {
     "data": {
      "text/html": [
       "<div>\n",
       "<style scoped>\n",
       "    .dataframe tbody tr th:only-of-type {\n",
       "        vertical-align: middle;\n",
       "    }\n",
       "\n",
       "    .dataframe tbody tr th {\n",
       "        vertical-align: top;\n",
       "    }\n",
       "\n",
       "    .dataframe thead th {\n",
       "        text-align: right;\n",
       "    }\n",
       "</style>\n",
       "<table border=\"1\" class=\"dataframe\">\n",
       "  <thead>\n",
       "    <tr style=\"text-align: right;\">\n",
       "      <th></th>\n",
       "      <th>user_id</th>\n",
       "      <th>event_dt</th>\n",
       "      <th>event_name</th>\n",
       "      <th>details</th>\n",
       "      <th>first_date</th>\n",
       "      <th>region</th>\n",
       "      <th>device</th>\n",
       "      <th>group</th>\n",
       "      <th>ab_test</th>\n",
       "    </tr>\n",
       "  </thead>\n",
       "  <tbody>\n",
       "    <tr>\n",
       "      <th>0</th>\n",
       "      <td>E1BDDCE0DAFA2679</td>\n",
       "      <td>2020-12-07 20:22:03</td>\n",
       "      <td>purchase</td>\n",
       "      <td>99.990</td>\n",
       "      <td>2020-12-07</td>\n",
       "      <td>N.America</td>\n",
       "      <td>iPhone</td>\n",
       "      <td>NaN</td>\n",
       "      <td>NaN</td>\n",
       "    </tr>\n",
       "    <tr>\n",
       "      <th>1</th>\n",
       "      <td>7B6452F081F49504</td>\n",
       "      <td>2020-12-07 09:22:53</td>\n",
       "      <td>purchase</td>\n",
       "      <td>9.990</td>\n",
       "      <td>2020-12-07</td>\n",
       "      <td>EU</td>\n",
       "      <td>iPhone</td>\n",
       "      <td>NaN</td>\n",
       "      <td>NaN</td>\n",
       "    </tr>\n",
       "    <tr>\n",
       "      <th>2</th>\n",
       "      <td>9CD9F34546DF254C</td>\n",
       "      <td>2020-12-07 12:59:29</td>\n",
       "      <td>purchase</td>\n",
       "      <td>4.990</td>\n",
       "      <td>2020-12-07</td>\n",
       "      <td>N.America</td>\n",
       "      <td>iPhone</td>\n",
       "      <td>NaN</td>\n",
       "      <td>NaN</td>\n",
       "    </tr>\n",
       "    <tr>\n",
       "      <th>3</th>\n",
       "      <td>96F27A054B191457</td>\n",
       "      <td>2020-12-07 04:02:40</td>\n",
       "      <td>purchase</td>\n",
       "      <td>4.990</td>\n",
       "      <td>2020-12-07</td>\n",
       "      <td>EU</td>\n",
       "      <td>iPhone</td>\n",
       "      <td>B</td>\n",
       "      <td>interface_eu_test</td>\n",
       "    </tr>\n",
       "    <tr>\n",
       "      <th>4</th>\n",
       "      <td>1FD7660FDF94CA1F</td>\n",
       "      <td>2020-12-07 10:15:09</td>\n",
       "      <td>purchase</td>\n",
       "      <td>4.990</td>\n",
       "      <td>2020-12-07</td>\n",
       "      <td>EU</td>\n",
       "      <td>Android</td>\n",
       "      <td>NaN</td>\n",
       "      <td>NaN</td>\n",
       "    </tr>\n",
       "    <tr>\n",
       "      <th>5</th>\n",
       "      <td>831887FE7F2D6CBA</td>\n",
       "      <td>2020-12-07 06:50:29</td>\n",
       "      <td>purchase</td>\n",
       "      <td>4.990</td>\n",
       "      <td>2020-12-07</td>\n",
       "      <td>EU</td>\n",
       "      <td>Android</td>\n",
       "      <td>A</td>\n",
       "      <td>recommender_system_test</td>\n",
       "    </tr>\n",
       "    <tr>\n",
       "      <th>6</th>\n",
       "      <td>6B2F726BFD5F8220</td>\n",
       "      <td>2020-12-07 11:27:42</td>\n",
       "      <td>purchase</td>\n",
       "      <td>4.990</td>\n",
       "      <td>2020-12-07</td>\n",
       "      <td>EU</td>\n",
       "      <td>Android</td>\n",
       "      <td>NaN</td>\n",
       "      <td>NaN</td>\n",
       "    </tr>\n",
       "    <tr>\n",
       "      <th>7</th>\n",
       "      <td>BEB37715AACF53B0</td>\n",
       "      <td>2020-12-07 04:26:15</td>\n",
       "      <td>purchase</td>\n",
       "      <td>4.990</td>\n",
       "      <td>2020-12-07</td>\n",
       "      <td>EU</td>\n",
       "      <td>Android</td>\n",
       "      <td>NaN</td>\n",
       "      <td>NaN</td>\n",
       "    </tr>\n",
       "    <tr>\n",
       "      <th>8</th>\n",
       "      <td>B5FA27F582227197</td>\n",
       "      <td>2020-12-07 01:46:37</td>\n",
       "      <td>purchase</td>\n",
       "      <td>4.990</td>\n",
       "      <td>2020-12-07</td>\n",
       "      <td>N.America</td>\n",
       "      <td>Mac</td>\n",
       "      <td>NaN</td>\n",
       "      <td>NaN</td>\n",
       "    </tr>\n",
       "    <tr>\n",
       "      <th>9</th>\n",
       "      <td>A92195E3CFB83DBD</td>\n",
       "      <td>2020-12-07 00:32:07</td>\n",
       "      <td>purchase</td>\n",
       "      <td>4.990</td>\n",
       "      <td>2020-12-07</td>\n",
       "      <td>EU</td>\n",
       "      <td>Android</td>\n",
       "      <td>A</td>\n",
       "      <td>interface_eu_test</td>\n",
       "    </tr>\n",
       "  </tbody>\n",
       "</table>\n",
       "</div>"
      ],
      "text/plain": [
       "            user_id            event_dt event_name  details first_date  \\\n",
       "0  E1BDDCE0DAFA2679 2020-12-07 20:22:03   purchase   99.990 2020-12-07   \n",
       "1  7B6452F081F49504 2020-12-07 09:22:53   purchase    9.990 2020-12-07   \n",
       "2  9CD9F34546DF254C 2020-12-07 12:59:29   purchase    4.990 2020-12-07   \n",
       "3  96F27A054B191457 2020-12-07 04:02:40   purchase    4.990 2020-12-07   \n",
       "4  1FD7660FDF94CA1F 2020-12-07 10:15:09   purchase    4.990 2020-12-07   \n",
       "5  831887FE7F2D6CBA 2020-12-07 06:50:29   purchase    4.990 2020-12-07   \n",
       "6  6B2F726BFD5F8220 2020-12-07 11:27:42   purchase    4.990 2020-12-07   \n",
       "7  BEB37715AACF53B0 2020-12-07 04:26:15   purchase    4.990 2020-12-07   \n",
       "8  B5FA27F582227197 2020-12-07 01:46:37   purchase    4.990 2020-12-07   \n",
       "9  A92195E3CFB83DBD 2020-12-07 00:32:07   purchase    4.990 2020-12-07   \n",
       "\n",
       "      region   device group                  ab_test  \n",
       "0  N.America   iPhone   NaN                      NaN  \n",
       "1         EU   iPhone   NaN                      NaN  \n",
       "2  N.America   iPhone   NaN                      NaN  \n",
       "3         EU   iPhone     B        interface_eu_test  \n",
       "4         EU  Android   NaN                      NaN  \n",
       "5         EU  Android     A  recommender_system_test  \n",
       "6         EU  Android   NaN                      NaN  \n",
       "7         EU  Android   NaN                      NaN  \n",
       "8  N.America      Mac   NaN                      NaN  \n",
       "9         EU  Android     A        interface_eu_test  "
      ]
     },
     "execution_count": 27,
     "metadata": {},
     "output_type": "execute_result"
    }
   ],
   "source": [
    "#Для удобства соеденим датафреймы users, events, participants,\n",
    "#в которых информация о тестах, событиях и пользователях.\n",
    "data_0 = events.merge(users, on='user_id', how='left')\n",
    "data = data_0.merge(participants, on='user_id', how='left')\n",
    "data.head(10)"
   ]
  },
  {
   "cell_type": "markdown",
   "id": "fa026dff",
   "metadata": {},
   "source": [
    "## Соответствие реальных данных техническому заданию. "
   ]
  },
  {
   "cell_type": "code",
   "execution_count": 28,
   "id": "bf2fe50f",
   "metadata": {},
   "outputs": [
    {
     "data": {
      "text/plain": [
       "array([nan, 'B', 'A'], dtype=object)"
      ]
     },
     "execution_count": 28,
     "metadata": {},
     "output_type": "execute_result"
    }
   ],
   "source": [
    "# Посмотрим какое количество групп в А/В-тесте.\n",
    "data['group'].unique()"
   ]
  },
  {
   "cell_type": "markdown",
   "id": "929e5f10",
   "metadata": {},
   "source": [
    "На А/В-тесте у нас 2 группы. "
   ]
  },
  {
   "cell_type": "code",
   "execution_count": 29,
   "id": "5313093c",
   "metadata": {},
   "outputs": [
    {
     "data": {
      "text/html": [
       "<div>\n",
       "<style scoped>\n",
       "    .dataframe tbody tr th:only-of-type {\n",
       "        vertical-align: middle;\n",
       "    }\n",
       "\n",
       "    .dataframe tbody tr th {\n",
       "        vertical-align: top;\n",
       "    }\n",
       "\n",
       "    .dataframe thead th {\n",
       "        text-align: right;\n",
       "    }\n",
       "</style>\n",
       "<table border=\"1\" class=\"dataframe\">\n",
       "  <thead>\n",
       "    <tr style=\"text-align: right;\">\n",
       "      <th></th>\n",
       "      <th></th>\n",
       "      <th>user_id</th>\n",
       "    </tr>\n",
       "    <tr>\n",
       "      <th>ab_test</th>\n",
       "      <th>group</th>\n",
       "      <th></th>\n",
       "    </tr>\n",
       "  </thead>\n",
       "  <tbody>\n",
       "    <tr>\n",
       "      <th rowspan=\"2\" valign=\"top\">interface_eu_test</th>\n",
       "      <th>A</th>\n",
       "      <td>5467</td>\n",
       "    </tr>\n",
       "    <tr>\n",
       "      <th>B</th>\n",
       "      <td>5383</td>\n",
       "    </tr>\n",
       "    <tr>\n",
       "      <th rowspan=\"2\" valign=\"top\">recommender_system_test</th>\n",
       "      <th>A</th>\n",
       "      <td>2747</td>\n",
       "    </tr>\n",
       "    <tr>\n",
       "      <th>B</th>\n",
       "      <td>928</td>\n",
       "    </tr>\n",
       "  </tbody>\n",
       "</table>\n",
       "</div>"
      ],
      "text/plain": [
       "                               user_id\n",
       "ab_test                 group         \n",
       "interface_eu_test       A         5467\n",
       "                        B         5383\n",
       "recommender_system_test A         2747\n",
       "                        B          928"
      ]
     },
     "execution_count": 29,
     "metadata": {},
     "output_type": "execute_result"
    }
   ],
   "source": [
    "# Посморим данные за какие тесты у нас есть \n",
    "data.groupby(['ab_test','group']).agg({'user_id':'nunique'})"
   ]
  },
  {
   "cell_type": "markdown",
   "id": "f13cf2dc",
   "metadata": {},
   "source": [
    "По техническому заданию нам нужен тест по улучшению рекомендательной системы - recommender_system_test"
   ]
  },
  {
   "cell_type": "code",
   "execution_count": 30,
   "id": "f0ffc690",
   "metadata": {},
   "outputs": [],
   "source": [
    "#Проверим пересекаются ли пользователи в тестах \n",
    "interface_eu_test = data[data['ab_test'] == 'interface_eu_test']\n",
    "recommender_system_test = data[data['ab_test'] == 'recommender_system_test']\n",
    "interface_eu_test_participants = interface_eu_test['user_id'].unique()"
   ]
  },
  {
   "cell_type": "code",
   "execution_count": 31,
   "id": "04dc2e8b",
   "metadata": {},
   "outputs": [
    {
     "data": {
      "text/plain": [
       "ab_test    887\n",
       "dtype: int64"
      ]
     },
     "execution_count": 31,
     "metadata": {},
     "output_type": "execute_result"
    }
   ],
   "source": [
    "#Проверим пересекаются ли пользователи в тестах \n",
    "data.groupby('user_id').agg({'ab_test' : 'nunique'}).query('ab_test>1').count()"
   ]
  },
  {
   "cell_type": "markdown",
   "id": "36b652dc",
   "metadata": {},
   "source": [
    "У нас 887 пользователей, которые есть в обоих группах. Удалим их из данных. И создадим датафрейм только с нужным нам тестом recommender_system_test."
   ]
  },
  {
   "cell_type": "code",
   "execution_count": 32,
   "id": "0faa0458",
   "metadata": {},
   "outputs": [],
   "source": [
    "double_users = data.groupby('user_id').agg({'ab_test' : 'nunique'}).reset_index().query('ab_test>1')['user_id'].unique()\n"
   ]
  },
  {
   "cell_type": "code",
   "execution_count": 33,
   "id": "0575f275",
   "metadata": {},
   "outputs": [
    {
     "data": {
      "text/html": [
       "<div>\n",
       "<style scoped>\n",
       "    .dataframe tbody tr th:only-of-type {\n",
       "        vertical-align: middle;\n",
       "    }\n",
       "\n",
       "    .dataframe tbody tr th {\n",
       "        vertical-align: top;\n",
       "    }\n",
       "\n",
       "    .dataframe thead th {\n",
       "        text-align: right;\n",
       "    }\n",
       "</style>\n",
       "<table border=\"1\" class=\"dataframe\">\n",
       "  <thead>\n",
       "    <tr style=\"text-align: right;\">\n",
       "      <th></th>\n",
       "      <th>user_id</th>\n",
       "      <th>event_dt</th>\n",
       "      <th>event_name</th>\n",
       "      <th>details</th>\n",
       "      <th>first_date</th>\n",
       "      <th>region</th>\n",
       "      <th>device</th>\n",
       "      <th>group</th>\n",
       "      <th>ab_test</th>\n",
       "    </tr>\n",
       "  </thead>\n",
       "  <tbody>\n",
       "    <tr>\n",
       "      <th>5</th>\n",
       "      <td>831887FE7F2D6CBA</td>\n",
       "      <td>2020-12-07 06:50:29</td>\n",
       "      <td>purchase</td>\n",
       "      <td>4.990</td>\n",
       "      <td>2020-12-07</td>\n",
       "      <td>EU</td>\n",
       "      <td>Android</td>\n",
       "      <td>A</td>\n",
       "      <td>recommender_system_test</td>\n",
       "    </tr>\n",
       "    <tr>\n",
       "      <th>17</th>\n",
       "      <td>3C5DD0288AC4FE23</td>\n",
       "      <td>2020-12-07 19:42:40</td>\n",
       "      <td>purchase</td>\n",
       "      <td>4.990</td>\n",
       "      <td>2020-12-07</td>\n",
       "      <td>EU</td>\n",
       "      <td>PC</td>\n",
       "      <td>A</td>\n",
       "      <td>recommender_system_test</td>\n",
       "    </tr>\n",
       "    <tr>\n",
       "      <th>58</th>\n",
       "      <td>49EA242586C87836</td>\n",
       "      <td>2020-12-07 06:31:24</td>\n",
       "      <td>purchase</td>\n",
       "      <td>99.990</td>\n",
       "      <td>2020-12-07</td>\n",
       "      <td>EU</td>\n",
       "      <td>iPhone</td>\n",
       "      <td>B</td>\n",
       "      <td>recommender_system_test</td>\n",
       "    </tr>\n",
       "    <tr>\n",
       "      <th>75</th>\n",
       "      <td>A640F31CAC7823A6</td>\n",
       "      <td>2020-12-07 18:48:26</td>\n",
       "      <td>purchase</td>\n",
       "      <td>4.990</td>\n",
       "      <td>2020-12-07</td>\n",
       "      <td>EU</td>\n",
       "      <td>PC</td>\n",
       "      <td>B</td>\n",
       "      <td>recommender_system_test</td>\n",
       "    </tr>\n",
       "    <tr>\n",
       "      <th>121</th>\n",
       "      <td>A9908F62C41613A8</td>\n",
       "      <td>2020-12-07 11:26:47</td>\n",
       "      <td>purchase</td>\n",
       "      <td>9.990</td>\n",
       "      <td>2020-12-07</td>\n",
       "      <td>EU</td>\n",
       "      <td>PC</td>\n",
       "      <td>B</td>\n",
       "      <td>recommender_system_test</td>\n",
       "    </tr>\n",
       "    <tr>\n",
       "      <th>...</th>\n",
       "      <td>...</td>\n",
       "      <td>...</td>\n",
       "      <td>...</td>\n",
       "      <td>...</td>\n",
       "      <td>...</td>\n",
       "      <td>...</td>\n",
       "      <td>...</td>\n",
       "      <td>...</td>\n",
       "      <td>...</td>\n",
       "    </tr>\n",
       "    <tr>\n",
       "      <th>446091</th>\n",
       "      <td>930EACAE048DFF45</td>\n",
       "      <td>2020-12-29 06:56:00</td>\n",
       "      <td>login</td>\n",
       "      <td>NaN</td>\n",
       "      <td>2020-12-20</td>\n",
       "      <td>EU</td>\n",
       "      <td>PC</td>\n",
       "      <td>A</td>\n",
       "      <td>recommender_system_test</td>\n",
       "    </tr>\n",
       "    <tr>\n",
       "      <th>446128</th>\n",
       "      <td>E5589EAE02ACD150</td>\n",
       "      <td>2020-12-29 22:17:08</td>\n",
       "      <td>login</td>\n",
       "      <td>NaN</td>\n",
       "      <td>2020-12-20</td>\n",
       "      <td>EU</td>\n",
       "      <td>Mac</td>\n",
       "      <td>A</td>\n",
       "      <td>recommender_system_test</td>\n",
       "    </tr>\n",
       "    <tr>\n",
       "      <th>446131</th>\n",
       "      <td>D21F0D4FDCD82DB2</td>\n",
       "      <td>2020-12-29 02:17:00</td>\n",
       "      <td>login</td>\n",
       "      <td>NaN</td>\n",
       "      <td>2020-12-20</td>\n",
       "      <td>EU</td>\n",
       "      <td>iPhone</td>\n",
       "      <td>A</td>\n",
       "      <td>recommender_system_test</td>\n",
       "    </tr>\n",
       "    <tr>\n",
       "      <th>446160</th>\n",
       "      <td>553BAE96C6EB6240</td>\n",
       "      <td>2020-12-29 14:09:14</td>\n",
       "      <td>login</td>\n",
       "      <td>NaN</td>\n",
       "      <td>2020-12-20</td>\n",
       "      <td>EU</td>\n",
       "      <td>Android</td>\n",
       "      <td>A</td>\n",
       "      <td>recommender_system_test</td>\n",
       "    </tr>\n",
       "    <tr>\n",
       "      <th>446183</th>\n",
       "      <td>75845C83258FBF73</td>\n",
       "      <td>2020-12-30 06:42:52</td>\n",
       "      <td>login</td>\n",
       "      <td>NaN</td>\n",
       "      <td>2020-12-07</td>\n",
       "      <td>EU</td>\n",
       "      <td>Android</td>\n",
       "      <td>B</td>\n",
       "      <td>recommender_system_test</td>\n",
       "    </tr>\n",
       "  </tbody>\n",
       "</table>\n",
       "<p>18804 rows × 9 columns</p>\n",
       "</div>"
      ],
      "text/plain": [
       "                 user_id            event_dt event_name  details first_date  \\\n",
       "5       831887FE7F2D6CBA 2020-12-07 06:50:29   purchase    4.990 2020-12-07   \n",
       "17      3C5DD0288AC4FE23 2020-12-07 19:42:40   purchase    4.990 2020-12-07   \n",
       "58      49EA242586C87836 2020-12-07 06:31:24   purchase   99.990 2020-12-07   \n",
       "75      A640F31CAC7823A6 2020-12-07 18:48:26   purchase    4.990 2020-12-07   \n",
       "121     A9908F62C41613A8 2020-12-07 11:26:47   purchase    9.990 2020-12-07   \n",
       "...                  ...                 ...        ...      ...        ...   \n",
       "446091  930EACAE048DFF45 2020-12-29 06:56:00      login      NaN 2020-12-20   \n",
       "446128  E5589EAE02ACD150 2020-12-29 22:17:08      login      NaN 2020-12-20   \n",
       "446131  D21F0D4FDCD82DB2 2020-12-29 02:17:00      login      NaN 2020-12-20   \n",
       "446160  553BAE96C6EB6240 2020-12-29 14:09:14      login      NaN 2020-12-20   \n",
       "446183  75845C83258FBF73 2020-12-30 06:42:52      login      NaN 2020-12-07   \n",
       "\n",
       "       region   device group                  ab_test  \n",
       "5          EU  Android     A  recommender_system_test  \n",
       "17         EU       PC     A  recommender_system_test  \n",
       "58         EU   iPhone     B  recommender_system_test  \n",
       "75         EU       PC     B  recommender_system_test  \n",
       "121        EU       PC     B  recommender_system_test  \n",
       "...       ...      ...   ...                      ...  \n",
       "446091     EU       PC     A  recommender_system_test  \n",
       "446128     EU      Mac     A  recommender_system_test  \n",
       "446131     EU   iPhone     A  recommender_system_test  \n",
       "446160     EU  Android     A  recommender_system_test  \n",
       "446183     EU  Android     B  recommender_system_test  \n",
       "\n",
       "[18804 rows x 9 columns]"
      ]
     },
     "execution_count": 33,
     "metadata": {},
     "output_type": "execute_result"
    }
   ],
   "source": [
    "data = data.query('user_id not in @double_users')\n",
    "recommender_system_test = data[data['ab_test'] == 'recommender_system_test']\n",
    "recommender_system_test"
   ]
  },
  {
   "cell_type": "code",
   "execution_count": 34,
   "id": "34217ab6",
   "metadata": {},
   "outputs": [
    {
     "data": {
      "text/plain": [
       "group    0\n",
       "dtype: int64"
      ]
     },
     "execution_count": 34,
     "metadata": {},
     "output_type": "execute_result"
    }
   ],
   "source": [
    "#Также проверим не пересекаются ли пользователи в тестовых группах A и B\n",
    "recommender_system_test.groupby('user_id').agg({'group' : 'nunique'}).query('group>1').count()"
   ]
  },
  {
   "cell_type": "code",
   "execution_count": 35,
   "id": "577edf19",
   "metadata": {},
   "outputs": [
    {
     "data": {
      "text/html": [
       "<div>\n",
       "<style scoped>\n",
       "    .dataframe tbody tr th:only-of-type {\n",
       "        vertical-align: middle;\n",
       "    }\n",
       "\n",
       "    .dataframe tbody tr th {\n",
       "        vertical-align: top;\n",
       "    }\n",
       "\n",
       "    .dataframe thead th {\n",
       "        text-align: right;\n",
       "    }\n",
       "</style>\n",
       "<table border=\"1\" class=\"dataframe\">\n",
       "  <thead>\n",
       "    <tr style=\"text-align: right;\">\n",
       "      <th></th>\n",
       "      <th>user_id</th>\n",
       "    </tr>\n",
       "    <tr>\n",
       "      <th>group</th>\n",
       "      <th></th>\n",
       "    </tr>\n",
       "  </thead>\n",
       "  <tbody>\n",
       "    <tr>\n",
       "      <th>A</th>\n",
       "      <td>2082</td>\n",
       "    </tr>\n",
       "    <tr>\n",
       "      <th>B</th>\n",
       "      <td>706</td>\n",
       "    </tr>\n",
       "  </tbody>\n",
       "</table>\n",
       "</div>"
      ],
      "text/plain": [
       "       user_id\n",
       "group         \n",
       "A         2082\n",
       "B          706"
      ]
     },
     "execution_count": 35,
     "metadata": {},
     "output_type": "execute_result"
    }
   ],
   "source": [
    "ab_test = recommender_system_test.groupby('group').agg({'user_id':'nunique'})\n",
    "ab_test"
   ]
  },
  {
   "cell_type": "code",
   "execution_count": 36,
   "id": "ece89f26",
   "metadata": {},
   "outputs": [
    {
     "data": {
      "text/plain": [
       "2788"
      ]
     },
     "execution_count": 36,
     "metadata": {},
     "output_type": "execute_result"
    }
   ],
   "source": [
    "recommender_system_test['user_id'].nunique()"
   ]
  },
  {
   "cell_type": "markdown",
   "id": "2bccf255",
   "metadata": {},
   "source": [
    "Ожидаемое количество участников теста = 6000. Этот пункт не соответствует требованиям ТЗ."
   ]
  },
  {
   "cell_type": "markdown",
   "id": "22e901b8",
   "metadata": {},
   "source": [
    "Пользователи в тестовых группах не пересекаются. В тесте участвуют 2788 пользователей, количество клиентов по группам распределены неравномерно. Это может существенно повлиять на результат тестирования. "
   ]
  },
  {
   "cell_type": "code",
   "execution_count": 37,
   "id": "642b831b",
   "metadata": {},
   "outputs": [
    {
     "data": {
      "text/plain": [
       "count                   18804\n",
       "unique                     15\n",
       "top       2020-12-14 00:00:00\n",
       "freq                     2641\n",
       "first     2020-12-07 00:00:00\n",
       "last      2020-12-21 00:00:00\n",
       "Name: first_date, dtype: object"
      ]
     },
     "execution_count": 37,
     "metadata": {},
     "output_type": "execute_result"
    }
   ],
   "source": [
    "#Проверим, соответствует ли временные рамки проекта. \n",
    "recommender_system_test['first_date'].describe()"
   ]
  },
  {
   "cell_type": "markdown",
   "id": "ca657b88",
   "metadata": {},
   "source": [
    "В наш тест должны попасть только те пользователи, которые были зарегистрированы в период набора новых пользователей в тест. Значит должен быть период с 2020-12-07 по 2020-12-21. Всё соответствует требованиям ТЗ. "
   ]
  },
  {
   "cell_type": "code",
   "execution_count": 38,
   "id": "c500e91e",
   "metadata": {},
   "outputs": [
    {
     "data": {
      "text/plain": [
       "count                   18804\n",
       "unique                  12607\n",
       "top       2020-12-10 14:54:17\n",
       "freq                        5\n",
       "first     2020-12-07 00:16:00\n",
       "last      2020-12-30 06:42:52\n",
       "Name: event_dt, dtype: object"
      ]
     },
     "execution_count": 38,
     "metadata": {},
     "output_type": "execute_result"
    }
   ],
   "source": [
    "recommender_system_test['event_dt'].describe()"
   ]
  },
  {
   "cell_type": "markdown",
   "id": "fcdd1fbf",
   "metadata": {},
   "source": [
    "Последнее событие было совершено 2020-12-30, однако согласно ТЗ дата остановки: 2021-01-04. Этот пункт не соответствует требованиям ТЗ. "
   ]
  },
  {
   "cell_type": "code",
   "execution_count": 39,
   "id": "eec81299",
   "metadata": {},
   "outputs": [
    {
     "data": {
      "text/html": [
       "<div>\n",
       "<style scoped>\n",
       "    .dataframe tbody tr th:only-of-type {\n",
       "        vertical-align: middle;\n",
       "    }\n",
       "\n",
       "    .dataframe tbody tr th {\n",
       "        vertical-align: top;\n",
       "    }\n",
       "\n",
       "    .dataframe thead th {\n",
       "        text-align: right;\n",
       "    }\n",
       "</style>\n",
       "<table border=\"1\" class=\"dataframe\">\n",
       "  <thead>\n",
       "    <tr style=\"text-align: right;\">\n",
       "      <th></th>\n",
       "      <th>user_id</th>\n",
       "    </tr>\n",
       "    <tr>\n",
       "      <th>region</th>\n",
       "      <th></th>\n",
       "    </tr>\n",
       "  </thead>\n",
       "  <tbody>\n",
       "    <tr>\n",
       "      <th>APAC</th>\n",
       "      <td>45</td>\n",
       "    </tr>\n",
       "    <tr>\n",
       "      <th>CIS</th>\n",
       "      <td>30</td>\n",
       "    </tr>\n",
       "    <tr>\n",
       "      <th>EU</th>\n",
       "      <td>2594</td>\n",
       "    </tr>\n",
       "    <tr>\n",
       "      <th>N.America</th>\n",
       "      <td>119</td>\n",
       "    </tr>\n",
       "  </tbody>\n",
       "</table>\n",
       "</div>"
      ],
      "text/plain": [
       "           user_id\n",
       "region            \n",
       "APAC            45\n",
       "CIS             30\n",
       "EU            2594\n",
       "N.America      119"
      ]
     },
     "execution_count": 39,
     "metadata": {},
     "output_type": "execute_result"
    }
   ],
   "source": [
    "#Проверим количество участников теста из разных стран. \n",
    "recommender_system_test.groupby('region').agg({'user_id': 'nunique'})"
   ]
  },
  {
   "cell_type": "code",
   "execution_count": 40,
   "id": "4e69b4dc",
   "metadata": {},
   "outputs": [
    {
     "name": "stdout",
     "output_type": "stream",
     "text": [
      "Количество новых пользователй из EU: 15.56%\n"
     ]
    }
   ],
   "source": [
    "eu_users = recommender_system_test[recommender_system_test['region'] == 'EU']['user_id'].nunique()\n",
    "all_users = participants['user_id'].nunique()\n",
    "print('Количество новых пользователй из EU: {:.2%}'.format(eu_users / all_users))"
   ]
  },
  {
   "cell_type": "markdown",
   "id": "4534bd65",
   "metadata": {},
   "source": [
    "Ожидаемое количество пользователей из EU cоответствует ТЗ."
   ]
  },
  {
   "cell_type": "code",
   "execution_count": 41,
   "id": "b1cc2cb7",
   "metadata": {},
   "outputs": [],
   "source": [
    "#Удалим пользователей не из EU\n",
    "recommender_system_test = recommender_system_test[recommender_system_test['region'] == 'EU']"
   ]
  },
  {
   "cell_type": "code",
   "execution_count": 42,
   "id": "490dba2b",
   "metadata": {},
   "outputs": [
    {
     "data": {
      "text/plain": [
       "191"
      ]
     },
     "execution_count": 42,
     "metadata": {},
     "output_type": "execute_result"
    }
   ],
   "source": [
    "#Проверим как много пользователей которые совершили первые действия после 14 дней с момента регистрации. \n",
    "recommender_system_test['lifetime'] = pd.to_datetime(recommender_system_test['event_dt'].dt.date) - recommender_system_test['first_date']\n",
    "recommender_system_test[recommender_system_test['lifetime'] > \"14 days\"]['user_id'].nunique()"
   ]
  },
  {
   "cell_type": "markdown",
   "id": "acd60238",
   "metadata": {},
   "source": [
    "Таких пользователей у нас получилось 191. Удалим их из нашего теста."
   ]
  },
  {
   "cell_type": "code",
   "execution_count": 43,
   "id": "ce3c2988",
   "metadata": {},
   "outputs": [],
   "source": [
    "recommender_system_test = recommender_system_test[recommender_system_test['lifetime'] <= \"14 days\"]"
   ]
  },
  {
   "cell_type": "markdown",
   "id": "b90f2481",
   "metadata": {},
   "source": [
    "Таким образом, данные имеют различия с требованиями ТЗ. \n",
    "- Последнее событие было совершено 2020-12-30, а не 2021-01-04, то есть не хватает ещё 5 дней теста. \n",
    "- Количество клиентов по группам распределены неравномерно\n",
    "- В тесте учавствуют менее 6000 человек, лишь 2788 уникальных пользователей\n",
    "- Не все пользователи уложились в лимит активности 14 дней с момента регестрации"
   ]
  },
  {
   "cell_type": "markdown",
   "id": "4e0bf348",
   "metadata": {},
   "source": [
    "## Продуктовая воронка"
   ]
  },
  {
   "cell_type": "code",
   "execution_count": 44,
   "id": "8cf7e413",
   "metadata": {},
   "outputs": [
    {
     "data": {
      "text/html": [
       "<div>\n",
       "<style scoped>\n",
       "    .dataframe tbody tr th:only-of-type {\n",
       "        vertical-align: middle;\n",
       "    }\n",
       "\n",
       "    .dataframe tbody tr th {\n",
       "        vertical-align: top;\n",
       "    }\n",
       "\n",
       "    .dataframe thead th {\n",
       "        text-align: right;\n",
       "    }\n",
       "</style>\n",
       "<table border=\"1\" class=\"dataframe\">\n",
       "  <thead>\n",
       "    <tr style=\"text-align: right;\">\n",
       "      <th></th>\n",
       "      <th>event_name</th>\n",
       "      <th>total_users</th>\n",
       "    </tr>\n",
       "  </thead>\n",
       "  <tbody>\n",
       "    <tr>\n",
       "      <th>0</th>\n",
       "      <td>login</td>\n",
       "      <td>2593</td>\n",
       "    </tr>\n",
       "    <tr>\n",
       "      <th>2</th>\n",
       "      <td>product_page</td>\n",
       "      <td>1632</td>\n",
       "    </tr>\n",
       "    <tr>\n",
       "      <th>3</th>\n",
       "      <td>purchase</td>\n",
       "      <td>804</td>\n",
       "    </tr>\n",
       "    <tr>\n",
       "      <th>1</th>\n",
       "      <td>product_cart</td>\n",
       "      <td>773</td>\n",
       "    </tr>\n",
       "  </tbody>\n",
       "</table>\n",
       "</div>"
      ],
      "text/plain": [
       "     event_name  total_users\n",
       "0         login         2593\n",
       "2  product_page         1632\n",
       "3      purchase          804\n",
       "1  product_cart          773"
      ]
     },
     "execution_count": 44,
     "metadata": {},
     "output_type": "execute_result"
    }
   ],
   "source": [
    "#Проведем анализ активности пользователей \n",
    "events_users = (recommender_system_test.\n",
    "          groupby('event_name').\n",
    "          agg({'user_id': 'nunique'}).\n",
    "          reset_index().\n",
    "          rename(columns={'user_id' : 'total_users'}).\n",
    "          sort_values(by='total_users', ascending=False))\n",
    "events_users"
   ]
  },
  {
   "cell_type": "code",
   "execution_count": 45,
   "id": "c4b4d245",
   "metadata": {},
   "outputs": [
    {
     "data": {
      "text/html": [
       "<div>\n",
       "<style scoped>\n",
       "    .dataframe tbody tr th:only-of-type {\n",
       "        vertical-align: middle;\n",
       "    }\n",
       "\n",
       "    .dataframe tbody tr th {\n",
       "        vertical-align: top;\n",
       "    }\n",
       "\n",
       "    .dataframe thead th {\n",
       "        text-align: right;\n",
       "    }\n",
       "</style>\n",
       "<table border=\"1\" class=\"dataframe\">\n",
       "  <thead>\n",
       "    <tr style=\"text-align: right;\">\n",
       "      <th></th>\n",
       "      <th>event_name</th>\n",
       "      <th>group</th>\n",
       "      <th>total_users</th>\n",
       "    </tr>\n",
       "  </thead>\n",
       "  <tbody>\n",
       "    <tr>\n",
       "      <th>0</th>\n",
       "      <td>login</td>\n",
       "      <td>A</td>\n",
       "      <td>1939</td>\n",
       "    </tr>\n",
       "    <tr>\n",
       "      <th>1</th>\n",
       "      <td>login</td>\n",
       "      <td>B</td>\n",
       "      <td>654</td>\n",
       "    </tr>\n",
       "    <tr>\n",
       "      <th>2</th>\n",
       "      <td>product_cart</td>\n",
       "      <td>A</td>\n",
       "      <td>589</td>\n",
       "    </tr>\n",
       "    <tr>\n",
       "      <th>3</th>\n",
       "      <td>product_cart</td>\n",
       "      <td>B</td>\n",
       "      <td>184</td>\n",
       "    </tr>\n",
       "    <tr>\n",
       "      <th>4</th>\n",
       "      <td>product_page</td>\n",
       "      <td>A</td>\n",
       "      <td>1265</td>\n",
       "    </tr>\n",
       "    <tr>\n",
       "      <th>5</th>\n",
       "      <td>product_page</td>\n",
       "      <td>B</td>\n",
       "      <td>367</td>\n",
       "    </tr>\n",
       "    <tr>\n",
       "      <th>6</th>\n",
       "      <td>purchase</td>\n",
       "      <td>A</td>\n",
       "      <td>613</td>\n",
       "    </tr>\n",
       "    <tr>\n",
       "      <th>7</th>\n",
       "      <td>purchase</td>\n",
       "      <td>B</td>\n",
       "      <td>191</td>\n",
       "    </tr>\n",
       "  </tbody>\n",
       "</table>\n",
       "</div>"
      ],
      "text/plain": [
       "     event_name group  total_users\n",
       "0         login     A         1939\n",
       "1         login     B          654\n",
       "2  product_cart     A          589\n",
       "3  product_cart     B          184\n",
       "4  product_page     A         1265\n",
       "5  product_page     B          367\n",
       "6      purchase     A          613\n",
       "7      purchase     B          191"
      ]
     },
     "execution_count": 45,
     "metadata": {},
     "output_type": "execute_result"
    }
   ],
   "source": [
    "ab_events = (recommender_system_test.\n",
    "          groupby(['event_name','group']).\n",
    "          agg({'user_id': 'nunique'}).\n",
    "          reset_index().\n",
    "          rename(columns={'user_id' : 'total_users'}))\n",
    "ab_events"
   ]
  },
  {
   "cell_type": "code",
   "execution_count": 46,
   "id": "eb9a9a0a",
   "metadata": {},
   "outputs": [
    {
     "data": {
      "text/html": [
       "<div>\n",
       "<style scoped>\n",
       "    .dataframe tbody tr th:only-of-type {\n",
       "        vertical-align: middle;\n",
       "    }\n",
       "\n",
       "    .dataframe tbody tr th {\n",
       "        vertical-align: top;\n",
       "    }\n",
       "\n",
       "    .dataframe thead th {\n",
       "        text-align: right;\n",
       "    }\n",
       "</style>\n",
       "<table border=\"1\" class=\"dataframe\">\n",
       "  <thead>\n",
       "    <tr style=\"text-align: right;\">\n",
       "      <th></th>\n",
       "      <th>event_name</th>\n",
       "      <th>group</th>\n",
       "      <th>total_users</th>\n",
       "      <th>n</th>\n",
       "      <th>share from total</th>\n",
       "      <th>purcent from previous</th>\n",
       "    </tr>\n",
       "  </thead>\n",
       "  <tbody>\n",
       "    <tr>\n",
       "      <th>0</th>\n",
       "      <td>login</td>\n",
       "      <td>A</td>\n",
       "      <td>1939</td>\n",
       "      <td>1</td>\n",
       "      <td>93.132</td>\n",
       "      <td>NaN</td>\n",
       "    </tr>\n",
       "    <tr>\n",
       "      <th>4</th>\n",
       "      <td>product_page</td>\n",
       "      <td>A</td>\n",
       "      <td>1265</td>\n",
       "      <td>2</td>\n",
       "      <td>60.759</td>\n",
       "      <td>65.240</td>\n",
       "    </tr>\n",
       "    <tr>\n",
       "      <th>2</th>\n",
       "      <td>product_cart</td>\n",
       "      <td>A</td>\n",
       "      <td>589</td>\n",
       "      <td>3</td>\n",
       "      <td>28.290</td>\n",
       "      <td>46.561</td>\n",
       "    </tr>\n",
       "    <tr>\n",
       "      <th>6</th>\n",
       "      <td>purchase</td>\n",
       "      <td>A</td>\n",
       "      <td>613</td>\n",
       "      <td>4</td>\n",
       "      <td>29.443</td>\n",
       "      <td>104.075</td>\n",
       "    </tr>\n",
       "  </tbody>\n",
       "</table>\n",
       "</div>"
      ],
      "text/plain": [
       "     event_name group  total_users  n  share from total  purcent from previous\n",
       "0         login     A         1939  1            93.132                    NaN\n",
       "4  product_page     A         1265  2            60.759                 65.240\n",
       "2  product_cart     A          589  3            28.290                 46.561\n",
       "6      purchase     A          613  4            29.443                104.075"
      ]
     },
     "execution_count": 46,
     "metadata": {},
     "output_type": "execute_result"
    }
   ],
   "source": [
    "#Посчитаем процент перехода на каждую ступень воронки внутри каждой группы. \n",
    "a_events = ab_events[ab_events['group']=='A']\n",
    "a_events['n'] = [1, 3, 2, 4]\n",
    "a_events = a_events.sort_values(by='n')\n",
    "a_events['share from total'] = a_events['total_users'] / ab_test[ab_test.index == 'A']['user_id'].unique() * 100 \n",
    "a_events['purcent from previous'] = a_events['total_users'] / a_events['total_users'].shift(1)* 100\n",
    "a_events"
   ]
  },
  {
   "cell_type": "code",
   "execution_count": 47,
   "id": "2da00d5f",
   "metadata": {},
   "outputs": [
    {
     "data": {
      "text/html": [
       "<div>\n",
       "<style scoped>\n",
       "    .dataframe tbody tr th:only-of-type {\n",
       "        vertical-align: middle;\n",
       "    }\n",
       "\n",
       "    .dataframe tbody tr th {\n",
       "        vertical-align: top;\n",
       "    }\n",
       "\n",
       "    .dataframe thead th {\n",
       "        text-align: right;\n",
       "    }\n",
       "</style>\n",
       "<table border=\"1\" class=\"dataframe\">\n",
       "  <thead>\n",
       "    <tr style=\"text-align: right;\">\n",
       "      <th></th>\n",
       "      <th>event_name</th>\n",
       "      <th>group</th>\n",
       "      <th>total_users</th>\n",
       "      <th>n</th>\n",
       "      <th>share from total</th>\n",
       "      <th>purcent from previous</th>\n",
       "    </tr>\n",
       "  </thead>\n",
       "  <tbody>\n",
       "    <tr>\n",
       "      <th>1</th>\n",
       "      <td>login</td>\n",
       "      <td>B</td>\n",
       "      <td>654</td>\n",
       "      <td>1</td>\n",
       "      <td>92.635</td>\n",
       "      <td>NaN</td>\n",
       "    </tr>\n",
       "    <tr>\n",
       "      <th>5</th>\n",
       "      <td>product_page</td>\n",
       "      <td>B</td>\n",
       "      <td>367</td>\n",
       "      <td>2</td>\n",
       "      <td>51.983</td>\n",
       "      <td>56.116</td>\n",
       "    </tr>\n",
       "    <tr>\n",
       "      <th>3</th>\n",
       "      <td>product_cart</td>\n",
       "      <td>B</td>\n",
       "      <td>184</td>\n",
       "      <td>3</td>\n",
       "      <td>26.062</td>\n",
       "      <td>50.136</td>\n",
       "    </tr>\n",
       "    <tr>\n",
       "      <th>7</th>\n",
       "      <td>purchase</td>\n",
       "      <td>B</td>\n",
       "      <td>191</td>\n",
       "      <td>4</td>\n",
       "      <td>27.054</td>\n",
       "      <td>103.804</td>\n",
       "    </tr>\n",
       "  </tbody>\n",
       "</table>\n",
       "</div>"
      ],
      "text/plain": [
       "     event_name group  total_users  n  share from total  purcent from previous\n",
       "1         login     B          654  1            92.635                    NaN\n",
       "5  product_page     B          367  2            51.983                 56.116\n",
       "3  product_cart     B          184  3            26.062                 50.136\n",
       "7      purchase     B          191  4            27.054                103.804"
      ]
     },
     "execution_count": 47,
     "metadata": {},
     "output_type": "execute_result"
    }
   ],
   "source": [
    "#Посчитаем процент перехода на каждую ступень воронки внутри каждой группы. \n",
    "b_events = ab_events[ab_events['group']=='B']\n",
    "b_events['n'] = [1, 3, 2, 4]\n",
    "b_events = b_events.sort_values(by='n')\n",
    "b_events['share from total'] = b_events['total_users'] / ab_test[ab_test.index == 'B']['user_id'].unique() * 100\n",
    "b_events['purcent from previous'] = b_events['total_users'] / b_events['total_users'].shift(1)* 100\n",
    "b_events"
   ]
  },
  {
   "cell_type": "markdown",
   "id": "0826bd6f",
   "metadata": {},
   "source": [
    "Не все пользователи учавствующие в тесте прошли регестрацию.В каждой группе около 7 % пользователй не прошли регестрацию. После регистрации, только 60% в группе А и 52% в группе B переходят на просмотр карточек товаров. Доходят до оплаты товара в обеих группах около 30% пользователей. Некоторые пользователи пропускают пункт просмотра корзины. В большенстве из группы А. Видимо товары можно оплатить напрямую, используюя быструю покупку, в каточке товара. Больше всего клиенты теряются после первого этапа, в группе А теряются 40% пользователей, в группе B ещё больше, 44%. \n",
    "\n",
    "При расчете конверсии от предидущего этапа воронки, мы видим, что конверсия в тестовой группе снизилась на всех этапах воронки. В обеих группах наибольшая конверсия на последний этап, так как есть люди которые пропускают предпоследний этап. "
   ]
  },
  {
   "cell_type": "markdown",
   "id": "14b4d559",
   "metadata": {},
   "source": [
    "## Исследовательский анализ данных"
   ]
  },
  {
   "cell_type": "code",
   "execution_count": 48,
   "id": "cd03a24c",
   "metadata": {},
   "outputs": [
    {
     "data": {
      "image/png": "[encoded data removed]",
      "text/plain": [
       "<Figure size 432x288 with 1 Axes>"
      ]
     },
     "metadata": {
      "needs_background": "light"
     },
     "output_type": "display_data"
    }
   ],
   "source": [
    "#Построим график распределения количества событий на пользователя в разрезе групп теста\n",
    "plt.hist(recommender_system_test.query('group ==\"A\"').groupby('user_id').agg({'event_name': 'count'}), alpha=0.5, label='A')\n",
    "plt.hist(recommender_system_test.query('group ==\"B\"').groupby('user_id').agg({'event_name': 'count'}), alpha=0.8, label='B')\n",
    "plt.title('Распределение количества событий на пользователя в разрезе групп теста', fontsize=10)\n",
    "plt.xlabel('Количество пользователей', fontsize=10)\n",
    "plt.ylabel('Количество событий', fontsize=10)\n",
    "plt.legend(['group A', 'group B']);"
   ]
  },
  {
   "cell_type": "markdown",
   "id": "d7487a8c",
   "metadata": {},
   "source": [
    "Судя по графику у группы А гораздо больше событий на пользователей. Это логично, ведь группа А более многочисленная нежели группа В. "
   ]
  },
  {
   "cell_type": "code",
   "execution_count": 49,
   "id": "84a36bc4",
   "metadata": {},
   "outputs": [
    {
     "data": {
      "image/png": "[encoded data removed]",
      "text/plain": [
       "<Figure size 1080x360 with 1 Axes>"
      ]
     },
     "metadata": {
      "needs_background": "light"
     },
     "output_type": "display_data"
    }
   ],
   "source": [
    "#Построим график динамики количества событий в группах теста по дням\n",
    "plt.title('Распределение количества событий в группах теста по дням', loc='left')\n",
    "recommender_system_test[recommender_system_test['group'] == 'A']['event_dt'].hist(bins=100, xrot=15,  figsize=(15, 5), alpha=0.6)\n",
    "recommender_system_test[recommender_system_test['group'] == 'B']['event_dt'].hist(bins=100, xrot=15,  figsize=(15, 5), alpha=0.8)\n",
    "plt.xlabel('Дата')                  \n",
    "plt.ylabel('Количество событий') \n",
    "plt.legend(['group A', 'group B']);\n",
    "plt.show()"
   ]
  },
  {
   "cell_type": "code",
   "execution_count": 50,
   "id": "a5b35235",
   "metadata": {},
   "outputs": [
    {
     "data": {
      "text/html": [
       "<div>\n",
       "<style scoped>\n",
       "    .dataframe tbody tr th:only-of-type {\n",
       "        vertical-align: middle;\n",
       "    }\n",
       "\n",
       "    .dataframe tbody tr th {\n",
       "        vertical-align: top;\n",
       "    }\n",
       "\n",
       "    .dataframe thead th {\n",
       "        text-align: right;\n",
       "    }\n",
       "</style>\n",
       "<table border=\"1\" class=\"dataframe\">\n",
       "  <thead>\n",
       "    <tr style=\"text-align: right;\">\n",
       "      <th></th>\n",
       "      <th>name</th>\n",
       "      <th>regions</th>\n",
       "      <th>start_dt</th>\n",
       "      <th>finish_dt</th>\n",
       "    </tr>\n",
       "  </thead>\n",
       "  <tbody>\n",
       "    <tr>\n",
       "      <th>0</th>\n",
       "      <td>Christmas&amp;New Year Promo</td>\n",
       "      <td>EU, N.America</td>\n",
       "      <td>2020-12-25</td>\n",
       "      <td>2021-01-03</td>\n",
       "    </tr>\n",
       "    <tr>\n",
       "      <th>1</th>\n",
       "      <td>St. Valentine's Day Giveaway</td>\n",
       "      <td>EU, CIS, APAC, N.America</td>\n",
       "      <td>2020-02-14</td>\n",
       "      <td>2020-02-16</td>\n",
       "    </tr>\n",
       "    <tr>\n",
       "      <th>2</th>\n",
       "      <td>St. Patric's Day Promo</td>\n",
       "      <td>EU, N.America</td>\n",
       "      <td>2020-03-17</td>\n",
       "      <td>2020-03-19</td>\n",
       "    </tr>\n",
       "    <tr>\n",
       "      <th>3</th>\n",
       "      <td>Easter Promo</td>\n",
       "      <td>EU, CIS, APAC, N.America</td>\n",
       "      <td>2020-04-12</td>\n",
       "      <td>2020-04-19</td>\n",
       "    </tr>\n",
       "    <tr>\n",
       "      <th>4</th>\n",
       "      <td>4th of July Promo</td>\n",
       "      <td>N.America</td>\n",
       "      <td>2020-07-04</td>\n",
       "      <td>2020-07-11</td>\n",
       "    </tr>\n",
       "    <tr>\n",
       "      <th>5</th>\n",
       "      <td>Black Friday Ads Campaign</td>\n",
       "      <td>EU, CIS, APAC, N.America</td>\n",
       "      <td>2020-11-26</td>\n",
       "      <td>2020-12-01</td>\n",
       "    </tr>\n",
       "    <tr>\n",
       "      <th>6</th>\n",
       "      <td>Chinese New Year Promo</td>\n",
       "      <td>APAC</td>\n",
       "      <td>2020-01-25</td>\n",
       "      <td>2020-02-07</td>\n",
       "    </tr>\n",
       "    <tr>\n",
       "      <th>7</th>\n",
       "      <td>Labor day (May 1st) Ads Campaign</td>\n",
       "      <td>EU, CIS, APAC</td>\n",
       "      <td>2020-05-01</td>\n",
       "      <td>2020-05-03</td>\n",
       "    </tr>\n",
       "    <tr>\n",
       "      <th>8</th>\n",
       "      <td>International Women's Day Promo</td>\n",
       "      <td>EU, CIS, APAC</td>\n",
       "      <td>2020-03-08</td>\n",
       "      <td>2020-03-10</td>\n",
       "    </tr>\n",
       "    <tr>\n",
       "      <th>9</th>\n",
       "      <td>Victory Day CIS (May 9th) Event</td>\n",
       "      <td>CIS</td>\n",
       "      <td>2020-05-09</td>\n",
       "      <td>2020-05-11</td>\n",
       "    </tr>\n",
       "    <tr>\n",
       "      <th>10</th>\n",
       "      <td>CIS New Year Gift Lottery</td>\n",
       "      <td>CIS</td>\n",
       "      <td>2020-12-30</td>\n",
       "      <td>2021-01-07</td>\n",
       "    </tr>\n",
       "    <tr>\n",
       "      <th>11</th>\n",
       "      <td>Dragon Boat Festival Giveaway</td>\n",
       "      <td>APAC</td>\n",
       "      <td>2020-06-25</td>\n",
       "      <td>2020-07-01</td>\n",
       "    </tr>\n",
       "    <tr>\n",
       "      <th>12</th>\n",
       "      <td>Single's Day Gift Promo</td>\n",
       "      <td>APAC</td>\n",
       "      <td>2020-11-11</td>\n",
       "      <td>2020-11-12</td>\n",
       "    </tr>\n",
       "    <tr>\n",
       "      <th>13</th>\n",
       "      <td>Chinese Moon Festival</td>\n",
       "      <td>APAC</td>\n",
       "      <td>2020-10-01</td>\n",
       "      <td>2020-10-07</td>\n",
       "    </tr>\n",
       "  </tbody>\n",
       "</table>\n",
       "</div>"
      ],
      "text/plain": [
       "                                name                   regions   start_dt  \\\n",
       "0           Christmas&New Year Promo             EU, N.America 2020-12-25   \n",
       "1       St. Valentine's Day Giveaway  EU, CIS, APAC, N.America 2020-02-14   \n",
       "2             St. Patric's Day Promo             EU, N.America 2020-03-17   \n",
       "3                       Easter Promo  EU, CIS, APAC, N.America 2020-04-12   \n",
       "4                  4th of July Promo                 N.America 2020-07-04   \n",
       "5          Black Friday Ads Campaign  EU, CIS, APAC, N.America 2020-11-26   \n",
       "6             Chinese New Year Promo                      APAC 2020-01-25   \n",
       "7   Labor day (May 1st) Ads Campaign             EU, CIS, APAC 2020-05-01   \n",
       "8    International Women's Day Promo             EU, CIS, APAC 2020-03-08   \n",
       "9    Victory Day CIS (May 9th) Event                       CIS 2020-05-09   \n",
       "10         CIS New Year Gift Lottery                       CIS 2020-12-30   \n",
       "11     Dragon Boat Festival Giveaway                      APAC 2020-06-25   \n",
       "12           Single's Day Gift Promo                      APAC 2020-11-11   \n",
       "13             Chinese Moon Festival                      APAC 2020-10-01   \n",
       "\n",
       "    finish_dt  \n",
       "0  2021-01-03  \n",
       "1  2020-02-16  \n",
       "2  2020-03-19  \n",
       "3  2020-04-19  \n",
       "4  2020-07-11  \n",
       "5  2020-12-01  \n",
       "6  2020-02-07  \n",
       "7  2020-05-03  \n",
       "8  2020-03-10  \n",
       "9  2020-05-11  \n",
       "10 2021-01-07  \n",
       "11 2020-07-01  \n",
       "12 2020-11-12  \n",
       "13 2020-10-07  "
      ]
     },
     "execution_count": 50,
     "metadata": {},
     "output_type": "execute_result"
    }
   ],
   "source": [
    "marketing"
   ]
  },
  {
   "cell_type": "markdown",
   "id": "ef5def74",
   "metadata": {},
   "source": [
    "Судя по данным из таблицы marketing, единственное маркетинговое мероприятие, которе пересекается с тестом - это Christmas & New Year Promo. Посмотрим влияет ли оно на количество логов в группах. "
   ]
  },
  {
   "cell_type": "code",
   "execution_count": 51,
   "id": "d2f78bda",
   "metadata": {},
   "outputs": [
    {
     "data": {
      "image/png": "[encoded data removed]",
      "text/plain": [
       "<Figure size 1080x360 with 1 Axes>"
      ]
     },
     "metadata": {
      "needs_background": "light"
     },
     "output_type": "display_data"
    }
   ],
   "source": [
    "plt.title('Распределение количества событий в группах теста по дням', loc='left')\n",
    "recommender_system_test[recommender_system_test['group'] == 'A']['event_dt'].hist(bins=100, xrot=15,  figsize=(15, 5), alpha=0.6)\n",
    "recommender_system_test[recommender_system_test['group'] == 'B']['event_dt'].hist(bins=100, xrot=15,  figsize=(15, 5), alpha=0.8)\n",
    "recommender_system_test[recommender_system_test['event_dt'] > '2020-12-25']['event_dt'].hist(bins=20, xrot=15, alpha=0.3)\n",
    "plt.xlabel('Дата')                  \n",
    "plt.ylabel('Количество событий') \n",
    "plt.legend(['group A', 'group B', 'Christmas & New Year Promo A+B']);\n",
    "plt.show()"
   ]
  },
  {
   "cell_type": "markdown",
   "id": "bddfee6b",
   "metadata": {},
   "source": [
    "Как мы видим, промо акция Christmas & New Year Promo не сильно повлияла на количество логов. Она лишь незначительно снизила колисечтво событий в обеих группах. "
   ]
  },
  {
   "cell_type": "markdown",
   "id": "d344c32a",
   "metadata": {},
   "source": [
    "В тестовой группе пользовательская активность заметно снизилась. Однако судя по респределению логов по дням, в группе А мы видим сильное увеличение а затем спад активности. В группе В наоборот события протекают более равномерно. "
   ]
  },
  {
   "cell_type": "markdown",
   "id": "a968bd71",
   "metadata": {},
   "source": [
    "## Оценка A/B-теста"
   ]
  },
  {
   "cell_type": "markdown",
   "id": "01047d54",
   "metadata": {},
   "source": [
    "Для того чтобы оценить результат A/B-тестирования проверим статистическую разницу долей z-критерием."
   ]
  },
  {
   "cell_type": "code",
   "execution_count": 52,
   "id": "ca21f9ff",
   "metadata": {},
   "outputs": [
    {
     "data": {
      "text/html": [
       "<div>\n",
       "<style scoped>\n",
       "    .dataframe tbody tr th:only-of-type {\n",
       "        vertical-align: middle;\n",
       "    }\n",
       "\n",
       "    .dataframe tbody tr th {\n",
       "        vertical-align: top;\n",
       "    }\n",
       "\n",
       "    .dataframe thead th {\n",
       "        text-align: right;\n",
       "    }\n",
       "</style>\n",
       "<table border=\"1\" class=\"dataframe\">\n",
       "  <thead>\n",
       "    <tr style=\"text-align: right;\">\n",
       "      <th>group</th>\n",
       "      <th>A</th>\n",
       "      <th>B</th>\n",
       "    </tr>\n",
       "    <tr>\n",
       "      <th>event_name</th>\n",
       "      <th></th>\n",
       "      <th></th>\n",
       "    </tr>\n",
       "  </thead>\n",
       "  <tbody>\n",
       "    <tr>\n",
       "      <th>product_page</th>\n",
       "      <td>1265</td>\n",
       "      <td>367</td>\n",
       "    </tr>\n",
       "    <tr>\n",
       "      <th>purchase</th>\n",
       "      <td>613</td>\n",
       "      <td>191</td>\n",
       "    </tr>\n",
       "    <tr>\n",
       "      <th>product_cart</th>\n",
       "      <td>589</td>\n",
       "      <td>184</td>\n",
       "    </tr>\n",
       "  </tbody>\n",
       "</table>\n",
       "</div>"
      ],
      "text/plain": [
       "group            A    B\n",
       "event_name             \n",
       "product_page  1265  367\n",
       "purchase       613  191\n",
       "product_cart   589  184"
      ]
     },
     "execution_count": 52,
     "metadata": {},
     "output_type": "execute_result"
    }
   ],
   "source": [
    "#Составим таблицу с разделением пользователей по этапам воронки \n",
    "ab_test_users = recommender_system_test.pivot_table(index='event_name', columns='group',values='user_id',aggfunc='nunique').sort_values('A',ascending=False)\n",
    "ab_test_users.drop(['login'], inplace=True, axis=0)\n",
    "ab_test_users"
   ]
  },
  {
   "cell_type": "code",
   "execution_count": 53,
   "id": "a2000d06",
   "metadata": {},
   "outputs": [
    {
     "data": {
      "text/html": [
       "<div>\n",
       "<style scoped>\n",
       "    .dataframe tbody tr th:only-of-type {\n",
       "        vertical-align: middle;\n",
       "    }\n",
       "\n",
       "    .dataframe tbody tr th {\n",
       "        vertical-align: top;\n",
       "    }\n",
       "\n",
       "    .dataframe thead th {\n",
       "        text-align: right;\n",
       "    }\n",
       "</style>\n",
       "<table border=\"1\" class=\"dataframe\">\n",
       "  <thead>\n",
       "    <tr style=\"text-align: right;\">\n",
       "      <th></th>\n",
       "      <th>user_id</th>\n",
       "    </tr>\n",
       "    <tr>\n",
       "      <th>group</th>\n",
       "      <th></th>\n",
       "    </tr>\n",
       "  </thead>\n",
       "  <tbody>\n",
       "    <tr>\n",
       "      <th>A</th>\n",
       "      <td>1939</td>\n",
       "    </tr>\n",
       "    <tr>\n",
       "      <th>B</th>\n",
       "      <td>655</td>\n",
       "    </tr>\n",
       "  </tbody>\n",
       "</table>\n",
       "</div>"
      ],
      "text/plain": [
       "       user_id\n",
       "group         \n",
       "A         1939\n",
       "B          655"
      ]
     },
     "execution_count": 53,
     "metadata": {},
     "output_type": "execute_result"
    }
   ],
   "source": [
    "# сохраним данные об участниках теста в переменную\n",
    "test_users = recommender_system_test.groupby('group')['user_id'].nunique()\n",
    "test_users = test_users.to_frame().reset_index()\n",
    "test_users = test_users.set_index(test_users.columns[0])\n",
    "test_users"
   ]
  },
  {
   "cell_type": "code",
   "execution_count": 54,
   "id": "1397a1a7",
   "metadata": {},
   "outputs": [],
   "source": [
    "# функция для проверки статистической разницы долей z-критерием\n",
    "def z_test(exp1, exp2, event, n):\n",
    "    '''    \n",
    "Функция принимает на вход два датафрейма с логами и по заданному событию попарно проверяет \n",
    "есть ли статистически значимая разница между долями пользователей, совершивших его в группе 1 и группе 2.\n",
    "\n",
    "Входные параметры:\n",
    "    - exp1, exp2 - датафреймы с логами\n",
    "    - event - событие\n",
    "    - alpfa - критический уровень статистической значимости\n",
    "    - n - поправка Боннферони для критического уровня статистической значимости\n",
    "    '''    \n",
    "    # критический уровень статистической значимости зададим 0.05\n",
    "    alpha = 0.05\n",
    "    \n",
    "    # критический уровень статистической значимости c поправкой Бонферрони\n",
    "    bonferroni_alpha = alpha / n\n",
    "    \n",
    "    # число пользователей в группе A и группе B:\n",
    "    a_users = ab_test_users.loc[event, exp1]\n",
    "    b_users = ab_test_users.loc[event, exp2] \n",
    "\n",
    "    # число пользователей, совершивших событие в группе A и группе B\n",
    "    a_success = test_users.loc[exp1, 'user_id'] \n",
    "    b_success = test_users.loc[exp2, 'user_id'] \n",
    "\n",
    "    # пропорции успехов в группах:\n",
    "    pa = a_users/a_success\n",
    "    pb = b_users/b_success\n",
    "    \n",
    "    # пропорция успехов в комбинированном датасете:\n",
    "    p_combined = (a_users + b_users) / (a_success + b_success)\n",
    "\n",
    "    # разница пропорций в датасетах\n",
    "    difference = pa - pb \n",
    "\n",
    "    # считаем статистику в ст.отклонениях стандартного нормального распределения\n",
    "    z_value = difference / np.sqrt(p_combined * (1 - p_combined) * (1/a_users + 1/b_users))\n",
    "\n",
    "    # задаем стандартное нормальное распределение (среднее 0, ст.отклонение 1)\n",
    "    distr = st.norm(0, 1) \n",
    "\n",
    "    p_value = (1 - distr.cdf(abs(z_value))) * 2   #тест двусторонний, удваиваем результат\n",
    "    \n",
    "    print('Событие:', event)\n",
    "    print('p-значение: ', p_value)\n",
    "    \n",
    "    if p_value < bonferroni_alpha:\n",
    "        print('Отвергаем гипотезу: между долями есть разница')\n",
    "    else:\n",
    "        print(\n",
    "        'Не получилось отвергнуть гипотезу, нет оснований считать доли разными')"
   ]
  },
  {
   "cell_type": "markdown",
   "id": "0c85ac56",
   "metadata": {},
   "source": [
    "Сопоставим доли по каждому событию между контрольными группами A и B;\n",
    "\n",
    "Всего у нас 3 вида событий, следовательно для всех тестов мы вводим поправку Бонферрони bonferroni_alpha = alpha / 3, чтобы застраховать себя от ложного результата.\n"
   ]
  },
  {
   "cell_type": "code",
   "execution_count": 55,
   "id": "0ed9f902",
   "metadata": {},
   "outputs": [
    {
     "name": "stdout",
     "output_type": "stream",
     "text": [
      "Событие: product_page\n",
      "p-значение:  0.0013015791861985537\n",
      "Отвергаем гипотезу: между долями есть разница\n",
      "\n",
      "Событие: purchase\n",
      "p-значение:  0.5219653295958127\n",
      "Не получилось отвергнуть гипотезу, нет оснований считать доли разными\n",
      "\n",
      "Событие: product_cart\n",
      "p-значение:  0.5541757406596661\n",
      "Не получилось отвергнуть гипотезу, нет оснований считать доли разными\n",
      "\n"
     ]
    }
   ],
   "source": [
    "# проверим, есть ли статистически значимая разница между группами A и B:\n",
    "for event in ab_test_users.index:\n",
    "    z_test('A', 'B', event, 3)\n",
    "    print()"
   ]
  },
  {
   "cell_type": "markdown",
   "id": "c87da1e5",
   "metadata": {},
   "source": [
    "Таким образом, проверив статистическую значимость с помощью z-критерия, мы обнаружили, что между контрольной и тестовой группой есть разница в показателе product_page. В остальных показателях purchase и product_cart разницы в долях нет. "
   ]
  },
  {
   "cell_type": "markdown",
   "id": "d18d01be",
   "metadata": {},
   "source": [
    "## Итоговый вывод и рекомендации "
   ]
  },
  {
   "cell_type": "markdown",
   "id": "6a620436",
   "metadata": {},
   "source": [
    "Таким образом, мы можем сделать вывод, что A/B-тестирование было проведено с многочисленными ошибками. Руководству нельзя опираться на результаты теста. Для того чтобы его переделать , следует более точно следовать ТЗ на начальных этапах проведения тестирования и соблюдать осторожность при сборе пользователей для тестирования. "
   ]
  }
 ],
 "metadata": {
  "ExecuteTimeLog": [
   {
    "duration": 16,
    "start_time": "2023-11-21T14:03:38.457Z"
   },
   {
    "duration": 56,
    "start_time": "2023-11-21T14:03:39.779Z"
   },
   {
    "duration": 1363,
    "start_time": "2023-11-21T14:03:44.855Z"
   },
   {
    "duration": 917,
    "start_time": "2023-11-21T14:03:46.220Z"
   },
   {
    "duration": 18,
    "start_time": "2023-11-21T14:03:47.139Z"
   },
   {
    "duration": 8,
    "start_time": "2023-11-21T14:03:47.159Z"
   },
   {
    "duration": 10,
    "start_time": "2023-11-21T14:03:47.169Z"
   },
   {
    "duration": 15,
    "start_time": "2023-11-21T14:03:47.181Z"
   },
   {
    "duration": 12,
    "start_time": "2023-11-21T14:03:47.197Z"
   },
   {
    "duration": 99,
    "start_time": "2023-11-21T14:03:47.211Z"
   },
   {
    "duration": 21,
    "start_time": "2023-11-21T14:03:47.311Z"
   },
   {
    "duration": 40,
    "start_time": "2023-11-21T14:03:47.335Z"
   },
   {
    "duration": 12,
    "start_time": "2023-11-21T14:03:47.377Z"
   },
   {
    "duration": 15,
    "start_time": "2023-11-21T14:03:47.391Z"
   },
   {
    "duration": 14,
    "start_time": "2023-11-21T14:03:47.408Z"
   },
   {
    "duration": 364,
    "start_time": "2023-11-21T14:03:47.423Z"
   },
   {
    "duration": 71,
    "start_time": "2023-11-21T14:03:47.789Z"
   },
   {
    "duration": 160,
    "start_time": "2023-11-21T14:03:47.862Z"
   },
   {
    "duration": 68,
    "start_time": "2023-11-21T14:03:48.023Z"
   },
   {
    "duration": 10,
    "start_time": "2023-11-21T14:03:48.093Z"
   },
   {
    "duration": 20,
    "start_time": "2023-11-21T14:03:48.105Z"
   },
   {
    "duration": 33,
    "start_time": "2023-11-21T14:03:48.127Z"
   },
   {
    "duration": 11,
    "start_time": "2023-11-21T14:03:48.162Z"
   },
   {
    "duration": 34,
    "start_time": "2023-11-21T14:03:48.175Z"
   },
   {
    "duration": 50,
    "start_time": "2023-11-21T14:03:48.211Z"
   },
   {
    "duration": 35,
    "start_time": "2023-11-21T14:03:48.262Z"
   },
   {
    "duration": 57,
    "start_time": "2023-11-21T14:03:48.299Z"
   },
   {
    "duration": 38,
    "start_time": "2023-11-21T14:03:48.358Z"
   },
   {
    "duration": 340,
    "start_time": "2023-11-21T14:03:48.398Z"
   },
   {
    "duration": 25,
    "start_time": "2023-11-21T14:03:48.742Z"
   },
   {
    "duration": 204,
    "start_time": "2023-11-21T14:03:48.769Z"
   },
   {
    "duration": 149,
    "start_time": "2023-11-21T14:03:48.975Z"
   },
   {
    "duration": 254,
    "start_time": "2023-11-21T14:03:49.126Z"
   },
   {
    "duration": 231,
    "start_time": "2023-11-21T14:03:49.382Z"
   },
   {
    "duration": 113,
    "start_time": "2023-11-21T14:03:49.615Z"
   },
   {
    "duration": 27,
    "start_time": "2023-11-21T14:03:49.731Z"
   },
   {
    "duration": 17,
    "start_time": "2023-11-21T14:03:49.760Z"
   },
   {
    "duration": 9,
    "start_time": "2023-11-21T14:03:49.779Z"
   },
   {
    "duration": 11,
    "start_time": "2023-11-21T14:03:49.790Z"
   },
   {
    "duration": 11,
    "start_time": "2023-11-21T14:03:49.803Z"
   },
   {
    "duration": 40,
    "start_time": "2023-11-21T14:03:49.815Z"
   },
   {
    "duration": 15,
    "start_time": "2023-11-21T14:03:49.857Z"
   },
   {
    "duration": 7,
    "start_time": "2023-11-21T14:03:49.874Z"
   },
   {
    "duration": 20,
    "start_time": "2023-11-21T14:03:49.882Z"
   },
   {
    "duration": 8,
    "start_time": "2023-11-21T14:03:49.904Z"
   },
   {
    "duration": 40,
    "start_time": "2023-11-21T14:03:49.913Z"
   },
   {
    "duration": 17,
    "start_time": "2023-11-21T14:03:49.954Z"
   },
   {
    "duration": 13,
    "start_time": "2023-11-21T14:03:49.972Z"
   },
   {
    "duration": 28,
    "start_time": "2023-11-21T14:03:49.986Z"
   },
   {
    "duration": 204,
    "start_time": "2023-11-21T14:03:50.015Z"
   },
   {
    "duration": 597,
    "start_time": "2023-11-21T14:03:50.220Z"
   },
   {
    "duration": 8,
    "start_time": "2023-11-21T14:03:50.819Z"
   },
   {
    "duration": 631,
    "start_time": "2023-11-21T14:03:50.829Z"
   },
   {
    "duration": 32,
    "start_time": "2023-11-21T14:03:51.462Z"
   },
   {
    "duration": 16,
    "start_time": "2023-11-21T14:03:51.496Z"
   },
   {
    "duration": 6,
    "start_time": "2023-11-21T14:03:51.513Z"
   },
   {
    "duration": 15,
    "start_time": "2023-11-21T14:03:51.520Z"
   },
   {
    "duration": 8,
    "start_time": "2023-11-21T14:15:44.666Z"
   },
   {
    "duration": 8,
    "start_time": "2023-11-21T14:15:51.082Z"
   },
   {
    "duration": 8,
    "start_time": "2023-11-21T14:15:55.600Z"
   },
   {
    "duration": 100,
    "start_time": "2023-11-21T14:33:58.305Z"
   },
   {
    "duration": 1159,
    "start_time": "2023-11-21T14:34:26.865Z"
   },
   {
    "duration": 562,
    "start_time": "2023-11-21T14:34:28.026Z"
   },
   {
    "duration": 12,
    "start_time": "2023-11-21T14:34:28.589Z"
   },
   {
    "duration": 109,
    "start_time": "2023-11-21T14:34:28.603Z"
   },
   {
    "duration": 9,
    "start_time": "2023-11-21T14:34:28.714Z"
   },
   {
    "duration": 11,
    "start_time": "2023-11-21T14:34:28.724Z"
   },
   {
    "duration": 9,
    "start_time": "2023-11-21T14:34:28.736Z"
   },
   {
    "duration": 41,
    "start_time": "2023-11-21T14:34:28.746Z"
   },
   {
    "duration": 18,
    "start_time": "2023-11-21T14:34:28.789Z"
   },
   {
    "duration": 28,
    "start_time": "2023-11-21T14:34:28.808Z"
   },
   {
    "duration": 8,
    "start_time": "2023-11-21T14:34:28.851Z"
   },
   {
    "duration": 9,
    "start_time": "2023-11-21T14:34:28.860Z"
   },
   {
    "duration": 10,
    "start_time": "2023-11-21T14:34:28.871Z"
   },
   {
    "duration": 334,
    "start_time": "2023-11-21T14:34:28.883Z"
   },
   {
    "duration": 70,
    "start_time": "2023-11-21T14:34:29.219Z"
   },
   {
    "duration": 149,
    "start_time": "2023-11-21T14:34:29.291Z"
   },
   {
    "duration": 49,
    "start_time": "2023-11-21T14:34:29.442Z"
   },
   {
    "duration": 8,
    "start_time": "2023-11-21T14:34:29.492Z"
   },
   {
    "duration": 21,
    "start_time": "2023-11-21T14:34:29.501Z"
   },
   {
    "duration": 12,
    "start_time": "2023-11-21T14:34:29.523Z"
   },
   {
    "duration": 29,
    "start_time": "2023-11-21T14:34:29.536Z"
   },
   {
    "duration": 45,
    "start_time": "2023-11-21T14:34:29.567Z"
   },
   {
    "duration": 43,
    "start_time": "2023-11-21T14:34:29.614Z"
   },
   {
    "duration": 35,
    "start_time": "2023-11-21T14:34:29.658Z"
   },
   {
    "duration": 31,
    "start_time": "2023-11-21T14:34:29.695Z"
   },
   {
    "duration": 52,
    "start_time": "2023-11-21T14:34:29.727Z"
   },
   {
    "duration": 306,
    "start_time": "2023-11-21T14:34:29.781Z"
   },
   {
    "duration": 23,
    "start_time": "2023-11-21T14:34:30.088Z"
   },
   {
    "duration": 203,
    "start_time": "2023-11-21T14:34:30.112Z"
   },
   {
    "duration": 128,
    "start_time": "2023-11-21T14:34:30.317Z"
   },
   {
    "duration": 245,
    "start_time": "2023-11-21T14:34:30.447Z"
   },
   {
    "duration": 240,
    "start_time": "2023-11-21T14:34:30.693Z"
   },
   {
    "duration": 91,
    "start_time": "2023-11-21T14:34:30.934Z"
   },
   {
    "duration": 13,
    "start_time": "2023-11-21T14:34:31.027Z"
   },
   {
    "duration": 47,
    "start_time": "2023-11-21T14:34:31.042Z"
   },
   {
    "duration": 36,
    "start_time": "2023-11-21T14:34:31.091Z"
   },
   {
    "duration": 40,
    "start_time": "2023-11-21T14:34:31.129Z"
   },
   {
    "duration": 32,
    "start_time": "2023-11-21T14:34:31.170Z"
   },
   {
    "duration": 24,
    "start_time": "2023-11-21T14:34:31.204Z"
   },
   {
    "duration": 31,
    "start_time": "2023-11-21T14:34:31.230Z"
   },
   {
    "duration": 23,
    "start_time": "2023-11-21T14:34:31.265Z"
   },
   {
    "duration": 36,
    "start_time": "2023-11-21T14:34:31.290Z"
   },
   {
    "duration": 37,
    "start_time": "2023-11-21T14:34:31.328Z"
   },
   {
    "duration": 30,
    "start_time": "2023-11-21T14:34:31.366Z"
   },
   {
    "duration": 31,
    "start_time": "2023-11-21T14:34:31.397Z"
   },
   {
    "duration": 32,
    "start_time": "2023-11-21T14:34:31.429Z"
   },
   {
    "duration": 32,
    "start_time": "2023-11-21T14:34:31.462Z"
   },
   {
    "duration": 210,
    "start_time": "2023-11-21T14:34:31.496Z"
   },
   {
    "duration": 532,
    "start_time": "2023-11-21T14:34:31.708Z"
   },
   {
    "duration": 8,
    "start_time": "2023-11-21T14:34:32.251Z"
   },
   {
    "duration": 596,
    "start_time": "2023-11-21T14:34:32.260Z"
   },
   {
    "duration": 21,
    "start_time": "2023-11-21T14:34:32.858Z"
   },
   {
    "duration": 11,
    "start_time": "2023-11-21T14:34:32.880Z"
   },
   {
    "duration": 5,
    "start_time": "2023-11-21T14:34:32.893Z"
   },
   {
    "duration": 10,
    "start_time": "2023-11-21T14:34:32.900Z"
   }
  ],
  "kernelspec": {
   "display_name": "Python 3 (ipykernel)",
   "language": "python",
   "name": "python3"
  },
  "language_info": {
   "codemirror_mode": {
    "name": "ipython",
    "version": 3
   },
   "file_extension": ".py",
   "mimetype": "text/x-python",
   "name": "python",
   "nbconvert_exporter": "python",
   "pygments_lexer": "ipython3",
   "version": "3.10.9"
  },
  "toc": {
   "base_numbering": 1,
   "nav_menu": {},
   "number_sections": true,
   "sideBar": true,
   "skip_h1_title": true,
   "title_cell": "Table of Contents",
   "title_sidebar": "Contents",
   "toc_cell": false,
   "toc_position": {},
   "toc_section_display": true,
   "toc_window_display": false
  }
 },
 "nbformat": 4,
 "nbformat_minor": 5
}
