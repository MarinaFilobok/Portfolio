{
 "cells": [
  {
   "cell_type": "markdown",
   "metadata": {},
   "source": [
    "# Анализ данных интернет-магазина товаров для дома «Пока все ещё тут»"
   ]
  },
  {
   "cell_type": "markdown",
   "metadata": {},
   "source": [
    "В нашем распоряжении данные интернет-магазина «Пока все ещё тут», который продаёт товары для дома и быта. \n",
    "Нам доступны данные о датах заказов, индификатор пользователей и заказов, наименование товара, количество товара в заказе и цена товара. \n",
    "Цель проекта - сегментировать покупателей по профилю потребления для создания персонализированных предложений. \n",
    "\n",
    "Наша работа будет состоять из 6 шагов:\n",
    "\n",
    "1. Загрузка данных\n",
    "2. Предобработка данных (исследовать пропущенные значения, дубликаты, типы данных, наименование колонок, проверка на бизнес-правила \"1 заказ - 1 клиент\" и \"1 заказ\" - \"1 дата\")\n",
    "3. Исследовательский анализ данных (добавление необходимых столбцов: общее количество заказов у клиента, средний чек клиента, сумма общих покупок клиента, сумма текущего заказа)\n",
    "4. Сегментирование покупателей по профилю потребления (с исспользованием RFM-анализа, для этого используем 3 метрики: давность заказа, частота покупок и сумма покупок)\n",
    "5. Формулировка и проверка статистических гипотез:\n",
    "  - Гипотеза о различии среднего чека в группах \n",
    "  - Гипотеза о различии количества заказов в группах \n",
    "6. Презентация и итоговый вывод\n",
    "\n",
    "В итоге работы мы получим информацию о том, на какие группы мы можем разделить покупателей для внедрения персонализированных предложений. Также мы подтвердим или опровергнем наши гипотезы."
   ]
  },
  {
   "cell_type": "markdown",
   "metadata": {},
   "source": [
    "## Загрузка данных и импорт необходимых библиотек."
   ]
  },
  {
   "cell_type": "code",
   "execution_count": 1,
   "metadata": {},
   "outputs": [],
   "source": [
    "#Аналитика\n",
    "import pandas as pd\n",
    "import numpy as np \n",
    "import datetime as dt\n",
    "from datetime import datetime, timedelta\n",
    "import math\n",
    "import scipy.stats as stats\n",
    "from scipy import stats as st\n",
    "\n",
    "#Визуализация \n",
    "import seaborn as sns\n",
    "import matplotlib.pyplot as plt\n",
    "from plotly.graph_objs import Scatter, Figure, Layout\n",
    "import plotly\n",
    "import plotly.graph_objs as go\n",
    "import plotly.express as px\n",
    "\n",
    "# для игнорирования предупреждений\n",
    "import warnings\n",
    "warnings.filterwarnings('ignore')\n",
    "\n",
    "# увеличим количество символов, которые можно показывать\n",
    "pd.options.display.max_colwidth = 150\n",
    "# выставляем ограничение на показ знаков после запятой\n",
    "pd.options.display.float_format = '{:,.3f}'.format"
   ]
  },
  {
   "cell_type": "code",
   "execution_count": 2,
   "metadata": {},
   "outputs": [],
   "source": [
    "#Откроем файлы.\n",
    "try:\n",
    "    data = pd.read_csv('/datasets/ecom_dataset_upd.csv')\n",
    "except:\n",
    "    data = pd.read_csv('ecom_dataset_upd.csv')"
   ]
  },
  {
   "cell_type": "markdown",
   "metadata": {},
   "source": [
    "## Предобработка данных."
   ]
  },
  {
   "cell_type": "code",
   "execution_count": 3,
   "metadata": {},
   "outputs": [
    {
     "data": {
      "text/html": [
       "<div>\n",
       "<style scoped>\n",
       "    .dataframe tbody tr th:only-of-type {\n",
       "        vertical-align: middle;\n",
       "    }\n",
       "\n",
       "    .dataframe tbody tr th {\n",
       "        vertical-align: top;\n",
       "    }\n",
       "\n",
       "    .dataframe thead th {\n",
       "        text-align: right;\n",
       "    }\n",
       "</style>\n",
       "<table border=\"1\" class=\"dataframe\">\n",
       "  <thead>\n",
       "    <tr style=\"text-align: right;\">\n",
       "      <th></th>\n",
       "      <th>date</th>\n",
       "      <th>customer_id</th>\n",
       "      <th>order_id</th>\n",
       "      <th>product</th>\n",
       "      <th>quantity</th>\n",
       "      <th>price</th>\n",
       "    </tr>\n",
       "  </thead>\n",
       "  <tbody>\n",
       "    <tr>\n",
       "      <th>0</th>\n",
       "      <td>2018100100</td>\n",
       "      <td>ee47d746-6d2f-4d3c-9622-c31412542920</td>\n",
       "      <td>68477</td>\n",
       "      <td>Комнатное растение в горшке Алое Вера, d12, h30</td>\n",
       "      <td>1</td>\n",
       "      <td>142.000</td>\n",
       "    </tr>\n",
       "    <tr>\n",
       "      <th>1</th>\n",
       "      <td>2018100100</td>\n",
       "      <td>ee47d746-6d2f-4d3c-9622-c31412542920</td>\n",
       "      <td>68477</td>\n",
       "      <td>Комнатное растение в горшке Кофе Арабика, d12, h25</td>\n",
       "      <td>1</td>\n",
       "      <td>194.000</td>\n",
       "    </tr>\n",
       "    <tr>\n",
       "      <th>2</th>\n",
       "      <td>2018100100</td>\n",
       "      <td>ee47d746-6d2f-4d3c-9622-c31412542920</td>\n",
       "      <td>68477</td>\n",
       "      <td>Радермахера d-12 см h-20 см</td>\n",
       "      <td>1</td>\n",
       "      <td>112.000</td>\n",
       "    </tr>\n",
       "    <tr>\n",
       "      <th>3</th>\n",
       "      <td>2018100100</td>\n",
       "      <td>ee47d746-6d2f-4d3c-9622-c31412542920</td>\n",
       "      <td>68477</td>\n",
       "      <td>Хризолидокарпус Лутесценс d-9 см</td>\n",
       "      <td>1</td>\n",
       "      <td>179.000</td>\n",
       "    </tr>\n",
       "    <tr>\n",
       "      <th>4</th>\n",
       "      <td>2018100100</td>\n",
       "      <td>ee47d746-6d2f-4d3c-9622-c31412542920</td>\n",
       "      <td>68477</td>\n",
       "      <td>Циперус Зумула d-12 см h-25 см</td>\n",
       "      <td>1</td>\n",
       "      <td>112.000</td>\n",
       "    </tr>\n",
       "  </tbody>\n",
       "</table>\n",
       "</div>"
      ],
      "text/plain": [
       "         date                           customer_id  order_id  \\\n",
       "0  2018100100  ee47d746-6d2f-4d3c-9622-c31412542920     68477   \n",
       "1  2018100100  ee47d746-6d2f-4d3c-9622-c31412542920     68477   \n",
       "2  2018100100  ee47d746-6d2f-4d3c-9622-c31412542920     68477   \n",
       "3  2018100100  ee47d746-6d2f-4d3c-9622-c31412542920     68477   \n",
       "4  2018100100  ee47d746-6d2f-4d3c-9622-c31412542920     68477   \n",
       "\n",
       "                                              product  quantity   price  \n",
       "0     Комнатное растение в горшке Алое Вера, d12, h30         1 142.000  \n",
       "1  Комнатное растение в горшке Кофе Арабика, d12, h25         1 194.000  \n",
       "2                         Радермахера d-12 см h-20 см         1 112.000  \n",
       "3                    Хризолидокарпус Лутесценс d-9 см         1 179.000  \n",
       "4                      Циперус Зумула d-12 см h-25 см         1 112.000  "
      ]
     },
     "execution_count": 3,
     "metadata": {},
     "output_type": "execute_result"
    }
   ],
   "source": [
    "data.head(5)"
   ]
  },
  {
   "cell_type": "code",
   "execution_count": 4,
   "metadata": {},
   "outputs": [
    {
     "name": "stdout",
     "output_type": "stream",
     "text": [
      "<class 'pandas.core.frame.DataFrame'>\n",
      "RangeIndex: 7474 entries, 0 to 7473\n",
      "Data columns (total 6 columns):\n",
      " #   Column       Non-Null Count  Dtype  \n",
      "---  ------       --------------  -----  \n",
      " 0   date         7474 non-null   int64  \n",
      " 1   customer_id  7474 non-null   object \n",
      " 2   order_id     7474 non-null   int64  \n",
      " 3   product      7474 non-null   object \n",
      " 4   quantity     7474 non-null   int64  \n",
      " 5   price        7474 non-null   float64\n",
      "dtypes: float64(1), int64(3), object(2)\n",
      "memory usage: 350.5+ KB\n"
     ]
    }
   ],
   "source": [
    "data.info()"
   ]
  },
  {
   "cell_type": "code",
   "execution_count": 5,
   "metadata": {},
   "outputs": [
    {
     "data": {
      "text/plain": [
       "0"
      ]
     },
     "metadata": {},
     "output_type": "display_data"
    },
    {
     "data": {
      "text/plain": [
       "date           0\n",
       "customer_id    0\n",
       "order_id       0\n",
       "product        0\n",
       "quantity       0\n",
       "price          0\n",
       "dtype: int64"
      ]
     },
     "execution_count": 5,
     "metadata": {},
     "output_type": "execute_result"
    }
   ],
   "source": [
    "#Проверим на наличие пропусков и дубликатов \n",
    "display(data.duplicated().sum())\n",
    "data.isna().sum()"
   ]
  },
  {
   "cell_type": "markdown",
   "metadata": {},
   "source": [
    "Всего у нас 6 столбов и 7474 строк, дубликатов и пропусков в данных не обнаружено. Наименования колонок соответстует требованиям.  \n",
    "Нужно привести данные в столбце date к типу даты pandas."
   ]
  },
  {
   "cell_type": "code",
   "execution_count": 6,
   "metadata": {},
   "outputs": [],
   "source": [
    "# Приведем данные в столбце date к типу даты pandas\n",
    "data['date'] = pd.to_datetime(data['date'], format='%Y%m%d%H')"
   ]
  },
  {
   "cell_type": "markdown",
   "metadata": {},
   "source": [
    "Проверим на неявные дубликаты в данных по бизнес-правилам \"1 заказ - 1 клиент\" и \"1 заказ\" - \"1 дата\""
   ]
  },
  {
   "cell_type": "code",
   "execution_count": 7,
   "metadata": {},
   "outputs": [
    {
     "data": {
      "text/html": [
       "<div>\n",
       "<style scoped>\n",
       "    .dataframe tbody tr th:only-of-type {\n",
       "        vertical-align: middle;\n",
       "    }\n",
       "\n",
       "    .dataframe tbody tr th {\n",
       "        vertical-align: top;\n",
       "    }\n",
       "\n",
       "    .dataframe thead th {\n",
       "        text-align: right;\n",
       "    }\n",
       "</style>\n",
       "<table border=\"1\" class=\"dataframe\">\n",
       "  <thead>\n",
       "    <tr style=\"text-align: right;\">\n",
       "      <th></th>\n",
       "      <th>customer_id</th>\n",
       "    </tr>\n",
       "    <tr>\n",
       "      <th>order_id</th>\n",
       "      <th></th>\n",
       "    </tr>\n",
       "  </thead>\n",
       "  <tbody>\n",
       "    <tr>\n",
       "      <th>14872</th>\n",
       "      <td>2</td>\n",
       "    </tr>\n",
       "    <tr>\n",
       "      <th>68785</th>\n",
       "      <td>2</td>\n",
       "    </tr>\n",
       "    <tr>\n",
       "      <th>69283</th>\n",
       "      <td>2</td>\n",
       "    </tr>\n",
       "    <tr>\n",
       "      <th>69310</th>\n",
       "      <td>2</td>\n",
       "    </tr>\n",
       "    <tr>\n",
       "      <th>69345</th>\n",
       "      <td>2</td>\n",
       "    </tr>\n",
       "  </tbody>\n",
       "</table>\n",
       "</div>"
      ],
      "text/plain": [
       "          customer_id\n",
       "order_id             \n",
       "14872               2\n",
       "68785               2\n",
       "69283               2\n",
       "69310               2\n",
       "69345               2"
      ]
     },
     "metadata": {},
     "output_type": "display_data"
    },
    {
     "name": "stdout",
     "output_type": "stream",
     "text": [
      "Количество уникальных заказов с различными клиентскими id: 29\n"
     ]
    }
   ],
   "source": [
    "# Проверка на бизнес-правило \"1 заказ - 1 клиент\"\n",
    "dublicates_order = data.groupby('order_id').agg({'customer_id':'nunique'}).query('customer_id > 1')\n",
    "display(dublicates_order.head(5))\n",
    "print('Количество уникальных заказов с различными клиентскими id:', dublicates_order.shape[0])"
   ]
  },
  {
   "cell_type": "markdown",
   "metadata": {},
   "source": [
    "Всего у нас нашлось 29 уникальных заказов с различными клиентскими id. Скорее всего это ошибка была допущена во время загрузки данных на сервер. Так как таких заказов не сильно много, удалим их из итогового датафрейма.   "
   ]
  },
  {
   "cell_type": "code",
   "execution_count": 8,
   "metadata": {},
   "outputs": [],
   "source": [
    "#Образуем лист повторяющихся id заказов \n",
    "list_of_order_id = dublicates_order.index.tolist()\n",
    "#Удалим данные заказы из итогового датафрейма\n",
    "data = data.query('order_id not in @list_of_order_id')"
   ]
  },
  {
   "cell_type": "code",
   "execution_count": 9,
   "metadata": {},
   "outputs": [
    {
     "data": {
      "text/html": [
       "<div>\n",
       "<style scoped>\n",
       "    .dataframe tbody tr th:only-of-type {\n",
       "        vertical-align: middle;\n",
       "    }\n",
       "\n",
       "    .dataframe tbody tr th {\n",
       "        vertical-align: top;\n",
       "    }\n",
       "\n",
       "    .dataframe thead th {\n",
       "        text-align: right;\n",
       "    }\n",
       "</style>\n",
       "<table border=\"1\" class=\"dataframe\">\n",
       "  <thead>\n",
       "    <tr style=\"text-align: right;\">\n",
       "      <th></th>\n",
       "      <th>date</th>\n",
       "    </tr>\n",
       "    <tr>\n",
       "      <th>order_id</th>\n",
       "      <th></th>\n",
       "    </tr>\n",
       "  </thead>\n",
       "  <tbody>\n",
       "    <tr>\n",
       "      <th>13547</th>\n",
       "      <td>7</td>\n",
       "    </tr>\n",
       "    <tr>\n",
       "      <th>14500</th>\n",
       "      <td>4</td>\n",
       "    </tr>\n",
       "    <tr>\n",
       "      <th>14504</th>\n",
       "      <td>2</td>\n",
       "    </tr>\n",
       "    <tr>\n",
       "      <th>14505</th>\n",
       "      <td>2</td>\n",
       "    </tr>\n",
       "    <tr>\n",
       "      <th>14521</th>\n",
       "      <td>6</td>\n",
       "    </tr>\n",
       "  </tbody>\n",
       "</table>\n",
       "</div>"
      ],
      "text/plain": [
       "          date\n",
       "order_id      \n",
       "13547        7\n",
       "14500        4\n",
       "14504        2\n",
       "14505        2\n",
       "14521        6"
      ]
     },
     "metadata": {},
     "output_type": "display_data"
    },
    {
     "name": "stdout",
     "output_type": "stream",
     "text": [
      "Количество уникальных заказов с различными датами: 256\n"
     ]
    }
   ],
   "source": [
    "# Проверка на бизнес-правила \"1 заказ\" - \"1 дата\"\n",
    "dublicates_date = data.groupby('order_id').agg({'date':'nunique'}).query('date > 1')\n",
    "display(dublicates_date.head(5))\n",
    "print('Количество уникальных заказов с различными датами:', dublicates_date.shape[0])"
   ]
  },
  {
   "cell_type": "markdown",
   "metadata": {},
   "source": [
    "Всего мы нашли 256 уникальных заказов с разными датами. Рассмотрим один из таких заказов более детально. "
   ]
  },
  {
   "cell_type": "code",
   "execution_count": 10,
   "metadata": {},
   "outputs": [
    {
     "data": {
      "text/html": [
       "<div>\n",
       "<style scoped>\n",
       "    .dataframe tbody tr th:only-of-type {\n",
       "        vertical-align: middle;\n",
       "    }\n",
       "\n",
       "    .dataframe tbody tr th {\n",
       "        vertical-align: top;\n",
       "    }\n",
       "\n",
       "    .dataframe thead th {\n",
       "        text-align: right;\n",
       "    }\n",
       "</style>\n",
       "<table border=\"1\" class=\"dataframe\">\n",
       "  <thead>\n",
       "    <tr style=\"text-align: right;\">\n",
       "      <th></th>\n",
       "      <th>date</th>\n",
       "      <th>customer_id</th>\n",
       "      <th>order_id</th>\n",
       "      <th>product</th>\n",
       "      <th>quantity</th>\n",
       "      <th>price</th>\n",
       "    </tr>\n",
       "  </thead>\n",
       "  <tbody>\n",
       "    <tr>\n",
       "      <th>1471</th>\n",
       "      <td>2019-01-10 17:00:00</td>\n",
       "      <td>4d416cec-6f5b-4444-9b50-08770397714b</td>\n",
       "      <td>14521</td>\n",
       "      <td>Пеларгония зональная диам. 12 см белая полумахровая</td>\n",
       "      <td>1</td>\n",
       "      <td>188.000</td>\n",
       "    </tr>\n",
       "    <tr>\n",
       "      <th>1472</th>\n",
       "      <td>2019-01-10 17:00:00</td>\n",
       "      <td>4d416cec-6f5b-4444-9b50-08770397714b</td>\n",
       "      <td>14521</td>\n",
       "      <td>Пеларгония зональная диам. 12 см красная махровая</td>\n",
       "      <td>1</td>\n",
       "      <td>188.000</td>\n",
       "    </tr>\n",
       "    <tr>\n",
       "      <th>1473</th>\n",
       "      <td>2019-01-10 17:00:00</td>\n",
       "      <td>4d416cec-6f5b-4444-9b50-08770397714b</td>\n",
       "      <td>14521</td>\n",
       "      <td>Пеларгония зональная диам. 12 см темнорозовая полумахровая</td>\n",
       "      <td>1</td>\n",
       "      <td>188.000</td>\n",
       "    </tr>\n",
       "    <tr>\n",
       "      <th>1475</th>\n",
       "      <td>2019-01-10 18:00:00</td>\n",
       "      <td>4d416cec-6f5b-4444-9b50-08770397714b</td>\n",
       "      <td>14521</td>\n",
       "      <td>Пеларгония зональная диам. 12 см белая полумахровая</td>\n",
       "      <td>1</td>\n",
       "      <td>188.000</td>\n",
       "    </tr>\n",
       "    <tr>\n",
       "      <th>1476</th>\n",
       "      <td>2019-01-10 18:00:00</td>\n",
       "      <td>4d416cec-6f5b-4444-9b50-08770397714b</td>\n",
       "      <td>14521</td>\n",
       "      <td>Пеларгония зональная диам. 12 см красная махровая</td>\n",
       "      <td>1</td>\n",
       "      <td>188.000</td>\n",
       "    </tr>\n",
       "    <tr>\n",
       "      <th>1477</th>\n",
       "      <td>2019-01-10 18:00:00</td>\n",
       "      <td>4d416cec-6f5b-4444-9b50-08770397714b</td>\n",
       "      <td>14521</td>\n",
       "      <td>Пеларгония зональная диам. 12 см темнорозовая полумахровая</td>\n",
       "      <td>1</td>\n",
       "      <td>188.000</td>\n",
       "    </tr>\n",
       "    <tr>\n",
       "      <th>1500</th>\n",
       "      <td>2019-01-13 11:00:00</td>\n",
       "      <td>4d416cec-6f5b-4444-9b50-08770397714b</td>\n",
       "      <td>14521</td>\n",
       "      <td>Пеларгония зональная диам. 12 см белая полумахровая</td>\n",
       "      <td>1</td>\n",
       "      <td>188.000</td>\n",
       "    </tr>\n",
       "    <tr>\n",
       "      <th>1501</th>\n",
       "      <td>2019-01-13 11:00:00</td>\n",
       "      <td>4d416cec-6f5b-4444-9b50-08770397714b</td>\n",
       "      <td>14521</td>\n",
       "      <td>Пеларгония зональная диам. 12 см красная махровая</td>\n",
       "      <td>1</td>\n",
       "      <td>188.000</td>\n",
       "    </tr>\n",
       "    <tr>\n",
       "      <th>1502</th>\n",
       "      <td>2019-01-13 11:00:00</td>\n",
       "      <td>4d416cec-6f5b-4444-9b50-08770397714b</td>\n",
       "      <td>14521</td>\n",
       "      <td>Пеларгония зональная диам. 12 см темнорозовая полумахровая</td>\n",
       "      <td>1</td>\n",
       "      <td>188.000</td>\n",
       "    </tr>\n",
       "    <tr>\n",
       "      <th>1547</th>\n",
       "      <td>2019-01-19 10:00:00</td>\n",
       "      <td>4d416cec-6f5b-4444-9b50-08770397714b</td>\n",
       "      <td>14521</td>\n",
       "      <td>Пеларгония зональная диам. 12 см белая полумахровая</td>\n",
       "      <td>1</td>\n",
       "      <td>188.000</td>\n",
       "    </tr>\n",
       "    <tr>\n",
       "      <th>1548</th>\n",
       "      <td>2019-01-19 10:00:00</td>\n",
       "      <td>4d416cec-6f5b-4444-9b50-08770397714b</td>\n",
       "      <td>14521</td>\n",
       "      <td>Пеларгония зональная диам. 12 см красная махровая</td>\n",
       "      <td>1</td>\n",
       "      <td>188.000</td>\n",
       "    </tr>\n",
       "    <tr>\n",
       "      <th>1549</th>\n",
       "      <td>2019-01-19 10:00:00</td>\n",
       "      <td>4d416cec-6f5b-4444-9b50-08770397714b</td>\n",
       "      <td>14521</td>\n",
       "      <td>Пеларгония зональная диам. 12 см темнорозовая полумахровая</td>\n",
       "      <td>1</td>\n",
       "      <td>188.000</td>\n",
       "    </tr>\n",
       "    <tr>\n",
       "      <th>1602</th>\n",
       "      <td>2019-01-27 11:00:00</td>\n",
       "      <td>4d416cec-6f5b-4444-9b50-08770397714b</td>\n",
       "      <td>14521</td>\n",
       "      <td>Пеларгония зональная диам. 12 см белая полумахровая</td>\n",
       "      <td>1</td>\n",
       "      <td>188.000</td>\n",
       "    </tr>\n",
       "    <tr>\n",
       "      <th>1603</th>\n",
       "      <td>2019-01-27 11:00:00</td>\n",
       "      <td>4d416cec-6f5b-4444-9b50-08770397714b</td>\n",
       "      <td>14521</td>\n",
       "      <td>Пеларгония зональная диам. 12 см красная махровая</td>\n",
       "      <td>1</td>\n",
       "      <td>188.000</td>\n",
       "    </tr>\n",
       "    <tr>\n",
       "      <th>1604</th>\n",
       "      <td>2019-01-27 11:00:00</td>\n",
       "      <td>4d416cec-6f5b-4444-9b50-08770397714b</td>\n",
       "      <td>14521</td>\n",
       "      <td>Пеларгония зональная диам. 12 см темнорозовая полумахровая</td>\n",
       "      <td>1</td>\n",
       "      <td>188.000</td>\n",
       "    </tr>\n",
       "    <tr>\n",
       "      <th>1639</th>\n",
       "      <td>2019-01-30 20:00:00</td>\n",
       "      <td>4d416cec-6f5b-4444-9b50-08770397714b</td>\n",
       "      <td>14521</td>\n",
       "      <td>Пеларгония зональная диам. 12 см белая полумахровая</td>\n",
       "      <td>1</td>\n",
       "      <td>188.000</td>\n",
       "    </tr>\n",
       "    <tr>\n",
       "      <th>1640</th>\n",
       "      <td>2019-01-30 20:00:00</td>\n",
       "      <td>4d416cec-6f5b-4444-9b50-08770397714b</td>\n",
       "      <td>14521</td>\n",
       "      <td>Пеларгония зональная диам. 12 см красная махровая</td>\n",
       "      <td>1</td>\n",
       "      <td>188.000</td>\n",
       "    </tr>\n",
       "    <tr>\n",
       "      <th>1641</th>\n",
       "      <td>2019-01-30 20:00:00</td>\n",
       "      <td>4d416cec-6f5b-4444-9b50-08770397714b</td>\n",
       "      <td>14521</td>\n",
       "      <td>Пеларгония зональная диам. 12 см темнорозовая полумахровая</td>\n",
       "      <td>1</td>\n",
       "      <td>188.000</td>\n",
       "    </tr>\n",
       "  </tbody>\n",
       "</table>\n",
       "</div>"
      ],
      "text/plain": [
       "                    date                           customer_id  order_id  \\\n",
       "1471 2019-01-10 17:00:00  4d416cec-6f5b-4444-9b50-08770397714b     14521   \n",
       "1472 2019-01-10 17:00:00  4d416cec-6f5b-4444-9b50-08770397714b     14521   \n",
       "1473 2019-01-10 17:00:00  4d416cec-6f5b-4444-9b50-08770397714b     14521   \n",
       "1475 2019-01-10 18:00:00  4d416cec-6f5b-4444-9b50-08770397714b     14521   \n",
       "1476 2019-01-10 18:00:00  4d416cec-6f5b-4444-9b50-08770397714b     14521   \n",
       "1477 2019-01-10 18:00:00  4d416cec-6f5b-4444-9b50-08770397714b     14521   \n",
       "1500 2019-01-13 11:00:00  4d416cec-6f5b-4444-9b50-08770397714b     14521   \n",
       "1501 2019-01-13 11:00:00  4d416cec-6f5b-4444-9b50-08770397714b     14521   \n",
       "1502 2019-01-13 11:00:00  4d416cec-6f5b-4444-9b50-08770397714b     14521   \n",
       "1547 2019-01-19 10:00:00  4d416cec-6f5b-4444-9b50-08770397714b     14521   \n",
       "1548 2019-01-19 10:00:00  4d416cec-6f5b-4444-9b50-08770397714b     14521   \n",
       "1549 2019-01-19 10:00:00  4d416cec-6f5b-4444-9b50-08770397714b     14521   \n",
       "1602 2019-01-27 11:00:00  4d416cec-6f5b-4444-9b50-08770397714b     14521   \n",
       "1603 2019-01-27 11:00:00  4d416cec-6f5b-4444-9b50-08770397714b     14521   \n",
       "1604 2019-01-27 11:00:00  4d416cec-6f5b-4444-9b50-08770397714b     14521   \n",
       "1639 2019-01-30 20:00:00  4d416cec-6f5b-4444-9b50-08770397714b     14521   \n",
       "1640 2019-01-30 20:00:00  4d416cec-6f5b-4444-9b50-08770397714b     14521   \n",
       "1641 2019-01-30 20:00:00  4d416cec-6f5b-4444-9b50-08770397714b     14521   \n",
       "\n",
       "                                                         product  quantity  \\\n",
       "1471         Пеларгония зональная диам. 12 см белая полумахровая         1   \n",
       "1472           Пеларгония зональная диам. 12 см красная махровая         1   \n",
       "1473  Пеларгония зональная диам. 12 см темнорозовая полумахровая         1   \n",
       "1475         Пеларгония зональная диам. 12 см белая полумахровая         1   \n",
       "1476           Пеларгония зональная диам. 12 см красная махровая         1   \n",
       "1477  Пеларгония зональная диам. 12 см темнорозовая полумахровая         1   \n",
       "1500         Пеларгония зональная диам. 12 см белая полумахровая         1   \n",
       "1501           Пеларгония зональная диам. 12 см красная махровая         1   \n",
       "1502  Пеларгония зональная диам. 12 см темнорозовая полумахровая         1   \n",
       "1547         Пеларгония зональная диам. 12 см белая полумахровая         1   \n",
       "1548           Пеларгония зональная диам. 12 см красная махровая         1   \n",
       "1549  Пеларгония зональная диам. 12 см темнорозовая полумахровая         1   \n",
       "1602         Пеларгония зональная диам. 12 см белая полумахровая         1   \n",
       "1603           Пеларгония зональная диам. 12 см красная махровая         1   \n",
       "1604  Пеларгония зональная диам. 12 см темнорозовая полумахровая         1   \n",
       "1639         Пеларгония зональная диам. 12 см белая полумахровая         1   \n",
       "1640           Пеларгония зональная диам. 12 см красная махровая         1   \n",
       "1641  Пеларгония зональная диам. 12 см темнорозовая полумахровая         1   \n",
       "\n",
       "       price  \n",
       "1471 188.000  \n",
       "1472 188.000  \n",
       "1473 188.000  \n",
       "1475 188.000  \n",
       "1476 188.000  \n",
       "1477 188.000  \n",
       "1500 188.000  \n",
       "1501 188.000  \n",
       "1502 188.000  \n",
       "1547 188.000  \n",
       "1548 188.000  \n",
       "1549 188.000  \n",
       "1602 188.000  \n",
       "1603 188.000  \n",
       "1604 188.000  \n",
       "1639 188.000  \n",
       "1640 188.000  \n",
       "1641 188.000  "
      ]
     },
     "execution_count": 10,
     "metadata": {},
     "output_type": "execute_result"
    }
   ],
   "source": [
    "data[data['order_id'] == 14521]"
   ]
  },
  {
   "cell_type": "markdown",
   "metadata": {},
   "source": [
    "Как мы видим, у нас несколько раз дублируются заказы с одиннаковым набором товаров, но разной датой. Скорее всего была свершена ошибка также при переносе данных на сервер и данные по заказам задвоились. Оставим данные о заказе с последней известной датой. "
   ]
  },
  {
   "cell_type": "code",
   "execution_count": 11,
   "metadata": {},
   "outputs": [],
   "source": [
    "data = data.drop_duplicates(subset=['order_id', 'product'], keep='last')"
   ]
  },
  {
   "cell_type": "code",
   "execution_count": 12,
   "metadata": {},
   "outputs": [
    {
     "data": {
      "text/html": [
       "<div>\n",
       "<style scoped>\n",
       "    .dataframe tbody tr th:only-of-type {\n",
       "        vertical-align: middle;\n",
       "    }\n",
       "\n",
       "    .dataframe tbody tr th {\n",
       "        vertical-align: top;\n",
       "    }\n",
       "\n",
       "    .dataframe thead th {\n",
       "        text-align: right;\n",
       "    }\n",
       "</style>\n",
       "<table border=\"1\" class=\"dataframe\">\n",
       "  <thead>\n",
       "    <tr style=\"text-align: right;\">\n",
       "      <th></th>\n",
       "      <th>date</th>\n",
       "      <th>customer_id</th>\n",
       "      <th>order_id</th>\n",
       "      <th>product</th>\n",
       "      <th>quantity</th>\n",
       "      <th>price</th>\n",
       "    </tr>\n",
       "  </thead>\n",
       "  <tbody>\n",
       "    <tr>\n",
       "      <th>1639</th>\n",
       "      <td>2019-01-30 20:00:00</td>\n",
       "      <td>4d416cec-6f5b-4444-9b50-08770397714b</td>\n",
       "      <td>14521</td>\n",
       "      <td>Пеларгония зональная диам. 12 см белая полумахровая</td>\n",
       "      <td>1</td>\n",
       "      <td>188.000</td>\n",
       "    </tr>\n",
       "    <tr>\n",
       "      <th>1640</th>\n",
       "      <td>2019-01-30 20:00:00</td>\n",
       "      <td>4d416cec-6f5b-4444-9b50-08770397714b</td>\n",
       "      <td>14521</td>\n",
       "      <td>Пеларгония зональная диам. 12 см красная махровая</td>\n",
       "      <td>1</td>\n",
       "      <td>188.000</td>\n",
       "    </tr>\n",
       "    <tr>\n",
       "      <th>1641</th>\n",
       "      <td>2019-01-30 20:00:00</td>\n",
       "      <td>4d416cec-6f5b-4444-9b50-08770397714b</td>\n",
       "      <td>14521</td>\n",
       "      <td>Пеларгония зональная диам. 12 см темнорозовая полумахровая</td>\n",
       "      <td>1</td>\n",
       "      <td>188.000</td>\n",
       "    </tr>\n",
       "  </tbody>\n",
       "</table>\n",
       "</div>"
      ],
      "text/plain": [
       "                    date                           customer_id  order_id  \\\n",
       "1639 2019-01-30 20:00:00  4d416cec-6f5b-4444-9b50-08770397714b     14521   \n",
       "1640 2019-01-30 20:00:00  4d416cec-6f5b-4444-9b50-08770397714b     14521   \n",
       "1641 2019-01-30 20:00:00  4d416cec-6f5b-4444-9b50-08770397714b     14521   \n",
       "\n",
       "                                                         product  quantity  \\\n",
       "1639         Пеларгония зональная диам. 12 см белая полумахровая         1   \n",
       "1640           Пеларгония зональная диам. 12 см красная махровая         1   \n",
       "1641  Пеларгония зональная диам. 12 см темнорозовая полумахровая         1   \n",
       "\n",
       "       price  \n",
       "1639 188.000  \n",
       "1640 188.000  \n",
       "1641 188.000  "
      ]
     },
     "execution_count": 12,
     "metadata": {},
     "output_type": "execute_result"
    }
   ],
   "source": [
    "data[data['order_id'] == 14521]"
   ]
  },
  {
   "cell_type": "code",
   "execution_count": 13,
   "metadata": {},
   "outputs": [
    {
     "name": "stdout",
     "output_type": "stream",
     "text": [
      "<class 'pandas.core.frame.DataFrame'>\n",
      "Int64Index: 5522 entries, 0 to 7473\n",
      "Data columns (total 6 columns):\n",
      " #   Column       Non-Null Count  Dtype         \n",
      "---  ------       --------------  -----         \n",
      " 0   date         5522 non-null   datetime64[ns]\n",
      " 1   customer_id  5522 non-null   object        \n",
      " 2   order_id     5522 non-null   int64         \n",
      " 3   product      5522 non-null   object        \n",
      " 4   quantity     5522 non-null   int64         \n",
      " 5   price        5522 non-null   float64       \n",
      "dtypes: datetime64[ns](1), float64(1), int64(2), object(2)\n",
      "memory usage: 302.0+ KB\n"
     ]
    }
   ],
   "source": [
    "data.info()"
   ]
  },
  {
   "cell_type": "markdown",
   "metadata": {},
   "source": [
    "На нашем примере мы убедились что остались только нужные нам данные, без повторений. По итогу предобработки данным мы привели данные в столбце date к типу даты pandas, проверили данные на пропуски, явные и не явные дубликаты. С помощью бизнес-правил избавились от неявных дубликатов. В конечном итоге у нас 5522 строк с данными, которые готовы к исследовательскому анализу. "
   ]
  },
  {
   "cell_type": "markdown",
   "metadata": {},
   "source": [
    "## Исследовательский анализ данных."
   ]
  },
  {
   "cell_type": "markdown",
   "metadata": {},
   "source": [
    "Проанализируем за какой период у нас представлены данные. "
   ]
  },
  {
   "cell_type": "code",
   "execution_count": 14,
   "metadata": {},
   "outputs": [
    {
     "name": "stdout",
     "output_type": "stream",
     "text": [
      "Первая дата в данных: 2018-10-01 00:00:00\n",
      "Последняя дата в данных: 2020-01-31 15:00:00\n"
     ]
    }
   ],
   "source": [
    "print('Первая дата в данных:', data['date'].min())\n",
    "print('Последняя дата в данных:', data['date'].max())"
   ]
  },
  {
   "cell_type": "markdown",
   "metadata": {},
   "source": [
    "Таким образом, мы располагаем данными за 1 год и 4 месяца. "
   ]
  },
  {
   "cell_type": "code",
   "execution_count": 15,
   "metadata": {},
   "outputs": [],
   "source": [
    "#Добавим столбец с месяцом и днем покупки\n",
    "data['month'] = data['date'].dt.month\n",
    "data['day'] = data['date'].dt.day\n",
    "data['weekday'] = data['date'].dt.weekday"
   ]
  },
  {
   "cell_type": "code",
   "execution_count": 16,
   "metadata": {},
   "outputs": [],
   "source": [
    "#Подсчитаем уникальное количество заказов по дням\n",
    "orders_per_date = data.groupby('day').agg({'order_id':'nunique'})"
   ]
  },
  {
   "cell_type": "code",
   "execution_count": 17,
   "metadata": {},
   "outputs": [
    {
     "data": {
      "image/png": "[encoded data removed]",
      "text/plain": [
       "<Figure size 720x360 with 1 Axes>"
      ]
     },
     "metadata": {
      "needs_background": "light"
     },
     "output_type": "display_data"
    }
   ],
   "source": [
    "#Проанализируем влияют ли день на количество покупок \n",
    "orders_per_date.plot(grid=True, figsize=(10,5))\n",
    "plt.title('Количество заказов в разные дни месяца')\n",
    "plt.xlabel('День месяца')\n",
    "plt.ylabel('Количество заказов')\n",
    "plt.show()"
   ]
  },
  {
   "cell_type": "markdown",
   "metadata": {},
   "source": [
    "Судя по графику пик активных заказов приходится на 4 число каждого месяца. В целом какой то сильной зависимости между днями месяца и количеством заказов нет. "
   ]
  },
  {
   "cell_type": "code",
   "execution_count": 18,
   "metadata": {},
   "outputs": [],
   "source": [
    "#Подсчитаем уникальное количество заказов по месяцам\n",
    "orders_per_month = data.groupby('month').agg({'order_id':'nunique'})"
   ]
  },
  {
   "cell_type": "code",
   "execution_count": 19,
   "metadata": {},
   "outputs": [
    {
     "data": {
      "image/png": "[encoded data removed]",
      "text/plain": [
       "<Figure size 720x360 with 1 Axes>"
      ]
     },
     "metadata": {
      "needs_background": "light"
     },
     "output_type": "display_data"
    }
   ],
   "source": [
    "#Проанализируем влияют ли месяц на количество покупок \n",
    "orders_per_month.plot(grid=True, figsize=(10,5)) \n",
    "plt.title('Количество заказов в разные месяцы')\n",
    "plt.xlabel('Месяц')\n",
    "plt.ylabel('Количество заказов')\n",
    "plt.show()"
   ]
  },
  {
   "cell_type": "markdown",
   "metadata": {},
   "source": [
    "Исследуя график количества заказов в разные месяцы, мы можем заметить явную зависимость продаж от сезона. С Сентября по февраль в интернет магазине больше всего заказов, потом идет резвий спад и минимальное число заказов. Это говорит нам о том, что количество заказов зависит от месяца."
   ]
  },
  {
   "cell_type": "code",
   "execution_count": 20,
   "metadata": {},
   "outputs": [],
   "source": [
    "#Подсчитаем уникальное количество заказов по месяцам\n",
    "orders_per_weekday = data.groupby('weekday').agg({'order_id':'nunique'})"
   ]
  },
  {
   "cell_type": "code",
   "execution_count": 21,
   "metadata": {},
   "outputs": [
    {
     "data": {
      "image/png": "[encoded data removed]",
      "text/plain": [
       "<Figure size 720x360 with 1 Axes>"
      ]
     },
     "metadata": {
      "needs_background": "light"
     },
     "output_type": "display_data"
    }
   ],
   "source": [
    "#Проанализируем влияют ли день недели на количество покупок \n",
    "orders_per_weekday.plot(grid=True, figsize=(10,5)) \n",
    "plt.title('Количество заказов в разные дни недели')\n",
    "plt.xlabel('День недели')\n",
    "plt.ylabel('Количество заказов')\n",
    "plt.show()"
   ]
  },
  {
   "cell_type": "markdown",
   "metadata": {},
   "source": [
    "Если рассматривать зависимость дня недели и количества заказов, то можно видеть, что на выходных снижается число заказов. В будни люди чаще заказывают товары для дома. "
   ]
  },
  {
   "cell_type": "markdown",
   "metadata": {},
   "source": [
    "Посчитаем основные метрики по данным и добавим необходимые столбцы."
   ]
  },
  {
   "cell_type": "code",
   "execution_count": 22,
   "metadata": {},
   "outputs": [
    {
     "name": "stdout",
     "output_type": "stream",
     "text": [
      "Количество уникальных заказов за период: 3492\n",
      "Количество уникальных пользователей за период: 2413\n"
     ]
    }
   ],
   "source": [
    "#Посмотрим, сколько у нас в данных уникальных заказов и пользователей\n",
    "print('Количество уникальных заказов за период:',data['order_id'].nunique())\n",
    "print('Количество уникальных пользователей за период:',data['customer_id'].nunique())"
   ]
  },
  {
   "cell_type": "code",
   "execution_count": 23,
   "metadata": {},
   "outputs": [
    {
     "name": "stdout",
     "output_type": "stream",
     "text": [
      "Количество проданного товара: 14244\n"
     ]
    }
   ],
   "source": [
    "#Посчитаем сколько всего товаров было продано в интернет магазине за год и 4 месяца.\n",
    "print('Количество проданного товара:',data['quantity'].sum())"
   ]
  },
  {
   "cell_type": "code",
   "execution_count": 24,
   "metadata": {},
   "outputs": [
    {
     "name": "stdout",
     "output_type": "stream",
     "text": [
      "Сумма всех проданных товаров: 4593179.42\n"
     ]
    }
   ],
   "source": [
    "#Добавим столбец с ценой за количество товара в заказе\n",
    "data['total'] = data['quantity'] * data['price']\n",
    "#Посчитаем сумму всех проданных товаров\n",
    "print('Сумма всех проданных товаров:',round(data['total'].sum(),2))"
   ]
  },
  {
   "cell_type": "code",
   "execution_count": 25,
   "metadata": {},
   "outputs": [],
   "source": [
    "#Посчитаем сумму каждого заказа \n",
    "total_per_order = data.groupby('order_id').agg({'total':'sum'})"
   ]
  },
  {
   "cell_type": "code",
   "execution_count": 26,
   "metadata": {},
   "outputs": [
    {
     "data": {
      "text/html": [
       "<div>\n",
       "<style scoped>\n",
       "    .dataframe tbody tr th:only-of-type {\n",
       "        vertical-align: middle;\n",
       "    }\n",
       "\n",
       "    .dataframe tbody tr th {\n",
       "        vertical-align: top;\n",
       "    }\n",
       "\n",
       "    .dataframe thead th {\n",
       "        text-align: right;\n",
       "    }\n",
       "</style>\n",
       "<table border=\"1\" class=\"dataframe\">\n",
       "  <thead>\n",
       "    <tr style=\"text-align: right;\">\n",
       "      <th></th>\n",
       "      <th>total</th>\n",
       "    </tr>\n",
       "    <tr>\n",
       "      <th>order_id</th>\n",
       "      <th></th>\n",
       "    </tr>\n",
       "  </thead>\n",
       "  <tbody>\n",
       "    <tr>\n",
       "      <th>12624</th>\n",
       "      <td>375.000</td>\n",
       "    </tr>\n",
       "    <tr>\n",
       "      <th>13547</th>\n",
       "      <td>684.000</td>\n",
       "    </tr>\n",
       "    <tr>\n",
       "      <th>14480</th>\n",
       "      <td>359.000</td>\n",
       "    </tr>\n",
       "    <tr>\n",
       "      <th>14481</th>\n",
       "      <td>600.000</td>\n",
       "    </tr>\n",
       "    <tr>\n",
       "      <th>14482</th>\n",
       "      <td>376.000</td>\n",
       "    </tr>\n",
       "    <tr>\n",
       "      <th>...</th>\n",
       "      <td>...</td>\n",
       "    </tr>\n",
       "    <tr>\n",
       "      <th>112722</th>\n",
       "      <td>450.000</td>\n",
       "    </tr>\n",
       "    <tr>\n",
       "      <th>112732</th>\n",
       "      <td>90.000</td>\n",
       "    </tr>\n",
       "    <tr>\n",
       "      <th>112767</th>\n",
       "      <td>38.000</td>\n",
       "    </tr>\n",
       "    <tr>\n",
       "      <th>112779</th>\n",
       "      <td>172.000</td>\n",
       "    </tr>\n",
       "    <tr>\n",
       "      <th>112789</th>\n",
       "      <td>2,698.000</td>\n",
       "    </tr>\n",
       "  </tbody>\n",
       "</table>\n",
       "<p>3492 rows × 1 columns</p>\n",
       "</div>"
      ],
      "text/plain": [
       "             total\n",
       "order_id          \n",
       "12624      375.000\n",
       "13547      684.000\n",
       "14480      359.000\n",
       "14481      600.000\n",
       "14482      376.000\n",
       "...            ...\n",
       "112722     450.000\n",
       "112732      90.000\n",
       "112767      38.000\n",
       "112779     172.000\n",
       "112789   2,698.000\n",
       "\n",
       "[3492 rows x 1 columns]"
      ]
     },
     "execution_count": 26,
     "metadata": {},
     "output_type": "execute_result"
    }
   ],
   "source": [
    "total_per_order"
   ]
  },
  {
   "cell_type": "code",
   "execution_count": 27,
   "metadata": {},
   "outputs": [
    {
     "data": {
      "text/html": [
       "<div>\n",
       "<style scoped>\n",
       "    .dataframe tbody tr th:only-of-type {\n",
       "        vertical-align: middle;\n",
       "    }\n",
       "\n",
       "    .dataframe tbody tr th {\n",
       "        vertical-align: top;\n",
       "    }\n",
       "\n",
       "    .dataframe thead th {\n",
       "        text-align: right;\n",
       "    }\n",
       "</style>\n",
       "<table border=\"1\" class=\"dataframe\">\n",
       "  <thead>\n",
       "    <tr style=\"text-align: right;\">\n",
       "      <th></th>\n",
       "      <th>date</th>\n",
       "      <th>customer_id</th>\n",
       "      <th>order_id</th>\n",
       "      <th>product</th>\n",
       "      <th>quantity</th>\n",
       "      <th>price</th>\n",
       "      <th>month</th>\n",
       "      <th>day</th>\n",
       "      <th>weekday</th>\n",
       "      <th>total</th>\n",
       "    </tr>\n",
       "  </thead>\n",
       "  <tbody>\n",
       "    <tr>\n",
       "      <th>7150</th>\n",
       "      <td>2019-12-26 22:00:00</td>\n",
       "      <td>65ed0726-5565-4c0e-905c-f9e9bd9f7642</td>\n",
       "      <td>112789</td>\n",
       "      <td>Сушилка для белья потолочно-настенная Gimi Lift 140</td>\n",
       "      <td>2</td>\n",
       "      <td>1,349.000</td>\n",
       "      <td>12</td>\n",
       "      <td>26</td>\n",
       "      <td>3</td>\n",
       "      <td>2,698.000</td>\n",
       "    </tr>\n",
       "  </tbody>\n",
       "</table>\n",
       "</div>"
      ],
      "text/plain": [
       "                    date                           customer_id  order_id  \\\n",
       "7150 2019-12-26 22:00:00  65ed0726-5565-4c0e-905c-f9e9bd9f7642    112789   \n",
       "\n",
       "                                                  product  quantity     price  \\\n",
       "7150  Сушилка для белья потолочно-настенная Gimi Lift 140         2 1,349.000   \n",
       "\n",
       "      month  day  weekday     total  \n",
       "7150     12   26        3 2,698.000  "
      ]
     },
     "execution_count": 27,
     "metadata": {},
     "output_type": "execute_result"
    }
   ],
   "source": [
    "data[data['order_id'] == 112789]"
   ]
  },
  {
   "cell_type": "code",
   "execution_count": 28,
   "metadata": {},
   "outputs": [
    {
     "data": {
      "text/html": [
       "<div>\n",
       "<style scoped>\n",
       "    .dataframe tbody tr th:only-of-type {\n",
       "        vertical-align: middle;\n",
       "    }\n",
       "\n",
       "    .dataframe tbody tr th {\n",
       "        vertical-align: top;\n",
       "    }\n",
       "\n",
       "    .dataframe thead th {\n",
       "        text-align: right;\n",
       "    }\n",
       "</style>\n",
       "<table border=\"1\" class=\"dataframe\">\n",
       "  <thead>\n",
       "    <tr style=\"text-align: right;\">\n",
       "      <th></th>\n",
       "      <th>total</th>\n",
       "    </tr>\n",
       "  </thead>\n",
       "  <tbody>\n",
       "    <tr>\n",
       "      <th>count</th>\n",
       "      <td>3,492.000</td>\n",
       "    </tr>\n",
       "    <tr>\n",
       "      <th>mean</th>\n",
       "      <td>1,315.343</td>\n",
       "    </tr>\n",
       "    <tr>\n",
       "      <th>std</th>\n",
       "      <td>11,593.013</td>\n",
       "    </tr>\n",
       "    <tr>\n",
       "      <th>min</th>\n",
       "      <td>9.000</td>\n",
       "    </tr>\n",
       "    <tr>\n",
       "      <th>25%</th>\n",
       "      <td>194.000</td>\n",
       "    </tr>\n",
       "    <tr>\n",
       "      <th>50%</th>\n",
       "      <td>581.000</td>\n",
       "    </tr>\n",
       "    <tr>\n",
       "      <th>75%</th>\n",
       "      <td>1,267.250</td>\n",
       "    </tr>\n",
       "    <tr>\n",
       "      <th>max</th>\n",
       "      <td>675,000.000</td>\n",
       "    </tr>\n",
       "  </tbody>\n",
       "</table>\n",
       "</div>"
      ],
      "text/plain": [
       "            total\n",
       "count   3,492.000\n",
       "mean    1,315.343\n",
       "std    11,593.013\n",
       "min         9.000\n",
       "25%       194.000\n",
       "50%       581.000\n",
       "75%     1,267.250\n",
       "max   675,000.000"
      ]
     },
     "execution_count": 28,
     "metadata": {},
     "output_type": "execute_result"
    }
   ],
   "source": [
    "#Найдем среднее, минимальное и максимальное значения по сумме заказа.  \n",
    "total_per_order.describe()"
   ]
  },
  {
   "cell_type": "markdown",
   "metadata": {},
   "source": [
    "Минимальная выручка с заказа составляет 9 у.е., максимальная 675 000 у.е. В среднем выручка за заказ составляет 1 315."
   ]
  },
  {
   "cell_type": "code",
   "execution_count": 29,
   "metadata": {},
   "outputs": [
    {
     "data": {
      "text/html": [
       "<div>\n",
       "<style scoped>\n",
       "    .dataframe tbody tr th:only-of-type {\n",
       "        vertical-align: middle;\n",
       "    }\n",
       "\n",
       "    .dataframe tbody tr th {\n",
       "        vertical-align: top;\n",
       "    }\n",
       "\n",
       "    .dataframe thead th {\n",
       "        text-align: right;\n",
       "    }\n",
       "</style>\n",
       "<table border=\"1\" class=\"dataframe\">\n",
       "  <thead>\n",
       "    <tr style=\"text-align: right;\">\n",
       "      <th></th>\n",
       "      <th>total</th>\n",
       "    </tr>\n",
       "    <tr>\n",
       "      <th>order_id</th>\n",
       "      <th></th>\n",
       "    </tr>\n",
       "  </thead>\n",
       "  <tbody>\n",
       "    <tr>\n",
       "      <th>71743</th>\n",
       "      <td>675,000.000</td>\n",
       "    </tr>\n",
       "  </tbody>\n",
       "</table>\n",
       "</div>"
      ],
      "text/plain": [
       "               total\n",
       "order_id            \n",
       "71743    675,000.000"
      ]
     },
     "execution_count": 29,
     "metadata": {},
     "output_type": "execute_result"
    }
   ],
   "source": [
    "#Посмотрим на самый дорогой заказ\n",
    "total_per_order[total_per_order['total'] > 600000]"
   ]
  },
  {
   "cell_type": "code",
   "execution_count": 30,
   "metadata": {},
   "outputs": [
    {
     "data": {
      "text/html": [
       "<div>\n",
       "<style scoped>\n",
       "    .dataframe tbody tr th:only-of-type {\n",
       "        vertical-align: middle;\n",
       "    }\n",
       "\n",
       "    .dataframe tbody tr th {\n",
       "        vertical-align: top;\n",
       "    }\n",
       "\n",
       "    .dataframe thead th {\n",
       "        text-align: right;\n",
       "    }\n",
       "</style>\n",
       "<table border=\"1\" class=\"dataframe\">\n",
       "  <thead>\n",
       "    <tr style=\"text-align: right;\">\n",
       "      <th></th>\n",
       "      <th>date</th>\n",
       "      <th>customer_id</th>\n",
       "      <th>order_id</th>\n",
       "      <th>product</th>\n",
       "      <th>quantity</th>\n",
       "      <th>price</th>\n",
       "      <th>month</th>\n",
       "      <th>day</th>\n",
       "      <th>weekday</th>\n",
       "      <th>total</th>\n",
       "    </tr>\n",
       "  </thead>\n",
       "  <tbody>\n",
       "    <tr>\n",
       "      <th>5456</th>\n",
       "      <td>2019-06-18 15:00:00</td>\n",
       "      <td>312e9a3e-5fca-43ff-a6a1-892d2b2d5ba6</td>\n",
       "      <td>71743</td>\n",
       "      <td>Вантуз с деревянной ручкой d14 см красный, Burstenmann, 0522/0000</td>\n",
       "      <td>1000</td>\n",
       "      <td>675.000</td>\n",
       "      <td>6</td>\n",
       "      <td>18</td>\n",
       "      <td>1</td>\n",
       "      <td>675,000.000</td>\n",
       "    </tr>\n",
       "  </tbody>\n",
       "</table>\n",
       "</div>"
      ],
      "text/plain": [
       "                    date                           customer_id  order_id  \\\n",
       "5456 2019-06-18 15:00:00  312e9a3e-5fca-43ff-a6a1-892d2b2d5ba6     71743   \n",
       "\n",
       "                                                                product  \\\n",
       "5456  Вантуз с деревянной ручкой d14 см красный, Burstenmann, 0522/0000   \n",
       "\n",
       "      quantity   price  month  day  weekday       total  \n",
       "5456      1000 675.000      6   18        1 675,000.000  "
      ]
     },
     "execution_count": 30,
     "metadata": {},
     "output_type": "execute_result"
    }
   ],
   "source": [
    "data[data['order_id'] == 71743]"
   ]
  },
  {
   "cell_type": "code",
   "execution_count": 31,
   "metadata": {},
   "outputs": [
    {
     "data": {
      "text/html": [
       "<div>\n",
       "<style scoped>\n",
       "    .dataframe tbody tr th:only-of-type {\n",
       "        vertical-align: middle;\n",
       "    }\n",
       "\n",
       "    .dataframe tbody tr th {\n",
       "        vertical-align: top;\n",
       "    }\n",
       "\n",
       "    .dataframe thead th {\n",
       "        text-align: right;\n",
       "    }\n",
       "</style>\n",
       "<table border=\"1\" class=\"dataframe\">\n",
       "  <thead>\n",
       "    <tr style=\"text-align: right;\">\n",
       "      <th></th>\n",
       "      <th>total</th>\n",
       "    </tr>\n",
       "  </thead>\n",
       "  <tbody>\n",
       "    <tr>\n",
       "      <th>count</th>\n",
       "      <td>3,491.000</td>\n",
       "    </tr>\n",
       "    <tr>\n",
       "      <th>mean</th>\n",
       "      <td>1,122.366</td>\n",
       "    </tr>\n",
       "    <tr>\n",
       "      <th>std</th>\n",
       "      <td>2,087.089</td>\n",
       "    </tr>\n",
       "    <tr>\n",
       "      <th>min</th>\n",
       "      <td>9.000</td>\n",
       "    </tr>\n",
       "    <tr>\n",
       "      <th>25%</th>\n",
       "      <td>194.000</td>\n",
       "    </tr>\n",
       "    <tr>\n",
       "      <th>50%</th>\n",
       "      <td>580.000</td>\n",
       "    </tr>\n",
       "    <tr>\n",
       "      <th>75%</th>\n",
       "      <td>1,257.333</td>\n",
       "    </tr>\n",
       "    <tr>\n",
       "      <th>max</th>\n",
       "      <td>49,432.000</td>\n",
       "    </tr>\n",
       "  </tbody>\n",
       "</table>\n",
       "</div>"
      ],
      "text/plain": [
       "           total\n",
       "count  3,491.000\n",
       "mean   1,122.366\n",
       "std    2,087.089\n",
       "min        9.000\n",
       "25%      194.000\n",
       "50%      580.000\n",
       "75%    1,257.333\n",
       "max   49,432.000"
      ]
     },
     "execution_count": 31,
     "metadata": {},
     "output_type": "execute_result"
    }
   ],
   "source": [
    "#Очень странно, что самый дорогой товар - это Вантуз с деревянной ручкой. \n",
    "#Удалим этот заказ, чтобы не портить статистику. \n",
    "data = data.drop([5456],axis = 0)\n",
    "total_per_order = total_per_order.drop([71743],axis = 0)\n",
    "total_per_order.describe()"
   ]
  },
  {
   "cell_type": "markdown",
   "metadata": {},
   "source": [
    "Теперь максимальная цена на заказ составляет 49 432, а средняя стоимость заказа равна 1122. "
   ]
  },
  {
   "cell_type": "code",
   "execution_count": 32,
   "metadata": {},
   "outputs": [
    {
     "data": {
      "image/png": "[encoded data removed]",
      "text/plain": [
       "<Figure size 432x288 with 1 Axes>"
      ]
     },
     "metadata": {
      "needs_background": "light"
     },
     "output_type": "display_data"
    }
   ],
   "source": [
    "#Построим гистограмму для наглядности. \n",
    "plt.hist(total_per_order['total'], bins = 50, range = (0,10000))\n",
    "plt.title('Гистограмма выручки по заказам')\n",
    "plt.xlabel('Цена за заказ')\n",
    "plt.ylabel('Количество заказов')\n",
    "plt.show()"
   ]
  },
  {
   "cell_type": "markdown",
   "metadata": {},
   "source": [
    "Судя по графику, выручка около 800 заказов составляет менее 300 у.е. В среднем большая часть заказов меньше 2 000 у. е. Скорее всего люди предпочитают заказывать дешевые товары в этом магазине. Крупные покупки делаются очень редко. "
   ]
  },
  {
   "cell_type": "code",
   "execution_count": 33,
   "metadata": {},
   "outputs": [
    {
     "data": {
      "text/plain": [
       "['date',\n",
       " 'customer_id',\n",
       " 'order_id',\n",
       " 'product',\n",
       " 'quantity',\n",
       " 'price',\n",
       " 'month',\n",
       " 'day',\n",
       " 'weekday',\n",
       " 'total']"
      ]
     },
     "execution_count": 33,
     "metadata": {},
     "output_type": "execute_result"
    }
   ],
   "source": [
    "data.columns.tolist()"
   ]
  },
  {
   "cell_type": "code",
   "execution_count": 34,
   "metadata": {},
   "outputs": [
    {
     "data": {
      "text/html": [
       "<div>\n",
       "<style scoped>\n",
       "    .dataframe tbody tr th:only-of-type {\n",
       "        vertical-align: middle;\n",
       "    }\n",
       "\n",
       "    .dataframe tbody tr th {\n",
       "        vertical-align: top;\n",
       "    }\n",
       "\n",
       "    .dataframe thead th {\n",
       "        text-align: right;\n",
       "    }\n",
       "</style>\n",
       "<table border=\"1\" class=\"dataframe\">\n",
       "  <thead>\n",
       "    <tr style=\"text-align: right;\">\n",
       "      <th></th>\n",
       "      <th>date</th>\n",
       "      <th>customer_id</th>\n",
       "      <th>order_id</th>\n",
       "      <th>product</th>\n",
       "      <th>quantity</th>\n",
       "      <th>price</th>\n",
       "      <th>month</th>\n",
       "      <th>day</th>\n",
       "      <th>weekday</th>\n",
       "      <th>total_price</th>\n",
       "      <th>total_per_order</th>\n",
       "    </tr>\n",
       "  </thead>\n",
       "  <tbody>\n",
       "    <tr>\n",
       "      <th>0</th>\n",
       "      <td>2018-10-01</td>\n",
       "      <td>ee47d746-6d2f-4d3c-9622-c31412542920</td>\n",
       "      <td>68477</td>\n",
       "      <td>Комнатное растение в горшке Алое Вера, d12, h30</td>\n",
       "      <td>1</td>\n",
       "      <td>142.000</td>\n",
       "      <td>10</td>\n",
       "      <td>1</td>\n",
       "      <td>0</td>\n",
       "      <td>142.000</td>\n",
       "      <td>1,037.000</td>\n",
       "    </tr>\n",
       "    <tr>\n",
       "      <th>1</th>\n",
       "      <td>2018-10-01</td>\n",
       "      <td>ee47d746-6d2f-4d3c-9622-c31412542920</td>\n",
       "      <td>68477</td>\n",
       "      <td>Комнатное растение в горшке Кофе Арабика, d12, h25</td>\n",
       "      <td>1</td>\n",
       "      <td>194.000</td>\n",
       "      <td>10</td>\n",
       "      <td>1</td>\n",
       "      <td>0</td>\n",
       "      <td>194.000</td>\n",
       "      <td>1,037.000</td>\n",
       "    </tr>\n",
       "    <tr>\n",
       "      <th>2</th>\n",
       "      <td>2018-10-01</td>\n",
       "      <td>ee47d746-6d2f-4d3c-9622-c31412542920</td>\n",
       "      <td>68477</td>\n",
       "      <td>Радермахера d-12 см h-20 см</td>\n",
       "      <td>1</td>\n",
       "      <td>112.000</td>\n",
       "      <td>10</td>\n",
       "      <td>1</td>\n",
       "      <td>0</td>\n",
       "      <td>112.000</td>\n",
       "      <td>1,037.000</td>\n",
       "    </tr>\n",
       "    <tr>\n",
       "      <th>3</th>\n",
       "      <td>2018-10-01</td>\n",
       "      <td>ee47d746-6d2f-4d3c-9622-c31412542920</td>\n",
       "      <td>68477</td>\n",
       "      <td>Хризолидокарпус Лутесценс d-9 см</td>\n",
       "      <td>1</td>\n",
       "      <td>179.000</td>\n",
       "      <td>10</td>\n",
       "      <td>1</td>\n",
       "      <td>0</td>\n",
       "      <td>179.000</td>\n",
       "      <td>1,037.000</td>\n",
       "    </tr>\n",
       "    <tr>\n",
       "      <th>4</th>\n",
       "      <td>2018-10-01</td>\n",
       "      <td>ee47d746-6d2f-4d3c-9622-c31412542920</td>\n",
       "      <td>68477</td>\n",
       "      <td>Циперус Зумула d-12 см h-25 см</td>\n",
       "      <td>1</td>\n",
       "      <td>112.000</td>\n",
       "      <td>10</td>\n",
       "      <td>1</td>\n",
       "      <td>0</td>\n",
       "      <td>112.000</td>\n",
       "      <td>1,037.000</td>\n",
       "    </tr>\n",
       "  </tbody>\n",
       "</table>\n",
       "</div>"
      ],
      "text/plain": [
       "        date                           customer_id  order_id  \\\n",
       "0 2018-10-01  ee47d746-6d2f-4d3c-9622-c31412542920     68477   \n",
       "1 2018-10-01  ee47d746-6d2f-4d3c-9622-c31412542920     68477   \n",
       "2 2018-10-01  ee47d746-6d2f-4d3c-9622-c31412542920     68477   \n",
       "3 2018-10-01  ee47d746-6d2f-4d3c-9622-c31412542920     68477   \n",
       "4 2018-10-01  ee47d746-6d2f-4d3c-9622-c31412542920     68477   \n",
       "\n",
       "                                              product  quantity   price  \\\n",
       "0     Комнатное растение в горшке Алое Вера, d12, h30         1 142.000   \n",
       "1  Комнатное растение в горшке Кофе Арабика, d12, h25         1 194.000   \n",
       "2                         Радермахера d-12 см h-20 см         1 112.000   \n",
       "3                    Хризолидокарпус Лутесценс d-9 см         1 179.000   \n",
       "4                      Циперус Зумула d-12 см h-25 см         1 112.000   \n",
       "\n",
       "   month  day  weekday  total_price  total_per_order  \n",
       "0     10    1        0      142.000        1,037.000  \n",
       "1     10    1        0      194.000        1,037.000  \n",
       "2     10    1        0      112.000        1,037.000  \n",
       "3     10    1        0      179.000        1,037.000  \n",
       "4     10    1        0      112.000        1,037.000  "
      ]
     },
     "execution_count": 34,
     "metadata": {},
     "output_type": "execute_result"
    }
   ],
   "source": [
    "#Присоеденим к основной таблице и переименуем столбцы\n",
    "data = data.merge(total_per_order, how='outer', on='order_id')\n",
    "data.columns = ['date',\n",
    " 'customer_id',\n",
    " 'order_id',\n",
    " 'product',\n",
    " 'quantity',\n",
    " 'price',\n",
    " 'month',\n",
    " 'day',\n",
    " 'weekday',               \n",
    " 'total_price',\n",
    " 'total_per_order']\n",
    "data.head(5)"
   ]
  },
  {
   "cell_type": "code",
   "execution_count": 35,
   "metadata": {
    "scrolled": true
   },
   "outputs": [
    {
     "data": {
      "text/html": [
       "<div>\n",
       "<style scoped>\n",
       "    .dataframe tbody tr th:only-of-type {\n",
       "        vertical-align: middle;\n",
       "    }\n",
       "\n",
       "    .dataframe tbody tr th {\n",
       "        vertical-align: top;\n",
       "    }\n",
       "\n",
       "    .dataframe thead th {\n",
       "        text-align: right;\n",
       "    }\n",
       "</style>\n",
       "<table border=\"1\" class=\"dataframe\">\n",
       "  <thead>\n",
       "    <tr style=\"text-align: right;\">\n",
       "      <th></th>\n",
       "      <th>total_price</th>\n",
       "      <th>quantity</th>\n",
       "      <th>order_id</th>\n",
       "    </tr>\n",
       "    <tr>\n",
       "      <th>customer_id</th>\n",
       "      <th></th>\n",
       "      <th></th>\n",
       "      <th></th>\n",
       "    </tr>\n",
       "  </thead>\n",
       "  <tbody>\n",
       "    <tr>\n",
       "      <th>000d6849-084e-4d9f-ac03-37174eaf60c4</th>\n",
       "      <td>555.000</td>\n",
       "      <td>4</td>\n",
       "      <td>1</td>\n",
       "    </tr>\n",
       "    <tr>\n",
       "      <th>001cee7f-0b29-4716-b202-0042213ab038</th>\n",
       "      <td>442.000</td>\n",
       "      <td>1</td>\n",
       "      <td>1</td>\n",
       "    </tr>\n",
       "    <tr>\n",
       "      <th>00299f34-5385-4d13-9aea-c80b81658e1b</th>\n",
       "      <td>914.000</td>\n",
       "      <td>2</td>\n",
       "      <td>1</td>\n",
       "    </tr>\n",
       "    <tr>\n",
       "      <th>002d4d3a-4a59-406b-86ec-c3314357e498</th>\n",
       "      <td>1,649.000</td>\n",
       "      <td>1</td>\n",
       "      <td>1</td>\n",
       "    </tr>\n",
       "    <tr>\n",
       "      <th>003bbd39-0000-41ff-b7f9-2ddaec152037</th>\n",
       "      <td>2,324.000</td>\n",
       "      <td>2</td>\n",
       "      <td>1</td>\n",
       "    </tr>\n",
       "  </tbody>\n",
       "</table>\n",
       "</div>"
      ],
      "text/plain": [
       "                                      total_price  quantity  order_id\n",
       "customer_id                                                          \n",
       "000d6849-084e-4d9f-ac03-37174eaf60c4      555.000         4         1\n",
       "001cee7f-0b29-4716-b202-0042213ab038      442.000         1         1\n",
       "00299f34-5385-4d13-9aea-c80b81658e1b      914.000         2         1\n",
       "002d4d3a-4a59-406b-86ec-c3314357e498    1,649.000         1         1\n",
       "003bbd39-0000-41ff-b7f9-2ddaec152037    2,324.000         2         1"
      ]
     },
     "execution_count": 35,
     "metadata": {},
     "output_type": "execute_result"
    }
   ],
   "source": [
    "# Узнаем информацию о клиенте : сумма общих покупок, количество купленных товаров, количество заказов клиента\n",
    "info_customer = data.groupby('customer_id').agg({'total_price':'sum', 'quantity':'sum', 'order_id':'nunique'})\n",
    "info_customer.head(5)"
   ]
  },
  {
   "cell_type": "code",
   "execution_count": 36,
   "metadata": {},
   "outputs": [
    {
     "data": {
      "text/html": [
       "<div>\n",
       "<style scoped>\n",
       "    .dataframe tbody tr th:only-of-type {\n",
       "        vertical-align: middle;\n",
       "    }\n",
       "\n",
       "    .dataframe tbody tr th {\n",
       "        vertical-align: top;\n",
       "    }\n",
       "\n",
       "    .dataframe thead th {\n",
       "        text-align: right;\n",
       "    }\n",
       "</style>\n",
       "<table border=\"1\" class=\"dataframe\">\n",
       "  <thead>\n",
       "    <tr style=\"text-align: right;\">\n",
       "      <th></th>\n",
       "      <th>total_per_order</th>\n",
       "    </tr>\n",
       "    <tr>\n",
       "      <th>customer_id</th>\n",
       "      <th></th>\n",
       "    </tr>\n",
       "  </thead>\n",
       "  <tbody>\n",
       "    <tr>\n",
       "      <th>000d6849-084e-4d9f-ac03-37174eaf60c4</th>\n",
       "      <td>555.000</td>\n",
       "    </tr>\n",
       "    <tr>\n",
       "      <th>001cee7f-0b29-4716-b202-0042213ab038</th>\n",
       "      <td>442.000</td>\n",
       "    </tr>\n",
       "    <tr>\n",
       "      <th>00299f34-5385-4d13-9aea-c80b81658e1b</th>\n",
       "      <td>914.000</td>\n",
       "    </tr>\n",
       "    <tr>\n",
       "      <th>002d4d3a-4a59-406b-86ec-c3314357e498</th>\n",
       "      <td>1,649.000</td>\n",
       "    </tr>\n",
       "    <tr>\n",
       "      <th>003bbd39-0000-41ff-b7f9-2ddaec152037</th>\n",
       "      <td>2,324.000</td>\n",
       "    </tr>\n",
       "  </tbody>\n",
       "</table>\n",
       "</div>"
      ],
      "text/plain": [
       "                                      total_per_order\n",
       "customer_id                                          \n",
       "000d6849-084e-4d9f-ac03-37174eaf60c4          555.000\n",
       "001cee7f-0b29-4716-b202-0042213ab038          442.000\n",
       "00299f34-5385-4d13-9aea-c80b81658e1b          914.000\n",
       "002d4d3a-4a59-406b-86ec-c3314357e498        1,649.000\n",
       "003bbd39-0000-41ff-b7f9-2ddaec152037        2,324.000"
      ]
     },
     "execution_count": 36,
     "metadata": {},
     "output_type": "execute_result"
    }
   ],
   "source": [
    "#Подсчитаем средний чек для каждого клиента\n",
    "avg_per_customer = data.groupby(['customer_id', 'order_id']).agg({'total_per_order':'sum'})\n",
    "avg_per_customer_1 = data.groupby('customer_id').agg({'total_per_order':'mean'})\n",
    "avg_per_customer_1.head(5)"
   ]
  },
  {
   "cell_type": "code",
   "execution_count": 37,
   "metadata": {},
   "outputs": [
    {
     "data": {
      "text/html": [
       "<div>\n",
       "<style scoped>\n",
       "    .dataframe tbody tr th:only-of-type {\n",
       "        vertical-align: middle;\n",
       "    }\n",
       "\n",
       "    .dataframe tbody tr th {\n",
       "        vertical-align: top;\n",
       "    }\n",
       "\n",
       "    .dataframe thead th {\n",
       "        text-align: right;\n",
       "    }\n",
       "</style>\n",
       "<table border=\"1\" class=\"dataframe\">\n",
       "  <thead>\n",
       "    <tr style=\"text-align: right;\">\n",
       "      <th></th>\n",
       "      <th>total_per_order</th>\n",
       "    </tr>\n",
       "  </thead>\n",
       "  <tbody>\n",
       "    <tr>\n",
       "      <th>count</th>\n",
       "      <td>2,412.000</td>\n",
       "    </tr>\n",
       "    <tr>\n",
       "      <th>mean</th>\n",
       "      <td>1,174.388</td>\n",
       "    </tr>\n",
       "    <tr>\n",
       "      <th>std</th>\n",
       "      <td>2,109.306</td>\n",
       "    </tr>\n",
       "    <tr>\n",
       "      <th>min</th>\n",
       "      <td>15.000</td>\n",
       "    </tr>\n",
       "    <tr>\n",
       "      <th>25%</th>\n",
       "      <td>300.000</td>\n",
       "    </tr>\n",
       "    <tr>\n",
       "      <th>50%</th>\n",
       "      <td>652.000</td>\n",
       "    </tr>\n",
       "    <tr>\n",
       "      <th>75%</th>\n",
       "      <td>1,349.000</td>\n",
       "    </tr>\n",
       "    <tr>\n",
       "      <th>max</th>\n",
       "      <td>49,432.000</td>\n",
       "    </tr>\n",
       "  </tbody>\n",
       "</table>\n",
       "</div>"
      ],
      "text/plain": [
       "       total_per_order\n",
       "count        2,412.000\n",
       "mean         1,174.388\n",
       "std          2,109.306\n",
       "min             15.000\n",
       "25%            300.000\n",
       "50%            652.000\n",
       "75%          1,349.000\n",
       "max         49,432.000"
      ]
     },
     "execution_count": 37,
     "metadata": {},
     "output_type": "execute_result"
    }
   ],
   "source": [
    "#Найдем среднее, минимальное и максимальное значения по среднему чеку клиентов. \n",
    "avg_per_customer_1.describe()"
   ]
  },
  {
   "cell_type": "markdown",
   "metadata": {},
   "source": [
    "Максимальный средний чек у пользователя был равен 49,432. В среднем значение среднего чека у клиентов равно 1,174. "
   ]
  },
  {
   "cell_type": "code",
   "execution_count": 38,
   "metadata": {},
   "outputs": [
    {
     "data": {
      "text/plain": [
       "count     2,412.000\n",
       "mean      1,624.452\n",
       "std       4,341.389\n",
       "min          15.000\n",
       "25%         389.750\n",
       "50%         834.000\n",
       "75%       1,798.250\n",
       "max     159,508.000\n",
       "Name: total_price, dtype: float64"
      ]
     },
     "execution_count": 38,
     "metadata": {},
     "output_type": "execute_result"
    }
   ],
   "source": [
    "#Найдем среднее, минимальное и максимальное значения по суммарной выручки с клиента клиента.  \n",
    "info_customer['total_price'].describe()"
   ]
  },
  {
   "cell_type": "code",
   "execution_count": 39,
   "metadata": {},
   "outputs": [
    {
     "data": {
      "image/png": "[encoded data removed]",
      "text/plain": [
       "<Figure size 432x288 with 1 Axes>"
      ]
     },
     "metadata": {
      "needs_background": "light"
     },
     "output_type": "display_data"
    }
   ],
   "source": [
    "#Построим гистограмму для наглядности. \n",
    "plt.hist(info_customer['total_price'], bins = 50, range = (0,10000))\n",
    "plt.title('Гистограмма потраченных денег клиентами магазина')\n",
    "plt.xlabel('Сумма потраченная клиентом')\n",
    "plt.ylabel('Количество клиентов')\n",
    "plt.show()"
   ]
  },
  {
   "cell_type": "markdown",
   "metadata": {},
   "source": [
    "В среднем клиенты магазина тратят 1 624, 75% покупателей приобрели товаров на сумму 1 798 за 1 год и 4 месяца. Больше всего потратил клиент, который сделал заказов на сумму 159 508. Скорее всего он сделал больше всего заказов. Далее в исследовании мы проверим это. "
   ]
  },
  {
   "cell_type": "code",
   "execution_count": 40,
   "metadata": {},
   "outputs": [
    {
     "data": {
      "text/html": [
       "<div>\n",
       "<style scoped>\n",
       "    .dataframe tbody tr th:only-of-type {\n",
       "        vertical-align: middle;\n",
       "    }\n",
       "\n",
       "    .dataframe tbody tr th {\n",
       "        vertical-align: top;\n",
       "    }\n",
       "\n",
       "    .dataframe thead th {\n",
       "        text-align: right;\n",
       "    }\n",
       "</style>\n",
       "<table border=\"1\" class=\"dataframe\">\n",
       "  <thead>\n",
       "    <tr style=\"text-align: right;\">\n",
       "      <th></th>\n",
       "      <th>total_price</th>\n",
       "      <th>quantity</th>\n",
       "      <th>order_id</th>\n",
       "    </tr>\n",
       "    <tr>\n",
       "      <th>customer_id</th>\n",
       "      <th></th>\n",
       "      <th></th>\n",
       "      <th></th>\n",
       "    </tr>\n",
       "  </thead>\n",
       "  <tbody>\n",
       "    <tr>\n",
       "      <th>c971fb21-d54c-4134-938f-16b62ee86d3b</th>\n",
       "      <td>159,508.000</td>\n",
       "      <td>334</td>\n",
       "      <td>126</td>\n",
       "    </tr>\n",
       "  </tbody>\n",
       "</table>\n",
       "</div>"
      ],
      "text/plain": [
       "                                      total_price  quantity  order_id\n",
       "customer_id                                                          \n",
       "c971fb21-d54c-4134-938f-16b62ee86d3b  159,508.000       334       126"
      ]
     },
     "execution_count": 40,
     "metadata": {},
     "output_type": "execute_result"
    }
   ],
   "source": [
    "info_customer[info_customer['total_price'] > 60000]"
   ]
  },
  {
   "cell_type": "markdown",
   "metadata": {},
   "source": [
    "Данный клиент сделал 143 заказа на общую сумму 159 508. В среднем он заказывал на сумму 1 265 и купил 334 товара. "
   ]
  },
  {
   "cell_type": "code",
   "execution_count": 41,
   "metadata": {},
   "outputs": [
    {
     "data": {
      "text/plain": [
       "count   2,412.000\n",
       "mean        5.491\n",
       "std        18.075\n",
       "min         1.000\n",
       "25%         1.000\n",
       "50%         2.000\n",
       "75%         3.000\n",
       "max       334.000\n",
       "Name: quantity, dtype: float64"
      ]
     },
     "execution_count": 41,
     "metadata": {},
     "output_type": "execute_result"
    }
   ],
   "source": [
    "#Найдем среднее, минимальное и максимальное значения по количеству товаров купленных клиентом. \n",
    "info_customer['quantity'].describe()"
   ]
  },
  {
   "cell_type": "code",
   "execution_count": 42,
   "metadata": {},
   "outputs": [
    {
     "data": {
      "text/plain": [
       "count   2,412.000\n",
       "mean        1.447\n",
       "std         2.699\n",
       "min         1.000\n",
       "25%         1.000\n",
       "50%         1.000\n",
       "75%         2.000\n",
       "max       126.000\n",
       "Name: order_id, dtype: float64"
      ]
     },
     "execution_count": 42,
     "metadata": {},
     "output_type": "execute_result"
    }
   ],
   "source": [
    "#Найдем среднее, минимальное и максимальное значения по количеству заказов клиента.\n",
    "info_customer['order_id'].describe()"
   ]
  },
  {
   "cell_type": "markdown",
   "metadata": {},
   "source": [
    "Клиент, который потратил больше всего денег, заказал больше всего заказов и купил больше всего товаров. \n",
    "В среднем клиенты делают около 1-2 заказов, 5-6 товаров покупают. "
   ]
  },
  {
   "cell_type": "code",
   "execution_count": 43,
   "metadata": {},
   "outputs": [
    {
     "data": {
      "text/html": [
       "<div>\n",
       "<style scoped>\n",
       "    .dataframe tbody tr th:only-of-type {\n",
       "        vertical-align: middle;\n",
       "    }\n",
       "\n",
       "    .dataframe tbody tr th {\n",
       "        vertical-align: top;\n",
       "    }\n",
       "\n",
       "    .dataframe thead th {\n",
       "        text-align: right;\n",
       "    }\n",
       "</style>\n",
       "<table border=\"1\" class=\"dataframe\">\n",
       "  <thead>\n",
       "    <tr style=\"text-align: right;\">\n",
       "      <th></th>\n",
       "      <th>date</th>\n",
       "      <th>customer_id</th>\n",
       "      <th>order_id</th>\n",
       "      <th>product</th>\n",
       "      <th>quantity</th>\n",
       "      <th>price</th>\n",
       "      <th>month</th>\n",
       "      <th>day</th>\n",
       "      <th>weekday</th>\n",
       "      <th>total_price</th>\n",
       "      <th>total_per_order</th>\n",
       "      <th>total_per_customer</th>\n",
       "      <th>products_per_customer</th>\n",
       "      <th>orders_per_customer</th>\n",
       "      <th>avg_customer_receipt</th>\n",
       "    </tr>\n",
       "  </thead>\n",
       "  <tbody>\n",
       "    <tr>\n",
       "      <th>0</th>\n",
       "      <td>2018-10-01</td>\n",
       "      <td>ee47d746-6d2f-4d3c-9622-c31412542920</td>\n",
       "      <td>68477</td>\n",
       "      <td>Комнатное растение в горшке Алое Вера, d12, h30</td>\n",
       "      <td>1</td>\n",
       "      <td>142.000</td>\n",
       "      <td>10</td>\n",
       "      <td>1</td>\n",
       "      <td>0</td>\n",
       "      <td>142.000</td>\n",
       "      <td>1,037.000</td>\n",
       "      <td>1,037.000</td>\n",
       "      <td>7</td>\n",
       "      <td>1</td>\n",
       "      <td>1,037.000</td>\n",
       "    </tr>\n",
       "    <tr>\n",
       "      <th>1</th>\n",
       "      <td>2018-10-01</td>\n",
       "      <td>ee47d746-6d2f-4d3c-9622-c31412542920</td>\n",
       "      <td>68477</td>\n",
       "      <td>Комнатное растение в горшке Кофе Арабика, d12, h25</td>\n",
       "      <td>1</td>\n",
       "      <td>194.000</td>\n",
       "      <td>10</td>\n",
       "      <td>1</td>\n",
       "      <td>0</td>\n",
       "      <td>194.000</td>\n",
       "      <td>1,037.000</td>\n",
       "      <td>1,037.000</td>\n",
       "      <td>7</td>\n",
       "      <td>1</td>\n",
       "      <td>1,037.000</td>\n",
       "    </tr>\n",
       "    <tr>\n",
       "      <th>2</th>\n",
       "      <td>2018-10-01</td>\n",
       "      <td>ee47d746-6d2f-4d3c-9622-c31412542920</td>\n",
       "      <td>68477</td>\n",
       "      <td>Радермахера d-12 см h-20 см</td>\n",
       "      <td>1</td>\n",
       "      <td>112.000</td>\n",
       "      <td>10</td>\n",
       "      <td>1</td>\n",
       "      <td>0</td>\n",
       "      <td>112.000</td>\n",
       "      <td>1,037.000</td>\n",
       "      <td>1,037.000</td>\n",
       "      <td>7</td>\n",
       "      <td>1</td>\n",
       "      <td>1,037.000</td>\n",
       "    </tr>\n",
       "    <tr>\n",
       "      <th>3</th>\n",
       "      <td>2018-10-01</td>\n",
       "      <td>ee47d746-6d2f-4d3c-9622-c31412542920</td>\n",
       "      <td>68477</td>\n",
       "      <td>Хризолидокарпус Лутесценс d-9 см</td>\n",
       "      <td>1</td>\n",
       "      <td>179.000</td>\n",
       "      <td>10</td>\n",
       "      <td>1</td>\n",
       "      <td>0</td>\n",
       "      <td>179.000</td>\n",
       "      <td>1,037.000</td>\n",
       "      <td>1,037.000</td>\n",
       "      <td>7</td>\n",
       "      <td>1</td>\n",
       "      <td>1,037.000</td>\n",
       "    </tr>\n",
       "    <tr>\n",
       "      <th>4</th>\n",
       "      <td>2018-10-01</td>\n",
       "      <td>ee47d746-6d2f-4d3c-9622-c31412542920</td>\n",
       "      <td>68477</td>\n",
       "      <td>Циперус Зумула d-12 см h-25 см</td>\n",
       "      <td>1</td>\n",
       "      <td>112.000</td>\n",
       "      <td>10</td>\n",
       "      <td>1</td>\n",
       "      <td>0</td>\n",
       "      <td>112.000</td>\n",
       "      <td>1,037.000</td>\n",
       "      <td>1,037.000</td>\n",
       "      <td>7</td>\n",
       "      <td>1</td>\n",
       "      <td>1,037.000</td>\n",
       "    </tr>\n",
       "  </tbody>\n",
       "</table>\n",
       "</div>"
      ],
      "text/plain": [
       "        date                           customer_id  order_id  \\\n",
       "0 2018-10-01  ee47d746-6d2f-4d3c-9622-c31412542920     68477   \n",
       "1 2018-10-01  ee47d746-6d2f-4d3c-9622-c31412542920     68477   \n",
       "2 2018-10-01  ee47d746-6d2f-4d3c-9622-c31412542920     68477   \n",
       "3 2018-10-01  ee47d746-6d2f-4d3c-9622-c31412542920     68477   \n",
       "4 2018-10-01  ee47d746-6d2f-4d3c-9622-c31412542920     68477   \n",
       "\n",
       "                                              product  quantity   price  \\\n",
       "0     Комнатное растение в горшке Алое Вера, d12, h30         1 142.000   \n",
       "1  Комнатное растение в горшке Кофе Арабика, d12, h25         1 194.000   \n",
       "2                         Радермахера d-12 см h-20 см         1 112.000   \n",
       "3                    Хризолидокарпус Лутесценс d-9 см         1 179.000   \n",
       "4                      Циперус Зумула d-12 см h-25 см         1 112.000   \n",
       "\n",
       "   month  day  weekday  total_price  total_per_order  total_per_customer  \\\n",
       "0     10    1        0      142.000        1,037.000           1,037.000   \n",
       "1     10    1        0      194.000        1,037.000           1,037.000   \n",
       "2     10    1        0      112.000        1,037.000           1,037.000   \n",
       "3     10    1        0      179.000        1,037.000           1,037.000   \n",
       "4     10    1        0      112.000        1,037.000           1,037.000   \n",
       "\n",
       "   products_per_customer  orders_per_customer  avg_customer_receipt  \n",
       "0                      7                    1             1,037.000  \n",
       "1                      7                    1             1,037.000  \n",
       "2                      7                    1             1,037.000  \n",
       "3                      7                    1             1,037.000  \n",
       "4                      7                    1             1,037.000  "
      ]
     },
     "execution_count": 43,
     "metadata": {},
     "output_type": "execute_result"
    }
   ],
   "source": [
    "#Присоеденим к основной таблице\n",
    "data = data.merge(info_customer, how='outer', on='customer_id')\n",
    "data = data.merge(avg_per_customer_1, how='outer', on='customer_id')\n",
    "#Переименуем столбцы\n",
    "data.columns = ['date',\n",
    " 'customer_id',\n",
    " 'order_id',\n",
    " 'product',\n",
    " 'quantity',\n",
    " 'price',\n",
    " 'month',\n",
    " 'day',\n",
    " 'weekday',                   \n",
    " 'total_price',\n",
    " 'total_per_order',\n",
    " 'total_per_customer',\n",
    " 'products_per_customer',             \n",
    " 'orders_per_customer',\n",
    " 'avg_customer_receipt']\n",
    "data.head(5)"
   ]
  },
  {
   "cell_type": "markdown",
   "metadata": {},
   "source": [
    "Таким образом, средний клиент покупает 5-6 товаров на сумму 1122. За весь период делают 1-2 заказа. Средний чек клиентов состовляет 1,174 у. е. "
   ]
  },
  {
   "cell_type": "markdown",
   "metadata": {},
   "source": [
    "## Сегментирование покупателей по профилю потребления."
   ]
  },
  {
   "cell_type": "markdown",
   "metadata": {},
   "source": [
    "Для сегментирования покупателей с помощью RFM-анализа нам нужны такие параметры, как id клиента, id заказа, дата заказа, количество покупок и итоговая сумма покупок. "
   ]
  },
  {
   "cell_type": "code",
   "execution_count": 44,
   "metadata": {},
   "outputs": [
    {
     "data": {
      "text/html": [
       "<div>\n",
       "<style scoped>\n",
       "    .dataframe tbody tr th:only-of-type {\n",
       "        vertical-align: middle;\n",
       "    }\n",
       "\n",
       "    .dataframe tbody tr th {\n",
       "        vertical-align: top;\n",
       "    }\n",
       "\n",
       "    .dataframe thead th {\n",
       "        text-align: right;\n",
       "    }\n",
       "</style>\n",
       "<table border=\"1\" class=\"dataframe\">\n",
       "  <thead>\n",
       "    <tr style=\"text-align: right;\">\n",
       "      <th></th>\n",
       "      <th>recency</th>\n",
       "      <th>frequency</th>\n",
       "      <th>monetary_value</th>\n",
       "    </tr>\n",
       "    <tr>\n",
       "      <th>customer_id</th>\n",
       "      <th></th>\n",
       "      <th></th>\n",
       "      <th></th>\n",
       "    </tr>\n",
       "  </thead>\n",
       "  <tbody>\n",
       "    <tr>\n",
       "      <th>000d6849-084e-4d9f-ac03-37174eaf60c4</th>\n",
       "      <td>106</td>\n",
       "      <td>1</td>\n",
       "      <td>555.000</td>\n",
       "    </tr>\n",
       "    <tr>\n",
       "      <th>001cee7f-0b29-4716-b202-0042213ab038</th>\n",
       "      <td>348</td>\n",
       "      <td>1</td>\n",
       "      <td>442.000</td>\n",
       "    </tr>\n",
       "    <tr>\n",
       "      <th>00299f34-5385-4d13-9aea-c80b81658e1b</th>\n",
       "      <td>108</td>\n",
       "      <td>1</td>\n",
       "      <td>914.000</td>\n",
       "    </tr>\n",
       "    <tr>\n",
       "      <th>002d4d3a-4a59-406b-86ec-c3314357e498</th>\n",
       "      <td>368</td>\n",
       "      <td>1</td>\n",
       "      <td>1,649.000</td>\n",
       "    </tr>\n",
       "    <tr>\n",
       "      <th>003bbd39-0000-41ff-b7f9-2ddaec152037</th>\n",
       "      <td>123</td>\n",
       "      <td>1</td>\n",
       "      <td>2,324.000</td>\n",
       "    </tr>\n",
       "    <tr>\n",
       "      <th>004d24e9-4a6c-4d0e-8727-8391dfd4b43a</th>\n",
       "      <td>368</td>\n",
       "      <td>1</td>\n",
       "      <td>1,536.000</td>\n",
       "    </tr>\n",
       "    <tr>\n",
       "      <th>005ba170-45e8-42de-93f7-192481ae2659</th>\n",
       "      <td>86</td>\n",
       "      <td>2</td>\n",
       "      <td>7,857.000</td>\n",
       "    </tr>\n",
       "    <tr>\n",
       "      <th>00bd74b1-2792-47db-a2f1-680a09ac5026</th>\n",
       "      <td>466</td>\n",
       "      <td>1</td>\n",
       "      <td>937.000</td>\n",
       "    </tr>\n",
       "    <tr>\n",
       "      <th>00c0f92a-121a-4883-a78d-2c7b5fe187de</th>\n",
       "      <td>49</td>\n",
       "      <td>2</td>\n",
       "      <td>321.000</td>\n",
       "    </tr>\n",
       "    <tr>\n",
       "      <th>00c95d20-923e-4b45-88fc-53b12931d462</th>\n",
       "      <td>42</td>\n",
       "      <td>1</td>\n",
       "      <td>186.500</td>\n",
       "    </tr>\n",
       "  </tbody>\n",
       "</table>\n",
       "</div>"
      ],
      "text/plain": [
       "                                      recency  frequency  monetary_value\n",
       "customer_id                                                             \n",
       "000d6849-084e-4d9f-ac03-37174eaf60c4      106          1         555.000\n",
       "001cee7f-0b29-4716-b202-0042213ab038      348          1         442.000\n",
       "00299f34-5385-4d13-9aea-c80b81658e1b      108          1         914.000\n",
       "002d4d3a-4a59-406b-86ec-c3314357e498      368          1       1,649.000\n",
       "003bbd39-0000-41ff-b7f9-2ddaec152037      123          1       2,324.000\n",
       "004d24e9-4a6c-4d0e-8727-8391dfd4b43a      368          1       1,536.000\n",
       "005ba170-45e8-42de-93f7-192481ae2659       86          2       7,857.000\n",
       "00bd74b1-2792-47db-a2f1-680a09ac5026      466          1         937.000\n",
       "00c0f92a-121a-4883-a78d-2c7b5fe187de       49          2         321.000\n",
       "00c95d20-923e-4b45-88fc-53b12931d462       42          1         186.500"
      ]
     },
     "execution_count": 44,
     "metadata": {},
     "output_type": "execute_result"
    }
   ],
   "source": [
    "#В датасете последний заказ был сделан 31 января 2020 года, \n",
    "# для расчета давности мы использовали его в качестве даты для функции NOW.\n",
    "NOW = dt.datetime(2020,1,31)\n",
    "# Создаём таблицу RFM\n",
    "RFM_table = data.groupby('customer_id').agg({'date': lambda x: (NOW - x.max()).days, # Recency\n",
    "                                                'order_id': lambda x: len(x.unique()), # Frequency\n",
    "                                                'total_price': lambda x: x.sum()})    # Monetary \n",
    "\n",
    "RFM_table['date'] = RFM_table['date'].astype(int)\n",
    "\n",
    "RFM_table.rename(columns={'date': 'recency', \n",
    "                         'order_id': 'frequency',\n",
    "                         'total_price': 'monetary_value'}, inplace=True)\n",
    "RFM_table.head(10)"
   ]
  },
  {
   "cell_type": "markdown",
   "metadata": {},
   "source": [
    "Теперь у нас есть значения RFM в отношении каждого пользователя. "
   ]
  },
  {
   "cell_type": "code",
   "execution_count": 45,
   "metadata": {},
   "outputs": [
    {
     "data": {
      "text/html": [
       "<div>\n",
       "<style scoped>\n",
       "    .dataframe tbody tr th:only-of-type {\n",
       "        vertical-align: middle;\n",
       "    }\n",
       "\n",
       "    .dataframe tbody tr th {\n",
       "        vertical-align: top;\n",
       "    }\n",
       "\n",
       "    .dataframe thead th {\n",
       "        text-align: right;\n",
       "    }\n",
       "</style>\n",
       "<table border=\"1\" class=\"dataframe\">\n",
       "  <thead>\n",
       "    <tr style=\"text-align: right;\">\n",
       "      <th></th>\n",
       "      <th>recency</th>\n",
       "      <th>frequency</th>\n",
       "      <th>monetary_value</th>\n",
       "    </tr>\n",
       "  </thead>\n",
       "  <tbody>\n",
       "    <tr>\n",
       "      <th>0.330</th>\n",
       "      <td>102.000</td>\n",
       "      <td>1.000</td>\n",
       "      <td>524.000</td>\n",
       "    </tr>\n",
       "    <tr>\n",
       "      <th>0.660</th>\n",
       "      <td>297.260</td>\n",
       "      <td>2.000</td>\n",
       "      <td>1,321.560</td>\n",
       "    </tr>\n",
       "    <tr>\n",
       "      <th>0.990</th>\n",
       "      <td>481.890</td>\n",
       "      <td>3.000</td>\n",
       "      <td>9,867.370</td>\n",
       "    </tr>\n",
       "  </tbody>\n",
       "</table>\n",
       "</div>"
      ],
      "text/plain": [
       "       recency  frequency  monetary_value\n",
       "0.330  102.000      1.000         524.000\n",
       "0.660  297.260      2.000       1,321.560\n",
       "0.990  481.890      3.000       9,867.370"
      ]
     },
     "execution_count": 45,
     "metadata": {},
     "output_type": "execute_result"
    }
   ],
   "source": [
    "#Распределим на 3 квинтиля\n",
    "quantiles = RFM_table.quantile(q=[0.33,0.66,0.99])\n",
    "quantiles"
   ]
  },
  {
   "cell_type": "code",
   "execution_count": 46,
   "metadata": {},
   "outputs": [],
   "source": [
    "# Конвентируем информацию о квинтилях в словарь\n",
    "quantiles = quantiles.to_dict()\n",
    "# Делаем копию таблицы RFM_table\n",
    "RFM_Segment = RFM_table.copy()\n",
    "# Присваеваем каждому  клиенту свою группу недавности \n",
    "def R_Class(x,p,d):\n",
    "    if x <= d[p][0.33]:\n",
    "        return 3\n",
    "    elif x <= d[p][0.66]:\n",
    "        return 2\n",
    "    else:\n",
    "        return 1\n",
    "    \n",
    "# Присваеваем каждому  клиенту свою группу частоты покупок и суммы покупок \n",
    "def FM_Class(x,p,d):\n",
    "    if x <= d[p][0.33]:\n",
    "        return 1\n",
    "    elif x <= d[p][0.66]:\n",
    "        return 2\n",
    "    else:\n",
    "        return 3\n",
    "    \n",
    "# Добовляем наши группы в итоговую таблицу \n",
    "RFM_Segment['R_Quartile'] = RFM_Segment['recency'].apply(R_Class, args=('recency',quantiles,))\n",
    "RFM_Segment['F_Quartile'] = RFM_Segment['frequency'].apply(FM_Class, args=('frequency',quantiles,))\n",
    "RFM_Segment['M_Quartile'] = RFM_Segment['monetary_value'].apply(FM_Class, args=('monetary_value',quantiles,))\n",
    "# Считаем RFM показатель для каждого клиента\n",
    "RFM_Segment['RFMClass'] = RFM_Segment.R_Quartile.map(str) \\\n",
    "                            + RFM_Segment.F_Quartile.map(str) \\\n",
    "                            + RFM_Segment.M_Quartile.map(str)"
   ]
  },
  {
   "cell_type": "code",
   "execution_count": 47,
   "metadata": {},
   "outputs": [
    {
     "data": {
      "text/html": [
       "<div>\n",
       "<style scoped>\n",
       "    .dataframe tbody tr th:only-of-type {\n",
       "        vertical-align: middle;\n",
       "    }\n",
       "\n",
       "    .dataframe tbody tr th {\n",
       "        vertical-align: top;\n",
       "    }\n",
       "\n",
       "    .dataframe thead th {\n",
       "        text-align: right;\n",
       "    }\n",
       "</style>\n",
       "<table border=\"1\" class=\"dataframe\">\n",
       "  <thead>\n",
       "    <tr style=\"text-align: right;\">\n",
       "      <th></th>\n",
       "      <th>recency</th>\n",
       "      <th>frequency</th>\n",
       "      <th>monetary_value</th>\n",
       "      <th>R_Quartile</th>\n",
       "      <th>F_Quartile</th>\n",
       "      <th>M_Quartile</th>\n",
       "      <th>RFMClass</th>\n",
       "    </tr>\n",
       "    <tr>\n",
       "      <th>customer_id</th>\n",
       "      <th></th>\n",
       "      <th></th>\n",
       "      <th></th>\n",
       "      <th></th>\n",
       "      <th></th>\n",
       "      <th></th>\n",
       "      <th></th>\n",
       "    </tr>\n",
       "  </thead>\n",
       "  <tbody>\n",
       "    <tr>\n",
       "      <th>000d6849-084e-4d9f-ac03-37174eaf60c4</th>\n",
       "      <td>106</td>\n",
       "      <td>1</td>\n",
       "      <td>555.000</td>\n",
       "      <td>2</td>\n",
       "      <td>1</td>\n",
       "      <td>2</td>\n",
       "      <td>212</td>\n",
       "    </tr>\n",
       "    <tr>\n",
       "      <th>001cee7f-0b29-4716-b202-0042213ab038</th>\n",
       "      <td>348</td>\n",
       "      <td>1</td>\n",
       "      <td>442.000</td>\n",
       "      <td>1</td>\n",
       "      <td>1</td>\n",
       "      <td>1</td>\n",
       "      <td>111</td>\n",
       "    </tr>\n",
       "    <tr>\n",
       "      <th>00299f34-5385-4d13-9aea-c80b81658e1b</th>\n",
       "      <td>108</td>\n",
       "      <td>1</td>\n",
       "      <td>914.000</td>\n",
       "      <td>2</td>\n",
       "      <td>1</td>\n",
       "      <td>2</td>\n",
       "      <td>212</td>\n",
       "    </tr>\n",
       "    <tr>\n",
       "      <th>002d4d3a-4a59-406b-86ec-c3314357e498</th>\n",
       "      <td>368</td>\n",
       "      <td>1</td>\n",
       "      <td>1,649.000</td>\n",
       "      <td>1</td>\n",
       "      <td>1</td>\n",
       "      <td>3</td>\n",
       "      <td>113</td>\n",
       "    </tr>\n",
       "    <tr>\n",
       "      <th>003bbd39-0000-41ff-b7f9-2ddaec152037</th>\n",
       "      <td>123</td>\n",
       "      <td>1</td>\n",
       "      <td>2,324.000</td>\n",
       "      <td>2</td>\n",
       "      <td>1</td>\n",
       "      <td>3</td>\n",
       "      <td>213</td>\n",
       "    </tr>\n",
       "  </tbody>\n",
       "</table>\n",
       "</div>"
      ],
      "text/plain": [
       "                                      recency  frequency  monetary_value  \\\n",
       "customer_id                                                                \n",
       "000d6849-084e-4d9f-ac03-37174eaf60c4      106          1         555.000   \n",
       "001cee7f-0b29-4716-b202-0042213ab038      348          1         442.000   \n",
       "00299f34-5385-4d13-9aea-c80b81658e1b      108          1         914.000   \n",
       "002d4d3a-4a59-406b-86ec-c3314357e498      368          1       1,649.000   \n",
       "003bbd39-0000-41ff-b7f9-2ddaec152037      123          1       2,324.000   \n",
       "\n",
       "                                      R_Quartile  F_Quartile  M_Quartile  \\\n",
       "customer_id                                                                \n",
       "000d6849-084e-4d9f-ac03-37174eaf60c4           2           1           2   \n",
       "001cee7f-0b29-4716-b202-0042213ab038           1           1           1   \n",
       "00299f34-5385-4d13-9aea-c80b81658e1b           2           1           2   \n",
       "002d4d3a-4a59-406b-86ec-c3314357e498           1           1           3   \n",
       "003bbd39-0000-41ff-b7f9-2ddaec152037           2           1           3   \n",
       "\n",
       "                                     RFMClass  \n",
       "customer_id                                    \n",
       "000d6849-084e-4d9f-ac03-37174eaf60c4      212  \n",
       "001cee7f-0b29-4716-b202-0042213ab038      111  \n",
       "00299f34-5385-4d13-9aea-c80b81658e1b      212  \n",
       "002d4d3a-4a59-406b-86ec-c3314357e498      113  \n",
       "003bbd39-0000-41ff-b7f9-2ddaec152037      213  "
      ]
     },
     "execution_count": 47,
     "metadata": {},
     "output_type": "execute_result"
    }
   ],
   "source": [
    "RFM_Segment.head()"
   ]
  },
  {
   "cell_type": "markdown",
   "metadata": {},
   "source": [
    "Таким образом для каждого клиента мы присвоили значения:\n",
    "\n",
    "По давности заказа (recency):\n",
    "- 1 — давние клиенты;\n",
    "- 2 — относительно недавние клиенты;\n",
    "- 3 — недавние клиенты.\n",
    "\n",
    "По частоте покупок (frequency):\n",
    "- 1 — покупает очень редко (единичные заказы);\n",
    "- 2 — покупает нечасто;\n",
    "- 3 — покупает часто.\n",
    "\n",
    "По сумме покупок (monetary):\n",
    "- 1 — маленькая сумма;\n",
    "- 2 — средняя сумма;\n",
    "- 3 — большая сумма."
   ]
  },
  {
   "cell_type": "code",
   "execution_count": 48,
   "metadata": {},
   "outputs": [
    {
     "data": {
      "image/png": "[encoded data removed]",
      "text/plain": [
       "<Figure size 720x360 with 1 Axes>"
      ]
     },
     "metadata": {
      "needs_background": "light"
     },
     "output_type": "display_data"
    }
   ],
   "source": [
    "#Посмотрим показатель RFM среди пользователей на графике \n",
    "fig=plt.figure(figsize=(10, 5)), \n",
    "RFM_Segment.groupby('RFMClass').agg('recency').count().plot(kind='bar')\n",
    "plt.title('График распростроненности определенного RFM показателя среди клиентов')\n",
    "plt.xlabel('Показатель RFM')\n",
    "plt.ylabel('Количество клиентов')\n",
    "plt.show()"
   ]
  },
  {
   "cell_type": "markdown",
   "metadata": {},
   "source": [
    "Судя по графику, у магазина достаточно много давних клиентов, которые сделали заказ один раз и ушли. Магазину следует попытаться вернуть их. Возможно в этом поможет e-mail рассылка или новые промоакции.  \n",
    "\n",
    "Кроме того, есть относительно недавние клиенты, которые покупают очень редко, скорее всего один раз. Таким клиентам нужно напомнить о себе и дать дополнительные бонусы, чтобы они совершили 2 и 3 покупки. \n",
    "\n",
    "И последняя распространенная категория - клиенты, которые часто покупают товары на разный чек.\n",
    "\n",
    "Таким образом для интернет магазина выгоднее иметь клиентов, показатель RFM у которых равен 221, 222, 223, 231, 232, 233, 321, 322, 323, 331, 332, 333, так как они чаще заходят в магазин и хоть какие то покупки сделали относительно недавно.  \n",
    "\n",
    "Остальные клиенты (111, 112, 113, 121, 122, 123, 211, 212, 213, 311, 312, 311) покупают редко, давно были в магазине и приобретают на маленькую сумму. \n",
    "\n",
    "Таким образом, мы можем разделить клиентов на 2 большие группы, которые лояльны к интернет-магазину и которые зашли случайно или больше не заходят в магазин. "
   ]
  },
  {
   "cell_type": "code",
   "execution_count": 49,
   "metadata": {},
   "outputs": [],
   "source": [
    "filter_1 = ['221', '222', '223', '231', '232', '233', '321', '322', '323', '331', '332', '333']\n",
    "filter_2 = ['111', '112', '113', '121', '122', '123', '211', '212', '213', '311', '312', '311']\n",
    "group_1 = RFM_Segment[RFM_Segment.RFMClass.isin(filter_1)]\n",
    "group_2 = RFM_Segment[RFM_Segment.RFMClass.isin(filter_2)]"
   ]
  },
  {
   "cell_type": "markdown",
   "metadata": {},
   "source": [
    "## Формулировка и проверка статистических гипотез."
   ]
  },
  {
   "cell_type": "markdown",
   "metadata": {},
   "source": [
    "Проверим гипотезу различия в покупке товаров между 2 группами. \n",
    "Сформулируем нулевую и альтернативную гипотезу. \n",
    "\n",
    "Нулевая гипотеза: Пользователи меньшего RFM класса покупают столько же товаров, сколько и пользователи большего RFM класса.\n",
    "\n",
    "Альтернативная гипотеза: Пользователи меньшего RFM класса покупают меньше товаров, чем пользователи большего RFM класса.\n",
    "\n",
    "Зададим уровень значимости на уровне 0,05\n",
    "\n",
    "Посчитаем p-value, используя параметр ttest из scipy для сравнения средних двух выборок.\n",
    "\n",
    "Для подтверждения гипотезы о равенстве среднего двух генеральных совокупностей по взятым из них выборкам иcпользуется T-тест (st.stats.ttest_ind)."
   ]
  },
  {
   "cell_type": "code",
   "execution_count": 50,
   "metadata": {},
   "outputs": [],
   "source": [
    "# Для начала добавим столбец с количеством купленного товара для каждого покупателя в обеих группах. \n",
    "quantity = data.groupby('customer_id').agg({'quantity':'sum'})\n",
    "group_1 = group_1.merge(quantity, on='customer_id')\n",
    "group_2 = group_2.merge(quantity, on='customer_id')"
   ]
  },
  {
   "cell_type": "code",
   "execution_count": 51,
   "metadata": {},
   "outputs": [
    {
     "name": "stdout",
     "output_type": "stream",
     "text": [
      "p-значение:  3.4233278880711845e-06\n",
      "Отвергаем нулевую гипотезу\n"
     ]
    }
   ],
   "source": [
    "# Задаём уровень значимости\n",
    "alpha = 0.05 \n",
    "\n",
    "# Проводим статистический тест \n",
    "\n",
    "results = st.stats.ttest_ind(group_1['quantity'], \n",
    "                             group_2['quantity'])\n",
    "\n",
    "print('p-значение: ', results.pvalue)    # тест двухсторонний\n",
    "\n",
    "if results.pvalue < alpha:\n",
    "    print(\"Отвергаем нулевую гипотезу\")\n",
    "else:\n",
    "    print(\"Не получилось отвергнуть нулевую гипотезу\")"
   ]
  },
  {
   "cell_type": "markdown",
   "metadata": {},
   "source": [
    "Таким образом, пользователи меньшего RFM класса покупают меньше товаров, чем пользователи большего RFM класса."
   ]
  },
  {
   "cell_type": "code",
   "execution_count": 52,
   "metadata": {},
   "outputs": [
    {
     "data": {
      "text/plain": [
       "807.7009229996639"
      ]
     },
     "execution_count": 52,
     "metadata": {},
     "output_type": "execute_result"
    }
   ],
   "source": [
    "#Посчитаем средний чек среди группы 1\n",
    "group_1['monetary_value_mean'] = group_1['monetary_value'] / group_1['quantity']\n",
    "avg_check_group_1 = group_1['monetary_value_mean'].mean()\n",
    "avg_check_group_1"
   ]
  },
  {
   "cell_type": "markdown",
   "metadata": {},
   "source": [
    "Проверим гипотезу, что средний чек у пользователей 2 группы не меньше, чем средний чек у пользователей группы 1.\n",
    "\n",
    "Мырасчитали средний чек у пользователей 1 группы. Он равен 807,7 \n",
    "\n",
    "Сформулируем нулевую и альтернативную гипотезу. \n",
    "\n",
    "Нулевая гипотеза: У пользователи большего RFM класса средний чек, больше или равен 807,7.\n",
    "\n",
    "Альтернативная гипотеза: Пользователи большего RFM класса имеют средний чек меньше 807,7.\n",
    "\n",
    "Зададим уровень значимости на уровне 0,05\n",
    "\n",
    "Посчитаем p-value, используя метод st.ttest_1samp\n",
    "\n",
    "Для проведения одностороннего теста используем метод scipy.stats.ttest_1samp()"
   ]
  },
  {
   "cell_type": "code",
   "execution_count": 53,
   "metadata": {},
   "outputs": [
    {
     "data": {
      "text/html": [
       "<div>\n",
       "<style scoped>\n",
       "    .dataframe tbody tr th:only-of-type {\n",
       "        vertical-align: middle;\n",
       "    }\n",
       "\n",
       "    .dataframe tbody tr th {\n",
       "        vertical-align: top;\n",
       "    }\n",
       "\n",
       "    .dataframe thead th {\n",
       "        text-align: right;\n",
       "    }\n",
       "</style>\n",
       "<table border=\"1\" class=\"dataframe\">\n",
       "  <thead>\n",
       "    <tr style=\"text-align: right;\">\n",
       "      <th></th>\n",
       "      <th>monetary_value_mean</th>\n",
       "    </tr>\n",
       "    <tr>\n",
       "      <th>customer_id</th>\n",
       "      <th></th>\n",
       "    </tr>\n",
       "  </thead>\n",
       "  <tbody>\n",
       "    <tr>\n",
       "      <th>000d6849-084e-4d9f-ac03-37174eaf60c4</th>\n",
       "      <td>138.750</td>\n",
       "    </tr>\n",
       "    <tr>\n",
       "      <th>001cee7f-0b29-4716-b202-0042213ab038</th>\n",
       "      <td>442.000</td>\n",
       "    </tr>\n",
       "    <tr>\n",
       "      <th>00299f34-5385-4d13-9aea-c80b81658e1b</th>\n",
       "      <td>457.000</td>\n",
       "    </tr>\n",
       "    <tr>\n",
       "      <th>002d4d3a-4a59-406b-86ec-c3314357e498</th>\n",
       "      <td>1,649.000</td>\n",
       "    </tr>\n",
       "    <tr>\n",
       "      <th>003bbd39-0000-41ff-b7f9-2ddaec152037</th>\n",
       "      <td>1,162.000</td>\n",
       "    </tr>\n",
       "    <tr>\n",
       "      <th>...</th>\n",
       "      <td>...</td>\n",
       "    </tr>\n",
       "    <tr>\n",
       "      <th>ff0c73c3-6b62-4e67-8e12-bb83ed1851d5</th>\n",
       "      <td>899.000</td>\n",
       "    </tr>\n",
       "    <tr>\n",
       "      <th>ffaeab76-3a8d-49ee-860f-17273b2fc8a2</th>\n",
       "      <td>397.000</td>\n",
       "    </tr>\n",
       "    <tr>\n",
       "      <th>ffb5976a-7a4d-460b-95c4-5ffaba31cb24</th>\n",
       "      <td>389.000</td>\n",
       "    </tr>\n",
       "    <tr>\n",
       "      <th>ffb80538-3fda-4351-8ea9-9d2bec58bb07</th>\n",
       "      <td>974.000</td>\n",
       "    </tr>\n",
       "    <tr>\n",
       "      <th>ffe82299-3f5b-4214-87fe-3d36ecccfac3</th>\n",
       "      <td>577.000</td>\n",
       "    </tr>\n",
       "  </tbody>\n",
       "</table>\n",
       "<p>1577 rows × 1 columns</p>\n",
       "</div>"
      ],
      "text/plain": [
       "                                      monetary_value_mean\n",
       "customer_id                                              \n",
       "000d6849-084e-4d9f-ac03-37174eaf60c4              138.750\n",
       "001cee7f-0b29-4716-b202-0042213ab038              442.000\n",
       "00299f34-5385-4d13-9aea-c80b81658e1b              457.000\n",
       "002d4d3a-4a59-406b-86ec-c3314357e498            1,649.000\n",
       "003bbd39-0000-41ff-b7f9-2ddaec152037            1,162.000\n",
       "...                                                   ...\n",
       "ff0c73c3-6b62-4e67-8e12-bb83ed1851d5              899.000\n",
       "ffaeab76-3a8d-49ee-860f-17273b2fc8a2              397.000\n",
       "ffb5976a-7a4d-460b-95c4-5ffaba31cb24              389.000\n",
       "ffb80538-3fda-4351-8ea9-9d2bec58bb07              974.000\n",
       "ffe82299-3f5b-4214-87fe-3d36ecccfac3              577.000\n",
       "\n",
       "[1577 rows x 1 columns]"
      ]
     },
     "execution_count": 53,
     "metadata": {},
     "output_type": "execute_result"
    }
   ],
   "source": [
    "#Посчитаем средний чек для каждого клиента группы 2\n",
    "group_2['monetary_value_mean'] = group_2['monetary_value'] / group_2['quantity']\n",
    "data_test = group_2.groupby('customer_id').agg({'monetary_value_mean': 'mean'})\n",
    "data_test"
   ]
  },
  {
   "cell_type": "code",
   "execution_count": 54,
   "metadata": {},
   "outputs": [
    {
     "name": "stdout",
     "output_type": "stream",
     "text": [
      "p-значение:  [1.30999731e-09]\n",
      "Отвергаем нулевую гипотезу\n"
     ]
    }
   ],
   "source": [
    "# Задаём уровень значимости\n",
    "alpha = 0.05 \n",
    "\n",
    "# Проводим статистический тест \n",
    "results = st.ttest_1samp(data_test, \n",
    "                         avg_check_group_1, \n",
    "                         alternative='less')\n",
    "\n",
    "print('p-значение: ', results.pvalue)    # тест двухсторонний\n",
    "\n",
    "if results.pvalue < alpha:\n",
    "    print(\"Отвергаем нулевую гипотезу\")\n",
    "else:\n",
    "    print(\"Не получилось отвергнуть нулевую гипотезу\")"
   ]
  },
  {
   "cell_type": "markdown",
   "metadata": {},
   "source": [
    "Таким образом, пользователи большего RFM класса имеют средний чек меньше 807,7.\n",
    "\n",
    "Подсчитаем, средний чек группы 2. "
   ]
  },
  {
   "cell_type": "code",
   "execution_count": 55,
   "metadata": {},
   "outputs": [
    {
     "data": {
      "text/plain": [
       "645.3411983054575"
      ]
     },
     "execution_count": 55,
     "metadata": {},
     "output_type": "execute_result"
    }
   ],
   "source": [
    "avg_check_group_2 = group_2['monetary_value_mean'].mean()\n",
    "avg_check_group_2"
   ]
  },
  {
   "cell_type": "markdown",
   "metadata": {},
   "source": [
    "Таким образом, действительно, средний чек у группы 2 меньше чем 807,7."
   ]
  },
  {
   "cell_type": "markdown",
   "metadata": {},
   "source": [
    "## Итоговый вывод"
   ]
  },
  {
   "cell_type": "markdown",
   "metadata": {},
   "source": [
    "###### Исследовательский анализ данных\n",
    "- У нас в распоряжении данные за период 1 год и 4 месяца: с 1 октября 2018 года по 31 января 2020 года. \n",
    "- Судя по графикам зависимости количества уникальных заказов и дня, месяца, дня недели, мы заметили взаимосвязь количества продаж с сезонностью и днями недели. Больше всего заказов у магазина с сентября по февраль и в будние дни. \n",
    "- Всего мы располагаем 3492 уникальными заказами и 2413 уникальными пользователями после удаления неявных дубликатов, в которых не соблюдались бизнес-правила \"1 заказ - 1 клиент\" и \"1 заказ\" - \"1 дата». \n",
    "- Всего за период анализа было продано 14 244 заказа на общую сумму 4 593 179,42 у. е. \n",
    "- В среднем выручка за заказ составляет 1 122 у. е. Около 75% заказов составляют выручку менее 1 257. Люди предпочитают заказывать дешевые товары в этом магазине. Крупные покупки делаются очень редко. Максимальная стоимость заказа за период анализа составляет 49 432 у. е. \n",
    "- В среднем клиенты магазина тратят 1 624, 75% покупателей приобрели товаров на сумму 1 798 за 1 год и 4 месяца. Больше всего потратил клиент, который сделал заказов на сумму 159 508. Он сделал максимальное количество покупок за все время: 143 заказа. В среднем он заказывал на сумму 1 265 и купил 334 товара.\n",
    "- Средний клиент покупает 5-6 товаров на сумму 1122. За весь период делают 1-2 заказа. Средний чек клиентов составляет 1,174 у. е.\n",
    "\n",
    "###### Сегментирование покупателей по профилю потребления\n",
    "С помощью RFM-анализа нам удалось сегментировать покупателей. \n",
    "\n",
    "Мы присвоили для каждого покупателя 3 показателя: давность заказа (recency), частота покупок (frequency), сумма покупок (monetary). Чем меньше показатель, тем клиент менее полезен для бизнеса: они давно делали заказ, делают заказ не часто и тратят мало. \n",
    "\n",
    "У магазина достаточно много давних клиентов, которые сделали заказ один раз и ушли. Кроме того, есть относительно недавние клиенты, которые покупают очень редко, скорее всего один раз. И последняя распространенная категория - клиенты, которые часто покупают товары на разный чек. \n",
    "\n",
    "Для каждой категории клиентов следует подобрать уникальные маркетинговые предложения для увеличения лояльности к компании. \n",
    "\n",
    "###### Проверка гипотез\n",
    "Мы решили проверить есть ли статистическая разница в количестве купленных товаров между группами меньшего RFM класса и большего. \n",
    "\n",
    "По результату проверки гипотезы, мы пришли к выводу, что пользователи меньшего RFM класса покупают меньше товаров, чем пользователи большего RFM класса.\n",
    "\n",
    "Далее мы проверили гипотезу, что средний чек у пользователей 2 группы не меньше, чем средний чек у пользователей группы 1. \n",
    "\n",
    "В результате проверки мы обнаружили, что гипотеза не подтвердилась, средний чек у группы 2 меньше чем 807,7. Возможно это связано с тем, что дорогие заказы делали давно и единожды, поэтому дорогие заказы попали в группу с меньшего RFM класса. \n",
    "\n",
    "###### Рекомендации \n",
    "Для увеличения прибыли компании мы рекомендуем ввести персонализированные предложения для каждой группы, которые образовались в результате сегментации с помощью метода RFM - анализа. \n",
    "\n",
    "- Для групп 111, 112, 113, 121, 122, 123 следует создать рассылку, чтобы напомнить о себе и спросить обратную связь о работе магазина. \n",
    "\n",
    "- Группы 131, 132, 133, 231, 232, 233  приносили достаточно много денег, но почему то клиенты решили уйти. Этих клиентов следует обязательно вернуть. Можно предложить им бонусы и также спросить обратную связь о работе магазина. \n",
    "\n",
    "- Группы 211, 212, 213, 221, 222, 223  достаточно недавно купили товар в магазине, поэтому им стоит напомнить о магазине и организовать e-mail рассылку с проведенными акциями в магазине и интересными предложениями. \n",
    "\n",
    "- Недавно совершившим покупки клиентам из групп 311, 312, 313, 321, 322 следует прислать письмо о программе лояльности магазина и подборку акционных товаров. \n",
    "\n",
    "- Самые привлекательные для компании клиенты находятся в группах 323, 331, 332, 333. Таким клиентам следует просто регулярно присылать информацию об акциях интернет- магазина и предстоящих скидках. "
   ]
  },
  {
   "cell_type": "markdown",
   "metadata": {},
   "source": [
    "## Презентация "
   ]
  },
  {
   "cell_type": "markdown",
   "metadata": {},
   "source": [
    "Ссылка на презентацию: https://disk.yandex.ru/d/_AF6ZuP6350k-g"
   ]
  },
  {
   "cell_type": "markdown",
   "metadata": {},
   "source": [
    "## Дашборд"
   ]
  },
  {
   "cell_type": "markdown",
   "metadata": {},
   "source": [
    "Ссылка на дашборд: https://public.tableau.com/app/profile/marina.filobok/viz/Book1_17000621523400/sheet4?publish=yes\n",
    "        "
   ]
  }
 ],
 "metadata": {
  "ExecuteTimeLog": [
   {
    "duration": 52,
    "start_time": "2023-11-06T10:55:41.148Z"
   },
   {
    "duration": 389,
    "start_time": "2023-11-06T10:56:10.224Z"
   },
   {
    "duration": 121,
    "start_time": "2023-11-06T10:56:10.739Z"
   },
   {
    "duration": 12,
    "start_time": "2023-11-06T10:57:40.312Z"
   },
   {
    "duration": 1277,
    "start_time": "2023-11-15T16:49:26.169Z"
   },
   {
    "duration": 150,
    "start_time": "2023-11-15T16:49:27.448Z"
   },
   {
    "duration": 12,
    "start_time": "2023-11-15T16:49:27.600Z"
   },
   {
    "duration": 105,
    "start_time": "2023-11-15T16:49:27.613Z"
   },
   {
    "duration": 109,
    "start_time": "2023-11-15T16:49:27.720Z"
   },
   {
    "duration": 31,
    "start_time": "2023-11-15T16:49:27.831Z"
   },
   {
    "duration": 20,
    "start_time": "2023-11-15T16:49:27.863Z"
   },
   {
    "duration": 5,
    "start_time": "2023-11-15T16:49:27.884Z"
   },
   {
    "duration": 14,
    "start_time": "2023-11-15T16:49:27.891Z"
   },
   {
    "duration": 22,
    "start_time": "2023-11-15T16:49:27.906Z"
   },
   {
    "duration": 13,
    "start_time": "2023-11-15T16:49:27.929Z"
   },
   {
    "duration": 21,
    "start_time": "2023-11-15T16:49:27.944Z"
   },
   {
    "duration": 68,
    "start_time": "2023-11-15T16:49:27.967Z"
   },
   {
    "duration": 48,
    "start_time": "2023-11-15T16:49:28.038Z"
   },
   {
    "duration": 27,
    "start_time": "2023-11-15T16:49:28.087Z"
   },
   {
    "duration": 301,
    "start_time": "2023-11-15T16:49:28.116Z"
   },
   {
    "duration": 206,
    "start_time": "2023-11-15T16:49:28.419Z"
   },
   {
    "duration": 199,
    "start_time": "2023-11-15T16:49:28.627Z"
   },
   {
    "duration": 7,
    "start_time": "2023-11-15T16:49:28.828Z"
   },
   {
    "duration": 10,
    "start_time": "2023-11-15T16:49:28.837Z"
   },
   {
    "duration": 9,
    "start_time": "2023-11-15T16:49:28.849Z"
   },
   {
    "duration": 6,
    "start_time": "2023-11-15T16:49:28.860Z"
   },
   {
    "duration": 14,
    "start_time": "2023-11-15T16:49:28.867Z"
   },
   {
    "duration": 20,
    "start_time": "2023-11-15T16:49:28.883Z"
   },
   {
    "duration": 21,
    "start_time": "2023-11-15T16:49:28.905Z"
   },
   {
    "duration": 15,
    "start_time": "2023-11-15T16:49:28.927Z"
   },
   {
    "duration": 225,
    "start_time": "2023-11-15T16:49:28.944Z"
   },
   {
    "duration": 5,
    "start_time": "2023-11-15T16:49:29.171Z"
   },
   {
    "duration": 33,
    "start_time": "2023-11-15T16:49:29.178Z"
   },
   {
    "duration": 16,
    "start_time": "2023-11-15T16:49:29.213Z"
   },
   {
    "duration": 7,
    "start_time": "2023-11-15T16:49:29.231Z"
   },
   {
    "duration": 236,
    "start_time": "2023-11-15T16:49:29.241Z"
   },
   {
    "duration": 9,
    "start_time": "2023-11-15T16:49:29.478Z"
   },
   {
    "duration": 10,
    "start_time": "2023-11-15T16:49:29.499Z"
   },
   {
    "duration": 8,
    "start_time": "2023-11-15T16:49:29.511Z"
   },
   {
    "duration": 27,
    "start_time": "2023-11-15T16:49:29.520Z"
   },
   {
    "duration": 523,
    "start_time": "2023-11-15T16:49:29.548Z"
   },
   {
    "duration": 9,
    "start_time": "2023-11-15T16:49:30.072Z"
   },
   {
    "duration": 78,
    "start_time": "2023-11-15T16:49:30.082Z"
   },
   {
    "duration": 57,
    "start_time": "2023-11-15T16:49:30.162Z"
   },
   {
    "duration": 291,
    "start_time": "2023-11-15T16:49:30.223Z"
   },
   {
    "duration": 7,
    "start_time": "2023-11-15T16:49:30.515Z"
   },
   {
    "duration": 137,
    "start_time": "2023-11-15T16:49:30.524Z"
   },
   {
    "duration": 65,
    "start_time": "2023-11-15T16:49:30.663Z"
   },
   {
    "duration": 22,
    "start_time": "2023-11-15T16:52:12.162Z"
   },
   {
    "duration": 13,
    "start_time": "2023-11-15T17:06:27.802Z"
   },
   {
    "duration": 14,
    "start_time": "2023-11-15T17:06:42.709Z"
   },
   {
    "duration": 6,
    "start_time": "2023-11-15T17:09:29.000Z"
   },
   {
    "duration": 5,
    "start_time": "2023-11-15T17:09:40.536Z"
   },
   {
    "duration": 6,
    "start_time": "2023-11-15T17:09:44.020Z"
   },
   {
    "duration": 1354,
    "start_time": "2023-11-17T18:28:16.293Z"
   },
   {
    "duration": 151,
    "start_time": "2023-11-17T18:28:17.649Z"
   },
   {
    "duration": 16,
    "start_time": "2023-11-17T18:28:17.802Z"
   },
   {
    "duration": 14,
    "start_time": "2023-11-17T18:28:17.820Z"
   },
   {
    "duration": 16,
    "start_time": "2023-11-17T18:28:17.836Z"
   },
   {
    "duration": 19,
    "start_time": "2023-11-17T18:28:17.859Z"
   },
   {
    "duration": 20,
    "start_time": "2023-11-17T18:28:17.880Z"
   },
   {
    "duration": 29,
    "start_time": "2023-11-17T18:28:17.902Z"
   },
   {
    "duration": 12,
    "start_time": "2023-11-17T18:28:17.932Z"
   },
   {
    "duration": 11,
    "start_time": "2023-11-17T18:28:17.946Z"
   },
   {
    "duration": 7,
    "start_time": "2023-11-17T18:28:17.959Z"
   },
   {
    "duration": 9,
    "start_time": "2023-11-17T18:28:17.968Z"
   },
   {
    "duration": 18,
    "start_time": "2023-11-17T18:28:17.980Z"
   },
   {
    "duration": 5,
    "start_time": "2023-11-17T18:28:18.030Z"
   },
   {
    "duration": 8,
    "start_time": "2023-11-17T18:28:18.036Z"
   },
   {
    "duration": 8,
    "start_time": "2023-11-17T18:28:18.045Z"
   },
   {
    "duration": 177,
    "start_time": "2023-11-17T18:28:18.055Z"
   },
   {
    "duration": 5,
    "start_time": "2023-11-17T18:28:18.234Z"
   },
   {
    "duration": 165,
    "start_time": "2023-11-17T18:28:18.240Z"
   },
   {
    "duration": 6,
    "start_time": "2023-11-17T18:28:18.406Z"
   },
   {
    "duration": 163,
    "start_time": "2023-11-17T18:28:18.414Z"
   },
   {
    "duration": 5,
    "start_time": "2023-11-17T18:28:18.579Z"
   },
   {
    "duration": 5,
    "start_time": "2023-11-17T18:28:18.585Z"
   },
   {
    "duration": 6,
    "start_time": "2023-11-17T18:28:18.591Z"
   },
   {
    "duration": 6,
    "start_time": "2023-11-17T18:28:18.598Z"
   },
   {
    "duration": 9,
    "start_time": "2023-11-17T18:28:18.630Z"
   },
   {
    "duration": 19,
    "start_time": "2023-11-17T18:28:18.640Z"
   },
   {
    "duration": 10,
    "start_time": "2023-11-17T18:28:18.661Z"
   },
   {
    "duration": 6,
    "start_time": "2023-11-17T18:28:18.673Z"
   },
   {
    "duration": 11,
    "start_time": "2023-11-17T18:28:18.680Z"
   },
   {
    "duration": 39,
    "start_time": "2023-11-17T18:28:18.692Z"
   },
   {
    "duration": 175,
    "start_time": "2023-11-17T18:28:18.732Z"
   },
   {
    "duration": 4,
    "start_time": "2023-11-17T18:28:18.908Z"
   },
   {
    "duration": 33,
    "start_time": "2023-11-17T18:28:18.913Z"
   },
   {
    "duration": 14,
    "start_time": "2023-11-17T18:28:18.948Z"
   },
   {
    "duration": 19,
    "start_time": "2023-11-17T18:28:18.964Z"
   },
   {
    "duration": 13,
    "start_time": "2023-11-17T18:28:18.984Z"
   },
   {
    "duration": 34,
    "start_time": "2023-11-17T18:28:18.998Z"
   },
   {
    "duration": 184,
    "start_time": "2023-11-17T18:28:19.033Z"
   },
   {
    "duration": 18,
    "start_time": "2023-11-17T18:28:19.218Z"
   },
   {
    "duration": 9,
    "start_time": "2023-11-17T18:28:19.242Z"
   },
   {
    "duration": 7,
    "start_time": "2023-11-17T18:28:19.252Z"
   },
   {
    "duration": 22,
    "start_time": "2023-11-17T18:28:19.261Z"
   },
   {
    "duration": 426,
    "start_time": "2023-11-17T18:28:19.285Z"
   },
   {
    "duration": 7,
    "start_time": "2023-11-17T18:28:19.713Z"
   },
   {
    "duration": 25,
    "start_time": "2023-11-17T18:28:19.721Z"
   },
   {
    "duration": 12,
    "start_time": "2023-11-17T18:28:19.747Z"
   },
   {
    "duration": 237,
    "start_time": "2023-11-17T18:28:19.760Z"
   },
   {
    "duration": 8,
    "start_time": "2023-11-17T18:28:19.999Z"
   },
   {
    "duration": 27,
    "start_time": "2023-11-17T18:28:20.009Z"
   },
   {
    "duration": 6,
    "start_time": "2023-11-17T18:28:20.037Z"
   },
   {
    "duration": 17,
    "start_time": "2023-11-17T18:28:20.045Z"
   },
   {
    "duration": 14,
    "start_time": "2023-11-17T18:28:20.063Z"
   },
   {
    "duration": 5,
    "start_time": "2023-11-17T18:28:20.079Z"
   },
   {
    "duration": 15,
    "start_time": "2023-11-17T18:28:20.086Z"
   }
  ],
  "kernelspec": {
   "display_name": "Python 3 (ipykernel)",
   "language": "python",
   "name": "python3"
  },
  "language_info": {
   "codemirror_mode": {
    "name": "ipython",
    "version": 3
   },
   "file_extension": ".py",
   "mimetype": "text/x-python",
   "name": "python",
   "nbconvert_exporter": "python",
   "pygments_lexer": "ipython3",
   "version": "3.10.9"
  },
  "toc": {
   "base_numbering": 1,
   "nav_menu": {},
   "number_sections": true,
   "sideBar": true,
   "skip_h1_title": true,
   "title_cell": "Table of Contents",
   "title_sidebar": "Contents",
   "toc_cell": false,
   "toc_position": {},
   "toc_section_display": true,
   "toc_window_display": false
  }
 },
 "nbformat": 4,
 "nbformat_minor": 2
}
