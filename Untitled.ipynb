{
 "cells": [
  {
   "cell_type": "markdown",
   "id": "851fd73b",
   "metadata": {},
   "source": [
    "# Исследование данных об инвестиции венчурных фондов в компании-стартапы"
   ]
  },
  {
   "cell_type": "markdown",
   "id": "4c3c51c6",
   "metadata": {},
   "source": [
    "Цель проекта - использовать навыки SQL для выгрузки необходимой информации об инвестициях венчурных фондов в компании-стартапы.\n",
    "\n",
    "В проекте идёт работа с базой данных, которая хранит информацию о венчурных фондах и инвестициях в компании-стартапы. Эта база данных основана на датасете Startup Investments, опубликованном на популярной платформе для соревнований по исследованию данных Kaggle.\n",
    "\n",
    "Проект был сделан в онлайн-тренажёре SQL, поэтому при переносе данных в Jupiter подключиться к БД и выполнять запросы активным кодом в этом учебном проекте нет возможности."
   ]
  },
  {
   "cell_type": "markdown",
   "id": "2c73acdf",
   "metadata": {},
   "source": [
    "![nnn](http://localhost:8888/files/Image%20(1).pdf)"
   ]
  },
  {
   "cell_type": "markdown",
   "id": "1770fbd2",
   "metadata": {},
   "source": [
    "### Описание базы данных \n",
    "\n",
    "***acquisition***\n",
    "\n",
    "Содержит информацию о покупках одних компаний другими:\n",
    "\n",
    "- первичный ключ id — идентификатор или уникальный номер покупки;\n",
    "- внешний ключ acquiring_company_id — ссылается на таблицу company — идентификатор компании-покупателя, то есть той, что покупает другую компанию;\n",
    "- внешний ключ acquired_company_id — ссылается на таблицу company — идентификатор компании, которую покупают;\n",
    "- term_code — способ оплаты сделки:\n",
    "- cash — наличными;\n",
    "- stock — акциями компании;\n",
    "- cash_and_stock — смешанный тип оплаты: наличные и акции.\n",
    "- price_amount — сумма покупки в долларах;\n",
    "- acquired_at — дата совершения сделки;\n",
    "- created_at — дата и время создания записи в таблице;\n",
    "- updated_at — дата и время обновления записи в таблице.\n",
    "\n",
    "***company***\n",
    "\n",
    "Содержит информацию о компаниях-стартапах:\n",
    "\n",
    "- первичный ключ id — идентификатор, или уникальный номер компании;\n",
    "- name — название компании;\n",
    "- category_code — категория деятельности компании, например:\n",
    "- news — специализируется на работе с новостями;\n",
    "- social — специализируется на социальной работе.\n",
    "- status — статус компании:\n",
    "- acquired — приобретена;\n",
    "- operating — действует;\n",
    "- ipo — вышла на IPO;\n",
    "- closed — перестала существовать.\n",
    "- founded_at — дата основания компании;\n",
    "- closed_at — дата закрытия компании, которую указывают в том случае, если компании больше не существует;\n",
    "- domain — домен сайта компании;\n",
    "- twitter_username — название профиля компании в твиттере;\n",
    "- country_code — код страны, например, USA для США, GBR для Великобритании;\n",
    "- investment_rounds — число раундов, в которых компания участвовала как инвестор;\n",
    "- funding_rounds — число раундов, в которых компания привлекала инвестиции;\n",
    "- funding_total — сумма привлечённых инвестиций в долларах;\n",
    "- milestones — количество важных этапов в истории компании;\n",
    "- created_at — дата и время создания записи в таблице;\n",
    "- updated_at — дата и время обновления записи в таблице.\n",
    "\n",
    "***education***\n",
    "\n",
    "Хранит информацию об уровне образования сотрудников компаний:\n",
    "\n",
    "- первичный ключ id — уникальный номер записи с информацией об образовании;\n",
    "- внешний ключ person_id — ссылается на таблицу people — идентификатор человека, информация о котором представлена в записи;\n",
    "- degree_type — учебная степень, например:\n",
    "- BA — Bachelor of Arts — бакалавр гуманитарных наук;\n",
    "- MS — Master of Science — магистр естественных наук.\n",
    "- instituition — учебное заведение, название университета;\n",
    "- graduated_at — дата завершения обучения, выпуска;\n",
    "- created_at — дата и время создания записи в таблице;\n",
    "- updated_at — дата и время обновления записи в таблице.\n",
    "\n",
    "***fund***\n",
    "\n",
    "Хранит информацию о венчурных фондах.\n",
    "\n",
    "- первичный ключ id — уникальный номер венчурного фонда;\n",
    "- name — название венчурного фонда;\n",
    "- founded_at — дата основания фонда;\n",
    "- domain — домен сайта фонда;\n",
    "- twitter_username — профиль фонда в твиттере;\n",
    "- country_code — код страны фонда;\n",
    "- investment_rounds — число инвестиционных раундов, в которых фонд принимал участие;\n",
    "- invested_companies — число компаний, в которые инвестировал фонд;\n",
    "- milestones — количество важных этапов в истории фонда;\n",
    "- created_at — дата и время создания записи в таблице;\n",
    "- updated_at — дата и время обновления записи в таблице.\n",
    "\n",
    "***funding_round***\n",
    "\n",
    "Содержит информацию о раундах инвестиций. \n",
    "\n",
    "- первичный ключ id — уникальный номер инвестиционного раунда;\n",
    "- внешний ключ company_id — ссылается на таблицу company — уникальный номер компании, участвовавшей в инвестиционном раунде;\n",
    "- funded_at — дата проведения раунда;\n",
    "- funding_round_type — тип инвестиционного раунда, например:\n",
    "- venture — венчурный раунд;\n",
    "- angel — ангельский раунд;\n",
    "- series_a — раунд А.\n",
    "- raised_amount — сумма инвестиций, которую привлекла компания в этом раунде в долларах;\n",
    "- pre_money_valuation — предварительная, проведённая до инвестиций оценка стоимости компании в долларах;\n",
    "- participants — количество участников инвестиционного раунда;\n",
    "- is_first_round — является ли этот раунд первым для компании;\n",
    "- is_last_round — является ли этот раунд последним для компании;\n",
    "- created_at — дата и время создания записи в таблице;\n",
    "- updated_at — дата и время обновления записи в таблице.\n",
    "\n",
    "***investment***\n",
    "\n",
    "Содержит информацию об инвестициях венчурных фондов в компании-стартапы.\n",
    "\n",
    "- первичный ключ id — уникальный номер инвестиции;\n",
    "- внешний ключ funding_round_id — ссылается на таблицу funding_round — уникальный номер раунда инвестиции;\n",
    "- внешний ключ company_id — ссылается на таблицу company — уникальный номер компании-стартапа, в которую инвестируют;\n",
    "- внешний ключ fund_id — ссылается на таблицу fund — уникальный номер фонда, инвестирующего в компанию-стартап;\n",
    "- created_at — дата и время создания записи в таблице;\n",
    "- updated_at — дата и время обновления записи в таблице.\n",
    "\n",
    "***people***\n",
    "\n",
    "Содержит информацию о сотрудниках компаний-стартапов.\n",
    "\n",
    "- первичный ключ id — уникальный номер сотрудника;\n",
    "- first_name — имя сотрудника;\n",
    "- last_name — фамилия сотрудника;\n",
    "- внешний ключ company_id — ссылается на таблицу company — уникальный номер компании-стартапа;\n",
    "- twitter_username — профиль сотрудника в твиттере;\n",
    "- created_at — дата и время создания записи в таблице;\n",
    "- updated_at — дата и время обновления записи в таблице."
   ]
  },
  {
   "cell_type": "markdown",
   "id": "b5ac1f43",
   "metadata": {},
   "source": [
    "1. Отобразите все записи из таблицы company по компаниям, которые закрылись."
   ]
  },
  {
   "cell_type": "code",
   "execution_count": null,
   "id": "93a3b8dc",
   "metadata": {},
   "outputs": [],
   "source": [
    "SELECT *\n",
    "FROM company\n",
    "WHERE status = 'closed';"
   ]
  },
  {
   "cell_type": "markdown",
   "id": "b5dbc0c5",
   "metadata": {},
   "source": [
    "2. Отобразите количество привлечённых средств для новостных компаний США. Используйте данные из таблицы company. Отсортируйте таблицу по убыванию значений в поле funding_total."
   ]
  },
  {
   "cell_type": "code",
   "execution_count": null,
   "id": "6a29e50b",
   "metadata": {},
   "outputs": [],
   "source": [
    "SELECT funding_total\n",
    "FROM company\n",
    "WHERE category_code = 'news'\n",
    "AND country_code = 'USA'\n",
    "ORDER BY funding_total DESC;"
   ]
  },
  {
   "cell_type": "markdown",
   "id": "ea4d9eea",
   "metadata": {},
   "source": [
    "3. Найдите общую сумму сделок по покупке одних компаний другими в долларах. Отберите сделки, которые осуществлялись только за наличные с 2011 по 2013 год включительно."
   ]
  },
  {
   "cell_type": "code",
   "execution_count": null,
   "id": "efe23f01",
   "metadata": {},
   "outputs": [],
   "source": [
    "SELECT SUM(price_amount)\n",
    "FROM acquisition\n",
    "WHERE term_code = 'cash'\n",
    "AND acquired_at BETWEEN '2011-01-01' AND '2013-12-31';"
   ]
  },
  {
   "cell_type": "markdown",
   "id": "ab25a69f",
   "metadata": {},
   "source": [
    "4. Отобразите имя, фамилию и названия аккаунтов людей в твиттере, у которых названия аккаунтов начинаются на 'Silver'."
   ]
  },
  {
   "cell_type": "code",
   "execution_count": null,
   "id": "28f4b91b",
   "metadata": {},
   "outputs": [],
   "source": [
    "SELECT first_name,\n",
    "last_name,\n",
    "twitter_username\n",
    "FROM people\n",
    "WHERE twitter_username LIKE 'Silver%';"
   ]
  },
  {
   "cell_type": "markdown",
   "id": "4973704b",
   "metadata": {},
   "source": [
    "5. Выведите на экран всю информацию о людях, у которых названия аккаунтов в твиттере содержат подстроку 'money', а фамилия начинается на 'K'."
   ]
  },
  {
   "cell_type": "code",
   "execution_count": null,
   "id": "2b837f02",
   "metadata": {},
   "outputs": [],
   "source": [
    "SELECT *\n",
    "FROM people\n",
    "WHERE twitter_username LIKE '%money%'\n",
    "AND last_name LIKE 'K%';"
   ]
  },
  {
   "cell_type": "markdown",
   "id": "cdfc4162",
   "metadata": {},
   "source": [
    "6. Для каждой страны отобразите общую сумму привлечённых инвестиций, которые получили компании, зарегистрированные в этой стране. Страну, в которой зарегистрирована компания, можно определить по коду страны. Отсортируйте данные по убыванию суммы."
   ]
  },
  {
   "cell_type": "code",
   "execution_count": null,
   "id": "2de13c13",
   "metadata": {},
   "outputs": [],
   "source": [
    "SELECT SUM(funding_total),\n",
    "country_code\n",
    "FROM company\n",
    "GROUP BY country_code\n",
    "ORDER BY SUM(funding_total) DESC;"
   ]
  },
  {
   "cell_type": "markdown",
   "id": "67f149ce",
   "metadata": {},
   "source": [
    "7. Составьте таблицу, в которую войдёт дата проведения раунда, а также минимальное и максимальное значения суммы инвестиций, привлечённых в эту дату.\n",
    "Оставьте в итоговой таблице только те записи, в которых минимальное значение суммы инвестиций не равно нулю и не равно максимальному значению."
   ]
  },
  {
   "cell_type": "code",
   "execution_count": null,
   "id": "57ce2ab3",
   "metadata": {},
   "outputs": [],
   "source": [
    "SELECT funded_at,\n",
    "MIN(raised_amount),\n",
    "MAX(raised_amount)\n",
    "FROM funding_round\n",
    "GROUP BY funded_at\n",
    "HAVING MIN(raised_amount)!=0\n",
    "AND MIN(raised_amount)!=MAX(raised_amount);"
   ]
  },
  {
   "cell_type": "markdown",
   "id": "92e4303d",
   "metadata": {},
   "source": [
    "8. Создайте поле с категориями:\n",
    "\n",
    "- Для фондов, которые инвестируют в 100 и более компаний, назначьте категорию high_activity.\n",
    "- Для фондов, которые инвестируют в 20 и более компаний до 100, назначьте категорию middle_activity.\n",
    "- Если количество инвестируемых компаний фонда не достигает 20, назначьте категорию low_activity.\n",
    "\n",
    "Отобразите все поля таблицы fund и новое поле с категориями."
   ]
  },
  {
   "cell_type": "code",
   "execution_count": null,
   "id": "95b85eee",
   "metadata": {},
   "outputs": [],
   "source": [
    "SELECT *,\n",
    "CASE \n",
    "WHEN invested_companies < 20 THEN 'low_activity'\n",
    "WHEN invested_companies < 100 THEN 'middle_activity'\n",
    "WHEN invested_companies >= 100 THEN 'high_activity'\n",
    "END\n",
    "FROM fund"
   ]
  },
  {
   "cell_type": "markdown",
   "id": "dbea8570",
   "metadata": {},
   "source": [
    "9. Для каждой из категорий, назначенных в предыдущем задании, посчитайте округлённое до ближайшего целого числа среднее количество инвестиционных раундов, в которых фонд принимал участие. Выведите на экран категории и среднее число инвестиционных раундов. Отсортируйте таблицу по возрастанию среднего."
   ]
  },
  {
   "cell_type": "code",
   "execution_count": null,
   "id": "0b17f5c0",
   "metadata": {},
   "outputs": [],
   "source": [
    "SELECT \n",
    "       CASE\n",
    "           WHEN invested_companies>=100 THEN 'high_activity'\n",
    "           WHEN invested_companies>=20 THEN 'middle_activity'\n",
    "           ELSE 'low_activity'\n",
    "       END AS activity,\n",
    "       ROUND(AVG(investment_rounds))\n",
    "FROM fund\n",
    "GROUP BY activity\n",
    "ORDER BY ROUND(AVG(investment_rounds));"
   ]
  },
  {
   "cell_type": "markdown",
   "id": "ffab144c",
   "metadata": {},
   "source": [
    "10. Проанализируйте, в каких странах находятся фонды, которые чаще всего инвестируют в стартапы. \n",
    "Для каждой страны посчитайте минимальное, максимальное и среднее число компаний, в которые инвестировали фонды этой страны, основанные с 2010 по 2012 год включительно. Исключите страны с фондами, у которых минимальное число компаний, получивших инвестиции, равно нулю. \n",
    "Выгрузите десять самых активных стран-инвесторов: отсортируйте таблицу по среднему количеству компаний от большего к меньшему. Затем добавьте сортировку по коду страны в лексикографическом порядке."
   ]
  },
  {
   "cell_type": "code",
   "execution_count": null,
   "id": "193841ae",
   "metadata": {},
   "outputs": [],
   "source": [
    "SELECT country_code,\n",
    "MIN(invested_companies),\n",
    "MAX(invested_companies),\n",
    "AVG(invested_companies)\n",
    "FROM fund\n",
    "WHERE founded_at BETWEEN '2010-01-01' AND '2012-12-31'\n",
    "GROUP BY country_code\n",
    "HAVING MIN(invested_companies)>0\n",
    "ORDER BY AVG(invested_companies) DESC, country_code\n",
    "LIMIT 10;"
   ]
  },
  {
   "cell_type": "markdown",
   "id": "96c6baf0",
   "metadata": {},
   "source": [
    "11. Отобразите имя и фамилию всех сотрудников стартапов. Добавьте поле с названием учебного заведения, которое окончил сотрудник, если эта информация известна."
   ]
  },
  {
   "cell_type": "code",
   "execution_count": null,
   "id": "dadfa7f8",
   "metadata": {},
   "outputs": [],
   "source": [
    "SELECT p.first_name,\n",
    "p.last_name,\n",
    "e.instituition\n",
    "FROM people AS p\n",
    "LEFT JOIN education AS e ON e.person_id=p.id"
   ]
  },
  {
   "cell_type": "markdown",
   "id": "f903d62f",
   "metadata": {},
   "source": [
    "12.\n",
    "Для каждой компании найдите количество учебных заведений, которые окончили её сотрудники. Выведите название компании и число уникальных названий учебных заведений. Составьте топ-5 компаний по количеству университетов."
   ]
  },
  {
   "cell_type": "code",
   "execution_count": null,
   "id": "d821660d",
   "metadata": {},
   "outputs": [],
   "source": [
    "SELECT COUNT(DISTINCT(education.instituition)),\n",
    "company.name\n",
    "FROM education\n",
    "INNER JOIN people ON education.person_id=people.id\n",
    "INNER JOIN company ON people.company_id=company.id\n",
    "GROUP BY company.name\n",
    "ORDER BY COUNT(education.instituition) DESC\n",
    "LIMIT 5;"
   ]
  },
  {
   "cell_type": "markdown",
   "id": "a84dd616",
   "metadata": {},
   "source": [
    "13.\n",
    "Составьте список с уникальными названиями закрытых компаний, для которых первый раунд финансирования оказался последним."
   ]
  },
  {
   "cell_type": "code",
   "execution_count": null,
   "id": "4a79b687",
   "metadata": {},
   "outputs": [],
   "source": [
    "SELECT DISTINCT(company.name)\n",
    "FROM company\n",
    "INNER JOIN funding_round ON funding_round.company_id=company.id\n",
    "WHERE company.status = 'closed'\n",
    "AND is_first_round = 1 AND is_last_round = 1;"
   ]
  },
  {
   "cell_type": "markdown",
   "id": "74fac884",
   "metadata": {},
   "source": [
    "14.\n",
    "Составьте список уникальных номеров сотрудников, которые работают в компаниях, отобранных в предыдущем задании."
   ]
  },
  {
   "cell_type": "code",
   "execution_count": null,
   "id": "e429e784",
   "metadata": {},
   "outputs": [],
   "source": [
    "WITH\n",
    "\n",
    "org AS \n",
    "\n",
    "(\n",
    "\n",
    "SELECT DISTINCT(company.id)\n",
    "\n",
    "FROM funding_round\n",
    "\n",
    "LEFT JOIN company ON company.id = funding_round.company_id\n",
    "\n",
    "WHERE is_first_round = 1 AND is_last_round = 1\n",
    "\n",
    "AND company.status LIKE 'closed'\n",
    "\n",
    ")\n",
    "\n",
    "\n",
    "SELECT DISTINCT(people.id)\n",
    "\n",
    "FROM people\n",
    "\n",
    "WHERE people.company_id IN (SELECT * FROM org)"
   ]
  },
  {
   "cell_type": "markdown",
   "id": "ad5ca406",
   "metadata": {},
   "source": [
    "15.\n",
    "Составьте таблицу, куда войдут уникальные пары с номерами сотрудников из предыдущей задачи и учебным заведением, которое окончил сотрудник."
   ]
  },
  {
   "cell_type": "code",
   "execution_count": null,
   "id": "f2b523fe",
   "metadata": {},
   "outputs": [],
   "source": [
    "WITH\n",
    "org AS \n",
    "(SELECT DISTINCT(company.id)\n",
    "FROM funding_round\n",
    "LEFT JOIN company ON company.id = funding_round.company_id\n",
    "WHERE is_first_round = 1 AND is_last_round = 1\n",
    "AND company.status LIKE 'closed'),\n",
    "edu AS\n",
    "(SELECT DISTINCT(people.id)\n",
    "FROM people\n",
    "WHERE people.company_id IN (SELECT * FROM org))\n",
    "SELECT person_id, \n",
    "instituition\n",
    "FROM education\n",
    "WHERE person_id IN (SELECT * FROM edu)\n",
    "UNION\n",
    "SELECT person_id, instituition\n",
    "FROM education\n",
    "WHERE person_id IN (SELECT * FROM edu)"
   ]
  },
  {
   "cell_type": "markdown",
   "id": "5a9c6481",
   "metadata": {},
   "source": [
    "16.\n",
    "Посчитайте количество учебных заведений для каждого сотрудника из предыдущего задания. При подсчёте учитывайте, что некоторые сотрудники могли окончить одно и то же заведение дважды."
   ]
  },
  {
   "cell_type": "code",
   "execution_count": null,
   "id": "1539f06e",
   "metadata": {},
   "outputs": [],
   "source": [
    "WITH\n",
    "org AS \n",
    "(SELECT DISTINCT(company.id)\n",
    "FROM funding_round\n",
    "LEFT JOIN company ON company.id = funding_round.company_id\n",
    "WHERE is_first_round = 1 AND is_last_round = 1\n",
    "AND company.status LIKE 'closed'),\n",
    "edu AS\n",
    "(SELECT DISTINCT(people.id)\n",
    "FROM people\n",
    "WHERE people.company_id IN (SELECT * FROM org))\n",
    "SELECT person_id, \n",
    "COUNT(instituition)\n",
    "FROM education\n",
    "WHERE person_id IN (SELECT * FROM edu)\n",
    "GROUP BY person_id"
   ]
  },
  {
   "cell_type": "markdown",
   "id": "cfce60fd",
   "metadata": {},
   "source": [
    "17.\n",
    "Дополните предыдущий запрос и выведите среднее число учебных заведений (всех, не только уникальных), которые окончили сотрудники разных компаний. Нужно вывести только одну запись, группировка здесь не понадобится."
   ]
  },
  {
   "cell_type": "code",
   "execution_count": null,
   "id": "11ed0c91",
   "metadata": {},
   "outputs": [],
   "source": [
    "WITH\n",
    "org AS \n",
    "(SELECT DISTINCT(company.id)\n",
    "FROM funding_round\n",
    "LEFT JOIN company ON company.id = funding_round.company_id\n",
    "WHERE is_first_round = 1 AND is_last_round = 1\n",
    "AND company.status LIKE 'closed'),\n",
    "edu AS\n",
    "(SELECT DISTINCT(people.id)\n",
    "FROM people\n",
    "WHERE people.company_id IN (SELECT * FROM org))\n",
    "SELECT AVG(count)\n",
    "FROM \n",
    "(SELECT person_id, \n",
    "COUNT(instituition)\n",
    "FROM education\n",
    "WHERE person_id IN (SELECT * FROM edu)\n",
    "GROUP BY person_id) AS INST"
   ]
  },
  {
   "cell_type": "markdown",
   "id": "59edd0e9",
   "metadata": {},
   "source": [
    "18.\n",
    "Напишите похожий запрос: выведите среднее число учебных заведений (всех, не только уникальных), которые окончили сотрудники Facebook*.\n",
    "*(сервис, запрещённый на территории РФ)"
   ]
  },
  {
   "cell_type": "code",
   "execution_count": null,
   "id": "7a992022",
   "metadata": {},
   "outputs": [],
   "source": [
    "WITH\n",
    "org AS \n",
    "(SELECT DISTINCT(company.id)\n",
    "FROM funding_round\n",
    "LEFT JOIN company ON company.id = funding_round.company_id\n",
    "WHERE company.name LIKE 'Facebook'),\n",
    "edu AS\n",
    "(SELECT DISTINCT(people.id)\n",
    "FROM people\n",
    "WHERE people.company_id IN (SELECT * FROM org))\n",
    "SELECT AVG(count)\n",
    "FROM \n",
    "(SELECT person_id, \n",
    "COUNT(instituition)\n",
    "FROM education\n",
    "WHERE person_id IN (SELECT * FROM edu)\n",
    "GROUP BY person_id) AS INST"
   ]
  },
  {
   "cell_type": "markdown",
   "id": "6799c9f9",
   "metadata": {},
   "source": [
    "19.\n",
    "Составьте таблицу из полей:\n",
    "    \n",
    "- name_of_fund — название фонда;\n",
    "- name_of_company — название компании;\n",
    "- amount — сумма инвестиций, которую привлекла компания в раунде.\n",
    "\n",
    "В таблицу войдут данные о компаниях, в истории которых было больше шести важных этапов, а раунды финансирования проходили с 2012 по 2013 год включительно."
   ]
  },
  {
   "cell_type": "code",
   "execution_count": null,
   "id": "52af5594",
   "metadata": {},
   "outputs": [],
   "source": [
    "SELECT \n",
    "\n",
    "fund.name AS name_of_fund,\n",
    "\n",
    "company.name AS name_of_company,\n",
    "\n",
    "funding_round.raised_amount AS amount\n",
    "\n",
    "FROM funding_round\n",
    "\n",
    "INNER JOIN investment ON funding_round.id = investment.funding_round_id\n",
    "\n",
    "INNER JOIN fund ON investment.fund_id = fund.id\n",
    "\n",
    "INNER JOIN company ON funding_round.company_id = company.id\n",
    "\n",
    "WHERE EXTRACT(YEAR FROM CAST(funding_round.funded_at AS date)) BETWEEN 2012 AND 2013\n",
    "\n",
    "AND company.milestones > 6"
   ]
  },
  {
   "cell_type": "markdown",
   "id": "6c952479",
   "metadata": {},
   "source": [
    "20.\n",
    "Выгрузите таблицу, в которой будут такие поля:\n",
    "    \n",
    "- название компании-покупателя;\n",
    "- сумма сделки;\n",
    "- название компании, которую купили;\n",
    "- сумма инвестиций, вложенных в купленную компанию;\n",
    "- доля, которая отображает, во сколько раз сумма покупки превысила сумму вложенных в компанию инвестиций, округлённая до ближайшего целого числа.\n",
    "\n",
    "Не учитывайте те сделки, в которых сумма покупки равна нулю. Если сумма инвестиций в компанию равна нулю, исключите такую компанию из таблицы. \n",
    "\n",
    "Отсортируйте таблицу по сумме сделки от большей к меньшей, а затем по названию купленной компании в лексикографическом порядке. Ограничьте таблицу первыми десятью записями."
   ]
  },
  {
   "cell_type": "code",
   "execution_count": null,
   "id": "25281c53",
   "metadata": {},
   "outputs": [],
   "source": [
    "SELECT c_acquiring.name,\n",
    "acquisition.price_amount,\n",
    "c_acquired.name,\n",
    "c_acquired.funding_total,\n",
    "ROUND(acquisition.price_amount/c_acquired.funding_total)\n",
    "FROM acquisition\n",
    "INNER JOIN company AS c_acquiring ON acquisition.acquiring_company_id=c_acquiring.id\n",
    "INNER JOIN company AS c_acquired ON acquisition.acquired_company_id=c_acquired.id\n",
    "WHERE acquisition.price_amount > 0 AND c_acquired.funding_total > 0\n",
    "ORDER BY acquisition.price_amount DESC, c_acquired.name\n",
    "LIMIT 10"
   ]
  },
  {
   "cell_type": "markdown",
   "id": "cd39a5b5",
   "metadata": {},
   "source": [
    "21.\n",
    "Выгрузите таблицу, в которую войдут названия компаний из категории social, получившие финансирование с 2010 по 2013 год включительно. Проверьте, что сумма инвестиций не равна нулю. Выведите также номер месяца, в котором проходил раунд финансирования."
   ]
  },
  {
   "cell_type": "code",
   "execution_count": null,
   "id": "83b41157",
   "metadata": {},
   "outputs": [],
   "source": [
    "SELECT company.name,\n",
    "EXTRACT(MONTH FROM CAST(funding_round.funded_at AS date))\n",
    "FROM company\n",
    "INNER JOIN funding_round ON funding_round.company_id=company.id\n",
    "WHERE company.category_code LIKE 'social'\n",
    "AND funding_round.raised_amount != 0\n",
    "AND EXTRACT(YEAR FROM CAST(funding_round.funded_at AS date)) BETWEEN 2010 AND 2013"
   ]
  },
  {
   "cell_type": "markdown",
   "id": "db2dbe1a",
   "metadata": {},
   "source": [
    "22.\n",
    "Отберите данные по месяцам с 2010 по 2013 год, когда проходили инвестиционные раунды. Сгруппируйте данные по номеру месяца и получите таблицу, в которой будут поля:\n",
    "- номер месяца, в котором проходили раунды;\n",
    "- количество уникальных названий фондов из США, которые инвестировали в этом месяце;\n",
    "- количество компаний, купленных за этот месяц;\n",
    "- общая сумма сделок по покупкам в этом месяце."
   ]
  },
  {
   "cell_type": "code",
   "execution_count": null,
   "id": "18ea5885",
   "metadata": {},
   "outputs": [],
   "source": [
    "WITH\n",
    "\n",
    "fund AS\n",
    "\n",
    "(SELECT EXTRACT(MONTH FROM CAST(fr.funded_at AS date)) AS month,\n",
    "\n",
    "COUNT(DISTINCT(f.name)) AS funds\n",
    "\n",
    "FROM funding_round AS fr\n",
    "\n",
    "INNER JOIN investment AS i ON fr.id = i.funding_round_id\n",
    "\n",
    "INNER JOIN fund AS f ON i.fund_id = f.id\n",
    "\n",
    "WHERE f.country_code LIKE 'USA'\n",
    "\n",
    "AND EXTRACT(YEAR FROM CAST(fr.funded_at AS date)) BETWEEN 2010 AND 2013\n",
    "\n",
    "GROUP BY month),\n",
    "\n",
    "aqui AS\n",
    "\n",
    "(SELECT EXTRACT(MONTH FROM CAST(a.acquired_at AS date)) AS month,\n",
    "\n",
    "COUNT(a.acquired_company_id) AS count,\n",
    "\n",
    "SUM(a.price_amount) AS sum\n",
    "\n",
    "FROM acquisition AS a\n",
    "\n",
    "WHERE EXTRACT(YEAR FROM CAST(a.acquired_at AS date)) BETWEEN 2010 AND 2013\n",
    "\n",
    "GROUP BY month)\n",
    "\n",
    "\n",
    "SELECT a.month, a.funds, b.count, b.sum\n",
    "\n",
    "FROM aqui AS b\n",
    "\n",
    "JOIN fund AS a ON b.month = a.month"
   ]
  },
  {
   "cell_type": "markdown",
   "id": "2e4cc281",
   "metadata": {},
   "source": [
    "23.\n",
    "Составьте сводную таблицу и выведите среднюю сумму инвестиций для стран, в которых есть стартапы, зарегистрированные в 2011, 2012 и 2013 годах. Данные за каждый год должны быть в отдельном поле. Отсортируйте таблицу по среднему значению инвестиций за 2011 год от большего к меньшему."
   ]
  },
  {
   "cell_type": "code",
   "execution_count": null,
   "id": "6a039a16",
   "metadata": {},
   "outputs": [],
   "source": [
    "WITH\n",
    "\n",
    "y2011 AS (SELECT country_code AS country, AVG(funding_total) AS avg2011\n",
    "\n",
    "FROM company\n",
    "\n",
    "WHERE EXTRACT(YEAR FROM CAST(founded_at AS date)) = 2011\n",
    "\n",
    "GROUP BY country_code),\n",
    "\n",
    "\n",
    "\n",
    "y2012 AS (SELECT country_code AS country, AVG(funding_total) AS avg2012\n",
    "\n",
    "FROM company\n",
    "\n",
    "WHERE EXTRACT(YEAR FROM CAST(founded_at AS date)) = 2012\n",
    "\n",
    "GROUP BY country_code),\n",
    "\n",
    "\n",
    "\n",
    "y2013 AS (SELECT country_code AS country, AVG(funding_total) AS avg2013\n",
    "\n",
    "FROM company\n",
    "\n",
    "WHERE EXTRACT(YEAR FROM CAST(founded_at AS date)) = 2013\n",
    "\n",
    "GROUP BY country_code)\n",
    "\n",
    "\n",
    "\n",
    "SELECT y2011.country, y2011.avg2011, y2012.avg2012, y2013.avg2013\n",
    "\n",
    "FROM y2011\n",
    "\n",
    "INNER JOIN y2012 ON y2011.country = y2012.country\n",
    "\n",
    "INNER JOIN y2013 ON y2011.country = y2013.country\n",
    "\n",
    "ORDER BY y2011.avg2011 DESC"
   ]
  }
 ],
 "metadata": {
  "kernelspec": {
   "display_name": "Python 3 (ipykernel)",
   "language": "python",
   "name": "python3"
  },
  "language_info": {
   "codemirror_mode": {
    "name": "ipython",
    "version": 3
   },
   "file_extension": ".py",
   "mimetype": "text/x-python",
   "name": "python",
   "nbconvert_exporter": "python",
   "pygments_lexer": "ipython3",
   "version": "3.10.9"
  }
 },
 "nbformat": 4,
 "nbformat_minor": 5
}
