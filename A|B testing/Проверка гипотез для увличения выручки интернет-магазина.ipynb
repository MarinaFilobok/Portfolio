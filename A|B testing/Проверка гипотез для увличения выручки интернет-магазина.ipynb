{
 "cells": [
  {
   "cell_type": "markdown",
   "metadata": {},
   "source": [
    "# Проверка гипотез для увличения выручки крупного интернет-магазина."
   ]
  },
  {
   "cell_type": "markdown",
   "metadata": {},
   "source": [
    "В нашем распоряжении данные о 9 гипотезах по по увеличению выручки интернет-магазина с параметрами Reach, Impact, Confidence, Effort, оцененными по 10-ти больной шкале. \n",
    "\n",
    "Также в файлах orders и visitors представленны данные о результатах A/B-теста.  \n",
    "\n",
    "Цель проекта - провести приоритезацию гипотез для увеличения выручки интернет-магазина, запуск A/B-теста и анализ итогового результата.\n",
    "\n",
    "Наша работа будет состоять из 5 шагов:\n",
    "\n",
    "1. Загрузка данных\n",
    "2. Предобработка данных\n",
    "3. Приоритезация гипотез\n",
    "4. Оценка A/B-теста\n",
    "5. Общий вывод\n",
    "\n",
    "В ходе A/B-теста мы изучим такие метики, как средний чек заказа и средее количесво заказов на посетителя. \n",
    "\n",
    "В итоге работы мы поймём в каком приоритете стоит проверять гипотезы, оценим результат A/B-теста и примим решение по его результатам: \n",
    "- Остановить тест, зафиксировать победу одной из групп.\n",
    "- Остановить тест, зафиксировать отсутствие различий между группами.\n",
    "- Продолжить тест."
   ]
  },
  {
   "cell_type": "markdown",
   "metadata": {},
   "source": [
    "## Загрузка данных и импорт необходимых библиотек."
   ]
  },
  {
   "cell_type": "code",
   "execution_count": 1,
   "metadata": {},
   "outputs": [],
   "source": [
    "#Импортируем все необходимые библиотеки.\n",
    "import warnings\n",
    "warnings.filterwarnings('ignore')\n",
    "from datetime import datetime, timedelta\n",
    "import pandas as pd\n",
    "import matplotlib.pyplot as plt\n",
    "import numpy as np\n",
    "import seaborn as sns\n",
    "import math\n",
    "import scipy.stats as stats\n",
    "from scipy import stats as st\n",
    "\n",
    "# увеличим количество символов, которые можно показывать\n",
    "pd.options.display.max_colwidth = 150\n",
    "# выставляем ограничение на показ знаков после запятой\n",
    "pd.options.display.float_format = '{:,.3f}'.format\n",
    "# задаем размер графика\n",
    "sns.set(rc={'figure.figsize':(12,6)})"
   ]
  },
  {
   "cell_type": "code",
   "execution_count": 2,
   "metadata": {},
   "outputs": [],
   "source": [
    "#прочитаем файлы с данными\n",
    "try:\n",
    "    hypothesis, orders, visitors = (\n",
    "        pd.read_csv('/datasets/hypothesis.csv'),\n",
    "        pd.read_csv('/datasets/orders.csv'),\n",
    "        pd.read_csv('/datasets/visitors.csv'))\n",
    "\n",
    "except:\n",
    "    hypothesis, orders, visitors = (\n",
    "        pd.read_csv('hypothesis.csv'),\n",
    "        pd.read_csv('orders.csv'),\n",
    "        pd.read_csv('visitors.csv'))"
   ]
  },
  {
   "cell_type": "markdown",
   "metadata": {},
   "source": [
    "## Предобработка данных."
   ]
  },
  {
   "cell_type": "code",
   "execution_count": 3,
   "metadata": {
    "scrolled": true
   },
   "outputs": [
    {
     "name": "stdout",
     "output_type": "stream",
     "text": [
      "<class 'pandas.core.frame.DataFrame'>\n",
      "RangeIndex: 9 entries, 0 to 8\n",
      "Data columns (total 5 columns):\n",
      " #   Column      Non-Null Count  Dtype \n",
      "---  ------      --------------  ----- \n",
      " 0   Hypothesis  9 non-null      object\n",
      " 1   Reach       9 non-null      int64 \n",
      " 2   Impact      9 non-null      int64 \n",
      " 3   Confidence  9 non-null      int64 \n",
      " 4   Efforts     9 non-null      int64 \n",
      "dtypes: int64(4), object(1)\n",
      "memory usage: 488.0+ bytes\n"
     ]
    },
    {
     "data": {
      "text/html": [
       "<div>\n",
       "<style scoped>\n",
       "    .dataframe tbody tr th:only-of-type {\n",
       "        vertical-align: middle;\n",
       "    }\n",
       "\n",
       "    .dataframe tbody tr th {\n",
       "        vertical-align: top;\n",
       "    }\n",
       "\n",
       "    .dataframe thead th {\n",
       "        text-align: right;\n",
       "    }\n",
       "</style>\n",
       "<table border=\"1\" class=\"dataframe\">\n",
       "  <thead>\n",
       "    <tr style=\"text-align: right;\">\n",
       "      <th></th>\n",
       "      <th>Hypothesis</th>\n",
       "      <th>Reach</th>\n",
       "      <th>Impact</th>\n",
       "      <th>Confidence</th>\n",
       "      <th>Efforts</th>\n",
       "    </tr>\n",
       "  </thead>\n",
       "  <tbody>\n",
       "    <tr>\n",
       "      <th>0</th>\n",
       "      <td>Добавить два новых канала привлечения трафика, что позволит привлекать на 30% больше пользователей</td>\n",
       "      <td>3</td>\n",
       "      <td>10</td>\n",
       "      <td>8</td>\n",
       "      <td>6</td>\n",
       "    </tr>\n",
       "    <tr>\n",
       "      <th>1</th>\n",
       "      <td>Запустить собственную службу доставки, что сократит срок доставки заказов</td>\n",
       "      <td>2</td>\n",
       "      <td>5</td>\n",
       "      <td>4</td>\n",
       "      <td>10</td>\n",
       "    </tr>\n",
       "    <tr>\n",
       "      <th>2</th>\n",
       "      <td>Добавить блоки рекомендаций товаров на сайт интернет магазина, чтобы повысить конверсию и средний чек заказа</td>\n",
       "      <td>8</td>\n",
       "      <td>3</td>\n",
       "      <td>7</td>\n",
       "      <td>3</td>\n",
       "    </tr>\n",
       "    <tr>\n",
       "      <th>3</th>\n",
       "      <td>Изменить структура категорий, что увеличит конверсию, т.к. пользователи быстрее найдут нужный товар</td>\n",
       "      <td>8</td>\n",
       "      <td>3</td>\n",
       "      <td>3</td>\n",
       "      <td>8</td>\n",
       "    </tr>\n",
       "    <tr>\n",
       "      <th>4</th>\n",
       "      <td>Изменить цвет фона главной страницы, чтобы увеличить вовлеченность пользователей</td>\n",
       "      <td>3</td>\n",
       "      <td>1</td>\n",
       "      <td>1</td>\n",
       "      <td>1</td>\n",
       "    </tr>\n",
       "    <tr>\n",
       "      <th>5</th>\n",
       "      <td>Добавить страницу отзывов клиентов о магазине, что позволит увеличить количество заказов</td>\n",
       "      <td>3</td>\n",
       "      <td>2</td>\n",
       "      <td>2</td>\n",
       "      <td>3</td>\n",
       "    </tr>\n",
       "    <tr>\n",
       "      <th>6</th>\n",
       "      <td>Показать на главной странице баннеры с актуальными акциями и распродажами, чтобы увеличить конверсию</td>\n",
       "      <td>5</td>\n",
       "      <td>3</td>\n",
       "      <td>8</td>\n",
       "      <td>3</td>\n",
       "    </tr>\n",
       "    <tr>\n",
       "      <th>7</th>\n",
       "      <td>Добавить форму подписки на все основные страницы, чтобы собрать базу клиентов для email-рассылок</td>\n",
       "      <td>10</td>\n",
       "      <td>7</td>\n",
       "      <td>8</td>\n",
       "      <td>5</td>\n",
       "    </tr>\n",
       "    <tr>\n",
       "      <th>8</th>\n",
       "      <td>Запустить акцию, дающую скидку на товар в день рождения</td>\n",
       "      <td>1</td>\n",
       "      <td>9</td>\n",
       "      <td>9</td>\n",
       "      <td>5</td>\n",
       "    </tr>\n",
       "  </tbody>\n",
       "</table>\n",
       "</div>"
      ],
      "text/plain": [
       "                                                                                                     Hypothesis  \\\n",
       "0            Добавить два новых канала привлечения трафика, что позволит привлекать на 30% больше пользователей   \n",
       "1                                     Запустить собственную службу доставки, что сократит срок доставки заказов   \n",
       "2  Добавить блоки рекомендаций товаров на сайт интернет магазина, чтобы повысить конверсию и средний чек заказа   \n",
       "3           Изменить структура категорий, что увеличит конверсию, т.к. пользователи быстрее найдут нужный товар   \n",
       "4                              Изменить цвет фона главной страницы, чтобы увеличить вовлеченность пользователей   \n",
       "5                      Добавить страницу отзывов клиентов о магазине, что позволит увеличить количество заказов   \n",
       "6          Показать на главной странице баннеры с актуальными акциями и распродажами, чтобы увеличить конверсию   \n",
       "7              Добавить форму подписки на все основные страницы, чтобы собрать базу клиентов для email-рассылок   \n",
       "8                                                       Запустить акцию, дающую скидку на товар в день рождения   \n",
       "\n",
       "   Reach  Impact  Confidence  Efforts  \n",
       "0      3      10           8        6  \n",
       "1      2       5           4       10  \n",
       "2      8       3           7        3  \n",
       "3      8       3           3        8  \n",
       "4      3       1           1        1  \n",
       "5      3       2           2        3  \n",
       "6      5       3           8        3  \n",
       "7     10       7           8        5  \n",
       "8      1       9           9        5  "
      ]
     },
     "execution_count": 3,
     "metadata": {},
     "output_type": "execute_result"
    }
   ],
   "source": [
    "#Откроем файл hypothesis.  \n",
    "hypothesis.info()\n",
    "hypothesis"
   ]
  },
  {
   "cell_type": "code",
   "execution_count": 4,
   "metadata": {},
   "outputs": [
    {
     "name": "stdout",
     "output_type": "stream",
     "text": [
      "<class 'pandas.core.frame.DataFrame'>\n",
      "RangeIndex: 1197 entries, 0 to 1196\n",
      "Data columns (total 5 columns):\n",
      " #   Column         Non-Null Count  Dtype \n",
      "---  ------         --------------  ----- \n",
      " 0   transactionId  1197 non-null   int64 \n",
      " 1   visitorId      1197 non-null   int64 \n",
      " 2   date           1197 non-null   object\n",
      " 3   revenue        1197 non-null   int64 \n",
      " 4   group          1197 non-null   object\n",
      "dtypes: int64(3), object(2)\n",
      "memory usage: 46.9+ KB\n"
     ]
    },
    {
     "data": {
      "text/html": [
       "<div>\n",
       "<style scoped>\n",
       "    .dataframe tbody tr th:only-of-type {\n",
       "        vertical-align: middle;\n",
       "    }\n",
       "\n",
       "    .dataframe tbody tr th {\n",
       "        vertical-align: top;\n",
       "    }\n",
       "\n",
       "    .dataframe thead th {\n",
       "        text-align: right;\n",
       "    }\n",
       "</style>\n",
       "<table border=\"1\" class=\"dataframe\">\n",
       "  <thead>\n",
       "    <tr style=\"text-align: right;\">\n",
       "      <th></th>\n",
       "      <th>transactionId</th>\n",
       "      <th>visitorId</th>\n",
       "      <th>date</th>\n",
       "      <th>revenue</th>\n",
       "      <th>group</th>\n",
       "    </tr>\n",
       "  </thead>\n",
       "  <tbody>\n",
       "    <tr>\n",
       "      <th>0</th>\n",
       "      <td>3667963787</td>\n",
       "      <td>3312258926</td>\n",
       "      <td>2019-08-15</td>\n",
       "      <td>1650</td>\n",
       "      <td>B</td>\n",
       "    </tr>\n",
       "    <tr>\n",
       "      <th>1</th>\n",
       "      <td>2804400009</td>\n",
       "      <td>3642806036</td>\n",
       "      <td>2019-08-15</td>\n",
       "      <td>730</td>\n",
       "      <td>B</td>\n",
       "    </tr>\n",
       "    <tr>\n",
       "      <th>2</th>\n",
       "      <td>2961555356</td>\n",
       "      <td>4069496402</td>\n",
       "      <td>2019-08-15</td>\n",
       "      <td>400</td>\n",
       "      <td>A</td>\n",
       "    </tr>\n",
       "    <tr>\n",
       "      <th>3</th>\n",
       "      <td>3797467345</td>\n",
       "      <td>1196621759</td>\n",
       "      <td>2019-08-15</td>\n",
       "      <td>9759</td>\n",
       "      <td>B</td>\n",
       "    </tr>\n",
       "    <tr>\n",
       "      <th>4</th>\n",
       "      <td>2282983706</td>\n",
       "      <td>2322279887</td>\n",
       "      <td>2019-08-15</td>\n",
       "      <td>2308</td>\n",
       "      <td>B</td>\n",
       "    </tr>\n",
       "    <tr>\n",
       "      <th>...</th>\n",
       "      <td>...</td>\n",
       "      <td>...</td>\n",
       "      <td>...</td>\n",
       "      <td>...</td>\n",
       "      <td>...</td>\n",
       "    </tr>\n",
       "    <tr>\n",
       "      <th>1192</th>\n",
       "      <td>2662137336</td>\n",
       "      <td>3733762160</td>\n",
       "      <td>2019-08-14</td>\n",
       "      <td>6490</td>\n",
       "      <td>B</td>\n",
       "    </tr>\n",
       "    <tr>\n",
       "      <th>1193</th>\n",
       "      <td>2203539145</td>\n",
       "      <td>370388673</td>\n",
       "      <td>2019-08-14</td>\n",
       "      <td>3190</td>\n",
       "      <td>A</td>\n",
       "    </tr>\n",
       "    <tr>\n",
       "      <th>1194</th>\n",
       "      <td>1807773912</td>\n",
       "      <td>573423106</td>\n",
       "      <td>2019-08-14</td>\n",
       "      <td>10550</td>\n",
       "      <td>A</td>\n",
       "    </tr>\n",
       "    <tr>\n",
       "      <th>1195</th>\n",
       "      <td>1947021204</td>\n",
       "      <td>1614305549</td>\n",
       "      <td>2019-08-14</td>\n",
       "      <td>100</td>\n",
       "      <td>A</td>\n",
       "    </tr>\n",
       "    <tr>\n",
       "      <th>1196</th>\n",
       "      <td>3936777065</td>\n",
       "      <td>2108080724</td>\n",
       "      <td>2019-08-15</td>\n",
       "      <td>202740</td>\n",
       "      <td>B</td>\n",
       "    </tr>\n",
       "  </tbody>\n",
       "</table>\n",
       "<p>1197 rows × 5 columns</p>\n",
       "</div>"
      ],
      "text/plain": [
       "      transactionId   visitorId        date  revenue group\n",
       "0        3667963787  3312258926  2019-08-15     1650     B\n",
       "1        2804400009  3642806036  2019-08-15      730     B\n",
       "2        2961555356  4069496402  2019-08-15      400     A\n",
       "3        3797467345  1196621759  2019-08-15     9759     B\n",
       "4        2282983706  2322279887  2019-08-15     2308     B\n",
       "...             ...         ...         ...      ...   ...\n",
       "1192     2662137336  3733762160  2019-08-14     6490     B\n",
       "1193     2203539145   370388673  2019-08-14     3190     A\n",
       "1194     1807773912   573423106  2019-08-14    10550     A\n",
       "1195     1947021204  1614305549  2019-08-14      100     A\n",
       "1196     3936777065  2108080724  2019-08-15   202740     B\n",
       "\n",
       "[1197 rows x 5 columns]"
      ]
     },
     "execution_count": 4,
     "metadata": {},
     "output_type": "execute_result"
    }
   ],
   "source": [
    "#Откроем файл orders.\n",
    "orders.info()\n",
    "orders"
   ]
  },
  {
   "cell_type": "code",
   "execution_count": 5,
   "metadata": {},
   "outputs": [
    {
     "data": {
      "text/plain": [
       "0"
      ]
     },
     "metadata": {},
     "output_type": "display_data"
    },
    {
     "data": {
      "text/plain": [
       "transactionId    0\n",
       "visitorId        0\n",
       "date             0\n",
       "revenue          0\n",
       "group            0\n",
       "dtype: int64"
      ]
     },
     "execution_count": 5,
     "metadata": {},
     "output_type": "execute_result"
    }
   ],
   "source": [
    "#Проверим на наличие пропусков и дубликатов \n",
    "display(orders.duplicated().sum())\n",
    "orders.isna().sum()"
   ]
  },
  {
   "cell_type": "code",
   "execution_count": 6,
   "metadata": {},
   "outputs": [
    {
     "name": "stdout",
     "output_type": "stream",
     "text": [
      "<class 'pandas.core.frame.DataFrame'>\n",
      "RangeIndex: 62 entries, 0 to 61\n",
      "Data columns (total 3 columns):\n",
      " #   Column    Non-Null Count  Dtype \n",
      "---  ------    --------------  ----- \n",
      " 0   date      62 non-null     object\n",
      " 1   group     62 non-null     object\n",
      " 2   visitors  62 non-null     int64 \n",
      "dtypes: int64(1), object(2)\n",
      "memory usage: 1.6+ KB\n"
     ]
    },
    {
     "data": {
      "text/html": [
       "<div>\n",
       "<style scoped>\n",
       "    .dataframe tbody tr th:only-of-type {\n",
       "        vertical-align: middle;\n",
       "    }\n",
       "\n",
       "    .dataframe tbody tr th {\n",
       "        vertical-align: top;\n",
       "    }\n",
       "\n",
       "    .dataframe thead th {\n",
       "        text-align: right;\n",
       "    }\n",
       "</style>\n",
       "<table border=\"1\" class=\"dataframe\">\n",
       "  <thead>\n",
       "    <tr style=\"text-align: right;\">\n",
       "      <th></th>\n",
       "      <th>date</th>\n",
       "      <th>group</th>\n",
       "      <th>visitors</th>\n",
       "    </tr>\n",
       "  </thead>\n",
       "  <tbody>\n",
       "    <tr>\n",
       "      <th>0</th>\n",
       "      <td>2019-08-01</td>\n",
       "      <td>A</td>\n",
       "      <td>719</td>\n",
       "    </tr>\n",
       "    <tr>\n",
       "      <th>1</th>\n",
       "      <td>2019-08-02</td>\n",
       "      <td>A</td>\n",
       "      <td>619</td>\n",
       "    </tr>\n",
       "    <tr>\n",
       "      <th>2</th>\n",
       "      <td>2019-08-03</td>\n",
       "      <td>A</td>\n",
       "      <td>507</td>\n",
       "    </tr>\n",
       "    <tr>\n",
       "      <th>3</th>\n",
       "      <td>2019-08-04</td>\n",
       "      <td>A</td>\n",
       "      <td>717</td>\n",
       "    </tr>\n",
       "    <tr>\n",
       "      <th>4</th>\n",
       "      <td>2019-08-05</td>\n",
       "      <td>A</td>\n",
       "      <td>756</td>\n",
       "    </tr>\n",
       "    <tr>\n",
       "      <th>...</th>\n",
       "      <td>...</td>\n",
       "      <td>...</td>\n",
       "      <td>...</td>\n",
       "    </tr>\n",
       "    <tr>\n",
       "      <th>57</th>\n",
       "      <td>2019-08-27</td>\n",
       "      <td>B</td>\n",
       "      <td>720</td>\n",
       "    </tr>\n",
       "    <tr>\n",
       "      <th>58</th>\n",
       "      <td>2019-08-28</td>\n",
       "      <td>B</td>\n",
       "      <td>654</td>\n",
       "    </tr>\n",
       "    <tr>\n",
       "      <th>59</th>\n",
       "      <td>2019-08-29</td>\n",
       "      <td>B</td>\n",
       "      <td>531</td>\n",
       "    </tr>\n",
       "    <tr>\n",
       "      <th>60</th>\n",
       "      <td>2019-08-30</td>\n",
       "      <td>B</td>\n",
       "      <td>490</td>\n",
       "    </tr>\n",
       "    <tr>\n",
       "      <th>61</th>\n",
       "      <td>2019-08-31</td>\n",
       "      <td>B</td>\n",
       "      <td>718</td>\n",
       "    </tr>\n",
       "  </tbody>\n",
       "</table>\n",
       "<p>62 rows × 3 columns</p>\n",
       "</div>"
      ],
      "text/plain": [
       "          date group  visitors\n",
       "0   2019-08-01     A       719\n",
       "1   2019-08-02     A       619\n",
       "2   2019-08-03     A       507\n",
       "3   2019-08-04     A       717\n",
       "4   2019-08-05     A       756\n",
       "..         ...   ...       ...\n",
       "57  2019-08-27     B       720\n",
       "58  2019-08-28     B       654\n",
       "59  2019-08-29     B       531\n",
       "60  2019-08-30     B       490\n",
       "61  2019-08-31     B       718\n",
       "\n",
       "[62 rows x 3 columns]"
      ]
     },
     "execution_count": 6,
     "metadata": {},
     "output_type": "execute_result"
    }
   ],
   "source": [
    "#Откроем файл visitors.\n",
    "visitors.info()\n",
    "visitors"
   ]
  },
  {
   "cell_type": "code",
   "execution_count": 7,
   "metadata": {},
   "outputs": [
    {
     "data": {
      "text/plain": [
       "0"
      ]
     },
     "metadata": {},
     "output_type": "display_data"
    },
    {
     "data": {
      "text/plain": [
       "date        0\n",
       "group       0\n",
       "visitors    0\n",
       "dtype: int64"
      ]
     },
     "execution_count": 7,
     "metadata": {},
     "output_type": "execute_result"
    }
   ],
   "source": [
    "#Проверим на наличие пропусков и дубликатов \n",
    "display(visitors.duplicated().sum())\n",
    "visitors.isna().sum()"
   ]
  },
  {
   "cell_type": "markdown",
   "metadata": {},
   "source": [
    "Дубликатов и пропусков в данных нет, изменим название столбцов в таблицах hypothesis и orders, приведем данные в столбце date к типу даты pandas в файлах visitors и orders. "
   ]
  },
  {
   "cell_type": "code",
   "execution_count": 8,
   "metadata": {},
   "outputs": [
    {
     "data": {
      "text/plain": [
       "Index(['hypothesis', 'reach', 'impact', 'confidence', 'efforts'], dtype='object')"
      ]
     },
     "execution_count": 8,
     "metadata": {},
     "output_type": "execute_result"
    }
   ],
   "source": [
    "hypothesis.columns = hypothesis.columns.str.lower()\n",
    "hypothesis.columns"
   ]
  },
  {
   "cell_type": "code",
   "execution_count": 9,
   "metadata": {},
   "outputs": [
    {
     "data": {
      "text/plain": [
       "Index(['transaction_id', 'visitor_id', 'date', 'revenue', 'group'], dtype='object')"
      ]
     },
     "execution_count": 9,
     "metadata": {},
     "output_type": "execute_result"
    }
   ],
   "source": [
    "orders.columns = ['transaction_id', 'visitor_id', 'date', 'revenue', 'group']\n",
    "orders.columns"
   ]
  },
  {
   "cell_type": "code",
   "execution_count": 10,
   "metadata": {},
   "outputs": [
    {
     "name": "stdout",
     "output_type": "stream",
     "text": [
      "<class 'pandas.core.frame.DataFrame'>\n",
      "RangeIndex: 62 entries, 0 to 61\n",
      "Data columns (total 3 columns):\n",
      " #   Column    Non-Null Count  Dtype         \n",
      "---  ------    --------------  -----         \n",
      " 0   date      62 non-null     datetime64[ns]\n",
      " 1   group     62 non-null     object        \n",
      " 2   visitors  62 non-null     int64         \n",
      "dtypes: datetime64[ns](1), int64(1), object(1)\n",
      "memory usage: 1.6+ KB\n"
     ]
    }
   ],
   "source": [
    "#Приведем столбец date к типу даты pandas в файле visitors\n",
    "visitors['date'] = pd.to_datetime(visitors['date'])\n",
    "visitors.info()"
   ]
  },
  {
   "cell_type": "code",
   "execution_count": 11,
   "metadata": {},
   "outputs": [
    {
     "name": "stdout",
     "output_type": "stream",
     "text": [
      "<class 'pandas.core.frame.DataFrame'>\n",
      "RangeIndex: 1197 entries, 0 to 1196\n",
      "Data columns (total 5 columns):\n",
      " #   Column          Non-Null Count  Dtype         \n",
      "---  ------          --------------  -----         \n",
      " 0   transaction_id  1197 non-null   int64         \n",
      " 1   visitor_id      1197 non-null   int64         \n",
      " 2   date            1197 non-null   datetime64[ns]\n",
      " 3   revenue         1197 non-null   int64         \n",
      " 4   group           1197 non-null   object        \n",
      "dtypes: datetime64[ns](1), int64(3), object(1)\n",
      "memory usage: 46.9+ KB\n"
     ]
    }
   ],
   "source": [
    "#Приведем столбец date к типу даты pandas в файле orders\n",
    "orders['date'] = pd.to_datetime(orders['date'])\n",
    "orders.info()"
   ]
  },
  {
   "cell_type": "code",
   "execution_count": 12,
   "metadata": {},
   "outputs": [
    {
     "data": {
      "text/plain": [
       "array(['B', 'A'], dtype=object)"
      ]
     },
     "execution_count": 12,
     "metadata": {},
     "output_type": "execute_result"
    }
   ],
   "source": [
    "# Посмотрим какое количество групп в А/В-тесте.\n",
    "orders['group'].unique()"
   ]
  },
  {
   "cell_type": "code",
   "execution_count": 13,
   "metadata": {},
   "outputs": [
    {
     "data": {
      "text/plain": [
       "count                    1197\n",
       "unique                     31\n",
       "top       2019-08-05 00:00:00\n",
       "freq                       48\n",
       "first     2019-08-01 00:00:00\n",
       "last      2019-08-31 00:00:00\n",
       "Name: date, dtype: object"
      ]
     },
     "execution_count": 13,
     "metadata": {},
     "output_type": "execute_result"
    }
   ],
   "source": [
    "# Дата начала и окончания А/В теста. \n",
    "orders['date'].describe()"
   ]
  },
  {
   "cell_type": "markdown",
   "metadata": {},
   "source": [
    "На А/В-тесте у нас 2 группы. Тестирование началось 2019-08-01 и закончилось 2019-08-31."
   ]
  },
  {
   "cell_type": "markdown",
   "metadata": {},
   "source": [
    "## Приоритезация гипотез."
   ]
  },
  {
   "cell_type": "markdown",
   "metadata": {},
   "source": [
    "- Примените фреймворк ICE для приоритизации гипотез. Отсортируйте их по убыванию приоритета.\n",
    "- Примените фреймворк RICE для приоритизации гипотез. Отсортируйте их по убыванию приоритета.\n",
    "- Укажите, как изменилась приоритизация гипотез при применении RICE вместо ICE. Объясните, почему так произошло."
   ]
  },
  {
   "cell_type": "code",
   "execution_count": 14,
   "metadata": {},
   "outputs": [
    {
     "data": {
      "text/html": [
       "<div>\n",
       "<style scoped>\n",
       "    .dataframe tbody tr th:only-of-type {\n",
       "        vertical-align: middle;\n",
       "    }\n",
       "\n",
       "    .dataframe tbody tr th {\n",
       "        vertical-align: top;\n",
       "    }\n",
       "\n",
       "    .dataframe thead th {\n",
       "        text-align: right;\n",
       "    }\n",
       "</style>\n",
       "<table border=\"1\" class=\"dataframe\">\n",
       "  <thead>\n",
       "    <tr style=\"text-align: right;\">\n",
       "      <th></th>\n",
       "      <th>hypothesis</th>\n",
       "      <th>reach</th>\n",
       "      <th>impact</th>\n",
       "      <th>confidence</th>\n",
       "      <th>efforts</th>\n",
       "    </tr>\n",
       "  </thead>\n",
       "  <tbody>\n",
       "    <tr>\n",
       "      <th>0</th>\n",
       "      <td>Добавить два новых канала привлечения трафика, что позволит привлекать на 30% больше пользователей</td>\n",
       "      <td>3</td>\n",
       "      <td>10</td>\n",
       "      <td>8</td>\n",
       "      <td>6</td>\n",
       "    </tr>\n",
       "    <tr>\n",
       "      <th>1</th>\n",
       "      <td>Запустить собственную службу доставки, что сократит срок доставки заказов</td>\n",
       "      <td>2</td>\n",
       "      <td>5</td>\n",
       "      <td>4</td>\n",
       "      <td>10</td>\n",
       "    </tr>\n",
       "    <tr>\n",
       "      <th>2</th>\n",
       "      <td>Добавить блоки рекомендаций товаров на сайт интернет магазина, чтобы повысить конверсию и средний чек заказа</td>\n",
       "      <td>8</td>\n",
       "      <td>3</td>\n",
       "      <td>7</td>\n",
       "      <td>3</td>\n",
       "    </tr>\n",
       "    <tr>\n",
       "      <th>3</th>\n",
       "      <td>Изменить структура категорий, что увеличит конверсию, т.к. пользователи быстрее найдут нужный товар</td>\n",
       "      <td>8</td>\n",
       "      <td>3</td>\n",
       "      <td>3</td>\n",
       "      <td>8</td>\n",
       "    </tr>\n",
       "    <tr>\n",
       "      <th>4</th>\n",
       "      <td>Изменить цвет фона главной страницы, чтобы увеличить вовлеченность пользователей</td>\n",
       "      <td>3</td>\n",
       "      <td>1</td>\n",
       "      <td>1</td>\n",
       "      <td>1</td>\n",
       "    </tr>\n",
       "    <tr>\n",
       "      <th>5</th>\n",
       "      <td>Добавить страницу отзывов клиентов о магазине, что позволит увеличить количество заказов</td>\n",
       "      <td>3</td>\n",
       "      <td>2</td>\n",
       "      <td>2</td>\n",
       "      <td>3</td>\n",
       "    </tr>\n",
       "    <tr>\n",
       "      <th>6</th>\n",
       "      <td>Показать на главной странице баннеры с актуальными акциями и распродажами, чтобы увеличить конверсию</td>\n",
       "      <td>5</td>\n",
       "      <td>3</td>\n",
       "      <td>8</td>\n",
       "      <td>3</td>\n",
       "    </tr>\n",
       "    <tr>\n",
       "      <th>7</th>\n",
       "      <td>Добавить форму подписки на все основные страницы, чтобы собрать базу клиентов для email-рассылок</td>\n",
       "      <td>10</td>\n",
       "      <td>7</td>\n",
       "      <td>8</td>\n",
       "      <td>5</td>\n",
       "    </tr>\n",
       "    <tr>\n",
       "      <th>8</th>\n",
       "      <td>Запустить акцию, дающую скидку на товар в день рождения</td>\n",
       "      <td>1</td>\n",
       "      <td>9</td>\n",
       "      <td>9</td>\n",
       "      <td>5</td>\n",
       "    </tr>\n",
       "  </tbody>\n",
       "</table>\n",
       "</div>"
      ],
      "text/plain": [
       "                                                                                                     hypothesis  \\\n",
       "0            Добавить два новых канала привлечения трафика, что позволит привлекать на 30% больше пользователей   \n",
       "1                                     Запустить собственную службу доставки, что сократит срок доставки заказов   \n",
       "2  Добавить блоки рекомендаций товаров на сайт интернет магазина, чтобы повысить конверсию и средний чек заказа   \n",
       "3           Изменить структура категорий, что увеличит конверсию, т.к. пользователи быстрее найдут нужный товар   \n",
       "4                              Изменить цвет фона главной страницы, чтобы увеличить вовлеченность пользователей   \n",
       "5                      Добавить страницу отзывов клиентов о магазине, что позволит увеличить количество заказов   \n",
       "6          Показать на главной странице баннеры с актуальными акциями и распродажами, чтобы увеличить конверсию   \n",
       "7              Добавить форму подписки на все основные страницы, чтобы собрать базу клиентов для email-рассылок   \n",
       "8                                                       Запустить акцию, дающую скидку на товар в день рождения   \n",
       "\n",
       "   reach  impact  confidence  efforts  \n",
       "0      3      10           8        6  \n",
       "1      2       5           4       10  \n",
       "2      8       3           7        3  \n",
       "3      8       3           3        8  \n",
       "4      3       1           1        1  \n",
       "5      3       2           2        3  \n",
       "6      5       3           8        3  \n",
       "7     10       7           8        5  \n",
       "8      1       9           9        5  "
      ]
     },
     "execution_count": 14,
     "metadata": {},
     "output_type": "execute_result"
    }
   ],
   "source": [
    "hypothesis"
   ]
  },
  {
   "cell_type": "markdown",
   "metadata": {},
   "source": [
    "Применим фреймворк ICE для приоритизации гипотез и отсортируем их по убыванию приоритета."
   ]
  },
  {
   "cell_type": "code",
   "execution_count": 15,
   "metadata": {},
   "outputs": [
    {
     "data": {
      "text/html": [
       "<div>\n",
       "<style scoped>\n",
       "    .dataframe tbody tr th:only-of-type {\n",
       "        vertical-align: middle;\n",
       "    }\n",
       "\n",
       "    .dataframe tbody tr th {\n",
       "        vertical-align: top;\n",
       "    }\n",
       "\n",
       "    .dataframe thead th {\n",
       "        text-align: right;\n",
       "    }\n",
       "</style>\n",
       "<table border=\"1\" class=\"dataframe\">\n",
       "  <thead>\n",
       "    <tr style=\"text-align: right;\">\n",
       "      <th></th>\n",
       "      <th>hypothesis</th>\n",
       "      <th>ICE</th>\n",
       "    </tr>\n",
       "  </thead>\n",
       "  <tbody>\n",
       "    <tr>\n",
       "      <th>8</th>\n",
       "      <td>Запустить акцию, дающую скидку на товар в день рождения</td>\n",
       "      <td>16.200</td>\n",
       "    </tr>\n",
       "    <tr>\n",
       "      <th>0</th>\n",
       "      <td>Добавить два новых канала привлечения трафика, что позволит привлекать на 30% больше пользователей</td>\n",
       "      <td>13.333</td>\n",
       "    </tr>\n",
       "    <tr>\n",
       "      <th>7</th>\n",
       "      <td>Добавить форму подписки на все основные страницы, чтобы собрать базу клиентов для email-рассылок</td>\n",
       "      <td>11.200</td>\n",
       "    </tr>\n",
       "    <tr>\n",
       "      <th>6</th>\n",
       "      <td>Показать на главной странице баннеры с актуальными акциями и распродажами, чтобы увеличить конверсию</td>\n",
       "      <td>8.000</td>\n",
       "    </tr>\n",
       "    <tr>\n",
       "      <th>2</th>\n",
       "      <td>Добавить блоки рекомендаций товаров на сайт интернет магазина, чтобы повысить конверсию и средний чек заказа</td>\n",
       "      <td>7.000</td>\n",
       "    </tr>\n",
       "    <tr>\n",
       "      <th>1</th>\n",
       "      <td>Запустить собственную службу доставки, что сократит срок доставки заказов</td>\n",
       "      <td>2.000</td>\n",
       "    </tr>\n",
       "    <tr>\n",
       "      <th>5</th>\n",
       "      <td>Добавить страницу отзывов клиентов о магазине, что позволит увеличить количество заказов</td>\n",
       "      <td>1.333</td>\n",
       "    </tr>\n",
       "    <tr>\n",
       "      <th>3</th>\n",
       "      <td>Изменить структура категорий, что увеличит конверсию, т.к. пользователи быстрее найдут нужный товар</td>\n",
       "      <td>1.125</td>\n",
       "    </tr>\n",
       "    <tr>\n",
       "      <th>4</th>\n",
       "      <td>Изменить цвет фона главной страницы, чтобы увеличить вовлеченность пользователей</td>\n",
       "      <td>1.000</td>\n",
       "    </tr>\n",
       "  </tbody>\n",
       "</table>\n",
       "</div>"
      ],
      "text/plain": [
       "                                                                                                     hypothesis  \\\n",
       "8                                                       Запустить акцию, дающую скидку на товар в день рождения   \n",
       "0            Добавить два новых канала привлечения трафика, что позволит привлекать на 30% больше пользователей   \n",
       "7              Добавить форму подписки на все основные страницы, чтобы собрать базу клиентов для email-рассылок   \n",
       "6          Показать на главной странице баннеры с актуальными акциями и распродажами, чтобы увеличить конверсию   \n",
       "2  Добавить блоки рекомендаций товаров на сайт интернет магазина, чтобы повысить конверсию и средний чек заказа   \n",
       "1                                     Запустить собственную службу доставки, что сократит срок доставки заказов   \n",
       "5                      Добавить страницу отзывов клиентов о магазине, что позволит увеличить количество заказов   \n",
       "3           Изменить структура категорий, что увеличит конверсию, т.к. пользователи быстрее найдут нужный товар   \n",
       "4                              Изменить цвет фона главной страницы, чтобы увеличить вовлеченность пользователей   \n",
       "\n",
       "     ICE  \n",
       "8 16.200  \n",
       "0 13.333  \n",
       "7 11.200  \n",
       "6  8.000  \n",
       "2  7.000  \n",
       "1  2.000  \n",
       "5  1.333  \n",
       "3  1.125  \n",
       "4  1.000  "
      ]
     },
     "execution_count": 15,
     "metadata": {},
     "output_type": "execute_result"
    }
   ],
   "source": [
    "hypothesis['ICE'] = (hypothesis['impact'] * hypothesis['confidence'])/hypothesis['efforts']\n",
    "hypothesis[['hypothesis', 'ICE']].sort_values(by='ICE', ascending=False)"
   ]
  },
  {
   "cell_type": "markdown",
   "metadata": {},
   "source": [
    "Судя по расчетам метода ICE наиболее приоритетными гипотземи являются 8, 0 и 7. Они получили самые большие оценки.\n",
    "Таким образом нам следует сначала Запустить акцию, дающую скидку на товар в день рождения(8), затем добавить два новых канала привлечения трафика, что позволит привлекать на 30% больше пользователей(0) и добавить форму подписки на все основные страницы, чтобы собрать базу клиентов для email-рассылок(7). "
   ]
  },
  {
   "cell_type": "markdown",
   "metadata": {},
   "source": [
    "Применим фреймворк RICE для приоритизации гипотез и отсортируем их по убыванию приоритета."
   ]
  },
  {
   "cell_type": "code",
   "execution_count": 16,
   "metadata": {},
   "outputs": [
    {
     "data": {
      "text/html": [
       "<div>\n",
       "<style scoped>\n",
       "    .dataframe tbody tr th:only-of-type {\n",
       "        vertical-align: middle;\n",
       "    }\n",
       "\n",
       "    .dataframe tbody tr th {\n",
       "        vertical-align: top;\n",
       "    }\n",
       "\n",
       "    .dataframe thead th {\n",
       "        text-align: right;\n",
       "    }\n",
       "</style>\n",
       "<table border=\"1\" class=\"dataframe\">\n",
       "  <thead>\n",
       "    <tr style=\"text-align: right;\">\n",
       "      <th></th>\n",
       "      <th>hypothesis</th>\n",
       "      <th>RICE</th>\n",
       "    </tr>\n",
       "  </thead>\n",
       "  <tbody>\n",
       "    <tr>\n",
       "      <th>7</th>\n",
       "      <td>Добавить форму подписки на все основные страницы, чтобы собрать базу клиентов для email-рассылок</td>\n",
       "      <td>112.000</td>\n",
       "    </tr>\n",
       "    <tr>\n",
       "      <th>2</th>\n",
       "      <td>Добавить блоки рекомендаций товаров на сайт интернет магазина, чтобы повысить конверсию и средний чек заказа</td>\n",
       "      <td>56.000</td>\n",
       "    </tr>\n",
       "    <tr>\n",
       "      <th>0</th>\n",
       "      <td>Добавить два новых канала привлечения трафика, что позволит привлекать на 30% больше пользователей</td>\n",
       "      <td>40.000</td>\n",
       "    </tr>\n",
       "    <tr>\n",
       "      <th>6</th>\n",
       "      <td>Показать на главной странице баннеры с актуальными акциями и распродажами, чтобы увеличить конверсию</td>\n",
       "      <td>40.000</td>\n",
       "    </tr>\n",
       "    <tr>\n",
       "      <th>8</th>\n",
       "      <td>Запустить акцию, дающую скидку на товар в день рождения</td>\n",
       "      <td>16.200</td>\n",
       "    </tr>\n",
       "    <tr>\n",
       "      <th>3</th>\n",
       "      <td>Изменить структура категорий, что увеличит конверсию, т.к. пользователи быстрее найдут нужный товар</td>\n",
       "      <td>9.000</td>\n",
       "    </tr>\n",
       "    <tr>\n",
       "      <th>1</th>\n",
       "      <td>Запустить собственную службу доставки, что сократит срок доставки заказов</td>\n",
       "      <td>4.000</td>\n",
       "    </tr>\n",
       "    <tr>\n",
       "      <th>5</th>\n",
       "      <td>Добавить страницу отзывов клиентов о магазине, что позволит увеличить количество заказов</td>\n",
       "      <td>4.000</td>\n",
       "    </tr>\n",
       "    <tr>\n",
       "      <th>4</th>\n",
       "      <td>Изменить цвет фона главной страницы, чтобы увеличить вовлеченность пользователей</td>\n",
       "      <td>3.000</td>\n",
       "    </tr>\n",
       "  </tbody>\n",
       "</table>\n",
       "</div>"
      ],
      "text/plain": [
       "                                                                                                     hypothesis  \\\n",
       "7              Добавить форму подписки на все основные страницы, чтобы собрать базу клиентов для email-рассылок   \n",
       "2  Добавить блоки рекомендаций товаров на сайт интернет магазина, чтобы повысить конверсию и средний чек заказа   \n",
       "0            Добавить два новых канала привлечения трафика, что позволит привлекать на 30% больше пользователей   \n",
       "6          Показать на главной странице баннеры с актуальными акциями и распродажами, чтобы увеличить конверсию   \n",
       "8                                                       Запустить акцию, дающую скидку на товар в день рождения   \n",
       "3           Изменить структура категорий, что увеличит конверсию, т.к. пользователи быстрее найдут нужный товар   \n",
       "1                                     Запустить собственную службу доставки, что сократит срок доставки заказов   \n",
       "5                      Добавить страницу отзывов клиентов о магазине, что позволит увеличить количество заказов   \n",
       "4                              Изменить цвет фона главной страницы, чтобы увеличить вовлеченность пользователей   \n",
       "\n",
       "     RICE  \n",
       "7 112.000  \n",
       "2  56.000  \n",
       "0  40.000  \n",
       "6  40.000  \n",
       "8  16.200  \n",
       "3   9.000  \n",
       "1   4.000  \n",
       "5   4.000  \n",
       "4   3.000  "
      ]
     },
     "execution_count": 16,
     "metadata": {},
     "output_type": "execute_result"
    }
   ],
   "source": [
    "hypothesis['RICE'] = (hypothesis['impact'] * hypothesis['confidence'] * hypothesis['reach'])/hypothesis['efforts']\n",
    "hypothesis[['hypothesis', 'RICE']].sort_values(by='RICE', ascending=False)"
   ]
  },
  {
   "cell_type": "markdown",
   "metadata": {},
   "source": [
    "Расчитав параметр RICE мы видим, что приоритезация гипотез поменялась. Наиболее приоритетными теперь являются гипоетзы под номером 7(добавить форму подписки на все основные страницы, чтобы собрать базу клиентов для email-рассылок), 2(добавить блоки рекомендаций товаров на сайт интернет магазина, чтобы повысить конверсию и средний чек заказа) и 0(добавить два новых канала привлечения трафика, что позволит привлекать на 30% больше пользователей). \n",
    "Метод RICE учитывает все те же параметры, что и ICE + учитывается на какое количество людей повлияет изменение. Так как 7 и 0 гипотеза также была в топ-3 в методе ICE. Нужно выбрать одну из них. \n",
    "Так как 7 гипотеза затронет значительно больше пользователей чем 0, выберем ёё. "
   ]
  },
  {
   "cell_type": "code",
   "execution_count": 17,
   "metadata": {},
   "outputs": [
    {
     "data": {
      "text/html": [
       "<div>\n",
       "<style scoped>\n",
       "    .dataframe tbody tr th:only-of-type {\n",
       "        vertical-align: middle;\n",
       "    }\n",
       "\n",
       "    .dataframe tbody tr th {\n",
       "        vertical-align: top;\n",
       "    }\n",
       "\n",
       "    .dataframe thead th {\n",
       "        text-align: right;\n",
       "    }\n",
       "</style>\n",
       "<table border=\"1\" class=\"dataframe\">\n",
       "  <thead>\n",
       "    <tr style=\"text-align: right;\">\n",
       "      <th></th>\n",
       "      <th>hypothesis</th>\n",
       "      <th>reach</th>\n",
       "      <th>impact</th>\n",
       "      <th>confidence</th>\n",
       "      <th>efforts</th>\n",
       "      <th>ICE</th>\n",
       "      <th>RICE</th>\n",
       "    </tr>\n",
       "  </thead>\n",
       "  <tbody>\n",
       "    <tr>\n",
       "      <th>7</th>\n",
       "      <td>Добавить форму подписки на все основные страницы, чтобы собрать базу клиентов для email-рассылок</td>\n",
       "      <td>10</td>\n",
       "      <td>7</td>\n",
       "      <td>8</td>\n",
       "      <td>5</td>\n",
       "      <td>11.200</td>\n",
       "      <td>112.000</td>\n",
       "    </tr>\n",
       "    <tr>\n",
       "      <th>2</th>\n",
       "      <td>Добавить блоки рекомендаций товаров на сайт интернет магазина, чтобы повысить конверсию и средний чек заказа</td>\n",
       "      <td>8</td>\n",
       "      <td>3</td>\n",
       "      <td>7</td>\n",
       "      <td>3</td>\n",
       "      <td>7.000</td>\n",
       "      <td>56.000</td>\n",
       "    </tr>\n",
       "    <tr>\n",
       "      <th>0</th>\n",
       "      <td>Добавить два новых канала привлечения трафика, что позволит привлекать на 30% больше пользователей</td>\n",
       "      <td>3</td>\n",
       "      <td>10</td>\n",
       "      <td>8</td>\n",
       "      <td>6</td>\n",
       "      <td>13.333</td>\n",
       "      <td>40.000</td>\n",
       "    </tr>\n",
       "    <tr>\n",
       "      <th>6</th>\n",
       "      <td>Показать на главной странице баннеры с актуальными акциями и распродажами, чтобы увеличить конверсию</td>\n",
       "      <td>5</td>\n",
       "      <td>3</td>\n",
       "      <td>8</td>\n",
       "      <td>3</td>\n",
       "      <td>8.000</td>\n",
       "      <td>40.000</td>\n",
       "    </tr>\n",
       "    <tr>\n",
       "      <th>8</th>\n",
       "      <td>Запустить акцию, дающую скидку на товар в день рождения</td>\n",
       "      <td>1</td>\n",
       "      <td>9</td>\n",
       "      <td>9</td>\n",
       "      <td>5</td>\n",
       "      <td>16.200</td>\n",
       "      <td>16.200</td>\n",
       "    </tr>\n",
       "    <tr>\n",
       "      <th>3</th>\n",
       "      <td>Изменить структура категорий, что увеличит конверсию, т.к. пользователи быстрее найдут нужный товар</td>\n",
       "      <td>8</td>\n",
       "      <td>3</td>\n",
       "      <td>3</td>\n",
       "      <td>8</td>\n",
       "      <td>1.125</td>\n",
       "      <td>9.000</td>\n",
       "    </tr>\n",
       "    <tr>\n",
       "      <th>1</th>\n",
       "      <td>Запустить собственную службу доставки, что сократит срок доставки заказов</td>\n",
       "      <td>2</td>\n",
       "      <td>5</td>\n",
       "      <td>4</td>\n",
       "      <td>10</td>\n",
       "      <td>2.000</td>\n",
       "      <td>4.000</td>\n",
       "    </tr>\n",
       "    <tr>\n",
       "      <th>5</th>\n",
       "      <td>Добавить страницу отзывов клиентов о магазине, что позволит увеличить количество заказов</td>\n",
       "      <td>3</td>\n",
       "      <td>2</td>\n",
       "      <td>2</td>\n",
       "      <td>3</td>\n",
       "      <td>1.333</td>\n",
       "      <td>4.000</td>\n",
       "    </tr>\n",
       "    <tr>\n",
       "      <th>4</th>\n",
       "      <td>Изменить цвет фона главной страницы, чтобы увеличить вовлеченность пользователей</td>\n",
       "      <td>3</td>\n",
       "      <td>1</td>\n",
       "      <td>1</td>\n",
       "      <td>1</td>\n",
       "      <td>1.000</td>\n",
       "      <td>3.000</td>\n",
       "    </tr>\n",
       "  </tbody>\n",
       "</table>\n",
       "</div>"
      ],
      "text/plain": [
       "                                                                                                     hypothesis  \\\n",
       "7              Добавить форму подписки на все основные страницы, чтобы собрать базу клиентов для email-рассылок   \n",
       "2  Добавить блоки рекомендаций товаров на сайт интернет магазина, чтобы повысить конверсию и средний чек заказа   \n",
       "0            Добавить два новых канала привлечения трафика, что позволит привлекать на 30% больше пользователей   \n",
       "6          Показать на главной странице баннеры с актуальными акциями и распродажами, чтобы увеличить конверсию   \n",
       "8                                                       Запустить акцию, дающую скидку на товар в день рождения   \n",
       "3           Изменить структура категорий, что увеличит конверсию, т.к. пользователи быстрее найдут нужный товар   \n",
       "1                                     Запустить собственную службу доставки, что сократит срок доставки заказов   \n",
       "5                      Добавить страницу отзывов клиентов о магазине, что позволит увеличить количество заказов   \n",
       "4                              Изменить цвет фона главной страницы, чтобы увеличить вовлеченность пользователей   \n",
       "\n",
       "   reach  impact  confidence  efforts    ICE    RICE  \n",
       "7     10       7           8        5 11.200 112.000  \n",
       "2      8       3           7        3  7.000  56.000  \n",
       "0      3      10           8        6 13.333  40.000  \n",
       "6      5       3           8        3  8.000  40.000  \n",
       "8      1       9           9        5 16.200  16.200  \n",
       "3      8       3           3        8  1.125   9.000  \n",
       "1      2       5           4       10  2.000   4.000  \n",
       "5      3       2           2        3  1.333   4.000  \n",
       "4      3       1           1        1  1.000   3.000  "
      ]
     },
     "execution_count": 17,
     "metadata": {},
     "output_type": "execute_result"
    }
   ],
   "source": [
    "hypothesis.sort_values(by='RICE', ascending=False)"
   ]
  },
  {
   "cell_type": "markdown",
   "metadata": {},
   "source": [
    "По итогу приоритезации нам следует сначала проверять 7-ю гипотезу: добавить форму подписки на все основные страницы, чтобы собрать базу клиентов для email-рассылок."
   ]
  },
  {
   "cell_type": "markdown",
   "metadata": {},
   "source": [
    "## Оценка A/B-теста."
   ]
  },
  {
   "cell_type": "markdown",
   "metadata": {},
   "source": [
    "### Создаём необходимый датафрейм. "
   ]
  },
  {
   "cell_type": "markdown",
   "metadata": {},
   "source": [
    "Для начала нам необходимо создать таблицу в токорой будет представлена информация о количестве посетителей, заказов, среднем чеке, группе и дате. "
   ]
  },
  {
   "cell_type": "code",
   "execution_count": 18,
   "metadata": {},
   "outputs": [
    {
     "data": {
      "text/html": [
       "<div>\n",
       "<style scoped>\n",
       "    .dataframe tbody tr th:only-of-type {\n",
       "        vertical-align: middle;\n",
       "    }\n",
       "\n",
       "    .dataframe tbody tr th {\n",
       "        vertical-align: top;\n",
       "    }\n",
       "\n",
       "    .dataframe thead th {\n",
       "        text-align: right;\n",
       "    }\n",
       "</style>\n",
       "<table border=\"1\" class=\"dataframe\">\n",
       "  <thead>\n",
       "    <tr style=\"text-align: right;\">\n",
       "      <th></th>\n",
       "      <th>date</th>\n",
       "      <th>group</th>\n",
       "      <th>transaction_id</th>\n",
       "      <th>visitor_id</th>\n",
       "      <th>revenue</th>\n",
       "    </tr>\n",
       "  </thead>\n",
       "  <tbody>\n",
       "    <tr>\n",
       "      <th>55</th>\n",
       "      <td>2019-08-01</td>\n",
       "      <td>A</td>\n",
       "      <td>24</td>\n",
       "      <td>20</td>\n",
       "      <td>148579</td>\n",
       "    </tr>\n",
       "    <tr>\n",
       "      <th>66</th>\n",
       "      <td>2019-08-01</td>\n",
       "      <td>B</td>\n",
       "      <td>21</td>\n",
       "      <td>20</td>\n",
       "      <td>101217</td>\n",
       "    </tr>\n",
       "    <tr>\n",
       "      <th>175</th>\n",
       "      <td>2019-08-02</td>\n",
       "      <td>A</td>\n",
       "      <td>44</td>\n",
       "      <td>38</td>\n",
       "      <td>242401</td>\n",
       "    </tr>\n",
       "    <tr>\n",
       "      <th>173</th>\n",
       "      <td>2019-08-02</td>\n",
       "      <td>B</td>\n",
       "      <td>45</td>\n",
       "      <td>43</td>\n",
       "      <td>266748</td>\n",
       "    </tr>\n",
       "    <tr>\n",
       "      <th>291</th>\n",
       "      <td>2019-08-03</td>\n",
       "      <td>A</td>\n",
       "      <td>68</td>\n",
       "      <td>62</td>\n",
       "      <td>354874</td>\n",
       "    </tr>\n",
       "  </tbody>\n",
       "</table>\n",
       "</div>"
      ],
      "text/plain": [
       "          date group  transaction_id  visitor_id  revenue\n",
       "55  2019-08-01     A              24          20   148579\n",
       "66  2019-08-01     B              21          20   101217\n",
       "175 2019-08-02     A              44          38   242401\n",
       "173 2019-08-02     B              45          43   266748\n",
       "291 2019-08-03     A              68          62   354874"
      ]
     },
     "execution_count": 18,
     "metadata": {},
     "output_type": "execute_result"
    }
   ],
   "source": [
    "# создаем массив уникальных пар значений дат и групп\n",
    "dates_grouped = orders[['date', 'group']].drop_duplicates()\n",
    "\n",
    "# получаем агрегированные кумулятивные по дням данные о заказах \n",
    "orders_grouped = dates_grouped.apply(\n",
    "    lambda x: orders[\n",
    "        np.logical_and(\n",
    "            orders['date'] <= x['date'], orders['group'] == x['group']\n",
    "        )\n",
    "    ].agg(\n",
    "        {\n",
    "            'date': 'max',\n",
    "            'group': 'max',\n",
    "            'transaction_id': 'nunique',\n",
    "            'visitor_id': 'nunique',\n",
    "            'revenue': 'sum',\n",
    "        }\n",
    "    ),\n",
    "    axis=1,\n",
    ").sort_values(by=['date', 'group'])\n",
    "\n",
    "orders_grouped.head()"
   ]
  },
  {
   "cell_type": "code",
   "execution_count": 19,
   "metadata": {},
   "outputs": [
    {
     "data": {
      "text/html": [
       "<div>\n",
       "<style scoped>\n",
       "    .dataframe tbody tr th:only-of-type {\n",
       "        vertical-align: middle;\n",
       "    }\n",
       "\n",
       "    .dataframe tbody tr th {\n",
       "        vertical-align: top;\n",
       "    }\n",
       "\n",
       "    .dataframe thead th {\n",
       "        text-align: right;\n",
       "    }\n",
       "</style>\n",
       "<table border=\"1\" class=\"dataframe\">\n",
       "  <thead>\n",
       "    <tr style=\"text-align: right;\">\n",
       "      <th></th>\n",
       "      <th>date</th>\n",
       "      <th>group</th>\n",
       "      <th>visitors</th>\n",
       "    </tr>\n",
       "  </thead>\n",
       "  <tbody>\n",
       "    <tr>\n",
       "      <th>55</th>\n",
       "      <td>2019-08-01</td>\n",
       "      <td>A</td>\n",
       "      <td>719</td>\n",
       "    </tr>\n",
       "    <tr>\n",
       "      <th>66</th>\n",
       "      <td>2019-08-01</td>\n",
       "      <td>B</td>\n",
       "      <td>713</td>\n",
       "    </tr>\n",
       "    <tr>\n",
       "      <th>175</th>\n",
       "      <td>2019-08-02</td>\n",
       "      <td>A</td>\n",
       "      <td>1338</td>\n",
       "    </tr>\n",
       "    <tr>\n",
       "      <th>173</th>\n",
       "      <td>2019-08-02</td>\n",
       "      <td>B</td>\n",
       "      <td>1294</td>\n",
       "    </tr>\n",
       "    <tr>\n",
       "      <th>291</th>\n",
       "      <td>2019-08-03</td>\n",
       "      <td>A</td>\n",
       "      <td>1845</td>\n",
       "    </tr>\n",
       "  </tbody>\n",
       "</table>\n",
       "</div>"
      ],
      "text/plain": [
       "          date group  visitors\n",
       "55  2019-08-01     A       719\n",
       "66  2019-08-01     B       713\n",
       "175 2019-08-02     A      1338\n",
       "173 2019-08-02     B      1294\n",
       "291 2019-08-03     A      1845"
      ]
     },
     "execution_count": 19,
     "metadata": {},
     "output_type": "execute_result"
    }
   ],
   "source": [
    "# получаем агрегированные кумулятивные по дням данные о посетителях интернет-магазина \n",
    "\n",
    "visitors_grouped = dates_grouped.apply(\n",
    "    lambda x: visitors[\n",
    "        np.logical_and(\n",
    "            visitors['date'] <= x['date'], visitors['group'] == x['group']\n",
    "        )\n",
    "    ].agg(\n",
    "        {\n",
    "            'date': 'max', \n",
    "            'group': 'max', \n",
    "            'visitors': 'sum'\n",
    "        }\n",
    "    ),\n",
    "    axis=1,\n",
    ").sort_values(by=['date', 'group'])\n",
    "\n",
    "visitors_grouped.head()"
   ]
  },
  {
   "cell_type": "code",
   "execution_count": 20,
   "metadata": {},
   "outputs": [],
   "source": [
    "# объединяем данные в одной таблице и присваиваем ее столбцам понятные названия\n",
    "\n",
    "cumulative_data = orders_grouped.merge(\n",
    "    visitors_grouped, \n",
    "    on=['date', 'group']\n",
    ")\n",
    "\n",
    "cumulative_data.columns = ['date', 'group', 'orders', 'buyers', 'revenue', 'visitors']"
   ]
  },
  {
   "cell_type": "code",
   "execution_count": 21,
   "metadata": {},
   "outputs": [
    {
     "data": {
      "text/html": [
       "<div>\n",
       "<style scoped>\n",
       "    .dataframe tbody tr th:only-of-type {\n",
       "        vertical-align: middle;\n",
       "    }\n",
       "\n",
       "    .dataframe tbody tr th {\n",
       "        vertical-align: top;\n",
       "    }\n",
       "\n",
       "    .dataframe thead th {\n",
       "        text-align: right;\n",
       "    }\n",
       "</style>\n",
       "<table border=\"1\" class=\"dataframe\">\n",
       "  <thead>\n",
       "    <tr style=\"text-align: right;\">\n",
       "      <th></th>\n",
       "      <th>date</th>\n",
       "      <th>group</th>\n",
       "      <th>orders</th>\n",
       "      <th>buyers</th>\n",
       "      <th>revenue</th>\n",
       "      <th>visitors</th>\n",
       "      <th>conversion</th>\n",
       "    </tr>\n",
       "  </thead>\n",
       "  <tbody>\n",
       "    <tr>\n",
       "      <th>0</th>\n",
       "      <td>2019-08-01</td>\n",
       "      <td>A</td>\n",
       "      <td>24</td>\n",
       "      <td>20</td>\n",
       "      <td>148579</td>\n",
       "      <td>719</td>\n",
       "      <td>0.033</td>\n",
       "    </tr>\n",
       "    <tr>\n",
       "      <th>1</th>\n",
       "      <td>2019-08-01</td>\n",
       "      <td>B</td>\n",
       "      <td>21</td>\n",
       "      <td>20</td>\n",
       "      <td>101217</td>\n",
       "      <td>713</td>\n",
       "      <td>0.029</td>\n",
       "    </tr>\n",
       "    <tr>\n",
       "      <th>2</th>\n",
       "      <td>2019-08-02</td>\n",
       "      <td>A</td>\n",
       "      <td>44</td>\n",
       "      <td>38</td>\n",
       "      <td>242401</td>\n",
       "      <td>1338</td>\n",
       "      <td>0.033</td>\n",
       "    </tr>\n",
       "    <tr>\n",
       "      <th>3</th>\n",
       "      <td>2019-08-02</td>\n",
       "      <td>B</td>\n",
       "      <td>45</td>\n",
       "      <td>43</td>\n",
       "      <td>266748</td>\n",
       "      <td>1294</td>\n",
       "      <td>0.035</td>\n",
       "    </tr>\n",
       "    <tr>\n",
       "      <th>4</th>\n",
       "      <td>2019-08-03</td>\n",
       "      <td>A</td>\n",
       "      <td>68</td>\n",
       "      <td>62</td>\n",
       "      <td>354874</td>\n",
       "      <td>1845</td>\n",
       "      <td>0.037</td>\n",
       "    </tr>\n",
       "  </tbody>\n",
       "</table>\n",
       "</div>"
      ],
      "text/plain": [
       "        date group  orders  buyers  revenue  visitors  conversion\n",
       "0 2019-08-01     A      24      20   148579       719       0.033\n",
       "1 2019-08-01     B      21      20   101217       713       0.029\n",
       "2 2019-08-02     A      44      38   242401      1338       0.033\n",
       "3 2019-08-02     B      45      43   266748      1294       0.035\n",
       "4 2019-08-03     A      68      62   354874      1845       0.037"
      ]
     },
     "execution_count": 21,
     "metadata": {},
     "output_type": "execute_result"
    }
   ],
   "source": [
    "# посчитаем также конверсию заказов от посетителей\n",
    "cumulative_data['conversion'] = cumulative_data['orders'] / cumulative_data['visitors']\n",
    "cumulative_data.head()"
   ]
  },
  {
   "cell_type": "code",
   "execution_count": 22,
   "metadata": {},
   "outputs": [
    {
     "data": {
      "text/plain": [
       "count                      62\n",
       "unique                     31\n",
       "top       2019-08-27 00:00:00\n",
       "freq                        2\n",
       "first     2019-08-01 00:00:00\n",
       "last      2019-08-31 00:00:00\n",
       "Name: date, dtype: object"
      ]
     },
     "metadata": {},
     "output_type": "display_data"
    },
    {
     "data": {
      "text/plain": [
       "count                    1197\n",
       "unique                     31\n",
       "top       2019-08-05 00:00:00\n",
       "freq                       48\n",
       "first     2019-08-01 00:00:00\n",
       "last      2019-08-31 00:00:00\n",
       "Name: date, dtype: object"
      ]
     },
     "execution_count": 22,
     "metadata": {},
     "output_type": "execute_result"
    }
   ],
   "source": [
    "# для проверки корректности датафрейма, посмотрим максимальную и минимальную дату. \n",
    "display(cumulative_data['date'].describe())\n",
    "orders['date'].describe()"
   ]
  },
  {
   "cell_type": "markdown",
   "metadata": {},
   "source": [
    "Минимальная и максимальная даты в этом датафрейме совпадают с минимальной и максимальной датой в исходных данных. Значит датафлейм создан корректно. "
   ]
  },
  {
   "cell_type": "markdown",
   "metadata": {},
   "source": [
    "### Кумулятивные графики."
   ]
  },
  {
   "cell_type": "markdown",
   "metadata": {},
   "source": [
    "Теперь можем построить график кумулятивной выручки по группам. "
   ]
  },
  {
   "cell_type": "code",
   "execution_count": 23,
   "metadata": {},
   "outputs": [
    {
     "data": {
      "image/png": "[encoded data removed]",
      "text/plain": [
       "<Figure size 864x432 with 1 Axes>"
      ]
     },
     "metadata": {},
     "output_type": "display_data"
    }
   ],
   "source": [
    "# датафрейм по группе А\n",
    "cumulative_data_a = cumulative_data[cumulative_data['group']=='A']\n",
    "\n",
    "# датафрейм по группе B\n",
    "cumulative_data_b = cumulative_data[cumulative_data['group']=='B']\n",
    "\n",
    "plt.plot(cumulative_data_a['date'], cumulative_data_a['revenue'], label='A')\n",
    "plt.plot(cumulative_data_b['date'], cumulative_data_b['revenue'], label='B')\n",
    "plt.title('График кумулятивной выручки по группам')\n",
    "plt.ylabel(\"Выручка, млн.\")\n",
    "plt.xlabel(\"Дата\")\n",
    "plt.xticks(rotation=30)\n",
    "plt.legend()\n",
    "plt.show()"
   ]
  },
  {
   "cell_type": "markdown",
   "metadata": {},
   "source": [
    "Судя по графику клиенты группы A и B долгое время шли примерно на одном уровне по общей выручке с заказов. Обе группы имеют ростущий тренд. В середине Августа клиенты группы B начали показывать более высокую выручку, чем клиенты группы A. Возможно на это повлияли какие то дополнительные действия компании или просто люди из группы B совершили несколько крупных покупок что повлияло на всплеск выручки."
   ]
  },
  {
   "cell_type": "markdown",
   "metadata": {},
   "source": [
    "График кумулятивного среднего чека по группам."
   ]
  },
  {
   "cell_type": "code",
   "execution_count": 24,
   "metadata": {},
   "outputs": [
    {
     "data": {
      "image/png": "[encoded data removed]",
      "text/plain": [
       "<Figure size 864x432 with 1 Axes>"
      ]
     },
     "metadata": {},
     "output_type": "display_data"
    }
   ],
   "source": [
    "# датафрейм по группе А\n",
    "avg_spend_a=cumulative_data_a['revenue']/cumulative_data_a['orders']\n",
    "\n",
    "# датафрейм по группе B\n",
    "avg_spend_b=cumulative_data_b['revenue']/cumulative_data_b['orders']\n",
    "\n",
    "plt.plot(cumulative_data_a['date'], avg_spend_a, label='A')\n",
    "plt.plot(cumulative_data_b['date'], avg_spend_b, label='B')\n",
    "plt.title('График кумулятивного среднего чека по группам')\n",
    "plt.ylabel(\"Выручка, млн.\")\n",
    "plt.xlabel(\"Дата\")\n",
    "plt.xticks(rotation=30)\n",
    "plt.legend()\n",
    "plt.show()"
   ]
  },
  {
   "cell_type": "markdown",
   "metadata": {},
   "source": [
    "В начале эксперемента мы видим, что средний чек у обоих групп имел нестабильный рост. В середине Августа мы также видим вссплеск среднего чека у группы В, что подтверждает нашу теорию о наличии аномально выскоких покупок.  "
   ]
  },
  {
   "cell_type": "markdown",
   "metadata": {},
   "source": [
    "График относительного изменения кумулятивного среднего чека группы B к группе A."
   ]
  },
  {
   "cell_type": "code",
   "execution_count": 25,
   "metadata": {},
   "outputs": [
    {
     "data": {
      "image/png": "[encoded data removed]",
      "text/plain": [
       "<Figure size 864x432 with 1 Axes>"
      ]
     },
     "metadata": {},
     "output_type": "display_data"
    }
   ],
   "source": [
    "# соединим данные по коммулитивной выручки в одном датафрейме\n",
    "cumulative_data_ab = cumulative_data_a.merge(\n",
    "    cumulative_data_b, \n",
    "    left_on='date', \n",
    "    right_on='date', \n",
    "    how='left', \n",
    "    suffixes=['_a', '_b']\n",
    ")\n",
    "\n",
    "# cтроим отношение средних чеков\n",
    "plt.plot(cumulative_data_ab['date'], \n",
    "         (\n",
    "             cumulative_data_ab['revenue_b']/cumulative_data_ab['orders_b']\n",
    "         )/\n",
    "         (\n",
    "             cumulative_data_ab['revenue_a']/cumulative_data_ab['orders_a']\n",
    "         )-1\n",
    "        )\n",
    "\n",
    "# добавляем ось X\n",
    "plt.axhline(y=0, color='black', linestyle='--')\n",
    "plt.title('График относительного изменения кумулятивного среднего чека группы B к группе A')\n",
    "plt.ylabel(\"Соотношение среднего чека группы B к группе A\")\n",
    "plt.xlabel(\"Дата\")\n",
    "plt.xticks(rotation=30)\n",
    "plt.show()"
   ]
  },
  {
   "cell_type": "markdown",
   "metadata": {},
   "source": [
    "На протяжении всего эксперемента график неравномен, значит средний чек у двух групп не зависим. В каждой группе быват дни, когда средний чек значительно выше чем у другой группы. Возможно данные скачки связаны с непостоянным средним чеком. Как показывают предыдущие графики средний чек менялся на протяжении всего периода, поэтому и соотношение среднего чека группы B к группе A сильно скачет. "
   ]
  },
  {
   "cell_type": "markdown",
   "metadata": {},
   "source": [
    "График кумулятивного среднего количества заказов на посетителя по группам."
   ]
  },
  {
   "cell_type": "code",
   "execution_count": 26,
   "metadata": {},
   "outputs": [
    {
     "data": {
      "image/png": "[encoded data removed]",
      "text/plain": [
       "<Figure size 864x432 with 1 Axes>"
      ]
     },
     "metadata": {},
     "output_type": "display_data"
    }
   ],
   "source": [
    "# датафрейм по группе А\n",
    "avg_order_a=cumulative_data_a['orders']/cumulative_data_a['visitors']\n",
    "\n",
    "# датафрейм по группе B\n",
    "avg_order_b=cumulative_data_b['orders']/cumulative_data_b['visitors']\n",
    "\n",
    "plt.plot(cumulative_data_a['date'], avg_order_a, label='A')\n",
    "plt.plot(cumulative_data_b['date'], avg_order_b, label='B')\n",
    "plt.title('График кумулятивного среднего количества заказов на посетителя по группам')\n",
    "plt.ylabel(\"Соотноешение заказов на посетителей\")\n",
    "plt.xlabel(\"Дата\")\n",
    "plt.xticks(rotation=30)\n",
    "plt.legend()\n",
    "plt.show()"
   ]
  },
  {
   "cell_type": "markdown",
   "metadata": {},
   "source": [
    "В начале мы видим нествбильное состояние графика, но уже 9 Августа графики успокоились и показывали среднее количество заказов на посетителя более равномерно. Однако, мы можем заметить что соотношение среднего количество заказов на посетителя гораздо лучше у группы B. "
   ]
  },
  {
   "cell_type": "markdown",
   "metadata": {},
   "source": [
    "График относительного изменения кумулятивного среднего количества заказов на посетителя группы B к группе A. "
   ]
  },
  {
   "cell_type": "code",
   "execution_count": 27,
   "metadata": {},
   "outputs": [
    {
     "data": {
      "image/png": "[encoded data removed]",
      "text/plain": [
       "<Figure size 864x432 with 1 Axes>"
      ]
     },
     "metadata": {},
     "output_type": "display_data"
    }
   ],
   "source": [
    "plt.plot(\n",
    "    cumulative_data_ab['date'], \n",
    "    cumulative_data_ab['conversion_b']/\n",
    "    cumulative_data_ab['conversion_a']-1\n",
    ")\n",
    "\n",
    "# добавляем ось X\n",
    "plt.axhline(y=0, color='black', linestyle='--')\n",
    "plt.axhline(y=0.15, color='grey', linestyle='--')\n",
    "plt.title('График относительного изменения кумулятивного среднего количества заказов на посетителя группы B к группе A')\n",
    "plt.ylabel(\"Соотноешение среднего количества заказов на посетителя группы B к группе A\")\n",
    "plt.xlabel(\"Дата\")\n",
    "plt.xticks(rotation=30)\n",
    "\n",
    "plt.show()"
   ]
  },
  {
   "cell_type": "markdown",
   "metadata": {},
   "source": [
    "В начале эксперемента группа В проигрывала группе А, но потом все поменялось. Сначала количество заказов на пользователя из группы B росла, потом спадала и сейчас опять растет."
   ]
  },
  {
   "cell_type": "markdown",
   "metadata": {},
   "source": [
    "### Распределение по пользователям."
   ]
  },
  {
   "cell_type": "markdown",
   "metadata": {},
   "source": [
    "Точечный график количества заказов по пользователям."
   ]
  },
  {
   "cell_type": "code",
   "execution_count": 28,
   "metadata": {},
   "outputs": [
    {
     "data": {
      "text/plain": [
       "count   1,031.000\n",
       "mean        1.161\n",
       "std         0.725\n",
       "min         1.000\n",
       "25%         1.000\n",
       "50%         1.000\n",
       "75%         1.000\n",
       "max        11.000\n",
       "Name: orders, dtype: float64"
      ]
     },
     "metadata": {},
     "output_type": "display_data"
    },
    {
     "data": {
      "image/png": "[encoded data removed]",
      "text/plain": [
       "<Figure size 864x432 with 1 Axes>"
      ]
     },
     "metadata": {},
     "output_type": "display_data"
    }
   ],
   "source": [
    "# посчитаем распределение количества заказов по пользователям\n",
    "orders_by_users = (\n",
    "    orders.groupby('visitor_id', as_index=False)\n",
    "    .agg({'transaction_id': 'nunique'})\n",
    ")\n",
    "orders_by_users.columns =  ['visitor_id', 'orders']\n",
    "display(orders_by_users['orders'].describe())\n",
    "\n",
    "# строим гистограмму\n",
    "plt.hist(orders_by_users['orders']) \n",
    "plt.title('Распределение количества заказов по пользователям')\n",
    "plt.xlabel('Количество заказов')\n",
    "plt.ylabel('Количество пользователей')\n",
    "plt.show()"
   ]
  },
  {
   "cell_type": "markdown",
   "metadata": {},
   "source": [
    "Как мы видим на диаграмме в основном пользователи делали по 1-2 заказа за период всего эксперемента. Также есть пользователь который сделал 11 заказов за период. "
   ]
  },
  {
   "cell_type": "code",
   "execution_count": 29,
   "metadata": {},
   "outputs": [
    {
     "data": {
      "image/png": "[encoded data removed]",
      "text/plain": [
       "<Figure size 864x432 with 1 Axes>"
      ]
     },
     "metadata": {},
     "output_type": "display_data"
    }
   ],
   "source": [
    "x_values = pd.Series(range(0,len(orders_by_users)))\n",
    "\n",
    "# построим точечную диаграмму\n",
    "plt.scatter(x_values, orders_by_users['orders'], alpha=0.5)\n",
    "plt.title('Распределение количества заказов по пользователям')\n",
    "plt.xlabel('Количество пользователей')\n",
    "plt.ylabel('Количество заказов')\n",
    "plt.show()"
   ]
  },
  {
   "cell_type": "markdown",
   "metadata": {},
   "source": [
    "Судя по точечной диаграмме, большенство пользователей делают один заказ, далее идет группа пользователей которые сделали 2 заказа за период. Две эти группы самые многочисленные. "
   ]
  },
  {
   "cell_type": "markdown",
   "metadata": {},
   "source": [
    "Посчитатем 95-й и 99-й перцентили количества заказов на пользователя."
   ]
  },
  {
   "cell_type": "code",
   "execution_count": 30,
   "metadata": {},
   "outputs": [
    {
     "data": {
      "text/plain": [
       "array([2., 4.])"
      ]
     },
     "execution_count": 30,
     "metadata": {},
     "output_type": "execute_result"
    }
   ],
   "source": [
    "np.percentile(orders_by_users['orders'], [95, 99])"
   ]
  },
  {
   "cell_type": "markdown",
   "metadata": {},
   "source": [
    "5% пользователей совершали больше 2-х покупок за время эксперимента. И только 1% сделали четыре и более заказа.\n",
    "Примем за верхнюю границу 4 заказа на одного пользователя."
   ]
  },
  {
   "cell_type": "markdown",
   "metadata": {},
   "source": [
    "Точечный график стоимостей заказов."
   ]
  },
  {
   "cell_type": "code",
   "execution_count": 31,
   "metadata": {},
   "outputs": [
    {
     "data": {
      "text/plain": [
       "count       1,197.000\n",
       "mean        8,348.006\n",
       "std        39,191.132\n",
       "min            50.000\n",
       "25%         1,220.000\n",
       "50%         2,978.000\n",
       "75%         8,290.000\n",
       "max     1,294,500.000\n",
       "Name: revenue, dtype: float64"
      ]
     },
     "metadata": {},
     "output_type": "display_data"
    },
    {
     "data": {
      "image/png": "[encoded data removed]",
      "text/plain": [
       "<Figure size 864x432 with 1 Axes>"
      ]
     },
     "metadata": {},
     "output_type": "display_data"
    }
   ],
   "source": [
    "display(orders['revenue'].describe())\n",
    "\n",
    "# строим гистограмму\n",
    "plt.hist(orders['revenue']) \n",
    "plt.title('Распределение стоимости заказов по пользователям')\n",
    "plt.xlabel('Стоимость заказов')\n",
    "plt.ylabel('Количество пользователей')\n",
    "plt.show()"
   ]
  },
  {
   "cell_type": "markdown",
   "metadata": {},
   "source": [
    "Средняя стоимость в основном составляет 8 348 у.е. Минимальная стомость 50 у.е., максимальная - 1 294 500. Видимо этот заказ и повлиял на всплеск на графиках группы В. "
   ]
  },
  {
   "cell_type": "code",
   "execution_count": 32,
   "metadata": {},
   "outputs": [
    {
     "data": {
      "text/html": [
       "<div>\n",
       "<style scoped>\n",
       "    .dataframe tbody tr th:only-of-type {\n",
       "        vertical-align: middle;\n",
       "    }\n",
       "\n",
       "    .dataframe tbody tr th {\n",
       "        vertical-align: top;\n",
       "    }\n",
       "\n",
       "    .dataframe thead th {\n",
       "        text-align: right;\n",
       "    }\n",
       "</style>\n",
       "<table border=\"1\" class=\"dataframe\">\n",
       "  <thead>\n",
       "    <tr style=\"text-align: right;\">\n",
       "      <th></th>\n",
       "      <th>transaction_id</th>\n",
       "      <th>visitor_id</th>\n",
       "      <th>date</th>\n",
       "      <th>revenue</th>\n",
       "      <th>group</th>\n",
       "    </tr>\n",
       "  </thead>\n",
       "  <tbody>\n",
       "    <tr>\n",
       "      <th>425</th>\n",
       "      <td>590470918</td>\n",
       "      <td>1920142716</td>\n",
       "      <td>2019-08-19</td>\n",
       "      <td>1294500</td>\n",
       "      <td>B</td>\n",
       "    </tr>\n",
       "    <tr>\n",
       "      <th>1196</th>\n",
       "      <td>3936777065</td>\n",
       "      <td>2108080724</td>\n",
       "      <td>2019-08-15</td>\n",
       "      <td>202740</td>\n",
       "      <td>B</td>\n",
       "    </tr>\n",
       "  </tbody>\n",
       "</table>\n",
       "</div>"
      ],
      "text/plain": [
       "      transaction_id  visitor_id       date  revenue group\n",
       "425        590470918  1920142716 2019-08-19  1294500     B\n",
       "1196      3936777065  2108080724 2019-08-15   202740     B"
      ]
     },
     "execution_count": 32,
     "metadata": {},
     "output_type": "execute_result"
    }
   ],
   "source": [
    "#посмотрим с какой группы был сделан заказ на сумму более 100 000. \n",
    "max_revenue = orders[orders['revenue'] > 100000]\n",
    "max_revenue"
   ]
  },
  {
   "cell_type": "markdown",
   "metadata": {},
   "source": [
    "Наши догадки позтвердились, самые дорогие заказы были сделаны именно в группе B, что и объясняет значительный скачок на предыдущих графиках. "
   ]
  },
  {
   "cell_type": "code",
   "execution_count": 33,
   "metadata": {},
   "outputs": [
    {
     "data": {
      "image/png": "[encoded data removed]",
      "text/plain": [
       "<Figure size 864x432 with 1 Axes>"
      ]
     },
     "metadata": {},
     "output_type": "display_data"
    }
   ],
   "source": [
    "x_values = pd.Series(range(0,len(orders['revenue'])))\n",
    "\n",
    "# строим точечную диаграмму\n",
    "plt.scatter(x_values, orders['revenue'], alpha=0.5)\n",
    "plt.title('Распределение стоимости заказов по пользователям')\n",
    "plt.xlabel('Количество пользователей')\n",
    "plt.ylabel('Стоимость заказов')\n",
    "plt.show()"
   ]
  },
  {
   "cell_type": "markdown",
   "metadata": {},
   "source": [
    "Самые дорогие заказы следует удалить, чтобы детальней посмотреть распределение стоимости заказов на пользователей. "
   ]
  },
  {
   "cell_type": "code",
   "execution_count": 34,
   "metadata": {},
   "outputs": [
    {
     "data": {
      "image/png": "[encoded data removed]",
      "text/plain": [
       "<Figure size 864x432 with 1 Axes>"
      ]
     },
     "metadata": {},
     "output_type": "display_data"
    }
   ],
   "source": [
    "# строим точечную диаграмму\n",
    "plt.ylim(0, 100000)\n",
    "plt.scatter(x_values, orders['revenue'], alpha=0.5)\n",
    "plt.title('Распределение стоимости заказов по пользователям')\n",
    "plt.xlabel('Количество пользователей')\n",
    "plt.ylabel('Стоимость заказов')\n",
    "plt.show()"
   ]
  },
  {
   "cell_type": "markdown",
   "metadata": {},
   "source": [
    "Теперь мы видим, что больщая часть людей делает покупки на сумму до 20 000 у.е. "
   ]
  },
  {
   "cell_type": "markdown",
   "metadata": {},
   "source": [
    "95-й и 99-й перцентили стоимости заказов."
   ]
  },
  {
   "cell_type": "code",
   "execution_count": 35,
   "metadata": {},
   "outputs": [
    {
     "name": "stdout",
     "output_type": "stream",
     "text": [
      "[28000.  58233.2]\n"
     ]
    }
   ],
   "source": [
    "print(np.percentile(orders['revenue'], [95, 99])) "
   ]
  },
  {
   "cell_type": "markdown",
   "metadata": {},
   "source": [
    "5% покупателей совершили заказы на сумму более чем 28 000, лишь 1% людей совершили заказы более 58 233.  Опредилим границу на верхнем уровне. "
   ]
  },
  {
   "cell_type": "markdown",
   "metadata": {},
   "source": [
    "### Статистическая значимость."
   ]
  },
  {
   "cell_type": "markdown",
   "metadata": {},
   "source": [
    "Статистическая значимость различий в среднем количестве заказов на посетителя между группами по «сырым» данным."
   ]
  },
  {
   "cell_type": "markdown",
   "metadata": {},
   "source": [
    "Посчитаем статистическую значимость различий в конверсии между группами без удаления аномальных пользователей.\n",
    "\n",
    "Гипотеза: различий в среднем количестве заказов на посетителя между группами по «сырым» данным нет. \n",
    "\n",
    "α = 0,05\n"
   ]
  },
  {
   "cell_type": "markdown",
   "metadata": {},
   "source": [
    "Для проверки гипотезы мы будем использовать тест Уилкоксона-Манна-Уитни. \n",
    "Но для начала подготовим наши данные."
   ]
  },
  {
   "cell_type": "code",
   "execution_count": 36,
   "metadata": {},
   "outputs": [
    {
     "data": {
      "text/html": [
       "<div>\n",
       "<style scoped>\n",
       "    .dataframe tbody tr th:only-of-type {\n",
       "        vertical-align: middle;\n",
       "    }\n",
       "\n",
       "    .dataframe tbody tr th {\n",
       "        vertical-align: top;\n",
       "    }\n",
       "\n",
       "    .dataframe thead th {\n",
       "        text-align: right;\n",
       "    }\n",
       "</style>\n",
       "<table border=\"1\" class=\"dataframe\">\n",
       "  <thead>\n",
       "    <tr style=\"text-align: right;\">\n",
       "      <th></th>\n",
       "      <th>date</th>\n",
       "      <th>orders_daily_a</th>\n",
       "      <th>revenue_per_date_a</th>\n",
       "      <th>orders_daily_b</th>\n",
       "      <th>revenue_per_date_b</th>\n",
       "      <th>orders_cummulative_a</th>\n",
       "      <th>revenue_cummulative_a</th>\n",
       "      <th>orders_cummulative_b</th>\n",
       "      <th>revenue_cummulative_b</th>\n",
       "      <th>visitors_per_date_a</th>\n",
       "      <th>visitors_per_date_b</th>\n",
       "      <th>visitors_cummulative_a</th>\n",
       "      <th>visitors_cummulative_b</th>\n",
       "    </tr>\n",
       "  </thead>\n",
       "  <tbody>\n",
       "    <tr>\n",
       "      <th>0</th>\n",
       "      <td>2019-08-01</td>\n",
       "      <td>24</td>\n",
       "      <td>148579</td>\n",
       "      <td>21</td>\n",
       "      <td>101217</td>\n",
       "      <td>24</td>\n",
       "      <td>148579</td>\n",
       "      <td>21</td>\n",
       "      <td>101217</td>\n",
       "      <td>719</td>\n",
       "      <td>713</td>\n",
       "      <td>719</td>\n",
       "      <td>713</td>\n",
       "    </tr>\n",
       "    <tr>\n",
       "      <th>1</th>\n",
       "      <td>2019-08-02</td>\n",
       "      <td>20</td>\n",
       "      <td>93822</td>\n",
       "      <td>24</td>\n",
       "      <td>165531</td>\n",
       "      <td>44</td>\n",
       "      <td>242401</td>\n",
       "      <td>45</td>\n",
       "      <td>266748</td>\n",
       "      <td>619</td>\n",
       "      <td>581</td>\n",
       "      <td>1338</td>\n",
       "      <td>1294</td>\n",
       "    </tr>\n",
       "    <tr>\n",
       "      <th>2</th>\n",
       "      <td>2019-08-03</td>\n",
       "      <td>24</td>\n",
       "      <td>112473</td>\n",
       "      <td>16</td>\n",
       "      <td>114248</td>\n",
       "      <td>68</td>\n",
       "      <td>354874</td>\n",
       "      <td>61</td>\n",
       "      <td>380996</td>\n",
       "      <td>507</td>\n",
       "      <td>509</td>\n",
       "      <td>1845</td>\n",
       "      <td>1803</td>\n",
       "    </tr>\n",
       "    <tr>\n",
       "      <th>3</th>\n",
       "      <td>2019-08-04</td>\n",
       "      <td>16</td>\n",
       "      <td>70825</td>\n",
       "      <td>17</td>\n",
       "      <td>108571</td>\n",
       "      <td>84</td>\n",
       "      <td>425699</td>\n",
       "      <td>78</td>\n",
       "      <td>489567</td>\n",
       "      <td>717</td>\n",
       "      <td>770</td>\n",
       "      <td>2562</td>\n",
       "      <td>2573</td>\n",
       "    </tr>\n",
       "    <tr>\n",
       "      <th>4</th>\n",
       "      <td>2019-08-05</td>\n",
       "      <td>25</td>\n",
       "      <td>124218</td>\n",
       "      <td>23</td>\n",
       "      <td>92428</td>\n",
       "      <td>109</td>\n",
       "      <td>549917</td>\n",
       "      <td>101</td>\n",
       "      <td>581995</td>\n",
       "      <td>756</td>\n",
       "      <td>707</td>\n",
       "      <td>3318</td>\n",
       "      <td>3280</td>\n",
       "    </tr>\n",
       "  </tbody>\n",
       "</table>\n",
       "</div>"
      ],
      "text/plain": [
       "        date  orders_daily_a  revenue_per_date_a  orders_daily_b  \\\n",
       "0 2019-08-01              24              148579              21   \n",
       "1 2019-08-02              20               93822              24   \n",
       "2 2019-08-03              24              112473              16   \n",
       "3 2019-08-04              16               70825              17   \n",
       "4 2019-08-05              25              124218              23   \n",
       "\n",
       "   revenue_per_date_b  orders_cummulative_a  revenue_cummulative_a  \\\n",
       "0              101217                    24                 148579   \n",
       "1              165531                    44                 242401   \n",
       "2              114248                    68                 354874   \n",
       "3              108571                    84                 425699   \n",
       "4               92428                   109                 549917   \n",
       "\n",
       "   orders_cummulative_b  revenue_cummulative_b  visitors_per_date_a  \\\n",
       "0                    21                 101217                  719   \n",
       "1                    45                 266748                  619   \n",
       "2                    61                 380996                  507   \n",
       "3                    78                 489567                  717   \n",
       "4                   101                 581995                  756   \n",
       "\n",
       "   visitors_per_date_b  visitors_cummulative_a  visitors_cummulative_b  \n",
       "0                  713                     719                     713  \n",
       "1                  581                    1338                    1294  \n",
       "2                  509                    1845                    1803  \n",
       "3                  770                    2562                    2573  \n",
       "4                  707                    3318                    3280  "
      ]
     },
     "execution_count": 36,
     "metadata": {},
     "output_type": "execute_result"
    }
   ],
   "source": [
    "visitors_daily_a = visitors[visitors['group'] == 'A'][['date', 'visitors']]\n",
    "visitors_daily_a.columns = ['date', 'visitors_per_date_a']\n",
    "\n",
    "visitors_cummulative_a = visitors_daily_a.apply(\n",
    "    lambda x: visitors_daily_a[visitors_daily_a['date'] <= x['date']].agg(\n",
    "        {'date': 'max', 'visitors_per_date_a': 'sum'}\n",
    "    ),\n",
    "    axis=1,\n",
    ")\n",
    "visitors_cummulative_a.columns = ['date', 'visitors_cummulative_a']\n",
    "\n",
    "visitors_daily_b = visitors[visitors['group'] == 'B'][['date', 'visitors']]\n",
    "visitors_daily_b.columns = ['date', 'visitors_per_date_b']\n",
    "\n",
    "visitors_cummulative_b = visitors_daily_b.apply(\n",
    "    lambda x: visitors_daily_b[visitors_daily_b['date'] <= x['date']].agg(\n",
    "        {'date': 'max', 'visitors_per_date_b': 'sum'}\n",
    "    ),\n",
    "    axis=1,\n",
    ")\n",
    "visitors_cummulative_b.columns = ['date', 'visitors_cummulative_b']\n",
    "\n",
    "orders_daily_a = (\n",
    "    orders[orders['group'] == 'A'][['date', 'transaction_id', 'visitor_id', 'revenue']]\n",
    "    .groupby('date', as_index=False)\n",
    "    .agg({'transaction_id': pd.Series.nunique, 'revenue': 'sum'})\n",
    ")\n",
    "orders_daily_a.columns = ['date', 'orders_daily_a', 'revenue_per_date_a']\n",
    "\n",
    "orders_cummulative_a = orders_daily_a.apply(\n",
    "    lambda x: orders_daily_a[orders_daily_a['date'] <= x['date']].agg(\n",
    "        {'date': 'max', 'orders_daily_a': 'sum', 'revenue_per_date_a': 'sum'}\n",
    "    ),\n",
    "    axis=1,\n",
    ").sort_values(by=['date'])\n",
    "\n",
    "orders_cummulative_a.columns = ['date','orders_cummulative_a','revenue_cummulative_a']\n",
    "\n",
    "orders_daily_b = (\n",
    "    orders[orders['group'] == 'B'][['date', 'transaction_id', 'visitor_id', 'revenue']]\n",
    "    .groupby('date', as_index=False)\n",
    "    .agg({'transaction_id': pd.Series.nunique, 'revenue': 'sum'})\n",
    ")\n",
    "orders_daily_b.columns = ['date', 'orders_daily_b', 'revenue_per_date_b']\n",
    "\n",
    "orders_cummulative_b = orders_daily_b.apply(\n",
    "    lambda x: orders_daily_b[orders_daily_b['date'] <= x['date']].agg(\n",
    "        {'date': 'max', 'orders_daily_b': 'sum', 'revenue_per_date_b': 'sum'}\n",
    "    ),\n",
    "    axis=1,\n",
    ").sort_values(by=['date'])\n",
    "\n",
    "orders_cummulative_b.columns = ['date','orders_cummulative_b','revenue_cummulative_b']\n",
    "\n",
    "\n",
    "data = (\n",
    "    orders_daily_a.merge(\n",
    "        orders_daily_b, left_on='date', right_on='date', how='left'\n",
    "    )\n",
    "    .merge(orders_cummulative_a, left_on='date', right_on='date', how='left')\n",
    "    .merge(orders_cummulative_b, left_on='date', right_on='date', how='left')\n",
    "    .merge(visitors_daily_a, left_on='date', right_on='date', how='left')\n",
    "    .merge(visitors_daily_b, left_on='date', right_on='date', how='left')\n",
    "    .merge(visitors_cummulative_a, left_on='date', right_on='date', how='left')\n",
    "    .merge(visitors_cummulative_b, left_on='date', right_on='date', how='left')\n",
    ")\n",
    "\n",
    "data.head()"
   ]
  },
  {
   "cell_type": "markdown",
   "metadata": {},
   "source": [
    "Мы получили таблицу с датами и параметрами для каждой группы: количество заказов в день, итоговая выручка за день, количество посетителей в день, количество заказов до указанного дня, итоговая выручка по заказом до указанного дня и количество клиентов до указанного дня. \n",
    "\n",
    "Далее посчитаем количество заказов по каждому клиенту, совершивший хотя бы один заказ, для двух групп. "
   ]
  },
  {
   "cell_type": "code",
   "execution_count": 37,
   "metadata": {},
   "outputs": [],
   "source": [
    "orders_by_users_a = (\n",
    "    orders[orders['group'] == 'A']\n",
    "    .groupby('visitor_id', as_index=False)\n",
    "    .agg({'transaction_id': pd.Series.nunique})\n",
    ")\n",
    "orders_by_users_a.columns = ['visitor_id', 'orders']\n",
    "\n",
    "orders_by_users_b = (\n",
    "    orders[orders['group'] == 'B']\n",
    "    .groupby('visitor_id', as_index=False)\n",
    "    .agg({'transaction_id': pd.Series.nunique})\n",
    ")\n",
    "orders_by_users_b.columns = ['visitor_id', 'orders']"
   ]
  },
  {
   "cell_type": "markdown",
   "metadata": {},
   "source": [
    "Объявим переменные sample_a и sample_b, в которых пользователям из разных групп будет соответствовать количество заказов. Тем, кто ничего не заказал, будут соответствовать нули. Это нужно, чтобы подготовить выборки к проверке критерием Манна-Уитни."
   ]
  },
  {
   "cell_type": "code",
   "execution_count": 38,
   "metadata": {},
   "outputs": [],
   "source": [
    "sample_a = pd.concat([orders_by_users_a['orders'],\n",
    "                      pd.Series(\n",
    "                          0, \n",
    "                          index=np.arange(data['visitors_per_date_a'].sum() - \n",
    "                                          len(orders_by_users_a['orders'])), \n",
    "                          name='orders')],axis=0\n",
    "                    )\n",
    "\n",
    "sample_b = pd.concat([orders_by_users_b['orders'],\n",
    "                      pd.Series(\n",
    "                          0, \n",
    "                          index=np.arange(data['visitors_per_date_b'].sum() - \n",
    "                                          len(orders_by_users_b['orders'])), \n",
    "                          name='orders')],axis=0\n",
    "                    )"
   ]
  },
  {
   "cell_type": "markdown",
   "metadata": {},
   "source": [
    "Задаем функцию, для проверки гипотезы"
   ]
  },
  {
   "cell_type": "code",
   "execution_count": 39,
   "metadata": {},
   "outputs": [],
   "source": [
    "# Функция для проверки гипотезы о равенстве групп data A и data B\n",
    "def stat_significance(data_a, data_b):\n",
    "    alpha = 0.05 #устанавсливаем уровень значисости \n",
    "    p_value = stats.mannwhitneyu(data_a, data_b)[1]\n",
    "    print(\"P-value: {0:.3f}\".format(p_value))\n",
    "\n",
    "    if (p_value < alpha):\n",
    "        print(\"Отвергаем гипотезу: между группами есть разница\")\n",
    "    else:\n",
    "        print(\"Не получилось отвергнуть гипотезу, нет оснований считать группы разными\")\n",
    "    \n",
    "    print(\"Относительный прирост В к А: {0:.3%}\".format(data_b.mean() / data_a.mean()-1))"
   ]
  },
  {
   "cell_type": "code",
   "execution_count": 40,
   "metadata": {},
   "outputs": [
    {
     "name": "stdout",
     "output_type": "stream",
     "text": [
      "P-value: 0.017\n",
      "Отвергаем гипотезу: между группами есть разница\n",
      "Относительный прирост В к А: 13.808%\n"
     ]
    }
   ],
   "source": [
    "stat_significance(sample_a, sample_b)"
   ]
  },
  {
   "cell_type": "markdown",
   "metadata": {},
   "source": [
    "По результатам тестирования мы отвергаем нашу гипотезу, между группами А и В есть разница в среднем количестве заказов на посетителя. "
   ]
  },
  {
   "cell_type": "markdown",
   "metadata": {},
   "source": [
    "Статистическая значимость различий в среднем чеке заказа между группами по «сырым» данным. "
   ]
  },
  {
   "cell_type": "markdown",
   "metadata": {},
   "source": [
    "Гипотеза: различий в среднем чеке между группами по «сырым» данным нет.\n",
    "\n",
    "α = 0,05 "
   ]
  },
  {
   "cell_type": "code",
   "execution_count": 41,
   "metadata": {},
   "outputs": [
    {
     "name": "stdout",
     "output_type": "stream",
     "text": [
      "P-value: 0.729\n",
      "Не получилось отвергнуть гипотезу, нет оснований считать группы разными\n",
      "Относительный прирост В к А: 25.871%\n"
     ]
    }
   ],
   "source": [
    "stat_significance(orders[orders['group']=='A']['revenue'], orders[orders['group']=='B']['revenue'])"
   ]
  },
  {
   "cell_type": "markdown",
   "metadata": {},
   "source": [
    "По результатам теста гипотеза не отвергается, значит различий в среднем чеке между группами по «сырым» данным нет.\n",
    "\n",
    "Однако мы можем заметить, что средний чек группы B значительно выше среднего чека группы A."
   ]
  },
  {
   "cell_type": "markdown",
   "metadata": {},
   "source": [
    "Статистическая значимость различий в среднем количестве заказов на посетителя между группами по «очищенным» данным. "
   ]
  },
  {
   "cell_type": "markdown",
   "metadata": {},
   "source": [
    "Как мы определили раннее, аномальные пользователи будут те, кто совершил больше 4 заказов или сумма заказа был более 58233.\n",
    "Так мы уберём 1% пользователей с наибольшим числом заказов и 1% пользователей с самыми дорогими заказами."
   ]
  },
  {
   "cell_type": "code",
   "execution_count": 42,
   "metadata": {},
   "outputs": [
    {
     "data": {
      "text/plain": [
       "1099     148427295\n",
       "949      887908475\n",
       "744      888512513\n",
       "1103    1164614297\n",
       "1136    1307669133\n",
       "Name: visitor_id, dtype: int64"
      ]
     },
     "metadata": {},
     "output_type": "display_data"
    },
    {
     "data": {
      "text/plain": [
       "15"
      ]
     },
     "execution_count": 42,
     "metadata": {},
     "output_type": "execute_result"
    }
   ],
   "source": [
    "many_orders = np.percentile(orders_by_users['orders'], 99)\n",
    "expensive_orders = np.percentile(orders['revenue'], 99)\n",
    "\n",
    "\n",
    "users_with_many_orders = pd.concat(\n",
    "    [\n",
    "        orders_by_users_a[orders_by_users_a['orders'] > many_orders]['visitor_id'],\n",
    "        orders_by_users_b[orders_by_users_b['orders'] > many_orders]['visitor_id'],\n",
    "    ],\n",
    "    axis=0,\n",
    ")\n",
    "\n",
    "\n",
    "users_with_expensive_orders = orders[orders['revenue'] > expensive_orders]['visitor_id']\n",
    "\n",
    "\n",
    "abnormal_users = (\n",
    "    pd.concat([users_with_many_orders, users_with_expensive_orders], axis=0)\n",
    "    .drop_duplicates()\n",
    "    .sort_values()\n",
    ")\n",
    "display(abnormal_users.head(5))\n",
    "abnormal_users.shape[0]"
   ]
  },
  {
   "cell_type": "markdown",
   "metadata": {},
   "source": [
    "У нас получилост 15 аномальных пользователей.\n",
    "Узнаем, как их действия повлияли на результаты теста, для этого подготовим наши данные. "
   ]
  },
  {
   "cell_type": "code",
   "execution_count": 43,
   "metadata": {},
   "outputs": [],
   "source": [
    "sample_a_filtered = pd.concat(\n",
    "    [\n",
    "        orders_by_users_a[\n",
    "            np.logical_not(orders_by_users_a['visitor_id'].isin(abnormal_users))\n",
    "        ]['orders'],\n",
    "        pd.Series(\n",
    "            0,\n",
    "            index=np.arange(\n",
    "                data['visitors_per_date_a'].sum() - len(orders_by_users_a['orders'])\n",
    "            ),\n",
    "            name='orders',\n",
    "        ),\n",
    "    ],\n",
    "    axis=0,\n",
    ")\n",
    "\n",
    "sample_b_filtered = pd.concat(\n",
    "    [\n",
    "        orders_by_users_b[\n",
    "            np.logical_not(orders_by_users_b['visitor_id'].isin(abnormal_users))\n",
    "        ]['orders'],\n",
    "        pd.Series(\n",
    "            0,\n",
    "            index=np.arange(\n",
    "                data['visitors_per_date_b'].sum() - len(orders_by_users_b['orders'])\n",
    "            ),\n",
    "            name='orders',\n",
    "        ),\n",
    "    ],\n",
    "    axis=0,\n",
    ")\n"
   ]
  },
  {
   "cell_type": "code",
   "execution_count": 44,
   "metadata": {},
   "outputs": [
    {
     "name": "stdout",
     "output_type": "stream",
     "text": [
      "P-value: 0.014\n",
      "Отвергаем гипотезу: между группами есть разница\n",
      "Относительный прирост В к А: 15.331%\n"
     ]
    }
   ],
   "source": [
    "stat_significance(sample_a_filtered, sample_b_filtered)"
   ]
  },
  {
   "cell_type": "markdown",
   "metadata": {},
   "source": [
    "На очищенных данных разница в конверсии между группами есть, а относительный прирост конверсии группы В отнистельно группы А увеличился на 15.3%."
   ]
  },
  {
   "cell_type": "markdown",
   "metadata": {},
   "source": [
    "Статистическая значимость различий в среднем чеке заказа между группами по «очищенным» данным."
   ]
  },
  {
   "cell_type": "code",
   "execution_count": 45,
   "metadata": {},
   "outputs": [
    {
     "name": "stdout",
     "output_type": "stream",
     "text": [
      "P-value: 0.851\n",
      "Не получилось отвергнуть гипотезу, нет оснований считать группы разными\n",
      "Относительный прирост В к А: -0.575%\n"
     ]
    }
   ],
   "source": [
    "stat_significance(\n",
    "    orders[(orders['group']=='A') & np.logical_not(orders['visitor_id'].isin(abnormal_users))]['revenue'], \n",
    "    orders[(orders['group']=='B') & np.logical_not(orders['visitor_id'].isin(abnormal_users))]['revenue']\n",
    "                  )"
   ]
  },
  {
   "cell_type": "markdown",
   "metadata": {},
   "source": [
    "Гипотеза не отвергается, значит в среднем чеке нет различий между группами."
   ]
  },
  {
   "cell_type": "markdown",
   "metadata": {},
   "source": [
    "### Итоговое решение."
   ]
  },
  {
   "cell_type": "markdown",
   "metadata": {},
   "source": [
    "Мы провели проверку гипотез, которые показали, что у группы В больше среднее количество заказов на постителя.\n",
    "По результатам тестирования нам следует остановить тест, зафиксировать победу группы В."
   ]
  },
  {
   "cell_type": "markdown",
   "metadata": {},
   "source": [
    "## Общий вывод."
   ]
  },
  {
   "cell_type": "markdown",
   "metadata": {},
   "source": [
    "В данном исследовании провели предобработку данных, приоритезацию гипотез и анализ А/В тестов. \n",
    "\n",
    "Во время предобработки данных мы изменили название столбцов в таблицах hypothesis и orders, а также привели данные в столбце date к типу даты pandas в файлах visitors и orders.\n",
    "\n",
    "Приоритезация гипотез показала, что в первую очередь нужно проверять 7-ю гипотезу: \"Добавить форму подписки на все основные страницы, чтобы собрать базу клиентов для email-рассылок\". Данная гипотеза наименее трудозатратна, наиболее сильно повлияет на результат и затронет большее количество клиентов. \n",
    "\n",
    "В ходе анализа мы установили:\n",
    "\n",
    "- Клиенты группы A и B изначально были на одном уровне по общей выручке с заказов, однако под конец эксперимента группа В показывала больее лучшие результаты.\n",
    "- В начале эксперемента средний чек у обоих групп имел нестабильный рост. В середине Августа мы также видим значительный всплеск среднего чека у группы В.\n",
    "- Средний чек у двух групп не зависим друг от друга. \n",
    "- Соотношение среднего количество заказов на посетителя лучше у группы B, чем у группы А. \n",
    "- Большенство пользователей сделали 1-2 заказа за период эксперимента. Максимальное количество заказов - 11.\n",
    "- Средняя стоимость заказа составляет 8 348 у.е. Минимальная стомость 50 у.е., максимальная - 1 294 500. Самые дорогие заказы были сделаны в группе B, что и объясняет значительный скачок среднего чека и всплеск общей выручки у группы B.\n",
    "\n",
    "По результату А/В тестирования мы сделали выводы:\n",
    "\n",
    "- Гипотеза, что различий в среднем количестве заказов на посетителя между группами нет отверглась, как до удаление аномалий, так и после. Конверсия группы В выше, чем в А, на 13%-15%.\n",
    "\n",
    "- Гипотеза, что различий в среднем чеке между группами нет подтвердилась, как до удаление аномалий, так и после. \n",
    "\n",
    "На оснавании вышеизложенных фактов мы решили остановить тестирование, зафиксировать победу группы В."
   ]
  }
 ],
 "metadata": {
  "ExecuteTimeLog": [
   {
    "duration": 1455,
    "start_time": "2023-09-14T10:29:39.297Z"
   },
   {
    "duration": 68,
    "start_time": "2023-09-14T10:32:35.134Z"
   },
   {
    "duration": 234,
    "start_time": "2023-09-14T10:32:51.636Z"
   },
   {
    "duration": 104,
    "start_time": "2023-09-14T10:33:18.959Z"
   },
   {
    "duration": 53,
    "start_time": "2023-09-14T11:05:55.012Z"
   },
   {
    "duration": 89,
    "start_time": "2023-09-14T11:05:59.863Z"
   },
   {
    "duration": 63,
    "start_time": "2023-09-14T11:06:05.105Z"
   },
   {
    "duration": 190,
    "start_time": "2023-09-14T11:08:03.526Z"
   },
   {
    "duration": 1341,
    "start_time": "2023-09-14T11:08:16.395Z"
   },
   {
    "duration": 77,
    "start_time": "2023-09-14T11:08:17.738Z"
   },
   {
    "duration": 52,
    "start_time": "2023-09-14T11:08:17.817Z"
   },
   {
    "duration": 274,
    "start_time": "2023-09-14T11:08:17.871Z"
   },
   {
    "duration": 8,
    "start_time": "2023-09-14T11:11:10.506Z"
   },
   {
    "duration": 22,
    "start_time": "2023-09-14T11:11:31.806Z"
   },
   {
    "duration": 17,
    "start_time": "2023-09-14T11:11:51.067Z"
   },
   {
    "duration": 20,
    "start_time": "2023-09-14T11:11:54.138Z"
   },
   {
    "duration": 18,
    "start_time": "2023-09-14T11:12:11.515Z"
   },
   {
    "duration": 1275,
    "start_time": "2023-09-14T11:12:26.570Z"
   },
   {
    "duration": 78,
    "start_time": "2023-09-14T11:12:27.847Z"
   },
   {
    "duration": 21,
    "start_time": "2023-09-14T11:12:27.926Z"
   },
   {
    "duration": 29,
    "start_time": "2023-09-14T11:12:27.949Z"
   },
   {
    "duration": 27,
    "start_time": "2023-09-14T11:12:27.980Z"
   },
   {
    "duration": 20,
    "start_time": "2023-09-14T11:14:27.058Z"
   },
   {
    "duration": 25,
    "start_time": "2023-09-14T11:14:55.022Z"
   },
   {
    "duration": 113,
    "start_time": "2023-09-14T11:16:42.896Z"
   },
   {
    "duration": 10,
    "start_time": "2023-09-14T11:16:53.796Z"
   },
   {
    "duration": 22,
    "start_time": "2023-09-14T11:17:05.910Z"
   },
   {
    "duration": 24,
    "start_time": "2023-09-14T11:17:21.369Z"
   },
   {
    "duration": 15,
    "start_time": "2023-09-14T11:17:28.580Z"
   },
   {
    "duration": 5,
    "start_time": "2023-09-14T11:19:45.332Z"
   },
   {
    "duration": 9,
    "start_time": "2023-09-14T11:19:49.162Z"
   },
   {
    "duration": 13,
    "start_time": "2023-09-14T11:21:40.869Z"
   },
   {
    "duration": 16,
    "start_time": "2023-09-14T11:22:05.338Z"
   },
   {
    "duration": 9,
    "start_time": "2023-09-14T11:26:14.459Z"
   },
   {
    "duration": 8,
    "start_time": "2023-09-14T11:26:40.042Z"
   },
   {
    "duration": 9,
    "start_time": "2023-09-14T11:26:44.720Z"
   },
   {
    "duration": 5,
    "start_time": "2023-09-14T11:26:50.575Z"
   },
   {
    "duration": 5,
    "start_time": "2023-09-14T11:26:53.928Z"
   },
   {
    "duration": 1205,
    "start_time": "2023-09-14T11:27:04.360Z"
   },
   {
    "duration": 77,
    "start_time": "2023-09-14T11:27:05.567Z"
   },
   {
    "duration": 20,
    "start_time": "2023-09-14T11:27:05.646Z"
   },
   {
    "duration": 21,
    "start_time": "2023-09-14T11:27:05.667Z"
   },
   {
    "duration": 9,
    "start_time": "2023-09-14T11:27:05.691Z"
   },
   {
    "duration": 19,
    "start_time": "2023-09-14T11:27:05.702Z"
   },
   {
    "duration": 8,
    "start_time": "2023-09-14T11:27:05.723Z"
   },
   {
    "duration": 11,
    "start_time": "2023-09-14T11:27:05.732Z"
   },
   {
    "duration": 15,
    "start_time": "2023-09-14T11:27:05.745Z"
   },
   {
    "duration": 12,
    "start_time": "2023-09-14T11:27:05.762Z"
   },
   {
    "duration": 13,
    "start_time": "2023-09-14T11:27:05.776Z"
   },
   {
    "duration": 9,
    "start_time": "2023-09-14T11:27:41.262Z"
   },
   {
    "duration": 12,
    "start_time": "2023-09-14T12:51:03.427Z"
   },
   {
    "duration": 13,
    "start_time": "2023-09-14T12:52:45.276Z"
   },
   {
    "duration": 10,
    "start_time": "2023-09-14T12:53:48.740Z"
   },
   {
    "duration": 110,
    "start_time": "2023-09-14T12:56:54.867Z"
   },
   {
    "duration": 13,
    "start_time": "2023-09-14T12:57:11.955Z"
   },
   {
    "duration": 16,
    "start_time": "2023-09-14T12:57:19.021Z"
   },
   {
    "duration": 11,
    "start_time": "2023-09-14T12:57:40.280Z"
   },
   {
    "duration": 12,
    "start_time": "2023-09-14T13:09:32.987Z"
   },
   {
    "duration": 1169,
    "start_time": "2023-09-14T13:13:03.473Z"
   },
   {
    "duration": 80,
    "start_time": "2023-09-14T13:13:04.644Z"
   },
   {
    "duration": 20,
    "start_time": "2023-09-14T13:13:04.726Z"
   },
   {
    "duration": 20,
    "start_time": "2023-09-14T13:13:04.748Z"
   },
   {
    "duration": 28,
    "start_time": "2023-09-14T13:13:04.771Z"
   },
   {
    "duration": 23,
    "start_time": "2023-09-14T13:13:04.800Z"
   },
   {
    "duration": 46,
    "start_time": "2023-09-14T13:13:04.825Z"
   },
   {
    "duration": 29,
    "start_time": "2023-09-14T13:13:04.873Z"
   },
   {
    "duration": 52,
    "start_time": "2023-09-14T13:13:04.903Z"
   },
   {
    "duration": 23,
    "start_time": "2023-09-14T13:13:04.956Z"
   },
   {
    "duration": 100,
    "start_time": "2023-09-14T13:13:04.981Z"
   },
   {
    "duration": 18,
    "start_time": "2023-09-14T13:13:05.083Z"
   },
   {
    "duration": 13,
    "start_time": "2023-09-14T13:13:11.502Z"
   },
   {
    "duration": 27,
    "start_time": "2023-09-14T13:13:11.517Z"
   },
   {
    "duration": 25,
    "start_time": "2023-09-14T13:13:11.546Z"
   },
   {
    "duration": 1764,
    "start_time": "2023-09-17T08:40:33.891Z"
   },
   {
    "duration": 269,
    "start_time": "2023-09-17T08:40:35.658Z"
   },
   {
    "duration": 29,
    "start_time": "2023-09-17T08:40:35.930Z"
   },
   {
    "duration": 24,
    "start_time": "2023-09-17T08:40:35.962Z"
   },
   {
    "duration": 79,
    "start_time": "2023-09-17T08:40:35.989Z"
   },
   {
    "duration": 138,
    "start_time": "2023-09-17T08:40:36.070Z"
   },
   {
    "duration": 67,
    "start_time": "2023-09-17T08:40:36.210Z"
   },
   {
    "duration": 31,
    "start_time": "2023-09-17T08:40:36.279Z"
   },
   {
    "duration": 36,
    "start_time": "2023-09-17T08:40:36.321Z"
   },
   {
    "duration": 33,
    "start_time": "2023-09-17T08:40:36.359Z"
   },
   {
    "duration": 37,
    "start_time": "2023-09-17T08:40:36.394Z"
   },
   {
    "duration": 25,
    "start_time": "2023-09-17T08:40:36.433Z"
   },
   {
    "duration": 40,
    "start_time": "2023-09-17T08:40:36.460Z"
   },
   {
    "duration": 18,
    "start_time": "2023-09-17T08:40:36.502Z"
   },
   {
    "duration": 25,
    "start_time": "2023-09-17T08:40:36.522Z"
   },
   {
    "duration": 15,
    "start_time": "2023-09-17T08:51:05.145Z"
   },
   {
    "duration": 25,
    "start_time": "2023-09-17T08:52:36.301Z"
   },
   {
    "duration": 24,
    "start_time": "2023-09-17T08:53:15.821Z"
   },
   {
    "duration": 1580,
    "start_time": "2023-09-17T09:48:08.380Z"
   },
   {
    "duration": 80,
    "start_time": "2023-09-17T09:48:09.964Z"
   },
   {
    "duration": 25,
    "start_time": "2023-09-17T09:48:10.047Z"
   },
   {
    "duration": 43,
    "start_time": "2023-09-17T09:48:10.075Z"
   },
   {
    "duration": 53,
    "start_time": "2023-09-17T09:48:10.121Z"
   },
   {
    "duration": 48,
    "start_time": "2023-09-17T09:48:10.176Z"
   },
   {
    "duration": 11,
    "start_time": "2023-09-17T09:48:10.225Z"
   },
   {
    "duration": 19,
    "start_time": "2023-09-17T09:48:10.238Z"
   },
   {
    "duration": 9,
    "start_time": "2023-09-17T09:48:10.259Z"
   },
   {
    "duration": 38,
    "start_time": "2023-09-17T09:48:10.272Z"
   },
   {
    "duration": 16,
    "start_time": "2023-09-17T09:48:10.312Z"
   },
   {
    "duration": 20,
    "start_time": "2023-09-17T09:48:10.330Z"
   },
   {
    "duration": 18,
    "start_time": "2023-09-17T09:48:10.352Z"
   },
   {
    "duration": 47,
    "start_time": "2023-09-17T09:48:10.372Z"
   },
   {
    "duration": 29,
    "start_time": "2023-09-17T09:48:10.421Z"
   },
   {
    "duration": 267,
    "start_time": "2023-09-17T09:48:10.452Z"
   },
   {
    "duration": 157,
    "start_time": "2023-09-17T09:48:10.721Z"
   },
   {
    "duration": 32,
    "start_time": "2023-09-17T09:48:10.880Z"
   },
   {
    "duration": 31,
    "start_time": "2023-09-17T09:48:10.914Z"
   },
   {
    "duration": 13,
    "start_time": "2023-09-17T09:49:54.140Z"
   },
   {
    "duration": 16,
    "start_time": "2023-09-17T09:49:56.705Z"
   },
   {
    "duration": 305,
    "start_time": "2023-09-17T09:50:43.509Z"
   },
   {
    "duration": 218,
    "start_time": "2023-09-17T09:50:49.635Z"
   },
   {
    "duration": 20,
    "start_time": "2023-09-17T09:50:54.616Z"
   },
   {
    "duration": 11,
    "start_time": "2023-09-17T12:32:49.093Z"
   },
   {
    "duration": 300,
    "start_time": "2023-09-17T12:33:14.225Z"
   },
   {
    "duration": 216,
    "start_time": "2023-09-17T12:33:28.517Z"
   },
   {
    "duration": 186,
    "start_time": "2023-09-17T12:34:26.036Z"
   },
   {
    "duration": 202,
    "start_time": "2023-09-17T12:34:35.732Z"
   },
   {
    "duration": 121,
    "start_time": "2023-09-17T12:35:44.431Z"
   },
   {
    "duration": 89,
    "start_time": "2023-09-17T12:38:03.213Z"
   },
   {
    "duration": 214,
    "start_time": "2023-09-17T13:07:53.834Z"
   },
   {
    "duration": 124,
    "start_time": "2023-09-17T13:13:11.302Z"
   },
   {
    "duration": 286,
    "start_time": "2023-09-17T13:13:28.854Z"
   },
   {
    "duration": 302,
    "start_time": "2023-09-17T13:14:56.125Z"
   },
   {
    "duration": 384,
    "start_time": "2023-09-17T13:15:03.042Z"
   },
   {
    "duration": 324,
    "start_time": "2023-09-17T13:15:10.599Z"
   },
   {
    "duration": 330,
    "start_time": "2023-09-17T13:16:42.549Z"
   },
   {
    "duration": 344,
    "start_time": "2023-09-17T13:16:47.670Z"
   },
   {
    "duration": 1332,
    "start_time": "2023-09-17T13:24:20.832Z"
   },
   {
    "duration": 203,
    "start_time": "2023-09-17T13:28:41.846Z"
   },
   {
    "duration": 186,
    "start_time": "2023-09-17T13:29:07.346Z"
   },
   {
    "duration": 279,
    "start_time": "2023-09-17T13:29:26.253Z"
   },
   {
    "duration": 204,
    "start_time": "2023-09-17T13:45:09.022Z"
   },
   {
    "duration": 317,
    "start_time": "2023-09-17T13:45:21.277Z"
   },
   {
    "duration": 326,
    "start_time": "2023-09-17T13:45:59.906Z"
   },
   {
    "duration": 11,
    "start_time": "2023-09-17T13:46:41.419Z"
   },
   {
    "duration": 228,
    "start_time": "2023-09-17T13:48:28.580Z"
   },
   {
    "duration": 290,
    "start_time": "2023-09-17T13:48:49.536Z"
   },
   {
    "duration": 11,
    "start_time": "2023-09-17T13:48:54.345Z"
   },
   {
    "duration": 100,
    "start_time": "2023-09-17T13:54:23.885Z"
   },
   {
    "duration": 87,
    "start_time": "2023-09-17T13:55:00.317Z"
   },
   {
    "duration": 83,
    "start_time": "2023-09-17T14:00:38.875Z"
   },
   {
    "duration": 9,
    "start_time": "2023-09-17T14:00:42.733Z"
   },
   {
    "duration": 84,
    "start_time": "2023-09-17T14:00:50.548Z"
   },
   {
    "duration": 1274,
    "start_time": "2023-09-17T14:01:04.380Z"
   },
   {
    "duration": 77,
    "start_time": "2023-09-17T14:01:05.656Z"
   },
   {
    "duration": 21,
    "start_time": "2023-09-17T14:01:05.735Z"
   },
   {
    "duration": 31,
    "start_time": "2023-09-17T14:01:05.759Z"
   },
   {
    "duration": 25,
    "start_time": "2023-09-17T14:01:05.792Z"
   },
   {
    "duration": 90,
    "start_time": "2023-09-17T14:01:05.820Z"
   },
   {
    "duration": 44,
    "start_time": "2023-09-17T14:01:05.912Z"
   },
   {
    "duration": 35,
    "start_time": "2023-09-17T14:01:05.958Z"
   },
   {
    "duration": 47,
    "start_time": "2023-09-17T14:01:05.995Z"
   },
   {
    "duration": 68,
    "start_time": "2023-09-17T14:01:06.044Z"
   },
   {
    "duration": 59,
    "start_time": "2023-09-17T14:01:06.113Z"
   },
   {
    "duration": 71,
    "start_time": "2023-09-17T14:01:06.174Z"
   },
   {
    "duration": 68,
    "start_time": "2023-09-17T14:01:06.246Z"
   },
   {
    "duration": 20,
    "start_time": "2023-09-17T14:01:06.316Z"
   },
   {
    "duration": 41,
    "start_time": "2023-09-17T14:01:06.337Z"
   },
   {
    "duration": 223,
    "start_time": "2023-09-17T14:01:06.380Z"
   },
   {
    "duration": 148,
    "start_time": "2023-09-17T14:01:06.605Z"
   },
   {
    "duration": 30,
    "start_time": "2023-09-17T14:01:06.754Z"
   },
   {
    "duration": 34,
    "start_time": "2023-09-17T14:01:06.786Z"
   },
   {
    "duration": 123,
    "start_time": "2023-09-17T14:01:06.822Z"
   },
   {
    "duration": 0,
    "start_time": "2023-09-17T14:01:06.946Z"
   },
   {
    "duration": 0,
    "start_time": "2023-09-17T14:01:06.948Z"
   },
   {
    "duration": 0,
    "start_time": "2023-09-17T14:01:06.949Z"
   },
   {
    "duration": 0,
    "start_time": "2023-09-17T14:01:06.950Z"
   },
   {
    "duration": 0,
    "start_time": "2023-09-17T14:01:06.952Z"
   },
   {
    "duration": 0,
    "start_time": "2023-09-17T14:01:06.953Z"
   },
   {
    "duration": 294,
    "start_time": "2023-09-17T14:01:28.600Z"
   },
   {
    "duration": 1223,
    "start_time": "2023-09-17T14:01:39.428Z"
   },
   {
    "duration": 77,
    "start_time": "2023-09-17T14:01:40.653Z"
   },
   {
    "duration": 24,
    "start_time": "2023-09-17T14:01:40.732Z"
   },
   {
    "duration": 40,
    "start_time": "2023-09-17T14:01:40.758Z"
   },
   {
    "duration": 15,
    "start_time": "2023-09-17T14:01:40.802Z"
   },
   {
    "duration": 31,
    "start_time": "2023-09-17T14:01:40.819Z"
   },
   {
    "duration": 20,
    "start_time": "2023-09-17T14:01:40.853Z"
   },
   {
    "duration": 26,
    "start_time": "2023-09-17T14:01:40.875Z"
   },
   {
    "duration": 19,
    "start_time": "2023-09-17T14:01:40.902Z"
   },
   {
    "duration": 28,
    "start_time": "2023-09-17T14:01:40.923Z"
   },
   {
    "duration": 19,
    "start_time": "2023-09-17T14:01:40.953Z"
   },
   {
    "duration": 12,
    "start_time": "2023-09-17T14:01:40.974Z"
   },
   {
    "duration": 26,
    "start_time": "2023-09-17T14:01:40.988Z"
   },
   {
    "duration": 11,
    "start_time": "2023-09-17T14:01:41.018Z"
   },
   {
    "duration": 28,
    "start_time": "2023-09-17T14:01:41.031Z"
   },
   {
    "duration": 191,
    "start_time": "2023-09-17T14:01:41.061Z"
   },
   {
    "duration": 158,
    "start_time": "2023-09-17T14:01:41.254Z"
   },
   {
    "duration": 8,
    "start_time": "2023-09-17T14:01:41.415Z"
   },
   {
    "duration": 29,
    "start_time": "2023-09-17T14:01:41.425Z"
   },
   {
    "duration": 300,
    "start_time": "2023-09-17T14:01:41.456Z"
   },
   {
    "duration": 215,
    "start_time": "2023-09-17T14:01:41.757Z"
   },
   {
    "duration": 339,
    "start_time": "2023-09-17T14:01:41.973Z"
   },
   {
    "duration": 224,
    "start_time": "2023-09-17T14:01:42.313Z"
   },
   {
    "duration": 294,
    "start_time": "2023-09-17T14:01:42.539Z"
   },
   {
    "duration": 76,
    "start_time": "2023-09-17T14:01:42.834Z"
   },
   {
    "duration": 0,
    "start_time": "2023-09-17T14:01:42.911Z"
   },
   {
    "duration": 143,
    "start_time": "2023-09-17T14:02:05.796Z"
   },
   {
    "duration": 129,
    "start_time": "2023-09-17T14:04:25.187Z"
   },
   {
    "duration": 5,
    "start_time": "2023-09-17T14:04:26.713Z"
   },
   {
    "duration": 229,
    "start_time": "2023-09-17T14:08:18.216Z"
   },
   {
    "duration": 140,
    "start_time": "2023-09-17T14:08:36.553Z"
   },
   {
    "duration": 145,
    "start_time": "2023-09-17T14:08:52.218Z"
   },
   {
    "duration": 5,
    "start_time": "2023-09-17T14:12:35.710Z"
   },
   {
    "duration": 140,
    "start_time": "2023-09-17T14:12:45.691Z"
   },
   {
    "duration": 156,
    "start_time": "2023-09-17T14:12:51.080Z"
   },
   {
    "duration": 127,
    "start_time": "2023-09-17T14:12:57.830Z"
   },
   {
    "duration": 9,
    "start_time": "2023-09-17T14:13:15.329Z"
   },
   {
    "duration": 178,
    "start_time": "2023-09-17T14:13:38.479Z"
   },
   {
    "duration": 1269,
    "start_time": "2023-09-17T14:13:42.896Z"
   },
   {
    "duration": 78,
    "start_time": "2023-09-17T14:13:44.167Z"
   },
   {
    "duration": 23,
    "start_time": "2023-09-17T14:13:44.247Z"
   },
   {
    "duration": 31,
    "start_time": "2023-09-17T14:13:44.273Z"
   },
   {
    "duration": 9,
    "start_time": "2023-09-17T14:13:44.308Z"
   },
   {
    "duration": 18,
    "start_time": "2023-09-17T14:13:44.319Z"
   },
   {
    "duration": 9,
    "start_time": "2023-09-17T14:13:44.339Z"
   },
   {
    "duration": 10,
    "start_time": "2023-09-17T14:13:44.350Z"
   },
   {
    "duration": 10,
    "start_time": "2023-09-17T14:13:44.361Z"
   },
   {
    "duration": 54,
    "start_time": "2023-09-17T14:13:44.372Z"
   },
   {
    "duration": 15,
    "start_time": "2023-09-17T14:13:44.428Z"
   },
   {
    "duration": 10,
    "start_time": "2023-09-17T14:13:44.445Z"
   },
   {
    "duration": 14,
    "start_time": "2023-09-17T14:13:44.457Z"
   },
   {
    "duration": 11,
    "start_time": "2023-09-17T14:13:44.474Z"
   },
   {
    "duration": 18,
    "start_time": "2023-09-17T14:13:44.500Z"
   },
   {
    "duration": 221,
    "start_time": "2023-09-17T14:13:44.519Z"
   },
   {
    "duration": 174,
    "start_time": "2023-09-17T14:13:44.743Z"
   },
   {
    "duration": 8,
    "start_time": "2023-09-17T14:13:44.918Z"
   },
   {
    "duration": 13,
    "start_time": "2023-09-17T14:13:44.927Z"
   },
   {
    "duration": 313,
    "start_time": "2023-09-17T14:13:44.942Z"
   },
   {
    "duration": 208,
    "start_time": "2023-09-17T14:13:45.256Z"
   },
   {
    "duration": 328,
    "start_time": "2023-09-17T14:13:45.465Z"
   },
   {
    "duration": 245,
    "start_time": "2023-09-17T14:13:45.795Z"
   },
   {
    "duration": 275,
    "start_time": "2023-09-17T14:13:46.041Z"
   },
   {
    "duration": 150,
    "start_time": "2023-09-17T14:13:46.317Z"
   },
   {
    "duration": 143,
    "start_time": "2023-09-17T14:13:46.468Z"
   },
   {
    "duration": 6,
    "start_time": "2023-09-17T14:13:46.612Z"
   },
   {
    "duration": 253,
    "start_time": "2023-09-17T14:13:46.619Z"
   },
   {
    "duration": 149,
    "start_time": "2023-09-17T14:13:46.874Z"
   },
   {
    "duration": 160,
    "start_time": "2023-09-17T14:13:47.025Z"
   },
   {
    "duration": 5,
    "start_time": "2023-09-17T14:13:47.187Z"
   },
   {
    "duration": 1293,
    "start_time": "2023-09-17T16:47:57.814Z"
   },
   {
    "duration": 80,
    "start_time": "2023-09-17T16:47:59.109Z"
   },
   {
    "duration": 27,
    "start_time": "2023-09-17T16:47:59.191Z"
   },
   {
    "duration": 24,
    "start_time": "2023-09-17T16:47:59.220Z"
   },
   {
    "duration": 24,
    "start_time": "2023-09-17T16:47:59.247Z"
   },
   {
    "duration": 41,
    "start_time": "2023-09-17T16:47:59.272Z"
   },
   {
    "duration": 22,
    "start_time": "2023-09-17T16:47:59.314Z"
   },
   {
    "duration": 20,
    "start_time": "2023-09-17T16:47:59.338Z"
   },
   {
    "duration": 22,
    "start_time": "2023-09-17T16:47:59.360Z"
   },
   {
    "duration": 27,
    "start_time": "2023-09-17T16:47:59.384Z"
   },
   {
    "duration": 40,
    "start_time": "2023-09-17T16:47:59.413Z"
   },
   {
    "duration": 21,
    "start_time": "2023-09-17T16:47:59.455Z"
   },
   {
    "duration": 29,
    "start_time": "2023-09-17T16:47:59.478Z"
   },
   {
    "duration": 31,
    "start_time": "2023-09-17T16:47:59.510Z"
   },
   {
    "duration": 31,
    "start_time": "2023-09-17T16:47:59.543Z"
   },
   {
    "duration": 200,
    "start_time": "2023-09-17T16:47:59.576Z"
   },
   {
    "duration": 156,
    "start_time": "2023-09-17T16:47:59.778Z"
   },
   {
    "duration": 8,
    "start_time": "2023-09-17T16:47:59.935Z"
   },
   {
    "duration": 37,
    "start_time": "2023-09-17T16:47:59.946Z"
   },
   {
    "duration": 341,
    "start_time": "2023-09-17T16:47:59.985Z"
   },
   {
    "duration": 208,
    "start_time": "2023-09-17T16:48:00.327Z"
   },
   {
    "duration": 316,
    "start_time": "2023-09-17T16:48:00.538Z"
   },
   {
    "duration": 254,
    "start_time": "2023-09-17T16:48:00.856Z"
   },
   {
    "duration": 307,
    "start_time": "2023-09-17T16:48:01.112Z"
   },
   {
    "duration": 180,
    "start_time": "2023-09-17T16:48:01.421Z"
   },
   {
    "duration": 143,
    "start_time": "2023-09-17T16:48:01.604Z"
   },
   {
    "duration": 6,
    "start_time": "2023-09-17T16:48:01.749Z"
   },
   {
    "duration": 408,
    "start_time": "2023-09-17T16:48:01.758Z"
   },
   {
    "duration": 152,
    "start_time": "2023-09-17T16:48:02.167Z"
   },
   {
    "duration": 0,
    "start_time": "2023-09-17T16:48:02.322Z"
   },
   {
    "duration": 0,
    "start_time": "2023-09-17T16:48:02.323Z"
   },
   {
    "duration": 0,
    "start_time": "2023-09-17T16:48:02.325Z"
   },
   {
    "duration": 184,
    "start_time": "2023-09-17T16:48:15.266Z"
   },
   {
    "duration": 144,
    "start_time": "2023-09-17T16:48:15.675Z"
   },
   {
    "duration": 155,
    "start_time": "2023-09-17T16:50:25.936Z"
   },
   {
    "duration": 164,
    "start_time": "2023-09-17T16:50:31.368Z"
   },
   {
    "duration": 203,
    "start_time": "2023-09-17T16:50:38.704Z"
   },
   {
    "duration": 205,
    "start_time": "2023-09-17T16:50:44.645Z"
   },
   {
    "duration": 176,
    "start_time": "2023-09-17T16:50:49.855Z"
   },
   {
    "duration": 175,
    "start_time": "2023-09-17T16:50:55.868Z"
   },
   {
    "duration": 4,
    "start_time": "2023-09-17T16:55:05.035Z"
   },
   {
    "duration": 1354,
    "start_time": "2023-09-17T16:55:10.473Z"
   },
   {
    "duration": 76,
    "start_time": "2023-09-17T16:55:11.829Z"
   },
   {
    "duration": 21,
    "start_time": "2023-09-17T16:55:11.907Z"
   },
   {
    "duration": 20,
    "start_time": "2023-09-17T16:55:11.930Z"
   },
   {
    "duration": 34,
    "start_time": "2023-09-17T16:55:11.952Z"
   },
   {
    "duration": 52,
    "start_time": "2023-09-17T16:55:11.988Z"
   },
   {
    "duration": 33,
    "start_time": "2023-09-17T16:55:12.042Z"
   },
   {
    "duration": 18,
    "start_time": "2023-09-17T16:55:12.077Z"
   },
   {
    "duration": 26,
    "start_time": "2023-09-17T16:55:12.097Z"
   },
   {
    "duration": 32,
    "start_time": "2023-09-17T16:55:12.125Z"
   },
   {
    "duration": 26,
    "start_time": "2023-09-17T16:55:12.159Z"
   },
   {
    "duration": 28,
    "start_time": "2023-09-17T16:55:12.187Z"
   },
   {
    "duration": 19,
    "start_time": "2023-09-17T16:55:12.216Z"
   },
   {
    "duration": 11,
    "start_time": "2023-09-17T16:55:12.238Z"
   },
   {
    "duration": 18,
    "start_time": "2023-09-17T16:55:12.250Z"
   },
   {
    "duration": 196,
    "start_time": "2023-09-17T16:55:12.270Z"
   },
   {
    "duration": 153,
    "start_time": "2023-09-17T16:55:12.469Z"
   },
   {
    "duration": 9,
    "start_time": "2023-09-17T16:55:12.624Z"
   },
   {
    "duration": 23,
    "start_time": "2023-09-17T16:55:12.635Z"
   },
   {
    "duration": 311,
    "start_time": "2023-09-17T16:55:12.660Z"
   },
   {
    "duration": 211,
    "start_time": "2023-09-17T16:55:12.973Z"
   },
   {
    "duration": 318,
    "start_time": "2023-09-17T16:55:13.186Z"
   },
   {
    "duration": 233,
    "start_time": "2023-09-17T16:55:13.505Z"
   },
   {
    "duration": 290,
    "start_time": "2023-09-17T16:55:13.740Z"
   },
   {
    "duration": 156,
    "start_time": "2023-09-17T16:55:14.032Z"
   },
   {
    "duration": 148,
    "start_time": "2023-09-17T16:55:14.189Z"
   },
   {
    "duration": 5,
    "start_time": "2023-09-17T16:55:14.339Z"
   },
   {
    "duration": 285,
    "start_time": "2023-09-17T16:55:14.345Z"
   },
   {
    "duration": 179,
    "start_time": "2023-09-17T16:55:14.633Z"
   },
   {
    "duration": 155,
    "start_time": "2023-09-17T16:55:14.814Z"
   },
   {
    "duration": 4,
    "start_time": "2023-09-17T16:55:14.971Z"
   },
   {
    "duration": 3,
    "start_time": "2023-09-17T16:55:58.346Z"
   },
   {
    "duration": 1283,
    "start_time": "2023-09-17T16:56:03.770Z"
   },
   {
    "duration": 76,
    "start_time": "2023-09-17T16:56:05.055Z"
   },
   {
    "duration": 21,
    "start_time": "2023-09-17T16:56:05.133Z"
   },
   {
    "duration": 31,
    "start_time": "2023-09-17T16:56:05.156Z"
   },
   {
    "duration": 21,
    "start_time": "2023-09-17T16:56:05.189Z"
   },
   {
    "duration": 25,
    "start_time": "2023-09-17T16:56:05.212Z"
   },
   {
    "duration": 18,
    "start_time": "2023-09-17T16:56:05.238Z"
   },
   {
    "duration": 23,
    "start_time": "2023-09-17T16:56:05.257Z"
   },
   {
    "duration": 9,
    "start_time": "2023-09-17T16:56:05.282Z"
   },
   {
    "duration": 34,
    "start_time": "2023-09-17T16:56:05.293Z"
   },
   {
    "duration": 17,
    "start_time": "2023-09-17T16:56:05.329Z"
   },
   {
    "duration": 10,
    "start_time": "2023-09-17T16:56:05.348Z"
   },
   {
    "duration": 24,
    "start_time": "2023-09-17T16:56:05.359Z"
   },
   {
    "duration": 11,
    "start_time": "2023-09-17T16:56:05.386Z"
   },
   {
    "duration": 41,
    "start_time": "2023-09-17T16:56:05.399Z"
   },
   {
    "duration": 222,
    "start_time": "2023-09-17T16:56:05.442Z"
   },
   {
    "duration": 147,
    "start_time": "2023-09-17T16:56:05.666Z"
   },
   {
    "duration": 7,
    "start_time": "2023-09-17T16:56:05.815Z"
   },
   {
    "duration": 49,
    "start_time": "2023-09-17T16:56:05.824Z"
   },
   {
    "duration": 314,
    "start_time": "2023-09-17T16:56:05.874Z"
   },
   {
    "duration": 205,
    "start_time": "2023-09-17T16:56:06.190Z"
   },
   {
    "duration": 319,
    "start_time": "2023-09-17T16:56:06.397Z"
   },
   {
    "duration": 247,
    "start_time": "2023-09-17T16:56:06.717Z"
   },
   {
    "duration": 330,
    "start_time": "2023-09-17T16:56:06.966Z"
   },
   {
    "duration": 148,
    "start_time": "2023-09-17T16:56:07.301Z"
   },
   {
    "duration": 138,
    "start_time": "2023-09-17T16:56:07.451Z"
   },
   {
    "duration": 11,
    "start_time": "2023-09-17T16:56:07.591Z"
   },
   {
    "duration": 249,
    "start_time": "2023-09-17T16:56:07.603Z"
   },
   {
    "duration": 142,
    "start_time": "2023-09-17T16:56:07.854Z"
   },
   {
    "duration": 163,
    "start_time": "2023-09-17T16:56:07.998Z"
   },
   {
    "duration": 5,
    "start_time": "2023-09-17T16:56:08.163Z"
   },
   {
    "duration": 6,
    "start_time": "2023-09-17T16:58:31.818Z"
   },
   {
    "duration": 124,
    "start_time": "2023-09-17T16:58:46.805Z"
   },
   {
    "duration": 6,
    "start_time": "2023-09-17T17:00:36.101Z"
   },
   {
    "duration": 8,
    "start_time": "2023-09-17T17:00:48.358Z"
   },
   {
    "duration": 10,
    "start_time": "2023-09-17T17:01:16.232Z"
   },
   {
    "duration": 12,
    "start_time": "2023-09-17T17:01:24.369Z"
   },
   {
    "duration": 16,
    "start_time": "2023-09-17T17:01:34.617Z"
   },
   {
    "duration": 9,
    "start_time": "2023-09-17T17:01:54.153Z"
   },
   {
    "duration": 157,
    "start_time": "2023-09-17T17:05:20.557Z"
   },
   {
    "duration": 175,
    "start_time": "2023-09-17T17:09:05.589Z"
   },
   {
    "duration": 1330,
    "start_time": "2023-09-17T17:10:04.923Z"
   },
   {
    "duration": 78,
    "start_time": "2023-09-17T17:10:06.255Z"
   },
   {
    "duration": 143,
    "start_time": "2023-09-17T17:10:06.335Z"
   },
   {
    "duration": 48,
    "start_time": "2023-09-17T17:10:06.480Z"
   },
   {
    "duration": 12,
    "start_time": "2023-09-17T17:10:06.531Z"
   },
   {
    "duration": 56,
    "start_time": "2023-09-17T17:10:06.545Z"
   },
   {
    "duration": 53,
    "start_time": "2023-09-17T17:10:06.603Z"
   },
   {
    "duration": 35,
    "start_time": "2023-09-17T17:10:06.658Z"
   },
   {
    "duration": 37,
    "start_time": "2023-09-17T17:10:06.694Z"
   },
   {
    "duration": 161,
    "start_time": "2023-09-17T17:10:06.733Z"
   },
   {
    "duration": 36,
    "start_time": "2023-09-17T17:10:06.896Z"
   },
   {
    "duration": 62,
    "start_time": "2023-09-17T17:10:06.934Z"
   },
   {
    "duration": 41,
    "start_time": "2023-09-17T17:10:06.998Z"
   },
   {
    "duration": 34,
    "start_time": "2023-09-17T17:10:07.043Z"
   },
   {
    "duration": 13,
    "start_time": "2023-09-17T17:10:07.079Z"
   },
   {
    "duration": 254,
    "start_time": "2023-09-17T17:10:07.094Z"
   },
   {
    "duration": 152,
    "start_time": "2023-09-17T17:10:07.350Z"
   },
   {
    "duration": 50,
    "start_time": "2023-09-17T17:10:07.505Z"
   },
   {
    "duration": 16,
    "start_time": "2023-09-17T17:10:07.557Z"
   },
   {
    "duration": 320,
    "start_time": "2023-09-17T17:10:07.575Z"
   },
   {
    "duration": 240,
    "start_time": "2023-09-17T17:10:07.897Z"
   },
   {
    "duration": 325,
    "start_time": "2023-09-17T17:10:08.139Z"
   },
   {
    "duration": 278,
    "start_time": "2023-09-17T17:10:08.465Z"
   },
   {
    "duration": 314,
    "start_time": "2023-09-17T17:10:08.745Z"
   },
   {
    "duration": 183,
    "start_time": "2023-09-17T17:10:09.060Z"
   },
   {
    "duration": 142,
    "start_time": "2023-09-17T17:10:09.244Z"
   },
   {
    "duration": 16,
    "start_time": "2023-09-17T17:10:09.387Z"
   },
   {
    "duration": 291,
    "start_time": "2023-09-17T17:10:09.406Z"
   },
   {
    "duration": 11,
    "start_time": "2023-09-17T17:10:09.701Z"
   },
   {
    "duration": 162,
    "start_time": "2023-09-17T17:10:09.714Z"
   },
   {
    "duration": 169,
    "start_time": "2023-09-17T17:10:09.878Z"
   },
   {
    "duration": 5,
    "start_time": "2023-09-17T17:10:10.049Z"
   },
   {
    "duration": 236,
    "start_time": "2023-09-17T19:10:27.498Z"
   },
   {
    "duration": 238,
    "start_time": "2023-09-17T19:10:34.187Z"
   },
   {
    "duration": 157,
    "start_time": "2023-09-17T19:10:52.030Z"
   },
   {
    "duration": 7,
    "start_time": "2023-09-17T19:11:09.354Z"
   },
   {
    "duration": 4,
    "start_time": "2023-09-17T19:11:31.348Z"
   },
   {
    "duration": 37,
    "start_time": "2023-09-17T19:11:41.599Z"
   },
   {
    "duration": 9,
    "start_time": "2023-09-17T19:13:10.908Z"
   },
   {
    "duration": 14,
    "start_time": "2023-09-17T19:13:43.758Z"
   },
   {
    "duration": 9,
    "start_time": "2023-09-17T19:13:57.199Z"
   },
   {
    "duration": 27,
    "start_time": "2023-09-17T19:14:09.580Z"
   },
   {
    "duration": 10,
    "start_time": "2023-09-17T19:14:20.485Z"
   },
   {
    "duration": 1255,
    "start_time": "2023-09-17T19:14:38.377Z"
   },
   {
    "duration": 75,
    "start_time": "2023-09-17T19:14:39.634Z"
   },
   {
    "duration": 35,
    "start_time": "2023-09-17T19:14:39.710Z"
   },
   {
    "duration": 35,
    "start_time": "2023-09-17T19:14:39.746Z"
   },
   {
    "duration": 12,
    "start_time": "2023-09-17T19:14:39.783Z"
   },
   {
    "duration": 19,
    "start_time": "2023-09-17T19:14:39.796Z"
   },
   {
    "duration": 29,
    "start_time": "2023-09-17T19:14:39.817Z"
   },
   {
    "duration": 24,
    "start_time": "2023-09-17T19:14:39.848Z"
   },
   {
    "duration": 11,
    "start_time": "2023-09-17T19:14:39.874Z"
   },
   {
    "duration": 16,
    "start_time": "2023-09-17T19:14:39.888Z"
   },
   {
    "duration": 20,
    "start_time": "2023-09-17T19:14:39.906Z"
   },
   {
    "duration": 18,
    "start_time": "2023-09-17T19:14:39.928Z"
   },
   {
    "duration": 20,
    "start_time": "2023-09-17T19:14:39.948Z"
   },
   {
    "duration": 10,
    "start_time": "2023-09-17T19:14:39.972Z"
   },
   {
    "duration": 20,
    "start_time": "2023-09-17T19:14:39.984Z"
   },
   {
    "duration": 190,
    "start_time": "2023-09-17T19:14:40.006Z"
   },
   {
    "duration": 132,
    "start_time": "2023-09-17T19:14:40.202Z"
   },
   {
    "duration": 5,
    "start_time": "2023-09-17T19:14:40.336Z"
   },
   {
    "duration": 25,
    "start_time": "2023-09-17T19:14:40.343Z"
   },
   {
    "duration": 291,
    "start_time": "2023-09-17T19:14:40.370Z"
   },
   {
    "duration": 197,
    "start_time": "2023-09-17T19:14:40.662Z"
   },
   {
    "duration": 343,
    "start_time": "2023-09-17T19:14:40.860Z"
   },
   {
    "duration": 234,
    "start_time": "2023-09-17T19:14:41.205Z"
   },
   {
    "duration": 278,
    "start_time": "2023-09-17T19:14:41.441Z"
   },
   {
    "duration": 142,
    "start_time": "2023-09-17T19:14:41.721Z"
   },
   {
    "duration": 129,
    "start_time": "2023-09-17T19:14:41.865Z"
   },
   {
    "duration": 5,
    "start_time": "2023-09-17T19:14:42.000Z"
   },
   {
    "duration": 239,
    "start_time": "2023-09-17T19:14:42.006Z"
   },
   {
    "duration": 9,
    "start_time": "2023-09-17T19:14:42.246Z"
   },
   {
    "duration": 158,
    "start_time": "2023-09-17T19:14:42.256Z"
   },
   {
    "duration": 142,
    "start_time": "2023-09-17T19:14:42.415Z"
   },
   {
    "duration": 145,
    "start_time": "2023-09-17T19:14:42.558Z"
   },
   {
    "duration": 274,
    "start_time": "2023-09-17T19:14:42.705Z"
   },
   {
    "duration": 149,
    "start_time": "2023-09-17T19:14:42.981Z"
   },
   {
    "duration": 8,
    "start_time": "2023-09-17T19:14:43.132Z"
   },
   {
    "duration": 8,
    "start_time": "2023-09-17T19:14:43.142Z"
   },
   {
    "duration": 32,
    "start_time": "2023-09-17T19:14:43.151Z"
   },
   {
    "duration": 11,
    "start_time": "2023-09-17T19:14:43.200Z"
   },
   {
    "duration": 26,
    "start_time": "2023-09-17T19:14:43.213Z"
   },
   {
    "duration": 100,
    "start_time": "2023-09-17T19:14:43.242Z"
   },
   {
    "duration": 39,
    "start_time": "2023-09-17T19:14:43.347Z"
   },
   {
    "duration": 12,
    "start_time": "2023-09-17T19:14:43.388Z"
   },
   {
    "duration": 1176,
    "start_time": "2023-09-18T10:21:17.842Z"
   },
   {
    "duration": 78,
    "start_time": "2023-09-18T10:21:19.020Z"
   },
   {
    "duration": 21,
    "start_time": "2023-09-18T10:21:19.099Z"
   },
   {
    "duration": 69,
    "start_time": "2023-09-18T10:21:19.122Z"
   },
   {
    "duration": 36,
    "start_time": "2023-09-18T10:21:19.192Z"
   },
   {
    "duration": 51,
    "start_time": "2023-09-18T10:21:19.230Z"
   },
   {
    "duration": 58,
    "start_time": "2023-09-18T10:21:19.283Z"
   },
   {
    "duration": 19,
    "start_time": "2023-09-18T10:21:19.343Z"
   },
   {
    "duration": 29,
    "start_time": "2023-09-18T10:21:19.364Z"
   },
   {
    "duration": 38,
    "start_time": "2023-09-18T10:21:19.396Z"
   },
   {
    "duration": 36,
    "start_time": "2023-09-18T10:21:19.436Z"
   },
   {
    "duration": 30,
    "start_time": "2023-09-18T10:21:19.473Z"
   },
   {
    "duration": 24,
    "start_time": "2023-09-18T10:21:19.505Z"
   },
   {
    "duration": 37,
    "start_time": "2023-09-18T10:21:19.530Z"
   },
   {
    "duration": 34,
    "start_time": "2023-09-18T10:21:19.569Z"
   },
   {
    "duration": 198,
    "start_time": "2023-09-18T10:21:19.605Z"
   },
   {
    "duration": 136,
    "start_time": "2023-09-18T10:21:19.805Z"
   },
   {
    "duration": 6,
    "start_time": "2023-09-18T10:21:19.943Z"
   },
   {
    "duration": 36,
    "start_time": "2023-09-18T10:21:19.951Z"
   },
   {
    "duration": 329,
    "start_time": "2023-09-18T10:21:19.989Z"
   },
   {
    "duration": 206,
    "start_time": "2023-09-18T10:21:20.320Z"
   },
   {
    "duration": 310,
    "start_time": "2023-09-18T10:21:20.528Z"
   },
   {
    "duration": 230,
    "start_time": "2023-09-18T10:21:20.840Z"
   },
   {
    "duration": 318,
    "start_time": "2023-09-18T10:21:21.072Z"
   },
   {
    "duration": 154,
    "start_time": "2023-09-18T10:21:21.392Z"
   },
   {
    "duration": 224,
    "start_time": "2023-09-18T10:21:21.548Z"
   },
   {
    "duration": 6,
    "start_time": "2023-09-18T10:21:21.774Z"
   },
   {
    "duration": 272,
    "start_time": "2023-09-18T10:21:21.784Z"
   },
   {
    "duration": 10,
    "start_time": "2023-09-18T10:21:22.059Z"
   },
   {
    "duration": 164,
    "start_time": "2023-09-18T10:21:22.070Z"
   },
   {
    "duration": 148,
    "start_time": "2023-09-18T10:21:22.236Z"
   },
   {
    "duration": 5,
    "start_time": "2023-09-18T10:21:22.385Z"
   },
   {
    "duration": 267,
    "start_time": "2023-09-18T10:21:22.392Z"
   },
   {
    "duration": 154,
    "start_time": "2023-09-18T10:21:22.661Z"
   },
   {
    "duration": 7,
    "start_time": "2023-09-18T10:21:22.817Z"
   },
   {
    "duration": 29,
    "start_time": "2023-09-18T10:21:22.826Z"
   },
   {
    "duration": 41,
    "start_time": "2023-09-18T10:21:22.857Z"
   },
   {
    "duration": 8,
    "start_time": "2023-09-18T10:21:22.900Z"
   },
   {
    "duration": 16,
    "start_time": "2023-09-18T10:21:22.910Z"
   },
   {
    "duration": 8,
    "start_time": "2023-09-18T10:21:22.928Z"
   },
   {
    "duration": 38,
    "start_time": "2023-09-18T10:21:22.937Z"
   },
   {
    "duration": 25,
    "start_time": "2023-09-18T10:21:22.976Z"
   },
   {
    "duration": 86,
    "start_time": "2023-09-18T10:35:19.363Z"
   },
   {
    "duration": 7,
    "start_time": "2023-09-18T11:02:34.618Z"
   },
   {
    "duration": 4,
    "start_time": "2023-09-18T11:02:40.019Z"
   },
   {
    "duration": 25,
    "start_time": "2023-09-18T11:02:43.620Z"
   },
   {
    "duration": 9,
    "start_time": "2023-09-18T11:04:39.228Z"
   },
   {
    "duration": 1398,
    "start_time": "2023-09-18T11:44:18.245Z"
   },
   {
    "duration": 77,
    "start_time": "2023-09-18T11:44:19.646Z"
   },
   {
    "duration": 29,
    "start_time": "2023-09-18T11:44:19.725Z"
   },
   {
    "duration": 23,
    "start_time": "2023-09-18T11:44:19.756Z"
   },
   {
    "duration": 24,
    "start_time": "2023-09-18T11:44:19.782Z"
   },
   {
    "duration": 21,
    "start_time": "2023-09-18T11:44:19.809Z"
   },
   {
    "duration": 17,
    "start_time": "2023-09-18T11:44:19.831Z"
   },
   {
    "duration": 26,
    "start_time": "2023-09-18T11:44:19.850Z"
   },
   {
    "duration": 12,
    "start_time": "2023-09-18T11:44:19.877Z"
   },
   {
    "duration": 28,
    "start_time": "2023-09-18T11:44:19.891Z"
   },
   {
    "duration": 35,
    "start_time": "2023-09-18T11:44:19.921Z"
   },
   {
    "duration": 15,
    "start_time": "2023-09-18T11:44:19.959Z"
   },
   {
    "duration": 25,
    "start_time": "2023-09-18T11:44:19.976Z"
   },
   {
    "duration": 31,
    "start_time": "2023-09-18T11:44:20.005Z"
   },
   {
    "duration": 26,
    "start_time": "2023-09-18T11:44:20.038Z"
   },
   {
    "duration": 226,
    "start_time": "2023-09-18T11:44:20.066Z"
   },
   {
    "duration": 160,
    "start_time": "2023-09-18T11:44:20.294Z"
   },
   {
    "duration": 8,
    "start_time": "2023-09-18T11:44:20.456Z"
   },
   {
    "duration": 134,
    "start_time": "2023-09-18T11:44:20.466Z"
   },
   {
    "duration": 361,
    "start_time": "2023-09-18T11:44:20.602Z"
   },
   {
    "duration": 218,
    "start_time": "2023-09-18T11:44:20.965Z"
   },
   {
    "duration": 358,
    "start_time": "2023-09-18T11:44:21.185Z"
   },
   {
    "duration": 242,
    "start_time": "2023-09-18T11:44:21.545Z"
   },
   {
    "duration": 331,
    "start_time": "2023-09-18T11:44:21.789Z"
   },
   {
    "duration": 155,
    "start_time": "2023-09-18T11:44:22.122Z"
   },
   {
    "duration": 138,
    "start_time": "2023-09-18T11:44:22.279Z"
   },
   {
    "duration": 5,
    "start_time": "2023-09-18T11:44:22.419Z"
   },
   {
    "duration": 363,
    "start_time": "2023-09-18T11:44:22.426Z"
   },
   {
    "duration": 18,
    "start_time": "2023-09-18T11:44:22.791Z"
   },
   {
    "duration": 168,
    "start_time": "2023-09-18T11:44:22.811Z"
   },
   {
    "duration": 149,
    "start_time": "2023-09-18T11:44:22.981Z"
   },
   {
    "duration": 6,
    "start_time": "2023-09-18T11:44:23.131Z"
   },
   {
    "duration": 269,
    "start_time": "2023-09-18T11:44:23.140Z"
   },
   {
    "duration": 159,
    "start_time": "2023-09-18T11:44:23.412Z"
   },
   {
    "duration": 7,
    "start_time": "2023-09-18T11:44:23.572Z"
   },
   {
    "duration": 20,
    "start_time": "2023-09-18T11:44:23.581Z"
   },
   {
    "duration": 43,
    "start_time": "2023-09-18T11:44:23.603Z"
   },
   {
    "duration": 9,
    "start_time": "2023-09-18T11:44:23.648Z"
   },
   {
    "duration": 31,
    "start_time": "2023-09-18T11:44:23.659Z"
   },
   {
    "duration": 15,
    "start_time": "2023-09-18T11:44:23.692Z"
   },
   {
    "duration": 35,
    "start_time": "2023-09-18T11:44:23.711Z"
   },
   {
    "duration": 18,
    "start_time": "2023-09-18T11:44:23.747Z"
   },
   {
    "duration": 1542,
    "start_time": "2023-09-18T15:52:38.255Z"
   },
   {
    "duration": 13,
    "start_time": "2023-09-18T15:53:37.641Z"
   },
   {
    "duration": 4,
    "start_time": "2023-09-18T15:53:47.745Z"
   },
   {
    "duration": 184,
    "start_time": "2023-09-18T15:53:50.974Z"
   },
   {
    "duration": 21,
    "start_time": "2023-09-18T15:53:54.024Z"
   },
   {
    "duration": 1264,
    "start_time": "2023-09-18T16:04:55.173Z"
   },
   {
    "duration": 75,
    "start_time": "2023-09-18T16:04:56.440Z"
   },
   {
    "duration": 167,
    "start_time": "2023-09-18T16:04:56.517Z"
   },
   {
    "duration": 94,
    "start_time": "2023-09-18T16:04:56.688Z"
   },
   {
    "duration": 31,
    "start_time": "2023-09-18T16:04:56.784Z"
   },
   {
    "duration": 45,
    "start_time": "2023-09-18T16:04:56.817Z"
   },
   {
    "duration": 35,
    "start_time": "2023-09-18T16:04:56.864Z"
   },
   {
    "duration": 20,
    "start_time": "2023-09-18T16:04:56.900Z"
   },
   {
    "duration": 35,
    "start_time": "2023-09-18T16:04:56.922Z"
   },
   {
    "duration": 36,
    "start_time": "2023-09-18T16:04:56.961Z"
   },
   {
    "duration": 46,
    "start_time": "2023-09-18T16:04:56.999Z"
   },
   {
    "duration": 48,
    "start_time": "2023-09-18T16:04:57.047Z"
   },
   {
    "duration": 31,
    "start_time": "2023-09-18T16:04:57.097Z"
   },
   {
    "duration": 14,
    "start_time": "2023-09-18T16:04:57.130Z"
   },
   {
    "duration": 42,
    "start_time": "2023-09-18T16:04:57.145Z"
   },
   {
    "duration": 213,
    "start_time": "2023-09-18T16:04:57.188Z"
   },
   {
    "duration": 145,
    "start_time": "2023-09-18T16:04:57.402Z"
   },
   {
    "duration": 8,
    "start_time": "2023-09-18T16:04:57.549Z"
   },
   {
    "duration": 29,
    "start_time": "2023-09-18T16:04:57.558Z"
   },
   {
    "duration": 330,
    "start_time": "2023-09-18T16:04:57.588Z"
   },
   {
    "duration": 205,
    "start_time": "2023-09-18T16:04:57.919Z"
   },
   {
    "duration": 310,
    "start_time": "2023-09-18T16:04:58.125Z"
   },
   {
    "duration": 253,
    "start_time": "2023-09-18T16:04:58.437Z"
   },
   {
    "duration": 321,
    "start_time": "2023-09-18T16:04:58.692Z"
   },
   {
    "duration": 151,
    "start_time": "2023-09-18T16:04:59.015Z"
   },
   {
    "duration": 128,
    "start_time": "2023-09-18T16:04:59.168Z"
   },
   {
    "duration": 7,
    "start_time": "2023-09-18T16:04:59.297Z"
   },
   {
    "duration": 258,
    "start_time": "2023-09-18T16:04:59.307Z"
   },
   {
    "duration": 13,
    "start_time": "2023-09-18T16:04:59.567Z"
   },
   {
    "duration": 191,
    "start_time": "2023-09-18T16:04:59.583Z"
   },
   {
    "duration": 146,
    "start_time": "2023-09-18T16:04:59.776Z"
   },
   {
    "duration": 50,
    "start_time": "2023-09-18T16:04:59.924Z"
   },
   {
    "duration": 1418,
    "start_time": "2023-09-18T16:04:59.976Z"
   },
   {
    "duration": 964,
    "start_time": "2023-09-18T16:05:01.396Z"
   },
   {
    "duration": 1682,
    "start_time": "2023-09-18T16:05:02.362Z"
   },
   {
    "duration": 48,
    "start_time": "2023-09-18T16:05:04.046Z"
   },
   {
    "duration": 54,
    "start_time": "2023-09-18T16:05:04.095Z"
   },
   {
    "duration": 37,
    "start_time": "2023-09-18T16:05:04.151Z"
   },
   {
    "duration": 53,
    "start_time": "2023-09-18T16:05:04.190Z"
   },
   {
    "duration": 133,
    "start_time": "2023-09-18T16:05:04.246Z"
   },
   {
    "duration": 51,
    "start_time": "2023-09-18T16:05:04.382Z"
   },
   {
    "duration": 20,
    "start_time": "2023-09-18T16:05:04.435Z"
   },
   {
    "duration": 4,
    "start_time": "2023-09-18T16:08:10.256Z"
   },
   {
    "duration": 19,
    "start_time": "2023-09-18T16:08:13.671Z"
   },
   {
    "duration": 5,
    "start_time": "2023-09-18T16:14:10.931Z"
   },
   {
    "duration": 5,
    "start_time": "2023-09-18T16:14:23.030Z"
   },
   {
    "duration": 10,
    "start_time": "2023-09-18T16:14:46.215Z"
   },
   {
    "duration": 3,
    "start_time": "2023-09-18T16:15:01.488Z"
   },
   {
    "duration": 129,
    "start_time": "2023-09-18T16:15:26.600Z"
   },
   {
    "duration": 14,
    "start_time": "2023-09-18T16:15:38.696Z"
   },
   {
    "duration": 8,
    "start_time": "2023-09-18T16:16:33.615Z"
   },
   {
    "duration": 12,
    "start_time": "2023-09-18T16:16:55.518Z"
   },
   {
    "duration": 209,
    "start_time": "2023-09-18T16:19:40.309Z"
   },
   {
    "duration": 192,
    "start_time": "2023-09-18T16:19:49.061Z"
   },
   {
    "duration": 332,
    "start_time": "2023-09-18T16:20:54.780Z"
   },
   {
    "duration": 251,
    "start_time": "2023-09-18T16:21:23.105Z"
   },
   {
    "duration": 325,
    "start_time": "2023-09-18T16:22:47.552Z"
   },
   {
    "duration": 6,
    "start_time": "2023-09-18T16:24:12.359Z"
   },
   {
    "duration": 1238,
    "start_time": "2023-09-18T16:24:16.807Z"
   },
   {
    "duration": 74,
    "start_time": "2023-09-18T16:24:18.048Z"
   },
   {
    "duration": 70,
    "start_time": "2023-09-18T16:24:18.124Z"
   },
   {
    "duration": 113,
    "start_time": "2023-09-18T16:24:18.196Z"
   },
   {
    "duration": 15,
    "start_time": "2023-09-18T16:24:18.310Z"
   },
   {
    "duration": 64,
    "start_time": "2023-09-18T16:24:18.326Z"
   },
   {
    "duration": 36,
    "start_time": "2023-09-18T16:24:18.392Z"
   },
   {
    "duration": 46,
    "start_time": "2023-09-18T16:24:18.430Z"
   },
   {
    "duration": 25,
    "start_time": "2023-09-18T16:24:18.478Z"
   },
   {
    "duration": 17,
    "start_time": "2023-09-18T16:24:18.507Z"
   },
   {
    "duration": 34,
    "start_time": "2023-09-18T16:24:18.526Z"
   },
   {
    "duration": 16,
    "start_time": "2023-09-18T16:24:18.563Z"
   },
   {
    "duration": 13,
    "start_time": "2023-09-18T16:24:18.580Z"
   },
   {
    "duration": 12,
    "start_time": "2023-09-18T16:24:18.595Z"
   },
   {
    "duration": 27,
    "start_time": "2023-09-18T16:24:18.609Z"
   },
   {
    "duration": 198,
    "start_time": "2023-09-18T16:24:18.638Z"
   },
   {
    "duration": 138,
    "start_time": "2023-09-18T16:24:18.837Z"
   },
   {
    "duration": 7,
    "start_time": "2023-09-18T16:24:18.977Z"
   },
   {
    "duration": 43,
    "start_time": "2023-09-18T16:24:18.986Z"
   },
   {
    "duration": 23,
    "start_time": "2023-09-18T16:24:19.030Z"
   },
   {
    "duration": 470,
    "start_time": "2023-09-18T16:24:19.054Z"
   },
   {
    "duration": 404,
    "start_time": "2023-09-18T16:24:19.526Z"
   },
   {
    "duration": 469,
    "start_time": "2023-09-18T16:24:19.933Z"
   },
   {
    "duration": 376,
    "start_time": "2023-09-18T16:24:20.404Z"
   },
   {
    "duration": 493,
    "start_time": "2023-09-18T16:24:20.782Z"
   },
   {
    "duration": 245,
    "start_time": "2023-09-18T16:24:21.276Z"
   },
   {
    "duration": 224,
    "start_time": "2023-09-18T16:24:21.524Z"
   },
   {
    "duration": 5,
    "start_time": "2023-09-18T16:24:21.751Z"
   },
   {
    "duration": 345,
    "start_time": "2023-09-18T16:24:21.758Z"
   },
   {
    "duration": 9,
    "start_time": "2023-09-18T16:24:22.105Z"
   },
   {
    "duration": 239,
    "start_time": "2023-09-18T16:24:22.116Z"
   },
   {
    "duration": 257,
    "start_time": "2023-09-18T16:24:22.357Z"
   },
   {
    "duration": 4,
    "start_time": "2023-09-18T16:24:22.616Z"
   },
   {
    "duration": 249,
    "start_time": "2023-09-18T16:24:22.622Z"
   },
   {
    "duration": 158,
    "start_time": "2023-09-18T16:24:22.873Z"
   },
   {
    "duration": 6,
    "start_time": "2023-09-18T16:24:23.033Z"
   },
   {
    "duration": 14,
    "start_time": "2023-09-18T16:24:23.041Z"
   },
   {
    "duration": 29,
    "start_time": "2023-09-18T16:24:23.057Z"
   },
   {
    "duration": 20,
    "start_time": "2023-09-18T16:24:23.088Z"
   },
   {
    "duration": 12,
    "start_time": "2023-09-18T16:24:23.110Z"
   },
   {
    "duration": 15,
    "start_time": "2023-09-18T16:24:23.123Z"
   },
   {
    "duration": 42,
    "start_time": "2023-09-18T16:24:23.140Z"
   },
   {
    "duration": 18,
    "start_time": "2023-09-18T16:24:23.183Z"
   },
   {
    "duration": 5,
    "start_time": "2023-09-18T16:24:43.203Z"
   },
   {
    "duration": 328,
    "start_time": "2023-09-18T16:24:49.675Z"
   },
   {
    "duration": 5,
    "start_time": "2023-09-18T16:25:05.826Z"
   },
   {
    "duration": 295,
    "start_time": "2023-09-18T16:25:11.560Z"
   },
   {
    "duration": 427,
    "start_time": "2023-09-18T16:25:25.407Z"
   },
   {
    "duration": 1482,
    "start_time": "2023-09-18T16:25:39.321Z"
   },
   {
    "duration": 78,
    "start_time": "2023-09-18T16:25:40.805Z"
   },
   {
    "duration": 21,
    "start_time": "2023-09-18T16:25:40.885Z"
   },
   {
    "duration": 45,
    "start_time": "2023-09-18T16:25:40.908Z"
   },
   {
    "duration": 61,
    "start_time": "2023-09-18T16:25:40.955Z"
   },
   {
    "duration": 40,
    "start_time": "2023-09-18T16:25:41.018Z"
   },
   {
    "duration": 36,
    "start_time": "2023-09-18T16:25:41.059Z"
   },
   {
    "duration": 23,
    "start_time": "2023-09-18T16:25:41.097Z"
   },
   {
    "duration": 35,
    "start_time": "2023-09-18T16:25:41.121Z"
   },
   {
    "duration": 25,
    "start_time": "2023-09-18T16:25:41.159Z"
   },
   {
    "duration": 34,
    "start_time": "2023-09-18T16:25:41.186Z"
   },
   {
    "duration": 41,
    "start_time": "2023-09-18T16:25:41.222Z"
   },
   {
    "duration": 33,
    "start_time": "2023-09-18T16:25:41.266Z"
   },
   {
    "duration": 61,
    "start_time": "2023-09-18T16:25:41.301Z"
   },
   {
    "duration": 53,
    "start_time": "2023-09-18T16:25:41.364Z"
   },
   {
    "duration": 213,
    "start_time": "2023-09-18T16:25:41.418Z"
   },
   {
    "duration": 151,
    "start_time": "2023-09-18T16:25:41.633Z"
   },
   {
    "duration": 20,
    "start_time": "2023-09-18T16:25:41.786Z"
   },
   {
    "duration": 57,
    "start_time": "2023-09-18T16:25:41.808Z"
   },
   {
    "duration": 68,
    "start_time": "2023-09-18T16:25:41.867Z"
   },
   {
    "duration": 435,
    "start_time": "2023-09-18T16:25:41.937Z"
   },
   {
    "duration": 330,
    "start_time": "2023-09-18T16:25:42.374Z"
   },
   {
    "duration": 416,
    "start_time": "2023-09-18T16:25:42.706Z"
   },
   {
    "duration": 351,
    "start_time": "2023-09-18T16:25:43.123Z"
   },
   {
    "duration": 456,
    "start_time": "2023-09-18T16:25:43.477Z"
   },
   {
    "duration": 208,
    "start_time": "2023-09-18T16:25:43.935Z"
   },
   {
    "duration": 191,
    "start_time": "2023-09-18T16:25:44.145Z"
   },
   {
    "duration": 5,
    "start_time": "2023-09-18T16:25:44.340Z"
   },
   {
    "duration": 413,
    "start_time": "2023-09-18T16:25:44.347Z"
   },
   {
    "duration": 12,
    "start_time": "2023-09-18T16:25:44.762Z"
   },
   {
    "duration": 229,
    "start_time": "2023-09-18T16:25:44.776Z"
   },
   {
    "duration": 205,
    "start_time": "2023-09-18T16:25:45.007Z"
   },
   {
    "duration": 5,
    "start_time": "2023-09-18T16:25:45.213Z"
   },
   {
    "duration": 264,
    "start_time": "2023-09-18T16:25:45.219Z"
   },
   {
    "duration": 141,
    "start_time": "2023-09-18T16:25:45.485Z"
   },
   {
    "duration": 7,
    "start_time": "2023-09-18T16:25:45.627Z"
   },
   {
    "duration": 77,
    "start_time": "2023-09-18T16:25:45.635Z"
   },
   {
    "duration": 53,
    "start_time": "2023-09-18T16:25:45.714Z"
   },
   {
    "duration": 11,
    "start_time": "2023-09-18T16:25:45.769Z"
   },
   {
    "duration": 29,
    "start_time": "2023-09-18T16:25:45.782Z"
   },
   {
    "duration": 42,
    "start_time": "2023-09-18T16:25:45.813Z"
   },
   {
    "duration": 49,
    "start_time": "2023-09-18T16:25:45.857Z"
   },
   {
    "duration": 40,
    "start_time": "2023-09-18T16:25:45.908Z"
   },
   {
    "duration": 195,
    "start_time": "2023-09-18T16:28:01.646Z"
   },
   {
    "duration": 212,
    "start_time": "2023-09-18T16:28:39.792Z"
   },
   {
    "duration": 207,
    "start_time": "2023-09-18T16:28:51.816Z"
   },
   {
    "duration": 1264,
    "start_time": "2023-09-18T16:30:08.576Z"
   },
   {
    "duration": 76,
    "start_time": "2023-09-18T16:30:09.842Z"
   },
   {
    "duration": 7454,
    "start_time": "2023-09-18T16:30:09.920Z"
   },
   {
    "duration": 46,
    "start_time": "2023-09-18T16:30:17.376Z"
   },
   {
    "duration": 134,
    "start_time": "2023-09-18T16:30:17.425Z"
   },
   {
    "duration": 65,
    "start_time": "2023-09-18T16:30:17.561Z"
   },
   {
    "duration": 68,
    "start_time": "2023-09-18T16:30:17.628Z"
   },
   {
    "duration": 27,
    "start_time": "2023-09-18T16:30:17.698Z"
   },
   {
    "duration": 25,
    "start_time": "2023-09-18T16:30:17.727Z"
   },
   {
    "duration": 51,
    "start_time": "2023-09-18T16:30:17.754Z"
   },
   {
    "duration": 49,
    "start_time": "2023-09-18T16:30:17.807Z"
   },
   {
    "duration": 45,
    "start_time": "2023-09-18T16:30:17.858Z"
   },
   {
    "duration": 41,
    "start_time": "2023-09-18T16:30:17.905Z"
   },
   {
    "duration": 38,
    "start_time": "2023-09-18T16:30:17.949Z"
   },
   {
    "duration": 59,
    "start_time": "2023-09-18T16:30:17.989Z"
   },
   {
    "duration": 224,
    "start_time": "2023-09-18T16:30:18.049Z"
   },
   {
    "duration": 147,
    "start_time": "2023-09-18T16:30:18.275Z"
   },
   {
    "duration": 7,
    "start_time": "2023-09-18T16:30:18.424Z"
   },
   {
    "duration": 99,
    "start_time": "2023-09-18T16:30:18.432Z"
   },
   {
    "duration": 28,
    "start_time": "2023-09-18T16:30:18.533Z"
   },
   {
    "duration": 414,
    "start_time": "2023-09-18T16:30:18.563Z"
   },
   {
    "duration": 304,
    "start_time": "2023-09-18T16:30:18.979Z"
   },
   {
    "duration": 454,
    "start_time": "2023-09-18T16:30:19.286Z"
   },
   {
    "duration": 356,
    "start_time": "2023-09-18T16:30:19.742Z"
   },
   {
    "duration": 437,
    "start_time": "2023-09-18T16:30:20.101Z"
   },
   {
    "duration": 215,
    "start_time": "2023-09-18T16:30:20.540Z"
   },
   {
    "duration": 188,
    "start_time": "2023-09-18T16:30:20.756Z"
   },
   {
    "duration": 5,
    "start_time": "2023-09-18T16:30:20.946Z"
   },
   {
    "duration": 320,
    "start_time": "2023-09-18T16:30:20.952Z"
   },
   {
    "duration": 10,
    "start_time": "2023-09-18T16:30:21.273Z"
   },
   {
    "duration": 202,
    "start_time": "2023-09-18T16:30:21.302Z"
   },
   {
    "duration": 226,
    "start_time": "2023-09-18T16:30:21.506Z"
   },
   {
    "duration": 6,
    "start_time": "2023-09-18T16:30:21.734Z"
   },
   {
    "duration": 261,
    "start_time": "2023-09-18T16:30:21.741Z"
   },
   {
    "duration": 156,
    "start_time": "2023-09-18T16:30:22.004Z"
   },
   {
    "duration": 7,
    "start_time": "2023-09-18T16:30:22.162Z"
   },
   {
    "duration": 12,
    "start_time": "2023-09-18T16:30:22.170Z"
   },
   {
    "duration": 38,
    "start_time": "2023-09-18T16:30:22.184Z"
   },
   {
    "duration": 9,
    "start_time": "2023-09-18T16:30:22.224Z"
   },
   {
    "duration": 33,
    "start_time": "2023-09-18T16:30:22.235Z"
   },
   {
    "duration": 39,
    "start_time": "2023-09-18T16:30:22.272Z"
   },
   {
    "duration": 51,
    "start_time": "2023-09-18T16:30:22.312Z"
   },
   {
    "duration": 11,
    "start_time": "2023-09-18T16:30:22.365Z"
   },
   {
    "duration": 5,
    "start_time": "2023-09-18T17:08:03.930Z"
   },
   {
    "duration": 4,
    "start_time": "2023-09-18T17:08:46.770Z"
   },
   {
    "duration": 7,
    "start_time": "2023-09-18T17:09:16.705Z"
   },
   {
    "duration": 4,
    "start_time": "2023-09-18T17:11:09.073Z"
   },
   {
    "duration": 95,
    "start_time": "2023-09-18T17:12:31.729Z"
   },
   {
    "duration": 114,
    "start_time": "2023-09-18T17:12:49.400Z"
   },
   {
    "duration": 13,
    "start_time": "2023-09-18T17:13:05.299Z"
   },
   {
    "duration": 1397,
    "start_time": "2023-09-18T17:13:54.914Z"
   },
   {
    "duration": 20,
    "start_time": "2023-09-18T17:14:58.876Z"
   },
   {
    "duration": 1306,
    "start_time": "2023-09-18T17:22:33.180Z"
   },
   {
    "duration": 79,
    "start_time": "2023-09-18T17:22:34.488Z"
   },
   {
    "duration": 31,
    "start_time": "2023-09-18T17:22:34.569Z"
   },
   {
    "duration": 26,
    "start_time": "2023-09-18T17:22:34.603Z"
   },
   {
    "duration": 12,
    "start_time": "2023-09-18T17:22:34.633Z"
   },
   {
    "duration": 55,
    "start_time": "2023-09-18T17:22:34.647Z"
   },
   {
    "duration": 11,
    "start_time": "2023-09-18T17:22:34.704Z"
   },
   {
    "duration": 6,
    "start_time": "2023-09-18T17:22:34.717Z"
   },
   {
    "duration": 8,
    "start_time": "2023-09-18T17:22:34.725Z"
   },
   {
    "duration": 18,
    "start_time": "2023-09-18T17:22:34.735Z"
   },
   {
    "duration": 46,
    "start_time": "2023-09-18T17:22:34.755Z"
   },
   {
    "duration": 23,
    "start_time": "2023-09-18T17:22:34.803Z"
   },
   {
    "duration": 15,
    "start_time": "2023-09-18T17:22:34.827Z"
   },
   {
    "duration": 16,
    "start_time": "2023-09-18T17:22:34.847Z"
   },
   {
    "duration": 29,
    "start_time": "2023-09-18T17:22:34.865Z"
   },
   {
    "duration": 20,
    "start_time": "2023-09-18T17:22:34.895Z"
   },
   {
    "duration": 29,
    "start_time": "2023-09-18T17:22:34.917Z"
   },
   {
    "duration": 214,
    "start_time": "2023-09-18T17:22:34.948Z"
   },
   {
    "duration": 128,
    "start_time": "2023-09-18T17:22:35.164Z"
   },
   {
    "duration": 11,
    "start_time": "2023-09-18T17:22:35.294Z"
   },
   {
    "duration": 41,
    "start_time": "2023-09-18T17:22:35.307Z"
   },
   {
    "duration": 42,
    "start_time": "2023-09-18T17:22:35.350Z"
   },
   {
    "duration": 386,
    "start_time": "2023-09-18T17:22:35.394Z"
   },
   {
    "duration": 309,
    "start_time": "2023-09-18T17:22:35.781Z"
   },
   {
    "duration": 427,
    "start_time": "2023-09-18T17:22:36.092Z"
   },
   {
    "duration": 369,
    "start_time": "2023-09-18T17:22:36.521Z"
   },
   {
    "duration": 433,
    "start_time": "2023-09-18T17:22:36.893Z"
   },
   {
    "duration": 196,
    "start_time": "2023-09-18T17:22:37.328Z"
   },
   {
    "duration": 186,
    "start_time": "2023-09-18T17:22:37.525Z"
   },
   {
    "duration": 5,
    "start_time": "2023-09-18T17:22:37.713Z"
   },
   {
    "duration": 320,
    "start_time": "2023-09-18T17:22:37.720Z"
   },
   {
    "duration": 11,
    "start_time": "2023-09-18T17:22:38.042Z"
   },
   {
    "duration": 226,
    "start_time": "2023-09-18T17:22:38.055Z"
   },
   {
    "duration": 211,
    "start_time": "2023-09-18T17:22:38.283Z"
   },
   {
    "duration": 9,
    "start_time": "2023-09-18T17:22:38.496Z"
   },
   {
    "duration": 308,
    "start_time": "2023-09-18T17:22:38.507Z"
   },
   {
    "duration": 155,
    "start_time": "2023-09-18T17:22:38.817Z"
   },
   {
    "duration": 8,
    "start_time": "2023-09-18T17:22:38.974Z"
   },
   {
    "duration": 27,
    "start_time": "2023-09-18T17:22:38.984Z"
   },
   {
    "duration": 76,
    "start_time": "2023-09-18T17:22:39.013Z"
   },
   {
    "duration": 103,
    "start_time": "2023-09-18T17:22:39.094Z"
   },
   {
    "duration": 28,
    "start_time": "2023-09-18T17:22:39.201Z"
   },
   {
    "duration": 29,
    "start_time": "2023-09-18T17:22:39.232Z"
   },
   {
    "duration": 56,
    "start_time": "2023-09-18T17:22:39.263Z"
   },
   {
    "duration": 15,
    "start_time": "2023-09-18T17:22:39.321Z"
   }
  ],
  "kernelspec": {
   "display_name": "Python 3 (ipykernel)",
   "language": "python",
   "name": "python3"
  },
  "language_info": {
   "codemirror_mode": {
    "name": "ipython",
    "version": 3
   },
   "file_extension": ".py",
   "mimetype": "text/x-python",
   "name": "python",
   "nbconvert_exporter": "python",
   "pygments_lexer": "ipython3",
   "version": "3.10.9"
  },
  "toc": {
   "base_numbering": 1,
   "nav_menu": {},
   "number_sections": true,
   "sideBar": true,
   "skip_h1_title": true,
   "title_cell": "Table of Contents",
   "title_sidebar": "Contents",
   "toc_cell": false,
   "toc_position": {},
   "toc_section_display": true,
   "toc_window_display": false
  }
 },
 "nbformat": 4,
 "nbformat_minor": 2
}
